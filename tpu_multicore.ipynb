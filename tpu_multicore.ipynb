{
  "nbformat": 4,
  "nbformat_minor": 0,
  "metadata": {
    "kernelspec": {
      "display_name": "Python 3",
      "language": "python",
      "name": "python3"
    },
    "language_info": {
      "codemirror_mode": {
        "name": "ipython",
        "version": 3
      },
      "file_extension": ".py",
      "mimetype": "text/x-python",
      "name": "python",
      "nbconvert_exporter": "python",
      "pygments_lexer": "ipython3",
      "version": "3.7.6"
    },
    "toc": {
      "base_numbering": 1,
      "nav_menu": {},
      "number_sections": true,
      "sideBar": true,
      "skip_h1_title": false,
      "title_cell": "Table of Contents",
      "title_sidebar": "Contents",
      "toc_cell": false,
      "toc_position": {},
      "toc_section_display": true,
      "toc_window_display": false
    },
    "varInspector": {
      "cols": {
        "lenName": 16,
        "lenType": 16,
        "lenVar": 40
      },
      "kernels_config": {
        "python": {
          "delete_cmd_postfix": "",
          "delete_cmd_prefix": "del ",
          "library": "var_list.py",
          "varRefreshCmd": "print(var_dic_list())"
        },
        "r": {
          "delete_cmd_postfix": ") ",
          "delete_cmd_prefix": "rm(",
          "library": "var_list.r",
          "varRefreshCmd": "cat(var_dic_list()) "
        }
      },
      "types_to_exclude": [
        "module",
        "function",
        "builtin_function_or_method",
        "instance",
        "_Feature"
      ],
      "window_display": false
    },
    "colab": {
      "name": "multi_tpu.ipynb",
      "provenance": [],
      "collapsed_sections": []
    },
    "accelerator": "TPU"
  },
  "cells": [
    {
      "cell_type": "code",
      "metadata": {
        "id": "GLmf_2JIwHB1",
        "cellView": "form"
      },
      "source": [
        "#@title setup colab env\n",
        "from IPython.display import clear_output\n",
        "from google.colab import drive\n",
        "\n",
        "drive.mount('/content/drive')\n",
        "%cd drive/MyDrive/commonlitreadabilityprize/baseline/\n",
        "\n",
        "!pip install transformers\n",
        "clear_output()"
      ],
      "execution_count": 1,
      "outputs": []
    },
    {
      "cell_type": "code",
      "metadata": {
        "id": "_Bzl2nqXujBQ",
        "cellView": "form"
      },
      "source": [
        "#@title setup XLA\n",
        "!pip install cloud-tpu-client==0.10 https://storage.googleapis.com/tpu-pytorch/wheels/torch_xla-1.9-cp37-cp37m-linux_x86_64.whl\n",
        "clear_output()"
      ],
      "execution_count": 2,
      "outputs": []
    },
    {
      "cell_type": "code",
      "metadata": {
        "ExecuteTime": {
          "end_time": "2021-07-20T16:38:40.606278Z",
          "start_time": "2021-07-20T16:38:39.679256Z"
        },
        "id": "SMI9jswRv-ih",
        "colab": {
          "base_uri": "https://localhost:8080/"
        },
        "outputId": "5afec8f2-f830-4396-abab-dc5424e356e7"
      },
      "source": [
        "import sys\n",
        "sys.path.append('../input/learner')\n",
        "\n",
        "from learner.all import *"
      ],
      "execution_count": 3,
      "outputs": [
        {
          "output_type": "stream",
          "text": [
            "WARNING:root:TPU has started up successfully with version pytorch-1.9\n"
          ],
          "name": "stderr"
        }
      ]
    },
    {
      "cell_type": "code",
      "metadata": {
        "id": "LquPNZwHt8Yz"
      },
      "source": [
        "import os\n",
        "assert os.environ['COLAB_TPU_ADDR']\n",
        " \n",
        "import torch_xla.core.xla_model as xm\n",
        "import torch_xla.distributed.parallel_loader as pl\n",
        "import torch_xla.distributed.xla_multiprocessing as xmp\n",
        "\n",
        "# For half precision training in TPUs\n",
        "os.environ[\"XLA_USE_BF16\"] = '1'\n",
        "os.environ[\"XLA_TENSOR_ALLOCATOR_MAXSIZE\"] = '10000000'"
      ],
      "execution_count": 4,
      "outputs": []
    },
    {
      "cell_type": "code",
      "metadata": {
        "ExecuteTime": {
          "end_time": "2021-07-20T16:38:44.622091Z",
          "start_time": "2021-07-20T16:38:40.607768Z"
        },
        "code_folding": [
          0,
          32
        ],
        "colab": {
          "base_uri": "https://localhost:8080/",
          "height": 35
        },
        "id": "brQBjiTcv-ik",
        "cellView": "form",
        "outputId": "8558d951-062d-49ff-9440-ee926b65e562"
      },
      "source": [
        "#@title lib { vertical-output: true }\n",
        "# lib\n",
        "import copy\n",
        "import os\n",
        "import gc\n",
        "import random\n",
        "import math\n",
        "import time\n",
        "import matplotlib.pyplot as plt\n",
        "import numpy as np\n",
        "import pandas as pd\n",
        "import seaborn as sns\n",
        "\n",
        "from datetime import datetime\n",
        "from functools import partial\n",
        "from typing import Callable, List, Union\n",
        "\n",
        "from fastprogress import master_bar, progress_bar\n",
        "from sklearn.metrics import confusion_matrix, roc_auc_score\n",
        "from sklearn.model_selection import StratifiedKFold, GroupKFold, KFold\n",
        "from torch.utils.data import DataLoader, Dataset\n",
        "from transformers import AutoTokenizer, AutoModel, AutoConfig, AdamW\n",
        "\n",
        "import torch\n",
        "import torch.nn as nn\n",
        "import torch.nn.functional as F\n",
        "import transformers\n",
        "\n",
        "\n",
        "import warnings\n",
        "warnings.filterwarnings(\"ignore\")\n",
        "\n",
        "if not os.path.exists('models'):\n",
        "    os.mkdir('models')\n",
        "\n",
        "\n",
        "def seed_everything(seed=777):\n",
        "    random.seed(seed)\n",
        "    os.environ['PYTHONHASHSEED'] = str(seed)\n",
        "    np.random.seed(seed)\n",
        "\n",
        "    torch.manual_seed(seed)\n",
        "    if torch.cuda.is_available():\n",
        "        torch.cuda.manual_seed(seed)\n",
        "        torch.cuda.manual_seed_all(seed)\n",
        "    torch.backends.cudnn.deterministic = True\n",
        "\n",
        "\n",
        "SEED = 777\n",
        "seed_everything(SEED)\n",
        "\n",
        "torch.__version__"
      ],
      "execution_count": 5,
      "outputs": [
        {
          "output_type": "execute_result",
          "data": {
            "application/vnd.google.colaboratory.intrinsic+json": {
              "type": "string"
            },
            "text/plain": [
              "'1.9.0+cu102'"
            ]
          },
          "metadata": {
            "tags": []
          },
          "execution_count": 5
        }
      ]
    },
    {
      "cell_type": "code",
      "metadata": {
        "ExecuteTime": {
          "end_time": "2021-07-20T16:38:44.658797Z",
          "start_time": "2021-07-20T16:38:44.623581Z"
        },
        "id": "rr1y3KvLv-il"
      },
      "source": [
        "data_path = '../input/commonlitreadabilityprize/'\n",
        "\n",
        "trn_df = pd.read_csv(data_path + 'train.csv')\n",
        "#trn_df.drop(trn_df.query('target == 0').index, inplace=True)\n",
        "#trn_df.reset_index(inplace=True)\n",
        "test_df = pd.read_csv(data_path + 'test.csv')\n",
        "sub_df = pd.read_csv(data_path + 'sample_submission.csv')"
      ],
      "execution_count": 6,
      "outputs": []
    },
    {
      "cell_type": "markdown",
      "metadata": {
        "id": "WN8DrESXv-im"
      },
      "source": [
        "# config"
      ]
    },
    {
      "cell_type": "code",
      "metadata": {
        "ExecuteTime": {
          "end_time": "2021-07-20T16:38:44.672724Z",
          "start_time": "2021-07-20T16:38:44.666236Z"
        },
        "code_folding": [],
        "id": "2lTYhrrLv-im"
      },
      "source": [
        "class CFG:\n",
        "    debug: bool = False\n",
        "        \n",
        "    seed = SEED\n",
        "\n",
        "    # device\n",
        "    #device = xm.xla_device()\n",
        "    #device:torch.device = torch.device('cpu')\n",
        "    #device: torch.device = torch.device('cuda:0')\n",
        "    #device = torch.device('cuda' if torch.cuda.is_available() else 'cpu')\n",
        "\n",
        "    # data set\n",
        "    bs: int = 128\n",
        "    num_workers: int = 0\n",
        "\n",
        "    # model\n",
        "    model_name = 'roberta-base'\n",
        "    store_name = 'roberta-base'\n",
        "    epochs: int = 10\n",
        "\n",
        "    # gradient\n",
        "    iters_to_accumulate: int = 1\n",
        "    max_grad_norm: float = 1.\n",
        "    loss_func = None\n",
        "    metric_funcs: List[Union[Callable, None]] = [rmse, mae]\n",
        "\n",
        "    # optimizer\n",
        "    lr: int = 2e-5\n",
        "    lrs: float = [lr, lr*2, lr*5, lr*10]  # 4 groups\n",
        "    wd: float = 1e-2\n",
        "        \n",
        "    # tokenizer\n",
        "    max_len = 256\n",
        "\n",
        "    # distributional trainin\n",
        "    nprocs = 8  # 1 or 8\n",
        "\n",
        "\n",
        "cfg = CFG()\n",
        "cfg.loss_func = nn.MSELoss()\n",
        "seed_everything(cfg.seed)\n",
        "\n",
        "\n",
        "if cfg.debug:\n",
        "    trn_df = trn_df.sample(frac=0.30).reset_index()\n",
        "    warnings.filterwarnings('always')\n",
        "    pass"
      ],
      "execution_count": 7,
      "outputs": []
    },
    {
      "cell_type": "code",
      "metadata": {
        "ExecuteTime": {
          "end_time": "2021-07-20T16:38:44.833387Z",
          "start_time": "2021-07-20T16:38:44.680126Z"
        },
        "colab": {
          "base_uri": "https://localhost:8080/",
          "height": 281
        },
        "id": "VqJT7ikuv-in",
        "outputId": "2abdc843-0e71-4893-8ea1-bd7a735a3784"
      },
      "source": [
        "bins = round(1 + np.log2(len(trn_df)))\n",
        "trn_df['bins'] = pd.cut(trn_df.target, bins, labels=False)\n",
        "\n",
        "sns.countplot(trn_df['bins'], color='C0')\n",
        "\n",
        "\n",
        "skf = KFold(5, shuffle=True, random_state=cfg.seed)\n",
        "for fold, (trn_idx, val_idx) in enumerate(skf.split(trn_df, y=trn_df.bins), 1):\n",
        "    trn_df.loc[val_idx, 'fold'] = fold\n",
        "trn_df.loc[trn_df.target == 0, 'fold'] = -1"
      ],
      "execution_count": 8,
      "outputs": [
        {
          "output_type": "display_data",
          "data": {
            "image/png": "[encoded data removed]",
            "text/plain": [
              "<Figure size 432x288 with 1 Axes>"
            ]
          },
          "metadata": {
            "tags": [],
            "needs_background": "light"
          }
        }
      ]
    },
    {
      "cell_type": "markdown",
      "metadata": {
        "id": "ADkiI_dEv-io"
      },
      "source": [
        "# dataset"
      ]
    },
    {
      "cell_type": "code",
      "metadata": {
        "ExecuteTime": {
          "end_time": "2021-07-20T16:38:44.848269Z",
          "start_time": "2021-07-20T16:38:44.840828Z"
        },
        "code_folding": [
          0
        ],
        "id": "vMKq-qGrv-ip"
      },
      "source": [
        "class BERTDataSet(Dataset):\n",
        "    def __init__(self, df, tokenizer):\n",
        "        df = df.reset_index()\n",
        "        self.encodeds = tokenizer.batch_encode_plus(\n",
        "            df.excerpt.tolist(),\n",
        "            add_special_tokens=True,  # <s> and </s>\n",
        "            max_length=cfg.max_len,          # default 512 for bert\n",
        "            padding='max_length',    # padding  <pad>\n",
        "            truncation=True,         # cut if length > max length\n",
        "           \n",
        "        )\n",
        "        self.targets = df.target.values[:, None]\n",
        "\n",
        "    def __len__(self):\n",
        "        return len(self.targets)\n",
        "\n",
        "    def __getitem__(self, idx):\n",
        "\n",
        "        ids = torch.tensor(self.encodeds['input_ids'][idx], dtype=torch.long)\n",
        "        mask = torch.tensor(self.encodeds['attention_mask'][idx], dtype=torch.long)\n",
        "\n",
        "        target = torch.tensor(self.targets[idx], dtype=torch.float)\n",
        "\n",
        "        return [ids, mask], target\n",
        "    \n",
        "    \n",
        "if cfg.debug:\n",
        "    tokenizer = AutoTokenizer.from_pretrained(cfg.model_name)\n",
        "    trn_ds = BERTDataSet(trn_df, tokenizer)\n",
        "    trn_dl = DataLoader(trn_ds,\n",
        "                        batch_size=cfg.bs,\n",
        "                        shuffle=True,\n",
        "                        num_workers=cfg.num_workers,\n",
        "                        pin_memory=True)\n",
        "    print(len(trn_ds))\n",
        "    for x in trn_dl:\n",
        "        print(x)\n",
        "        break"
      ],
      "execution_count": 9,
      "outputs": []
    },
    {
      "cell_type": "markdown",
      "metadata": {
        "id": "i1TCWLnev-iq"
      },
      "source": [
        "# model"
      ]
    },
    {
      "cell_type": "code",
      "metadata": {
        "ExecuteTime": {
          "end_time": "2021-07-20T16:38:44.859676Z",
          "start_time": "2021-07-20T16:38:44.849755Z"
        },
        "code_folding": [
          0,
          19,
          39
        ],
        "scrolled": false,
        "id": "FrhoCHTnv-iq"
      },
      "source": [
        "class AttentionHead(nn.Module):\n",
        "    def __init__(self, in_size=768, h_size=512, o_size=1):\n",
        "        super().__init__()\n",
        "        self.attention = nn.Sequential(\n",
        "            nn.Linear(in_size, h_size), \n",
        "            nn.Tanh(),  \n",
        "            nn.Linear(h_size, o_size), \n",
        "            nn.Softmax(dim=1)\n",
        "        )\n",
        "        #self.linear = nn.Linear(in_size, o_size)\n",
        "        \n",
        "    def forward(self, features):\n",
        "        out = self.attention(features) * features\n",
        "        # (bs, lens, 768) to (bs, 768)\n",
        "        out = torch.sum(out, dim=1)\n",
        "        #out = self.linear(out)\n",
        "        return out\n",
        "    \n",
        "    \n",
        "class CLPRModel(nn.Module):\n",
        "    def __init__(self, model_name):\n",
        "        super(CLPRModel, self).__init__()\n",
        "        self.config = AutoConfig.from_pretrained(model_name)\n",
        "        self.config.layer_norm_eps = 1e-7\n",
        "        self.config.hidden_dropout_prob = 0.5\n",
        "        self.transformer = AutoModel.from_pretrained(model_name, self.config)\n",
        "        \n",
        "        self.hidden_size = self.config.hidden_size\n",
        "        self.attention = AttentionHead(in_size=self.hidden_size)\n",
        "        self.head = nn.Linear(self.hidden_size, 1)\n",
        "        \n",
        "    #def forward(self, input_id, attention_mask):\n",
        "    def forward(self, x):\n",
        "        #out = self.transformer(input_id, attention_mask)['last_hidden_state']\n",
        "        out = self.transformer(*x)['last_hidden_state']\n",
        "        out = self.attention(out)\n",
        "        out = self.head(out)\n",
        "        return out\n",
        " \n",
        "    \n",
        "if cfg.debug:\n",
        "    model = CLPRModel(cfg.model_name)\n",
        "    preds = model(x[0])\n",
        "    print(preds.shape)"
      ],
      "execution_count": 10,
      "outputs": []
    },
    {
      "cell_type": "markdown",
      "metadata": {
        "id": "Z_qg1yuov-ir"
      },
      "source": [
        "# optimizer"
      ]
    },
    {
      "cell_type": "code",
      "metadata": {
        "ExecuteTime": {
          "end_time": "2021-07-20T16:38:58.236612Z",
          "start_time": "2021-07-20T16:38:44.861165Z"
        },
        "code_folding": [
          0,
          31,
          44
        ],
        "id": "5LSEHxGCv-ir"
      },
      "source": [
        "def create_optimizer(model, cfg):\n",
        "    named_parameters = list(model.named_parameters())\n",
        "\n",
        "    backbone_parameters = named_parameters[:199]\n",
        "    head_parameters = named_parameters[199:]\n",
        "\n",
        "    head_group = [params for (name, params) in head_parameters]\n",
        "\n",
        "    parameters = []\n",
        "    parameters.append({\"params\": head_group,\n",
        "                       \"weight_decay\": 0.,\n",
        "                       \"lr\": cfg.lrs[3]})\n",
        "\n",
        "    for layer_num, (name, params) in enumerate(backbone_parameters):\n",
        "        weight_decay = 0.0 if 'LayerNorm' in name or 'bias' in name else cfg.wd\n",
        "\n",
        "        lr = cfg.lrs[0]\n",
        "\n",
        "        if layer_num >= 69:\n",
        "            lr = cfg.lrs[1]\n",
        "\n",
        "        if layer_num >= 133:\n",
        "            lr = cfg.lrs[2]\n",
        "\n",
        "        parameters.append({\"params\": params,\n",
        "                           \"weight_decay\": weight_decay,\n",
        "                           \"lr\": lr})\n",
        "\n",
        "    return AdamW(parameters)\n",
        "\n",
        "\n",
        "def get_scheduler(optimizer, cfg):\n",
        "    num_training_steps = cfg.trn_dl_lens * cfg.epochs\n",
        "    num_warmup_steps = int(cfg.trn_dl_lens * 0.1)\n",
        "    return transformers.get_cosine_schedule_with_warmup(\n",
        "        optimizer,\n",
        "        num_warmup_steps,\n",
        "        num_training_steps\n",
        "    )\n",
        "\n",
        "cfg.create_optimizer = create_optimizer\n",
        "\n",
        "if 0:\n",
        "    # create dataloader\n",
        "    tokenizer = AutoTokenizer.from_pretrained(cfg.model_name)\n",
        "    trn_ds = BERTDataSet(trn_df, tokenizer)\n",
        "    trn_dl = DataLoader(trn_ds,\n",
        "                        batch_size=cfg.bs,\n",
        "                        shuffle=True,\n",
        "                        num_workers=cfg.num_workers,\n",
        "                        pin_memory=True)\n",
        "    # create model\n",
        "    model = CLPRModel('roberta-base')\n",
        "    \n",
        "    # create scheduler\n",
        "    optimizer = create_optimizer(model, cfg)\n",
        "    scheduler = get_scheduler(optimizer, cfg)\n",
        "    \n",
        "    # get lr\n",
        "    lrs = []\n",
        "    for epoch in range(cfg.epochs):\n",
        "        for _ in trn_dl:\n",
        "            lrs.append(scheduler.get_last_lr())\n",
        "            optimizer.step()\n",
        "            scheduler.step()\n",
        "    lrs = sorted(set([*zip(*lrs)]))\n",
        "    \n",
        "    # plot\n",
        "    plt.figure(figsize=(12, 3))\n",
        "    for i, lr in enumerate(lrs, 1):\n",
        "        plt.subplot(1, 4, i)\n",
        "        plt.title(f'group{i}')\n",
        "        plt.plot(lr)\n",
        "        plt.ticklabel_format(axis='y', style='sci', scilimits=(0,0))\n",
        "    plt.tight_layout()\n",
        "    plt.show()"
      ],
      "execution_count": 11,
      "outputs": []
    },
    {
      "cell_type": "markdown",
      "metadata": {
        "id": "mM1J7F5Ov-is"
      },
      "source": [
        "# Learner"
      ]
    },
    {
      "cell_type": "code",
      "metadata": {
        "id": "f9u3jtoNGBOw"
      },
      "source": [
        "def create_dl(ds, cfg, mode='train'):  #######TPU######\n",
        "    shuffle = True if mode == 'train' else False\n",
        "    drop_last = shuffle      \n",
        "\n",
        "    sampler = torch.utils.data.distributed.DistributedSampler(\n",
        "            ds,\n",
        "            num_replicas=xm.xrt_world_size(),\n",
        "            rank=xm.get_ordinal(),\n",
        "            shuffle=shuffle\n",
        "            )\n",
        "    loader = torch.utils.data.DataLoader(\n",
        "      ds,\n",
        "      batch_size=cfg.bs,\n",
        "      sampler=sampler,\n",
        "      num_workers=cfg.num_workers,\n",
        "      drop_last=drop_last)\n",
        "    \n",
        "    return loader"
      ],
      "execution_count": 12,
      "outputs": []
    },
    {
      "cell_type": "code",
      "metadata": {
        "id": "LScs484uEWtx"
      },
      "source": [
        "class MeshReduceValue(Callback):\n",
        "    def __init__(self, reduce_fn=np.mean):\n",
        "        self.reduce_fn = partial(xm.mesh_reduce, reduce_fn=reduce_fn)\n",
        "    def after_epoch(self):\n",
        "        if not self.train:\n",
        "            self.learner.trn_loss = self.reduce_fn('trn_loss', self.trn_loss)\n",
        "            self.learner.val_loss = self.reduce_fn('val_loss', self.val_loss)\n",
        "\n",
        "            for idx, (trn_metric, val_metric, metric_func) in enumerate(zip(self.trn_metrics,\n",
        "                                                self.val_metrics, \n",
        "                                                self.metric_funcs)):\n",
        "                self.learner.trn_metrics[idx] = self.reduce_fn(f'trn_{metric_func.__name__}', trn_metric)\n",
        "                self.learner.val_metrics[idx] = self.reduce_fn(f'val_{metric_func.__name__}', val_metric)                "
      ],
      "execution_count": 13,
      "outputs": []
    },
    {
      "cell_type": "code",
      "metadata": {
        "id": "alk-YTaZRBm6"
      },
      "source": [
        "tokenizer = AutoTokenizer.from_pretrained(cfg.model_name)\n",
        "model = CLPRModel(cfg.model_name)"
      ],
      "execution_count": 14,
      "outputs": []
    },
    {
      "cell_type": "code",
      "metadata": {
        "ExecuteTime": {
          "end_time": "2021-07-20T16:39:07.780845Z",
          "start_time": "2021-07-20T16:38:58.282741Z"
        },
        "code_folding": [
          3,
          10
        ],
        "id": "5YWWdPsYv-iu"
      },
      "source": [
        "def train_func(rank):\n",
        "    fold = 1\n",
        "    global cfg\n",
        "    global tokenizer\n",
        "    #global trn_ds, val_ds\n",
        "    _cfg = copy.deepcopy(cfg)\n",
        "    _cfg.bs = _cfg.bs // xm.xrt_world_size()\n",
        "    #_cfg.lr = _cfg.lr * xm.xrt_world_size()\n",
        "    #_cfg.lrs = [lr * xm.xrt_world_size() for lr in _cfg.lrs]\n",
        "    \n",
        "    if rank == 0:\n",
        "        logger_name = datetime.today().strftime(\"%Y-%m-%d_%H_%M_%S\")\n",
        "        logger_name = 'log/' + logger_name\n",
        "        logger = get_logger(logger_name, verbose=False)\n",
        "\n",
        "\n",
        "    device = xm.xla_device()\n",
        "    _cfg.device = device\n",
        "    trn_ds = BERTDataSet(trn_df.query(f'fold != {fold}'), tokenizer)\n",
        "    trn_dl = create_dl(trn_ds, _cfg, 'train')\n",
        "\n",
        "    val_ds = BERTDataSet(trn_df.query(f'fold == {fold}'), tokenizer)\n",
        "    val_dl = create_dl(val_ds, _cfg, 'valid')\n",
        "    _cfg.trn_dl_lens = len(trn_dl)\n",
        "\n",
        "    dls = DataLoaders(trn_dl, val_dl)\n",
        "\n",
        "\n",
        "    _cfg.backbone_config = model.config\n",
        "\n",
        "    if rank == 0:  # main process\n",
        "        cbs = [\n",
        "                MeshReduceValue(),\n",
        "                Scheduler(get_scheduler),\n",
        "                ProgressBar(), \n",
        "                Logger(logger),\n",
        "                ModelCheckPoint(\n",
        "                    store_name=_cfg.store_name,\n",
        "                    auto_load=False,\n",
        "                    skip_start=0, \n",
        "                    verbose=1\n",
        "                    ),\n",
        "        ]\n",
        "    else:\n",
        "        cbs = [\n",
        "                MeshReduceValue(), \n",
        "                Scheduler(get_scheduler),\n",
        "                ModelCheckPoint(\n",
        "                    store_name=_cfg.store_name,\n",
        "                    auto_load=False,\n",
        "                    skip_start=0, \n",
        "                    verbose=0,\n",
        "                    ),\n",
        "        ]\n",
        "    learner = Learner_MultiTPU(_cfg, model, dls, cbs)\n",
        "\n",
        "    # training\n",
        "    learner.fit_single()\n",
        "\n",
        "    if rank == 0: #######TPU######\n",
        "        plot_history(learner)\n",
        "        plot_lr(learner)\n",
        "\n",
        "\n",
        "def _mp_fn(rank):\n",
        "    train_func(rank)"
      ],
      "execution_count": 15,
      "outputs": []
    },
    {
      "cell_type": "code",
      "metadata": {
        "colab": {
          "base_uri": "https://localhost:8080/",
          "height": 1000
        },
        "id": "IFTbsWo3IlQV",
        "outputId": "f5a63b2c-9de6-40c2-f344-830a278ffa37"
      },
      "source": [
        "xmp.spawn(_mp_fn, args=(), nprocs=cfg.nprocs, start_method='fork')"
      ],
      "execution_count": 16,
      "outputs": [
        {
          "output_type": "stream",
          "text": [
            "INFO:learner.callbacks:\n",
            "\n",
            "INFO:learner.callbacks:** Setup **\n",
            "\n",
            "INFO:learner.callbacks:Time: 2021-08-02 19:43:41.830255\n",
            "\n",
            "INFO:learner.callbacks:Parameters:\n",
            "INFO:learner.callbacks:\tbackbone_config:RobertaConfig {\n",
            "  \"_name_or_path\": \"roberta-base\",\n",
            "  \"architectures\": [\n",
            "    \"RobertaModel\"\n",
            "  ],\n",
            "  \"attention_probs_dropout_prob\": 0.1,\n",
            "  \"bos_token_id\": 0,\n",
            "  \"eos_token_id\": 2,\n",
            "  \"gradient_checkpointing\": false,\n",
            "  \"hidden_act\": \"gelu\",\n",
            "  \"hidden_dropout_prob\": 0.5,\n",
            "  \"hidden_size\": 768,\n",
            "  \"initializer_range\": 0.02,\n",
            "  \"intermediate_size\": 3072,\n",
            "  \"layer_norm_eps\": 1e-07,\n",
            "  \"max_position_embeddings\": 514,\n",
            "  \"model_type\": \"roberta\",\n",
            "  \"num_attention_heads\": 12,\n",
            "  \"num_hidden_layers\": 12,\n",
            "  \"pad_token_id\": 1,\n",
            "  \"position_embedding_type\": \"absolute\",\n",
            "  \"transformers_version\": \"4.9.1\",\n",
            "  \"type_vocab_size\": 1,\n",
            "  \"use_cache\": true,\n",
            "  \"vocab_size\": 50265\n",
            "}\n",
            "\n",
            "INFO:learner.callbacks:\tbs:16\n",
            "INFO:learner.callbacks:\tcreate_optimizer:<function create_optimizer at 0x7f47cd18a200>\n",
            "INFO:learner.callbacks:\tdebug:False\n",
            "INFO:learner.callbacks:\tdevice:xla:1\n",
            "INFO:learner.callbacks:\tepochs:10\n",
            "INFO:learner.callbacks:\titers_to_accumulate:1\n",
            "INFO:learner.callbacks:\tloss_func:MSELoss()\n",
            "INFO:learner.callbacks:\tlr:2e-05\n",
            "INFO:learner.callbacks:\tlrs:[2e-05, 4e-05, 0.0001, 0.0002]\n",
            "INFO:learner.callbacks:\tmax_grad_norm:1.0\n",
            "INFO:learner.callbacks:\tmax_len:256\n",
            "INFO:learner.callbacks:\tmetric_funcs:[<function rmse at 0x7f4829465ef0>, <function mae at 0x7f47cd188ef0>]\n",
            "INFO:learner.callbacks:\tmodel_name:roberta-base\n",
            "INFO:learner.callbacks:\tnprocs:8\n",
            "INFO:learner.callbacks:\tnum_workers:0\n",
            "INFO:learner.callbacks:\tseed:777\n",
            "INFO:learner.callbacks:\tstore_name:roberta-base\n",
            "INFO:learner.callbacks:\ttrn_dl_lens:17\n",
            "INFO:learner.callbacks:\twd:0.01\n",
            "INFO:learner.callbacks:\n",
            "\n",
            "INFO:learner.callbacks:|    time|          lr|    epoch| iteration|      loss|  val loss|  train_rmse|    val_rmse|   train_mae|     val_mae|\n"
          ],
          "name": "stderr"
        },
        {
          "output_type": "display_data",
          "data": {
            "text/html": [
              "<table border=\"1\" class=\"dataframe\">\n",
              "  <thead>\n",
              "    <tr style=\"text-align: left;\">\n",
              "      <th>epoch</th>\n",
              "      <th>train loss</th>\n",
              "      <th>val loss</th>\n",
              "      <th>train rmse</th>\n",
              "      <th>val rmse</th>\n",
              "      <th>train mae</th>\n",
              "      <th>val mae</th>\n",
              "      <th>time</th>\n",
              "    </tr>\n",
              "  </thead>\n",
              "  <tbody>\n",
              "    <tr>\n",
              "      <td>1</td>\n",
              "      <td>1.017837</td>\n",
              "      <td>0.558472</td>\n",
              "      <td>0.983398</td>\n",
              "      <td>0.735059</td>\n",
              "      <td>0.806396</td>\n",
              "      <td>0.591797</td>\n",
              "      <td>0:42</td>\n",
              "    </tr>\n",
              "    <tr>\n",
              "      <td>2</td>\n",
              "      <td>0.442519</td>\n",
              "      <td>0.375269</td>\n",
              "      <td>0.650979</td>\n",
              "      <td>0.603076</td>\n",
              "      <td>0.527990</td>\n",
              "      <td>0.495020</td>\n",
              "      <td>0:16</td>\n",
              "    </tr>\n",
              "    <tr>\n",
              "      <td>3</td>\n",
              "      <td>0.297033</td>\n",
              "      <td>0.331958</td>\n",
              "      <td>0.535975</td>\n",
              "      <td>0.566064</td>\n",
              "      <td>0.430334</td>\n",
              "      <td>0.467090</td>\n",
              "      <td>0:17</td>\n",
              "    </tr>\n",
              "    <tr>\n",
              "      <td>4</td>\n",
              "      <td>0.257339</td>\n",
              "      <td>0.329919</td>\n",
              "      <td>0.499110</td>\n",
              "      <td>0.564746</td>\n",
              "      <td>0.402071</td>\n",
              "      <td>0.469824</td>\n",
              "      <td>0:16</td>\n",
              "    </tr>\n",
              "    <tr>\n",
              "      <td>5</td>\n",
              "      <td>0.239258</td>\n",
              "      <td>0.447998</td>\n",
              "      <td>0.481000</td>\n",
              "      <td>0.659619</td>\n",
              "      <td>0.384823</td>\n",
              "      <td>0.557178</td>\n",
              "      <td>0:16</td>\n",
              "    </tr>\n",
              "    <tr>\n",
              "      <td>6</td>\n",
              "      <td>0.217045</td>\n",
              "      <td>0.391724</td>\n",
              "      <td>0.458166</td>\n",
              "      <td>0.616357</td>\n",
              "      <td>0.368437</td>\n",
              "      <td>0.516895</td>\n",
              "      <td>0:15</td>\n",
              "    </tr>\n",
              "    <tr>\n",
              "      <td>7</td>\n",
              "      <td>0.216689</td>\n",
              "      <td>0.348474</td>\n",
              "      <td>0.457620</td>\n",
              "      <td>0.580859</td>\n",
              "      <td>0.368423</td>\n",
              "      <td>0.484668</td>\n",
              "      <td>0:15</td>\n",
              "    </tr>\n",
              "    <tr>\n",
              "      <td>8</td>\n",
              "      <td>0.216456</td>\n",
              "      <td>0.408154</td>\n",
              "      <td>0.457864</td>\n",
              "      <td>0.629395</td>\n",
              "      <td>0.367223</td>\n",
              "      <td>0.529688</td>\n",
              "      <td>0:15</td>\n",
              "    </tr>\n",
              "    <tr>\n",
              "      <td>9</td>\n",
              "      <td>0.210657</td>\n",
              "      <td>0.400269</td>\n",
              "      <td>0.451100</td>\n",
              "      <td>0.623096</td>\n",
              "      <td>0.361558</td>\n",
              "      <td>0.523975</td>\n",
              "      <td>0:15</td>\n",
              "    </tr>\n",
              "    <tr>\n",
              "      <td>10</td>\n",
              "      <td>0.210255</td>\n",
              "      <td>0.400073</td>\n",
              "      <td>0.450684</td>\n",
              "      <td>0.623145</td>\n",
              "      <td>0.362082</td>\n",
              "      <td>0.524023</td>\n",
              "      <td>0:15</td>\n",
              "    </tr>\n",
              "  </tbody>\n",
              "</table>"
            ],
            "text/plain": [
              "<IPython.core.display.HTML object>"
            ]
          },
          "metadata": {
            "tags": []
          }
        },
        {
          "output_type": "stream",
          "text": [
            "INFO:learner.callbacks:|    0:42|  1.9614e-04|        1|        17|  1.017837|  0.558472|    0.983398|    0.735059|    0.806396|    0.591797|\n",
            "INFO:learner.callbacks:|    0:16|  1.8282e-04|        2|        34|  0.442519|  0.375269|    0.650979|    0.603076|    0.527990|    0.495020|\n",
            "INFO:learner.callbacks:|    0:17|  1.6131e-04|        3|        51|  0.297033|  0.331958|    0.535975|    0.566064|    0.430334|    0.467090|\n",
            "INFO:learner.callbacks:|    0:16|  1.3372e-04|        4|        68|  0.257339|  0.329919|    0.499110|    0.564746|    0.402071|    0.469824|\n",
            "INFO:learner.callbacks:|    0:16|  1.0279e-04|        5|        85|  0.239258|  0.447998|    0.481000|    0.659619|    0.384823|    0.557178|\n",
            "INFO:learner.callbacks:|    0:15|  7.1584e-05|        6|       102|  0.217045|  0.391724|    0.458166|    0.616357|    0.368437|    0.516895|\n",
            "INFO:learner.callbacks:|    0:15|  4.3194e-05|        7|       119|  0.216689|  0.348474|    0.457620|    0.580859|    0.368423|    0.484668|\n",
            "INFO:learner.callbacks:|    0:15|  2.0430e-05|        8|       136|  0.216456|  0.408154|    0.457864|    0.629395|    0.367223|    0.529688|\n",
            "INFO:learner.callbacks:|    0:15|  5.5461e-06|        9|       153|  0.210657|  0.400269|    0.451100|    0.623096|    0.361558|    0.523975|\n",
            "INFO:learner.callbacks:|    0:15|  1.7278e-08|       10|       170|  0.210255|  0.400073|    0.450684|    0.623145|    0.362082|    0.524023|\n",
            "INFO:learner.callbacks:** Finish **\n",
            "\n"
          ],
          "name": "stderr"
        },
        {
          "output_type": "display_data",
          "data": {
            "image/png": "[encoded data removed]",
            "text/plain": [
              "<Figure size 720x216 with 3 Axes>"
            ]
          },
          "metadata": {
            "tags": [],
            "needs_background": "light"
          }
        },
        {
          "output_type": "display_data",
          "data": {
            "image/png": "[encoded data removed]",
            "text/plain": [
              "<Figure size 1008x216 with 4 Axes>"
            ]
          },
          "metadata": {
            "tags": [],
            "needs_background": "light"
          }
        }
      ]
    },
    {
      "cell_type": "code",
      "metadata": {
        "id": "P_5pDnU-mumP",
        "colab": {
          "base_uri": "https://localhost:8080/"
        },
        "outputId": "4c679ef6-9b6d-45cc-a055-53e94155430d"
      },
      "source": [
        "# note: The server uses Coordinated Universal Time.\n",
        "with open('./log/2021-08-02_19_43_32.log') as f:\n",
        "    file = f.read()\n",
        "print(file)"
      ],
      "execution_count": 24,
      "outputs": [
        {
          "output_type": "stream",
          "text": [
            "\n",
            "\n",
            "** Setup **\n",
            "\n",
            "Time: 2021-08-02 19:43:41.830255\n",
            "\n",
            "Parameters:\n",
            "\tbackbone_config:RobertaConfig {\n",
            "  \"_name_or_path\": \"roberta-base\",\n",
            "  \"architectures\": [\n",
            "    \"RobertaModel\"\n",
            "  ],\n",
            "  \"attention_probs_dropout_prob\": 0.1,\n",
            "  \"bos_token_id\": 0,\n",
            "  \"eos_token_id\": 2,\n",
            "  \"gradient_checkpointing\": false,\n",
            "  \"hidden_act\": \"gelu\",\n",
            "  \"hidden_dropout_prob\": 0.5,\n",
            "  \"hidden_size\": 768,\n",
            "  \"initializer_range\": 0.02,\n",
            "  \"intermediate_size\": 3072,\n",
            "  \"layer_norm_eps\": 1e-07,\n",
            "  \"max_position_embeddings\": 514,\n",
            "  \"model_type\": \"roberta\",\n",
            "  \"num_attention_heads\": 12,\n",
            "  \"num_hidden_layers\": 12,\n",
            "  \"pad_token_id\": 1,\n",
            "  \"position_embedding_type\": \"absolute\",\n",
            "  \"transformers_version\": \"4.9.1\",\n",
            "  \"type_vocab_size\": 1,\n",
            "  \"use_cache\": true,\n",
            "  \"vocab_size\": 50265\n",
            "}\n",
            "\n",
            "\tbs:16\n",
            "\tcreate_optimizer:<function create_optimizer at 0x7f47cd18a200>\n",
            "\tdebug:False\n",
            "\tdevice:xla:1\n",
            "\tepochs:10\n",
            "\titers_to_accumulate:1\n",
            "\tloss_func:MSELoss()\n",
            "\tlr:2e-05\n",
            "\tlrs:[2e-05, 4e-05, 0.0001, 0.0002]\n",
            "\tmax_grad_norm:1.0\n",
            "\tmax_len:256\n",
            "\tmetric_funcs:[<function rmse at 0x7f4829465ef0>, <function mae at 0x7f47cd188ef0>]\n",
            "\tmodel_name:roberta-base\n",
            "\tnprocs:8\n",
            "\tnum_workers:0\n",
            "\tseed:777\n",
            "\tstore_name:roberta-base\n",
            "\ttrn_dl_lens:17\n",
            "\twd:0.01\n",
            "\n",
            "\n",
            "|    time|          lr|    epoch| iteration|      loss|  val loss|  train_rmse|    val_rmse|   train_mae|     val_mae|\n",
            "|    0:42|  1.9614e-04|        1|        17|  1.017837|  0.558472|    0.983398|    0.735059|    0.806396|    0.591797|\n",
            "|    0:16|  1.8282e-04|        2|        34|  0.442519|  0.375269|    0.650979|    0.603076|    0.527990|    0.495020|\n",
            "|    0:17|  1.6131e-04|        3|        51|  0.297033|  0.331958|    0.535975|    0.566064|    0.430334|    0.467090|\n",
            "|    0:16|  1.3372e-04|        4|        68|  0.257339|  0.329919|    0.499110|    0.564746|    0.402071|    0.469824|\n",
            "|    0:16|  1.0279e-04|        5|        85|  0.239258|  0.447998|    0.481000|    0.659619|    0.384823|    0.557178|\n",
            "|    0:15|  7.1584e-05|        6|       102|  0.217045|  0.391724|    0.458166|    0.616357|    0.368437|    0.516895|\n",
            "|    0:15|  4.3194e-05|        7|       119|  0.216689|  0.348474|    0.457620|    0.580859|    0.368423|    0.484668|\n",
            "|    0:15|  2.0430e-05|        8|       136|  0.216456|  0.408154|    0.457864|    0.629395|    0.367223|    0.529688|\n",
            "|    0:15|  5.5461e-06|        9|       153|  0.210657|  0.400269|    0.451100|    0.623096|    0.361558|    0.523975|\n",
            "|    0:15|  1.7278e-08|       10|       170|  0.210255|  0.400073|    0.450684|    0.623145|    0.362082|    0.524023|\n",
            "** Finish **\n",
            "\n",
            "\n"
          ],
          "name": "stdout"
        }
      ]
    }
  ]
}