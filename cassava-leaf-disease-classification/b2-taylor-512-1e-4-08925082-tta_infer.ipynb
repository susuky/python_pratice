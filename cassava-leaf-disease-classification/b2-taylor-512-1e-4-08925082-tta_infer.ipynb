{
 "cells": [
  {
   "cell_type": "markdown",
   "metadata": {
    "papermill": {
     "duration": 0.008099,
     "end_time": "2021-02-16T15:48:01.856675",
     "exception": false,
     "start_time": "2021-02-16T15:48:01.848576",
     "status": "completed"
    },
    "tags": []
   },
   "source": [
    "vote"
   ]
  },
  {
   "cell_type": "code",
   "execution_count": 1,
   "metadata": {
    "execution": {
     "iopub.execute_input": "2021-02-16T15:48:01.876352Z",
     "iopub.status.busy": "2021-02-16T15:48:01.875730Z",
     "iopub.status.idle": "2021-02-16T15:48:01.879471Z",
     "shell.execute_reply": "2021-02-16T15:48:01.879922Z"
    },
    "papermill": {
     "duration": 0.015992,
     "end_time": "2021-02-16T15:48:01.880061",
     "exception": false,
     "start_time": "2021-02-16T15:48:01.864069",
     "status": "completed"
    },
    "tags": []
   },
   "outputs": [],
   "source": [
    "import sys\n",
    "sys.path.append('../input/timm-pytorch-image-models/pytorch-image-models-master')"
   ]
  },
  {
   "cell_type": "code",
   "execution_count": 2,
   "metadata": {
    "_cell_guid": "b1076dfc-b9ad-4769-8c92-a6c4dae69d19",
    "_kg_hide-input": true,
    "_uuid": "8f2839f25d086af736a60e9eeb907d3b93b6e0e5",
    "execution": {
     "iopub.execute_input": "2021-02-16T15:48:01.904597Z",
     "iopub.status.busy": "2021-02-16T15:48:01.903978Z",
     "iopub.status.idle": "2021-02-16T15:48:06.877670Z",
     "shell.execute_reply": "2021-02-16T15:48:06.878124Z"
    },
    "papermill": {
     "duration": 4.990794,
     "end_time": "2021-02-16T15:48:06.878271",
     "exception": false,
     "start_time": "2021-02-16T15:48:01.887477",
     "status": "completed"
    },
    "tags": []
   },
   "outputs": [
    {
     "data": {
      "text/plain": [
       "'1.7.0'"
      ]
     },
     "execution_count": 2,
     "metadata": {},
     "output_type": "execute_result"
    }
   ],
   "source": [
    "# lib\n",
    "import os\n",
    "import gc\n",
    "import random\n",
    "import math\n",
    "import time\n",
    "\n",
    "import albumentations as A\n",
    "import copy\n",
    "import cv2\n",
    "import numpy as np\n",
    "import pandas as pd\n",
    "\n",
    "from albumentations.pytorch.transforms import ToTensorV2\n",
    "from glob import glob\n",
    "from scipy import stats\n",
    "\n",
    "import torch\n",
    "import torch.nn as nn\n",
    "import torch.nn.functional as F\n",
    "import timm\n",
    "from torch.utils.data import DataLoader, Dataset\n",
    "device = torch.device('cuda' if torch.cuda.is_available() else 'cpu')\n",
    "#device = torch.device('cpu')\n",
    "\n",
    "#import warnings\n",
    "#warnings.filterwarnings(\"ignore\")\n",
    "\n",
    "from fastprogress import master_bar, progress_bar\n",
    "\n",
    "\n",
    "def seed_everything(seed=777):\n",
    "    random.seed(seed)\n",
    "    os.environ['PYTHONHASHSEED'] = str(seed)\n",
    "    np.random.seed(seed)\n",
    "    torch.manual_seed(seed)\n",
    "    torch.cuda.manual_seed(seed)\n",
    "    #torch.backends.cudnn.deterministic = True\n",
    "\n",
    "SEED = 777\n",
    "seed_everything(SEED)\n",
    "\n",
    "torch.__version__"
   ]
  },
  {
   "cell_type": "code",
   "execution_count": 3,
   "metadata": {
    "execution": {
     "iopub.execute_input": "2021-02-16T15:48:06.903841Z",
     "iopub.status.busy": "2021-02-16T15:48:06.902307Z",
     "iopub.status.idle": "2021-02-16T15:48:06.906417Z",
     "shell.execute_reply": "2021-02-16T15:48:06.905946Z"
    },
    "papermill": {
     "duration": 0.019921,
     "end_time": "2021-02-16T15:48:06.906508",
     "exception": false,
     "start_time": "2021-02-16T15:48:06.886587",
     "status": "completed"
    },
    "tags": []
   },
   "outputs": [],
   "source": [
    "data_path = '../input/cassava-leaf-disease-classification/'\n",
    "\n",
    "class CFG:\n",
    "    device = device\n",
    "    debug = False\n",
    "    \n",
    "    # data set \n",
    "    size = 512\n",
    "    cat_nums = None\n",
    "    bs = 16\n",
    "    pre_load = True\n",
    "    worker = 0    \n",
    "\n",
    "    # model\n",
    "    epochs = 15\n",
    "    model_name = 'tf_efficientnet_b2_ns'\n",
    "    hidden_size = 256\n",
    "    dropout = 0.5\n",
    "    \n",
    "    # gradient\n",
    "    iters_to_accumulate = 1\n",
    "    max_grad_norm = 0.5\n",
    "    criterion = nn.CrossEntropyLoss()\n",
    "    metric = None\n",
    "    \n",
    "    # optimizer\n",
    "    lr = 3e-4\n",
    "    wd = 1e-6\n",
    "    patience = 4\n",
    "    optimizer = torch.optim.Adam\n",
    "    optim_param = {'lr': lr, 'weight_decay': wd}\n",
    "    scheduler = torch.optim.lr_scheduler.LambdaLR\n",
    "    scheduler_param = {'lr_lambda': lambda epoch: 1}\n",
    "    \n",
    "    # TTA\n",
    "    tta_nums = 9\n",
    "    \n",
    "if CFG.debug: data_path = '../input/debug/'"
   ]
  },
  {
   "cell_type": "code",
   "execution_count": 4,
   "metadata": {
    "execution": {
     "iopub.execute_input": "2021-02-16T15:48:06.936699Z",
     "iopub.status.busy": "2021-02-16T15:48:06.935559Z",
     "iopub.status.idle": "2021-02-16T15:48:06.938581Z",
     "shell.execute_reply": "2021-02-16T15:48:06.938112Z"
    },
    "papermill": {
     "duration": 0.024308,
     "end_time": "2021-02-16T15:48:06.938671",
     "exception": false,
     "start_time": "2021-02-16T15:48:06.914363",
     "status": "completed"
    },
    "tags": []
   },
   "outputs": [],
   "source": [
    "aug = A.Compose([\n",
    "    A.Transpose(p=0.5),\n",
    "    A.HorizontalFlip(p=0.5),\n",
    "    A.VerticalFlip(p=0.5),\n",
    "    A.ShiftScaleRotate(p=0.5),\n",
    "     A.HueSaturationValue(hue_shift_limit=5, \n",
    "                             sat_shift_limit=5, \n",
    "                             val_shift_limit=5),\n",
    "    A.RandomGamma(),\n",
    "    \n",
    "])\n",
    "\n",
    "\n",
    "\n",
    "def get_transforms(aug=None, size=CFG.size):\n",
    "    resize = A.OneOf([\n",
    "        #A.Resize(size, size, p=0.1),\n",
    "        #A.RandomCrop(size, size, p=0.9),\n",
    "        A.RandomResizedCrop(size, size),\n",
    "    ], p=1.0) if aug else A.Resize(size, size)\n",
    "\n",
    "    return A.Compose(\n",
    "        [\n",
    "            resize, \n",
    "            aug,\n",
    "            A.Normalize(\n",
    "                mean=[0.485, 0.456, 0.406],\n",
    "                std=[0.229, 0.224, 0.225],\n",
    "            ),\n",
    "            ToTensorV2()\n",
    "        ],\n",
    "        p=1.0,\n",
    "    )\n",
    "\n",
    "\n",
    "class TestDataset(Dataset):\n",
    "    def __init__(self, test_df, image_paths, transform=None):\n",
    "        self.test_names = test_df.image_id.values\n",
    "        self.image_paths = image_paths\n",
    "        self.transform = get_transforms(transform)\n",
    "\n",
    "    def __len__(self):\n",
    "        return len(self.test_names)\n",
    "\n",
    "    def __getitem__(self, idx):\n",
    "        img_name = self.test_names[idx]\n",
    "        x = cv2.imread(self.image_paths + img_name)[..., ::-1].copy()\n",
    "        #x = self.transform(image=x)['image']  # .to(device)\n",
    "        return x, img_name"
   ]
  },
  {
   "cell_type": "code",
   "execution_count": 5,
   "metadata": {
    "execution": {
     "iopub.execute_input": "2021-02-16T15:48:06.968375Z",
     "iopub.status.busy": "2021-02-16T15:48:06.967646Z",
     "iopub.status.idle": "2021-02-16T15:48:06.970903Z",
     "shell.execute_reply": "2021-02-16T15:48:06.971334Z"
    },
    "papermill": {
     "duration": 0.024747,
     "end_time": "2021-02-16T15:48:06.971445",
     "exception": false,
     "start_time": "2021-02-16T15:48:06.946698",
     "status": "completed"
    },
    "tags": []
   },
   "outputs": [],
   "source": [
    "class PredictModel(nn.Module):\n",
    "    def __init__(self,\n",
    "                 model_name='tf_efficientnet_b0_ns',\n",
    "                 model_path='./',\n",
    "                 n_class=5):\n",
    "        super().__init__()\n",
    "        # create single\n",
    "        self.model = timm.create_model(model_name,\n",
    "                                       in_chans=3)\n",
    "        nums_in_features = self.model.classifier.in_features\n",
    "        self.model.classifier = nn.Linear(nums_in_features, n_class)\n",
    "        self.freeze()\n",
    "        self.model.eval().to(device)\n",
    "\n",
    "        # load checkpoints\n",
    "        checkpoints = [torch.load(path, map_location=torch.device('cpu'))\n",
    "                       for path in glob(model_path + 'fold*.pth')]\n",
    "        # create models\n",
    "        self.models = [copy.deepcopy(self.model)\n",
    "                       for _ in range(len(checkpoints))]\n",
    "        # load weights\n",
    "        for idx, checkpoint in enumerate(checkpoints):\n",
    "            self.models[idx].load_state_dict(checkpoint['model_state_dict'])\n",
    "\n",
    "    def forward(self, x):\n",
    "        with torch.no_grad():\n",
    "            x = torch.mean(torch.cat([model(x)[None]\n",
    "                                      for model in self.models], dim=0), dim=0)\n",
    "        return x\n",
    "\n",
    "    def freeze(self, n=None):\n",
    "        for param in list(self.model.parameters())[:n]:\n",
    "            param.requires_grad = False\n",
    "\n",
    "    def unfreeze(self):\n",
    "        for param in self.model.parameters():\n",
    "            param.requires_grad = True"
   ]
  },
  {
   "cell_type": "code",
   "execution_count": 6,
   "metadata": {
    "execution": {
     "iopub.execute_input": "2021-02-16T15:48:06.992791Z",
     "iopub.status.busy": "2021-02-16T15:48:06.992136Z",
     "iopub.status.idle": "2021-02-16T15:48:23.857231Z",
     "shell.execute_reply": "2021-02-16T15:48:23.856622Z"
    },
    "papermill": {
     "duration": 16.87772,
     "end_time": "2021-02-16T15:48:23.857344",
     "exception": false,
     "start_time": "2021-02-16T15:48:06.979624",
     "status": "completed"
    },
    "tags": []
   },
   "outputs": [],
   "source": [
    "model = PredictModel(model_name=CFG.model_name,\n",
    "                     model_path='../input/cld-ef-b2-089251/')"
   ]
  },
  {
   "cell_type": "code",
   "execution_count": 7,
   "metadata": {
    "execution": {
     "iopub.execute_input": "2021-02-16T15:48:23.884418Z",
     "iopub.status.busy": "2021-02-16T15:48:23.883796Z",
     "iopub.status.idle": "2021-02-16T15:48:25.162707Z",
     "shell.execute_reply": "2021-02-16T15:48:25.162215Z"
    },
    "papermill": {
     "duration": 1.296759,
     "end_time": "2021-02-16T15:48:25.162811",
     "exception": false,
     "start_time": "2021-02-16T15:48:23.866052",
     "status": "completed"
    },
    "tags": []
   },
   "outputs": [
    {
     "data": {
      "text/html": [
       "<div>\n",
       "<style scoped>\n",
       "    .dataframe tbody tr th:only-of-type {\n",
       "        vertical-align: middle;\n",
       "    }\n",
       "\n",
       "    .dataframe tbody tr th {\n",
       "        vertical-align: top;\n",
       "    }\n",
       "\n",
       "    .dataframe thead th {\n",
       "        text-align: right;\n",
       "    }\n",
       "</style>\n",
       "<table border=\"1\" class=\"dataframe\">\n",
       "  <thead>\n",
       "    <tr style=\"text-align: right;\">\n",
       "      <th></th>\n",
       "      <th>image_id</th>\n",
       "      <th>label</th>\n",
       "    </tr>\n",
       "  </thead>\n",
       "  <tbody>\n",
       "    <tr>\n",
       "      <th>0</th>\n",
       "      <td>2216849948.jpg</td>\n",
       "      <td>4</td>\n",
       "    </tr>\n",
       "  </tbody>\n",
       "</table>\n",
       "</div>"
      ],
      "text/plain": [
       "         image_id  label\n",
       "0  2216849948.jpg      4"
      ]
     },
     "execution_count": 7,
     "metadata": {},
     "output_type": "execute_result"
    }
   ],
   "source": [
    "test_path = '../input/cassava-leaf-disease-classification/'\n",
    "image_path = test_path + 'test_images/'\n",
    "test_df = pd.read_csv(test_path + 'sample_submission.csv')\n",
    "\n",
    "test_ds = TestDataset(test_df=test_df, \n",
    "                      image_paths=image_path, \n",
    "                      transform=None)\n",
    "test_dl = DataLoader(test_ds, batch_size=1)\n",
    "\n",
    "for xs, names in test_dl:\n",
    "    xs = torch.stack([get_transforms(aug)(image=xs[0].numpy())['image'] \n",
    "                      for _ in range(CFG.tta_nums)])\n",
    "    xs = xs.to(device)\n",
    "    preds = model(xs).detach().cpu().numpy()\n",
    "    preds = stats.mode(preds.argmax(1))[0].item()\n",
    "    test_df.loc[test_df.image_id.isin(names), 'label'] = preds\n",
    "    \n",
    "test_df"
   ]
  },
  {
   "cell_type": "code",
   "execution_count": 8,
   "metadata": {
    "execution": {
     "iopub.execute_input": "2021-02-16T15:48:25.185770Z",
     "iopub.status.busy": "2021-02-16T15:48:25.185063Z",
     "iopub.status.idle": "2021-02-16T15:48:25.445939Z",
     "shell.execute_reply": "2021-02-16T15:48:25.444826Z"
    },
    "papermill": {
     "duration": 0.273564,
     "end_time": "2021-02-16T15:48:25.446068",
     "exception": false,
     "start_time": "2021-02-16T15:48:25.172504",
     "status": "completed"
    },
    "tags": []
   },
   "outputs": [],
   "source": [
    "test_df.to_csv('submission.csv', index=False)"
   ]
  },
  {
   "cell_type": "code",
   "execution_count": null,
   "metadata": {
    "papermill": {
     "duration": 0.008932,
     "end_time": "2021-02-16T15:48:25.464317",
     "exception": false,
     "start_time": "2021-02-16T15:48:25.455385",
     "status": "completed"
    },
    "tags": []
   },
   "outputs": [],
   "source": []
  }
 ],
 "metadata": {
  "kernelspec": {
   "display_name": "Python 3",
   "language": "python",
   "name": "python3"
  },
  "language_info": {
   "codemirror_mode": {
    "name": "ipython",
    "version": 3
   },
   "file_extension": ".py",
   "mimetype": "text/x-python",
   "name": "python",
   "nbconvert_exporter": "python",
   "pygments_lexer": "ipython3",
   "version": "3.7.6"
  },
  "papermill": {
   "duration": 28.774947,
   "end_time": "2021-02-16T15:48:25.980700",
   "environment_variables": {},
   "exception": null,
   "input_path": "__notebook__.ipynb",
   "output_path": "__notebook__.ipynb",
   "parameters": {},
   "start_time": "2021-02-16T15:47:57.205753",
   "version": "2.1.0"
  }
 },
 "nbformat": 4,
 "nbformat_minor": 4
}
