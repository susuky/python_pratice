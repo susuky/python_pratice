{
 "cells": [
  {
   "cell_type": "code",
   "execution_count": 1,
   "metadata": {
    "execution": {
     "iopub.execute_input": "2021-02-16T16:05:24.303607Z",
     "iopub.status.busy": "2021-02-16T16:05:24.302808Z",
     "iopub.status.idle": "2021-02-16T16:05:24.305720Z",
     "shell.execute_reply": "2021-02-16T16:05:24.305263Z"
    },
    "papermill": {
     "duration": 0.014675,
     "end_time": "2021-02-16T16:05:24.305829",
     "exception": false,
     "start_time": "2021-02-16T16:05:24.291154",
     "status": "completed"
    },
    "tags": []
   },
   "outputs": [],
   "source": [
    "import sys\n",
    "sys.path.append('../input/timm-pytorch-image-models/pytorch-image-models-master')"
   ]
  },
  {
   "cell_type": "code",
   "execution_count": 2,
   "metadata": {
    "_cell_guid": "b1076dfc-b9ad-4769-8c92-a6c4dae69d19",
    "_kg_hide-input": true,
    "_uuid": "8f2839f25d086af736a60e9eeb907d3b93b6e0e5",
    "execution": {
     "iopub.execute_input": "2021-02-16T16:05:24.325730Z",
     "iopub.status.busy": "2021-02-16T16:05:24.325190Z",
     "iopub.status.idle": "2021-02-16T16:05:28.218592Z",
     "shell.execute_reply": "2021-02-16T16:05:28.219143Z"
    },
    "papermill": {
     "duration": 3.907634,
     "end_time": "2021-02-16T16:05:28.219283",
     "exception": false,
     "start_time": "2021-02-16T16:05:24.311649",
     "status": "completed"
    },
    "tags": []
   },
   "outputs": [
    {
     "data": {
      "text/plain": [
       "'1.7.0'"
      ]
     },
     "execution_count": 2,
     "metadata": {},
     "output_type": "execute_result"
    }
   ],
   "source": [
    "# lib\n",
    "import os\n",
    "import gc\n",
    "import random\n",
    "import math\n",
    "import time\n",
    "\n",
    "import albumentations as A\n",
    "import copy\n",
    "import cv2\n",
    "import numpy as np\n",
    "import pandas as pd\n",
    "\n",
    "from albumentations.pytorch.transforms import ToTensorV2\n",
    "from glob import glob\n",
    "\n",
    "import torch\n",
    "import torch.nn as nn\n",
    "import torch.nn.functional as F\n",
    "import timm\n",
    "from torch.utils.data import DataLoader, Dataset\n",
    "device = torch.device('cuda' if torch.cuda.is_available() else 'cpu')\n",
    "#device = torch.device('cpu')\n",
    "\n",
    "#import warnings\n",
    "#warnings.filterwarnings(\"ignore\")\n",
    "\n",
    "from fastprogress import master_bar, progress_bar\n",
    "\n",
    "\n",
    "def seed_everything(seed=777):\n",
    "    random.seed(seed)\n",
    "    os.environ['PYTHONHASHSEED'] = str(seed)\n",
    "    np.random.seed(seed)\n",
    "    torch.manual_seed(seed)\n",
    "    torch.cuda.manual_seed(seed)\n",
    "    #torch.backends.cudnn.deterministic = True\n",
    "\n",
    "SEED = 777\n",
    "seed_everything(SEED)\n",
    "\n",
    "torch.__version__"
   ]
  },
  {
   "cell_type": "code",
   "execution_count": 3,
   "metadata": {
    "execution": {
     "iopub.execute_input": "2021-02-16T16:05:28.240979Z",
     "iopub.status.busy": "2021-02-16T16:05:28.239711Z",
     "iopub.status.idle": "2021-02-16T16:05:28.242184Z",
     "shell.execute_reply": "2021-02-16T16:05:28.242610Z"
    },
    "papermill": {
     "duration": 0.01702,
     "end_time": "2021-02-16T16:05:28.242716",
     "exception": false,
     "start_time": "2021-02-16T16:05:28.225696",
     "status": "completed"
    },
    "tags": []
   },
   "outputs": [],
   "source": [
    "data_path = '../input/cassava-leaf-disease-classification/'\n",
    "\n",
    "class CFG:\n",
    "    device = device\n",
    "    debug = False\n",
    "    \n",
    "    # data set \n",
    "    size = 512\n",
    "    cat_nums = None\n",
    "    bs = 16\n",
    "    pre_load = True\n",
    "    worker = 0    \n",
    "\n",
    "    # model\n",
    "    epochs = 15\n",
    "    model_name = 'tf_efficientnet_b3_ns'\n",
    "    hidden_size = 256\n",
    "    dropout = 0.5\n",
    "    \n",
    "    # gradient\n",
    "    iters_to_accumulate = 1\n",
    "    max_grad_norm = 0.5\n",
    "    criterion = nn.CrossEntropyLoss()\n",
    "    metric = None\n",
    "    \n",
    "    # optimizer\n",
    "    lr = 3e-4\n",
    "    wd = 1e-6\n",
    "    patience = 4\n",
    "    optimizer = torch.optim.Adam\n",
    "    optim_param = {'lr': lr, 'weight_decay': wd}\n",
    "    scheduler = torch.optim.lr_scheduler.LambdaLR\n",
    "    scheduler_param = {'lr_lambda': lambda epoch: 1}\n",
    "    \n",
    "    # TTA\n",
    "    tta_nums = 9    \n",
    "if CFG.debug: data_path = '../input/debug/'"
   ]
  },
  {
   "cell_type": "code",
   "execution_count": 4,
   "metadata": {
    "execution": {
     "iopub.execute_input": "2021-02-16T16:05:28.267308Z",
     "iopub.status.busy": "2021-02-16T16:05:28.266092Z",
     "iopub.status.idle": "2021-02-16T16:05:28.268520Z",
     "shell.execute_reply": "2021-02-16T16:05:28.268954Z"
    },
    "papermill": {
     "duration": 0.020408,
     "end_time": "2021-02-16T16:05:28.269051",
     "exception": false,
     "start_time": "2021-02-16T16:05:28.248643",
     "status": "completed"
    },
    "tags": []
   },
   "outputs": [],
   "source": [
    "aug = A.Compose([\n",
    "    A.Transpose(p=0.5),\n",
    "    A.HorizontalFlip(p=0.5),\n",
    "    A.VerticalFlip(p=0.5),\n",
    "    A.ShiftScaleRotate(p=0.5),\n",
    "     A.HueSaturationValue(hue_shift_limit=5, \n",
    "                             sat_shift_limit=5, \n",
    "                             val_shift_limit=5),\n",
    "    A.RandomGamma(),\n",
    "    \n",
    "])\n",
    "\n",
    "\n",
    "\n",
    "def get_transforms(aug=None, size=CFG.size):\n",
    "    resize = A.OneOf([\n",
    "        #A.Resize(size, size, p=0.1),\n",
    "        #A.RandomCrop(size, size, p=0.9),\n",
    "        A.RandomResizedCrop(size, size),\n",
    "    ], p=1.0) if aug else A.Resize(size, size)\n",
    "\n",
    "    return A.Compose(\n",
    "        [\n",
    "            resize, \n",
    "            aug,\n",
    "            A.Normalize(\n",
    "                mean=[0.485, 0.456, 0.406],\n",
    "                std=[0.229, 0.224, 0.225],\n",
    "            ),\n",
    "            ToTensorV2()\n",
    "        ],\n",
    "        p=1.0,\n",
    "    )\n",
    "\n",
    "\n",
    "class TestDataset(Dataset):\n",
    "    def __init__(self, test_df, image_paths, transform=None):\n",
    "        self.test_names = test_df.image_id.values\n",
    "        self.image_paths = image_paths\n",
    "        self.transform = get_transforms(transform)\n",
    "\n",
    "    def __len__(self):\n",
    "        return len(self.test_names)\n",
    "\n",
    "    def __getitem__(self, idx):\n",
    "        img_name = self.test_names[idx]\n",
    "        x = cv2.imread(self.image_paths + img_name)[..., ::-1].copy()\n",
    "        #x = self.transform(image=x)['image']  # .to(device)\n",
    "        return x, img_name"
   ]
  },
  {
   "cell_type": "code",
   "execution_count": 5,
   "metadata": {
    "execution": {
     "iopub.execute_input": "2021-02-16T16:05:28.292663Z",
     "iopub.status.busy": "2021-02-16T16:05:28.292052Z",
     "iopub.status.idle": "2021-02-16T16:05:28.295771Z",
     "shell.execute_reply": "2021-02-16T16:05:28.295354Z"
    },
    "papermill": {
     "duration": 0.020865,
     "end_time": "2021-02-16T16:05:28.295854",
     "exception": false,
     "start_time": "2021-02-16T16:05:28.274989",
     "status": "completed"
    },
    "tags": []
   },
   "outputs": [],
   "source": [
    "class PredictModel(nn.Module):\n",
    "    def __init__(self,\n",
    "                 model_name='tf_efficientnet_b0_ns',\n",
    "                 model_path='./',\n",
    "                 n_class=5):\n",
    "        super().__init__()\n",
    "        # create single\n",
    "        self.model = timm.create_model(model_name,\n",
    "                                       in_chans=3)\n",
    "        nums_in_features = self.model.classifier.in_features\n",
    "        self.model.classifier = nn.Linear(nums_in_features, n_class)\n",
    "        self.freeze()\n",
    "        self.model.eval().to(device)\n",
    "\n",
    "        # load checkpoints\n",
    "        checkpoints = [torch.load(path, map_location=torch.device('cpu'))\n",
    "                       for path in glob(model_path + 'fold*.pth')]\n",
    "        # create models\n",
    "        self.models = [copy.deepcopy(self.model)\n",
    "                       for _ in range(len(checkpoints))]\n",
    "        # load weights\n",
    "        for idx, checkpoint in enumerate(checkpoints):\n",
    "            self.models[idx].load_state_dict(checkpoint['model_state_dict'])\n",
    "\n",
    "    def forward(self, x):\n",
    "        with torch.no_grad():\n",
    "            x = torch.mean(torch.cat([model(x)[None]\n",
    "                                      for model in self.models], dim=0), dim=0)\n",
    "        return x\n",
    "\n",
    "    def freeze(self, n=None):\n",
    "        for param in list(self.model.parameters())[:n]:\n",
    "            param.requires_grad = False\n",
    "\n",
    "    def unfreeze(self):\n",
    "        for param in self.model.parameters():\n",
    "            param.requires_grad = True"
   ]
  },
  {
   "cell_type": "code",
   "execution_count": 6,
   "metadata": {
    "execution": {
     "iopub.execute_input": "2021-02-16T16:05:28.312412Z",
     "iopub.status.busy": "2021-02-16T16:05:28.311933Z",
     "iopub.status.idle": "2021-02-16T16:05:44.727969Z",
     "shell.execute_reply": "2021-02-16T16:05:44.727433Z"
    },
    "papermill": {
     "duration": 16.426158,
     "end_time": "2021-02-16T16:05:44.728076",
     "exception": false,
     "start_time": "2021-02-16T16:05:28.301918",
     "status": "completed"
    },
    "tags": []
   },
   "outputs": [],
   "source": [
    "model = PredictModel(model_name=CFG.model_name,\n",
    "                     model_path='../input/cldefb30894611/')"
   ]
  },
  {
   "cell_type": "code",
   "execution_count": 7,
   "metadata": {
    "execution": {
     "iopub.execute_input": "2021-02-16T16:05:44.751857Z",
     "iopub.status.busy": "2021-02-16T16:05:44.749945Z",
     "iopub.status.idle": "2021-02-16T16:05:45.879618Z",
     "shell.execute_reply": "2021-02-16T16:05:45.879131Z"
    },
    "papermill": {
     "duration": 1.144818,
     "end_time": "2021-02-16T16:05:45.879728",
     "exception": false,
     "start_time": "2021-02-16T16:05:44.734910",
     "status": "completed"
    },
    "tags": []
   },
   "outputs": [
    {
     "data": {
      "text/html": [
       "<div>\n",
       "<style scoped>\n",
       "    .dataframe tbody tr th:only-of-type {\n",
       "        vertical-align: middle;\n",
       "    }\n",
       "\n",
       "    .dataframe tbody tr th {\n",
       "        vertical-align: top;\n",
       "    }\n",
       "\n",
       "    .dataframe thead th {\n",
       "        text-align: right;\n",
       "    }\n",
       "</style>\n",
       "<table border=\"1\" class=\"dataframe\">\n",
       "  <thead>\n",
       "    <tr style=\"text-align: right;\">\n",
       "      <th></th>\n",
       "      <th>image_id</th>\n",
       "      <th>label</th>\n",
       "    </tr>\n",
       "  </thead>\n",
       "  <tbody>\n",
       "    <tr>\n",
       "      <th>0</th>\n",
       "      <td>2216849948.jpg</td>\n",
       "      <td>4</td>\n",
       "    </tr>\n",
       "  </tbody>\n",
       "</table>\n",
       "</div>"
      ],
      "text/plain": [
       "         image_id  label\n",
       "0  2216849948.jpg      4"
      ]
     },
     "execution_count": 7,
     "metadata": {},
     "output_type": "execute_result"
    }
   ],
   "source": [
    "from scipy import stats\n",
    "\n",
    "test_path = '../input/cassava-leaf-disease-classification/'\n",
    "image_path = test_path + 'test_images/'\n",
    "test_df = pd.read_csv(test_path + 'sample_submission.csv')\n",
    "\n",
    "test_ds = TestDataset(test_df=test_df, \n",
    "                      image_paths=image_path, \n",
    "                      transform=None)\n",
    "test_dl = DataLoader(test_ds, batch_size=1)\n",
    "\n",
    "for xs, names in test_dl:\n",
    "    xs = torch.stack([get_transforms(aug)(image=xs[0].numpy())['image'] \n",
    "                      for _ in range(CFG.tta_nums)])\n",
    "    xs = xs.to(device)\n",
    "    preds = model(xs).detach().cpu().numpy()\n",
    "    #a = preds.argmax(1)\n",
    "    preds = stats.mode(preds.argmax(1))[0].item()\n",
    "    test_df.loc[test_df.image_id.isin(names), 'label'] = preds\n",
    "    \n",
    "test_df"
   ]
  },
  {
   "cell_type": "code",
   "execution_count": 8,
   "metadata": {
    "execution": {
     "iopub.execute_input": "2021-02-16T16:05:45.897706Z",
     "iopub.status.busy": "2021-02-16T16:05:45.897023Z",
     "iopub.status.idle": "2021-02-16T16:05:46.116840Z",
     "shell.execute_reply": "2021-02-16T16:05:46.115884Z"
    },
    "papermill": {
     "duration": 0.230032,
     "end_time": "2021-02-16T16:05:46.116954",
     "exception": false,
     "start_time": "2021-02-16T16:05:45.886922",
     "status": "completed"
    },
    "tags": []
   },
   "outputs": [],
   "source": [
    "test_df.to_csv('submission.csv', index=False)"
   ]
  }
 ],
 "metadata": {
  "kernelspec": {
   "display_name": "Python 3",
   "language": "python",
   "name": "python3"
  },
  "language_info": {
   "codemirror_mode": {
    "name": "ipython",
    "version": 3
   },
   "file_extension": ".py",
   "mimetype": "text/x-python",
   "name": "python",
   "nbconvert_exporter": "python",
   "pygments_lexer": "ipython3",
   "version": "3.7.6"
  },
  "papermill": {
   "duration": 26.245569,
   "end_time": "2021-02-16T16:05:46.635488",
   "environment_variables": {},
   "exception": null,
   "input_path": "__notebook__.ipynb",
   "output_path": "__notebook__.ipynb",
   "parameters": {},
   "start_time": "2021-02-16T16:05:20.389919",
   "version": "2.1.0"
  }
 },
 "nbformat": 4,
 "nbformat_minor": 4
}
