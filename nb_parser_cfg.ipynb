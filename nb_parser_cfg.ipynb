{
 "cells": [
  {
   "cell_type": "code",
   "execution_count": 1,
   "metadata": {
    "ExecuteTime": {
     "end_time": "2021-01-21T06:50:47.873244Z",
     "start_time": "2021-01-21T06:50:47.870764Z"
    }
   },
   "outputs": [],
   "source": [
    "import argparse"
   ]
  },
  {
   "cell_type": "code",
   "execution_count": 2,
   "metadata": {
    "ExecuteTime": {
     "end_time": "2021-01-21T06:50:47.884156Z",
     "start_time": "2021-01-21T06:50:47.874732Z"
    }
   },
   "outputs": [
    {
     "name": "stderr",
     "output_type": "stream",
     "text": [
      "usage: ipykernel_launcher.py [-h] [--weights WEIGHTS] [--epochs EPOCHS]\n",
      "                             [--batch-size BATCH_SIZE]\n",
      "                             [--img-size IMG_SIZE [IMG_SIZE ...]]\n",
      "ipykernel_launcher.py: error: unrecognized arguments: -f C:\\Users\\utl\\AppData\\Roaming\\jupyter\\runtime\\kernel-cd93b55a-7eec-4e6f-9190-216438715d3a.json\n"
     ]
    },
    {
     "ename": "SystemExit",
     "evalue": "2",
     "output_type": "error",
     "traceback": [
      "An exception has occurred, use %tb to see the full traceback.\n",
      "\u001b[1;31mSystemExit\u001b[0m\u001b[1;31m:\u001b[0m 2\n"
     ]
    },
    {
     "name": "stderr",
     "output_type": "stream",
     "text": [
      "C:\\Users\\utl\\anaconda3\\lib\\site-packages\\IPython\\core\\interactiveshell.py:3339: UserWarning: To exit: use 'exit', 'quit', or Ctrl-D.\n",
      "  warn(\"To exit: use 'exit', 'quit', or Ctrl-D.\", stacklevel=1)\n"
     ]
    }
   ],
   "source": [
    "# would raise error in jupyter notebook\n",
    "def create_parser():\n",
    "    parser = argparse.ArgumentParser()\n",
    "    #parser.add_argument('nbdebugger', help='pass this arg to let nb run parser')\n",
    "    parser.add_argument('--weights', type=str, default='test.pt', help='initial weights path')\n",
    "    parser.add_argument('--epochs', type=int, default=300)\n",
    "    parser.add_argument('--batch-size', type=int, default=16, help='total batch size for all GPUs')\n",
    "    parser.add_argument('--img-size', nargs='+', type=int, default=[640, 640], help='train, test sizes')\n",
    "    return parser.parse_args()\n",
    "\n",
    "parser = create_parser()"
   ]
  },
  {
   "cell_type": "code",
   "execution_count": 3,
   "metadata": {
    "ExecuteTime": {
     "end_time": "2021-01-21T06:50:54.127306Z",
     "start_time": "2021-01-21T06:50:54.117910Z"
    }
   },
   "outputs": [
    {
     "data": {
      "text/plain": [
       "123"
      ]
     },
     "execution_count": 3,
     "metadata": {},
     "output_type": "execute_result"
    }
   ],
   "source": [
    "def create_parser():\n",
    "    parser = argparse.ArgumentParser()\n",
    "    parser.add_argument('nbdebugger', help='pass this arg to let nb run parser')\n",
    "    \n",
    "    parser.add_argument('--weights', type=str, default='test.pt', help='initial weights path')\n",
    "    parser.add_argument('--epochs', type=int, default=300)\n",
    "    parser.add_argument('--batch-size', type=int, default=16, help='total batch size for all GPUs')\n",
    "    parser.add_argument('--img-size', nargs='+', type=int, default=[640, 640], help='train, test sizes')\n",
    "    return parser.parse_args(['nbdebugger'])\n",
    "\n",
    "parser = create_parser()\n",
    "parser.abc = 123\n",
    "parser.abc"
   ]
  },
  {
   "cell_type": "code",
   "execution_count": 4,
   "metadata": {
    "ExecuteTime": {
     "end_time": "2021-01-21T06:50:54.827161Z",
     "start_time": "2021-01-21T06:50:54.822698Z"
    }
   },
   "outputs": [
    {
     "data": {
      "text/plain": [
       "16"
      ]
     },
     "execution_count": 4,
     "metadata": {},
     "output_type": "execute_result"
    }
   ],
   "source": [
    "class CFG:\n",
    "    debug = False\n",
    "    \n",
    "    # data set \n",
    "    size = 512\n",
    "    cat_nums = None\n",
    "    bs = 16\n",
    "    pre_load = True\n",
    "    worker = 0    \n",
    "\n",
    "    # model\n",
    "    epochs = 15\n",
    "    model_name = 'tf_efficientnet_b1_ns'\n",
    "    hidden_size = 256\n",
    "    dropout = 0.5\n",
    "    \n",
    "    # gradient\n",
    "    iters_to_accumulate = 1\n",
    "    metric = None\n",
    "    \n",
    "if CFG.debug: data_path = '../input/debug/'\n",
    "    \n",
    "CFG.bs"
   ]
  },
  {
   "cell_type": "code",
   "execution_count": 5,
   "metadata": {
    "ExecuteTime": {
     "end_time": "2021-01-21T06:50:55.286458Z",
     "start_time": "2021-01-21T06:50:55.281001Z"
    }
   },
   "outputs": [
    {
     "data": {
      "text/plain": [
       "123"
      ]
     },
     "execution_count": 5,
     "metadata": {},
     "output_type": "execute_result"
    }
   ],
   "source": [
    "CFG = dict(\n",
    "    debug = False,\n",
    "    \n",
    "    # data set \n",
    "    size = 512,\n",
    "    cat_nums = None,\n",
    "    bs = 16,\n",
    "    pre_load = True,\n",
    "    worker = 0,\n",
    "\n",
    "    # model\n",
    "    epochs = 15,\n",
    "    model_name = 'tf_efficientnet_b1_ns',\n",
    "    hidden_size = 256,\n",
    "    dropout = 0.5,\n",
    "    \n",
    "    # gradient\n",
    "    iters_to_accumulate = 1,\n",
    "    metric = None,)\n",
    "    \n",
    "if CFG['debug']: data_path = '../input/debug/'\n",
    "    \n",
    "CFG['abc'] = 123\n",
    "CFG['abc']"
   ]
  },
  {
   "cell_type": "code",
   "execution_count": 6,
   "metadata": {
    "ExecuteTime": {
     "end_time": "2021-01-21T06:50:55.767577Z",
     "start_time": "2021-01-21T06:50:55.763610Z"
    }
   },
   "outputs": [
    {
     "data": {
      "text/plain": [
       "123"
      ]
     },
     "execution_count": 6,
     "metadata": {},
     "output_type": "execute_result"
    }
   ],
   "source": [
    "CFG = {\n",
    "    'debug': False,\n",
    "    \n",
    "    # data set \n",
    "    'size': 512,    \n",
    "    \n",
    "}\n",
    "\n",
    "\n",
    "    \n",
    "if CFG['debug']: data_path = '../input/debug/'\n",
    "    \n",
    "CFG['abc'] = 123\n",
    "CFG['abc']"
   ]
  },
  {
   "cell_type": "code",
   "execution_count": null,
   "metadata": {},
   "outputs": [],
   "source": []
  }
 ],
 "metadata": {
  "kernelspec": {
   "display_name": "Python 3",
   "language": "python",
   "name": "python3"
  },
  "language_info": {
   "codemirror_mode": {
    "name": "ipython",
    "version": 3
   },
   "file_extension": ".py",
   "mimetype": "text/x-python",
   "name": "python",
   "nbconvert_exporter": "python",
   "pygments_lexer": "ipython3",
   "version": "3.7.6"
  },
  "toc": {
   "base_numbering": 1,
   "nav_menu": {},
   "number_sections": true,
   "sideBar": true,
   "skip_h1_title": false,
   "title_cell": "Table of Contents",
   "title_sidebar": "Contents",
   "toc_cell": false,
   "toc_position": {},
   "toc_section_display": true,
   "toc_window_display": false
  },
  "varInspector": {
   "cols": {
    "lenName": 16,
    "lenType": 16,
    "lenVar": 40
   },
   "kernels_config": {
    "python": {
     "delete_cmd_postfix": "",
     "delete_cmd_prefix": "del ",
     "library": "var_list.py",
     "varRefreshCmd": "print(var_dic_list())"
    },
    "r": {
     "delete_cmd_postfix": ") ",
     "delete_cmd_prefix": "rm(",
     "library": "var_list.r",
     "varRefreshCmd": "cat(var_dic_list()) "
    }
   },
   "types_to_exclude": [
    "module",
    "function",
    "builtin_function_or_method",
    "instance",
    "_Feature"
   ],
   "window_display": false
  }
 },
 "nbformat": 4,
 "nbformat_minor": 4
}
