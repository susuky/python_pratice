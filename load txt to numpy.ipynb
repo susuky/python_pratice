{
 "cells": [
  {
   "cell_type": "code",
   "execution_count": 1,
   "metadata": {
    "ExecuteTime": {
     "end_time": "2020-05-26T14:32:57.353773Z",
     "start_time": "2020-05-26T14:32:57.286702Z"
    }
   },
   "outputs": [],
   "source": [
    "import numpy as np"
   ]
  },
  {
   "cell_type": "code",
   "execution_count": 2,
   "metadata": {
    "ExecuteTime": {
     "end_time": "2020-05-26T14:32:57.357676Z",
     "start_time": "2020-05-26T14:32:57.354717Z"
    }
   },
   "outputs": [],
   "source": [
    "def read_data(data_path, file_name):\n",
    "    x = []\n",
    "    with open(data_path + file_name) as f:\n",
    "        for line in f:\n",
    "            x.append(line.strip().split(\" \"))\n",
    "    return np.float64(x)"
   ]
  },
  {
   "cell_type": "code",
   "execution_count": 3,
   "metadata": {
    "ExecuteTime": {
     "end_time": "2020-05-26T14:32:58.408729Z",
     "start_time": "2020-05-26T14:32:57.358704Z"
    }
   },
   "outputs": [],
   "source": [
    "dummy_data = np.random.uniform(-3e-3, 3e-3, size=(10000, 120))\n",
    "np.savetxt('dummy_data.txt', dummy_data)"
   ]
  },
  {
   "cell_type": "code",
   "execution_count": 4,
   "metadata": {
    "ExecuteTime": {
     "end_time": "2020-05-26T14:33:11.881111Z",
     "start_time": "2020-05-26T14:32:58.409759Z"
    }
   },
   "outputs": [
    {
     "name": "stdout",
     "output_type": "stream",
     "text": [
      "1.01 s ± 18.8 ms per loop (mean ± std. dev. of 7 runs, 1 loop each)\n",
      "665 ms ± 2.25 ms per loop (mean ± std. dev. of 7 runs, 1 loop each)\n"
     ]
    }
   ],
   "source": [
    "%timeit np.loadtxt('dummy_data.txt')\n",
    "%timeit read_data('./', 'dummy_data.txt')"
   ]
  },
  {
   "cell_type": "code",
   "execution_count": 5,
   "metadata": {
    "ExecuteTime": {
     "end_time": "2020-05-26T14:33:13.556338Z",
     "start_time": "2020-05-26T14:33:11.882110Z"
    }
   },
   "outputs": [
    {
     "data": {
      "text/plain": [
       "True"
      ]
     },
     "execution_count": 5,
     "metadata": {},
     "output_type": "execute_result"
    }
   ],
   "source": [
    "a = np.loadtxt('dummy_data.txt')\n",
    "b = read_data('./', 'dummy_data.txt')\n",
    "np.all(a == b)"
   ]
  },
  {
   "cell_type": "code",
   "execution_count": 6,
   "metadata": {
    "ExecuteTime": {
     "end_time": "2020-05-26T14:33:13.561368Z",
     "start_time": "2020-05-26T14:33:13.557365Z"
    },
    "scrolled": false
   },
   "outputs": [
    {
     "data": {
      "text/plain": [
       "(array([[-2.04418585e-03,  1.92811275e-03, -2.51805210e-03, ...,\n",
       "          3.19455358e-04, -2.65585593e-03, -2.61432503e-03],\n",
       "        [-8.68835931e-04, -1.30362032e-03, -2.62496934e-03, ...,\n",
       "         -1.72302298e-03, -2.81814284e-03,  2.87112448e-03],\n",
       "        [ 6.30846602e-04,  6.09386256e-04, -2.84420206e-03, ...,\n",
       "         -7.80344367e-04,  1.84874364e-03, -1.95843618e-03],\n",
       "        ...,\n",
       "        [-5.18837433e-04,  1.98973885e-03, -1.97718749e-03, ...,\n",
       "          2.24076721e-03, -1.54118845e-03,  6.78107258e-04],\n",
       "        [-7.88154099e-05, -1.76571093e-03,  1.53782293e-03, ...,\n",
       "          1.16821602e-03, -1.78117803e-03, -1.57114301e-04],\n",
       "        [-7.93148069e-04, -1.30642051e-03, -9.62002663e-04, ...,\n",
       "          8.43110574e-04, -8.65193444e-04, -1.89867390e-03]]),\n",
       " array([[-2.04418585e-03,  1.92811275e-03, -2.51805210e-03, ...,\n",
       "          3.19455358e-04, -2.65585593e-03, -2.61432503e-03],\n",
       "        [-8.68835931e-04, -1.30362032e-03, -2.62496934e-03, ...,\n",
       "         -1.72302298e-03, -2.81814284e-03,  2.87112448e-03],\n",
       "        [ 6.30846602e-04,  6.09386256e-04, -2.84420206e-03, ...,\n",
       "         -7.80344367e-04,  1.84874364e-03, -1.95843618e-03],\n",
       "        ...,\n",
       "        [-5.18837433e-04,  1.98973885e-03, -1.97718749e-03, ...,\n",
       "          2.24076721e-03, -1.54118845e-03,  6.78107258e-04],\n",
       "        [-7.88154099e-05, -1.76571093e-03,  1.53782293e-03, ...,\n",
       "          1.16821602e-03, -1.78117803e-03, -1.57114301e-04],\n",
       "        [-7.93148069e-04, -1.30642051e-03, -9.62002663e-04, ...,\n",
       "          8.43110574e-04, -8.65193444e-04, -1.89867390e-03]]))"
      ]
     },
     "execution_count": 6,
     "metadata": {},
     "output_type": "execute_result"
    }
   ],
   "source": [
    "a, b"
   ]
  },
  {
   "cell_type": "code",
   "execution_count": null,
   "metadata": {},
   "outputs": [],
   "source": []
  },
  {
   "cell_type": "code",
   "execution_count": null,
   "metadata": {},
   "outputs": [],
   "source": []
  },
  {
   "cell_type": "code",
   "execution_count": null,
   "metadata": {},
   "outputs": [],
   "source": []
  },
  {
   "cell_type": "code",
   "execution_count": 7,
   "metadata": {
    "ExecuteTime": {
     "end_time": "2020-05-26T14:33:13.569337Z",
     "start_time": "2020-05-26T14:33:13.563338Z"
    }
   },
   "outputs": [
    {
     "data": {
      "text/plain": [
       "[['-1.29829905 -1.19496157 -1.10283498 -0.46379641 -0.53723491'],\n",
       " [' 1.40955314 -0.09115153  0.60161782  0.09834245 -0.80573494'],\n",
       " [' 0.90252064 -2.41353119 -1.46439993 -1.00104482  1.66347024'],\n",
       " [' 0.67920901  1.22630579 -0.35148261  0.13053452  0.14907968'],\n",
       " [' 0.18031458 -0.6598529  -0.15367961  1.0750974  -0.26767925'],\n",
       " ['-0.12627781  0.07086753  1.25429773  0.65116146 -0.73369458'],\n",
       " [' 1.24676788 -0.98648199  0.19955325  0.91404594  0.77520433'],\n",
       " ['-1.20985464 -0.7105508   0.865829   -1.79192019 -1.84909661'],\n",
       " [' 0.40187226 -1.50404414  0.56844119  0.91143738 -0.91950394'],\n",
       " ['-0.57480632 -0.02180409  0.29768273 -0.69065849 -0.91722801']]"
      ]
     },
     "execution_count": 7,
     "metadata": {},
     "output_type": "execute_result"
    }
   ],
   "source": [
    "dummy_data = []\n",
    "\n",
    "for i in range(10):\n",
    "    dummy_data.append([])\n",
    "    dummy_data[i].append(\n",
    "        str(np.random.randn(5)).replace('[', '').replace(']', ''))\n",
    "    \n",
    "dummy_data"
   ]
  }
 ],
 "metadata": {
  "kernelspec": {
   "display_name": "Python 3",
   "language": "python",
   "name": "python3"
  },
  "language_info": {
   "codemirror_mode": {
    "name": "ipython",
    "version": 3
   },
   "file_extension": ".py",
   "mimetype": "text/x-python",
   "name": "python",
   "nbconvert_exporter": "python",
   "pygments_lexer": "ipython3",
   "version": "3.7.6"
  },
  "toc": {
   "base_numbering": 1,
   "nav_menu": {},
   "number_sections": true,
   "sideBar": true,
   "skip_h1_title": false,
   "title_cell": "Table of Contents",
   "title_sidebar": "Contents",
   "toc_cell": false,
   "toc_position": {},
   "toc_section_display": true,
   "toc_window_display": false
  },
  "varInspector": {
   "cols": {
    "lenName": 16,
    "lenType": 16,
    "lenVar": 40
   },
   "kernels_config": {
    "python": {
     "delete_cmd_postfix": "",
     "delete_cmd_prefix": "del ",
     "library": "var_list.py",
     "varRefreshCmd": "print(var_dic_list())"
    },
    "r": {
     "delete_cmd_postfix": ") ",
     "delete_cmd_prefix": "rm(",
     "library": "var_list.r",
     "varRefreshCmd": "cat(var_dic_list()) "
    }
   },
   "types_to_exclude": [
    "module",
    "function",
    "builtin_function_or_method",
    "instance",
    "_Feature"
   ],
   "window_display": false
  }
 },
 "nbformat": 4,
 "nbformat_minor": 4
}
