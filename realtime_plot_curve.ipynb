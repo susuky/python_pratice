{
 "cells": [
  {
   "cell_type": "code",
   "execution_count": 23,
   "metadata": {
    "ExecuteTime": {
     "end_time": "2020-06-05T13:45:40.646834Z",
     "start_time": "2020-06-05T13:45:40.643836Z"
    }
   },
   "outputs": [],
   "source": [
    "import numpy as np\n",
    "import matplotlib.pyplot as plt\n",
    "import time\n",
    "%matplotlib qt"
   ]
  },
  {
   "cell_type": "markdown",
   "metadata": {},
   "source": [
    "# Create Data"
   ]
  },
  {
   "cell_type": "code",
   "execution_count": 7,
   "metadata": {
    "ExecuteTime": {
     "end_time": "2020-06-05T13:39:44.300114Z",
     "start_time": "2020-06-05T13:39:44.295114Z"
    }
   },
   "outputs": [],
   "source": [
    "# data to plot\n",
    "x = np.arange(-30, 30, 0.1)\n",
    "def f(x): return np.sin(x) * 20\n",
    "def l(x): return x\n",
    "def g(x): return -x\n",
    "\n",
    "value = lambda x: np.array([[f(x), f(x), f(x)],\n",
    "                            [l(x), l(x), l(x)],\n",
    "                            [g(x), g(x), g(x)]])\n",
    "\n",
    "def yield_value():\n",
    "    for i in x:\n",
    "        yield value(i)"
   ]
  },
  {
   "cell_type": "markdown",
   "metadata": {},
   "source": [
    "# plot single"
   ]
  },
  {
   "cell_type": "code",
   "execution_count": 16,
   "metadata": {
    "ExecuteTime": {
     "end_time": "2020-06-05T13:42:13.377614Z",
     "start_time": "2020-06-05T13:41:50.621727Z"
    },
    "code_folding": [],
    "scrolled": true
   },
   "outputs": [
    {
     "data": {
      "text/plain": [
       "[<matplotlib.lines.Line2D at 0x149415bb5c8>]"
      ]
     },
     "execution_count": 16,
     "metadata": {},
     "output_type": "execute_result"
    },
    {
     "data": {
      "image/png": "[encoded data removed]",
      "text/plain": [
       "<Figure size 432x288 with 1 Axes>"
      ]
     },
     "metadata": {
      "needs_background": "light"
     },
     "output_type": "display_data"
    }
   ],
   "source": [
    "# plot single fig first\n",
    "%matplotlib qt\n",
    "\n",
    "buffer = []\n",
    "interval = 100\n",
    "i = 0\n",
    "\n",
    "for i in range(len(x)):\n",
    "    buffer.append(value(x[i]))\n",
    "    plt.ylim((-31, 31))\n",
    "\n",
    "    if i > interval:\n",
    "        interval_buf = np.array(buffer[i - interval:i])\n",
    "        x_axis = range(i - interval + 1, i + 1)\n",
    "        plt.plot(x_axis, interval_buf[:, 0, 0], 'C1')\n",
    "    else:\n",
    "        interval_buf = np.array(buffer)\n",
    "        x_axis = range(i + 1)\n",
    "        plt.plot(x_axis, interval_buf[:, 0, 0], 'C1')\n",
    "    plt.pause(1e-32)\n",
    "    plt.clf()\n",
    "    \n",
    "%matplotlib inline\n",
    "plt.ylim((-31, 31))\n",
    "plt.plot(x_axis, interval_buf[:, 0, 0], 'C1')"
   ]
  },
  {
   "cell_type": "markdown",
   "metadata": {
    "heading_collapsed": true
   },
   "source": [
    "# test subplot speed"
   ]
  },
  {
   "cell_type": "markdown",
   "metadata": {
    "hidden": true
   },
   "source": [
    "very slow"
   ]
  },
  {
   "cell_type": "code",
   "execution_count": null,
   "metadata": {
    "ExecuteTime": {
     "end_time": "2020-06-04T14:54:11.800315Z",
     "start_time": "2020-06-04T14:54:07.422767Z"
    },
    "hidden": true
   },
   "outputs": [],
   "source": [
    "def plot_buffer(buffer):\n",
    "    def subplot_(values, c):\n",
    "        fig.add_subplot(3, 3, c)\n",
    "        plt.ylim(-31, 31)\n",
    "        # plt.title(title)\n",
    "        plt.plot(values)\n",
    "\n",
    "    interval_buf = np.array(buffer)\n",
    "    x_axis = range(1, len(buffer) + 1)    \n",
    "\n",
    "    fig = plt.figure(figsize=(12, 12))\n",
    "\n",
    "    c = 1\n",
    "    for j in range(3):\n",
    "        for i in range(3):\n",
    "            subplot_(interval_buf[:, j, i], c) \n",
    "            c += 1\n",
    "    plt.show()    \n",
    "%timeit plot_buffer(buffer)"
   ]
  },
  {
   "cell_type": "code",
   "execution_count": null,
   "metadata": {
    "ExecuteTime": {
     "end_time": "2020-06-04T14:54:16.187549Z",
     "start_time": "2020-06-04T14:54:11.801313Z"
    },
    "code_folding": [],
    "hidden": true
   },
   "outputs": [],
   "source": [
    "def plot_buffer(buffer):\n",
    "    fig, axarr = plt.subplots(3, 3, figsize=(12, 12))\n",
    "    \n",
    "    interval_buf = np.array(buffer)\n",
    "    x_axis = range(1, len(buffer) + 1)    \n",
    "\n",
    "    for j in range(3):\n",
    "        for i in range(3):\n",
    "            axarr[i][j].set_ylim(-31, 31)\n",
    "            axarr[i][j].plot(x_axis, interval_buf[:, i, j])\n",
    "    plt.show()\n",
    "    \n",
    "%timeit plot_buffer(buffer)"
   ]
  },
  {
   "cell_type": "markdown",
   "metadata": {},
   "source": [
    "# realtime"
   ]
  },
  {
   "cell_type": "markdown",
   "metadata": {},
   "source": [
    "## single fig"
   ]
  },
  {
   "cell_type": "code",
   "execution_count": 3,
   "metadata": {
    "ExecuteTime": {
     "end_time": "2020-06-05T13:39:08.989679Z",
     "start_time": "2020-06-05T13:39:08.985665Z"
    }
   },
   "outputs": [],
   "source": [
    "%matplotlib qt"
   ]
  },
  {
   "cell_type": "code",
   "execution_count": 15,
   "metadata": {
    "ExecuteTime": {
     "end_time": "2020-06-05T13:41:26.349743Z",
     "start_time": "2020-06-05T13:41:26.341770Z"
    },
    "code_folding": [
     0
    ]
   },
   "outputs": [],
   "source": [
    "def plot_wrap(mode='draw_artist', show_fps=False):\n",
    "    interval = 100\n",
    "    buffer = np.zeros((interval, 3, 3)).tolist()\n",
    "\n",
    "    # yield value\n",
    "    worker = yield_value()\n",
    "\n",
    "    # create fig\n",
    "    fig, axarr = plt.subplots()\n",
    "    axarr.set_ylim(-31, 31)\n",
    "    x_axis = range(interval)\n",
    "\n",
    "    # create Line2D object\n",
    "    interval_buf = np.array(buffer)\n",
    "    lines = []\n",
    "    lines.append(axarr.plot(x_axis, interval_buf[:interval, 0, 0], 'C0')[0])\n",
    "    fig.canvas.draw()\n",
    "    \n",
    "    start_time = time.time()\n",
    "    for i, v in enumerate(worker, 1):\n",
    "\n",
    "        buffer.append(v.tolist())\n",
    "        interval_buf = np.array(buffer)\n",
    "        lines[0].set_ydata(interval_buf[i:i + interval, 0, 0])\n",
    "        \n",
    "        if mode == 'draw_artist': \n",
    "            axarr.draw_artist(axarr.patch)\n",
    "            axarr.draw_artist(lines[0])\n",
    "            fig.canvas.update()\n",
    "            fig.canvas.flush_events()\n",
    "\n",
    "        elif mode == 'canvas_flush':\n",
    "            fig.canvas.draw()\n",
    "            fig.canvas.flush_events()       \n",
    "        elif mode == 'pause':\n",
    "            plt.pause(1e-16)\n",
    "        else:\n",
    "            raise NotImplementedError(f'doesn\\'t support mode: {mode}')\n",
    "        \n",
    "    if show_fps:\n",
    "        end_time = time.time()\n",
    "        dur = end_time - start_time\n",
    "        print(f'{dur / i * 1000:.4f} ms per frame')\n",
    "        print(f'fps = {i/dur}')"
   ]
  },
  {
   "cell_type": "markdown",
   "metadata": {
    "heading_collapsed": true
   },
   "source": [
    "### repeatly plot every frame(normal)"
   ]
  },
  {
   "cell_type": "markdown",
   "metadata": {
    "hidden": true
   },
   "source": [
    "need plt.pause() to prevent crash"
   ]
  },
  {
   "cell_type": "code",
   "execution_count": 23,
   "metadata": {
    "ExecuteTime": {
     "end_time": "2020-06-05T08:41:28.839347Z",
     "start_time": "2020-06-05T08:41:00.021771Z"
    },
    "hidden": true
   },
   "outputs": [
    {
     "name": "stdout",
     "output_type": "stream",
     "text": [
      "47.9627 ms per frame\n",
      "fps = 20.849546504279328\n"
     ]
    }
   ],
   "source": [
    "interval = 100\n",
    "buffer = np.zeros((interval, 3, 3)).tolist()\n",
    "\n",
    "# yield value\n",
    "worker = yield_value()\n",
    "\n",
    "# create fig\n",
    "fig, axarr = plt.subplots()\n",
    "axarr.set_ylim(-31, 31)\n",
    "x_axis = range(interval)\n",
    "\n",
    "# create Line2D object\n",
    "interval_buf = np.array(buffer)\n",
    "#lines = []\n",
    "#lines.append(axarr.plot(x_axis, interval_buf[:interval, 0, 0], 'C0')[0])\n",
    "axarr.plot(x_axis, interval_buf[:interval, 0, 0], 'C0')\n",
    "plt.show()\n",
    "\n",
    "start_time = time.time()\n",
    "for i, v in enumerate(worker, 1):\n",
    "    \n",
    "    buffer.append(v.tolist())\n",
    "    interval_buf = np.array(buffer)\n",
    "    #lines[0].set_data(x_axis, interval_buf[i:i+interval, 0, 0])\n",
    "    x_axis = range(interval+i, interval*2+i)\n",
    "    axarr.plot(x_axis, interval_buf[i:i+interval, 0, 0], 'C0')\n",
    "    plt.pause(1e-16)\n",
    "    \n",
    "end_time = time.time()\n",
    "dur = end_time - start_time\n",
    "print(f'{dur / i * 1000:.4f} ms per frame')\n",
    "print(f'fps = {i/dur}')"
   ]
  },
  {
   "cell_type": "markdown",
   "metadata": {
    "ExecuteTime": {
     "end_time": "2020-06-05T06:58:34.294241Z",
     "start_time": "2020-06-05T06:58:34.291240Z"
    },
    "heading_collapsed": true
   },
   "source": [
    "### only modify the fig data"
   ]
  },
  {
   "cell_type": "markdown",
   "metadata": {
    "hidden": true
   },
   "source": [
    "- To speed up, only modify the fig data instead of plot again."
   ]
  },
  {
   "cell_type": "code",
   "execution_count": 5,
   "metadata": {
    "ExecuteTime": {
     "end_time": "2020-06-05T13:39:19.466623Z",
     "start_time": "2020-06-05T13:39:11.457203Z"
    },
    "hidden": true
   },
   "outputs": [
    {
     "name": "stdout",
     "output_type": "stream",
     "text": [
      "13.2233 ms per frame\n",
      "fps = 75.62407880777683\n"
     ]
    }
   ],
   "source": [
    "plot_wrap('pause', show_fps=True)"
   ]
  },
  {
   "cell_type": "code",
   "execution_count": 33,
   "metadata": {
    "ExecuteTime": {
     "end_time": "2020-06-05T09:01:37.507222Z",
     "start_time": "2020-06-05T08:58:45.952997Z"
    },
    "hidden": true
   },
   "outputs": [
    {
     "name": "stdout",
     "output_type": "stream",
     "text": [
      "13.4346 ms per frame\n",
      "fps = 74.43483801939004\n",
      "25.3424 ms per frame\n",
      "fps = 39.459496760421025\n",
      "30.7488 ms per frame\n",
      "fps = 32.52163884618683\n",
      "34.7343 ms per frame\n",
      "fps = 28.789952773896914\n",
      "38.1473 ms per frame\n",
      "fps = 26.21417171825462\n",
      "42.6017 ms per frame\n",
      "fps = 23.47326191526815\n",
      "47.7375 ms per frame\n",
      "fps = 20.947891476677356\n",
      "52.6902 ms per frame\n",
      "fps = 18.978846311710388\n",
      "23.3 s ± 5.32 s per loop (mean ± std. dev. of 7 runs, 1 loop each)\n"
     ]
    }
   ],
   "source": [
    "%timeit plot_wrap('pause', show_fps=True)"
   ]
  },
  {
   "cell_type": "markdown",
   "metadata": {
    "heading_collapsed": true
   },
   "source": [
    "### canvas flush_events"
   ]
  },
  {
   "cell_type": "markdown",
   "metadata": {
    "hidden": true
   },
   "source": [
    "plt.pause() internally calls:\n",
    "         \n",
    "         fig.canvas.draw()\n",
    "         plt.show()\n",
    "         fig.canvas.start_event_loop()\n",
    "just remove plt.show()"
   ]
  },
  {
   "cell_type": "code",
   "execution_count": 7,
   "metadata": {
    "ExecuteTime": {
     "end_time": "2020-06-05T12:41:58.940031Z",
     "start_time": "2020-06-05T12:41:50.094392Z"
    },
    "hidden": true
   },
   "outputs": [
    {
     "name": "stdout",
     "output_type": "stream",
     "text": [
      "14.6377 ms per frame\n",
      "fps = 68.31659574985603\n"
     ]
    }
   ],
   "source": [
    "plot_wrap('canvas_flush', show_fps=True)"
   ]
  },
  {
   "cell_type": "code",
   "execution_count": 26,
   "metadata": {
    "ExecuteTime": {
     "end_time": "2020-06-05T10:54:20.758585Z",
     "start_time": "2020-06-05T10:53:13.017375Z"
    },
    "hidden": true
   },
   "outputs": [
    {
     "name": "stdout",
     "output_type": "stream",
     "text": [
      "14.1237 ms per frame\n",
      "fps = 70.8027511475494\n",
      "13.9946 ms per frame\n",
      "fps = 71.45609464185428\n",
      "14.0147 ms per frame\n",
      "fps = 71.35352134755722\n",
      "14.0296 ms per frame\n",
      "fps = 71.27761818137479\n",
      "14.0119 ms per frame\n",
      "fps = 71.36810691099993\n",
      "14.0311 ms per frame\n",
      "fps = 71.27021395968563\n",
      "14.0534 ms per frame\n",
      "fps = 71.15712973215116\n",
      "14.0618 ms per frame\n",
      "fps = 71.11474226038231\n",
      "8.45 s ± 13.7 ms per loop (mean ± std. dev. of 7 runs, 1 loop each)\n"
     ]
    }
   ],
   "source": [
    "%timeit plot_wrap('canvas_flush', show_fps=True)"
   ]
  },
  {
   "cell_type": "markdown",
   "metadata": {
    "heading_collapsed": true
   },
   "source": [
    "### draw_artist"
   ]
  },
  {
   "cell_type": "markdown",
   "metadata": {
    "hidden": true
   },
   "source": [
    "only draw the part that actually change"
   ]
  },
  {
   "cell_type": "code",
   "execution_count": 8,
   "metadata": {
    "ExecuteTime": {
     "end_time": "2020-06-05T13:39:49.572268Z",
     "start_time": "2020-06-05T13:39:47.682372Z"
    },
    "hidden": true
   },
   "outputs": [
    {
     "name": "stdout",
     "output_type": "stream",
     "text": [
      "3.0515 ms per frame\n",
      "fps = 327.70782102855605\n"
     ]
    }
   ],
   "source": [
    "plot_wrap('draw_artist', show_fps=True)"
   ]
  },
  {
   "cell_type": "code",
   "execution_count": 6,
   "metadata": {
    "ExecuteTime": {
     "end_time": "2020-06-05T12:41:26.720428Z",
     "start_time": "2020-06-05T12:41:07.019726Z"
    },
    "hidden": true
   },
   "outputs": [
    {
     "name": "stdout",
     "output_type": "stream",
     "text": [
      "4.0639 ms per frame\n",
      "fps = 246.0717228895824\n",
      "3.9302 ms per frame\n",
      "fps = 254.440804639538\n",
      "4.2200 ms per frame\n",
      "fps = 236.96842514425268\n",
      "4.0850 ms per frame\n",
      "fps = 244.79673441245941\n",
      "3.9992 ms per frame\n",
      "fps = 250.0500928379314\n",
      "4.0551 ms per frame\n",
      "fps = 246.60058529587425\n",
      "3.8517 ms per frame\n",
      "fps = 259.6279348653889\n",
      "3.9009 ms per frame\n",
      "fps = 256.35118422423784\n",
      "2.45 s ± 70.1 ms per loop (mean ± std. dev. of 7 runs, 1 loop each)\n"
     ]
    }
   ],
   "source": [
    "%timeit plot_wrap('draw_artist', show_fps=True)"
   ]
  },
  {
   "cell_type": "markdown",
   "metadata": {},
   "source": [
    "## subplot"
   ]
  },
  {
   "cell_type": "code",
   "execution_count": 21,
   "metadata": {
    "ExecuteTime": {
     "end_time": "2020-06-05T13:45:28.631469Z",
     "start_time": "2020-06-05T13:45:28.595441Z"
    },
    "code_folding": [
     0
    ]
   },
   "outputs": [],
   "source": [
    "def plot_wrap_multi(mode='draw_artist', show_fps=False):\n",
    "    interval = 100\n",
    "    buffer = np.zeros((interval, 3, 3)).tolist()\n",
    "\n",
    "    # yield value\n",
    "    worker = yield_value()\n",
    "\n",
    "    # create fig\n",
    "    fig, axarr = plt.subplots(3, 3, figsize=(9, 9))\n",
    "    x_axis = range(interval)\n",
    "\n",
    "    interval_buf = np.array(buffer)\n",
    "\n",
    "    # create Line2D object\n",
    "    lines = []\n",
    "    for j in range(3):\n",
    "        for i in range(3):\n",
    "            axarr[i][j].set_ylim(-31, 31)\n",
    "            lines.append(axarr[i][j].plot(x_axis, interval_buf[:interval, i, j], 'C0')[0])\n",
    "            fig.canvas.draw()\n",
    "\n",
    "    start_time = time.time()\n",
    "    for idx, v in enumerate(worker, 1):\n",
    "\n",
    "        buffer.append(v.tolist())\n",
    "        interval_buf = np.array(buffer)\n",
    "        \n",
    "        if mode == 'draw_artist': \n",
    "            count = 0\n",
    "            for j in range(3):\n",
    "                for i in range(3):\n",
    "                    lines[count].set_ydata(interval_buf[idx:idx + interval, i, j])\n",
    "                    axarr[i][j].draw_artist(axarr[i][j].patch)\n",
    "                    axarr[i][j].draw_artist(lines[count])\n",
    "                    count += 1\n",
    "\n",
    "            fig.canvas.update()\n",
    "            fig.canvas.flush_events()\n",
    "            \n",
    "        else:\n",
    "            count = 0\n",
    "            for j in range(3):\n",
    "                for i in range(3):\n",
    "                    lines[count].set_ydata(interval_buf[idx:idx + interval, i, j])\n",
    "                    count += 1            \n",
    "            \n",
    "            if mode == 'canvas_flush':\n",
    "                fig.canvas.draw()\n",
    "                fig.canvas.flush_events()       \n",
    "            elif mode == 'pause':\n",
    "                plt.pause(1e-16)\n",
    "            else:\n",
    "                raise NotImplementedError(f'doesn\\'t support mode: {mode}')\n",
    "        \n",
    "    if show_fps:\n",
    "        end_time = time.time()\n",
    "        dur = end_time - start_time\n",
    "        print(f'{dur / idx * 1000:.4f} ms per frame')\n",
    "        print(f'fps = {idx / dur}')"
   ]
  },
  {
   "cell_type": "markdown",
   "metadata": {},
   "source": [
    "### only modify the fig data"
   ]
  },
  {
   "cell_type": "code",
   "execution_count": 24,
   "metadata": {
    "ExecuteTime": {
     "end_time": "2020-06-05T13:46:40.412119Z",
     "start_time": "2020-06-05T13:45:43.947883Z"
    }
   },
   "outputs": [
    {
     "name": "stdout",
     "output_type": "stream",
     "text": [
      "92.5300 ms per frame\n",
      "fps = 10.807300840990044\n"
     ]
    }
   ],
   "source": [
    "# still vary slow\n",
    "plot_wrap_multi('pause', show_fps=True)"
   ]
  },
  {
   "cell_type": "markdown",
   "metadata": {},
   "source": [
    "### canvas flush_events"
   ]
  },
  {
   "cell_type": "code",
   "execution_count": 17,
   "metadata": {
    "ExecuteTime": {
     "end_time": "2020-06-05T13:44:18.307255Z",
     "start_time": "2020-06-05T13:43:25.169963Z"
    }
   },
   "outputs": [
    {
     "name": "stdout",
     "output_type": "stream",
     "text": [
      "86.3457 ms per frame\n",
      "fps = 11.58135875829515\n"
     ]
    },
    {
     "data": {
      "image/png": "[encoded data removed]",
      "text/plain": [
       "<Figure size 648x648 with 9 Axes>"
      ]
     },
     "metadata": {
      "needs_background": "light"
     },
     "output_type": "display_data"
    }
   ],
   "source": [
    "# still vary slow\n",
    "plot_wrap_multi('canvas_flush', show_fps=True)"
   ]
  },
  {
   "cell_type": "markdown",
   "metadata": {},
   "source": [
    "### draw_artist"
   ]
  },
  {
   "cell_type": "code",
   "execution_count": 14,
   "metadata": {
    "ExecuteTime": {
     "end_time": "2020-06-05T13:41:15.575094Z",
     "start_time": "2020-06-05T13:41:09.075016Z"
    }
   },
   "outputs": [
    {
     "name": "stdout",
     "output_type": "stream",
     "text": [
      "9.2473 ms per frame\n",
      "fps = 108.13972630394127\n"
     ]
    }
   ],
   "source": [
    "plot_wrap_multi('draw_artist', show_fps=True)"
   ]
  },
  {
   "cell_type": "code",
   "execution_count": 25,
   "metadata": {
    "ExecuteTime": {
     "end_time": "2020-06-05T13:47:32.898962Z",
     "start_time": "2020-06-05T13:46:41.603270Z"
    }
   },
   "outputs": [
    {
     "name": "stdout",
     "output_type": "stream",
     "text": [
      "9.1497 ms per frame\n",
      "fps = 109.29334319583162\n",
      "9.2143 ms per frame\n",
      "fps = 108.52683345370153\n",
      "9.1992 ms per frame\n",
      "fps = 108.70539974070519\n",
      "9.1562 ms per frame\n",
      "fps = 109.2154512257986\n",
      "9.1419 ms per frame\n",
      "fps = 109.38646871312565\n",
      "9.1523 ms per frame\n",
      "fps = 109.26174044411131\n",
      "9.0461 ms per frame\n",
      "fps = 110.54516242490675\n",
      "9.0401 ms per frame\n",
      "fps = 110.61837448840951\n",
      "6.4 s ± 39.3 ms per loop (mean ± std. dev. of 7 runs, 1 loop each)\n"
     ]
    }
   ],
   "source": [
    "%timeit plot_wrap_multi('draw_artist', show_fps=True)"
   ]
  },
  {
   "cell_type": "code",
   "execution_count": null,
   "metadata": {},
   "outputs": [],
   "source": []
  }
 ],
 "metadata": {
  "kernelspec": {
   "display_name": "Python 3",
   "language": "python",
   "name": "python3"
  },
  "language_info": {
   "codemirror_mode": {
    "name": "ipython",
    "version": 3
   },
   "file_extension": ".py",
   "mimetype": "text/x-python",
   "name": "python",
   "nbconvert_exporter": "python",
   "pygments_lexer": "ipython3",
   "version": "3.7.6"
  },
  "toc": {
   "base_numbering": 1,
   "nav_menu": {},
   "number_sections": true,
   "sideBar": true,
   "skip_h1_title": false,
   "title_cell": "Table of Contents",
   "title_sidebar": "Contents",
   "toc_cell": false,
   "toc_position": {},
   "toc_section_display": true,
   "toc_window_display": false
  },
  "varInspector": {
   "cols": {
    "lenName": 16,
    "lenType": 16,
    "lenVar": 40
   },
   "kernels_config": {
    "python": {
     "delete_cmd_postfix": "",
     "delete_cmd_prefix": "del ",
     "library": "var_list.py",
     "varRefreshCmd": "print(var_dic_list())"
    },
    "r": {
     "delete_cmd_postfix": ") ",
     "delete_cmd_prefix": "rm(",
     "library": "var_list.r",
     "varRefreshCmd": "cat(var_dic_list()) "
    }
   },
   "types_to_exclude": [
    "module",
    "function",
    "builtin_function_or_method",
    "instance",
    "_Feature"
   ],
   "window_display": false
  }
 },
 "nbformat": 4,
 "nbformat_minor": 4
}
