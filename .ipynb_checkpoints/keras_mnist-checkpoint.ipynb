{
 "cells": [
  {
   "cell_type": "code",
   "execution_count": 1,
   "metadata": {
    "ExecuteTime": {
     "end_time": "2019-11-11T06:56:07.960392Z",
     "start_time": "2019-11-11T06:55:52.170160Z"
    }
   },
   "outputs": [],
   "source": [
    "import numpy as np \n",
    "import tensorflow as tf\n",
    "import matplotlib.pyplot as plt\n",
    "import cv2\n",
    "from tensorflow.python.framework import ops\n",
    "import datetime\n",
    "import math\n",
    "from sklearn.model_selection import train_test_split\n",
    "%matplotlib inline"
   ]
  },
  {
   "cell_type": "markdown",
   "metadata": {
    "ExecuteTime": {
     "end_time": "2019-11-11T06:56:07.980373Z",
     "start_time": "2019-11-11T06:56:07.978346Z"
    }
   },
   "source": [
    "should use codefolding"
   ]
  },
  {
   "cell_type": "code",
   "execution_count": 2,
   "metadata": {
    "ExecuteTime": {
     "end_time": "2019-12-09T09:03:20.568760Z",
     "start_time": "2019-12-09T09:03:20.565760Z"
    }
   },
   "outputs": [],
   "source": [
    "import tensorflow.keras \n",
    "import tensorflow.keras.backend as K\n",
    "from tensorflow.keras.models import Model\n",
    "from tensorflow.keras.layers import *\n",
    "from tensorflow.keras.preprocessing import *\n",
    "from tensorflow.keras.optimizers import *\n",
    "from tensorflow.keras.callbacks import *\n",
    "from tensorflow.keras.losses import *\n",
    "from tensorflow.keras.activations import *\n",
    "from tensorflow.keras.utils import *\n",
    "from tensorflow.keras.datasets import mnist"
   ]
  },
  {
   "cell_type": "code",
   "execution_count": 4,
   "metadata": {
    "ExecuteTime": {
     "end_time": "2019-11-11T06:56:08.053067Z",
     "start_time": "2019-11-11T06:56:08.050076Z"
    }
   },
   "outputs": [],
   "source": [
    "import warnings\n",
    "warnings.filterwarnings('ignore')"
   ]
  },
  {
   "cell_type": "code",
   "execution_count": 5,
   "metadata": {
    "ExecuteTime": {
     "end_time": "2019-11-11T06:56:08.070023Z",
     "start_time": "2019-11-11T06:56:08.066031Z"
    }
   },
   "outputs": [],
   "source": [
    "bs = 64"
   ]
  },
  {
   "cell_type": "markdown",
   "metadata": {
    "ExecuteTime": {
     "end_time": "2019-10-26T08:35:32.936712Z",
     "start_time": "2019-10-26T08:35:32.932723Z"
    },
    "hide_input": false
   },
   "source": [
    "def onehot(labels, C):\n",
    "    sess = tf.Session()\n",
    "    return sess.run(tf.one_hot(indices=labels, depth=C))"
   ]
  },
  {
   "cell_type": "code",
   "execution_count": 6,
   "metadata": {
    "ExecuteTime": {
     "end_time": "2019-11-11T06:56:08.088060Z",
     "start_time": "2019-11-11T06:56:08.084071Z"
    }
   },
   "outputs": [],
   "source": [
    "def onehot(x):\n",
    "    return to_categorical(x)"
   ]
  },
  {
   "cell_type": "code",
   "execution_count": 7,
   "metadata": {
    "ExecuteTime": {
     "end_time": "2019-11-11T06:56:08.344120Z",
     "start_time": "2019-11-11T06:56:08.103024Z"
    }
   },
   "outputs": [
    {
     "data": {
      "text/plain": [
       "((60000, 28, 28), (60000,), (10000, 28, 28), (10000,))"
      ]
     },
     "execution_count": 7,
     "metadata": {},
     "output_type": "execute_result"
    }
   ],
   "source": [
    "(x_train, y_train), (x_test, y_test) = mnist.load_data()\n",
    "x_train.shape, y_train.shape, x_test.shape, y_test.shape"
   ]
  },
  {
   "cell_type": "code",
   "execution_count": 8,
   "metadata": {
    "ExecuteTime": {
     "end_time": "2019-11-11T06:56:08.366102Z",
     "start_time": "2019-11-11T06:56:08.362081Z"
    }
   },
   "outputs": [],
   "source": [
    "x_train = np.expand_dims(x_train, -1)\n",
    "x_test = np.expand_dims(x_test, -1)"
   ]
  },
  {
   "cell_type": "code",
   "execution_count": 9,
   "metadata": {
    "ExecuteTime": {
     "end_time": "2019-11-11T06:56:08.393055Z",
     "start_time": "2019-11-11T06:56:08.388068Z"
    }
   },
   "outputs": [],
   "source": [
    "y_train = onehot(y_train)\n",
    "y_test = onehot(y_test)"
   ]
  },
  {
   "cell_type": "code",
   "execution_count": 10,
   "metadata": {
    "ExecuteTime": {
     "end_time": "2019-11-11T06:56:08.419010Z",
     "start_time": "2019-11-11T06:56:08.414997Z"
    }
   },
   "outputs": [
    {
     "name": "stdout",
     "output_type": "stream",
     "text": [
      "training set:  (60000, 28, 28, 1) (60000, 10)\n",
      "testing set:  (10000, 28, 28, 1) (10000, 10)\n"
     ]
    }
   ],
   "source": [
    "print ('training set: ',x_train.shape, y_train.shape)\n",
    "print ('testing set: ', x_test.shape, y_test.shape)"
   ]
  },
  {
   "cell_type": "code",
   "execution_count": 10,
   "metadata": {
    "ExecuteTime": {
     "end_time": "2019-10-29T12:18:23.972080Z",
     "start_time": "2019-10-29T12:18:23.387854Z"
    },
    "scrolled": true
   },
   "outputs": [
    {
     "data": {
      "image/png": "[encoded data removed]",
      "text/plain": [
       "<Figure size 432x432 with 9 Axes>"
      ]
     },
     "metadata": {
      "needs_background": "light"
     },
     "output_type": "display_data"
    }
   ],
   "source": [
    "def show_img(rows=3, save=False):\n",
    "    fig = plt.figure(figsize=(rows * 2, rows * 2))\n",
    "    fig.suptitle('index / label', fontsize=24)\n",
    "\n",
    "    index = np.arange(x_train.shape[0])\n",
    "    np.random.shuffle(index)\n",
    "    index = index[:rows**2]\n",
    "\n",
    "    for i, idx in enumerate(index):\n",
    "        fig.add_subplot(rows, rows, i + 1)\n",
    "        plt.axis('off')\n",
    "        plt.imshow(x_train[idx, ..., 0], cmap='gray')\n",
    "        category = np.argmax(y_train[idx])\n",
    "        plt.title(f'{idx} / {category}', fontsize=18)\n",
    "\n",
    "    if save:\n",
    "        plt.savefig('img.png')\n",
    "\n",
    "\n",
    "show_img()"
   ]
  },
  {
   "cell_type": "code",
   "execution_count": 11,
   "metadata": {
    "ExecuteTime": {
     "end_time": "2019-11-11T06:56:08.784490Z",
     "start_time": "2019-11-11T06:56:08.439459Z"
    }
   },
   "outputs": [],
   "source": [
    "mean_px = x_train.mean().astype(np.float32)\n",
    "std_px = x_train.std().astype(np.float32)\n",
    "\n",
    "def norm_input(x): return (x-mean_px)/std_px"
   ]
  },
  {
   "cell_type": "code",
   "execution_count": 12,
   "metadata": {
    "ExecuteTime": {
     "end_time": "2019-11-11T06:56:08.903998Z",
     "start_time": "2019-11-11T06:56:08.811989Z"
    }
   },
   "outputs": [],
   "source": [
    "gen = image.ImageDataGenerator()\n",
    "batches = gen.flow(x_train, y_train, batch_size=bs)\n",
    "test_batches = gen.flow(x_test, y_test, batch_size=bs)"
   ]
  },
  {
   "cell_type": "code",
   "execution_count": 13,
   "metadata": {
    "ExecuteTime": {
     "end_time": "2019-11-11T06:57:13.558173Z",
     "start_time": "2019-11-11T06:57:13.553185Z"
    }
   },
   "outputs": [],
   "source": [
    "def get_model():\n",
    "    model = Sequential([\n",
    "        Lambda(norm_input, input_shape=(28,28, 1)),\n",
    "        Conv2D(32,3,1, activation='relu'),\n",
    "        BatchNormalization(),\n",
    "        Conv2D(32,3,1, activation='relu'),       \n",
    "        MaxPooling2D(),\n",
    "        BatchNormalization(),\n",
    "        Conv2D(64,3,1, activation='relu'),\n",
    "        BatchNormalization(),\n",
    "        Conv2D(64,3,1, activation='relu'),\n",
    "        MaxPooling2D(),\n",
    "        Flatten(),\n",
    "        BatchNormalization(),\n",
    "        Dense(512, activation='relu'),\n",
    "        BatchNormalization(),\n",
    "        Dense(10, activation='softmax')\n",
    "        ])\n",
    "    model.compile(Adam(), loss='categorical_crossentropy', metrics=['accuracy'])\n",
    "    return model"
   ]
  },
  {
   "cell_type": "markdown",
   "metadata": {
    "heading_collapsed": true
   },
   "source": [
    "# Linear Model"
   ]
  },
  {
   "cell_type": "code",
   "execution_count": 55,
   "metadata": {
    "ExecuteTime": {
     "end_time": "2019-10-26T08:50:04.003424Z",
     "start_time": "2019-10-26T08:50:03.999465Z"
    },
    "hidden": true
   },
   "outputs": [],
   "source": [
    "def get_lin_model():\n",
    "    model = Sequential([\n",
    "        Lambda(norm_input, input_shape=(28,28, 1)),\n",
    "        Flatten(),\n",
    "        Dense(10, activation='softmax')\n",
    "        ])\n",
    "    model.compile(Adam(), loss='categorical_crossentropy', metrics=['accuracy'])\n",
    "    return model"
   ]
  },
  {
   "cell_type": "code",
   "execution_count": 90,
   "metadata": {
    "ExecuteTime": {
     "end_time": "2019-10-26T09:00:19.703932Z",
     "start_time": "2019-10-26T09:00:19.632099Z"
    },
    "hidden": true
   },
   "outputs": [],
   "source": [
    "lm = get_lin_model()"
   ]
  },
  {
   "cell_type": "code",
   "execution_count": 91,
   "metadata": {
    "ExecuteTime": {
     "end_time": "2019-10-26T09:00:20.031011Z",
     "start_time": "2019-10-26T09:00:19.936227Z"
    },
    "hidden": true
   },
   "outputs": [],
   "source": [
    "gen = image.ImageDataGenerator()\n",
    "batches = gen.flow(x_train, y_train, batch_size=bs)\n",
    "test_batches = gen.flow(x_test, y_test, batch_size=bs)"
   ]
  },
  {
   "cell_type": "code",
   "execution_count": 92,
   "metadata": {
    "ExecuteTime": {
     "end_time": "2019-10-26T09:00:44.257693Z",
     "start_time": "2019-10-26T09:00:20.202998Z"
    },
    "hidden": true
   },
   "outputs": [
    {
     "name": "stdout",
     "output_type": "stream",
     "text": [
      "937/937 [==============================] - 24s 26ms/step - loss: 0.4247 - acc: 0.8736 - val_loss: 0.2988 - val_acc: 0.9136\n"
     ]
    },
    {
     "data": {
      "text/plain": [
       "<tensorflow.python.keras.callbacks.History at 0x278021ed390>"
      ]
     },
     "execution_count": 92,
     "metadata": {},
     "output_type": "execute_result"
    }
   ],
   "source": [
    "lm.fit_generator(batches,\n",
    "                 batches.n // bs,\n",
    "                 epochs=1,\n",
    "                 validation_data=test_batches,\n",
    "                 validation_steps=test_batches.n)"
   ]
  },
  {
   "cell_type": "code",
   "execution_count": 93,
   "metadata": {
    "ExecuteTime": {
     "end_time": "2019-10-26T09:00:44.338775Z",
     "start_time": "2019-10-26T09:00:44.289909Z"
    },
    "hidden": true
   },
   "outputs": [],
   "source": [
    "lm.optimizer.lr=0.01"
   ]
  },
  {
   "cell_type": "code",
   "execution_count": 94,
   "metadata": {
    "ExecuteTime": {
     "end_time": "2019-10-26T09:01:08.519519Z",
     "start_time": "2019-10-26T09:00:44.365678Z"
    },
    "hidden": true
   },
   "outputs": [
    {
     "name": "stdout",
     "output_type": "stream",
     "text": [
      "938/937 [==============================] - 24s 26ms/step - loss: 0.5594 - acc: 0.8787 - val_loss: 0.5438 - val_acc: 0.8907\n"
     ]
    },
    {
     "data": {
      "text/plain": [
       "<tensorflow.python.keras.callbacks.History at 0x27802814c18>"
      ]
     },
     "execution_count": 94,
     "metadata": {},
     "output_type": "execute_result"
    }
   ],
   "source": [
    "lm.fit_generator(batches,\n",
    "                 batches.n / bs,\n",
    "                 epochs=1,\n",
    "                 validation_data=test_batches,\n",
    "                 validation_steps=test_batches.n)"
   ]
  },
  {
   "cell_type": "code",
   "execution_count": 95,
   "metadata": {
    "ExecuteTime": {
     "end_time": "2019-10-26T09:01:08.552430Z",
     "start_time": "2019-10-26T09:01:08.547528Z"
    },
    "hidden": true
   },
   "outputs": [],
   "source": [
    "lm.optimizer.lr=0.001"
   ]
  },
  {
   "cell_type": "code",
   "execution_count": 96,
   "metadata": {
    "ExecuteTime": {
     "end_time": "2019-10-26T09:02:40.880228Z",
     "start_time": "2019-10-26T09:01:08.575365Z"
    },
    "hidden": true
   },
   "outputs": [
    {
     "name": "stdout",
     "output_type": "stream",
     "text": [
      "Epoch 1/4\n",
      "938/937 [==============================] - 23s 24ms/step - loss: 0.3478 - acc: 0.9232 - val_loss: 0.3342 - val_acc: 0.9210\n",
      "Epoch 2/4\n",
      "938/937 [==============================] - 23s 24ms/step - loss: 0.2932 - acc: 0.9279 - val_loss: 0.3074 - val_acc: 0.9237\n",
      "Epoch 3/4\n",
      "938/937 [==============================] - 24s 25ms/step - loss: 0.2767 - acc: 0.9283 - val_loss: 0.3044 - val_acc: 0.9202\n",
      "Epoch 4/4\n",
      "938/937 [==============================] - 23s 25ms/step - loss: 0.2678 - acc: 0.9281 - val_loss: 0.2956 - val_acc: 0.9240\n"
     ]
    },
    {
     "data": {
      "text/plain": [
       "<tensorflow.python.keras.callbacks.History at 0x27802814128>"
      ]
     },
     "execution_count": 96,
     "metadata": {},
     "output_type": "execute_result"
    }
   ],
   "source": [
    "lm.fit_generator(batches,\n",
    "                 batches.n / bs,\n",
    "                 epochs=4,\n",
    "                 validation_data=test_batches,\n",
    "                 validation_steps=test_batches.n)"
   ]
  },
  {
   "cell_type": "markdown",
   "metadata": {
    "heading_collapsed": true
   },
   "source": [
    "# Basic 'VGG-style' CNN"
   ]
  },
  {
   "cell_type": "code",
   "execution_count": 13,
   "metadata": {
    "ExecuteTime": {
     "end_time": "2019-10-27T15:16:47.745487Z",
     "start_time": "2019-10-27T15:16:47.740519Z"
    },
    "hidden": true
   },
   "outputs": [],
   "source": [
    "def get_model():\n",
    "    model = Sequential([\n",
    "        Lambda(norm_input, input_shape=(28,28, 1)),\n",
    "        Conv2D(32,3,1, activation='relu'),\n",
    "        Conv2D(32,3,1, activation='relu'),\n",
    "        MaxPooling2D(),\n",
    "        Conv2D(64,3,1, activation='relu'),\n",
    "        Conv2D(64,3,1, activation='relu'),\n",
    "        MaxPooling2D(),\n",
    "        Flatten(),\n",
    "        Dense(512, activation='relu'),\n",
    "        Dense(10, activation='softmax')\n",
    "        ])\n",
    "    model.compile(Adam(), loss='categorical_crossentropy', metrics=['accuracy'])\n",
    "    return model"
   ]
  },
  {
   "cell_type": "code",
   "execution_count": 124,
   "metadata": {
    "ExecuteTime": {
     "end_time": "2019-10-26T09:33:21.880300Z",
     "start_time": "2019-10-26T09:33:21.738640Z"
    },
    "hidden": true
   },
   "outputs": [],
   "source": [
    "model = get_model()"
   ]
  },
  {
   "cell_type": "code",
   "execution_count": null,
   "metadata": {
    "ExecuteTime": {
     "end_time": "2019-10-26T09:28:52.919775Z",
     "start_time": "2019-10-26T09:28:52.683406Z"
    },
    "hidden": true
   },
   "outputs": [],
   "source": [
    "weight_list = model.get_weights()\n",
    "for i in range(len(weight_list)):\n",
    "    print(weight_list[i].shape)"
   ]
  },
  {
   "cell_type": "code",
   "execution_count": 125,
   "metadata": {
    "ExecuteTime": {
     "end_time": "2019-10-26T09:35:24.098791Z",
     "start_time": "2019-10-26T09:33:29.723208Z"
    },
    "hidden": true
   },
   "outputs": [
    {
     "name": "stdout",
     "output_type": "stream",
     "text": [
      "Epoch 1/3\n",
      "938/937 [==============================] - 38s 40ms/step - loss: 0.1105 - acc: 0.9662 - val_loss: 0.0343 - val_acc: 0.9888\n",
      "Epoch 2/3\n",
      "938/937 [==============================] - 38s 40ms/step - loss: 0.0345 - acc: 0.9892 - val_loss: 0.0335 - val_acc: 0.9896\n",
      "Epoch 3/3\n",
      "938/937 [==============================] - 39s 41ms/step - loss: 0.0251 - acc: 0.9923 - val_loss: 0.0265 - val_acc: 0.9913\n"
     ]
    },
    {
     "data": {
      "text/plain": [
       "<tensorflow.python.keras.callbacks.History at 0x2785aecf1d0>"
      ]
     },
     "execution_count": 125,
     "metadata": {},
     "output_type": "execute_result"
    }
   ],
   "source": [
    "model.fit_generator(batches,\n",
    "                 batches.n / bs,\n",
    "                 epochs=3,\n",
    "                 validation_data=test_batches,\n",
    "                 validation_steps=test_batches.n)"
   ]
  },
  {
   "cell_type": "code",
   "execution_count": null,
   "metadata": {
    "hidden": true
   },
   "outputs": [],
   "source": [
    "model = get_model()"
   ]
  },
  {
   "cell_type": "code",
   "execution_count": 118,
   "metadata": {
    "ExecuteTime": {
     "end_time": "2019-10-26T09:29:31.383594Z",
     "start_time": "2019-10-26T09:28:53.221891Z"
    },
    "hidden": true
   },
   "outputs": [
    {
     "name": "stdout",
     "output_type": "stream",
     "text": [
      "938/937 [==============================] - 38s 41ms/step - loss: 0.1131 - acc: 0.9648 - val_loss: 0.0461 - val_acc: 0.9840\n"
     ]
    },
    {
     "data": {
      "text/plain": [
       "<tensorflow.python.keras.callbacks.History at 0x2783bd7def0>"
      ]
     },
     "execution_count": 118,
     "metadata": {},
     "output_type": "execute_result"
    }
   ],
   "source": [
    "model.fit_generator(batches,\n",
    "                 batches.n / bs,\n",
    "                 epochs=1,\n",
    "                 validation_data=test_batches,\n",
    "                 validation_steps=test_batches.n)"
   ]
  },
  {
   "cell_type": "code",
   "execution_count": 119,
   "metadata": {
    "ExecuteTime": {
     "end_time": "2019-10-26T09:29:31.550723Z",
     "start_time": "2019-10-26T09:29:31.457942Z"
    },
    "hidden": true
   },
   "outputs": [],
   "source": [
    "model.optimizer.lr=1e-2"
   ]
  },
  {
   "cell_type": "code",
   "execution_count": 120,
   "metadata": {
    "ExecuteTime": {
     "end_time": "2019-10-26T09:30:08.931248Z",
     "start_time": "2019-10-26T09:29:31.601587Z"
    },
    "hidden": true
   },
   "outputs": [
    {
     "name": "stdout",
     "output_type": "stream",
     "text": [
      "938/937 [==============================] - 37s 40ms/step - loss: 0.1525 - acc: 0.9557 - val_loss: 0.0726 - val_acc: 0.9785\n"
     ]
    },
    {
     "data": {
      "text/plain": [
       "<tensorflow.python.keras.callbacks.History at 0x2783ec2f048>"
      ]
     },
     "execution_count": 120,
     "metadata": {},
     "output_type": "execute_result"
    }
   ],
   "source": [
    "model.fit_generator(batches,\n",
    "                 batches.n / bs,\n",
    "                 epochs=1,\n",
    "                 validation_data=test_batches,\n",
    "                 validation_steps=test_batches.n)"
   ]
  },
  {
   "cell_type": "code",
   "execution_count": 121,
   "metadata": {
    "ExecuteTime": {
     "end_time": "2019-10-26T09:30:08.990167Z",
     "start_time": "2019-10-26T09:30:08.985104Z"
    },
    "hidden": true
   },
   "outputs": [],
   "source": [
    "model.optimizer.lr=1e-3"
   ]
  },
  {
   "cell_type": "code",
   "execution_count": 122,
   "metadata": {
    "ExecuteTime": {
     "end_time": "2019-10-26T09:30:46.197962Z",
     "start_time": "2019-10-26T09:30:09.040986Z"
    },
    "hidden": true
   },
   "outputs": [
    {
     "name": "stdout",
     "output_type": "stream",
     "text": [
      "938/937 [==============================] - 37s 40ms/step - loss: 0.0383 - acc: 0.9887 - val_loss: 0.0322 - val_acc: 0.9899\n"
     ]
    },
    {
     "data": {
      "text/plain": [
       "<tensorflow.python.keras.callbacks.History at 0x2785aae2d30>"
      ]
     },
     "execution_count": 122,
     "metadata": {},
     "output_type": "execute_result"
    }
   ],
   "source": [
    "model.fit_generator(batches,\n",
    "                 batches.n / bs,\n",
    "                 epochs=1,\n",
    "                 validation_data=test_batches,\n",
    "                 validation_steps=test_batches.n)"
   ]
  },
  {
   "cell_type": "markdown",
   "metadata": {
    "ExecuteTime": {
     "end_time": "2019-11-11T06:57:52.774217Z",
     "start_time": "2019-11-11T06:57:52.772186Z"
    },
    "heading_collapsed": true
   },
   "source": [
    "# SE Block"
   ]
  },
  {
   "cell_type": "code",
   "execution_count": 58,
   "metadata": {
    "ExecuteTime": {
     "end_time": "2019-11-11T07:33:43.118451Z",
     "start_time": "2019-11-11T07:33:43.114429Z"
    },
    "hidden": true
   },
   "outputs": [],
   "source": [
    "def se_block(x, ratio=16):\n",
    "    channels = x.shape[-1]\n",
    "    \n",
    "    se = GlobalAveragePooling2D()(x)\n",
    "    se = Dense(channels// ratio, activation='relu', kernel_initializer='he_normal', use_bias=False)(x)\n",
    "    se = Dense(channels, activation='sigmoid', kernel_initializer='he_normal', use_bias=False)(se)\n",
    "    return multiply([x, se])"
   ]
  },
  {
   "cell_type": "code",
   "execution_count": 59,
   "metadata": {
    "ExecuteTime": {
     "end_time": "2019-11-11T07:34:12.256246Z",
     "start_time": "2019-11-11T07:34:12.249238Z"
    },
    "hidden": true
   },
   "outputs": [],
   "source": [
    "def get_model():\n",
    "    inputs = Input(shape=(28,28, 1))\n",
    "    x = Lambda(norm_input)(inputs)\n",
    "    \n",
    "    x = Conv2D(32,3,1, activation='relu')(inputs)\n",
    "    x = BatchNormalization()(x)\n",
    "    x = se_block(x)\n",
    "    x = Conv2D(32,3,1, activation='relu')(x)      \n",
    "    x = MaxPooling2D()(x)    \n",
    "    x = BatchNormalization()(x)\n",
    "    x = se_block(x)\n",
    "    x = Conv2D(64,3,1, activation='relu')(x)\n",
    "    x = BatchNormalization()(x)\n",
    "    x = se_block(x)\n",
    "    x = Conv2D(64,3,1, activation='relu')(x)\n",
    "    x = BatchNormalization()(x)\n",
    "    x = se_block(x)\n",
    "    x = MaxPooling2D()(x)\n",
    "    \n",
    "    x = Flatten()(x)\n",
    "    \n",
    "    x = Dense(512, activation='relu')(x)\n",
    "    x = BatchNormalization()(x)\n",
    "    x = Dense(10, activation='softmax')(x)\n",
    "        \n",
    "    model = Model(inputs=inputs, outputs=x)\n",
    "    model.compile(Adam(), loss='categorical_crossentropy', metrics=['accuracy'])\n",
    "    return model"
   ]
  },
  {
   "cell_type": "code",
   "execution_count": 60,
   "metadata": {
    "ExecuteTime": {
     "end_time": "2019-11-11T07:34:13.194797Z",
     "start_time": "2019-11-11T07:34:12.829874Z"
    },
    "hidden": true
   },
   "outputs": [],
   "source": [
    "model = get_model()"
   ]
  },
  {
   "cell_type": "code",
   "execution_count": 61,
   "metadata": {
    "ExecuteTime": {
     "end_time": "2019-11-11T07:34:14.432130Z",
     "start_time": "2019-11-11T07:34:14.427139Z"
    },
    "hidden": true
   },
   "outputs": [],
   "source": [
    "def fit_model(batches=batches, test_batches=test_batches):\n",
    "    model = get_model()\n",
    "    model.fit_generator(batches,\n",
    "                        batches.n / bs,\n",
    "                        epochs=1,  # 1\n",
    "                        validation_data=test_batches,\n",
    "                        validation_steps=test_batches.n//bs)\n",
    "    model.optimizer.lr = 2e-2\n",
    "    model.fit_generator(batches,\n",
    "                        batches.n / bs,\n",
    "                        epochs=1,  # 4\n",
    "                        validation_data=test_batches,\n",
    "                        validation_steps=test_batches.n//bs)\n",
    "    model.optimizer.lr = 2e-3\n",
    "    model.fit_generator(batches,\n",
    "                        batches.n / bs,\n",
    "                        epochs=1,  # 12\n",
    "                        validation_data=test_batches,\n",
    "                        validation_steps=test_batches.n//bs)\n",
    "    model.optimizer.lr = 3e-4\n",
    "    model.fit_generator(batches,\n",
    "                        batches.n / bs,\n",
    "                        epochs=1,  # 18\n",
    "                        validation_data=test_batches,\n",
    "                        validation_steps=test_batches.n//bs)\n",
    "    return model"
   ]
  },
  {
   "cell_type": "code",
   "execution_count": 62,
   "metadata": {
    "ExecuteTime": {
     "end_time": "2019-11-11T07:37:40.063999Z",
     "start_time": "2019-11-11T07:34:15.247647Z"
    },
    "hidden": true
   },
   "outputs": [
    {
     "name": "stdout",
     "output_type": "stream",
     "text": [
      "938/937 [==============================] - 51s 55ms/step - loss: 0.0924 - accuracy: 0.9715 - val_loss: 0.0558 - val_accuracy: 0.9820\n",
      "938/937 [==============================] - 51s 55ms/step - loss: 0.1216 - accuracy: 0.9705 - val_loss: 0.0469 - val_accuracy: 0.9861\n",
      "938/937 [==============================] - 51s 54ms/step - loss: 0.0279 - accuracy: 0.9918 - val_loss: 0.0226 - val_accuracy: 0.9937\n",
      "938/937 [==============================] - 51s 54ms/step - loss: 0.0176 - accuracy: 0.9944 - val_loss: 0.0185 - val_accuracy: 0.9945\n"
     ]
    }
   ],
   "source": [
    "model = fit_model()"
   ]
  },
  {
   "cell_type": "code",
   "execution_count": null,
   "metadata": {
    "hidden": true
   },
   "outputs": [],
   "source": []
  },
  {
   "cell_type": "markdown",
   "metadata": {
    "ExecuteTime": {
     "end_time": "2019-10-26T09:31:49.117603Z",
     "start_time": "2019-10-26T09:31:49.115578Z"
    },
    "heading_collapsed": true
   },
   "source": [
    "# BN"
   ]
  },
  {
   "cell_type": "code",
   "execution_count": 11,
   "metadata": {
    "ExecuteTime": {
     "end_time": "2019-11-04T07:59:20.616459Z",
     "start_time": "2019-11-04T07:59:20.611498Z"
    },
    "hidden": true
   },
   "outputs": [],
   "source": [
    "def get_model():\n",
    "    model = Sequential([\n",
    "        Lambda(norm_input, input_shape=(28,28, 1)),\n",
    "        Conv2D(32,3,1, activation='relu'),\n",
    "        BatchNormalization(),\n",
    "        Conv2D(32,3,1, activation='relu'),       \n",
    "        MaxPooling2D(),\n",
    "        BatchNormalization(),\n",
    "        Conv2D(64,3,1, activation='relu'),\n",
    "        BatchNormalization(),\n",
    "        Conv2D(64,3,1, activation='relu'),\n",
    "        MaxPooling2D(),\n",
    "        Flatten(),\n",
    "        BatchNormalization(),\n",
    "        Dense(512, activation='relu'),\n",
    "        BatchNormalization(),\n",
    "        Dense(10, activation='softmax')\n",
    "        ])\n",
    "    model.compile(Adam(), loss='categorical_crossentropy', metrics=['accuracy'])\n",
    "    return model"
   ]
  },
  {
   "cell_type": "code",
   "execution_count": 56,
   "metadata": {
    "ExecuteTime": {
     "end_time": "2019-10-29T12:42:12.614199Z",
     "start_time": "2019-10-29T12:42:12.251410Z"
    },
    "hidden": true
   },
   "outputs": [],
   "source": [
    "model = get_model()"
   ]
  },
  {
   "cell_type": "code",
   "execution_count": null,
   "metadata": {
    "ExecuteTime": {
     "end_time": "2019-10-26T09:40:50.515696Z",
     "start_time": "2019-10-26T09:40:50.056813Z"
    },
    "hidden": true
   },
   "outputs": [],
   "source": [
    "weight_list = model.get_weights()\n",
    "for i in range(len(weight_list)):\n",
    "    print(weight_list[i].shape)"
   ]
  },
  {
   "cell_type": "code",
   "execution_count": 57,
   "metadata": {
    "ExecuteTime": {
     "end_time": "2019-10-29T12:42:26.041292Z",
     "start_time": "2019-10-29T12:42:13.388720Z"
    },
    "hidden": true
   },
   "outputs": [
    {
     "name": "stdout",
     "output_type": "stream",
     "text": [
      "938/937 [==============================] - 12s 13ms/step - loss: 0.0837 - acc: 0.9751 - val_loss: 0.0533 - val_acc: 0.9836\n"
     ]
    },
    {
     "data": {
      "text/plain": [
       "<tensorflow.python.keras.callbacks.History at 0x258d1263208>"
      ]
     },
     "execution_count": 57,
     "metadata": {},
     "output_type": "execute_result"
    }
   ],
   "source": [
    "model.fit_generator(batches,\n",
    "                 batches.n / bs,\n",
    "                 epochs=1,\n",
    "                 validation_data=test_batches,\n",
    "                 validation_steps=test_batches.n//bs)"
   ]
  },
  {
   "cell_type": "code",
   "execution_count": 58,
   "metadata": {
    "ExecuteTime": {
     "end_time": "2019-10-29T12:42:26.386379Z",
     "start_time": "2019-10-29T12:42:26.063210Z"
    },
    "hidden": true
   },
   "outputs": [],
   "source": [
    "model.optimizer.lr=2e-2"
   ]
  },
  {
   "cell_type": "code",
   "execution_count": 59,
   "metadata": {
    "ExecuteTime": {
     "end_time": "2019-10-29T12:42:36.191591Z",
     "start_time": "2019-10-29T12:42:26.408311Z"
    },
    "hidden": true
   },
   "outputs": [
    {
     "name": "stdout",
     "output_type": "stream",
     "text": [
      "938/937 [==============================] - 10s 10ms/step - loss: 0.1252 - acc: 0.9692 - val_loss: 0.0568 - val_acc: 0.9835\n"
     ]
    },
    {
     "data": {
      "text/plain": [
       "<tensorflow.python.keras.callbacks.History at 0x258d1258cf8>"
      ]
     },
     "execution_count": 59,
     "metadata": {},
     "output_type": "execute_result"
    }
   ],
   "source": [
    "model.fit_generator(batches,\n",
    "                 batches.n / bs,\n",
    "                 epochs=1,\n",
    "                 validation_data=test_batches,\n",
    "                 validation_steps=test_batches.n//bs)"
   ]
  },
  {
   "cell_type": "code",
   "execution_count": 60,
   "metadata": {
    "ExecuteTime": {
     "end_time": "2019-10-29T12:42:36.222478Z",
     "start_time": "2019-10-29T12:42:36.216494Z"
    },
    "hidden": true
   },
   "outputs": [],
   "source": [
    "model.optimizer.lr=1e-3"
   ]
  },
  {
   "cell_type": "code",
   "execution_count": 61,
   "metadata": {
    "ExecuteTime": {
     "end_time": "2019-10-29T12:42:57.905218Z",
     "start_time": "2019-10-29T12:42:38.370298Z"
    },
    "hidden": true
   },
   "outputs": [
    {
     "name": "stdout",
     "output_type": "stream",
     "text": [
      "Epoch 1/2\n",
      "938/937 [==============================] - 10s 10ms/step - loss: 0.0325 - acc: 0.9908 - val_loss: 0.0186 - val_acc: 0.9934\n",
      "Epoch 2/2\n",
      "938/937 [==============================] - 10s 10ms/step - loss: 0.0224 - acc: 0.9934 - val_loss: 0.0167 - val_acc: 0.9945\n"
     ]
    },
    {
     "data": {
      "text/plain": [
       "<tensorflow.python.keras.callbacks.History at 0x258d2bffa20>"
      ]
     },
     "execution_count": 61,
     "metadata": {},
     "output_type": "execute_result"
    }
   ],
   "source": [
    "model.fit_generator(batches,\n",
    "                 batches.n / bs,\n",
    "                 epochs=2,\n",
    "                 validation_data=test_batches,\n",
    "                 validation_steps=test_batches.n//bs)"
   ]
  },
  {
   "cell_type": "code",
   "execution_count": 62,
   "metadata": {
    "ExecuteTime": {
     "end_time": "2019-10-29T12:42:57.933764Z",
     "start_time": "2019-10-29T12:42:57.928752Z"
    },
    "hidden": true
   },
   "outputs": [],
   "source": [
    "model.optimizer.lr=3e-4"
   ]
  },
  {
   "cell_type": "code",
   "execution_count": 63,
   "metadata": {
    "ExecuteTime": {
     "end_time": "2019-10-29T12:43:18.097122Z",
     "start_time": "2019-10-29T12:42:57.961663Z"
    },
    "hidden": true
   },
   "outputs": [
    {
     "name": "stdout",
     "output_type": "stream",
     "text": [
      "Epoch 1/2\n",
      "938/937 [==============================] - 10s 11ms/step - loss: 0.0176 - acc: 0.9947 - val_loss: 0.0151 - val_acc: 0.9946\n",
      "Epoch 2/2\n",
      "938/937 [==============================] - 10s 11ms/step - loss: 0.0159 - acc: 0.9950 - val_loss: 0.0155 - val_acc: 0.9945\n"
     ]
    },
    {
     "data": {
      "text/plain": [
       "<tensorflow.python.keras.callbacks.History at 0x258d2c16518>"
      ]
     },
     "execution_count": 63,
     "metadata": {},
     "output_type": "execute_result"
    }
   ],
   "source": [
    "model.fit_generator(batches,\n",
    "                 batches.n / bs,\n",
    "                 epochs=2,\n",
    "                 validation_data=test_batches,\n",
    "                 validation_steps=test_batches.n//bs)"
   ]
  },
  {
   "cell_type": "code",
   "execution_count": null,
   "metadata": {
    "hidden": true
   },
   "outputs": [],
   "source": []
  },
  {
   "cell_type": "markdown",
   "metadata": {
    "heading_collapsed": true
   },
   "source": [
    "# Mish activation"
   ]
  },
  {
   "cell_type": "code",
   "execution_count": 20,
   "metadata": {
    "ExecuteTime": {
     "end_time": "2019-10-29T12:24:46.262582Z",
     "start_time": "2019-10-29T12:24:46.258593Z"
    },
    "hidden": true
   },
   "outputs": [],
   "source": [
    "def mish(x):\n",
    "    return x * K.tanh(K.softplus(x))"
   ]
  },
  {
   "cell_type": "code",
   "execution_count": 28,
   "metadata": {
    "ExecuteTime": {
     "end_time": "2019-10-29T12:26:41.179947Z",
     "start_time": "2019-10-29T12:26:41.173942Z"
    },
    "hidden": true
   },
   "outputs": [],
   "source": [
    "def get_model():\n",
    "    model = Sequential([\n",
    "        Lambda(norm_input, input_shape=(28,28, 1)),\n",
    "        Conv2D(32,3,1),\n",
    "        Activation(mish),\n",
    "        BatchNormalization(),\n",
    "        Conv2D(32,3,1),     \n",
    "        Activation(mish),\n",
    "        MaxPooling2D(),\n",
    "        BatchNormalization(),\n",
    "        Conv2D(64,3,1),\n",
    "        Activation(mish),\n",
    "        BatchNormalization(),\n",
    "        Conv2D(64,3,1),\n",
    "        Activation(mish),\n",
    "        MaxPooling2D(),\n",
    "        Flatten(),\n",
    "        BatchNormalization(),\n",
    "        Dense(512),\n",
    "        Activation(mish),\n",
    "        BatchNormalization(),\n",
    "        Dense(10, activation='softmax')\n",
    "        ])\n",
    "    model.compile(Adam(), loss='categorical_crossentropy', metrics=['accuracy'])\n",
    "    return model"
   ]
  },
  {
   "cell_type": "code",
   "execution_count": 83,
   "metadata": {
    "ExecuteTime": {
     "end_time": "2019-10-29T12:53:14.259610Z",
     "start_time": "2019-10-29T12:53:13.892184Z"
    },
    "hidden": true
   },
   "outputs": [],
   "source": [
    "model_mish = get_model()"
   ]
  },
  {
   "cell_type": "code",
   "execution_count": 84,
   "metadata": {
    "ExecuteTime": {
     "end_time": "2019-10-29T12:53:28.988571Z",
     "start_time": "2019-10-29T12:53:14.282516Z"
    },
    "hidden": true
   },
   "outputs": [
    {
     "name": "stdout",
     "output_type": "stream",
     "text": [
      "938/937 [==============================] - 14s 14ms/step - loss: 0.0828 - acc: 0.9746 - val_loss: 0.0253 - val_acc: 0.9917\n"
     ]
    },
    {
     "data": {
      "text/plain": [
       "<tensorflow.python.keras.callbacks.History at 0x258dba1d278>"
      ]
     },
     "execution_count": 84,
     "metadata": {},
     "output_type": "execute_result"
    }
   ],
   "source": [
    "model_mish.fit_generator(batches,\n",
    "                 batches.n / bs,\n",
    "                 epochs=1,\n",
    "                 validation_data=test_batches,\n",
    "                 validation_steps=test_batches.n//bs)"
   ]
  },
  {
   "cell_type": "code",
   "execution_count": 85,
   "metadata": {
    "ExecuteTime": {
     "end_time": "2019-10-29T12:53:29.517912Z",
     "start_time": "2019-10-29T12:53:29.016859Z"
    },
    "hidden": true
   },
   "outputs": [],
   "source": [
    "model_mish.optimizer.lr=1e-2"
   ]
  },
  {
   "cell_type": "code",
   "execution_count": 86,
   "metadata": {
    "ExecuteTime": {
     "end_time": "2019-10-29T12:53:40.400667Z",
     "start_time": "2019-10-29T12:53:29.538824Z"
    },
    "hidden": true
   },
   "outputs": [
    {
     "name": "stdout",
     "output_type": "stream",
     "text": [
      "938/937 [==============================] - 11s 12ms/step - loss: 0.0887 - acc: 0.9760 - val_loss: 0.0405 - val_acc: 0.9883\n"
     ]
    },
    {
     "data": {
      "text/plain": [
       "<tensorflow.python.keras.callbacks.History at 0x258dba10d30>"
      ]
     },
     "execution_count": 86,
     "metadata": {},
     "output_type": "execute_result"
    }
   ],
   "source": [
    "model_mish.fit_generator(batches,\n",
    "                 batches.n / bs,\n",
    "                 epochs=1,\n",
    "                 validation_data=test_batches,\n",
    "                 validation_steps=test_batches.n//bs)"
   ]
  },
  {
   "cell_type": "code",
   "execution_count": 87,
   "metadata": {
    "ExecuteTime": {
     "end_time": "2019-10-29T12:53:40.427600Z",
     "start_time": "2019-10-29T12:53:40.423607Z"
    },
    "hidden": true
   },
   "outputs": [],
   "source": [
    "model_mish.optimizer.lr=1e-3"
   ]
  },
  {
   "cell_type": "code",
   "execution_count": 88,
   "metadata": {
    "ExecuteTime": {
     "end_time": "2019-10-29T12:54:02.293808Z",
     "start_time": "2019-10-29T12:53:40.466980Z"
    },
    "hidden": true
   },
   "outputs": [
    {
     "name": "stdout",
     "output_type": "stream",
     "text": [
      "Epoch 1/2\n",
      "938/937 [==============================] - 11s 12ms/step - loss: 0.0224 - acc: 0.9930 - val_loss: 0.0164 - val_acc: 0.9946\n",
      "Epoch 2/2\n",
      "938/937 [==============================] - 11s 12ms/step - loss: 0.0150 - acc: 0.9955 - val_loss: 0.0175 - val_acc: 0.9948\n"
     ]
    },
    {
     "data": {
      "text/plain": [
       "<tensorflow.python.keras.callbacks.History at 0x258dc544e48>"
      ]
     },
     "execution_count": 88,
     "metadata": {},
     "output_type": "execute_result"
    }
   ],
   "source": [
    "model_mish.fit_generator(batches,\n",
    "                 batches.n / bs,\n",
    "                 epochs=2,\n",
    "                 validation_data=test_batches,\n",
    "                 validation_steps=test_batches.n//bs)"
   ]
  },
  {
   "cell_type": "code",
   "execution_count": 89,
   "metadata": {
    "ExecuteTime": {
     "end_time": "2019-10-29T12:54:02.322706Z",
     "start_time": "2019-10-29T12:54:02.317718Z"
    },
    "hidden": true
   },
   "outputs": [],
   "source": [
    "model_mish.optimizer.lr=3e-4"
   ]
  },
  {
   "cell_type": "code",
   "execution_count": 90,
   "metadata": {
    "ExecuteTime": {
     "end_time": "2019-10-29T12:54:24.066446Z",
     "start_time": "2019-10-29T12:54:02.351627Z"
    },
    "hidden": true,
    "scrolled": true
   },
   "outputs": [
    {
     "name": "stdout",
     "output_type": "stream",
     "text": [
      "Epoch 1/2\n",
      "938/937 [==============================] - 11s 12ms/step - loss: 0.0107 - acc: 0.9969 - val_loss: 0.0153 - val_acc: 0.9951\n",
      "Epoch 2/2\n",
      "938/937 [==============================] - 11s 12ms/step - loss: 0.0088 - acc: 0.9974 - val_loss: 0.0163 - val_acc: 0.9951\n"
     ]
    },
    {
     "data": {
      "text/plain": [
       "<tensorflow.python.keras.callbacks.History at 0x258dc544be0>"
      ]
     },
     "execution_count": 90,
     "metadata": {},
     "output_type": "execute_result"
    }
   ],
   "source": [
    "model_mish.fit_generator(batches,\n",
    "                 batches.n / bs,\n",
    "                 epochs=2,\n",
    "                 validation_data=test_batches,\n",
    "                 validation_steps=test_batches.n//bs)"
   ]
  },
  {
   "cell_type": "markdown",
   "metadata": {
    "heading_collapsed": true
   },
   "source": [
    "# Swish activation"
   ]
  },
  {
   "cell_type": "code",
   "execution_count": 64,
   "metadata": {
    "ExecuteTime": {
     "end_time": "2019-10-29T12:48:57.278261Z",
     "start_time": "2019-10-29T12:48:57.274275Z"
    },
    "hidden": true
   },
   "outputs": [],
   "source": [
    "def swish(x):\n",
    "    return x * K.sigmoid(x)"
   ]
  },
  {
   "cell_type": "code",
   "execution_count": 65,
   "metadata": {
    "ExecuteTime": {
     "end_time": "2019-10-29T12:49:28.029899Z",
     "start_time": "2019-10-29T12:49:28.023262Z"
    },
    "hidden": true
   },
   "outputs": [],
   "source": [
    "def get_model():\n",
    "    model = Sequential([\n",
    "        Lambda(norm_input, input_shape=(28,28, 1)),\n",
    "        Conv2D(32,3,1),\n",
    "        Activation(swish),\n",
    "        BatchNormalization(),\n",
    "        Conv2D(32,3,1),     \n",
    "        Activation(swish),\n",
    "        MaxPooling2D(),\n",
    "        BatchNormalization(),\n",
    "        Conv2D(64,3,1),\n",
    "        Activation(swish),\n",
    "        BatchNormalization(),\n",
    "        Conv2D(64,3,1),\n",
    "        Activation(swish),\n",
    "        MaxPooling2D(),\n",
    "        Flatten(),\n",
    "        BatchNormalization(),\n",
    "        Dense(512),\n",
    "        Activation(swish),\n",
    "        BatchNormalization(),\n",
    "        Dense(10, activation='softmax')\n",
    "        ])\n",
    "    model.compile(Adam(), loss='categorical_crossentropy', metrics=['accuracy'])\n",
    "    return model"
   ]
  },
  {
   "cell_type": "code",
   "execution_count": 91,
   "metadata": {
    "ExecuteTime": {
     "end_time": "2019-10-29T12:54:43.528940Z",
     "start_time": "2019-10-29T12:54:43.154504Z"
    },
    "hidden": true
   },
   "outputs": [],
   "source": [
    "model_swish = get_model()"
   ]
  },
  {
   "cell_type": "code",
   "execution_count": 92,
   "metadata": {
    "ExecuteTime": {
     "end_time": "2019-10-29T12:54:58.655633Z",
     "start_time": "2019-10-29T12:54:43.552831Z"
    },
    "hidden": true
   },
   "outputs": [
    {
     "name": "stdout",
     "output_type": "stream",
     "text": [
      "938/937 [==============================] - 14s 15ms/step - loss: 0.0850 - acc: 0.9739 - val_loss: 0.0378 - val_acc: 0.9881\n"
     ]
    },
    {
     "data": {
      "text/plain": [
       "<tensorflow.python.keras.callbacks.History at 0x258ddb06c50>"
      ]
     },
     "execution_count": 92,
     "metadata": {},
     "output_type": "execute_result"
    }
   ],
   "source": [
    "model_swish.fit_generator(batches,\n",
    "                 batches.n / bs,\n",
    "                 epochs=1,\n",
    "                 validation_data=test_batches,\n",
    "                 validation_steps=test_batches.n//bs)"
   ]
  },
  {
   "cell_type": "code",
   "execution_count": 93,
   "metadata": {
    "ExecuteTime": {
     "end_time": "2019-10-29T12:54:59.195436Z",
     "start_time": "2019-10-29T12:54:58.680530Z"
    },
    "hidden": true
   },
   "outputs": [],
   "source": [
    "model_swish.optimizer.lr=1e-2"
   ]
  },
  {
   "cell_type": "code",
   "execution_count": 94,
   "metadata": {
    "ExecuteTime": {
     "end_time": "2019-10-29T12:55:10.167643Z",
     "start_time": "2019-10-29T12:54:59.236630Z"
    },
    "hidden": true
   },
   "outputs": [
    {
     "name": "stdout",
     "output_type": "stream",
     "text": [
      "938/937 [==============================] - 11s 12ms/step - loss: 0.0895 - acc: 0.9761 - val_loss: 0.0384 - val_acc: 0.9897\n"
     ]
    },
    {
     "data": {
      "text/plain": [
       "<tensorflow.python.keras.callbacks.History at 0x258df5feb00>"
      ]
     },
     "execution_count": 94,
     "metadata": {},
     "output_type": "execute_result"
    }
   ],
   "source": [
    "model_swish.fit_generator(batches,\n",
    "                 batches.n / bs,\n",
    "                 epochs=1,\n",
    "                 validation_data=test_batches,\n",
    "                 validation_steps=test_batches.n//bs)"
   ]
  },
  {
   "cell_type": "code",
   "execution_count": 95,
   "metadata": {
    "ExecuteTime": {
     "end_time": "2019-10-29T12:55:10.200070Z",
     "start_time": "2019-10-29T12:55:10.193574Z"
    },
    "hidden": true
   },
   "outputs": [],
   "source": [
    "model_swish.optimizer.lr=1e-3"
   ]
  },
  {
   "cell_type": "code",
   "execution_count": 96,
   "metadata": {
    "ExecuteTime": {
     "end_time": "2019-10-29T12:55:32.136253Z",
     "start_time": "2019-10-29T12:55:10.227004Z"
    },
    "hidden": true
   },
   "outputs": [
    {
     "name": "stdout",
     "output_type": "stream",
     "text": [
      "Epoch 1/2\n",
      "938/937 [==============================] - 11s 12ms/step - loss: 0.0211 - acc: 0.9933 - val_loss: 0.0167 - val_acc: 0.9947\n",
      "Epoch 2/2\n",
      "938/937 [==============================] - 11s 12ms/step - loss: 0.0151 - acc: 0.9954 - val_loss: 0.0178 - val_acc: 0.9936\n"
     ]
    },
    {
     "data": {
      "text/plain": [
       "<tensorflow.python.keras.callbacks.History at 0x258ddb06470>"
      ]
     },
     "execution_count": 96,
     "metadata": {},
     "output_type": "execute_result"
    }
   ],
   "source": [
    "model_swish.fit_generator(batches,\n",
    "                 batches.n / bs,\n",
    "                 epochs=2,\n",
    "                 validation_data=test_batches,\n",
    "                 validation_steps=test_batches.n//bs)"
   ]
  },
  {
   "cell_type": "code",
   "execution_count": 97,
   "metadata": {
    "ExecuteTime": {
     "end_time": "2019-10-29T12:55:32.165439Z",
     "start_time": "2019-10-29T12:55:32.159797Z"
    },
    "hidden": true
   },
   "outputs": [],
   "source": [
    "model_swish.optimizer.lr=3e-4"
   ]
  },
  {
   "cell_type": "code",
   "execution_count": 98,
   "metadata": {
    "ExecuteTime": {
     "end_time": "2019-10-29T12:55:53.772455Z",
     "start_time": "2019-10-29T12:55:32.193592Z"
    },
    "hidden": true,
    "scrolled": true
   },
   "outputs": [
    {
     "name": "stdout",
     "output_type": "stream",
     "text": [
      "Epoch 1/2\n",
      "938/937 [==============================] - 11s 11ms/step - loss: 0.0106 - acc: 0.9968 - val_loss: 0.0145 - val_acc: 0.9956\n",
      "Epoch 2/2\n",
      "938/937 [==============================] - 11s 12ms/step - loss: 0.0090 - acc: 0.9976 - val_loss: 0.0155 - val_acc: 0.9949\n"
     ]
    },
    {
     "data": {
      "text/plain": [
       "<tensorflow.python.keras.callbacks.History at 0x258ddb06278>"
      ]
     },
     "execution_count": 98,
     "metadata": {},
     "output_type": "execute_result"
    }
   ],
   "source": [
    "model_swish.fit_generator(batches,\n",
    "                 batches.n / bs,\n",
    "                 epochs=2,\n",
    "                 validation_data=test_batches,\n",
    "                 validation_steps=test_batches.n//bs)"
   ]
  },
  {
   "cell_type": "markdown",
   "metadata": {
    "heading_collapsed": true
   },
   "source": [
    "# Data Augmentation + BN"
   ]
  },
  {
   "cell_type": "code",
   "execution_count": 143,
   "metadata": {
    "ExecuteTime": {
     "end_time": "2019-10-26T09:46:18.153281Z",
     "start_time": "2019-10-26T09:46:18.034453Z"
    },
    "hidden": true
   },
   "outputs": [],
   "source": [
    "gen = image.ImageDataGenerator(rotation_range=8, width_shift_range=0.08, shear_range=0.3,\n",
    "                               height_shift_range=0.08, zoom_range=0.08)\n",
    "batches = gen.flow(x_train, y_train, batch_size=64)\n",
    "test_batches = gen.flow(x_test, y_test, batch_size=64)"
   ]
  },
  {
   "cell_type": "code",
   "execution_count": 146,
   "metadata": {
    "ExecuteTime": {
     "end_time": "2019-10-26T09:49:06.826063Z",
     "start_time": "2019-10-26T09:49:06.481183Z"
    },
    "hidden": true
   },
   "outputs": [],
   "source": [
    "model = get_model()"
   ]
  },
  {
   "cell_type": "code",
   "execution_count": 147,
   "metadata": {
    "ExecuteTime": {
     "end_time": "2019-10-26T09:51:28.878347Z",
     "start_time": "2019-10-26T09:49:06.905279Z"
    },
    "hidden": true
   },
   "outputs": [
    {
     "name": "stdout",
     "output_type": "stream",
     "text": [
      "938/937 [==============================] - 141s 151ms/step - loss: 0.1273 - acc: 0.9603 - val_loss: 0.0453 - val_acc: 0.9859\n"
     ]
    },
    {
     "data": {
      "text/plain": [
       "<tensorflow.python.keras.callbacks.History at 0x27884a58eb8>"
      ]
     },
     "execution_count": 147,
     "metadata": {},
     "output_type": "execute_result"
    }
   ],
   "source": [
    "model.fit_generator(batches,\n",
    "                 batches.n / bs,\n",
    "                 epochs=1,\n",
    "                 validation_data=test_batches,\n",
    "                 validation_steps=test_batches.n)"
   ]
  },
  {
   "cell_type": "code",
   "execution_count": 148,
   "metadata": {
    "ExecuteTime": {
     "end_time": "2019-10-26T09:51:29.248225Z",
     "start_time": "2019-10-26T09:51:28.973098Z"
    },
    "hidden": true
   },
   "outputs": [],
   "source": [
    "model.optimizer.lr = 2e-2"
   ]
  },
  {
   "cell_type": "code",
   "execution_count": 149,
   "metadata": {
    "ExecuteTime": {
     "end_time": "2019-10-26T09:53:49.783468Z",
     "start_time": "2019-10-26T09:51:29.330544Z"
    },
    "hidden": true
   },
   "outputs": [
    {
     "name": "stdout",
     "output_type": "stream",
     "text": [
      "938/937 [==============================] - 140s 150ms/step - loss: 0.1750 - acc: 0.9519 - val_loss: 0.1040 - val_acc: 0.9695\n"
     ]
    },
    {
     "data": {
      "text/plain": [
       "<tensorflow.python.keras.callbacks.History at 0x27884a587b8>"
      ]
     },
     "execution_count": 149,
     "metadata": {},
     "output_type": "execute_result"
    }
   ],
   "source": [
    "model.fit_generator(batches,\n",
    "                 batches.n / bs,\n",
    "                 epochs=1,\n",
    "                 validation_data=test_batches,\n",
    "                 validation_steps=test_batches.n)"
   ]
  },
  {
   "cell_type": "code",
   "execution_count": 150,
   "metadata": {
    "ExecuteTime": {
     "end_time": "2019-10-26T09:53:49.879212Z",
     "start_time": "2019-10-26T09:53:49.874254Z"
    },
    "hidden": true
   },
   "outputs": [],
   "source": [
    "model.optimizer.lr=1e-3"
   ]
  },
  {
   "cell_type": "code",
   "execution_count": 151,
   "metadata": {
    "ExecuteTime": {
     "end_time": "2019-10-26T09:58:42.101348Z",
     "start_time": "2019-10-26T09:53:49.964997Z"
    },
    "hidden": true
   },
   "outputs": [
    {
     "name": "stdout",
     "output_type": "stream",
     "text": [
      "Epoch 1/2\n",
      "938/937 [==============================] - 142s 151ms/step - loss: 0.0611 - acc: 0.9813 - val_loss: 0.0322 - val_acc: 0.9895\n",
      "Epoch 2/2\n",
      "938/937 [==============================] - 150s 160ms/step - loss: 0.0432 - acc: 0.9863 - val_loss: 0.0304 - val_acc: 0.9903\n"
     ]
    },
    {
     "data": {
      "text/plain": [
       "<tensorflow.python.keras.callbacks.History at 0x27882458860>"
      ]
     },
     "execution_count": 151,
     "metadata": {},
     "output_type": "execute_result"
    }
   ],
   "source": [
    "model.fit_generator(batches,\n",
    "                 batches.n / bs,\n",
    "                 epochs=2,\n",
    "                 validation_data=test_batches,\n",
    "                 validation_steps=test_batches.n)"
   ]
  },
  {
   "cell_type": "markdown",
   "metadata": {
    "heading_collapsed": true
   },
   "source": [
    "# Ensembling"
   ]
  },
  {
   "cell_type": "code",
   "execution_count": 14,
   "metadata": {
    "ExecuteTime": {
     "end_time": "2019-11-04T07:59:46.531958Z",
     "start_time": "2019-11-04T07:59:46.525972Z"
    },
    "hidden": true
   },
   "outputs": [],
   "source": [
    "def fit_model(batches=batches, test_batches=test_batches):\n",
    "    model = get_model()\n",
    "    model.fit_generator(batches,\n",
    "                        batches.n / bs,\n",
    "                        epochs=1,  # 1\n",
    "                        validation_data=test_batches,\n",
    "                        validation_steps=test_batches.n//bs)\n",
    "    model.optimizer.lr = 2e-2\n",
    "    model.fit_generator(batches,\n",
    "                        batches.n / bs,\n",
    "                        epochs=1,  # 4\n",
    "                        validation_data=test_batches,\n",
    "                        validation_steps=test_batches.n//bs)\n",
    "    model.optimizer.lr = 2e-3\n",
    "    model.fit_generator(batches,\n",
    "                        batches.n / bs,\n",
    "                        epochs=1,  # 12\n",
    "                        validation_data=test_batches,\n",
    "                        validation_steps=test_batches.n//bs)\n",
    "    model.optimizer.lr = 3e-4\n",
    "    model.fit_generator(batches,\n",
    "                        batches.n / bs,\n",
    "                        epochs=1,  # 18\n",
    "                        validation_data=test_batches,\n",
    "                        validation_steps=test_batches.n//bs)\n",
    "    return model"
   ]
  },
  {
   "cell_type": "code",
   "execution_count": 157,
   "metadata": {
    "ExecuteTime": {
     "end_time": "2019-10-26T10:15:09.268598Z",
     "start_time": "2019-10-26T10:15:09.172396Z"
    },
    "hidden": true
   },
   "outputs": [],
   "source": [
    "gen = image.ImageDataGenerator()\n",
    "batches = gen.flow(x_train, y_train, batch_size=bs)\n",
    "test_batches = gen.flow(x_test, y_test, batch_size=bs)"
   ]
  },
  {
   "cell_type": "code",
   "execution_count": 158,
   "metadata": {
    "ExecuteTime": {
     "end_time": "2019-10-26T10:36:17.864789Z",
     "start_time": "2019-10-26T10:15:13.413135Z"
    },
    "hidden": true
   },
   "outputs": [
    {
     "name": "stdout",
     "output_type": "stream",
     "text": [
      "938/937 [==============================] - 53s 56ms/step - loss: 0.0865 - acc: 0.9748 - val_loss: 0.0486 - val_acc: 0.9852\n",
      "938/937 [==============================] - 50s 53ms/step - loss: 0.1232 - acc: 0.9686 - val_loss: 0.0544 - val_acc: 0.9828\n",
      "938/937 [==============================] - 50s 53ms/step - loss: 0.0277 - acc: 0.9916 - val_loss: 0.0173 - val_acc: 0.9940\n",
      "938/937 [==============================] - 50s 53ms/step - loss: 0.0187 - acc: 0.9943 - val_loss: 0.0171 - val_acc: 0.9936\n",
      "938/937 [==============================] - 52s 55ms/step - loss: 0.0845 - acc: 0.9740 - val_loss: 0.0371 - val_acc: 0.9888\n",
      "938/937 [==============================] - 50s 53ms/step - loss: 0.1201 - acc: 0.9698 - val_loss: 0.0519 - val_acc: 0.9842\n",
      "938/937 [==============================] - 50s 53ms/step - loss: 0.0286 - acc: 0.9914 - val_loss: 0.0187 - val_acc: 0.9937\n",
      "938/937 [==============================] - 50s 54ms/step - loss: 0.0185 - acc: 0.9941 - val_loss: 0.0169 - val_acc: 0.9944\n",
      "938/937 [==============================] - 53s 57ms/step - loss: 0.0844 - acc: 0.9739 - val_loss: 0.0477 - val_acc: 0.9855\n",
      "938/937 [==============================] - 51s 54ms/step - loss: 0.1173 - acc: 0.9704 - val_loss: 0.0677 - val_acc: 0.9805\n",
      "938/937 [==============================] - 51s 54ms/step - loss: 0.0267 - acc: 0.9917 - val_loss: 0.0210 - val_acc: 0.9933\n",
      "938/937 [==============================] - 50s 54ms/step - loss: 0.0175 - acc: 0.9947 - val_loss: 0.0187 - val_acc: 0.9939\n",
      "938/937 [==============================] - 54s 58ms/step - loss: 0.0866 - acc: 0.9746 - val_loss: 0.0428 - val_acc: 0.9863\n",
      "938/937 [==============================] - 52s 55ms/step - loss: 0.1232 - acc: 0.9696 - val_loss: 0.0754 - val_acc: 0.9774\n",
      "938/937 [==============================] - 52s 55ms/step - loss: 0.0293 - acc: 0.9915 - val_loss: 0.0164 - val_acc: 0.9946\n",
      "938/937 [==============================] - 52s 55ms/step - loss: 0.0192 - acc: 0.9941 - val_loss: 0.0155 - val_acc: 0.9946\n",
      "938/937 [==============================] - 55s 59ms/step - loss: 0.0856 - acc: 0.9741 - val_loss: 0.0487 - val_acc: 0.9843\n",
      "938/937 [==============================] - 54s 58ms/step - loss: 0.1195 - acc: 0.9706 - val_loss: 0.0414 - val_acc: 0.9869\n",
      "938/937 [==============================] - 54s 58ms/step - loss: 0.0274 - acc: 0.9915 - val_loss: 0.0194 - val_acc: 0.9941\n",
      "938/937 [==============================] - 55s 58ms/step - loss: 0.0188 - acc: 0.9944 - val_loss: 0.0180 - val_acc: 0.9944\n",
      "938/937 [==============================] - 56s 60ms/step - loss: 0.0848 - acc: 0.9745 - val_loss: 0.0412 - val_acc: 0.9858\n",
      "938/937 [==============================] - 53s 57ms/step - loss: 0.1172 - acc: 0.9707 - val_loss: 0.0692 - val_acc: 0.9802\n",
      "938/937 [==============================] - 53s 57ms/step - loss: 0.0283 - acc: 0.9912 - val_loss: 0.0176 - val_acc: 0.9937\n",
      "938/937 [==============================] - 53s 57ms/step - loss: 0.0175 - acc: 0.9951 - val_loss: 0.0165 - val_acc: 0.9950\n"
     ]
    }
   ],
   "source": [
    "models = [fit_model() for i in range(6)]"
   ]
  },
  {
   "cell_type": "code",
   "execution_count": 159,
   "metadata": {
    "ExecuteTime": {
     "end_time": "2019-10-26T10:36:17.969478Z",
     "start_time": "2019-10-26T10:36:17.965488Z"
    },
    "hidden": true
   },
   "outputs": [],
   "source": [
    "path = \"data/mnist/\"\n",
    "model_path = path + 'models/'"
   ]
  },
  {
   "cell_type": "code",
   "execution_count": 160,
   "metadata": {
    "ExecuteTime": {
     "end_time": "2019-10-26T10:36:22.040889Z",
     "start_time": "2019-10-26T10:36:18.066223Z"
    },
    "hidden": true
   },
   "outputs": [],
   "source": [
    "for i,m in enumerate(models):\n",
    "    m.save_weights(model_path+'cnn-mnist23-'+str(i)+'.pkl')"
   ]
  },
  {
   "cell_type": "code",
   "execution_count": 162,
   "metadata": {
    "ExecuteTime": {
     "end_time": "2019-10-26T11:47:13.420664Z",
     "start_time": "2019-10-26T11:47:11.877221Z"
    },
    "hidden": true
   },
   "outputs": [
    {
     "name": "stdout",
     "output_type": "stream",
     "text": [
      "10000/10000 [==============================] - 0s 29us/sample - loss: 0.0172 - acc: 0.9936\n",
      "10000/10000 [==============================] - 0s 24us/sample - loss: 0.0168 - acc: 0.9944\n",
      "10000/10000 [==============================] - 0s 23us/sample - loss: 0.0187 - acc: 0.9939\n",
      "10000/10000 [==============================] - 0s 24us/sample - loss: 0.0154 - acc: 0.9946\n",
      "10000/10000 [==============================] - 0s 24us/sample - loss: 0.0180 - acc: 0.9944\n",
      "10000/10000 [==============================] - 0s 26us/sample - loss: 0.0164 - acc: 0.9950\n"
     ]
    }
   ],
   "source": [
    "evals = np.array([m.evaluate(x_test, y_test, batch_size=256) for m in models])"
   ]
  },
  {
   "cell_type": "code",
   "execution_count": 163,
   "metadata": {
    "ExecuteTime": {
     "end_time": "2019-10-26T11:47:21.921374Z",
     "start_time": "2019-10-26T11:47:21.916393Z"
    },
    "hidden": true
   },
   "outputs": [
    {
     "data": {
      "text/plain": [
       "(array([[0.01715409, 0.99360001],\n",
       "        [0.01680499, 0.99440002],\n",
       "        [0.01872739, 0.9939    ],\n",
       "        [0.01544995, 0.9946    ],\n",
       "        [0.01799497, 0.99440002],\n",
       "        [0.016379  , 0.995     ]]), array([0.01708506, 0.99431668]))"
      ]
     },
     "execution_count": 163,
     "metadata": {},
     "output_type": "execute_result"
    }
   ],
   "source": [
    "evals, evals.mean(axis=0)"
   ]
  },
  {
   "cell_type": "code",
   "execution_count": 165,
   "metadata": {
    "ExecuteTime": {
     "end_time": "2019-10-26T11:47:39.122899Z",
     "start_time": "2019-10-26T11:47:34.310299Z"
    },
    "hidden": true
   },
   "outputs": [],
   "source": [
    "all_preds = np.stack([m.predict(x_test, batch_size=256) for m in models])"
   ]
  },
  {
   "cell_type": "code",
   "execution_count": 187,
   "metadata": {
    "ExecuteTime": {
     "end_time": "2019-10-26T11:52:37.864090Z",
     "start_time": "2019-10-26T11:52:37.860096Z"
    },
    "hidden": true
   },
   "outputs": [
    {
     "data": {
      "text/plain": [
       "(6, 10000, 10)"
      ]
     },
     "execution_count": 187,
     "metadata": {},
     "output_type": "execute_result"
    }
   ],
   "source": [
    "all_preds.shape"
   ]
  },
  {
   "cell_type": "markdown",
   "metadata": {
    "heading_collapsed": true,
    "hidden": true
   },
   "source": [
    "### mean"
   ]
  },
  {
   "cell_type": "code",
   "execution_count": 166,
   "metadata": {
    "ExecuteTime": {
     "end_time": "2019-10-26T11:47:39.222431Z",
     "start_time": "2019-10-26T11:47:39.219403Z"
    },
    "hidden": true
   },
   "outputs": [],
   "source": [
    "avg_preds = all_preds.mean(axis=0)"
   ]
  },
  {
   "cell_type": "code",
   "execution_count": 183,
   "metadata": {
    "ExecuteTime": {
     "end_time": "2019-10-26T11:50:58.283259Z",
     "start_time": "2019-10-26T11:50:57.566152Z"
    },
    "hidden": true
   },
   "outputs": [],
   "source": [
    "with tf.Session() as sess:\n",
    "    acc = keras.metrics.categorical_accuracy(y_test, avg_preds).eval(session=sess).mean()"
   ]
  },
  {
   "cell_type": "code",
   "execution_count": 184,
   "metadata": {
    "ExecuteTime": {
     "end_time": "2019-10-26T11:51:05.209373Z",
     "start_time": "2019-10-26T11:51:05.204385Z"
    },
    "hidden": true
   },
   "outputs": [
    {
     "data": {
      "text/plain": [
       "0.9959"
      ]
     },
     "execution_count": 184,
     "metadata": {},
     "output_type": "execute_result"
    }
   ],
   "source": [
    "acc"
   ]
  },
  {
   "cell_type": "markdown",
   "metadata": {
    "ExecuteTime": {
     "end_time": "2019-10-26T11:52:23.247863Z",
     "start_time": "2019-10-26T11:52:23.244862Z"
    },
    "hidden": true
   },
   "source": [
    "### vote"
   ]
  },
  {
   "cell_type": "code",
   "execution_count": 190,
   "metadata": {
    "ExecuteTime": {
     "end_time": "2019-10-26T11:54:26.256103Z",
     "start_time": "2019-10-26T11:54:25.035967Z"
    },
    "hidden": true
   },
   "outputs": [],
   "source": [
    "all_preds = np.stack([np.argmax(m.predict(x_test, batch_size=256), axis=-1) for m in models])"
   ]
  },
  {
   "cell_type": "code",
   "execution_count": 193,
   "metadata": {
    "ExecuteTime": {
     "end_time": "2019-10-26T11:54:34.656207Z",
     "start_time": "2019-10-26T11:54:34.652217Z"
    },
    "hidden": true
   },
   "outputs": [
    {
     "data": {
      "text/plain": [
       "array([[7, 2, 1, ..., 4, 5, 6],\n",
       "       [7, 2, 1, ..., 4, 5, 6],\n",
       "       [7, 2, 1, ..., 4, 5, 6],\n",
       "       [7, 2, 1, ..., 4, 5, 6],\n",
       "       [7, 2, 1, ..., 4, 5, 6],\n",
       "       [7, 2, 1, ..., 4, 5, 6]], dtype=int64)"
      ]
     },
     "execution_count": 193,
     "metadata": {},
     "output_type": "execute_result"
    }
   ],
   "source": [
    "all_preds"
   ]
  },
  {
   "cell_type": "code",
   "execution_count": 197,
   "metadata": {
    "ExecuteTime": {
     "end_time": "2019-10-26T11:58:16.653559Z",
     "start_time": "2019-10-26T11:58:16.651529Z"
    },
    "hidden": true
   },
   "outputs": [],
   "source": [
    "import scipy"
   ]
  },
  {
   "cell_type": "code",
   "execution_count": 199,
   "metadata": {
    "ExecuteTime": {
     "end_time": "2019-10-26T11:58:58.783478Z",
     "start_time": "2019-10-26T11:58:58.779489Z"
    },
    "hidden": true
   },
   "outputs": [
    {
     "data": {
      "text/plain": [
       "(6, 10000)"
      ]
     },
     "execution_count": 199,
     "metadata": {},
     "output_type": "execute_result"
    }
   ],
   "source": [
    "all_preds.shape"
   ]
  },
  {
   "cell_type": "code",
   "execution_count": 202,
   "metadata": {
    "ExecuteTime": {
     "end_time": "2019-10-26T11:59:48.473779Z",
     "start_time": "2019-10-26T11:59:48.283287Z"
    },
    "hidden": true
   },
   "outputs": [],
   "source": [
    "all_preds_vote = scipy.stats.mode(all_preds, axis=0)[0]"
   ]
  },
  {
   "cell_type": "code",
   "execution_count": 207,
   "metadata": {
    "ExecuteTime": {
     "end_time": "2019-10-26T12:00:52.542616Z",
     "start_time": "2019-10-26T12:00:52.539622Z"
    },
    "hidden": true
   },
   "outputs": [],
   "source": [
    "all_preds_vote = all_preds_vote.squeeze()"
   ]
  },
  {
   "cell_type": "code",
   "execution_count": 223,
   "metadata": {
    "ExecuteTime": {
     "end_time": "2019-10-26T12:06:01.980443Z",
     "start_time": "2019-10-26T12:06:01.322228Z"
    },
    "hidden": true
   },
   "outputs": [],
   "source": [
    "with tf.Session() as sess:\n",
    "    acc = keras.metrics.categorical_accuracy(y_test, onehot(all_preds_vote)).eval(session=sess).mean()"
   ]
  },
  {
   "cell_type": "code",
   "execution_count": 224,
   "metadata": {
    "ExecuteTime": {
     "end_time": "2019-10-26T12:06:02.622102Z",
     "start_time": "2019-10-26T12:06:02.618113Z"
    },
    "hidden": true
   },
   "outputs": [
    {
     "data": {
      "text/plain": [
       "0.9955"
      ]
     },
     "execution_count": 224,
     "metadata": {},
     "output_type": "execute_result"
    }
   ],
   "source": [
    "acc"
   ]
  },
  {
   "cell_type": "code",
   "execution_count": null,
   "metadata": {
    "hidden": true
   },
   "outputs": [],
   "source": []
  },
  {
   "cell_type": "markdown",
   "metadata": {
    "heading_collapsed": true
   },
   "source": [
    "# pseudo labeling"
   ]
  },
  {
   "cell_type": "markdown",
   "metadata": {
    "ExecuteTime": {
     "end_time": "2019-10-27T15:17:39.967602Z",
     "start_time": "2019-10-27T15:17:39.964611Z"
    },
    "heading_collapsed": true,
    "hidden": true
   },
   "source": [
    "## example"
   ]
  },
  {
   "cell_type": "code",
   "execution_count": 14,
   "metadata": {
    "ExecuteTime": {
     "end_time": "2019-11-04T06:39:40.114653Z",
     "start_time": "2019-11-04T06:39:40.108669Z"
    },
    "hidden": true
   },
   "outputs": [],
   "source": [
    "def get_model():\n",
    "    model = Sequential([\n",
    "        Lambda(norm_input, input_shape=(28,28, 1)),\n",
    "        Conv2D(32,3,1, activation='relu'),\n",
    "        BatchNormalization(),\n",
    "        Conv2D(32,3,1, activation='relu'),       \n",
    "        MaxPooling2D(),       \n",
    "        BatchNormalization(),\n",
    "        Dropout(0.2),\n",
    "        Conv2D(64,3,1, activation='relu'),\n",
    "        BatchNormalization(),\n",
    "        Conv2D(64,3,1, activation='relu'),\n",
    "        MaxPooling2D(),\n",
    "        Flatten(),\n",
    "        BatchNormalization(),\n",
    "        Dropout(0.2),\n",
    "        Dense(512, activation='relu'),\n",
    "        BatchNormalization(),\n",
    "        Dropout(0.2),\n",
    "        Dense(10, activation='softmax')\n",
    "        ])\n",
    "    model.compile(Adam(), loss='categorical_crossentropy', metrics=['accuracy'])\n",
    "    return model"
   ]
  },
  {
   "cell_type": "code",
   "execution_count": 15,
   "metadata": {
    "ExecuteTime": {
     "end_time": "2019-11-04T06:39:40.974966Z",
     "start_time": "2019-11-04T06:39:40.479947Z"
    },
    "hidden": true
   },
   "outputs": [
    {
     "name": "stderr",
     "output_type": "stream",
     "text": [
      "WARNING: Logging before flag parsing goes to stderr.\n",
      "W1104 14:39:40.508870  3760 deprecation.py:506] From C:\\ProgramData\\Anaconda3\\lib\\site-packages\\tensorflow\\python\\ops\\init_ops.py:1251: calling VarianceScaling.__init__ (from tensorflow.python.ops.init_ops) with dtype is deprecated and will be removed in a future version.\n",
      "Instructions for updating:\n",
      "Call initializer instance with the dtype argument instead of passing it to the constructor\n"
     ]
    }
   ],
   "source": [
    "model = get_model()"
   ]
  },
  {
   "cell_type": "code",
   "execution_count": 16,
   "metadata": {
    "ExecuteTime": {
     "end_time": "2019-11-04T06:39:42.557459Z",
     "start_time": "2019-11-04T06:39:42.552472Z"
    },
    "hidden": true
   },
   "outputs": [],
   "source": [
    "sample = 5000\n",
    "index = np.arange(x_train.shape[0])\n",
    "np.random.shuffle(index)\n",
    "train_idx = index[:sample]\n",
    "psudo_idx = index[sample:]"
   ]
  },
  {
   "cell_type": "code",
   "execution_count": 17,
   "metadata": {
    "ExecuteTime": {
     "end_time": "2019-11-04T06:39:43.767493Z",
     "start_time": "2019-11-04T06:39:43.737574Z"
    },
    "hidden": true
   },
   "outputs": [],
   "source": [
    "x_train_sample = x_train[train_idx]\n",
    "x_psudo = x_train[psudo_idx]\n",
    "\n",
    "y_train_sample = y_train[train_idx]\n",
    "y_psudo_label = y_train[psudo_idx]"
   ]
  },
  {
   "cell_type": "code",
   "execution_count": 18,
   "metadata": {
    "ExecuteTime": {
     "end_time": "2019-11-04T06:39:46.541073Z",
     "start_time": "2019-11-04T06:39:46.518135Z"
    },
    "hidden": true
   },
   "outputs": [],
   "source": [
    "gen = image.ImageDataGenerator()\n",
    "batches = gen.flow(x_train_sample, y_train_sample, batch_size=bs)\n",
    "test_batches = gen.flow(x_test, y_test, batch_size=bs)"
   ]
  },
  {
   "cell_type": "code",
   "execution_count": 19,
   "metadata": {
    "ExecuteTime": {
     "end_time": "2019-11-04T06:40:10.165435Z",
     "start_time": "2019-11-04T06:39:49.451735Z"
    },
    "hidden": true
   },
   "outputs": [
    {
     "name": "stdout",
     "output_type": "stream",
     "text": [
      "79/78 [==============================] - 5s 61ms/step - loss: 0.3861 - acc: 0.8820 - val_loss: 6.1580 - val_acc: 0.1136\n",
      "Epoch 1/2\n",
      "79/78 [==============================] - 1s 17ms/step - loss: 0.3924 - acc: 0.9110 - val_loss: 1.8999 - val_acc: 0.8274\n",
      "Epoch 2/2\n",
      "79/78 [==============================] - 1s 18ms/step - loss: 0.1599 - acc: 0.9606 - val_loss: 0.3134 - val_acc: 0.9568\n",
      "Epoch 1/3\n",
      "79/78 [==============================] - 1s 17ms/step - loss: 0.0950 - acc: 0.9776 - val_loss: 0.1057 - val_acc: 0.9789\n",
      "Epoch 2/3\n",
      "79/78 [==============================] - 1s 18ms/step - loss: 0.0625 - acc: 0.9844 - val_loss: 0.0781 - val_acc: 0.9818\n",
      "Epoch 3/3\n",
      "79/78 [==============================] - 1s 17ms/step - loss: 0.0400 - acc: 0.9876 - val_loss: 0.0787 - val_acc: 0.9815\n",
      "Epoch 1/4\n",
      "79/78 [==============================] - 1s 18ms/step - loss: 0.0245 - acc: 0.9920 - val_loss: 0.0717 - val_acc: 0.9837\n",
      "Epoch 2/4\n",
      "79/78 [==============================] - 1s 18ms/step - loss: 0.0249 - acc: 0.9922 - val_loss: 0.0683 - val_acc: 0.9833\n",
      "Epoch 3/4\n",
      "79/78 [==============================] - 1s 18ms/step - loss: 0.0212 - acc: 0.9936 - val_loss: 0.0656 - val_acc: 0.9836\n",
      "Epoch 4/4\n",
      "79/78 [==============================] - 1s 18ms/step - loss: 0.0215 - acc: 0.9914 - val_loss: 0.0643 - val_acc: 0.9833\n"
     ]
    },
    {
     "data": {
      "text/plain": [
       "<tensorflow.python.keras.callbacks.History at 0x1b794aba9e8>"
      ]
     },
     "execution_count": 19,
     "metadata": {},
     "output_type": "execute_result"
    }
   ],
   "source": [
    "model = get_model()\n",
    "model.fit_generator(batches,\n",
    "                    batches.n / bs,\n",
    "                    epochs=1,  # 1\n",
    "                    validation_data=test_batches,\n",
    "                    validation_steps=test_batches.n//bs)\n",
    "model.optimizer.lr = 2e-2\n",
    "model.fit_generator(batches,\n",
    "                    batches.n / bs,\n",
    "                    epochs=2,  # 4\n",
    "                    validation_data=test_batches,\n",
    "                    validation_steps=test_batches.n//bs)\n",
    "model.optimizer.lr = 2e-3\n",
    "model.fit_generator(batches,\n",
    "                    batches.n / bs,\n",
    "                    epochs=3,  # 12\n",
    "                    validation_data=test_batches,\n",
    "                    validation_steps=test_batches.n//bs)\n",
    "model.optimizer.lr = 3e-4\n",
    "model.fit_generator(batches,\n",
    "                    batches.n / bs,\n",
    "                    epochs=4,  # 18\n",
    "                    validation_data=test_batches,\n",
    "                    validation_steps=test_batches.n//bs)"
   ]
  },
  {
   "cell_type": "code",
   "execution_count": 20,
   "metadata": {
    "ExecuteTime": {
     "end_time": "2019-11-04T06:40:13.013870Z",
     "start_time": "2019-11-04T06:40:10.210890Z"
    },
    "hidden": true
   },
   "outputs": [],
   "source": [
    "y_psudo_hat = model.predict_classes(x_psudo)"
   ]
  },
  {
   "cell_type": "code",
   "execution_count": 21,
   "metadata": {
    "ExecuteTime": {
     "end_time": "2019-11-04T06:40:13.063747Z",
     "start_time": "2019-11-04T06:40:13.059667Z"
    },
    "hidden": true
   },
   "outputs": [],
   "source": [
    "y_psudo_hat = onehot(y_psudo_hat)"
   ]
  },
  {
   "cell_type": "code",
   "execution_count": 22,
   "metadata": {
    "ExecuteTime": {
     "end_time": "2019-11-04T06:40:13.129507Z",
     "start_time": "2019-11-04T06:40:13.105544Z"
    },
    "hidden": true
   },
   "outputs": [],
   "source": [
    "p_x_train = np.concatenate([x_train_sample, x_psudo], axis=0)\n",
    "p_y_train = np.concatenate([y_train_sample, y_psudo_hat], axis=0)"
   ]
  },
  {
   "cell_type": "code",
   "execution_count": 23,
   "metadata": {
    "ExecuteTime": {
     "end_time": "2019-11-04T06:40:13.263122Z",
     "start_time": "2019-11-04T06:40:13.173363Z"
    },
    "hidden": true
   },
   "outputs": [],
   "source": [
    "gen = image.ImageDataGenerator()\n",
    "batches = gen.flow(p_x_train, p_y_train, batch_size=bs)\n",
    "test_batches = gen.flow(x_test, y_test, batch_size=bs)"
   ]
  },
  {
   "cell_type": "markdown",
   "metadata": {
    "heading_collapsed": true,
    "hidden": true
   },
   "source": [
    "### train on pretrain parameter (acc: 0.9878) (original: 0.9833)"
   ]
  },
  {
   "cell_type": "code",
   "execution_count": 24,
   "metadata": {
    "ExecuteTime": {
     "end_time": "2019-11-04T06:41:12.936447Z",
     "start_time": "2019-11-04T06:40:13.307649Z"
    },
    "hidden": true
   },
   "outputs": [
    {
     "name": "stdout",
     "output_type": "stream",
     "text": [
      "Epoch 1/2\n",
      "938/937 [==============================] - 10s 11ms/step - loss: 0.0390 - acc: 0.9862 - val_loss: 0.0577 - val_acc: 0.9852\n",
      "Epoch 2/2\n",
      "938/937 [==============================] - 10s 11ms/step - loss: 0.0353 - acc: 0.9876 - val_loss: 0.0541 - val_acc: 0.9857\n",
      "Epoch 1/2\n",
      "938/937 [==============================] - 10s 11ms/step - loss: 0.0294 - acc: 0.9895 - val_loss: 0.0496 - val_acc: 0.9878\n",
      "Epoch 2/2\n",
      "938/937 [==============================] - 10s 11ms/step - loss: 0.0260 - acc: 0.9908 - val_loss: 0.0529 - val_acc: 0.9871\n",
      "Epoch 1/2\n",
      "938/937 [==============================] - 10s 10ms/step - loss: 0.0235 - acc: 0.9913 - val_loss: 0.0502 - val_acc: 0.9870\n",
      "Epoch 2/2\n",
      "938/937 [==============================] - 10s 10ms/step - loss: 0.0210 - acc: 0.9922 - val_loss: 0.0484 - val_acc: 0.9878\n"
     ]
    },
    {
     "data": {
      "text/plain": [
       "<tensorflow.python.keras.callbacks.History at 0x1b7a224d278>"
      ]
     },
     "execution_count": 24,
     "metadata": {},
     "output_type": "execute_result"
    }
   ],
   "source": [
    "model.optimizer.lr = 1e-3\n",
    "model.fit_generator(batches,\n",
    "                    batches.n / bs,\n",
    "                    epochs=2,  # 12\n",
    "                    validation_data=test_batches,\n",
    "                    validation_steps=test_batches.n//bs)\n",
    "model.optimizer.lr = 3e-4\n",
    "model.fit_generator(batches,\n",
    "                    batches.n / bs,\n",
    "                    epochs=2,  # 18\n",
    "                    validation_data=test_batches,\n",
    "                    validation_steps=test_batches.n//bs)\n",
    "model.optimizer.lr = 1e-4\n",
    "model.fit_generator(batches,\n",
    "                    batches.n / bs,\n",
    "                    epochs=2,  # 18\n",
    "                    validation_data=test_batches,\n",
    "                    validation_steps=test_batches.n//bs)"
   ]
  },
  {
   "cell_type": "code",
   "execution_count": 26,
   "metadata": {
    "ExecuteTime": {
     "end_time": "2019-11-04T06:42:21.798446Z",
     "start_time": "2019-11-04T06:42:21.079105Z"
    },
    "hidden": true
   },
   "outputs": [
    {
     "name": "stdout",
     "output_type": "stream",
     "text": [
      "10000/10000 [==============================] - 1s 71us/sample - loss: 0.0483 - acc: 0.9878\n"
     ]
    },
    {
     "data": {
      "text/plain": [
       "0.9878"
      ]
     },
     "execution_count": 26,
     "metadata": {},
     "output_type": "execute_result"
    }
   ],
   "source": [
    "model.evaluate(x_test, y_test)[1]"
   ]
  },
  {
   "cell_type": "markdown",
   "metadata": {
    "heading_collapsed": true,
    "hidden": true
   },
   "source": [
    "### Train with psudo label from  initial parameter (acc: 0.9890)"
   ]
  },
  {
   "cell_type": "code",
   "execution_count": 27,
   "metadata": {
    "ExecuteTime": {
     "end_time": "2019-11-04T06:45:55.678537Z",
     "start_time": "2019-11-04T06:44:14.097550Z"
    },
    "hidden": true
   },
   "outputs": [
    {
     "name": "stdout",
     "output_type": "stream",
     "text": [
      "938/937 [==============================] - 11s 12ms/step - loss: 0.1083 - acc: 0.9655 - val_loss: 0.0558 - val_acc: 0.9833\n",
      "Epoch 1/2\n",
      "938/937 [==============================] - 10s 11ms/step - loss: 0.1426 - acc: 0.9645 - val_loss: 0.0857 - val_acc: 0.9765\n",
      "Epoch 2/2\n",
      "938/937 [==============================] - 10s 11ms/step - loss: 0.0876 - acc: 0.9750 - val_loss: 0.1441 - val_acc: 0.9704\n",
      "Epoch 1/3\n",
      "938/937 [==============================] - 10s 11ms/step - loss: 0.0387 - acc: 0.9869 - val_loss: 0.0385 - val_acc: 0.9889\n",
      "Epoch 2/3\n",
      "938/937 [==============================] - 10s 10ms/step - loss: 0.0310 - acc: 0.9890 - val_loss: 0.0420 - val_acc: 0.9869\n",
      "Epoch 3/3\n",
      "938/937 [==============================] - 10s 11ms/step - loss: 0.0286 - acc: 0.9899 - val_loss: 0.0399 - val_acc: 0.9883\n",
      "Epoch 1/4\n",
      "938/937 [==============================] - 10s 11ms/step - loss: 0.0236 - acc: 0.9919 - val_loss: 0.0372 - val_acc: 0.9887\n",
      "Epoch 2/4\n",
      "938/937 [==============================] - 10s 11ms/step - loss: 0.0217 - acc: 0.9922 - val_loss: 0.0375 - val_acc: 0.9880\n",
      "Epoch 3/4\n",
      "938/937 [==============================] - 10s 11ms/step - loss: 0.0220 - acc: 0.9922 - val_loss: 0.0362 - val_acc: 0.9888\n",
      "Epoch 4/4\n",
      "938/937 [==============================] - 10s 11ms/step - loss: 0.0215 - acc: 0.9918 - val_loss: 0.0371 - val_acc: 0.9890\n"
     ]
    },
    {
     "data": {
      "text/plain": [
       "<tensorflow.python.keras.callbacks.History at 0x1b792a70828>"
      ]
     },
     "execution_count": 27,
     "metadata": {},
     "output_type": "execute_result"
    }
   ],
   "source": [
    "model = get_model()\n",
    "model.fit_generator(batches,\n",
    "                    batches.n / bs,\n",
    "                    epochs=1,  # 1\n",
    "                    validation_data=test_batches,\n",
    "                    validation_steps=test_batches.n//bs)\n",
    "model.optimizer.lr = 2e-2\n",
    "model.fit_generator(batches,\n",
    "                    batches.n / bs,\n",
    "                    epochs=2,  # 4\n",
    "                    validation_data=test_batches,\n",
    "                    validation_steps=test_batches.n//bs)\n",
    "model.optimizer.lr = 2e-3\n",
    "model.fit_generator(batches,\n",
    "                    batches.n / bs,\n",
    "                    epochs=3,  # 12\n",
    "                    validation_data=test_batches,\n",
    "                    validation_steps=test_batches.n//bs)\n",
    "model.optimizer.lr = 3e-4\n",
    "model.fit_generator(batches,\n",
    "                    batches.n / bs,\n",
    "                    epochs=4,  # 18\n",
    "                    validation_data=test_batches,\n",
    "                    validation_steps=test_batches.n//bs)"
   ]
  },
  {
   "cell_type": "markdown",
   "metadata": {
    "heading_collapsed": true,
    "hidden": true
   },
   "source": [
    "## on testing data (model from one of the ensemble model)"
   ]
  },
  {
   "cell_type": "code",
   "execution_count": 257,
   "metadata": {
    "ExecuteTime": {
     "end_time": "2019-10-26T12:40:14.774664Z",
     "start_time": "2019-10-26T12:40:14.770675Z"
    },
    "hidden": true
   },
   "outputs": [],
   "source": [
    "model = models[1]"
   ]
  },
  {
   "cell_type": "code",
   "execution_count": 258,
   "metadata": {
    "ExecuteTime": {
     "end_time": "2019-10-26T12:40:16.170995Z",
     "start_time": "2019-10-26T12:40:15.071667Z"
    },
    "hidden": true
   },
   "outputs": [
    {
     "name": "stdout",
     "output_type": "stream",
     "text": [
      "10000/10000 [==============================] - 1s 109us/sample - loss: 0.0168 - acc: 0.9944\n"
     ]
    },
    {
     "data": {
      "text/plain": [
       "0.9944"
      ]
     },
     "execution_count": 258,
     "metadata": {},
     "output_type": "execute_result"
    }
   ],
   "source": [
    "model.evaluate(x_test, y_test)[1]"
   ]
  },
  {
   "cell_type": "code",
   "execution_count": 259,
   "metadata": {
    "ExecuteTime": {
     "end_time": "2019-10-26T12:40:19.724594Z",
     "start_time": "2019-10-26T12:40:18.942925Z"
    },
    "hidden": true
   },
   "outputs": [],
   "source": [
    "p_labeling = model.predict_classes(x_test)"
   ]
  },
  {
   "cell_type": "code",
   "execution_count": 260,
   "metadata": {
    "ExecuteTime": {
     "end_time": "2019-10-26T12:40:19.775719Z",
     "start_time": "2019-10-26T12:40:19.772702Z"
    },
    "hidden": true
   },
   "outputs": [
    {
     "data": {
      "text/plain": [
       "array([7, 2, 1, ..., 4, 5, 6], dtype=int64)"
      ]
     },
     "execution_count": 260,
     "metadata": {},
     "output_type": "execute_result"
    }
   ],
   "source": [
    "p_labeling"
   ]
  },
  {
   "cell_type": "code",
   "execution_count": 261,
   "metadata": {
    "ExecuteTime": {
     "end_time": "2019-10-26T12:40:20.624764Z",
     "start_time": "2019-10-26T12:40:20.621735Z"
    },
    "hidden": true
   },
   "outputs": [],
   "source": [
    "p_labeling = onehot(p_labeling)"
   ]
  },
  {
   "cell_type": "code",
   "execution_count": 262,
   "metadata": {
    "ExecuteTime": {
     "end_time": "2019-10-26T12:40:20.896137Z",
     "start_time": "2019-10-26T12:40:20.861759Z"
    },
    "hidden": true
   },
   "outputs": [],
   "source": [
    "p_x_train = np.concatenate([x_train, x_test], axis=0)\n",
    "p_y_train = np.concatenate([y_train, p_labeling], axis=0)"
   ]
  },
  {
   "cell_type": "code",
   "execution_count": 263,
   "metadata": {
    "ExecuteTime": {
     "end_time": "2019-10-26T12:40:21.272903Z",
     "start_time": "2019-10-26T12:40:21.165728Z"
    },
    "hidden": true
   },
   "outputs": [],
   "source": [
    "gen = image.ImageDataGenerator()\n",
    "batches = gen.flow(p_x_train, p_y_train, batch_size=bs)\n",
    "test_batches = gen.flow(x_test, y_test, batch_size=bs)"
   ]
  },
  {
   "cell_type": "code",
   "execution_count": 264,
   "metadata": {
    "ExecuteTime": {
     "end_time": "2019-10-26T12:44:50.451959Z",
     "start_time": "2019-10-26T12:40:51.910628Z"
    },
    "hidden": true
   },
   "outputs": [
    {
     "name": "stdout",
     "output_type": "stream",
     "text": [
      "1094/1093 [==============================] - 60s 55ms/step - loss: 0.0224 - acc: 0.9930 - val_loss: 0.0260 - val_acc: 0.9927\n",
      "Epoch 1/3\n",
      "1094/1093 [==============================] - 60s 54ms/step - loss: 0.0134 - acc: 0.9956 - val_loss: 0.0180 - val_acc: 0.9944\n",
      "Epoch 2/3\n",
      "1094/1093 [==============================] - 59s 54ms/step - loss: 0.0101 - acc: 0.9968 - val_loss: 0.0177 - val_acc: 0.9946\n",
      "Epoch 3/3\n",
      "1094/1093 [==============================] - 59s 54ms/step - loss: 0.0086 - acc: 0.9975 - val_loss: 0.0188 - val_acc: 0.9948\n"
     ]
    },
    {
     "data": {
      "text/plain": [
       "<tensorflow.python.keras.callbacks.History at 0x27871fd0c88>"
      ]
     },
     "execution_count": 264,
     "metadata": {},
     "output_type": "execute_result"
    }
   ],
   "source": [
    "model.optimizer.lr = 3e-3\n",
    "model.fit_generator(batches,\n",
    "                    batches.n / bs,\n",
    "                    epochs=1,  \n",
    "                    validation_data=test_batches,\n",
    "                    validation_steps=test_batches.n//bs)\n",
    "\n",
    "model.optimizer.lr = 3e-4\n",
    "model.fit_generator(batches,\n",
    "                    batches.n / bs,\n",
    "                    epochs=3,  \n",
    "                    validation_data=test_batches,\n",
    "                    validation_steps=test_batches.n//bs)"
   ]
  },
  {
   "cell_type": "code",
   "execution_count": 265,
   "metadata": {
    "ExecuteTime": {
     "end_time": "2019-10-26T12:44:51.625864Z",
     "start_time": "2019-10-26T12:44:50.503461Z"
    },
    "hidden": true
   },
   "outputs": [
    {
     "name": "stdout",
     "output_type": "stream",
     "text": [
      "10000/10000 [==============================] - 1s 111us/sample - loss: 0.0188 - acc: 0.9948\n"
     ]
    },
    {
     "data": {
      "text/plain": [
       "0.9948"
      ]
     },
     "execution_count": 265,
     "metadata": {},
     "output_type": "execute_result"
    }
   ],
   "source": [
    "model.evaluate(x_test, y_test)[1]"
   ]
  },
  {
   "cell_type": "code",
   "execution_count": 266,
   "metadata": {
    "ExecuteTime": {
     "end_time": "2019-10-26T12:44:52.448775Z",
     "start_time": "2019-10-26T12:44:51.679857Z"
    },
    "hidden": true
   },
   "outputs": [],
   "source": [
    "p_labeling = model.predict_classes(x_test)\n",
    "p_labeling = onehot(p_labeling)\n",
    "p_x_train = np.concatenate([x_train, x_test], axis=0)\n",
    "p_y_train = np.concatenate([y_train, p_labeling], axis=0)"
   ]
  },
  {
   "cell_type": "code",
   "execution_count": 267,
   "metadata": {
    "ExecuteTime": {
     "end_time": "2019-10-26T12:44:52.620280Z",
     "start_time": "2019-10-26T12:44:52.512891Z"
    },
    "hidden": true
   },
   "outputs": [],
   "source": [
    "gen = image.ImageDataGenerator()\n",
    "batches = gen.flow(p_x_train, p_y_train, batch_size=bs)\n",
    "test_batches = gen.flow(x_test, y_test, batch_size=bs)"
   ]
  },
  {
   "cell_type": "code",
   "execution_count": 268,
   "metadata": {
    "ExecuteTime": {
     "end_time": "2019-10-26T12:48:52.117360Z",
     "start_time": "2019-10-26T12:44:52.667559Z"
    },
    "hidden": true
   },
   "outputs": [
    {
     "name": "stdout",
     "output_type": "stream",
     "text": [
      "1094/1093 [==============================] - 60s 55ms/step - loss: 0.0284 - acc: 0.9911 - val_loss: 0.0247 - val_acc: 0.9927\n",
      "Epoch 1/3\n",
      "1094/1093 [==============================] - 60s 55ms/step - loss: 0.0110 - acc: 0.9968 - val_loss: 0.0183 - val_acc: 0.9951\n",
      "Epoch 2/3\n",
      "1094/1093 [==============================] - 60s 55ms/step - loss: 0.0076 - acc: 0.9976 - val_loss: 0.0195 - val_acc: 0.9948\n",
      "Epoch 3/3\n",
      "1094/1093 [==============================] - 59s 54ms/step - loss: 0.0062 - acc: 0.9982 - val_loss: 0.0193 - val_acc: 0.9949\n"
     ]
    },
    {
     "data": {
      "text/plain": [
       "<tensorflow.python.keras.callbacks.History at 0x27871fec978>"
      ]
     },
     "execution_count": 268,
     "metadata": {},
     "output_type": "execute_result"
    }
   ],
   "source": [
    "model.optimizer.lr = 3e-3\n",
    "model.fit_generator(batches,\n",
    "                    batches.n / bs,\n",
    "                    epochs=1,  \n",
    "                    validation_data=test_batches,\n",
    "                    validation_steps=test_batches.n)\n",
    "\n",
    "model.optimizer.lr = 3e-4\n",
    "model.fit_generator(batches,\n",
    "                    batches.n / bs,\n",
    "                    epochs=3,  \n",
    "                    validation_data=test_batches,\n",
    "                    validation_steps=test_batches.n)"
   ]
  },
  {
   "cell_type": "code",
   "execution_count": 269,
   "metadata": {
    "ExecuteTime": {
     "end_time": "2019-10-26T12:48:53.282461Z",
     "start_time": "2019-10-26T12:48:52.173212Z"
    },
    "hidden": true
   },
   "outputs": [
    {
     "name": "stdout",
     "output_type": "stream",
     "text": [
      "10000/10000 [==============================] - 1s 110us/sample - loss: 0.0193 - acc: 0.9949\n"
     ]
    },
    {
     "data": {
      "text/plain": [
       "0.9949"
      ]
     },
     "execution_count": 269,
     "metadata": {},
     "output_type": "execute_result"
    }
   ],
   "source": [
    "model.evaluate(x_test, y_test)[1]"
   ]
  },
  {
   "cell_type": "markdown",
   "metadata": {
    "heading_collapsed": true
   },
   "source": [
    "# get layer"
   ]
  },
  {
   "cell_type": "code",
   "execution_count": 284,
   "metadata": {
    "ExecuteTime": {
     "end_time": "2019-10-27T09:45:52.152888Z",
     "start_time": "2019-10-27T09:45:52.060158Z"
    },
    "hidden": true
   },
   "outputs": [],
   "source": [
    "gen = image.ImageDataGenerator()\n",
    "batches = gen.flow(x_train, y_train, batch_size=bs)\n",
    "test_batches = gen.flow(x_test, y_test, batch_size=bs)"
   ]
  },
  {
   "cell_type": "code",
   "execution_count": 282,
   "metadata": {
    "ExecuteTime": {
     "end_time": "2019-10-27T09:45:01.633603Z",
     "start_time": "2019-10-27T09:45:01.628646Z"
    },
    "hidden": true
   },
   "outputs": [],
   "source": [
    "def get_model():\n",
    "    model = Sequential([\n",
    "        Lambda(norm_input, input_shape=(28,28, 1)),\n",
    "        Conv2D(32,3,1, activation='relu'),\n",
    "        BatchNormalization(),\n",
    "        Conv2D(32,3,1, activation='relu'),       \n",
    "        MaxPooling2D(),\n",
    "        BatchNormalization(),\n",
    "        Conv2D(64,3,1, activation='relu'),\n",
    "        BatchNormalization(),\n",
    "        Conv2D(64,3,1, activation='relu'),\n",
    "        MaxPooling2D(),\n",
    "        Flatten(),\n",
    "        BatchNormalization(),\n",
    "        Dense(512, activation='relu'),\n",
    "        BatchNormalization(),\n",
    "        Dense(10, activation='softmax')\n",
    "        ])\n",
    "    model.compile(Adam(), loss='categorical_crossentropy', metrics=['accuracy'])\n",
    "    return model"
   ]
  },
  {
   "cell_type": "code",
   "execution_count": 283,
   "metadata": {
    "ExecuteTime": {
     "end_time": "2019-10-27T09:45:14.043535Z",
     "start_time": "2019-10-27T09:45:13.588405Z"
    },
    "hidden": true
   },
   "outputs": [],
   "source": [
    "model = get_model()"
   ]
  },
  {
   "cell_type": "code",
   "execution_count": 293,
   "metadata": {
    "ExecuteTime": {
     "end_time": "2019-10-27T09:47:37.383848Z",
     "start_time": "2019-10-27T09:47:37.378847Z"
    },
    "hidden": true
   },
   "outputs": [
    {
     "data": {
      "text/plain": [
       "[1, 3, 6, 8]"
      ]
     },
     "execution_count": 293,
     "metadata": {},
     "output_type": "execute_result"
    }
   ],
   "source": [
    "conv_idx = [index for index,layer in enumerate(layers) if type(layer) is Convolution2D]\n",
    "conv_idx"
   ]
  },
  {
   "cell_type": "code",
   "execution_count": 294,
   "metadata": {
    "ExecuteTime": {
     "end_time": "2019-10-27T09:48:00.055058Z",
     "start_time": "2019-10-27T09:48:00.052098Z"
    },
    "hidden": true
   },
   "outputs": [],
   "source": [
    "last_conv_idx = conv_idx[-1]"
   ]
  },
  {
   "cell_type": "code",
   "execution_count": 295,
   "metadata": {
    "ExecuteTime": {
     "end_time": "2019-10-27T09:48:22.345052Z",
     "start_time": "2019-10-27T09:48:22.340097Z"
    },
    "hidden": true
   },
   "outputs": [
    {
     "data": {
      "text/plain": [
       "[<tensorflow.python.keras.layers.core.Lambda at 0x27872096e10>,\n",
       " <tensorflow.python.keras.layers.convolutional.Conv2D at 0x27872096c50>,\n",
       " <tensorflow.python.keras.layers.normalization.BatchNormalization at 0x2787209dfd0>,\n",
       " <tensorflow.python.keras.layers.convolutional.Conv2D at 0x2787209d9b0>,\n",
       " <tensorflow.python.keras.layers.pooling.MaxPooling2D at 0x27871bbfb70>,\n",
       " <tensorflow.python.keras.layers.normalization.BatchNormalization at 0x27871bbf748>,\n",
       " <tensorflow.python.keras.layers.convolutional.Conv2D at 0x27871bbf128>,\n",
       " <tensorflow.python.keras.layers.normalization.BatchNormalization at 0x27871b9e668>,\n",
       " <tensorflow.python.keras.layers.convolutional.Conv2D at 0x278720ab160>]"
      ]
     },
     "execution_count": 295,
     "metadata": {},
     "output_type": "execute_result"
    }
   ],
   "source": [
    "conv_layers = layers[:last_conv_idx+1];conv_layers"
   ]
  },
  {
   "cell_type": "code",
   "execution_count": 296,
   "metadata": {
    "ExecuteTime": {
     "end_time": "2019-10-27T09:48:52.314053Z",
     "start_time": "2019-10-27T09:48:52.202277Z"
    },
    "hidden": true
   },
   "outputs": [],
   "source": [
    " conv_model = Sequential(conv_layers)"
   ]
  },
  {
   "cell_type": "code",
   "execution_count": 297,
   "metadata": {
    "ExecuteTime": {
     "end_time": "2019-10-27T09:48:59.069082Z",
     "start_time": "2019-10-27T09:48:59.066065Z"
    },
    "hidden": true
   },
   "outputs": [],
   "source": [
    "fc_layers = layers[last_conv_idx+1:]"
   ]
  },
  {
   "cell_type": "code",
   "execution_count": null,
   "metadata": {
    "hidden": true
   },
   "outputs": [],
   "source": []
  },
  {
   "cell_type": "code",
   "execution_count": null,
   "metadata": {
    "hidden": true
   },
   "outputs": [],
   "source": []
  },
  {
   "cell_type": "markdown",
   "metadata": {},
   "source": [
    "# old"
   ]
  },
  {
   "cell_type": "code",
   "execution_count": 94,
   "metadata": {
    "ExecuteTime": {
     "end_time": "2019-07-22T13:39:47.521284Z",
     "start_time": "2019-07-22T13:39:47.515828Z"
    }
   },
   "outputs": [
    {
     "data": {
      "text/plain": [
       "([4, 8, 16, 32], array([1, 2, 3, 4]))"
      ]
     },
     "execution_count": 94,
     "metadata": {},
     "output_type": "execute_result"
    }
   ],
   "source": [
    "names = np.array([1, 2, 3, 4])\n",
    "filters = [4, 8, 16, 32]\n",
    "filters, names"
   ]
  },
  {
   "cell_type": "code",
   "execution_count": 104,
   "metadata": {
    "ExecuteTime": {
     "end_time": "2019-07-22T13:46:43.738925Z",
     "start_time": "2019-07-22T13:46:43.731981Z"
    }
   },
   "outputs": [],
   "source": [
    "def conv(inputs, f, kz, name, freeze=False):\n",
    "    C = Conv2D(f,\n",
    "               kz,\n",
    "               padding='same',\n",
    "               name=f'conv2d_{name}',\n",
    "               trainable=not freeze)(inputs)\n",
    "    C = BatchNormalization(name=f'batch_normalization_{name}')(C)\n",
    "    C = Activation('relu', name=f'activate_{name}')(C)\n",
    "    C = concatenate([inputs, C], name=f'concat_{name}')\n",
    "    return C\n",
    "\n",
    "\n",
    "def denseblock(C, f, kz, name, freeze=False):\n",
    "    for i in range(len(f)):\n",
    "        C = conv(C, f[i], kz[i], name[i], freeze)\n",
    "        if i % 3 == 0:\n",
    "            C1x1 = Conv2D(f[3],\n",
    "                          1,\n",
    "                          padding='same',\n",
    "                          name=f'conv2d_1x1_{name[3]}',\n",
    "                          trainable=not freeze)(C)\n",
    "            C1x1 = BatchNormalization(\n",
    "                name=f'batch_normalization_1x1_{name[3]}')(C1x1)\n",
    "            C1x1 = Activation('tanh', name=f'activate_1x1_{name[3]}')(C1x1)\n",
    "    return C1x1"
   ]
  },
  {
   "cell_type": "code",
   "execution_count": 112,
   "metadata": {
    "ExecuteTime": {
     "end_time": "2019-07-22T13:50:48.795973Z",
     "start_time": "2019-07-22T13:50:45.573370Z"
    }
   },
   "outputs": [],
   "source": [
    "inputs = Input(shape=(28, 28, 1), name='input')\n",
    "\n",
    "C = denseblock(inputs, f=filters, kz=[3, 3, 3, 3], name=names, freeze=False)\n",
    "for idx in range(2):\n",
    "    C = denseblock(C,\n",
    "                   f=filters,\n",
    "                   kz=[3, 3, 3, 3],\n",
    "                   name=names + 4 * (idx + 1),\n",
    "                   freeze=False)\n",
    "C = MaxPool2D(strides=2)(C)\n",
    "\n",
    "for idx in range(2):\n",
    "    C = denseblock(C,\n",
    "                   f=filters,\n",
    "                   kz=[3, 3, 3, 3],\n",
    "                   name=names + 4 * (idx + 1) + 8,\n",
    "                   freeze=False)\n",
    "C = MaxPool2D(strides=2)(C)\n",
    "\n",
    "for idx in range(2):\n",
    "    C = denseblock(C,\n",
    "                   f=filters,\n",
    "                   kz=[3, 3, 3, 3],\n",
    "                   name=names + 4 * (idx + 1) + 16,\n",
    "                   freeze=False)\n",
    "C = GlobalAveragePooling2D(name='G_ave_pol')(C)\n",
    "\n",
    "Output = Dense(10, activation='softmax', name='output')(C)\n",
    "\n",
    "model = Model(inputs=inputs, outputs=Output)"
   ]
  },
  {
   "cell_type": "code",
   "execution_count": null,
   "metadata": {
    "ExecuteTime": {
     "end_time": "2019-07-22T13:50:48.857385Z",
     "start_time": "2019-07-22T13:50:48.843992Z"
    }
   },
   "outputs": [],
   "source": [
    "model.summary()"
   ]
  },
  {
   "cell_type": "code",
   "execution_count": 114,
   "metadata": {
    "ExecuteTime": {
     "end_time": "2019-07-22T13:50:48.955095Z",
     "start_time": "2019-07-22T13:50:48.906489Z"
    }
   },
   "outputs": [],
   "source": [
    "model.compile(optimizer='adam', loss='categorical_crossentropy', metrics=['accuracy'])"
   ]
  },
  {
   "cell_type": "code",
   "execution_count": null,
   "metadata": {
    "ExecuteTime": {
     "end_time": "2019-07-22T13:52:45.525857Z",
     "start_time": "2019-07-22T13:51:06.412199Z"
    }
   },
   "outputs": [],
   "source": [
    "%%time\n",
    "history = model.fit(x = x_train, y = y_train, batch_size = 512, epochs=30, verbose=1, validation_data=(x_test, y_test), shuffle=True,)"
   ]
  },
  {
   "cell_type": "code",
   "execution_count": 132,
   "metadata": {},
   "outputs": [],
   "source": [
    "model.save('mnist_model.h5')"
   ]
  },
  {
   "cell_type": "code",
   "execution_count": 121,
   "metadata": {
    "ExecuteTime": {
     "end_time": "2019-07-22T14:31:23.670142Z",
     "start_time": "2019-07-22T14:31:20.571102Z"
    }
   },
   "outputs": [
    {
     "name": "stdout",
     "output_type": "stream",
     "text": [
      "12000/12000 [==============================] - 3s 258us/step\n",
      "Accuracy of development set: 83.6750\n",
      "Loss of development set: 50.9163 \n"
     ]
    }
   ],
   "source": [
    "'''result = model.evaluate(x_train, y_train)\n",
    "print ('Accuracy of training Set: ',result[1])\n",
    "print ('Loss of training set:', result[0])\n",
    "print ()'''\n",
    "\n",
    "result = model.evaluate(x_dev, y_dev)\n",
    "print('Accuracy of development set: %.4f' % (result[1] * 100))\n",
    "print('Loss of development set: %.4f ' % (result[0] * 100))"
   ]
  },
  {
   "cell_type": "code",
   "execution_count": 131,
   "metadata": {
    "ExecuteTime": {
     "end_time": "2019-07-22T14:35:50.062475Z",
     "start_time": "2019-07-22T14:35:47.010554Z"
    }
   },
   "outputs": [
    {
     "name": "stdout",
     "output_type": "stream",
     "text": [
      "12000/12000 [==============================] - 3s 254us/step\n",
      "Accuracy of development set: 0.837\n"
     ]
    }
   ],
   "source": [
    "result = model.evaluate(x_dev, y_dev)\n",
    "print(f'Accuracy of development set: {result[1]:.3f}')"
   ]
  },
  {
   "cell_type": "code",
   "execution_count": 14,
   "metadata": {
    "ExecuteTime": {
     "end_time": "2019-04-04T03:09:03.989403Z",
     "start_time": "2019-04-04T03:09:03.826865Z"
    }
   },
   "outputs": [
    {
     "data": {
      "image/png": "[encoded data removed]",
      "text/plain": [
       "<Figure size 432x288 with 1 Axes>"
      ]
     },
     "metadata": {
      "needs_background": "light"
     },
     "output_type": "display_data"
    }
   ],
   "source": [
    "plt.plot( history.history['val_loss'], color = 'blue', label = 'dev_loss')\n",
    "plt.plot( history.history['loss'], color = 'red', label = 'training_loss')\n",
    "plt.legend( loc=\"upper right\")\n",
    "plt.ylabel('loss')\n",
    "plt.xlabel('Epoch')\n",
    "plt.savefig('loss.png')\n",
    "plt.show()"
   ]
  },
  {
   "cell_type": "code",
   "execution_count": 15,
   "metadata": {
    "ExecuteTime": {
     "end_time": "2019-04-04T03:09:07.587791Z",
     "start_time": "2019-04-04T03:09:07.403247Z"
    }
   },
   "outputs": [
    {
     "data": {
      "image/png": "[encoded data removed]",
      "text/plain": [
       "<Figure size 432x288 with 1 Axes>"
      ]
     },
     "metadata": {
      "needs_background": "light"
     },
     "output_type": "display_data"
    }
   ],
   "source": [
    "plt.plot( history.history['val_acc'], color = 'blue', label = 'dev_acc')\n",
    "plt.plot( history.history['acc'], color = 'red', label = 'training_acc')\n",
    "plt.legend(loc=\"lower right\")\n",
    "plt.xlabel('Epoch')\n",
    "plt.ylabel('accuracy')\n",
    "plt.savefig('accuracy.png')\n",
    "plt.show()"
   ]
  },
  {
   "cell_type": "markdown",
   "metadata": {},
   "source": [
    "y = model.predict(x=x_test)"
   ]
  },
  {
   "cell_type": "code",
   "execution_count": 16,
   "metadata": {
    "ExecuteTime": {
     "end_time": "2019-04-04T03:09:12.410379Z",
     "start_time": "2019-04-04T03:09:11.896751Z"
    }
   },
   "outputs": [
    {
     "name": "stdout",
     "output_type": "stream",
     "text": [
      "10000/10000 [==============================] - 1s 51us/step\n",
      "Accuracy of testing Set: 0.989\n",
      "Loss of testing set: 0.04401880082167731\n",
      "\n"
     ]
    }
   ],
   "source": [
    "result = model.evaluate(x_test, y_test)\n",
    "print ('Accuracy of testing Set:',result[1])\n",
    "print ('Loss of testing set:', result[0])\n",
    "print ()"
   ]
  },
  {
   "cell_type": "code",
   "execution_count": null,
   "metadata": {},
   "outputs": [],
   "source": []
  },
  {
   "cell_type": "code",
   "execution_count": null,
   "metadata": {},
   "outputs": [],
   "source": []
  },
  {
   "cell_type": "code",
   "execution_count": null,
   "metadata": {},
   "outputs": [],
   "source": []
  },
  {
   "cell_type": "code",
   "execution_count": null,
   "metadata": {},
   "outputs": [],
   "source": []
  }
 ],
 "metadata": {
  "kernelspec": {
   "display_name": "Python 3",
   "language": "python",
   "name": "python3"
  },
  "language_info": {
   "codemirror_mode": {
    "name": "ipython",
    "version": 3
   },
   "file_extension": ".py",
   "mimetype": "text/x-python",
   "name": "python",
   "nbconvert_exporter": "python",
   "pygments_lexer": "ipython3",
   "version": "3.7.6"
  },
  "toc": {
   "base_numbering": 1,
   "nav_menu": {},
   "number_sections": true,
   "sideBar": true,
   "skip_h1_title": false,
   "title_cell": "Table of Contents",
   "title_sidebar": "Contents",
   "toc_cell": false,
   "toc_position": {},
   "toc_section_display": true,
   "toc_window_display": false
  },
  "varInspector": {
   "cols": {
    "lenName": 16,
    "lenType": 16,
    "lenVar": 40
   },
   "kernels_config": {
    "python": {
     "delete_cmd_postfix": "",
     "delete_cmd_prefix": "del ",
     "library": "var_list.py",
     "varRefreshCmd": "print(var_dic_list())"
    },
    "r": {
     "delete_cmd_postfix": ") ",
     "delete_cmd_prefix": "rm(",
     "library": "var_list.r",
     "varRefreshCmd": "cat(var_dic_list()) "
    }
   },
   "types_to_exclude": [
    "module",
    "function",
    "builtin_function_or_method",
    "instance",
    "_Feature"
   ],
   "window_display": false
  }
 },
 "nbformat": 4,
 "nbformat_minor": 2
}
