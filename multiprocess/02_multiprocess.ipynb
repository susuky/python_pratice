{
 "cells": [
  {
   "cell_type": "markdown",
   "metadata": {},
   "source": [
    "examples from https://morvanzhou.github.io/"
   ]
  },
  {
   "cell_type": "markdown",
   "metadata": {
    "ExecuteTime": {
     "end_time": "2020-04-14T14:21:13.361351Z",
     "start_time": "2020-04-14T14:21:13.358365Z"
    }
   },
   "source": [
    "should use coldfoding to read"
   ]
  },
  {
   "cell_type": "markdown",
   "metadata": {},
   "source": [
    "In windows, you need to define your job(worker) in a separate .py file and import it. \n",
    "Or add task into temporary file, then import it."
   ]
  },
  {
   "cell_type": "code",
   "execution_count": 38,
   "metadata": {
    "ExecuteTime": {
     "end_time": "2020-04-15T03:24:37.749808Z",
     "start_time": "2020-04-15T03:24:37.684877Z"
    }
   },
   "outputs": [],
   "source": [
    "%reload_ext autoreload\n",
    "%autoreload 2"
   ]
  },
  {
   "cell_type": "markdown",
   "metadata": {},
   "source": [
    "# threading"
   ]
  },
  {
   "cell_type": "markdown",
   "metadata": {},
   "source": [
    "# multiprocess"
   ]
  },
  {
   "cell_type": "code",
   "execution_count": 1,
   "metadata": {
    "ExecuteTime": {
     "end_time": "2020-04-15T02:58:01.187926Z",
     "start_time": "2020-04-15T02:58:01.123048Z"
    }
   },
   "outputs": [],
   "source": [
    "import threading as td\n",
    "import multiprocessing as mp\n",
    "import inspect\n",
    "\n",
    "\n",
    "def job(a, d):\n",
    "    print('aaaaa')\n",
    "\n",
    "if __name__ == '__main__':\n",
    "    # t1 = td.Thread(target=job, args=(1, 2))\n",
    "    p1 = mp.Process(target=job, args=(1, 2))\n",
    "\n",
    "    # t1.start()\n",
    "    p1.start()\n",
    "\n",
    "    # t1.join()\n",
    "    p1.join()"
   ]
  },
  {
   "cell_type": "markdown",
   "metadata": {},
   "source": [
    "## Queue"
   ]
  },
  {
   "cell_type": "code",
   "execution_count": 3,
   "metadata": {
    "ExecuteTime": {
     "end_time": "2020-04-15T02:58:01.244760Z",
     "start_time": "2020-04-15T02:58:01.216820Z"
    }
   },
   "outputs": [
    {
     "name": "stdout",
     "output_type": "stream",
     "text": [
      "Overwriting tmp_task.py\n"
     ]
    }
   ],
   "source": [
    "%%writefile tmp_task.py\n",
    "def job(q):\n",
    "    res = 0\n",
    "    for i in range(1000):\n",
    "        res += i+i**2+i**3\n",
    "    q.put(res)  # queue"
   ]
  },
  {
   "cell_type": "code",
   "execution_count": 4,
   "metadata": {
    "ExecuteTime": {
     "end_time": "2020-04-15T02:58:01.388349Z",
     "start_time": "2020-04-15T02:58:01.245730Z"
    }
   },
   "outputs": [
    {
     "name": "stdout",
     "output_type": "stream",
     "text": [
      "499667166000\n"
     ]
    }
   ],
   "source": [
    "import multiprocessing as mp\n",
    "from tmp_task import job\n",
    "\n",
    "\n",
    "q = mp.Queue()\n",
    "\n",
    "p1 = mp.Process(target=job, args=(q,))\n",
    "p2 = mp.Process(target=job, args=(q,))\n",
    "\n",
    "p1.start()\n",
    "p2.start()\n",
    "\n",
    "p1.join()\n",
    "p2.join()\n",
    "\n",
    "res1 = q.get()\n",
    "res2 = q.get()\n",
    "\n",
    "print(res1+res2)"
   ]
  },
  {
   "cell_type": "markdown",
   "metadata": {
    "heading_collapsed": true
   },
   "source": [
    "## effectiveness"
   ]
  },
  {
   "cell_type": "code",
   "execution_count": 19,
   "metadata": {
    "ExecuteTime": {
     "end_time": "2020-04-15T03:06:23.167116Z",
     "start_time": "2020-04-15T03:06:23.135168Z"
    },
    "hidden": true
   },
   "outputs": [
    {
     "name": "stdout",
     "output_type": "stream",
     "text": [
      "Overwriting tmp_task.py\n"
     ]
    }
   ],
   "source": [
    "%%writefile tmp_task.py\n",
    "# auto create from jupyter\n",
    "def job(q):\n",
    "    res = 0\n",
    "    for i in range(1000000):\n",
    "        res += i+i**2+i**3\n",
    "    q.put(res)  # queue"
   ]
  },
  {
   "cell_type": "code",
   "execution_count": 11,
   "metadata": {
    "ExecuteTime": {
     "end_time": "2020-04-15T03:03:23.361995Z",
     "start_time": "2020-04-15T03:03:23.333071Z"
    },
    "hidden": true
   },
   "outputs": [],
   "source": [
    "import multiprocessing as mp\n",
    "import time\n",
    "import threading as td\n",
    "\n",
    "from tmp_task import job"
   ]
  },
  {
   "cell_type": "code",
   "execution_count": 16,
   "metadata": {
    "ExecuteTime": {
     "end_time": "2020-04-15T03:05:26.351349Z",
     "start_time": "2020-04-15T03:05:26.315445Z"
    },
    "code_folding": [
     0,
     15,
     30
    ],
    "hidden": true
   },
   "outputs": [],
   "source": [
    "def multicore():\n",
    "    q = mp.Queue()\n",
    "    cores = 5\n",
    "    processes = [mp.Process(target=job, args=(q, )) for i in range(cores)]\n",
    "\n",
    "    for i in range(cores):\n",
    "        processes[i].start()\n",
    "\n",
    "    for i in range(cores):\n",
    "        processes[i].join()\n",
    "\n",
    "    res = sum([q.get() for i in range(cores)])\n",
    "    print(res)\n",
    "\n",
    "\n",
    "def multithread():\n",
    "    q = mp.Queue()  # thread一樣可以放進這\n",
    "    num_threads = 5\n",
    "    threads = [td.Thread(target=job, args=(q, )) for i in range(num_threads)]\n",
    "\n",
    "    for i in range(num_threads):\n",
    "        threads[i].start()\n",
    "\n",
    "    for i in range(num_threads):\n",
    "        threads[i].join()\n",
    "\n",
    "    res = sum([q.get() for i in range(num_threads)])\n",
    "    print(res)\n",
    "\n",
    "\n",
    "def normal():\n",
    "    res = 0\n",
    "    for _ in range(5):\n",
    "        for i in range(1000000):\n",
    "            res += i + i**2 + i**3\n",
    "    print(res)"
   ]
  },
  {
   "cell_type": "code",
   "execution_count": 18,
   "metadata": {
    "ExecuteTime": {
     "end_time": "2020-04-15T03:05:48.353960Z",
     "start_time": "2020-04-15T03:05:42.084105Z"
    },
    "hidden": true
   },
   "outputs": [
    {
     "name": "stdout",
     "output_type": "stream",
     "text": [
      "1249999166667916665000000\n",
      "normal time: 2.7308\n",
      "\n",
      "1249999166667916665000000\n",
      "multithread time: 2.8324\n",
      "\n",
      "1249999166667916665000000\n",
      "multicore time: 0.6748\n",
      "\n"
     ]
    }
   ],
   "source": [
    "st = time.time()\n",
    "\n",
    "normal()\n",
    "st1 = time.time()\n",
    "print(f'normal time: {st1 - st:.4f}\\n')\n",
    "\n",
    "multithread()\n",
    "st2 = time.time()\n",
    "print(f'multithread time: {st2 - st1:.4f}\\n')\n",
    "\n",
    "multicore()\n",
    "print(f'multicore time: {time.time() - st2:.4f}\\n')"
   ]
  },
  {
   "cell_type": "markdown",
   "metadata": {},
   "source": [
    "## pool"
   ]
  },
  {
   "cell_type": "code",
   "execution_count": 23,
   "metadata": {
    "ExecuteTime": {
     "end_time": "2020-04-15T03:14:38.390099Z",
     "start_time": "2020-04-15T03:14:38.358208Z"
    }
   },
   "outputs": [
    {
     "name": "stdout",
     "output_type": "stream",
     "text": [
      "Overwriting tmp_task.py\n"
     ]
    }
   ],
   "source": [
    "%%writefile tmp_task.py\n",
    "\n",
    "# auto create from jupyter\n",
    "def job(x):\n",
    "    return x ** 2 "
   ]
  },
  {
   "cell_type": "code",
   "execution_count": 24,
   "metadata": {
    "ExecuteTime": {
     "end_time": "2020-04-15T03:14:38.799296Z",
     "start_time": "2020-04-15T03:14:38.768344Z"
    }
   },
   "outputs": [],
   "source": [
    "import multiprocessing as mp\n",
    "\n",
    "from tmp_task import job"
   ]
  },
  {
   "cell_type": "code",
   "execution_count": 37,
   "metadata": {
    "ExecuteTime": {
     "end_time": "2020-04-15T03:22:13.710098Z",
     "start_time": "2020-04-15T03:22:13.580446Z"
    }
   },
   "outputs": [
    {
     "name": "stdout",
     "output_type": "stream",
     "text": [
      "[0, 1, 4, 9, 16, 25, 36, 49, 64, 81]\n",
      "4\n",
      "[0, 1, 4, 9, 16, 25, 36, 49, 64, 81]\n"
     ]
    }
   ],
   "source": [
    "def multicore():\n",
    "    pool = mp.Pool(processes=10)  # use 10 cores\n",
    "    \n",
    "    # map\n",
    "    res = pool.map(job, range(10))\n",
    "    print(res)\n",
    "    \n",
    "    # apply one stuff\n",
    "    res = pool.apply_async(job, (2, ))\n",
    "    print(res.get())\n",
    "    \n",
    "    multi_res = [pool.apply_async(job, (i, )) for i in range(10)]\n",
    "    print([multi_res[i].get() for i in range(10)])\n",
    "multicore()"
   ]
  },
  {
   "cell_type": "code",
   "execution_count": null,
   "metadata": {},
   "outputs": [],
   "source": []
  }
 ],
 "metadata": {
  "kernelspec": {
   "display_name": "Python 3",
   "language": "python",
   "name": "python3"
  },
  "language_info": {
   "codemirror_mode": {
    "name": "ipython",
    "version": 3
   },
   "file_extension": ".py",
   "mimetype": "text/x-python",
   "name": "python",
   "nbconvert_exporter": "python",
   "pygments_lexer": "ipython3",
   "version": "3.7.6"
  },
  "toc": {
   "base_numbering": 1,
   "nav_menu": {},
   "number_sections": true,
   "sideBar": true,
   "skip_h1_title": false,
   "title_cell": "Table of Contents",
   "title_sidebar": "Contents",
   "toc_cell": false,
   "toc_position": {},
   "toc_section_display": true,
   "toc_window_display": false
  },
  "varInspector": {
   "cols": {
    "lenName": 16,
    "lenType": 16,
    "lenVar": 40
   },
   "kernels_config": {
    "python": {
     "delete_cmd_postfix": "",
     "delete_cmd_prefix": "del ",
     "library": "var_list.py",
     "varRefreshCmd": "print(var_dic_list())"
    },
    "r": {
     "delete_cmd_postfix": ") ",
     "delete_cmd_prefix": "rm(",
     "library": "var_list.r",
     "varRefreshCmd": "cat(var_dic_list()) "
    }
   },
   "types_to_exclude": [
    "module",
    "function",
    "builtin_function_or_method",
    "instance",
    "_Feature"
   ],
   "window_display": false
  }
 },
 "nbformat": 4,
 "nbformat_minor": 4
}
