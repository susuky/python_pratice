{
 "cells": [
  {
   "cell_type": "markdown",
   "metadata": {},
   "source": [
    "examples from https://morvanzhou.github.io/"
   ]
  },
  {
   "cell_type": "markdown",
   "metadata": {
    "ExecuteTime": {
     "end_time": "2020-04-14T14:21:13.361351Z",
     "start_time": "2020-04-14T14:21:13.358365Z"
    }
   },
   "source": [
    "should use coldfoding to read"
   ]
  },
  {
   "cell_type": "markdown",
   "metadata": {},
   "source": [
    "In windows, you need to define your job(worker) in a separate .py file and import it. \n",
    "Or add task into temporary file, then import it."
   ]
  },
  {
   "cell_type": "markdown",
   "metadata": {},
   "source": [
    "# threading"
   ]
  },
  {
   "cell_type": "markdown",
   "metadata": {},
   "source": [
    "# multiprocess"
   ]
  },
  {
   "cell_type": "code",
   "execution_count": 1,
   "metadata": {
    "ExecuteTime": {
     "end_time": "2020-04-15T02:58:01.187926Z",
     "start_time": "2020-04-15T02:58:01.123048Z"
    }
   },
   "outputs": [],
   "source": [
    "import threading as td\n",
    "import multiprocessing as mp\n",
    "import inspect\n",
    "\n",
    "\n",
    "def job(a, d):\n",
    "    print('aaaaa')\n",
    "\n",
    "if __name__ == '__main__':\n",
    "    # t1 = td.Thread(target=job, args=(1, 2))\n",
    "    p1 = mp.Process(target=job, args=(1, 2))\n",
    "\n",
    "    # t1.start()\n",
    "    p1.start()\n",
    "\n",
    "    # t1.join()\n",
    "    p1.join()"
   ]
  },
  {
   "cell_type": "markdown",
   "metadata": {},
   "source": [
    "## Queue"
   ]
  },
  {
   "cell_type": "code",
   "execution_count": 2,
   "metadata": {
    "ExecuteTime": {
     "end_time": "2020-04-15T02:58:01.216820Z",
     "start_time": "2020-04-15T02:58:01.188872Z"
    }
   },
   "outputs": [],
   "source": [
    "%reload_ext autoreload\n",
    "%autoreload 2"
   ]
  },
  {
   "cell_type": "code",
   "execution_count": 3,
   "metadata": {
    "ExecuteTime": {
     "end_time": "2020-04-15T02:58:01.244760Z",
     "start_time": "2020-04-15T02:58:01.216820Z"
    }
   },
   "outputs": [
    {
     "name": "stdout",
     "output_type": "stream",
     "text": [
      "Overwriting tmp_task.py\n"
     ]
    }
   ],
   "source": [
    "%%writefile tmp_task.py\n",
    "def job(q):\n",
    "    res = 0\n",
    "    for i in range(1000):\n",
    "        res += i+i**2+i**3\n",
    "    q.put(res)  # queue"
   ]
  },
  {
   "cell_type": "code",
   "execution_count": 4,
   "metadata": {
    "ExecuteTime": {
     "end_time": "2020-04-15T02:58:01.388349Z",
     "start_time": "2020-04-15T02:58:01.245730Z"
    }
   },
   "outputs": [
    {
     "name": "stdout",
     "output_type": "stream",
     "text": [
      "499667166000\n"
     ]
    }
   ],
   "source": [
    "import multiprocessing as mp\n",
    "from tmp_task import job\n",
    "\n",
    "\n",
    "q = mp.Queue()\n",
    "\n",
    "p1 = mp.Process(target=job, args=(q,))\n",
    "p2 = mp.Process(target=job, args=(q,))\n",
    "\n",
    "p1.start()\n",
    "p2.start()\n",
    "\n",
    "p1.join()\n",
    "p2.join()\n",
    "\n",
    "res1 = q.get()\n",
    "res2 = q.get()\n",
    "\n",
    "print(res1+res2)"
   ]
  },
  {
   "cell_type": "markdown",
   "metadata": {},
   "source": [
    "## effectiveness"
   ]
  },
  {
   "cell_type": "code",
   "execution_count": 5,
   "metadata": {
    "ExecuteTime": {
     "end_time": "2020-04-15T02:58:01.416303Z",
     "start_time": "2020-04-15T02:58:01.388349Z"
    }
   },
   "outputs": [
    {
     "name": "stdout",
     "output_type": "stream",
     "text": [
      "Overwriting tmp_task.py\n"
     ]
    }
   ],
   "source": [
    "%%writefile tmp_task.py\n",
    "def job(q):\n",
    "    res = 0\n",
    "    for i in range(1000):\n",
    "        res += i+i**2+i**3\n",
    "    q.put(res)  # queue"
   ]
  },
  {
   "cell_type": "code",
   "execution_count": 6,
   "metadata": {
    "ExecuteTime": {
     "end_time": "2020-04-15T02:58:01.443810Z",
     "start_time": "2020-04-15T02:58:01.417271Z"
    }
   },
   "outputs": [],
   "source": [
    "import multiprocessing as mp\n",
    "import time\n",
    "import threading as td\n",
    "\n",
    "from tmp_task import job"
   ]
  },
  {
   "cell_type": "code",
   "execution_count": 7,
   "metadata": {
    "ExecuteTime": {
     "end_time": "2020-04-15T02:58:01.474728Z",
     "start_time": "2020-04-15T02:58:01.444830Z"
    }
   },
   "outputs": [],
   "source": [
    "def multicore():\n",
    "    q = mp.Queue()\n",
    "    cores = 5\n",
    "    processes =  [mp.Process(target=job, args=(q, )) for i in range(cores)]\n",
    "    \n",
    "    for i in range(cores):\n",
    "        processes[i].start()\n",
    "    \n",
    "    for i in range(cores):\n",
    "        processes[i].join()\n",
    "        \n",
    "    res = sum([q.get() for i in range(cores)])\n",
    "    print(res)\n",
    "\n",
    "def multithread():\n",
    "    q = mp.Queue()  # thread一樣可以放進這\n",
    "    num_threads = 5\n",
    "    threadings = [td.Thread(target=job, args=(q, )) for i in range(num_threads)]\n",
    "\n",
    "    for i in range(num_threads):\n",
    "        threadings[i].start()\n",
    "        \n",
    "    for i in range(num_threads):\n",
    "        threadings[i].join()\n",
    "\n",
    "    res = sum([q.get() for i in range(num_threads)])\n",
    "    print(res)\n",
    "\n",
    "\n",
    "def normal():\n",
    "    res = 0\n",
    "    for _ in range(5):\n",
    "        for i in range(1000000):\n",
    "            res += i + i**2 + i**3\n",
    "    print(res)"
   ]
  },
  {
   "cell_type": "code",
   "execution_count": 9,
   "metadata": {
    "ExecuteTime": {
     "end_time": "2020-04-15T02:58:31.066562Z",
     "start_time": "2020-04-15T02:58:28.190442Z"
    }
   },
   "outputs": [
    {
     "name": "stdout",
     "output_type": "stream",
     "text": [
      "1249999166667916665000000\n",
      "normal time: 2.7475\n",
      "\n",
      "1249167915000\n",
      "multithread time: 0.003983\n",
      "\n",
      "1249167915000\n",
      "multicore time: 0.094730\n",
      "\n"
     ]
    }
   ],
   "source": [
    "# multithread should be the slowest\n",
    "# but I don't know why multithread much faster than others\n",
    "st = time.time()\n",
    "\n",
    "normal()\n",
    "st1 = time.time()\n",
    "print(f'normal time: {st1 - st:.4f}\\n')\n",
    "\n",
    "multithread()\n",
    "st2 = time.time()\n",
    "print(f'multithread time: {st2 - st1:.6f}\\n')\n",
    "\n",
    "multicore()\n",
    "print(f'multicore time: {time.time() - st2:.6f}\\n')"
   ]
  },
  {
   "cell_type": "code",
   "execution_count": null,
   "metadata": {},
   "outputs": [],
   "source": []
  }
 ],
 "metadata": {
  "kernelspec": {
   "display_name": "Python 3",
   "language": "python",
   "name": "python3"
  },
  "language_info": {
   "codemirror_mode": {
    "name": "ipython",
    "version": 3
   },
   "file_extension": ".py",
   "mimetype": "text/x-python",
   "name": "python",
   "nbconvert_exporter": "python",
   "pygments_lexer": "ipython3",
   "version": "3.7.6"
  },
  "toc": {
   "base_numbering": 1,
   "nav_menu": {},
   "number_sections": true,
   "sideBar": true,
   "skip_h1_title": false,
   "title_cell": "Table of Contents",
   "title_sidebar": "Contents",
   "toc_cell": false,
   "toc_position": {},
   "toc_section_display": true,
   "toc_window_display": false
  },
  "varInspector": {
   "cols": {
    "lenName": 16,
    "lenType": 16,
    "lenVar": 40
   },
   "kernels_config": {
    "python": {
     "delete_cmd_postfix": "",
     "delete_cmd_prefix": "del ",
     "library": "var_list.py",
     "varRefreshCmd": "print(var_dic_list())"
    },
    "r": {
     "delete_cmd_postfix": ") ",
     "delete_cmd_prefix": "rm(",
     "library": "var_list.r",
     "varRefreshCmd": "cat(var_dic_list()) "
    }
   },
   "types_to_exclude": [
    "module",
    "function",
    "builtin_function_or_method",
    "instance",
    "_Feature"
   ],
   "window_display": false
  }
 },
 "nbformat": 4,
 "nbformat_minor": 4
}
