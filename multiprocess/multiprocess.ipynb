{
 "cells": [
  {
   "cell_type": "markdown",
   "metadata": {},
   "source": [
    "examples from https://morvanzhou.github.io/"
   ]
  },
  {
   "cell_type": "markdown",
   "metadata": {
    "ExecuteTime": {
     "end_time": "2020-04-14T14:21:13.361351Z",
     "start_time": "2020-04-14T14:21:13.358365Z"
    }
   },
   "source": [
    "should use coldfoding to read"
   ]
  },
  {
   "cell_type": "markdown",
   "metadata": {},
   "source": [
    "In windows, you need to define your job(worker) in a separate .py file and import it. \n",
    "Or add task into temporary file, then import it."
   ]
  },
  {
   "cell_type": "markdown",
   "metadata": {},
   "source": [
    "# threading"
   ]
  },
  {
   "cell_type": "markdown",
   "metadata": {},
   "source": [
    "# multiprocess"
   ]
  },
  {
   "cell_type": "code",
   "execution_count": 2,
   "metadata": {
    "ExecuteTime": {
     "end_time": "2020-04-14T17:28:29.359034Z",
     "start_time": "2020-04-14T17:28:29.296442Z"
    }
   },
   "outputs": [],
   "source": [
    "import threading as td\n",
    "import multiprocessing as mp\n",
    "import inspect\n",
    "\n",
    "\n",
    "def job(a, d):\n",
    "    print('aaaaa')\n",
    "\n",
    "if __name__ == '__main__':\n",
    "    # t1 = td.Thread(target=job, args=(1, 2))\n",
    "    p1 = mp.Process(target=job, args=(1, 2))\n",
    "\n",
    "    # t1.start()\n",
    "    p1.start()\n",
    "\n",
    "    # t1.join()\n",
    "    p1.join()"
   ]
  },
  {
   "cell_type": "markdown",
   "metadata": {},
   "source": [
    "## Queue"
   ]
  },
  {
   "cell_type": "code",
   "execution_count": 10,
   "metadata": {
    "ExecuteTime": {
     "end_time": "2020-04-14T17:39:16.195811Z",
     "start_time": "2020-04-14T17:39:16.159538Z"
    }
   },
   "outputs": [],
   "source": [
    "%reload_ext autoreload\n",
    "%autoreload 2"
   ]
  },
  {
   "cell_type": "code",
   "execution_count": 20,
   "metadata": {
    "ExecuteTime": {
     "end_time": "2020-04-14T17:54:37.273460Z",
     "start_time": "2020-04-14T17:54:37.237583Z"
    }
   },
   "outputs": [
    {
     "name": "stdout",
     "output_type": "stream",
     "text": [
      "Overwriting tasks.py\n"
     ]
    }
   ],
   "source": [
    "%%writefile tasks.py\n",
    "def job(q):\n",
    "    res = 0\n",
    "    for i in range(1000):\n",
    "        res += i+i**2+i**3\n",
    "    q.put(res)  # queue"
   ]
  },
  {
   "cell_type": "code",
   "execution_count": 21,
   "metadata": {
    "ExecuteTime": {
     "end_time": "2020-04-14T17:54:40.238521Z",
     "start_time": "2020-04-14T17:54:40.125812Z"
    }
   },
   "outputs": [
    {
     "name": "stdout",
     "output_type": "stream",
     "text": [
      "499667166000\n"
     ]
    }
   ],
   "source": [
    "import multiprocessing as mp\n",
    "from tasks import job\n",
    "\n",
    "\n",
    "q = mp.Queue()\n",
    "\n",
    "p1 = mp.Process(target=job, args=(q,))\n",
    "p2 = mp.Process(target=job, args=(q,))\n",
    "\n",
    "p1.start()\n",
    "p2.start()\n",
    "\n",
    "p1.join()\n",
    "p2.join()\n",
    "\n",
    "res1 = q.get()\n",
    "res2 = q.get()\n",
    "\n",
    "print(res1+res2)"
   ]
  },
  {
   "cell_type": "code",
   "execution_count": null,
   "metadata": {},
   "outputs": [],
   "source": []
  }
 ],
 "metadata": {
  "kernelspec": {
   "display_name": "Python 3",
   "language": "python",
   "name": "python3"
  },
  "language_info": {
   "codemirror_mode": {
    "name": "ipython",
    "version": 3
   },
   "file_extension": ".py",
   "mimetype": "text/x-python",
   "name": "python",
   "nbconvert_exporter": "python",
   "pygments_lexer": "ipython3",
   "version": "3.7.6"
  },
  "toc": {
   "base_numbering": 1,
   "nav_menu": {},
   "number_sections": true,
   "sideBar": true,
   "skip_h1_title": false,
   "title_cell": "Table of Contents",
   "title_sidebar": "Contents",
   "toc_cell": false,
   "toc_position": {},
   "toc_section_display": true,
   "toc_window_display": false
  },
  "varInspector": {
   "cols": {
    "lenName": 16,
    "lenType": 16,
    "lenVar": 40
   },
   "kernels_config": {
    "python": {
     "delete_cmd_postfix": "",
     "delete_cmd_prefix": "del ",
     "library": "var_list.py",
     "varRefreshCmd": "print(var_dic_list())"
    },
    "r": {
     "delete_cmd_postfix": ") ",
     "delete_cmd_prefix": "rm(",
     "library": "var_list.r",
     "varRefreshCmd": "cat(var_dic_list()) "
    }
   },
   "types_to_exclude": [
    "module",
    "function",
    "builtin_function_or_method",
    "instance",
    "_Feature"
   ],
   "window_display": false
  }
 },
 "nbformat": 4,
 "nbformat_minor": 4
}
