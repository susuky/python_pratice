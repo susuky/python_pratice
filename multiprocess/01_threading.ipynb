{
 "cells": [
  {
   "cell_type": "markdown",
   "metadata": {},
   "source": [
    "examples from https://morvanzhou.github.io/"
   ]
  },
  {
   "cell_type": "markdown",
   "metadata": {
    "ExecuteTime": {
     "end_time": "2020-04-14T14:21:13.361351Z",
     "start_time": "2020-04-14T14:21:13.358365Z"
    }
   },
   "source": [
    "should use coldfoding to read"
   ]
  },
  {
   "cell_type": "markdown",
   "metadata": {},
   "source": [
    "# threading"
   ]
  },
  {
   "cell_type": "code",
   "execution_count": 1,
   "metadata": {
    "ExecuteTime": {
     "end_time": "2020-04-14T14:20:08.519753Z",
     "start_time": "2020-04-14T14:20:08.517729Z"
    }
   },
   "outputs": [],
   "source": [
    "import threading"
   ]
  },
  {
   "cell_type": "code",
   "execution_count": 2,
   "metadata": {
    "ExecuteTime": {
     "end_time": "2020-04-14T14:20:08.528699Z",
     "start_time": "2020-04-14T14:20:08.520721Z"
    }
   },
   "outputs": [],
   "source": [
    "threading.active_count(), threading.enumerate(), threading.current_thread()"
   ]
  },
  {
   "cell_type": "markdown",
   "metadata": {},
   "source": [
    "## join 等待"
   ]
  },
  {
   "cell_type": "code",
   "execution_count": 3,
   "metadata": {
    "ExecuteTime": {
     "end_time": "2020-04-14T14:20:08.532689Z",
     "start_time": "2020-04-14T14:20:08.529696Z"
    }
   },
   "outputs": [],
   "source": [
    "import time\n",
    "import threading"
   ]
  },
  {
   "cell_type": "code",
   "execution_count": 4,
   "metadata": {
    "ExecuteTime": {
     "end_time": "2020-04-14T14:20:08.542662Z",
     "start_time": "2020-04-14T14:20:08.533686Z"
    }
   },
   "outputs": [
    {
     "name": "stdout",
     "output_type": "stream",
     "text": [
      "T1 start\n",
      "\n",
      "T2 start\n",
      "\n",
      "T2 finish\n",
      "\n",
      "all done\n",
      "\n"
     ]
    }
   ],
   "source": [
    "# main 執行完，T1還在執行，在jupyter 就被咖掉了\n",
    "def T1_job():\n",
    "    print(\"T1 start\\n\")\n",
    "    for i in range(10):\n",
    "        time.sleep(0.1)  # T1會執行比較久\n",
    "    print(\"T1 finish\\n\")\n",
    "\n",
    "def T2_job():\n",
    "    print(\"T2 start\\n\")\n",
    "    print(\"T2 finish\\n\")\n",
    "\n",
    "thread_1 = threading.Thread(target=T1_job, name='T1')  # 可以命名thread\n",
    "thread_2 = threading.Thread(target=T2_job, name='T2')\n",
    "\n",
    "thread_1.start() \n",
    "thread_2.start() \n",
    "\n",
    "print(\"all done\\n\")  "
   ]
  },
  {
   "cell_type": "code",
   "execution_count": 5,
   "metadata": {
    "ExecuteTime": {
     "end_time": "2020-04-14T14:20:09.556058Z",
     "start_time": "2020-04-14T14:20:08.543660Z"
    }
   },
   "outputs": [
    {
     "name": "stdout",
     "output_type": "stream",
     "text": [
      "T1 start\n",
      "\n",
      "T2 start\n",
      "\n",
      "T2 finish\n",
      "\n",
      "T1 finish\n",
      "\n",
      "T1 finish\n",
      "\n",
      "all done\n",
      "\n"
     ]
    }
   ],
   "source": [
    "# 加上join 等待\n",
    "def T1_job():\n",
    "    print(\"T1 start\\n\")\n",
    "    for i in range(10):\n",
    "        time.sleep(0.1)  # T1會執行比較久\n",
    "    print(\"T1 finish\\n\")\n",
    "\n",
    "def T2_job():\n",
    "    print(\"T2 start\\n\")\n",
    "    print(\"T2 finish\\n\")\n",
    "\n",
    "thread_1 = threading.Thread(target=T1_job, name='T1')\n",
    "thread_2 = threading.Thread(target=T2_job, name='T2')\n",
    "\n",
    "thread_1.start() \n",
    "thread_2.start() \n",
    "\n",
    "thread_1.join() # 等T1執行完才繼續下面的程式\n",
    "print(\"all done\\n\")"
   ]
  },
  {
   "cell_type": "markdown",
   "metadata": {
    "heading_collapsed": true
   },
   "source": [
    "## Queue 可以有return"
   ]
  },
  {
   "cell_type": "code",
   "execution_count": 6,
   "metadata": {
    "ExecuteTime": {
     "end_time": "2020-04-14T14:20:09.621229Z",
     "start_time": "2020-04-14T14:20:09.557029Z"
    },
    "hidden": true
   },
   "outputs": [],
   "source": [
    "import queue\n",
    "import threading\n",
    "import numpy as np"
   ]
  },
  {
   "cell_type": "code",
   "execution_count": 7,
   "metadata": {
    "ExecuteTime": {
     "end_time": "2020-04-14T14:20:09.625222Z",
     "start_time": "2020-04-14T14:20:09.623189Z"
    },
    "hidden": true
   },
   "outputs": [],
   "source": [
    "def job(l, q):\n",
    "    for i in range(len(l)):\n",
    "        l[i] = l[i]**2\n",
    "    q.put(l)  # return 存進這"
   ]
  },
  {
   "cell_type": "code",
   "execution_count": 8,
   "metadata": {
    "ExecuteTime": {
     "end_time": "2020-04-14T14:20:09.632189Z",
     "start_time": "2020-04-14T14:20:09.626181Z"
    },
    "hidden": true
   },
   "outputs": [
    {
     "name": "stdout",
     "output_type": "stream",
     "text": [
      "[[ 1  4  9]\n",
      " [ 9 16 25]\n",
      " [16 16 16]\n",
      " [25 25 25]]\n"
     ]
    }
   ],
   "source": [
    "# multithreading\n",
    "num_threads = 4\n",
    "\n",
    "q = queue.Queue()\n",
    "threads = []\n",
    "result = []\n",
    "data = np.array([[1, 2, 3], \n",
    "                 [3, 4, 5], \n",
    "                 [4, 4, 4], \n",
    "                 [5, 5, 5]])\n",
    "\n",
    "\n",
    "for i in range(num_threads):   \n",
    "    t = threading.Thread(target=job,args=(data[i], q))\n",
    "    t.start()  # 開始\n",
    "    threads.append(t)\n",
    "    \n",
    "# 等待全部線程執行完    \n",
    "for i in range(num_threads):    \n",
    "    t.join()  \n",
    "    \n",
    "# 取出result\n",
    "for i in range(num_threads):\n",
    "    result.append(q.get())\n",
    "\n",
    "result = np.array(result)\n",
    "print(result)"
   ]
  },
  {
   "cell_type": "markdown",
   "metadata": {
    "ExecuteTime": {
     "end_time": "2020-04-14T12:59:16.505977Z",
     "start_time": "2020-04-14T12:59:16.503953Z"
    },
    "heading_collapsed": true
   },
   "source": [
    "## GIL (Global Interpreter Lock)"
   ]
  },
  {
   "cell_type": "markdown",
   "metadata": {
    "hidden": true
   },
   "source": [
    "拜它所賜，在python開多線程不一定會比較快(可能還比較慢)，在I/O比較多的case，才會比較快"
   ]
  },
  {
   "cell_type": "code",
   "execution_count": 9,
   "metadata": {
    "ExecuteTime": {
     "end_time": "2020-04-14T14:20:09.635156Z",
     "start_time": "2020-04-14T14:20:09.632189Z"
    },
    "hidden": true
   },
   "outputs": [],
   "source": [
    "import copy\n",
    "import time\n",
    "import threading\n",
    "\n",
    "from queue import Queue"
   ]
  },
  {
   "cell_type": "code",
   "execution_count": 10,
   "metadata": {
    "ExecuteTime": {
     "end_time": "2020-04-14T14:20:09.639146Z",
     "start_time": "2020-04-14T14:20:09.636154Z"
    },
    "code_folding": [
     0
    ],
    "hidden": true
   },
   "outputs": [],
   "source": [
    "def job(l, q):\n",
    "    res = sum(l)\n",
    "    q.put(res)"
   ]
  },
  {
   "cell_type": "code",
   "execution_count": 11,
   "metadata": {
    "ExecuteTime": {
     "end_time": "2020-04-14T14:20:09.644132Z",
     "start_time": "2020-04-14T14:20:09.640142Z"
    },
    "code_folding": [
     0,
     15
    ],
    "hidden": true
   },
   "outputs": [],
   "source": [
    "def multithreading(l, num_threads=10):\n",
    "    q = Queue()\n",
    "    threads = []\n",
    "    for i in range(num_threads):\n",
    "        t = threading.Thread(target=job, args=(copy.copy(l), q), name='T%i' % i)     \n",
    "        t.start()\n",
    "        threads.append(t)\n",
    "\n",
    "    [t.join() for t in threads]\n",
    "    \n",
    "    total = 0\n",
    "    for _ in range(num_threads):\n",
    "        total += q.get()\n",
    "\n",
    "\n",
    "def normal(l):\n",
    "    total = sum(l)"
   ]
  },
  {
   "cell_type": "code",
   "execution_count": 12,
   "metadata": {
    "ExecuteTime": {
     "end_time": "2020-04-14T14:20:10.055144Z",
     "start_time": "2020-04-14T14:20:09.645130Z"
    },
    "code_folding": [],
    "hidden": true
   },
   "outputs": [
    {
     "name": "stdout",
     "output_type": "stream",
     "text": [
      "normal:  0.10\n",
      "10 threading: 0.24\n",
      "2 threading: 0.05\n"
     ]
    }
   ],
   "source": [
    "l = list(range(1000000))\n",
    "\n",
    "s_t = time.time()\n",
    "normal(l*4)\n",
    "print(f'normal: {time.time()-s_t: .2f}')\n",
    "\n",
    "s_t = time.time()\n",
    "multithreading(l, num_threads=10)\n",
    "print(f'10 threading: {time.time()-s_t:.2f}')\n",
    "\n",
    "s_t = time.time()\n",
    "multithreading(l, num_threads=2)\n",
    "print(f'2 threading: {time.time()-s_t:.2f}')"
   ]
  },
  {
   "cell_type": "markdown",
   "metadata": {
    "heading_collapsed": true
   },
   "source": [
    "## lock"
   ]
  },
  {
   "cell_type": "code",
   "execution_count": 20,
   "metadata": {
    "ExecuteTime": {
     "end_time": "2020-04-14T14:20:22.884089Z",
     "start_time": "2020-04-14T14:20:22.874145Z"
    },
    "hidden": true
   },
   "outputs": [
    {
     "name": "stdout",
     "output_type": "stream",
     "text": [
      "job1 1\n",
      "job1 2\n",
      "job1 3\n",
      "job1 4\n",
      "job1 5\n",
      "job1 6\n",
      "job1 7job2 17\n",
      "job2\n",
      "job1 28\n",
      "job1 29\n",
      "job1 30\n",
      " 27\n",
      "job2 40\n",
      "job2 50\n",
      "job2 60\n",
      "job2 70\n",
      "job2 80\n",
      "job2 90\n",
      "job2 100\n",
      "job2 110\n"
     ]
    }
   ],
   "source": [
    "# without lock, the result would be messy\n",
    "import threading\n",
    "\n",
    "\n",
    "def job1():\n",
    "    global A\n",
    "    for i in range(10):\n",
    "        A += 1\n",
    "        print('job1', A)\n",
    "\n",
    "\n",
    "def job2():\n",
    "    global A\n",
    "    for i in range(10):\n",
    "        A += 10\n",
    "        print('job2', A)\n",
    "\n",
    "\n",
    "A = 0\n",
    "\n",
    "t1 = threading.Thread(target=job1)\n",
    "t2 = threading.Thread(target=job2)\n",
    "\n",
    "t1.start()\n",
    "t2.start()\n",
    "\n",
    "t1.join()\n",
    "t2.join()"
   ]
  },
  {
   "cell_type": "code",
   "execution_count": 14,
   "metadata": {
    "ExecuteTime": {
     "end_time": "2020-04-14T14:20:10.077051Z",
     "start_time": "2020-04-14T14:20:10.064086Z"
    },
    "hidden": true
   },
   "outputs": [
    {
     "name": "stdout",
     "output_type": "stream",
     "text": [
      "job1 1\n",
      "job1 2\n",
      "job1 3\n",
      "job1 4\n",
      "job1 5\n",
      "job1 6\n",
      "job1 7\n",
      "job1 8\n",
      "job1 9\n",
      "job1 10\n",
      "job2 20\n",
      "job2 30\n",
      "job2 40\n",
      "job2 50\n",
      "job2 60\n",
      "job2 70\n",
      "job2 80\n",
      "job2 90\n",
      "job2 100\n",
      "job2 110\n"
     ]
    }
   ],
   "source": [
    "# with lock\n",
    "import threading\n",
    "\n",
    "\n",
    "def job1():\n",
    "    global A, lock\n",
    "    lock.acquire()\n",
    "    for i in range(10):\n",
    "        A += 1\n",
    "        print('job1', A)\n",
    "    lock.release()\n",
    "\n",
    "\n",
    "def job2():\n",
    "    global A, lock\n",
    "    lock.acquire()\n",
    "    for i in range(10):\n",
    "        A += 10\n",
    "        print('job2', A)\n",
    "    lock.release()\n",
    "\n",
    "\n",
    "A = 0\n",
    "\n",
    "lock = threading.Lock()\n",
    "\n",
    "t1 = threading.Thread(target=job1)\n",
    "t2 = threading.Thread(target=job2)\n",
    "\n",
    "t1.start()\n",
    "t2.start()\n",
    "\n",
    "t1.join()\n",
    "t2.join()"
   ]
  },
  {
   "cell_type": "code",
   "execution_count": null,
   "metadata": {
    "hidden": true
   },
   "outputs": [],
   "source": []
  },
  {
   "cell_type": "code",
   "execution_count": null,
   "metadata": {
    "hidden": true
   },
   "outputs": [],
   "source": []
  }
 ],
 "metadata": {
  "kernelspec": {
   "display_name": "Python 3",
   "language": "python",
   "name": "python3"
  },
  "language_info": {
   "codemirror_mode": {
    "name": "ipython",
    "version": 3
   },
   "file_extension": ".py",
   "mimetype": "text/x-python",
   "name": "python",
   "nbconvert_exporter": "python",
   "pygments_lexer": "ipython3",
   "version": "3.7.6"
  },
  "toc": {
   "base_numbering": 1,
   "nav_menu": {},
   "number_sections": true,
   "sideBar": true,
   "skip_h1_title": false,
   "title_cell": "Table of Contents",
   "title_sidebar": "Contents",
   "toc_cell": false,
   "toc_position": {},
   "toc_section_display": true,
   "toc_window_display": false
  },
  "varInspector": {
   "cols": {
    "lenName": 16,
    "lenType": 16,
    "lenVar": 40
   },
   "kernels_config": {
    "python": {
     "delete_cmd_postfix": "",
     "delete_cmd_prefix": "del ",
     "library": "var_list.py",
     "varRefreshCmd": "print(var_dic_list())"
    },
    "r": {
     "delete_cmd_postfix": ") ",
     "delete_cmd_prefix": "rm(",
     "library": "var_list.r",
     "varRefreshCmd": "cat(var_dic_list()) "
    }
   },
   "types_to_exclude": [
    "module",
    "function",
    "builtin_function_or_method",
    "instance",
    "_Feature"
   ],
   "window_display": false
  }
 },
 "nbformat": 4,
 "nbformat_minor": 4
}
