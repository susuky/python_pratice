{
 "cells": [
  {
   "cell_type": "code",
   "execution_count": 1,
   "metadata": {
    "ExecuteTime": {
     "end_time": "2020-05-21T13:56:46.835533Z",
     "start_time": "2020-05-21T13:56:46.481314Z"
    }
   },
   "outputs": [],
   "source": [
    "import numpy as np\n",
    "import pandas as pd\n",
    "import matplotlib.pyplot as plt\n",
    "\n",
    "from IPython.display import display"
   ]
  },
  {
   "cell_type": "markdown",
   "metadata": {},
   "source": [
    "# load data"
   ]
  },
  {
   "cell_type": "code",
   "execution_count": 2,
   "metadata": {
    "ExecuteTime": {
     "end_time": "2020-05-21T13:56:47.496575Z",
     "start_time": "2020-05-21T13:56:46.836497Z"
    }
   },
   "outputs": [
    {
     "data": {
      "text/html": [
       "<div>\n",
       "<style scoped>\n",
       "    .dataframe tbody tr th:only-of-type {\n",
       "        vertical-align: middle;\n",
       "    }\n",
       "\n",
       "    .dataframe tbody tr th {\n",
       "        vertical-align: top;\n",
       "    }\n",
       "\n",
       "    .dataframe thead th {\n",
       "        text-align: right;\n",
       "    }\n",
       "</style>\n",
       "<table border=\"1\" class=\"dataframe\">\n",
       "  <thead>\n",
       "    <tr style=\"text-align: right;\">\n",
       "      <th></th>\n",
       "      <th>Sepal length</th>\n",
       "      <th>Sepal width</th>\n",
       "      <th>Petal length</th>\n",
       "      <th>Petal width</th>\n",
       "      <th>Class label</th>\n",
       "    </tr>\n",
       "  </thead>\n",
       "  <tbody>\n",
       "    <tr>\n",
       "      <th>0</th>\n",
       "      <td>5.1</td>\n",
       "      <td>3.5</td>\n",
       "      <td>1.4</td>\n",
       "      <td>0.2</td>\n",
       "      <td>Iris-setosa</td>\n",
       "    </tr>\n",
       "    <tr>\n",
       "      <th>1</th>\n",
       "      <td>4.9</td>\n",
       "      <td>3.0</td>\n",
       "      <td>1.4</td>\n",
       "      <td>0.2</td>\n",
       "      <td>Iris-setosa</td>\n",
       "    </tr>\n",
       "    <tr>\n",
       "      <th>2</th>\n",
       "      <td>4.7</td>\n",
       "      <td>3.2</td>\n",
       "      <td>1.3</td>\n",
       "      <td>0.2</td>\n",
       "      <td>Iris-setosa</td>\n",
       "    </tr>\n",
       "    <tr>\n",
       "      <th>3</th>\n",
       "      <td>4.6</td>\n",
       "      <td>3.1</td>\n",
       "      <td>1.5</td>\n",
       "      <td>0.2</td>\n",
       "      <td>Iris-setosa</td>\n",
       "    </tr>\n",
       "    <tr>\n",
       "      <th>4</th>\n",
       "      <td>5.0</td>\n",
       "      <td>3.6</td>\n",
       "      <td>1.4</td>\n",
       "      <td>0.2</td>\n",
       "      <td>Iris-setosa</td>\n",
       "    </tr>\n",
       "  </tbody>\n",
       "</table>\n",
       "</div>"
      ],
      "text/plain": [
       "   Sepal length  Sepal width  Petal length  Petal width  Class label\n",
       "0           5.1          3.5           1.4          0.2  Iris-setosa\n",
       "1           4.9          3.0           1.4          0.2  Iris-setosa\n",
       "2           4.7          3.2           1.3          0.2  Iris-setosa\n",
       "3           4.6          3.1           1.5          0.2  Iris-setosa\n",
       "4           5.0          3.6           1.4          0.2  Iris-setosa"
      ]
     },
     "metadata": {},
     "output_type": "display_data"
    },
    {
     "data": {
      "text/plain": [
       "((100, 2),\n",
       " (100,),\n",
       " array([0, 0, 0, 0, 0], dtype=int64),\n",
       " array(['Iris-versicolor', 'Iris-virginica'], dtype=object))"
      ]
     },
     "execution_count": 2,
     "metadata": {},
     "output_type": "execute_result"
    }
   ],
   "source": [
    "# load data\n",
    "df = pd.read_csv(\n",
    "    'https://archive.ics.uci.edu/ml/'\n",
    "    'machine-learning-databases/iris/iris.data',\n",
    "    header=None)\n",
    "df.columns = [\n",
    "    'Sepal length', 'Sepal width', 'Petal length', 'Petal width', 'Class label'\n",
    "]\n",
    "display(df.head())\n",
    "\n",
    "x_ori = df[['Petal length', 'Petal width']].values[50:150]\n",
    "y, y_label = pd.factorize(df['Class label'].values[50:150])\n",
    "\n",
    "x = (x_ori - x_ori.mean()) / (x_ori.std())\n",
    "x.shape, y.shape, y[:5], y_label"
   ]
  },
  {
   "cell_type": "markdown",
   "metadata": {},
   "source": [
    "# use sklearn to see the baseline"
   ]
  },
  {
   "cell_type": "code",
   "execution_count": 3,
   "metadata": {
    "ExecuteTime": {
     "end_time": "2020-05-21T13:56:47.762578Z",
     "start_time": "2020-05-21T13:56:47.497572Z"
    }
   },
   "outputs": [
    {
     "data": {
      "text/plain": [
       "'accuracy from sklearn: 0.94'"
      ]
     },
     "execution_count": 3,
     "metadata": {},
     "output_type": "execute_result"
    }
   ],
   "source": [
    "from sklearn.linear_model import LogisticRegression\n",
    "lr = LogisticRegression(C=1000.0, random_state=0, solver=\"liblinear\")\n",
    "lr.fit(x, y)\n",
    "f'accuracy from sklearn: {np.mean(lr.predict(x) == y)}'"
   ]
  },
  {
   "cell_type": "markdown",
   "metadata": {},
   "source": [
    "# logistic regression with hessian matrix from scratch"
   ]
  },
  {
   "cell_type": "code",
   "execution_count": 4,
   "metadata": {
    "ExecuteTime": {
     "end_time": "2020-05-21T13:56:47.766565Z",
     "start_time": "2020-05-21T13:56:47.763549Z"
    }
   },
   "outputs": [],
   "source": [
    "# due to my formula, I have to change the data format\n",
    "x = x.T  # (feature, m)\n",
    "y = y[None]  # (1, m)"
   ]
  },
  {
   "cell_type": "markdown",
   "metadata": {},
   "source": [
    "## define model and initial weights in uniform distribution"
   ]
  },
  {
   "cell_type": "code",
   "execution_count": 5,
   "metadata": {
    "ExecuteTime": {
     "end_time": "2020-05-21T13:56:47.862965Z",
     "start_time": "2020-05-21T13:56:47.767539Z"
    }
   },
   "outputs": [
    {
     "data": {
      "image/png": "[encoded data removed]",
      "text/plain": [
       "<Figure size 432x288 with 1 Axes>"
      ]
     },
     "metadata": {
      "needs_background": "light"
     },
     "output_type": "display_data"
    }
   ],
   "source": [
    "sigmoid = lambda x: 1 / (1 + np.exp(-x))\n",
    "axis = np.arange(-8, 8, 0.1)\n",
    "plt.plot(axis, sigmoid(axis))"
   ]
  },
  {
   "cell_type": "code",
   "execution_count": 6,
   "metadata": {
    "ExecuteTime": {
     "end_time": "2020-05-21T13:56:47.867958Z",
     "start_time": "2020-05-21T13:56:47.863934Z"
    },
    "code_folding": []
   },
   "outputs": [
    {
     "data": {
      "text/plain": [
       "'initial accuracy: 0.6'"
      ]
     },
     "execution_count": 6,
     "metadata": {},
     "output_type": "execute_result"
    }
   ],
   "source": [
    "def h(x):\n",
    "    global w\n",
    "    return sigmoid(w.T.dot(x))\n",
    "\n",
    "\n",
    "w = np.random.uniform(-3e-3, 3e-3, (len(x), 1))\n",
    "\n",
    "f'initial accuracy: {np.mean((h(x)>0.5) == y)}'"
   ]
  },
  {
   "cell_type": "markdown",
   "metadata": {},
   "source": [
    "## some util function"
   ]
  },
  {
   "cell_type": "markdown",
   "metadata": {},
   "source": [
    " To speed up the computation, all of them are written in vector format instead of \"for loops\"."
   ]
  },
  {
   "cell_type": "code",
   "execution_count": 7,
   "metadata": {
    "ExecuteTime": {
     "end_time": "2020-05-21T13:56:47.872938Z",
     "start_time": "2020-05-21T13:56:47.868921Z"
    }
   },
   "outputs": [],
   "source": [
    "def likelihood(preds, ys, smooth=1e-8):\n",
    "    return (ys * np.log(preds + smooth) +\n",
    "            (1 - ys) * np.log(1 - preds + smooth))\n",
    "\n",
    "\n",
    "likelihood(h(x), y)"
   ]
  },
  {
   "cell_type": "code",
   "execution_count": 8,
   "metadata": {
    "ExecuteTime": {
     "end_time": "2020-05-21T13:56:47.877896Z",
     "start_time": "2020-05-21T13:56:47.873908Z"
    }
   },
   "outputs": [],
   "source": [
    "def first_order(x, ys):\n",
    "    return np.mean((ys - h(x)) * x, axis=1, keepdims=True)\n",
    "\n",
    "\n",
    "first_order(x, y)"
   ]
  },
  {
   "cell_type": "code",
   "execution_count": 9,
   "metadata": {
    "ExecuteTime": {
     "end_time": "2020-05-21T13:56:47.882883Z",
     "start_time": "2020-05-21T13:56:47.878894Z"
    }
   },
   "outputs": [],
   "source": [
    "def hessian(x):\n",
    "    return np.mean(h(x) * (h(x) - 1)) * x.dot(x.T)\n",
    "\n",
    "\n",
    "hessian(x)"
   ]
  },
  {
   "cell_type": "markdown",
   "metadata": {},
   "source": [
    "## train"
   ]
  },
  {
   "cell_type": "code",
   "execution_count": 10,
   "metadata": {
    "ExecuteTime": {
     "end_time": "2020-05-21T13:56:47.886873Z",
     "start_time": "2020-05-21T13:56:47.883881Z"
    }
   },
   "outputs": [],
   "source": [
    "# just choose the median value\n",
    "threshold = 0.5"
   ]
  },
  {
   "cell_type": "code",
   "execution_count": 11,
   "metadata": {
    "ExecuteTime": {
     "end_time": "2020-05-21T13:56:47.891859Z",
     "start_time": "2020-05-21T13:56:47.887870Z"
    },
    "scrolled": true
   },
   "outputs": [],
   "source": [
    "# update\n",
    "for i in range(10):\n",
    "    w = w - np.linalg.pinv(hessian(x)).dot(first_order(x, y))"
   ]
  },
  {
   "cell_type": "markdown",
   "metadata": {},
   "source": [
    "## result"
   ]
  },
  {
   "cell_type": "code",
   "execution_count": 12,
   "metadata": {
    "ExecuteTime": {
     "end_time": "2020-05-21T13:56:47.896846Z",
     "start_time": "2020-05-21T13:56:47.892857Z"
    }
   },
   "outputs": [
    {
     "data": {
      "text/plain": [
       "'accuracy of mine: 0.95'"
      ]
     },
     "execution_count": 12,
     "metadata": {},
     "output_type": "execute_result"
    }
   ],
   "source": [
    "preds = (h(x) > threshold).astype(float)\n",
    "f'accuracy of mine: {np.mean(y == preds)}'"
   ]
  },
  {
   "cell_type": "code",
   "execution_count": 13,
   "metadata": {
    "ExecuteTime": {
     "end_time": "2020-05-21T13:56:48.050939Z",
     "start_time": "2020-05-21T13:56:47.897843Z"
    }
   },
   "outputs": [
    {
     "data": {
      "image/png": "[encoded data removed]",
      "text/plain": [
       "<Figure size 720x576 with 1 Axes>"
      ]
     },
     "metadata": {
      "needs_background": "light"
     },
     "output_type": "display_data"
    }
   ],
   "source": [
    "plt.figure(figsize=(10, 8))\n",
    "\n",
    "# Set min and max values and give it some padding\n",
    "x_min, x_max = x[0, :].min() - 1, x[0, :].max() + 1\n",
    "y_min, y_max = x[1, :].min() - 1, x[1, :].max() + 1\n",
    "\n",
    "res = 0.01\n",
    "# Generate a grid of points with distance h between them\n",
    "xx, yy = np.meshgrid(np.arange(x_min, x_max, res),\n",
    "                     np.arange(y_min, y_max, res))\n",
    "\n",
    "# Predict the function value for the whole grid\n",
    "x_c = np.c_[xx.ravel(), yy.ravel()].T\n",
    "Z = h(x_c) > threshold\n",
    "Z = Z.reshape(xx.shape)\n",
    "\n",
    "# Plot the contour and training examples\n",
    "plt.contourf(xx, yy, Z, cmap=plt.cm.Spectral)\n",
    "plt.ylabel('X2', size=18)\n",
    "plt.xlabel('X1', size=18)\n",
    "plt.scatter(x[0, :], x[1, :], c=y[0], cmap=plt.cm.Spectral)"
   ]
  }
 ],
 "metadata": {
  "kernelspec": {
   "display_name": "Python 3",
   "language": "python",
   "name": "python3"
  },
  "language_info": {
   "codemirror_mode": {
    "name": "ipython",
    "version": 3
   },
   "file_extension": ".py",
   "mimetype": "text/x-python",
   "name": "python",
   "nbconvert_exporter": "python",
   "pygments_lexer": "ipython3",
   "version": "3.7.6"
  },
  "toc": {
   "base_numbering": 1,
   "nav_menu": {},
   "number_sections": true,
   "sideBar": true,
   "skip_h1_title": false,
   "title_cell": "Table of Contents",
   "title_sidebar": "Contents",
   "toc_cell": false,
   "toc_position": {},
   "toc_section_display": true,
   "toc_window_display": false
  },
  "varInspector": {
   "cols": {
    "lenName": 16,
    "lenType": 16,
    "lenVar": 40
   },
   "kernels_config": {
    "python": {
     "delete_cmd_postfix": "",
     "delete_cmd_prefix": "del ",
     "library": "var_list.py",
     "varRefreshCmd": "print(var_dic_list())"
    },
    "r": {
     "delete_cmd_postfix": ") ",
     "delete_cmd_prefix": "rm(",
     "library": "var_list.r",
     "varRefreshCmd": "cat(var_dic_list()) "
    }
   },
   "types_to_exclude": [
    "module",
    "function",
    "builtin_function_or_method",
    "instance",
    "_Feature"
   ],
   "window_display": false
  }
 },
 "nbformat": 4,
 "nbformat_minor": 4
}
