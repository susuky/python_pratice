{
 "cells": [
  {
   "cell_type": "code",
   "execution_count": 1,
   "metadata": {
    "ExecuteTime": {
     "end_time": "2020-12-06T19:23:51.749745Z",
     "start_time": "2020-12-06T19:23:51.658245Z"
    }
   },
   "outputs": [],
   "source": [
    "import numpy as np"
   ]
  },
  {
   "cell_type": "code",
   "execution_count": 2,
   "metadata": {
    "ExecuteTime": {
     "end_time": "2020-12-06T19:23:51.765273Z",
     "start_time": "2020-12-06T19:23:51.750773Z"
    }
   },
   "outputs": [],
   "source": [
    "def hex2uint8(x):\n",
    "    # x = np.where(x == '0', '00', x)\n",
    "    x = x.view(np.uint8)[::4]\n",
    "    x = np.where(x > 64, x - 55, x - 48)\n",
    "    x = x[0::2] * 16 + x[1::2]\n",
    "    return x"
   ]
  },
  {
   "cell_type": "code",
   "execution_count": 3,
   "metadata": {
    "ExecuteTime": {
     "end_time": "2020-12-06T19:23:51.780776Z",
     "start_time": "2020-12-06T19:23:51.766243Z"
    }
   },
   "outputs": [],
   "source": [
    "a = np.array(['90', '1F', '1B', '00'])\n",
    "a = np.tile(a, 25000)"
   ]
  },
  {
   "cell_type": "code",
   "execution_count": 4,
   "metadata": {
    "ExecuteTime": {
     "end_time": "2020-12-06T19:23:56.244773Z",
     "start_time": "2020-12-06T19:23:51.781764Z"
    }
   },
   "outputs": [
    {
     "name": "stdout",
     "output_type": "stream",
     "text": [
      "549 µs ± 4.17 µs per loop (mean ± std. dev. of 7 runs, 1000 loops each)\n"
     ]
    }
   ],
   "source": [
    "%timeit hex2uint8(a)"
   ]
  },
  {
   "cell_type": "code",
   "execution_count": 5,
   "metadata": {
    "ExecuteTime": {
     "end_time": "2020-12-06T19:24:01.499345Z",
     "start_time": "2020-12-06T19:23:56.245742Z"
    }
   },
   "outputs": [
    {
     "name": "stdout",
     "output_type": "stream",
     "text": [
      "30.2 ms ± 306 µs per loop (mean ± std. dev. of 7 runs, 10 loops each)\n",
      "34.4 ms ± 153 µs per loop (mean ± std. dev. of 7 runs, 10 loops each)\n"
     ]
    }
   ],
   "source": [
    "%timeit [int(i, 16) for i in a]\n",
    "%timeit np.array([int(i, 16) for i in a])"
   ]
  },
  {
   "cell_type": "code",
   "execution_count": 6,
   "metadata": {
    "ExecuteTime": {
     "end_time": "2020-12-06T19:24:22.718805Z",
     "start_time": "2020-12-06T19:24:01.500774Z"
    }
   },
   "outputs": [
    {
     "name": "stdout",
     "output_type": "stream",
     "text": [
      "140 ns ± 0.355 ns per loop (mean ± std. dev. of 7 runs, 10000000 loops each)\n",
      "122 ns ± 0.56 ns per loop (mean ± std. dev. of 7 runs, 10000000 loops each)\n"
     ]
    }
   ],
   "source": [
    "%timeit np.int('ff', 16)\n",
    "%timeit int('ff', 16)"
   ]
  },
  {
   "cell_type": "code",
   "execution_count": 8,
   "metadata": {
    "ExecuteTime": {
     "end_time": "2020-12-06T20:05:06.697233Z",
     "start_time": "2020-12-06T20:04:55.331728Z"
    }
   },
   "outputs": [
    {
     "name": "stdout",
     "output_type": "stream",
     "text": [
      "14 ms ± 100 µs per loop (mean ± std. dev. of 7 runs, 100 loops each)\n"
     ]
    }
   ],
   "source": [
    "def hex2uint8(x):\n",
    "    # pad 0\n",
    "    mask = np.where(np.vectorize(len)(x) == 1)\n",
    "    add_0 = lambda x: '0' + x\n",
    "    x[mask] = np.vectorize(add_0, otypes=[str])(x[mask])\n",
    "    \n",
    "    x = x.view(np.uint8)[::4]\n",
    "    x = np.where(x > 64, x - 55, x - 48)\n",
    "    x = x[0::2] * 16 + x[1::2]\n",
    "    return x\n",
    "\n",
    "%timeit hex2uint8(a)"
   ]
  },
  {
   "cell_type": "code",
   "execution_count": 9,
   "metadata": {
    "ExecuteTime": {
     "end_time": "2020-12-06T20:05:19.584880Z",
     "start_time": "2020-12-06T20:05:08.308876Z"
    }
   },
   "outputs": [
    {
     "name": "stdout",
     "output_type": "stream",
     "text": [
      "13.9 ms ± 72.8 µs per loop (mean ± std. dev. of 7 runs, 100 loops each)\n"
     ]
    }
   ],
   "source": [
    "def hex2uint8(x):\n",
    "    # pad 0\n",
    "    mask = np.where(np.vectorize(len)(x) == 1)\n",
    "    x[mask] = np.char.zfill(x[mask], 2)\n",
    "    \n",
    "    x = x.view(np.uint8)[::4]\n",
    "    x = np.where(x > 64, x - 55, x - 48)\n",
    "    x = x[0::2] * 16 + x[1::2]\n",
    "    return x\n",
    "\n",
    "%timeit hex2uint8(a)"
   ]
  },
  {
   "cell_type": "code",
   "execution_count": 10,
   "metadata": {
    "ExecuteTime": {
     "end_time": "2020-12-06T20:07:28.576114Z",
     "start_time": "2020-12-06T20:07:17.327090Z"
    }
   },
   "outputs": [
    {
     "name": "stdout",
     "output_type": "stream",
     "text": [
      "13.8 ms ± 36 µs per loop (mean ± std. dev. of 7 runs, 100 loops each)\n"
     ]
    }
   ],
   "source": [
    "def hex2uint8(x):\n",
    "    # pad 0\n",
    "    mask = np.where(np.vectorize(len)(x) == 1)\n",
    "    add_0 = lambda x: np.char.zfill(x, 2)\n",
    "    x[mask] = np.vectorize(add_0, otypes=[str])(x[mask])\n",
    "    \n",
    "    x = x.view(np.uint8)[::4]\n",
    "    x = np.where(x > 64, x - 55, x - 48)\n",
    "    x = x[0::2] * 16 + x[1::2]\n",
    "    return x\n",
    "\n",
    "%timeit hex2uint8(a)"
   ]
  },
  {
   "cell_type": "code",
   "execution_count": null,
   "metadata": {},
   "outputs": [],
   "source": []
  }
 ],
 "metadata": {
  "kernelspec": {
   "display_name": "Python 3",
   "language": "python",
   "name": "python3"
  },
  "language_info": {
   "codemirror_mode": {
    "name": "ipython",
    "version": 3
   },
   "file_extension": ".py",
   "mimetype": "text/x-python",
   "name": "python",
   "nbconvert_exporter": "python",
   "pygments_lexer": "ipython3",
   "version": "3.7.6"
  },
  "toc": {
   "base_numbering": 1,
   "nav_menu": {},
   "number_sections": true,
   "sideBar": true,
   "skip_h1_title": false,
   "title_cell": "Table of Contents",
   "title_sidebar": "Contents",
   "toc_cell": false,
   "toc_position": {},
   "toc_section_display": true,
   "toc_window_display": false
  },
  "varInspector": {
   "cols": {
    "lenName": 16,
    "lenType": 16,
    "lenVar": 40
   },
   "kernels_config": {
    "python": {
     "delete_cmd_postfix": "",
     "delete_cmd_prefix": "del ",
     "library": "var_list.py",
     "varRefreshCmd": "print(var_dic_list())"
    },
    "r": {
     "delete_cmd_postfix": ") ",
     "delete_cmd_prefix": "rm(",
     "library": "var_list.r",
     "varRefreshCmd": "cat(var_dic_list()) "
    }
   },
   "types_to_exclude": [
    "module",
    "function",
    "builtin_function_or_method",
    "instance",
    "_Feature"
   ],
   "window_display": false
  }
 },
 "nbformat": 4,
 "nbformat_minor": 4
}
