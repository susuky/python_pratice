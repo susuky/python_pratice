{
 "cells": [
  {
   "cell_type": "markdown",
   "metadata": {
    "ExecuteTime": {
     "end_time": "2020-05-06T11:58:51.727664Z",
     "start_time": "2020-05-06T11:58:51.722713Z"
    }
   },
   "source": [
    "code modified from this [website](https://morvanzhou.github.io/)"
   ]
  },
  {
   "cell_type": "code",
   "execution_count": 1,
   "metadata": {
    "ExecuteTime": {
     "end_time": "2020-05-06T10:42:34.018153Z",
     "start_time": "2020-05-06T10:42:33.964272Z"
    }
   },
   "outputs": [],
   "source": [
    "import tkinter as tk"
   ]
  },
  {
   "cell_type": "markdown",
   "metadata": {
    "ExecuteTime": {
     "end_time": "2020-05-03T12:24:18.131160Z",
     "start_time": "2020-05-03T12:24:18.128137Z"
    },
    "heading_collapsed": true
   },
   "source": [
    "# hello world"
   ]
  },
  {
   "cell_type": "code",
   "execution_count": 13,
   "metadata": {
    "ExecuteTime": {
     "end_time": "2020-05-06T16:47:22.575806Z",
     "start_time": "2020-05-06T16:46:52.105092Z"
    },
    "hidden": true
   },
   "outputs": [],
   "source": [
    "import tkinter as tk\n",
    "window = tk.Tk()\n",
    "window.title('hello world')\n",
    "window.geometry('357x357')\n",
    "\n",
    "window.mainloop()"
   ]
  },
  {
   "cell_type": "markdown",
   "metadata": {
    "hidden": true
   },
   "source": [
    "![img](01helloworld.png)"
   ]
  },
  {
   "cell_type": "markdown",
   "metadata": {
    "heading_collapsed": true
   },
   "source": [
    "# label, buttom"
   ]
  },
  {
   "cell_type": "markdown",
   "metadata": {
    "ExecuteTime": {
     "end_time": "2020-05-03T12:23:41.821752Z",
     "start_time": "2020-05-03T12:23:41.816767Z"
    },
    "hidden": true
   },
   "source": [
    "Construct a ***label widget*** with the parent MASTER.\n",
    "\n",
    "STANDARD OPTIONS\n",
    "\n",
    "    activebackground, activeforeground, anchor,\n",
    "    background, bitmap, borderwidth, cursor,\n",
    "    disabledforeground, font, foreground,\n",
    "    highlightbackground, highlightcolor,\n",
    "    highlightthickness, image, justify,\n",
    "    padx, pady, relief, takefocus, text,\n",
    "    textvariable, underline, wraplength\n",
    "\n",
    "WIDGET-SPECIFIC OPTIONS\n",
    "\n",
    "    height, state, width"
   ]
  },
  {
   "cell_type": "markdown",
   "metadata": {
    "hidden": true
   },
   "source": [
    "Construct a ***button widget*** with the parent MASTER.\n",
    "\n",
    "STANDARD OPTIONS\n",
    "\n",
    "    activebackground, activeforeground, anchor,\n",
    "    background, bitmap, borderwidth, cursor,\n",
    "    disabledforeground, font, foreground\n",
    "    highlightbackground, highlightcolor,\n",
    "    highlightthickness, image, justify,\n",
    "    padx, pady, relief, repeatdelay,\n",
    "    repeatinterval, takefocus, text,\n",
    "    textvariable, underline, wraplength\n",
    "\n",
    "WIDGET-SPECIFIC OPTIONS\n",
    "\n",
    "    command, compound, default, height,\n",
    "    overrelief, state, width"
   ]
  },
  {
   "cell_type": "markdown",
   "metadata": {
    "heading_collapsed": true,
    "hidden": true
   },
   "source": [
    "## framework"
   ]
  },
  {
   "cell_type": "code",
   "execution_count": 14,
   "metadata": {
    "ExecuteTime": {
     "end_time": "2020-05-06T16:49:32.826869Z",
     "start_time": "2020-05-06T16:49:31.157331Z"
    },
    "code_folding": [],
    "hidden": true
   },
   "outputs": [],
   "source": [
    "import tkinter as tk\n",
    "\n",
    "window = tk.Tk()\n",
    "\n",
    "window.title('hello world')\n",
    "window.geometry('357x357')\n",
    "\n",
    "label_pack = {\n",
    "    'text': 'hello',\n",
    "    'bg': 'yellow',\n",
    "    'font': ('Arial, 18'),\n",
    "    'width': 15,\n",
    "    'height': 2\n",
    "}\n",
    "label = tk.Label(window, label_pack)\n",
    "label.pack()\n",
    "\n",
    "button = tk.Button(window, text='click', width=15, height=2)\n",
    "button.pack()\n",
    "\n",
    "window.mainloop()"
   ]
  },
  {
   "cell_type": "markdown",
   "metadata": {
    "hidden": true
   },
   "source": [
    "![img](02label_button.png)"
   ]
  },
  {
   "cell_type": "markdown",
   "metadata": {
    "heading_collapsed": true,
    "hidden": true
   },
   "source": [
    "## click"
   ]
  },
  {
   "cell_type": "code",
   "execution_count": 15,
   "metadata": {
    "ExecuteTime": {
     "end_time": "2020-05-06T16:49:52.799685Z",
     "start_time": "2020-05-06T16:49:34.289162Z"
    },
    "code_folding": [],
    "hidden": true
   },
   "outputs": [],
   "source": [
    "import tkinter as tk\n",
    "\n",
    "window = tk.Tk()\n",
    "window.title('hello world')\n",
    "window.geometry('357x357')\n",
    "\n",
    "# label\n",
    "var = tk.StringVar(window)\n",
    "var.set('hello')\n",
    "label = tk.Label(window,\n",
    "                 # text='123',  # is needless here\n",
    "                 textvariable=var,\n",
    "                 bg='yellow',\n",
    "                 font=('Arial', 18),\n",
    "                 width=15,\n",
    "                 height=2)\n",
    "label.pack()\n",
    "\n",
    "# buttom\n",
    "on_hit = False\n",
    "\n",
    "\n",
    "def hit_me():\n",
    "    global on_hit  # would raise error, if don't have this line\n",
    "\n",
    "    if on_hit == False:\n",
    "        on_hit = True\n",
    "        var.set('you click')\n",
    "\n",
    "    else:\n",
    "        on_hit = False    \n",
    "        var.set('hello')\n",
    "\n",
    "\n",
    "button = tk.Button(window, text='click', command=hit_me, width=15, height=2)\n",
    "button.pack()\n",
    "\n",
    "window.mainloop()"
   ]
  },
  {
   "cell_type": "markdown",
   "metadata": {
    "hidden": true
   },
   "source": [
    "![img](02label_button.png)"
   ]
  },
  {
   "cell_type": "markdown",
   "metadata": {
    "heading_collapsed": true
   },
   "source": [
    "# input text"
   ]
  },
  {
   "cell_type": "markdown",
   "metadata": {
    "hidden": true
   },
   "source": [
    "Construct an ***entry widget*** with the parent MASTER.\n",
    "\n",
    "Valid resource names: \n",
    "\n",
    "    background, bd, bg, borderwidth, cursor,\n",
    "    exportselection, fg, font, foreground, highlightbackground,\n",
    "    highlightcolor, highlightthickness, insertbackground,\n",
    "    insertborderwidth, insertofftime, insertontime, insertwidth,\n",
    "    invalidcommand, invcmd, justify, relief, selectbackground,\n",
    "    selectborderwidth, selectforeground, show, state, takefocus,\n",
    "    textvariable, validate, validatecommand, vcmd, width,\n",
    "    xscrollcommand."
   ]
  },
  {
   "cell_type": "markdown",
   "metadata": {
    "hidden": true
   },
   "source": [
    "Construct a ***text widget*** with the parent MASTER.\n",
    "\n",
    "STANDARD OPTIONS\n",
    "\n",
    "    background, borderwidth, cursor,\n",
    "    exportselection, font, foreground,\n",
    "    highlightbackground, highlightcolor,\n",
    "    highlightthickness, insertbackground,\n",
    "    insertborderwidth, insertofftime,\n",
    "    insertontime, insertwidth, padx, pady,\n",
    "    relief, selectbackground,\n",
    "    selectborderwidth, selectforeground,\n",
    "    setgrid, takefocus,\n",
    "    xscrollcommand, yscrollcommand,\n",
    "\n",
    "WIDGET-SPECIFIC OPTIONS\n",
    "\n",
    "    autoseparators, height, maxundo,\n",
    "    spacing1, spacing2, spacing3,\n",
    "    state, tabs, undo, width, wrap,"
   ]
  },
  {
   "cell_type": "code",
   "execution_count": 16,
   "metadata": {
    "ExecuteTime": {
     "end_time": "2020-05-06T16:52:25.861655Z",
     "start_time": "2020-05-06T16:51:33.953132Z"
    },
    "hidden": true
   },
   "outputs": [],
   "source": [
    "import tkinter as tk\n",
    "\n",
    "window = tk.Tk()\n",
    "window.title('hello world')\n",
    "window.geometry('357x357')\n",
    "\n",
    "entry = tk.Entry(window, show='*')  # user's input would show in '*'\n",
    "entry.pack()\n",
    "\n",
    "\n",
    "def insert_point():\n",
    "    var = entry.get()  # Return the text from entry\n",
    "    text.insert('insert', var)  # (insert position, variable)\n",
    "\n",
    "def insert_end():\n",
    "    var = entry.get()\n",
    "    text.insert('end', var)  # (insert position, variable)\n",
    "\n",
    "button1 = tk.Button(window,\n",
    "                    text='insert_at_mouse',\n",
    "                    command=insert_point,\n",
    "                    width=15,\n",
    "                    height=2).pack()\n",
    "\n",
    "button2 = tk.Button(window,\n",
    "                    text='insert_at_end',\n",
    "                    command=insert_end,\n",
    "                    width=15,\n",
    "                    height=2).pack()\n",
    "\n",
    "text = tk.Text(window, height=2)\n",
    "text.pack()\n",
    "\n",
    "window.mainloop()"
   ]
  },
  {
   "cell_type": "markdown",
   "metadata": {
    "hidden": true
   },
   "source": [
    "![img](03entry_text.png)"
   ]
  },
  {
   "cell_type": "markdown",
   "metadata": {
    "heading_collapsed": true
   },
   "source": [
    "# listbox"
   ]
  },
  {
   "cell_type": "markdown",
   "metadata": {
    "hidden": true
   },
   "source": [
    "Construct a ***listbox widget*** with the parent MASTER.\n",
    "\n",
    "Valid resource names: \n",
    "\n",
    "    background, bd, bg, borderwidth, cursor,\n",
    "    exportselection, fg, font, foreground, height, highlightbackground,\n",
    "    highlightcolor, highlightthickness, relief, selectbackground,\n",
    "    selectborderwidth, selectforeground, selectmode, setgrid, takefocus,\n",
    "    width, xscrollcommand, yscrollcommand, listvariable."
   ]
  },
  {
   "cell_type": "code",
   "execution_count": 17,
   "metadata": {
    "ExecuteTime": {
     "end_time": "2020-05-06T16:54:07.590663Z",
     "start_time": "2020-05-06T16:53:45.626782Z"
    },
    "hidden": true
   },
   "outputs": [
    {
     "name": "stdout",
     "output_type": "stream",
     "text": [
      "xyz\n",
      "1\n",
      "apple\n",
      "abc\n",
      "abc\n"
     ]
    }
   ],
   "source": [
    "import tkinter as tk\n",
    "\n",
    "window = tk.Tk()\n",
    "window.title('test')\n",
    "window.geometry('357x357')\n",
    "\n",
    "# create a label to show\n",
    "var = tk.StringVar()\n",
    "label = tk.Label(window, bg='yellow', width=4, textvariable=var)\n",
    "label.pack()\n",
    "\n",
    "# create listbox\n",
    "var_list = tk.StringVar()\n",
    "var_list.set((11, 22, 33, 44))  # default value of listbox\n",
    "listbox = tk.Listbox(window, listvariable=var_list)\n",
    "list_items = [1, 'banana', 'apple', 4]\n",
    "for i in list_items:   \n",
    "    listbox.insert('end', i)  # insert value at end\n",
    "listbox.insert(1, 'abc')  # insert index1 value\n",
    "listbox.insert(2, 'xyz') \n",
    "listbox.delete(5)  # delect index5 value\n",
    "listbox.pack()\n",
    "\n",
    "def print_selection():\n",
    "    value = listbox.get(listbox.curselection())\n",
    "    var.set(value)\n",
    "    print(var.get())\n",
    "    \n",
    "# create button\n",
    "button = tk.Button(window, text='print_selection', width=15,\n",
    "                   height=2, command=print_selection).pack()\n",
    "\n",
    "window.mainloop()"
   ]
  },
  {
   "cell_type": "markdown",
   "metadata": {
    "ExecuteTime": {
     "end_time": "2020-05-06T16:54:20.857765Z",
     "start_time": "2020-05-06T16:54:20.665278Z"
    },
    "hidden": true
   },
   "source": [
    "![img](04listbox.png)"
   ]
  },
  {
   "cell_type": "markdown",
   "metadata": {
    "heading_collapsed": true
   },
   "source": [
    "# radiobutton"
   ]
  },
  {
   "cell_type": "markdown",
   "metadata": {
    "hidden": true
   },
   "source": [
    "Construct a ***radiobutton widget*** with the parent MASTER.\n",
    "\n",
    "Valid resource names: \n",
    "\n",
    "    activebackground, activeforeground, anchor,\n",
    "    background, bd, bg, bitmap, borderwidth, command, cursor,\n",
    "    disabledforeground, fg, font, foreground, height,\n",
    "    highlightbackground, highlightcolor, highlightthickness, image,\n",
    "    indicatoron, justify, padx, pady, relief, selectcolor, selectimage,\n",
    "    state, takefocus, text, textvariable, underline, value, variable,\n",
    "    width, wraplength."
   ]
  },
  {
   "cell_type": "code",
   "execution_count": 20,
   "metadata": {
    "ExecuteTime": {
     "end_time": "2020-05-06T16:55:26.351208Z",
     "start_time": "2020-05-06T16:55:10.858425Z"
    },
    "hidden": true
   },
   "outputs": [
    {
     "name": "stdout",
     "output_type": "stream",
     "text": [
      "you have selected A\n",
      "you have selected B\n",
      "you have selected C\n",
      "you have selected B\n",
      "you have selected B\n",
      "you have selected A\n"
     ]
    }
   ],
   "source": [
    "import tkinter as tk\n",
    "\n",
    "window = tk.Tk()\n",
    "window.title('test')\n",
    "window.geometry('357x357')\n",
    "\n",
    "# create a label to show\n",
    "label = tk.Label(window, bg='yellow', width=20, text='empty')\n",
    "label.pack()\n",
    "\n",
    "\n",
    "def print_selection():\n",
    "    label.config(text='you have selected ' + var.get())\n",
    "    print('you have selected ' + var.get())\n",
    "\n",
    "\n",
    "# create radiobutton\n",
    "var = tk.StringVar()\n",
    "radiobutton1 = tk.Radiobutton(window,\n",
    "                             text='Option A',  # text show on interface\n",
    "                             variable=var,     # sent value 'A' to \n",
    "                             value='A',        # variable var\n",
    "                             command=print_selection).pack()\n",
    "# create radiobutton\n",
    "radiobutton2 = tk.Radiobutton(window,\n",
    "                             text='Option B',\n",
    "                             variable=var,\n",
    "                             value='B',\n",
    "                             command=print_selection).pack()\n",
    "# create radiobutton\n",
    "radiobutton3 = tk.Radiobutton(window,\n",
    "                             text='Option C',\n",
    "                             variable=var,\n",
    "                             value='C',\n",
    "                             command=print_selection).pack()\n",
    "\n",
    "window.mainloop()"
   ]
  },
  {
   "cell_type": "markdown",
   "metadata": {
    "hidden": true
   },
   "source": [
    "![img](05radiobutton.png)"
   ]
  },
  {
   "cell_type": "markdown",
   "metadata": {
    "heading_collapsed": true
   },
   "source": [
    "# scale"
   ]
  },
  {
   "cell_type": "markdown",
   "metadata": {
    "hidden": true
   },
   "source": [
    "Construct a ***scale widget*** with the parent MASTER.\n",
    "\n",
    "Valid resource names:\n",
    "\n",
    "    activebackground, background, bigincrement, bd,\n",
    "    bg, borderwidth, command, cursor, digits, fg, font, foreground, from,\n",
    "    highlightbackground, highlightcolor, highlightthickness, label,\n",
    "    length, orient, relief, repeatdelay, repeatinterval, resolution,\n",
    "    showvalue, sliderlength, sliderrelief, state, takefocus,\n",
    "    tickinterval, to, troughcolor, variable, width."
   ]
  },
  {
   "cell_type": "code",
   "execution_count": 21,
   "metadata": {
    "ExecuteTime": {
     "end_time": "2020-05-06T16:56:15.249911Z",
     "start_time": "2020-05-06T16:56:02.850075Z"
    },
    "hidden": true
   },
   "outputs": [
    {
     "name": "stdout",
     "output_type": "stream",
     "text": [
      "you have selected 5.12\n",
      "you have selected 14.88\n",
      "you have selected 25.00\n",
      "you have selected 24.88\n",
      "you have selected 21.67\n",
      "you have selected 19.05\n",
      "you have selected 16.67\n",
      "you have selected 14.64\n",
      "you have selected 12.86\n",
      "you have selected 11.67\n",
      "you have selected 11.55\n",
      "you have selected 11.67\n"
     ]
    }
   ],
   "source": [
    "import time\n",
    "import tkinter as tk\n",
    "\n",
    "window = tk.Tk()\n",
    "window.title('test')\n",
    "window.geometry('357x357')\n",
    "\n",
    "# create label\n",
    "label = tk.Label(window, bg='yellow', width=20, text='empty')\n",
    "label.pack()\n",
    "\n",
    "def print_selection(value):\n",
    "    label.config(text='you have selected ' + value)\n",
    "    print('you have selected ' + value)\n",
    "    time.sleep(0.15)  # time delay\n",
    "\n",
    "# create scale\n",
    "scale = tk.Scale(window,\n",
    "                 label='try me',\n",
    "                 from_=5,\n",
    "                 to=25,\n",
    "                 orient=tk.HORIZONTAL,      # scale bar orientation\n",
    "                 length=200,                # 200 pixel\n",
    "                 showvalue=True,               # show value above scale bar\n",
    "                 tickinterval=5,            # interval between start and end value\n",
    "                 resolution=0.01,           # round(number, ndigits=2)\n",
    "                 command=print_selection).pack()\n",
    "\n",
    "window.mainloop()"
   ]
  },
  {
   "cell_type": "markdown",
   "metadata": {
    "hidden": true
   },
   "source": [
    "![img](06scale.png)"
   ]
  },
  {
   "cell_type": "markdown",
   "metadata": {
    "heading_collapsed": true
   },
   "source": [
    "# checkbutton"
   ]
  },
  {
   "cell_type": "markdown",
   "metadata": {
    "hidden": true
   },
   "source": [
    "Construct a ***checkbutton widget*** with the parent MASTER.\n",
    "\n",
    "Valid resource names: \n",
    "\n",
    "    activebackground, activeforeground, anchor,\n",
    "    background, bd, bg, bitmap, borderwidth, command, cursor,\n",
    "    disabledforeground, fg, font, foreground, height,\n",
    "    highlightbackground, highlightcolor, highlightthickness, image,\n",
    "    indicatoron, justify, offvalue, onvalue, padx, pady, relief,\n",
    "    selectcolor, selectimage, state, takefocus, text, textvariable,\n",
    "    underline, variable, width, wraplength."
   ]
  },
  {
   "cell_type": "code",
   "execution_count": 22,
   "metadata": {
    "ExecuteTime": {
     "end_time": "2020-05-06T16:57:23.956359Z",
     "start_time": "2020-05-06T16:56:57.769890Z"
    },
    "code_folding": [],
    "hidden": true
   },
   "outputs": [
    {
     "name": "stdout",
     "output_type": "stream",
     "text": [
      "you have selected Python\n",
      "you have selected both\n",
      "you have selected Cython\n",
      "you have selected nothing\n",
      "you have selected Cython\n",
      "you have selected nothing\n",
      "you have selected Python\n"
     ]
    }
   ],
   "source": [
    "window = tk.Tk()\n",
    "window.title('test')\n",
    "window.geometry('357x357')\n",
    "\n",
    "# create label\n",
    "var = tk.StringVar().set('empty')\n",
    "# var\n",
    "label = tk.Label(window, bg='yellow', width=20, text='empty')\n",
    "label.pack()\n",
    "\n",
    "def print_selection():\n",
    "    if var1.get() == 1 and var2.get() == 0:\n",
    "        label.config(text='you have selected Python')\n",
    "        print('you have selected Python')\n",
    "    elif var1.get() == 0 and var2.get() == 1:\n",
    "        label.config(text='you have selected Cython')\n",
    "        print('you have selected Cython')\n",
    "    elif var1.get() == 0 and var2.get() == 0:\n",
    "        label.config(text='you have selected nothing')\n",
    "        print('you have selected nothing')\n",
    "    else:\n",
    "        label.config(text='you have selected both')\n",
    "        print('you have selected both')\n",
    "\n",
    "\n",
    "# create checkbutton\n",
    "var1 = tk.IntVar()\n",
    "checkbutton1 = tk.Checkbutton(window,\n",
    "                              text='Python',\n",
    "                              variable=var1,     # sent value to var1\n",
    "                              onvalue=1,         # tick\n",
    "                              offvalue=0,        # untick\n",
    "                              command=print_selection).pack()\n",
    "# create checkbutton\n",
    "var2 = tk.IntVar()\n",
    "checkbutton2 = tk.Checkbutton(window,\n",
    "                              text='Cython',\n",
    "                              variable=var2,\n",
    "                              onvalue=1,\n",
    "                              offvalue=0,\n",
    "                              command=print_selection).pack()\n",
    "\n",
    "window.mainloop()"
   ]
  },
  {
   "cell_type": "markdown",
   "metadata": {
    "ExecuteTime": {
     "end_time": "2020-05-06T16:57:26.565084Z",
     "start_time": "2020-05-06T16:57:26.362121Z"
    },
    "hidden": true
   },
   "source": [
    "![img](07checkbutton.png)"
   ]
  },
  {
   "cell_type": "markdown",
   "metadata": {
    "heading_collapsed": true
   },
   "source": [
    "# canvas"
   ]
  },
  {
   "cell_type": "markdown",
   "metadata": {
    "hidden": true
   },
   "source": [
    "Construct a ***canvas widget*** with the parent MASTER.\n",
    "\n",
    "Valid resource names: \n",
    "\n",
    "    background, bd, bg, borderwidth, closeenough,\n",
    "    confine, cursor, height, highlightbackground, highlightcolor,\n",
    "    highlightthickness, insertbackground, insertborderwidth,\n",
    "    insertofftime, insertontime, insertwidth, offset, relief,\n",
    "    scrollregion, selectbackground, selectborderwidth, selectforeground,\n",
    "    state, takefocus, width, xscrollcommand, xscrollincrement,\n",
    "    yscrollcommand, yscrollincrement.\n",
    "    \n",
    "anchor: \"n\", \"ne\", \"e\", \"se\", \"s\", \"sw\", \"w\", \"nw\", or \"center\" \n",
    "\n",
    "    n: North\n",
    "    e: East\n",
    "    s: South\n",
    "    w: West"
   ]
  },
  {
   "cell_type": "markdown",
   "metadata": {
    "hidden": true
   },
   "source": [
    "***tk.PhotoImage()***\n",
    "\n",
    "Create an image with NAME.\n",
    "\n",
    "Valid resource names: \n",
    "\n",
    "    data, format, file, gamma, height, palette, width."
   ]
  },
  {
   "cell_type": "code",
   "execution_count": 24,
   "metadata": {
    "ExecuteTime": {
     "end_time": "2020-05-06T16:58:21.524608Z",
     "start_time": "2020-05-06T16:57:55.738060Z"
    },
    "code_folding": [],
    "hidden": true
   },
   "outputs": [],
   "source": [
    "window = tk.Tk()\n",
    "window.title('test')\n",
    "window.geometry('357x357')\n",
    "\n",
    "# create canvas\n",
    "canvas = tk.Canvas(window, bg='blue', height=100, width=200)\n",
    "canvas.pack()\n",
    "\n",
    "# canvas input image\n",
    "image_file = tk.PhotoImage(file='ins.gif')  # parameter is \"file\", not \"name\"\n",
    "image = canvas.create_image(10,                # coordinate\n",
    "                            10,                # coordinate\n",
    "                            anchor='nw',       # set anchor position\n",
    "                            image=image_file)\n",
    "\n",
    "# canvas create line\n",
    "x0, y0, x1, y1 = 50, 50, 80, 80\n",
    "line = canvas.create_line(x0, y0, x1, y1)\n",
    "\n",
    "# canvas create oval\n",
    "oval = canvas.create_oval(x0, y0, x1, y1, fill='red')\n",
    "\n",
    "# canvas create arc shaped region\n",
    "arc = canvas.create_arc(x0+20, y0+20, x1+30, y1+30, start=0, extent=120)\n",
    "\n",
    "# canvasc create rectangle\n",
    "rect = canvas.create_rectangle(100, 30, 100+20, 30+20)\n",
    "\n",
    "# move the image\n",
    "def up(): canvas.move(image, 0, -2)\n",
    "up = tk.Button(window, text='up', command=up).pack()\n",
    "def down(): canvas.move(image, 0, 2)\n",
    "down = tk.Button(window, text='down', command=down).pack()\n",
    "def right(): canvas.move(image, 2, 0)\n",
    "right = tk.Button(window, text='right', command=right).pack()\n",
    "def left(): canvas.move(image, -2, 0)\n",
    "left = tk.Button(window, text='left', command=left).pack()\n",
    "\n",
    "window.mainloop()"
   ]
  },
  {
   "cell_type": "markdown",
   "metadata": {
    "hidden": true
   },
   "source": [
    "![img](08canvas.png)"
   ]
  },
  {
   "cell_type": "markdown",
   "metadata": {
    "ExecuteTime": {
     "end_time": "2020-05-06T15:06:31.846197Z",
     "start_time": "2020-05-06T15:06:21.812029Z"
    }
   },
   "source": [
    "# menubar"
   ]
  },
  {
   "cell_type": "markdown",
   "metadata": {},
   "source": [
    "Construct ***menu widget*** with the parent MASTER.\n",
    "\n",
    "Valid resource names: \n",
    "\n",
    "    activebackground, activeborderwidth,\n",
    "    activeforeground, background, bd, bg, borderwidth, cursor,\n",
    "    disabledforeground, fg, font, foreground, postcommand, relief,\n",
    "    selectcolor, takefocus, tearoff, tearoffcommand, title, type."
   ]
  },
  {
   "cell_type": "code",
   "execution_count": 1,
   "metadata": {
    "ExecuteTime": {
     "end_time": "2020-05-06T17:53:16.421739Z",
     "start_time": "2020-05-06T17:53:14.244871Z"
    }
   },
   "outputs": [],
   "source": [
    "import tkinter as tk\n",
    "\n",
    "window = tk.Tk()\n",
    "window.title('test')\n",
    "window.geometry('357x357')\n",
    "\n",
    "# create label\n",
    "label = tk.Label(window, bg='yellow', width=20, text='empty')\n",
    "label.pack()\n",
    "\n",
    "# create menubar\n",
    "menubar = tk.Menu(window)\n",
    "\n",
    "counter = 0\n",
    "def do_job():\n",
    "    global counter\n",
    "    label.config(text='counter: ' + str(counter))\n",
    "    counter += 1\n",
    "\n",
    "\n",
    "# create submenubar\n",
    "filemenu = tk.Menu(menubar, tearoff=0)  # let the menu can't pop out\n",
    "menubar.add_cascade(label='File', menu=filemenu)\n",
    "filemenu.add_command(label='New', command=do_job)\n",
    "filemenu.add_command(label='Open', command=do_job)\n",
    "filemenu.add_command(label='Save', command=do_job)\n",
    "filemenu.add_separator()  # seperator line\n",
    "filemenu.add_checkbutton(label='checkbutton1')\n",
    "filemenu.add_checkbutton(label='checkbutton2')\n",
    "filemenu.add_separator()  # seperator line\n",
    "filemenu.add_radiobutton(label='radiobutton1')\n",
    "filemenu.add_radiobutton(label='radiobutton2')\n",
    "filemenu.add_separator()  # seperator line\n",
    "filemenu.add_command(label='Exit', command=window.quit)  # close window\n",
    "\n",
    "# create submenubar at filemenu\n",
    "submenu = tk.Menu(filemenu, tearoff=0)\n",
    "filemenu.add_cascade(label='Submenu', menu=submenu)\n",
    "submenu.add_command(label=\"Submenu1\", command=do_job)\n",
    "\n",
    "# create submenubar\n",
    "editmenu = tk.Menu(menubar, tearoff=0)\n",
    "menubar.add_cascade(label='Edit', menu=editmenu)\n",
    "editmenu.add_command(label='Cut', command=do_job)\n",
    "editmenu.add_command(label='Copy', command=do_job)\n",
    "editmenu.add_command(label='Paste', command=do_job)\n",
    "\n",
    "window.config(menu=menubar)\n",
    "window.mainloop()"
   ]
  },
  {
   "cell_type": "markdown",
   "metadata": {},
   "source": [
    "![img](09menubar.png)"
   ]
  },
  {
   "cell_type": "code",
   "execution_count": null,
   "metadata": {},
   "outputs": [],
   "source": []
  }
 ],
 "metadata": {
  "kernelspec": {
   "display_name": "Python 3",
   "language": "python",
   "name": "python3"
  },
  "language_info": {
   "codemirror_mode": {
    "name": "ipython",
    "version": 3
   },
   "file_extension": ".py",
   "mimetype": "text/x-python",
   "name": "python",
   "nbconvert_exporter": "python",
   "pygments_lexer": "ipython3",
   "version": "3.7.4"
  },
  "toc": {
   "base_numbering": 1,
   "nav_menu": {},
   "number_sections": true,
   "sideBar": true,
   "skip_h1_title": false,
   "title_cell": "Table of Contents",
   "title_sidebar": "Contents",
   "toc_cell": false,
   "toc_position": {},
   "toc_section_display": true,
   "toc_window_display": false
  },
  "varInspector": {
   "cols": {
    "lenName": 16,
    "lenType": 16,
    "lenVar": 40
   },
   "kernels_config": {
    "python": {
     "delete_cmd_postfix": "",
     "delete_cmd_prefix": "del ",
     "library": "var_list.py",
     "varRefreshCmd": "print(var_dic_list())"
    },
    "r": {
     "delete_cmd_postfix": ") ",
     "delete_cmd_prefix": "rm(",
     "library": "var_list.r",
     "varRefreshCmd": "cat(var_dic_list()) "
    }
   },
   "types_to_exclude": [
    "module",
    "function",
    "builtin_function_or_method",
    "instance",
    "_Feature"
   ],
   "window_display": false
  }
 },
 "nbformat": 4,
 "nbformat_minor": 4
}
