{
 "cells": [
  {
   "cell_type": "code",
   "execution_count": 1,
   "metadata": {
    "ExecuteTime": {
     "end_time": "2020-05-03T15:52:20.313638Z",
     "start_time": "2020-05-03T15:52:20.300623Z"
    }
   },
   "outputs": [],
   "source": [
    "import tkinter as tk"
   ]
  },
  {
   "cell_type": "markdown",
   "metadata": {
    "ExecuteTime": {
     "end_time": "2020-05-03T12:24:18.131160Z",
     "start_time": "2020-05-03T12:24:18.128137Z"
    }
   },
   "source": [
    "# hello world"
   ]
  },
  {
   "cell_type": "code",
   "execution_count": 2,
   "metadata": {
    "ExecuteTime": {
     "end_time": "2020-05-03T15:52:25.535340Z",
     "start_time": "2020-05-03T15:52:22.737531Z"
    }
   },
   "outputs": [],
   "source": [
    "window = tk.Tk()\n",
    "window.title('hello world')\n",
    "window.geometry('357x357')\n",
    "\n",
    "window.mainloop()"
   ]
  },
  {
   "cell_type": "markdown",
   "metadata": {},
   "source": [
    "# label, buttom"
   ]
  },
  {
   "cell_type": "markdown",
   "metadata": {
    "ExecuteTime": {
     "end_time": "2020-05-03T12:23:41.821752Z",
     "start_time": "2020-05-03T12:23:41.816767Z"
    }
   },
   "source": [
    "Construct a button widget with the parent MASTER.\n",
    "\n",
    "STANDARD OPTIONS\n",
    "\n",
    "    activebackground, activeforeground, anchor,\n",
    "    background, bitmap, borderwidth, cursor,\n",
    "    disabledforeground, font, foreground\n",
    "    highlightbackground, highlightcolor,\n",
    "    highlightthickness, image, justify,\n",
    "    padx, pady, relief, repeatdelay,\n",
    "    repeatinterval, takefocus, text,\n",
    "    textvariable, underline, wraplength\n",
    "\n",
    "WIDGET-SPECIFIC OPTIONS\n",
    "\n",
    "    command, compound, default, height,\n",
    "    overrelief, state, width"
   ]
  },
  {
   "cell_type": "code",
   "execution_count": 3,
   "metadata": {
    "ExecuteTime": {
     "end_time": "2020-05-03T15:52:28.364123Z",
     "start_time": "2020-05-03T15:52:27.154313Z"
    },
    "code_folding": []
   },
   "outputs": [],
   "source": [
    "window = tk.Tk()\n",
    "\n",
    "window.title('hello world')\n",
    "window.geometry('357x357')\n",
    "\n",
    "label_pack = {\n",
    "    'text': 'hello',\n",
    "    'bg': 'yellow',\n",
    "    'font': ('Arial, 18'),\n",
    "    'width': 15,\n",
    "    'height': 2\n",
    "}\n",
    "label = tk.Label(window, label_pack)\n",
    "label.pack()\n",
    "\n",
    "button = tk.Button(window, text='click', width=15, height=2)\n",
    "button.pack()\n",
    "\n",
    "window.mainloop()"
   ]
  },
  {
   "cell_type": "markdown",
   "metadata": {
    "heading_collapsed": true
   },
   "source": [
    "## click"
   ]
  },
  {
   "cell_type": "code",
   "execution_count": 36,
   "metadata": {
    "ExecuteTime": {
     "end_time": "2020-05-03T12:36:38.390641Z",
     "start_time": "2020-05-03T12:36:24.936789Z"
    },
    "code_folding": [],
    "hidden": true
   },
   "outputs": [],
   "source": [
    "window = tk.Tk()\n",
    "window.title('hello world')\n",
    "window.geometry('357x357')\n",
    "\n",
    "# label\n",
    "var = tk.StringVar()\n",
    "var.set('hello')\n",
    "label = tk.Label(window,\n",
    "                 textvariable=var,\n",
    "                 bg='yellow',\n",
    "                 font=('Arial', 18),\n",
    "                 width=15,\n",
    "                 height=2)\n",
    "label.pack()\n",
    "\n",
    "# buttom\n",
    "on_hit = False\n",
    "\n",
    "\n",
    "def hit_me():\n",
    "    global on_hit  # would raise error, if don't have this line\n",
    "    if on_hit == False:\n",
    "        on_hit = True\n",
    "        var.set('you click')\n",
    "    else:\n",
    "        on_hit = False\n",
    "        var.set('hello')\n",
    "\n",
    "\n",
    "button = tk.Button(window, text='click', command=hit_me, width=15, height=2)\n",
    "button.pack()\n",
    "\n",
    "window.mainloop()"
   ]
  },
  {
   "cell_type": "markdown",
   "metadata": {},
   "source": [
    "# input text"
   ]
  },
  {
   "cell_type": "code",
   "execution_count": 4,
   "metadata": {
    "ExecuteTime": {
     "end_time": "2020-05-03T15:53:55.847076Z",
     "start_time": "2020-05-03T15:52:30.314546Z"
    }
   },
   "outputs": [],
   "source": [
    "window = tk.Tk()\n",
    "window.title('hello world')\n",
    "window.geometry('357x357')\n",
    "\n",
    "entry = tk.Entry(window, show='*')\n",
    "entry.pack()\n",
    "\n",
    "def insert_point():\n",
    "    var = entry.get()\n",
    "    text.insert('insert', var)  # (插入位置, 變數)\n",
    "\n",
    "def insert_end():\n",
    "    var = entry.get()\n",
    "    text.insert('end', var)\n",
    "\n",
    "button1 = tk.Button(window, text='insert_at_mouse', command=insert_point, width=15, height=2)\n",
    "button1.pack()\n",
    "button2 = tk.Button(window, text='insert_at_end', command=insert_end, width=15, height=2)\n",
    "button2.pack()\n",
    "\n",
    "text = tk.Text(window, height=2)\n",
    "text.pack()\n",
    "\n",
    "window.mainloop()"
   ]
  },
  {
   "cell_type": "code",
   "execution_count": null,
   "metadata": {
    "ExecuteTime": {
     "start_time": "2020-05-03T15:52:08.968Z"
    }
   },
   "outputs": [],
   "source": [
    "text"
   ]
  }
 ],
 "metadata": {
  "kernelspec": {
   "display_name": "Python 3",
   "language": "python",
   "name": "python3"
  },
  "toc": {
   "base_numbering": 1,
   "nav_menu": {},
   "number_sections": true,
   "sideBar": true,
   "skip_h1_title": false,
   "title_cell": "Table of Contents",
   "title_sidebar": "Contents",
   "toc_cell": false,
   "toc_position": {},
   "toc_section_display": true,
   "toc_window_display": false
  },
  "varInspector": {
   "cols": {
    "lenName": 16,
    "lenType": 16,
    "lenVar": 40
   },
   "kernels_config": {
    "python": {
     "delete_cmd_postfix": "",
     "delete_cmd_prefix": "del ",
     "library": "var_list.py",
     "varRefreshCmd": "print(var_dic_list())"
    },
    "r": {
     "delete_cmd_postfix": ") ",
     "delete_cmd_prefix": "rm(",
     "library": "var_list.r",
     "varRefreshCmd": "cat(var_dic_list()) "
    }
   },
   "types_to_exclude": [
    "module",
    "function",
    "builtin_function_or_method",
    "instance",
    "_Feature"
   ],
   "window_display": false
  }
 },
 "nbformat": 4,
 "nbformat_minor": 4
}
