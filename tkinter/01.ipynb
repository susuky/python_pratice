{
 "cells": [
  {
   "cell_type": "markdown",
   "metadata": {
    "ExecuteTime": {
     "end_time": "2020-05-06T11:58:51.727664Z",
     "start_time": "2020-05-06T11:58:51.722713Z"
    }
   },
   "source": [
    "code modified from this [website](https://morvanzhou.github.io/)"
   ]
  },
  {
   "cell_type": "code",
   "execution_count": 1,
   "metadata": {
    "ExecuteTime": {
     "end_time": "2020-05-06T10:42:34.018153Z",
     "start_time": "2020-05-06T10:42:33.964272Z"
    }
   },
   "outputs": [],
   "source": [
    "import tkinter as tk"
   ]
  },
  {
   "cell_type": "markdown",
   "metadata": {
    "ExecuteTime": {
     "end_time": "2020-05-03T12:24:18.131160Z",
     "start_time": "2020-05-03T12:24:18.128137Z"
    },
    "heading_collapsed": true
   },
   "source": [
    "# hello world"
   ]
  },
  {
   "cell_type": "code",
   "execution_count": 2,
   "metadata": {
    "ExecuteTime": {
     "end_time": "2020-05-06T10:42:42.252556Z",
     "start_time": "2020-05-06T10:42:40.160257Z"
    },
    "hidden": true
   },
   "outputs": [],
   "source": [
    "import tkinter as tk\n",
    "window = tk.Tk()\n",
    "window.title('hello world')\n",
    "window.geometry('357x357')\n",
    "\n",
    "window.mainloop()"
   ]
  },
  {
   "cell_type": "markdown",
   "metadata": {
    "heading_collapsed": true
   },
   "source": [
    "# label, buttom"
   ]
  },
  {
   "cell_type": "markdown",
   "metadata": {
    "ExecuteTime": {
     "end_time": "2020-05-03T12:23:41.821752Z",
     "start_time": "2020-05-03T12:23:41.816767Z"
    },
    "hidden": true
   },
   "source": [
    "Construct a button widget with the parent MASTER.\n",
    "\n",
    "STANDARD OPTIONS\n",
    "\n",
    "    activebackground, activeforeground, anchor,\n",
    "    background, bitmap, borderwidth, cursor,\n",
    "    disabledforeground, font, foreground\n",
    "    highlightbackground, highlightcolor,\n",
    "    highlightthickness, image, justify,\n",
    "    padx, pady, relief, repeatdelay,\n",
    "    repeatinterval, takefocus, text,\n",
    "    textvariable, underline, wraplength\n",
    "\n",
    "WIDGET-SPECIFIC OPTIONS\n",
    "\n",
    "    command, compound, default, height,\n",
    "    overrelief, state, width"
   ]
  },
  {
   "cell_type": "markdown",
   "metadata": {
    "hidden": true
   },
   "source": [
    "## framework"
   ]
  },
  {
   "cell_type": "code",
   "execution_count": 3,
   "metadata": {
    "ExecuteTime": {
     "end_time": "2020-05-06T10:43:55.261680Z",
     "start_time": "2020-05-06T10:43:52.849855Z"
    },
    "code_folding": [],
    "hidden": true
   },
   "outputs": [],
   "source": [
    "import tkinter as tk\n",
    "\n",
    "window = tk.Tk()\n",
    "\n",
    "window.title('hello world')\n",
    "window.geometry('357x357')\n",
    "\n",
    "label_pack = {\n",
    "    'text': 'hello',\n",
    "    'bg': 'yellow',\n",
    "    'font': ('Arial, 18'),\n",
    "    'width': 15,\n",
    "    'height': 2\n",
    "}\n",
    "label = tk.Label(window, label_pack)\n",
    "label.pack()\n",
    "\n",
    "button = tk.Button(window, text='click', width=15, height=2)\n",
    "button.pack()\n",
    "\n",
    "window.mainloop()"
   ]
  },
  {
   "cell_type": "markdown",
   "metadata": {
    "heading_collapsed": true,
    "hidden": true
   },
   "source": [
    "## click"
   ]
  },
  {
   "cell_type": "code",
   "execution_count": 20,
   "metadata": {
    "ExecuteTime": {
     "end_time": "2020-05-06T10:50:24.503089Z",
     "start_time": "2020-05-06T10:50:22.288042Z"
    },
    "code_folding": [],
    "hidden": true
   },
   "outputs": [],
   "source": [
    "import tkinter as tk\n",
    "\n",
    "window = tk.Tk()\n",
    "window.title('hello world')\n",
    "window.geometry('357x357')\n",
    "\n",
    "# label\n",
    "var = tk.StringVar(window)\n",
    "var.set('hello')\n",
    "label = tk.Label(window,\n",
    "                 # text='123',  # is needless here\n",
    "                 textvariable=var,\n",
    "                 bg='yellow',\n",
    "                 font=('Arial', 18),\n",
    "                 width=15,\n",
    "                 height=2)\n",
    "label.pack()\n",
    "\n",
    "# buttom\n",
    "on_hit = False\n",
    "\n",
    "\n",
    "def hit_me():\n",
    "    global on_hit  # would raise error, if don't have this line\n",
    "\n",
    "    if on_hit == False:\n",
    "        on_hit = True\n",
    "        var.set('you click')\n",
    "\n",
    "    else:\n",
    "        on_hit = False    \n",
    "        var.set('hello')\n",
    "\n",
    "\n",
    "button = tk.Button(window, text='click', command=hit_me, width=15, height=2)\n",
    "button.pack()\n",
    "\n",
    "window.mainloop()"
   ]
  },
  {
   "cell_type": "markdown",
   "metadata": {
    "heading_collapsed": true
   },
   "source": [
    "# input text"
   ]
  },
  {
   "cell_type": "code",
   "execution_count": 22,
   "metadata": {
    "ExecuteTime": {
     "end_time": "2020-05-06T10:55:51.013073Z",
     "start_time": "2020-05-06T10:55:48.441430Z"
    },
    "hidden": true
   },
   "outputs": [],
   "source": [
    "import tkinter as tk\n",
    "\n",
    "window = tk.Tk()\n",
    "window.title('hello world')\n",
    "window.geometry('357x357')\n",
    "\n",
    "entry = tk.Entry(window, show='*')  # user's input would show in '*'\n",
    "entry.pack()\n",
    "\n",
    "\n",
    "def insert_point():\n",
    "    var = entry.get()  # Return the text from entry\n",
    "    text.insert('insert', var)  # (insert position, variable)\n",
    "\n",
    "\n",
    "def insert_end():\n",
    "    var = entry.get()\n",
    "    text.insert('end', var)  # (insert position, variable)\n",
    "\n",
    "\n",
    "button1 = tk.Button(window,\n",
    "                    text='insert_at_mouse',\n",
    "                    command=insert_point,\n",
    "                    width=15,\n",
    "                    height=2)\n",
    "button1.pack()\n",
    "button2 = tk.Button(window,\n",
    "                    text='insert_at_end',\n",
    "                    command=insert_end,\n",
    "                    width=15,\n",
    "                    height=2)\n",
    "button2.pack()\n",
    "\n",
    "text = tk.Text(window, height=2)\n",
    "text.pack()\n",
    "\n",
    "window.mainloop()"
   ]
  },
  {
   "cell_type": "markdown",
   "metadata": {
    "heading_collapsed": true
   },
   "source": [
    "# listbox"
   ]
  },
  {
   "cell_type": "markdown",
   "metadata": {
    "hidden": true
   },
   "source": [
    "select value list on the interface"
   ]
  },
  {
   "cell_type": "code",
   "execution_count": 3,
   "metadata": {
    "ExecuteTime": {
     "end_time": "2020-05-06T12:14:17.231589Z",
     "start_time": "2020-05-06T12:14:11.474854Z"
    },
    "hidden": true
   },
   "outputs": [
    {
     "name": "stdout",
     "output_type": "stream",
     "text": [
      "banana\n",
      "33\n",
      "xyz\n"
     ]
    }
   ],
   "source": [
    "import tkinter as tk\n",
    "\n",
    "window = tk.Tk()\n",
    "window.title('test')\n",
    "window.geometry('357x357')\n",
    "\n",
    "# create a label to show\n",
    "var = tk.StringVar()\n",
    "label = tk.Label(window, bg='yellow', width=4, textvariable=var)\n",
    "label.pack()\n",
    "\n",
    "# create listbox\n",
    "var_list = tk.StringVar()\n",
    "var_list.set((11, 22, 33, 44))  # default value of listbox\n",
    "listbox = tk.Listbox(window, listvariable=var_list)\n",
    "list_items = [1, 'banana', 'apple', 4]\n",
    "for i in list_items:   \n",
    "    listbox.insert('end', i)  # insert value at end\n",
    "listbox.insert(1, 'abc')  # insert index1 value\n",
    "listbox.insert(2, 'xyz') \n",
    "listbox.delete(5)  # delect index5 value\n",
    "listbox.pack()\n",
    "\n",
    "def print_selection():\n",
    "    value = listbox.get(listbox.curselection())\n",
    "    var.set(value)\n",
    "    print(var.get())\n",
    "    \n",
    "# create button\n",
    "button = tk.Button(window, text='print_selection', width=15,\n",
    "                   height=2, command=print_selection)\n",
    "button.pack()\n",
    "window.mainloop()"
   ]
  },
  {
   "cell_type": "markdown",
   "metadata": {},
   "source": [
    "# radiobutton"
   ]
  },
  {
   "cell_type": "code",
   "execution_count": 15,
   "metadata": {
    "ExecuteTime": {
     "end_time": "2020-05-06T12:22:42.202640Z",
     "start_time": "2020-05-06T12:22:35.692858Z"
    }
   },
   "outputs": [
    {
     "name": "stdout",
     "output_type": "stream",
     "text": [
      "you have selected A\n",
      "you have selected A\n",
      "you have selected A\n",
      "you have selected C\n",
      "you have selected B\n",
      "you have selected C\n"
     ]
    }
   ],
   "source": [
    "import tkinter as tk\n",
    "\n",
    "window = tk.Tk()\n",
    "window.title('test')\n",
    "window.geometry('357x357')\n",
    "\n",
    "# create a label to show\n",
    "var = tk.StringVar()\n",
    "label = tk.Label(window, bg='yellow', width=20, text='empty')\n",
    "label.pack()\n",
    "\n",
    "\n",
    "def print_selection():\n",
    "    label.config(text='you have selected ' + var.get())\n",
    "    print('you have selected ' + var.get())\n",
    "\n",
    "\n",
    "# create radiobutton\n",
    "radiobutton = tk.Radiobutton(window,\n",
    "                             text='Option A',  # text show on interface\n",
    "                             variable=var,     # sent value 'A' to \n",
    "                             value='A',        # variable var\n",
    "                             command=print_selection)\n",
    "radiobutton.pack()\n",
    "# create radiobutton\n",
    "radiobutton = tk.Radiobutton(window,\n",
    "                             text='Option B',\n",
    "                             variable=var,\n",
    "                             value='B',\n",
    "                             command=print_selection)\n",
    "radiobutton.pack()\n",
    "# create radiobutton\n",
    "radiobutton = tk.Radiobutton(window,\n",
    "                             text='Option C',\n",
    "                             variable=var,\n",
    "                             value='C',\n",
    "                             command=print_selection)\n",
    "radiobutton.pack()\n",
    "\n",
    "window.mainloop()"
   ]
  },
  {
   "cell_type": "markdown",
   "metadata": {},
   "source": [
    "# scale"
   ]
  },
  {
   "cell_type": "code",
   "execution_count": null,
   "metadata": {},
   "outputs": [],
   "source": [
    "import tkinter as tk\n",
    "\n",
    "window = tk.Tk()\n",
    "window.title('test')\n",
    "window.geometry('357x357')"
   ]
  }
 ],
 "metadata": {
  "kernelspec": {
   "display_name": "Python 3",
   "language": "python",
   "name": "python3"
  },
  "language_info": {
   "codemirror_mode": {
    "name": "ipython",
    "version": 3
   },
   "file_extension": ".py",
   "mimetype": "text/x-python",
   "name": "python",
   "nbconvert_exporter": "python",
   "pygments_lexer": "ipython3",
   "version": "3.7.4"
  },
  "toc": {
   "base_numbering": 1,
   "nav_menu": {},
   "number_sections": true,
   "sideBar": true,
   "skip_h1_title": false,
   "title_cell": "Table of Contents",
   "title_sidebar": "Contents",
   "toc_cell": false,
   "toc_position": {},
   "toc_section_display": true,
   "toc_window_display": false
  },
  "varInspector": {
   "cols": {
    "lenName": 16,
    "lenType": 16,
    "lenVar": 40
   },
   "kernels_config": {
    "python": {
     "delete_cmd_postfix": "",
     "delete_cmd_prefix": "del ",
     "library": "var_list.py",
     "varRefreshCmd": "print(var_dic_list())"
    },
    "r": {
     "delete_cmd_postfix": ") ",
     "delete_cmd_prefix": "rm(",
     "library": "var_list.r",
     "varRefreshCmd": "cat(var_dic_list()) "
    }
   },
   "types_to_exclude": [
    "module",
    "function",
    "builtin_function_or_method",
    "instance",
    "_Feature"
   ],
   "window_display": false
  }
 },
 "nbformat": 4,
 "nbformat_minor": 4
}
