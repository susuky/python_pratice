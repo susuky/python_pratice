{
 "cells": [
  {
   "cell_type": "code",
   "execution_count": 24,
   "metadata": {
    "ExecuteTime": {
     "end_time": "2021-07-21T13:49:28.076229Z",
     "start_time": "2021-07-21T13:49:27.852021Z"
    }
   },
   "outputs": [],
   "source": [
    "import sys\n",
    "sys.path.append('../input/callbacks')\n",
    "\n",
    "from callbacks import *"
   ]
  },
  {
   "cell_type": "code",
   "execution_count": 25,
   "metadata": {
    "ExecuteTime": {
     "end_time": "2021-07-21T13:49:32.916219Z",
     "start_time": "2021-07-21T13:49:28.383723Z"
    },
    "code_folding": [
     0,
     32
    ]
   },
   "outputs": [
    {
     "data": {
      "text/plain": [
       "'1.9.0+cu102'"
      ]
     },
     "execution_count": 25,
     "metadata": {},
     "output_type": "execute_result"
    }
   ],
   "source": [
    "# lib\n",
    "import os\n",
    "import gc\n",
    "import random\n",
    "import math\n",
    "import time\n",
    "import matplotlib.pyplot as plt\n",
    "import numpy as np\n",
    "import pandas as pd\n",
    "import seaborn as sns\n",
    "\n",
    "from typing import Callable, List, Union\n",
    "\n",
    "from fastprogress import master_bar, progress_bar\n",
    "from sklearn.metrics import confusion_matrix, roc_auc_score\n",
    "from sklearn.model_selection import StratifiedKFold, GroupKFold, KFold\n",
    "from torch.utils.data import DataLoader, Dataset\n",
    "from transformers import AutoTokenizer, AutoModel, AutoConfig, AdamW\n",
    "\n",
    "import torch\n",
    "import torch.nn as nn\n",
    "import torch.nn.functional as F\n",
    "import transformers\n",
    "\n",
    "\n",
    "import warnings\n",
    "warnings.filterwarnings(\"ignore\")\n",
    "\n",
    "if not os.path.exists('models'):\n",
    "    os.mkdir('models')\n",
    "\n",
    "\n",
    "def seed_everything(seed=777):\n",
    "    random.seed(seed)\n",
    "    os.environ['PYTHONHASHSEED'] = str(seed)\n",
    "    np.random.seed(seed)\n",
    "\n",
    "    torch.manual_seed(seed)\n",
    "    if torch.cuda.is_available():\n",
    "        torch.cuda.manual_seed(seed)\n",
    "        torch.cuda.manual_seed_all(seed)\n",
    "    torch.backends.cudnn.deterministic = True\n",
    "\n",
    "\n",
    "SEED = 777\n",
    "seed_everything(SEED)\n",
    "\n",
    "torch.__version__"
   ]
  },
  {
   "cell_type": "code",
   "execution_count": 26,
   "metadata": {
    "ExecuteTime": {
     "end_time": "2021-07-21T13:49:33.170653Z",
     "start_time": "2021-07-21T13:49:33.121552Z"
    }
   },
   "outputs": [],
   "source": [
    "data_path = '../input/commonlitreadabilityprize/'\n",
    "\n",
    "trn_df = pd.read_csv(data_path + 'train.csv')\n",
    "test_df = pd.read_csv(data_path + 'test.csv')\n",
    "sub_df = pd.read_csv(data_path + 'sample_submission.csv')"
   ]
  },
  {
   "cell_type": "code",
   "execution_count": 27,
   "metadata": {
    "ExecuteTime": {
     "end_time": "2021-07-21T13:49:33.710762Z",
     "start_time": "2021-07-21T13:49:33.707290Z"
    }
   },
   "outputs": [],
   "source": [
    "def rmse(preds, ys): return ((preds - ys) ** 2).mean() ** 0.5\n",
    "def mse(preds, ys): return ((preds - ys) ** 2).mean()"
   ]
  },
  {
   "cell_type": "markdown",
   "metadata": {},
   "source": [
    "# config"
   ]
  },
  {
   "cell_type": "code",
   "execution_count": 28,
   "metadata": {
    "ExecuteTime": {
     "end_time": "2021-07-21T13:49:34.274703Z",
     "start_time": "2021-07-21T13:49:34.268787Z"
    },
    "code_folding": []
   },
   "outputs": [],
   "source": [
    "class CFG:\n",
    "    debug: bool = False\n",
    "        \n",
    "    seed = SEED\n",
    "\n",
    "    # device\n",
    "    #device:torch.device = torch.device('cpu')\n",
    "    device: torch.device = torch.device('cuda:0')\n",
    "\n",
    "    # data set\n",
    "    bs: int = 4\n",
    "    num_workers: int = 0\n",
    "\n",
    "    # model\n",
    "    model_name = 'roberta-base'\n",
    "    store_name = 'roberta-base'\n",
    "    epochs: int = 5\n",
    "\n",
    "    # gradient\n",
    "    iters_to_accumulate: int = 16\n",
    "    max_grad_norm: float = .5\n",
    "    loss_func = None\n",
    "    metric_funcs: List[Union[Callable, None]] = []\n",
    "\n",
    "    # optimizer\n",
    "    lr: int = 2e-5\n",
    "    lrs: float = [lr, lr*2, lr*5, lr*10]  # 4 groups\n",
    "    wd: float = 1e-2\n",
    "    step_size = 4\n",
    "    \n",
    "    nfolds = 5\n",
    "        \n",
    "    # tokenizer\n",
    "    max_len = 256\n",
    "\n",
    "\n",
    "cfg = CFG()\n",
    "cfg.metric_funcs += [rmse, mse]\n",
    "cfg.loss_func = nn.MSELoss()"
   ]
  },
  {
   "cell_type": "code",
   "execution_count": 29,
   "metadata": {
    "ExecuteTime": {
     "end_time": "2021-07-21T13:49:34.282142Z",
     "start_time": "2021-07-21T13:49:34.278670Z"
    }
   },
   "outputs": [],
   "source": [
    "if cfg.debug:\n",
    "    trn_df = trn_df.sample(frac=0.30).reset_index()\n",
    "    warnings.filterwarnings('always')\n",
    "    pass"
   ]
  },
  {
   "cell_type": "code",
   "execution_count": 30,
   "metadata": {
    "ExecuteTime": {
     "end_time": "2021-07-21T13:49:35.092128Z",
     "start_time": "2021-07-21T13:49:34.943796Z"
    }
   },
   "outputs": [
    {
     "data": {
      "text/plain": [
       "<matplotlib.axes._subplots.AxesSubplot at 0x17cd0d0fe08>"
      ]
     },
     "execution_count": 30,
     "metadata": {},
     "output_type": "execute_result"
    },
    {
     "data": {
      "image/png": "[encoded data removed]",
      "text/plain": [
       "<Figure size 432x288 with 1 Axes>"
      ]
     },
     "metadata": {
      "needs_background": "light"
     },
     "output_type": "display_data"
    }
   ],
   "source": [
    "bins = round(1 + np.log2(len(trn_df)))\n",
    "trn_df['bins'] = pd.cut(trn_df.target, bins, labels=False)\n",
    "\n",
    "sns.countplot(trn_df['bins'], color='C0')"
   ]
  },
  {
   "cell_type": "code",
   "execution_count": 31,
   "metadata": {
    "ExecuteTime": {
     "end_time": "2021-07-21T13:49:36.239817Z",
     "start_time": "2021-07-21T13:49:36.225929Z"
    }
   },
   "outputs": [],
   "source": [
    "trn_df['fold'] = -1\n",
    "#skf = StratifiedKFold(5, shuffle=True, random_state=cfg.seed)\n",
    "\n",
    "skf = KFold(5, shuffle=True, random_state=cfg.seed)\n",
    "for fold, (trn_idx, val_idx) in enumerate(skf.split(trn_df, y=trn_df.bins), 1):\n",
    "    trn_df.loc[val_idx, 'fold'] = fold"
   ]
  },
  {
   "cell_type": "markdown",
   "metadata": {},
   "source": [
    "# dataset"
   ]
  },
  {
   "cell_type": "code",
   "execution_count": 32,
   "metadata": {
    "ExecuteTime": {
     "end_time": "2021-07-21T13:49:37.521986Z",
     "start_time": "2021-07-21T13:49:37.518526Z"
    }
   },
   "outputs": [],
   "source": [
    "class DataLoaders:\n",
    "    def __init__(self, *dls): self.train, self.valid = dls"
   ]
  },
  {
   "cell_type": "code",
   "execution_count": 33,
   "metadata": {
    "ExecuteTime": {
     "end_time": "2021-07-21T13:49:38.070022Z",
     "start_time": "2021-07-21T13:49:38.062582Z"
    },
    "code_folding": [
     0,
     25
    ]
   },
   "outputs": [],
   "source": [
    "class BERTDataSet(Dataset):\n",
    "    def __init__(self, df, tokenizer):\n",
    "        self.encodeds = tokenizer.batch_encode_plus(\n",
    "            df.excerpt.tolist(),\n",
    "            add_special_tokens=True,  # <s> and </s>\n",
    "            max_length=cfg.max_len,          # default 512 for bert\n",
    "            padding='max_length',    # padding  <pad>\n",
    "            truncation=True,         # cut if length > max length\n",
    "           \n",
    "        )\n",
    "        self.targets = df.target.values[:, None]\n",
    "\n",
    "    def __len__(self):\n",
    "        return len(self.targets)\n",
    "\n",
    "    def __getitem__(self, idx):\n",
    "\n",
    "        ids = torch.tensor(self.encodeds['input_ids'][idx], dtype=torch.long)\n",
    "        mask = torch.tensor(self.encodeds['attention_mask'][idx], dtype=torch.long)\n",
    "\n",
    "        target = torch.tensor(self.targets[idx], dtype=torch.float)\n",
    "\n",
    "        return [ids, mask], target\n",
    "    \n",
    "    \n",
    "if cfg.debug:\n",
    "    tokenizer = AutoTokenizer.from_pretrained(cfg.model_name)\n",
    "    trn_ds = BERTDataSet(trn_df, tokenizer)\n",
    "    trn_dl = DataLoader(trn_ds,\n",
    "                        batch_size=cfg.bs,\n",
    "                        shuffle=True,\n",
    "                        num_workers=cfg.num_workers,\n",
    "                        pin_memory=True)\n",
    "    print(len(trn_ds))\n",
    "    for x in trn_dl:\n",
    "        print(x)\n",
    "        break"
   ]
  },
  {
   "cell_type": "markdown",
   "metadata": {},
   "source": [
    "# model"
   ]
  },
  {
   "cell_type": "code",
   "execution_count": 34,
   "metadata": {
    "ExecuteTime": {
     "end_time": "2021-07-21T13:49:40.067872Z",
     "start_time": "2021-07-21T13:49:40.059442Z"
    },
    "code_folding": [
     0
    ],
    "scrolled": false
   },
   "outputs": [],
   "source": [
    "class AttentionHead(nn.Module):\n",
    "    def __init__(self, in_size=768, h_size=512, o_size=1):\n",
    "        super().__init__()\n",
    "        self.attention = nn.Sequential(\n",
    "            nn.Linear(in_size, h_size), \n",
    "            nn.Tanh(),  \n",
    "            nn.Linear(h_size, o_size), \n",
    "            nn.Softmax(dim=1)\n",
    "        )\n",
    "        #self.linear = nn.Linear(in_size, o_size)\n",
    "        \n",
    "    def forward(self, features):\n",
    "        out = self.attention(features) * features\n",
    "        # (bs, lens, 768) to (bs, 768)\n",
    "        out = torch.sum(out, dim=1)\n",
    "        #out = self.linear(out)\n",
    "        return out\n",
    "    \n",
    "    \n",
    "class CLPRModel(nn.Module):\n",
    "    def __init__(self, model_name):\n",
    "        super(CLPRModel, self).__init__()\n",
    "        self.config = AutoConfig.from_pretrained(model_name)\n",
    "        self.config.layer_norm_eps = 1e-7\n",
    "        self.config.hidden_dropout_prob = 0.0\n",
    "        self.transformer = AutoModel.from_pretrained(model_name, self.config)\n",
    "        \n",
    "        self.hidden_size = self.config.hidden_size\n",
    "        self.attention = AttentionHead(in_size=self.hidden_size)\n",
    "        self.head = nn.Linear(self.hidden_size, 1)\n",
    "        \n",
    "    #def forward(self, input_id, attention_mask):\n",
    "    def forward(self, x):\n",
    "        #out = self.transformer(input_id, attention_mask)['last_hidden_state']\n",
    "        out = self.transformer(*x)['last_hidden_state']\n",
    "        out = self.attention(out)\n",
    "        out = self.head(out)\n",
    "        return out\n",
    "    \n",
    "if cfg.debug:\n",
    "    model = CLPRModel(cfg.model_name)\n",
    "    preds = model(x[0])\n",
    "    print(preds.shape)"
   ]
  },
  {
   "cell_type": "markdown",
   "metadata": {},
   "source": [
    "# optimizer"
   ]
  },
  {
   "cell_type": "code",
   "execution_count": 35,
   "metadata": {
    "ExecuteTime": {
     "end_time": "2021-07-21T13:49:56.631397Z",
     "start_time": "2021-07-21T13:49:42.560581Z"
    },
    "code_folding": [
     0
    ]
   },
   "outputs": [
    {
     "name": "stderr",
     "output_type": "stream",
     "text": [
      "Some weights of the model checkpoint at roberta-base were not used when initializing RobertaModel: ['lm_head.layer_norm.bias', 'lm_head.dense.bias', 'lm_head.dense.weight', 'lm_head.layer_norm.weight', 'lm_head.decoder.weight', 'lm_head.bias']\n",
      "- This IS expected if you are initializing RobertaModel from the checkpoint of a model trained on another task or with another architecture (e.g. initializing a BertForSequenceClassification model from a BertForPreTraining model).\n",
      "- This IS NOT expected if you are initializing RobertaModel from the checkpoint of a model that you expect to be exactly identical (initializing a BertForSequenceClassification model from a BertForSequenceClassification model).\n"
     ]
    },
    {
     "data": {
      "image/png": "[encoded data removed]",
      "text/plain": [
       "<Figure size 864x216 with 4 Axes>"
      ]
     },
     "metadata": {
      "needs_background": "light"
     },
     "output_type": "display_data"
    }
   ],
   "source": [
    "def create_optimizer(model, cfg):\n",
    "    named_parameters = list(model.named_parameters())\n",
    "\n",
    "    backbone_parameters = named_parameters[:199]\n",
    "    head_parameters = named_parameters[199:]\n",
    "\n",
    "    head_group = [params for (name, params) in head_parameters]\n",
    "\n",
    "    parameters = []\n",
    "    parameters.append({\"params\": head_group,\n",
    "                       \"weight_decay\": 0.,\n",
    "                       \"lr\": cfg.lrs[3]})\n",
    "\n",
    "    for layer_num, (name, params) in enumerate(backbone_parameters):\n",
    "        weight_decay = 0.0 if 'LayerNorm' in name or 'bias' in name else cfg.wd\n",
    "\n",
    "        lr = cfg.lrs[0]\n",
    "\n",
    "        if layer_num >= 69:\n",
    "            lr = cfg.lrs[1]\n",
    "\n",
    "        if layer_num >= 133:\n",
    "            lr = cfg.lrs[2]\n",
    "\n",
    "        parameters.append({\"params\": params,\n",
    "                           \"weight_decay\": weight_decay,\n",
    "                           \"lr\": lr})\n",
    "\n",
    "    return AdamW(parameters)\n",
    "\n",
    "\n",
    "def get_scheduler(optimizer, cfg):\n",
    "    num_training_steps = len(trn_dl) * cfg.epochs\n",
    "    num_warmup_steps = int(len(trn_dl) * 0.1)\n",
    "    return transformers.get_cosine_schedule_with_warmup(\n",
    "        optimizer,\n",
    "        num_warmup_steps,\n",
    "        num_training_steps\n",
    "    )\n",
    "\n",
    "if 1:\n",
    "    # create dataloader\n",
    "    tokenizer = AutoTokenizer.from_pretrained(cfg.model_name)\n",
    "    trn_ds = BERTDataSet(trn_df, tokenizer)\n",
    "    trn_dl = DataLoader(trn_ds,\n",
    "                        batch_size=cfg.bs,\n",
    "                        shuffle=True,\n",
    "                        num_workers=cfg.num_workers,\n",
    "                        pin_memory=True)\n",
    "    # create model\n",
    "    model = CLPRModel('roberta-base')\n",
    "    \n",
    "    # create scheduler\n",
    "    optimizer = create_optimizer(model, cfg)\n",
    "    scheduler = get_scheduler(optimizer, cfg)\n",
    "    \n",
    "    # get lr\n",
    "    lrs = []\n",
    "    for epoch in range(cfg.epochs):\n",
    "        for _ in trn_dl:\n",
    "            lrs.append(scheduler.get_last_lr())\n",
    "            optimizer.step()\n",
    "            scheduler.step()\n",
    "    lrs = sorted(set([*zip(*lrs)]))\n",
    "    \n",
    "    # plot\n",
    "    plt.figure(figsize=(12, 3))\n",
    "    for i, lr in enumerate(lrs, 1):\n",
    "        plt.subplot(1, 4, i)\n",
    "        plt.title(f'group{i}')\n",
    "        plt.plot(lr)\n",
    "        plt.ticklabel_format(axis='y', style='sci', scilimits=(0,0))\n",
    "    plt.tight_layout()\n",
    "    plt.show()"
   ]
  },
  {
   "cell_type": "code",
   "execution_count": 37,
   "metadata": {
    "ExecuteTime": {
     "end_time": "2021-07-21T13:50:34.712032Z",
     "start_time": "2021-07-21T13:50:34.053827Z"
    }
   },
   "outputs": [],
   "source": [
    "model.transformer.save_pretrained(cfg.model_name)"
   ]
  },
  {
   "cell_type": "markdown",
   "metadata": {},
   "source": [
    "# Learner"
   ]
  },
  {
   "cell_type": "code",
   "execution_count": 14,
   "metadata": {
    "ExecuteTime": {
     "end_time": "2021-07-21T05:32:35.198936Z",
     "start_time": "2021-07-21T05:32:35.181576Z"
    },
    "code_folding": [
     1,
     20,
     55,
     66,
     73,
     87,
     99
    ]
   },
   "outputs": [],
   "source": [
    "class Learner:\n",
    "    def __init__(self, cfg, model, dls, cbs=[]):\n",
    "        self.cfg = cfg\n",
    "        set_cfg_attr(self, cfg)\n",
    "\n",
    "        # model\n",
    "        self.model = model.to(self.device)\n",
    "        self.dls = dls\n",
    "        self.optimizer = create_optimizer(self.model, self.cfg)\n",
    "        self.scaler = torch.cuda.amp.GradScaler()\n",
    "\n",
    "        # callbacks\n",
    "        self.cbs = cbs\n",
    "        for cb in self.cbs: cb.learner = self\n",
    "        \n",
    "        # init \n",
    "        self.glob_iters = 0\n",
    "        self.nums_of_backward = 0 # trick for gradient accumulate\n",
    "        self.mb = range(1, self.epochs + 1)\n",
    "        \n",
    "    def one_batch(self):\n",
    "        self('before_batch')\n",
    "        xb, self.yb = to_device(self.batch, self.device)\n",
    "        self.batch_size = len(xb)\n",
    "\n",
    "        # forward\n",
    "        with torch.set_grad_enabled(self.train):\n",
    "            with torch.cuda.amp.autocast():\n",
    "                self.preds = self.model(xb)\n",
    "                self.loss = self.loss_func(self.preds, self.yb)\n",
    "                self.loss_item = self.loss.item()\n",
    "\n",
    "        # backward\n",
    "        if self.train:\n",
    "            self.loss = self.loss / self.iters_to_accumulate\n",
    "            #self.loss.backward()\n",
    "            self.scaler.scale(self.loss).backward()\n",
    "            self.nums_of_backward += 1\n",
    "            \n",
    "            if self.nums_of_backward % self.iters_to_accumulate == 0:\n",
    "                self.glob_iters += 1\n",
    "                \n",
    "                # clip grads\n",
    "                self.scaler.unscale_(self.optimizer)\n",
    "                torch.nn.utils.clip_grad_norm_(self.model.parameters(),\n",
    "                        self.cfg.max_grad_norm)\n",
    "                \n",
    "                # step\n",
    "                #self.optimizer.step()\n",
    "                self.scaler.step(self.optimizer)\n",
    "                self.scaler.update()\n",
    "                self.optimizer.zero_grad()\n",
    "                \n",
    "        self('after_batch')\n",
    "\n",
    "    def one_epoch(self, train: bool):\n",
    "        self.train = train\n",
    "        self.model.train(train)\n",
    "        self.dl = self.dls.train if train else self.dls.valid\n",
    "        \n",
    "        self.pb = self.dl\n",
    "        self('before_epoch')\n",
    "        for self.num, self.batch in enumerate(self.pb):\n",
    "            self.one_batch()\n",
    "        self('after_epoch')\n",
    "\n",
    "    def fit_single(self):\n",
    "        self('before_fit')\n",
    "        for self.epoch in self.mb:\n",
    "            self.one_epoch(True)\n",
    "            self.one_epoch(False)\n",
    "        self('after_fit')\n",
    "\n",
    "    def save(self, path):\n",
    "        path += '.pth'\n",
    "        self.model.eval()\n",
    "        torch.save(\n",
    "            {\n",
    "                'model_state_dict': self.model.state_dict(),\n",
    "                'optimizer_state_dict': self.optimizer.state_dict(),\n",
    "                'scheduler_state_dict': self.scheduler.state_dict(),\n",
    "                'scaler': self.scaler.state_dict(),\n",
    "                'epoch': self.epoch,\n",
    "                'history': self.history,\n",
    "            },\n",
    "            path)\n",
    "\n",
    "    def load(self, path, model_only=False):\n",
    "        path += '.pth'\n",
    "        checkpoint = torch.load(path)\n",
    "        self.model.load_state_dict(checkpoint['model_state_dict'])\n",
    "        torch.cuda.empty_cache()\n",
    "        if not model_only:\n",
    "            self.optimizer.load_state_dict(checkpoint['optimizer_state_dict'])\n",
    "            self.scheduler.load_state_dict(checkpoint['scheduler_state_dict'])\n",
    "            self.scaler.load_state_dict(checkpoint['scaler'])\n",
    "            self.epoch = checkpoint['epoch']\n",
    "            self.history = checkpoint['history']\n",
    "\n",
    "    def __call__(self, name):\n",
    "        for cb in self.cbs:\n",
    "            getattr(cb, name, noop)()"
   ]
  },
  {
   "cell_type": "code",
   "execution_count": 15,
   "metadata": {
    "ExecuteTime": {
     "end_time": "2021-07-21T05:32:35.208359Z",
     "start_time": "2021-07-21T05:32:35.200920Z"
    },
    "code_folding": []
   },
   "outputs": [],
   "source": [
    "class GetOOF(Callback):\n",
    "    def before_fit(self):\n",
    "        self.learner.oof = dict(preds=[], ys=[])\n",
    "    \n",
    "    def after_batch(self):\n",
    "        if not self.train:\n",
    "            self.oof['preds'].append(to_numpy(self.preds))\n",
    "            self.oof['ys'].append(to_numpy(self.yb))\n",
    "\n",
    "    def after_fit(self):\n",
    "        self.learner.oof['preds'] = np.concatenate(self.oof['preds'])\n",
    "        self.learner.oof['ys'] = np.concatenate(self.oof['ys'])"
   ]
  },
  {
   "cell_type": "code",
   "execution_count": 16,
   "metadata": {
    "ExecuteTime": {
     "end_time": "2021-07-21T05:32:41.505443Z",
     "start_time": "2021-07-21T05:32:35.209846Z"
    }
   },
   "outputs": [],
   "source": [
    "logger_name = datetime.today().strftime(\"%Y-%m-%d_%H_%M_%S\")\n",
    "logger = get_logger(logger_name, verbose=False)\n",
    "tokenizer = AutoTokenizer.from_pretrained(cfg.model_name)"
   ]
  },
  {
   "cell_type": "code",
   "execution_count": 17,
   "metadata": {
    "ExecuteTime": {
     "end_time": "2021-07-21T05:42:08.589207Z",
     "start_time": "2021-07-21T05:32:41.506931Z"
    },
    "code_folding": [
     9,
     16
    ],
    "scrolled": true
   },
   "outputs": [
    {
     "name": "stdout",
     "output_type": "stream",
     "text": [
      "Fold: 1\n"
     ]
    },
    {
     "name": "stderr",
     "output_type": "stream",
     "text": [
      "Some weights of the model checkpoint at roberta-base were not used when initializing RobertaModel: ['lm_head.layer_norm.weight', 'lm_head.dense.bias', 'lm_head.layer_norm.bias', 'lm_head.decoder.weight', 'lm_head.bias', 'lm_head.dense.weight']\n",
      "- This IS expected if you are initializing RobertaModel from the checkpoint of a model trained on another task or with another architecture (e.g. initializing a BertForSequenceClassification model from a BertForPreTraining model).\n",
      "- This IS NOT expected if you are initializing RobertaModel from the checkpoint of a model that you expect to be exactly identical (initializing a BertForSequenceClassification model from a BertForSequenceClassification model).\n"
     ]
    },
    {
     "data": {
      "text/html": [
       "<table border=\"1\" class=\"dataframe\">\n",
       "  <thead>\n",
       "    <tr style=\"text-align: left;\">\n",
       "      <th>epoch</th>\n",
       "      <th>train loss</th>\n",
       "      <th>val loss</th>\n",
       "      <th>train rmse</th>\n",
       "      <th>val rmse</th>\n",
       "      <th>train mse</th>\n",
       "      <th>val mse</th>\n",
       "      <th>time</th>\n",
       "    </tr>\n",
       "  </thead>\n",
       "  <tbody>\n",
       "    <tr>\n",
       "      <td>1</td>\n",
       "      <td>0.742525</td>\n",
       "      <td>0.356206</td>\n",
       "      <td>0.789083</td>\n",
       "      <td>0.561744</td>\n",
       "      <td>0.742525</td>\n",
       "      <td>0.356206</td>\n",
       "      <td>1:40</td>\n",
       "    </tr>\n",
       "    <tr>\n",
       "      <td>2</td>\n",
       "      <td>0.289324</td>\n",
       "      <td>0.328156</td>\n",
       "      <td>0.502549</td>\n",
       "      <td>0.541567</td>\n",
       "      <td>0.289324</td>\n",
       "      <td>0.328156</td>\n",
       "      <td>1:45</td>\n",
       "    </tr>\n",
       "    <tr>\n",
       "      <td>3</td>\n",
       "      <td>0.222578</td>\n",
       "      <td>0.377371</td>\n",
       "      <td>0.441395</td>\n",
       "      <td>0.585506</td>\n",
       "      <td>0.222578</td>\n",
       "      <td>0.377371</td>\n",
       "      <td>1:46</td>\n",
       "    </tr>\n",
       "    <tr>\n",
       "      <td>4</td>\n",
       "      <td>0.158610</td>\n",
       "      <td>0.429370</td>\n",
       "      <td>0.374051</td>\n",
       "      <td>0.626119</td>\n",
       "      <td>0.158610</td>\n",
       "      <td>0.429370</td>\n",
       "      <td>1:46</td>\n",
       "    </tr>\n",
       "    <tr>\n",
       "      <td>5</td>\n",
       "      <td>0.127975</td>\n",
       "      <td>0.373152</td>\n",
       "      <td>0.335162</td>\n",
       "      <td>0.582990</td>\n",
       "      <td>0.127975</td>\n",
       "      <td>0.373152</td>\n",
       "      <td>1:47</td>\n",
       "    </tr>\n",
       "  </tbody>\n",
       "</table>"
      ],
      "text/plain": [
       "<IPython.core.display.HTML object>"
      ]
     },
     "metadata": {},
     "output_type": "display_data"
    },
    {
     "name": "stdout",
     "output_type": "stream",
     "text": [
      "Autoload the best model\n",
      "Fold: 1, CV: \n",
      "\trmse: 0.6108992659758733\n",
      "\tmse: 0.37319791316986084\n",
      "Fold: 2\n"
     ]
    },
    {
     "name": "stderr",
     "output_type": "stream",
     "text": [
      "Some weights of the model checkpoint at roberta-base were not used when initializing RobertaModel: ['lm_head.layer_norm.weight', 'lm_head.dense.bias', 'lm_head.layer_norm.bias', 'lm_head.decoder.weight', 'lm_head.bias', 'lm_head.dense.weight']\n",
      "- This IS expected if you are initializing RobertaModel from the checkpoint of a model trained on another task or with another architecture (e.g. initializing a BertForSequenceClassification model from a BertForPreTraining model).\n",
      "- This IS NOT expected if you are initializing RobertaModel from the checkpoint of a model that you expect to be exactly identical (initializing a BertForSequenceClassification model from a BertForSequenceClassification model).\n"
     ]
    },
    {
     "data": {
      "text/html": [
       "\n",
       "    <div>\n",
       "        <style>\n",
       "            /* Turns off some styling */\n",
       "            progress {\n",
       "                /* gets rid of default border in Firefox and Opera. */\n",
       "                border: none;\n",
       "                /* Needs to be in here for Safari polyfill so background images work as expected. */\n",
       "                background-size: auto;\n",
       "            }\n",
       "            .progress-bar-interrupted, .progress-bar-interrupted::-webkit-progress-bar {\n",
       "                background: #F44336;\n",
       "            }\n",
       "        </style>\n",
       "      <progress value='0' class='' max='5' style='width:300px; height:20px; vertical-align: middle;'></progress>\n",
       "      0.00% [0/5 00:00<00:00]\n",
       "    </div>\n",
       "    \n",
       "<table border=\"1\" class=\"dataframe\">\n",
       "  <thead>\n",
       "    <tr style=\"text-align: left;\">\n",
       "      <th>epoch</th>\n",
       "      <th>train loss</th>\n",
       "      <th>val loss</th>\n",
       "      <th>train rmse</th>\n",
       "      <th>val rmse</th>\n",
       "      <th>train mse</th>\n",
       "      <th>val mse</th>\n",
       "      <th>time</th>\n",
       "    </tr>\n",
       "  </thead>\n",
       "  <tbody>\n",
       "  </tbody>\n",
       "</table><p>\n",
       "\n",
       "    <div>\n",
       "        <style>\n",
       "            /* Turns off some styling */\n",
       "            progress {\n",
       "                /* gets rid of default border in Firefox and Opera. */\n",
       "                border: none;\n",
       "                /* Needs to be in here for Safari polyfill so background images work as expected. */\n",
       "                background-size: auto;\n",
       "            }\n",
       "            .progress-bar-interrupted, .progress-bar-interrupted::-webkit-progress-bar {\n",
       "                background: #F44336;\n",
       "            }\n",
       "        </style>\n",
       "      <progress value='167' class='' max='567' style='width:300px; height:20px; vertical-align: middle;'></progress>\n",
       "      29.45% [167/567 00:27<01:07 train loss: 1.7278, train rmse: 1.2157, train mse: 1.7278]\n",
       "    </div>\n",
       "    "
      ],
      "text/plain": [
       "<IPython.core.display.HTML object>"
      ]
     },
     "metadata": {},
     "output_type": "display_data"
    },
    {
     "ename": "KeyboardInterrupt",
     "evalue": "",
     "output_type": "error",
     "traceback": [
      "\u001b[1;31m---------------------------------------------------------------------------\u001b[0m",
      "\u001b[1;31mKeyboardInterrupt\u001b[0m                         Traceback (most recent call last)",
      "\u001b[1;32m<ipython-input-17-f28e6339d719>\u001b[0m in \u001b[0;36m<module>\u001b[1;34m\u001b[0m\n\u001b[0;32m     39\u001b[0m     ]\n\u001b[0;32m     40\u001b[0m     \u001b[0mlearner\u001b[0m \u001b[1;33m=\u001b[0m \u001b[0mLearner\u001b[0m\u001b[1;33m(\u001b[0m\u001b[0mcfg\u001b[0m\u001b[1;33m,\u001b[0m \u001b[0mmodel\u001b[0m\u001b[1;33m,\u001b[0m \u001b[0mdls\u001b[0m\u001b[1;33m,\u001b[0m \u001b[0mcbs\u001b[0m\u001b[1;33m)\u001b[0m\u001b[1;33m\u001b[0m\u001b[1;33m\u001b[0m\u001b[0m\n\u001b[1;32m---> 41\u001b[1;33m     \u001b[0mlearner\u001b[0m\u001b[1;33m.\u001b[0m\u001b[0mfit_single\u001b[0m\u001b[1;33m(\u001b[0m\u001b[1;33m)\u001b[0m\u001b[1;33m\u001b[0m\u001b[1;33m\u001b[0m\u001b[0m\n\u001b[0m\u001b[0;32m     42\u001b[0m     \u001b[0mtorch\u001b[0m\u001b[1;33m.\u001b[0m\u001b[0mcuda\u001b[0m\u001b[1;33m.\u001b[0m\u001b[0mempty_cache\u001b[0m\u001b[1;33m(\u001b[0m\u001b[1;33m)\u001b[0m\u001b[1;33m\u001b[0m\u001b[1;33m\u001b[0m\u001b[0m\n\u001b[0;32m     43\u001b[0m     \u001b[0mgc\u001b[0m\u001b[1;33m.\u001b[0m\u001b[0mcollect\u001b[0m\u001b[1;33m(\u001b[0m\u001b[1;33m)\u001b[0m\u001b[1;33m\u001b[0m\u001b[1;33m\u001b[0m\u001b[0m\n",
      "\u001b[1;32m<ipython-input-14-3105c6ae8545>\u001b[0m in \u001b[0;36mfit_single\u001b[1;34m(self)\u001b[0m\n\u001b[0;32m     68\u001b[0m         \u001b[0mself\u001b[0m\u001b[1;33m(\u001b[0m\u001b[1;34m'before_fit'\u001b[0m\u001b[1;33m)\u001b[0m\u001b[1;33m\u001b[0m\u001b[1;33m\u001b[0m\u001b[0m\n\u001b[0;32m     69\u001b[0m         \u001b[1;32mfor\u001b[0m \u001b[0mself\u001b[0m\u001b[1;33m.\u001b[0m\u001b[0mepoch\u001b[0m \u001b[1;32min\u001b[0m \u001b[0mself\u001b[0m\u001b[1;33m.\u001b[0m\u001b[0mmb\u001b[0m\u001b[1;33m:\u001b[0m\u001b[1;33m\u001b[0m\u001b[1;33m\u001b[0m\u001b[0m\n\u001b[1;32m---> 70\u001b[1;33m             \u001b[0mself\u001b[0m\u001b[1;33m.\u001b[0m\u001b[0mone_epoch\u001b[0m\u001b[1;33m(\u001b[0m\u001b[1;32mTrue\u001b[0m\u001b[1;33m)\u001b[0m\u001b[1;33m\u001b[0m\u001b[1;33m\u001b[0m\u001b[0m\n\u001b[0m\u001b[0;32m     71\u001b[0m             \u001b[0mself\u001b[0m\u001b[1;33m.\u001b[0m\u001b[0mone_epoch\u001b[0m\u001b[1;33m(\u001b[0m\u001b[1;32mFalse\u001b[0m\u001b[1;33m)\u001b[0m\u001b[1;33m\u001b[0m\u001b[1;33m\u001b[0m\u001b[0m\n\u001b[0;32m     72\u001b[0m         \u001b[0mself\u001b[0m\u001b[1;33m(\u001b[0m\u001b[1;34m'after_fit'\u001b[0m\u001b[1;33m)\u001b[0m\u001b[1;33m\u001b[0m\u001b[1;33m\u001b[0m\u001b[0m\n",
      "\u001b[1;32m<ipython-input-14-3105c6ae8545>\u001b[0m in \u001b[0;36mone_epoch\u001b[1;34m(self, train)\u001b[0m\n\u001b[0;32m     62\u001b[0m         \u001b[0mself\u001b[0m\u001b[1;33m(\u001b[0m\u001b[1;34m'before_epoch'\u001b[0m\u001b[1;33m)\u001b[0m\u001b[1;33m\u001b[0m\u001b[1;33m\u001b[0m\u001b[0m\n\u001b[0;32m     63\u001b[0m         \u001b[1;32mfor\u001b[0m \u001b[0mself\u001b[0m\u001b[1;33m.\u001b[0m\u001b[0mnum\u001b[0m\u001b[1;33m,\u001b[0m \u001b[0mself\u001b[0m\u001b[1;33m.\u001b[0m\u001b[0mbatch\u001b[0m \u001b[1;32min\u001b[0m \u001b[0menumerate\u001b[0m\u001b[1;33m(\u001b[0m\u001b[0mself\u001b[0m\u001b[1;33m.\u001b[0m\u001b[0mpb\u001b[0m\u001b[1;33m)\u001b[0m\u001b[1;33m:\u001b[0m\u001b[1;33m\u001b[0m\u001b[1;33m\u001b[0m\u001b[0m\n\u001b[1;32m---> 64\u001b[1;33m             \u001b[0mself\u001b[0m\u001b[1;33m.\u001b[0m\u001b[0mone_batch\u001b[0m\u001b[1;33m(\u001b[0m\u001b[1;33m)\u001b[0m\u001b[1;33m\u001b[0m\u001b[1;33m\u001b[0m\u001b[0m\n\u001b[0m\u001b[0;32m     65\u001b[0m         \u001b[0mself\u001b[0m\u001b[1;33m(\u001b[0m\u001b[1;34m'after_epoch'\u001b[0m\u001b[1;33m)\u001b[0m\u001b[1;33m\u001b[0m\u001b[1;33m\u001b[0m\u001b[0m\n\u001b[0;32m     66\u001b[0m \u001b[1;33m\u001b[0m\u001b[0m\n",
      "\u001b[1;32m<ipython-input-14-3105c6ae8545>\u001b[0m in \u001b[0;36mone_batch\u001b[1;34m(self)\u001b[0m\n\u001b[0;32m     52\u001b[0m                 \u001b[0mself\u001b[0m\u001b[1;33m.\u001b[0m\u001b[0moptimizer\u001b[0m\u001b[1;33m.\u001b[0m\u001b[0mzero_grad\u001b[0m\u001b[1;33m(\u001b[0m\u001b[1;33m)\u001b[0m\u001b[1;33m\u001b[0m\u001b[1;33m\u001b[0m\u001b[0m\n\u001b[0;32m     53\u001b[0m \u001b[1;33m\u001b[0m\u001b[0m\n\u001b[1;32m---> 54\u001b[1;33m         \u001b[0mself\u001b[0m\u001b[1;33m(\u001b[0m\u001b[1;34m'after_batch'\u001b[0m\u001b[1;33m)\u001b[0m\u001b[1;33m\u001b[0m\u001b[1;33m\u001b[0m\u001b[0m\n\u001b[0m\u001b[0;32m     55\u001b[0m \u001b[1;33m\u001b[0m\u001b[0m\n\u001b[0;32m     56\u001b[0m     \u001b[1;32mdef\u001b[0m \u001b[0mone_epoch\u001b[0m\u001b[1;33m(\u001b[0m\u001b[0mself\u001b[0m\u001b[1;33m,\u001b[0m \u001b[0mtrain\u001b[0m\u001b[1;33m:\u001b[0m \u001b[0mbool\u001b[0m\u001b[1;33m)\u001b[0m\u001b[1;33m:\u001b[0m\u001b[1;33m\u001b[0m\u001b[1;33m\u001b[0m\u001b[0m\n",
      "\u001b[1;32m<ipython-input-14-3105c6ae8545>\u001b[0m in \u001b[0;36m__call__\u001b[1;34m(self, name)\u001b[0m\n\u001b[0;32m    100\u001b[0m     \u001b[1;32mdef\u001b[0m \u001b[0m__call__\u001b[0m\u001b[1;33m(\u001b[0m\u001b[0mself\u001b[0m\u001b[1;33m,\u001b[0m \u001b[0mname\u001b[0m\u001b[1;33m)\u001b[0m\u001b[1;33m:\u001b[0m\u001b[1;33m\u001b[0m\u001b[1;33m\u001b[0m\u001b[0m\n\u001b[0;32m    101\u001b[0m         \u001b[1;32mfor\u001b[0m \u001b[0mcb\u001b[0m \u001b[1;32min\u001b[0m \u001b[0mself\u001b[0m\u001b[1;33m.\u001b[0m\u001b[0mcbs\u001b[0m\u001b[1;33m:\u001b[0m\u001b[1;33m\u001b[0m\u001b[1;33m\u001b[0m\u001b[0m\n\u001b[1;32m--> 102\u001b[1;33m             \u001b[0mgetattr\u001b[0m\u001b[1;33m(\u001b[0m\u001b[0mcb\u001b[0m\u001b[1;33m,\u001b[0m \u001b[0mname\u001b[0m\u001b[1;33m,\u001b[0m \u001b[0mnoop\u001b[0m\u001b[1;33m)\u001b[0m\u001b[1;33m(\u001b[0m\u001b[1;33m)\u001b[0m\u001b[1;33m\u001b[0m\u001b[1;33m\u001b[0m\u001b[0m\n\u001b[0m",
      "\u001b[1;32m~\\jupyter\\commonlitreadabilityprize\\input\\callbacks\\callbacks.py\u001b[0m in \u001b[0;36mafter_batch\u001b[1;34m(self)\u001b[0m\n\u001b[0;32m    353\u001b[0m         \u001b[1;32mfor\u001b[0m \u001b[0mi\u001b[0m\u001b[1;33m,\u001b[0m \u001b[0mmetric_func\u001b[0m \u001b[1;32min\u001b[0m \u001b[0menumerate\u001b[0m\u001b[1;33m(\u001b[0m\u001b[0mself\u001b[0m\u001b[1;33m.\u001b[0m\u001b[0mmetric_funcs\u001b[0m\u001b[1;33m)\u001b[0m\u001b[1;33m:\u001b[0m\u001b[1;33m\u001b[0m\u001b[1;33m\u001b[0m\u001b[0m\n\u001b[0;32m    354\u001b[0m             \u001b[0mmetric\u001b[0m \u001b[1;33m=\u001b[0m \u001b[0mmetric_func\u001b[0m\u001b[1;33m(\u001b[0m\u001b[0mself\u001b[0m\u001b[1;33m.\u001b[0m\u001b[0mpreds\u001b[0m\u001b[1;33m,\u001b[0m \u001b[0mself\u001b[0m\u001b[1;33m.\u001b[0m\u001b[0myb\u001b[0m\u001b[1;33m)\u001b[0m\u001b[1;33m\u001b[0m\u001b[1;33m\u001b[0m\u001b[0m\n\u001b[1;32m--> 355\u001b[1;33m             \u001b[0mmetric\u001b[0m \u001b[1;33m=\u001b[0m \u001b[0mto_numpy\u001b[0m\u001b[1;33m(\u001b[0m\u001b[0mmetric\u001b[0m\u001b[1;33m)\u001b[0m\u001b[1;33m\u001b[0m\u001b[1;33m\u001b[0m\u001b[0m\n\u001b[0m\u001b[0;32m    356\u001b[0m             \u001b[0mself\u001b[0m\u001b[1;33m.\u001b[0m\u001b[0mrunning_metrics\u001b[0m\u001b[1;33m[\u001b[0m\u001b[0mi\u001b[0m\u001b[1;33m]\u001b[0m\u001b[1;33m.\u001b[0m\u001b[0mupdate\u001b[0m\u001b[1;33m(\u001b[0m\u001b[0mmetric\u001b[0m\u001b[1;33m,\u001b[0m \u001b[0mself\u001b[0m\u001b[1;33m.\u001b[0m\u001b[0mbatch_size\u001b[0m\u001b[1;33m)\u001b[0m\u001b[1;33m\u001b[0m\u001b[1;33m\u001b[0m\u001b[0m\n\u001b[0;32m    357\u001b[0m \u001b[1;33m\u001b[0m\u001b[0m\n",
      "\u001b[1;32m~\\jupyter\\commonlitreadabilityprize\\input\\callbacks\\callbacks.py\u001b[0m in \u001b[0;36mto_numpy\u001b[1;34m(x)\u001b[0m\n\u001b[0;32m     15\u001b[0m \u001b[1;33m\u001b[0m\u001b[0m\n\u001b[0;32m     16\u001b[0m \u001b[1;32mdef\u001b[0m \u001b[0mnoop\u001b[0m\u001b[1;33m(\u001b[0m\u001b[0mx\u001b[0m\u001b[1;33m=\u001b[0m\u001b[1;32mNone\u001b[0m\u001b[1;33m)\u001b[0m\u001b[1;33m:\u001b[0m \u001b[1;32mreturn\u001b[0m \u001b[0mx\u001b[0m\u001b[1;33m\u001b[0m\u001b[1;33m\u001b[0m\u001b[0m\n\u001b[1;32m---> 17\u001b[1;33m \u001b[1;32mdef\u001b[0m \u001b[0mto_numpy\u001b[0m\u001b[1;33m(\u001b[0m\u001b[0mx\u001b[0m\u001b[1;33m)\u001b[0m\u001b[1;33m:\u001b[0m \u001b[1;32mreturn\u001b[0m \u001b[0mx\u001b[0m\u001b[1;33m.\u001b[0m\u001b[0mdetach\u001b[0m\u001b[1;33m(\u001b[0m\u001b[1;33m)\u001b[0m\u001b[1;33m.\u001b[0m\u001b[0mcpu\u001b[0m\u001b[1;33m(\u001b[0m\u001b[1;33m)\u001b[0m\u001b[1;33m.\u001b[0m\u001b[0mnumpy\u001b[0m\u001b[1;33m(\u001b[0m\u001b[1;33m)\u001b[0m\u001b[1;33m\u001b[0m\u001b[1;33m\u001b[0m\u001b[0m\n\u001b[0m\u001b[0;32m     18\u001b[0m \u001b[1;32mdef\u001b[0m \u001b[0mis_listy\u001b[0m\u001b[1;33m(\u001b[0m\u001b[0mx\u001b[0m\u001b[1;33m)\u001b[0m\u001b[1;33m:\u001b[0m \u001b[1;32mreturn\u001b[0m \u001b[0misinstance\u001b[0m\u001b[1;33m(\u001b[0m\u001b[0mx\u001b[0m\u001b[1;33m,\u001b[0m \u001b[1;33m(\u001b[0m\u001b[0mlist\u001b[0m\u001b[1;33m,\u001b[0m \u001b[0mtuple\u001b[0m\u001b[1;33m)\u001b[0m\u001b[1;33m)\u001b[0m\u001b[1;33m\u001b[0m\u001b[1;33m\u001b[0m\u001b[0m\n\u001b[0;32m     19\u001b[0m \u001b[1;32mdef\u001b[0m \u001b[0mto_device\u001b[0m\u001b[1;33m(\u001b[0m\u001b[0mx\u001b[0m\u001b[1;33m,\u001b[0m \u001b[0mdevice\u001b[0m\u001b[1;33m)\u001b[0m\u001b[1;33m:\u001b[0m\u001b[1;33m\u001b[0m\u001b[1;33m\u001b[0m\u001b[0m\n",
      "\u001b[1;31mKeyboardInterrupt\u001b[0m: "
     ]
    }
   ],
   "source": [
    "cv_score = []\n",
    "preds_oof, ys_oof = [], []\n",
    "\n",
    "for fold in range(1, cfg.nfolds + 1):\n",
    "    cfg.store_name = f'{cfg.model_name}_fold_{fold}'\n",
    "    print(f'Fold: {fold}')\n",
    "    logger.info(f'\\nFold: {fold}\\n')\n",
    "    \n",
    "    trn_ds = BERTDataSet(trn_df.query(f'fold != {fold}'), tokenizer)\n",
    "    trn_dl = DataLoader(trn_ds,\n",
    "                        batch_size=cfg.bs,\n",
    "                        shuffle=True,\n",
    "                        num_workers=cfg.num_workers,\n",
    "                        pin_memory=True)\n",
    "\n",
    "    val_ds = BERTDataSet(trn_df.query(f'fold == {fold}'), tokenizer)\n",
    "    val_dl = DataLoader(val_ds,\n",
    "                        batch_size=cfg.bs,\n",
    "                        shuffle=False,\n",
    "                        num_workers=cfg.num_workers,\n",
    "                        pin_memory=True)\n",
    "\n",
    "\n",
    "    dls = DataLoaders(trn_dl, val_dl)\n",
    "\n",
    "\n",
    "    model = CLPRModel(cfg.model_name)\n",
    "\n",
    "    cfg.backbone_config = model.config\n",
    "    \n",
    "    cbs = [\n",
    "        Timer(), \n",
    "        Recorder(), \n",
    "        ProgressBar(),\n",
    "        Scheduler(get_scheduler), \n",
    "        ModelCheckPoint(store_name=cfg.store_name, skip_start=2),\n",
    "        GetOOF(),\n",
    "        GetLogger(logger),\n",
    "    ]\n",
    "    learner = Learner(cfg, model, dls, cbs)\n",
    "    learner.fit_single()\n",
    "    torch.cuda.empty_cache()\n",
    "    gc.collect()\n",
    "    \n",
    "    preds, ys = learner.oof_preds, learner.oof_ys\n",
    "    metrics = {m.__name__:m(preds, ys) for m in cfg.metric_funcs}\n",
    "    cv_score.append(metrics)\n",
    "    \n",
    "    print(f'Fold: {fold}, CV: ')\n",
    "    logger.info(f'\\nFold: {fold}, CV: ')\n",
    "    for func_name in metrics:\n",
    "        print(f'\\t{func_name}: {metrics[func_name]}')\n",
    "        logger.info(f'\\t{func_name}: {metrics[func_name]}')\n",
    "    \n",
    "    preds_oof.append(preds)\n",
    "    ys_oof.append(ys)\n",
    "\n",
    "preds_oof = np.concatenate(preds_oof)\n",
    "ys_oof = np.concatenate(ys_oof)\n",
    "oof_score = ((preds_oof - ys_oof) ** 2).mean() ** 0.5\n",
    "print(f'oof_score: {oof_score}')\n",
    "logger.info(f'oof_score: {oof_score}')"
   ]
  },
  {
   "cell_type": "code",
   "execution_count": null,
   "metadata": {
    "ExecuteTime": {
     "end_time": "2021-07-21T05:42:08.633349Z",
     "start_time": "2021-07-21T05:32:15.028Z"
    }
   },
   "outputs": [],
   "source": [
    "preds_oof = np.concatenate(preds_oof)\n",
    "ys_oof = np.concatenate(ys_oof)"
   ]
  },
  {
   "cell_type": "code",
   "execution_count": null,
   "metadata": {
    "ExecuteTime": {
     "end_time": "2021-07-21T05:42:08.634340Z",
     "start_time": "2021-07-21T05:32:15.053Z"
    }
   },
   "outputs": [],
   "source": [
    "((preds_oof - ys_oof) ** 2).mean() ** 0.5"
   ]
  },
  {
   "cell_type": "code",
   "execution_count": null,
   "metadata": {
    "ExecuteTime": {
     "end_time": "2021-07-21T05:42:08.634837Z",
     "start_time": "2021-07-21T05:32:15.079Z"
    }
   },
   "outputs": [],
   "source": [
    "with open(f'{logger_name}.log') as f:\n",
    "    file = f.read()\n",
    "print(file)"
   ]
  },
  {
   "cell_type": "code",
   "execution_count": null,
   "metadata": {},
   "outputs": [],
   "source": []
  },
  {
   "cell_type": "code",
   "execution_count": null,
   "metadata": {
    "ExecuteTime": {
     "end_time": "2021-07-21T05:42:08.635829Z",
     "start_time": "2021-07-21T05:32:15.099Z"
    }
   },
   "outputs": [],
   "source": [
    "torch.cuda.empty_cache()"
   ]
  },
  {
   "cell_type": "markdown",
   "metadata": {
    "heading_collapsed": true
   },
   "source": [
    "##"
   ]
  },
  {
   "cell_type": "code",
   "execution_count": null,
   "metadata": {
    "ExecuteTime": {
     "end_time": "2021-07-21T05:42:08.636821Z",
     "start_time": "2021-07-21T05:32:15.122Z"
    },
    "hidden": true
   },
   "outputs": [],
   "source": [
    "assert 0"
   ]
  },
  {
   "cell_type": "markdown",
   "metadata": {},
   "source": [
    "## "
   ]
  },
  {
   "cell_type": "code",
   "execution_count": null,
   "metadata": {
    "ExecuteTime": {
     "end_time": "2021-07-21T05:42:08.637813Z",
     "start_time": "2021-07-21T05:32:15.143Z"
    },
    "code_folding": []
   },
   "outputs": [],
   "source": [
    "def evaluate(self, dl):\n",
    "    model.eval()\n",
    "    \n",
    "    running_loss = AverageMeter()\n",
    "    running_metrics = [AverageMeter() for _ in range(len(self.metric_funcs))]\n",
    "    \n",
    "    for batch in dl:\n",
    "        xb, yb = to_device(batch, self.device)\n",
    "        batch_size = len(xb)\n",
    "        \n",
    "\n",
    "        with torch.no_grad():\n",
    "            preds = self.model(xb)\n",
    "            loss = self.loss_func(preds, yb)\n",
    "            loss = loss.item()\n",
    "            running_loss.update(loss, batch_size)\n",
    "            \n",
    "            for running_metric, metric_func in zip(running_metrics, self.metric_funcs):\n",
    "                metric = metric_func(preds, yb)\n",
    "                metric = to_numpy(metric)\n",
    "                running_metric.update(metric, batch_size)\n",
    "            \n",
    "    print(running_loss.avg(), [m.avg() for m in running_metrics])"
   ]
  },
  {
   "cell_type": "code",
   "execution_count": null,
   "metadata": {
    "ExecuteTime": {
     "end_time": "2021-07-21T05:42:08.638807Z",
     "start_time": "2021-07-21T05:32:15.165Z"
    }
   },
   "outputs": [],
   "source": [
    "preds, ys = np.concatenate(preds).ravel(), np.concatenate(ys).ravel()\n",
    "rmse(preds, ys)"
   ]
  },
  {
   "cell_type": "code",
   "execution_count": null,
   "metadata": {
    "ExecuteTime": {
     "end_time": "2021-07-21T05:42:08.639797Z",
     "start_time": "2021-07-21T05:32:15.192Z"
    }
   },
   "outputs": [],
   "source": [
    "preds.shape"
   ]
  },
  {
   "cell_type": "code",
   "execution_count": null,
   "metadata": {},
   "outputs": [],
   "source": []
  },
  {
   "cell_type": "code",
   "execution_count": null,
   "metadata": {
    "ExecuteTime": {
     "end_time": "2021-07-21T05:42:08.640789Z",
     "start_time": "2021-07-21T05:32:15.237Z"
    }
   },
   "outputs": [],
   "source": [
    "learner.load('roberta-base_fold_1', model_only=True)"
   ]
  },
  {
   "cell_type": "code",
   "execution_count": null,
   "metadata": {
    "ExecuteTime": {
     "end_time": "2021-07-21T05:42:08.641284Z",
     "start_time": "2021-07-21T05:32:15.266Z"
    }
   },
   "outputs": [],
   "source": [
    "fold = 1\n",
    "val_ds = BERTDataSet(trn_df.query(f'fold == {fold}'), tokenizer)\n",
    "val_dl = DataLoader(val_ds,\n",
    "                    batch_size=cfg.bs,\n",
    "                    shuffle=False,\n",
    "                    num_workers=cfg.num_workers,\n",
    "                    pin_memory=True)"
   ]
  },
  {
   "cell_type": "code",
   "execution_count": null,
   "metadata": {
    "ExecuteTime": {
     "end_time": "2021-07-21T05:42:08.642277Z",
     "start_time": "2021-07-21T05:32:15.291Z"
    }
   },
   "outputs": [],
   "source": [
    "learner.dls.valid = val_dl"
   ]
  },
  {
   "cell_type": "code",
   "execution_count": null,
   "metadata": {
    "ExecuteTime": {
     "end_time": "2021-07-21T05:42:08.643269Z",
     "start_time": "2021-07-21T05:32:15.315Z"
    }
   },
   "outputs": [],
   "source": [
    "preds, ys = [], []\n",
    "m = AverageMeter()\n",
    "mm = []\n",
    "\n",
    "for batch in val_dl:\n",
    "    xb, yb = to_device(batch, cfg.device)\n",
    "    batch_size = len(yb)\n",
    "    \n",
    "    with torch.no_grad():\n",
    "        predb = learner.model(xb)\n",
    "        \n",
    "        metric = mse(predb, yb)\n",
    "        mm.append(to_numpy(metric))\n",
    "        m.update(to_numpy(metric), batch_size)\n",
    "        preds.append(to_numpy(predb))\n",
    "        ys.append(to_numpy(yb))\n",
    "        \n",
    "preds = np.concatenate(preds).ravel()\n",
    "ys = np.concatenate(ys).ravel()\n",
    "m.avg()"
   ]
  },
  {
   "cell_type": "code",
   "execution_count": null,
   "metadata": {
    "ExecuteTime": {
     "end_time": "2021-07-21T05:42:08.644261Z",
     "start_time": "2021-07-21T05:32:15.340Z"
    }
   },
   "outputs": [],
   "source": [
    "evaluate(learner, dls.valid)"
   ]
  },
  {
   "cell_type": "code",
   "execution_count": null,
   "metadata": {
    "ExecuteTime": {
     "end_time": "2021-07-21T05:42:08.645254Z",
     "start_time": "2021-07-21T05:32:15.367Z"
    },
    "code_folding": [
     0
    ]
   },
   "outputs": [],
   "source": [
    "def get_predict(mode='train'):\n",
    "    dl = dls.train if mode == 'train' else dls.valid\n",
    "    \n",
    "    feats, ys = [], []\n",
    "    for batch in dl:\n",
    "        xb, yb = to_device(batch, cfg.device)\n",
    "        with torch.no_grad():\n",
    "            out = model.transformer(*xb)['last_hidden_state']\n",
    "            out = model.attention(out)\n",
    "            #out = model(xb)\n",
    "            out = to_numpy(out)\n",
    "            feats.append(out)\n",
    "            ys.append(to_numpy(yb))\n",
    "    feats = np.concatenate(feats) \n",
    "    ys = np.concatenate(ys) \n",
    "    return feats, ys"
   ]
  },
  {
   "cell_type": "code",
   "execution_count": null,
   "metadata": {
    "ExecuteTime": {
     "end_time": "2021-07-21T05:42:08.645750Z",
     "start_time": "2021-07-21T05:32:15.391Z"
    }
   },
   "outputs": [],
   "source": [
    "model.eval()\n",
    "\n",
    "\n",
    "trn_feats, trn_ys = get_predict(mode='train')\n",
    "val_feats, val_ys = get_predict(mode='valid')\n",
    "trn_feats.shape"
   ]
  },
  {
   "cell_type": "code",
   "execution_count": null,
   "metadata": {
    "ExecuteTime": {
     "end_time": "2021-07-21T05:42:08.646740Z",
     "start_time": "2021-07-21T05:32:15.413Z"
    }
   },
   "outputs": [],
   "source": [
    "from sklearn.linear_model import Ridge, Lasso\n",
    "from sklearn.svm import SVR\n",
    "from lightgbm import LGBMReg ressor\n",
    "from catboost import CatBoostRegressor"
   ]
  },
  {
   "cell_type": "code",
   "execution_count": null,
   "metadata": {
    "ExecuteTime": {
     "end_time": "2021-07-21T05:42:08.647237Z",
     "start_time": "2021-07-21T05:32:15.437Z"
    }
   },
   "outputs": [],
   "source": [
    "r = Ridge().fit(trn_feats, trn_ys)"
   ]
  },
  {
   "cell_type": "code",
   "execution_count": null,
   "metadata": {
    "ExecuteTime": {
     "end_time": "2021-07-21T05:42:08.648230Z",
     "start_time": "2021-07-21T05:32:15.460Z"
    }
   },
   "outputs": [],
   "source": [
    "rmse(r.predict(trn_feats), trn_ys), rmse(r.predict(val_feats), val_ys)"
   ]
  },
  {
   "cell_type": "code",
   "execution_count": null,
   "metadata": {},
   "outputs": [],
   "source": []
  },
  {
   "cell_type": "code",
   "execution_count": null,
   "metadata": {
    "ExecuteTime": {
     "end_time": "2021-07-21T05:42:08.649221Z",
     "start_time": "2021-07-21T05:32:15.498Z"
    }
   },
   "outputs": [],
   "source": [
    "np.mean(mm)"
   ]
  },
  {
   "cell_type": "code",
   "execution_count": null,
   "metadata": {
    "ExecuteTime": {
     "end_time": "2021-07-21T05:42:08.650213Z",
     "start_time": "2021-07-21T05:32:15.520Z"
    }
   },
   "outputs": [],
   "source": [
    "from sklearn.metrics import mean_squared_error\n",
    "def rmse_score(y_pred, y_true):\n",
    "    return np.sqrt(mean_squared_error(y_true,y_pred))"
   ]
  }
 ],
 "metadata": {
  "kernelspec": {
   "display_name": "Python 3",
   "language": "python",
   "name": "python3"
  },
  "language_info": {
   "codemirror_mode": {
    "name": "ipython",
    "version": 3
   },
   "file_extension": ".py",
   "mimetype": "text/x-python",
   "name": "python",
   "nbconvert_exporter": "python",
   "pygments_lexer": "ipython3",
   "version": "3.7.6"
  },
  "toc": {
   "base_numbering": 1,
   "nav_menu": {},
   "number_sections": true,
   "sideBar": true,
   "skip_h1_title": false,
   "title_cell": "Table of Contents",
   "title_sidebar": "Contents",
   "toc_cell": false,
   "toc_position": {},
   "toc_section_display": true,
   "toc_window_display": false
  },
  "varInspector": {
   "cols": {
    "lenName": 16,
    "lenType": 16,
    "lenVar": 40
   },
   "kernels_config": {
    "python": {
     "delete_cmd_postfix": "",
     "delete_cmd_prefix": "del ",
     "library": "var_list.py",
     "varRefreshCmd": "print(var_dic_list())"
    },
    "r": {
     "delete_cmd_postfix": ") ",
     "delete_cmd_prefix": "rm(",
     "library": "var_list.r",
     "varRefreshCmd": "cat(var_dic_list()) "
    }
   },
   "position": {
    "height": "468.4px",
    "left": "1077px",
    "right": "20px",
    "top": "98px",
    "width": "350px"
   },
   "types_to_exclude": [
    "module",
    "function",
    "builtin_function_or_method",
    "instance",
    "_Feature"
   ],
   "window_display": false
  }
 },
 "nbformat": 4,
 "nbformat_minor": 4
}
