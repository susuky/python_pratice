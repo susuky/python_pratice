{
 "cells": [
  {
   "cell_type": "code",
   "execution_count": 1,
   "metadata": {
    "cellView": "form",
    "id": "GLmf_2JIwHB1"
   },
   "outputs": [],
   "source": [
    "#@title setup colab env\n",
    "from IPython.display import clear_output\n",
    "from google.colab import drive\n",
    "\n",
    "drive.mount('/content/drive')\n",
    "%cd drive/MyDrive/commonlitreadabilityprize/baseline/\n",
    "\n",
    "!pip install transformers\n",
    "clear_output()"
   ]
  },
  {
   "cell_type": "code",
   "execution_count": 2,
   "metadata": {
    "cellView": "form",
    "id": "_Bzl2nqXujBQ"
   },
   "outputs": [],
   "source": [
    "#@title setup XLA\n",
    "!pip install cloud-tpu-client==0.10 https://storage.googleapis.com/tpu-pytorch/wheels/torch_xla-1.9-cp37-cp37m-linux_x86_64.whl\n",
    "clear_output()"
   ]
  },
  {
   "cell_type": "code",
   "execution_count": 3,
   "metadata": {
    "ExecuteTime": {
     "end_time": "2021-07-20T16:38:40.606278Z",
     "start_time": "2021-07-20T16:38:39.679256Z"
    },
    "id": "SMI9jswRv-ih"
   },
   "outputs": [],
   "source": [
    "import sys\n",
    "sys.path.append('../input/learner')\n",
    "\n",
    "from learner.all import *"
   ]
  },
  {
   "cell_type": "code",
   "execution_count": 4,
   "metadata": {
    "colab": {
     "base_uri": "https://localhost:8080/"
    },
    "id": "LquPNZwHt8Yz",
    "outputId": "3d097289-9c27-4193-e69f-e80cc0dbe8ee"
   },
   "outputs": [
    {
     "name": "stderr",
     "output_type": "stream",
     "text": [
      "WARNING:root:TPU has started up successfully with version pytorch-1.9\n"
     ]
    }
   ],
   "source": [
    "import os\n",
    "assert os.environ['COLAB_TPU_ADDR']\n",
    " \n",
    "import torch_xla.core.xla_model as xm\n",
    "import torch_xla.distributed.parallel_loader as pl\n",
    "import torch_xla.distributed.xla_multiprocessing as xmp"
   ]
  },
  {
   "cell_type": "code",
   "execution_count": 5,
   "metadata": {
    "ExecuteTime": {
     "end_time": "2021-07-20T16:38:44.622091Z",
     "start_time": "2021-07-20T16:38:40.607768Z"
    },
    "cellView": "form",
    "code_folding": [
     0,
     32
    ],
    "colab": {
     "base_uri": "https://localhost:8080/",
     "height": 35
    },
    "id": "brQBjiTcv-ik",
    "outputId": "80b27213-cda5-49ca-8642-b8ff3bfe1093"
   },
   "outputs": [
    {
     "data": {
      "application/vnd.google.colaboratory.intrinsic+json": {
       "type": "string"
      },
      "text/plain": [
       "'1.9.0+cu102'"
      ]
     },
     "execution_count": 5,
     "metadata": {
      "tags": []
     },
     "output_type": "execute_result"
    }
   ],
   "source": [
    "#@title lib { vertical-output: true }\n",
    "# lib\n",
    "import os\n",
    "import gc\n",
    "import random\n",
    "import math\n",
    "import time\n",
    "import matplotlib.pyplot as plt\n",
    "import numpy as np\n",
    "import pandas as pd\n",
    "import seaborn as sns\n",
    "\n",
    "from datetime import datetime\n",
    "from typing import Callable, List, Union\n",
    "\n",
    "from fastprogress import master_bar, progress_bar\n",
    "from sklearn.metrics import confusion_matrix, roc_auc_score\n",
    "from sklearn.model_selection import StratifiedKFold, GroupKFold, KFold\n",
    "from torch.utils.data import DataLoader, Dataset\n",
    "from transformers import AutoTokenizer, AutoModel, AutoConfig, AdamW\n",
    "\n",
    "import torch\n",
    "import torch.nn as nn\n",
    "import torch.nn.functional as F\n",
    "import transformers\n",
    "\n",
    "\n",
    "import warnings\n",
    "warnings.filterwarnings(\"ignore\")\n",
    "\n",
    "if not os.path.exists('models'):\n",
    "    os.mkdir('models')\n",
    "\n",
    "\n",
    "def seed_everything(seed=777):\n",
    "    random.seed(seed)\n",
    "    os.environ['PYTHONHASHSEED'] = str(seed)\n",
    "    np.random.seed(seed)\n",
    "\n",
    "    torch.manual_seed(seed)\n",
    "    if torch.cuda.is_available():\n",
    "        torch.cuda.manual_seed(seed)\n",
    "        torch.cuda.manual_seed_all(seed)\n",
    "    torch.backends.cudnn.deterministic = True\n",
    "\n",
    "\n",
    "SEED = 777\n",
    "seed_everything(SEED)\n",
    "\n",
    "torch.__version__"
   ]
  },
  {
   "cell_type": "code",
   "execution_count": 6,
   "metadata": {
    "ExecuteTime": {
     "end_time": "2021-07-20T16:38:44.658797Z",
     "start_time": "2021-07-20T16:38:44.623581Z"
    },
    "id": "rr1y3KvLv-il"
   },
   "outputs": [],
   "source": [
    "data_path = '../input/commonlitreadabilityprize/'\n",
    "\n",
    "trn_df = pd.read_csv(data_path + 'train.csv')\n",
    "#trn_df.drop(trn_df.query('target == 0').index, inplace=True)\n",
    "#trn_df.reset_index(inplace=True)\n",
    "test_df = pd.read_csv(data_path + 'test.csv')\n",
    "sub_df = pd.read_csv(data_path + 'sample_submission.csv')"
   ]
  },
  {
   "cell_type": "code",
   "execution_count": 7,
   "metadata": {
    "ExecuteTime": {
     "end_time": "2021-07-20T16:38:44.664254Z",
     "start_time": "2021-07-20T16:38:44.660286Z"
    },
    "id": "wNTMBymOv-im"
   },
   "outputs": [],
   "source": [
    "def mse(preds, ys): return ((preds - ys) ** 2).mean()\n",
    "def rmse(preds, ys): return ((preds - ys) ** 2).mean() ** 0.5\n",
    "def mae(preds, ys): return abs(preds - ys).mean()"
   ]
  },
  {
   "cell_type": "markdown",
   "metadata": {
    "id": "WN8DrESXv-im"
   },
   "source": [
    "# config"
   ]
  },
  {
   "cell_type": "code",
   "execution_count": 8,
   "metadata": {
    "ExecuteTime": {
     "end_time": "2021-07-20T16:38:44.672724Z",
     "start_time": "2021-07-20T16:38:44.666236Z"
    },
    "code_folding": [],
    "id": "2lTYhrrLv-im"
   },
   "outputs": [],
   "source": [
    "class CFG:\n",
    "    debug: bool = False\n",
    "    seed = SEED\n",
    "\n",
    "    # device\n",
    "    device = xm.xla_device()\n",
    "    #device:torch.device = torch.device('cpu')\n",
    "    #device: torch.device = torch.device('cuda:0')\n",
    "    #device = torch.device('cuda' if torch.cuda.is_available() else 'cpu')\n",
    "\n",
    "    # data set\n",
    "    bs: int = 8\n",
    "    num_workers: int = 0\n",
    "\n",
    "    # model\n",
    "    model_name = 'roberta-base'\n",
    "    store_name = 'roberta-base'\n",
    "    epochs: int = 5\n",
    "\n",
    "    # gradient\n",
    "    iters_to_accumulate: int = 4\n",
    "    max_grad_norm: float = 1.\n",
    "    loss_func = None\n",
    "    metric_funcs: List[Union[Callable, None]] = [rmse, mae]\n",
    "\n",
    "    # optimizer\n",
    "    lr: int = 2e-5\n",
    "    lrs: float = [lr, lr*2, lr*5, lr*10]  # 4 groups\n",
    "    wd: float = 1e-2\n",
    "        \n",
    "    # tokenizer\n",
    "    max_len = 256\n",
    "\n",
    "\n",
    "cfg = CFG()\n",
    "cfg.loss_func = nn.MSELoss()\n",
    "\n",
    "\n",
    "if cfg.debug:\n",
    "    trn_df = trn_df.sample(frac=0.30).reset_index()\n",
    "    warnings.filterwarnings('always')\n",
    "    pass"
   ]
  },
  {
   "cell_type": "code",
   "execution_count": 9,
   "metadata": {
    "ExecuteTime": {
     "end_time": "2021-07-20T16:38:44.833387Z",
     "start_time": "2021-07-20T16:38:44.680126Z"
    },
    "colab": {
     "base_uri": "https://localhost:8080/",
     "height": 281
    },
    "id": "VqJT7ikuv-in",
    "outputId": "4fd2d97b-4480-4575-f2ab-32cfe385fe80"
   },
   "outputs": [
    {
     "data": {
      "image/png": "[encoded data removed]",
      "text/plain": [
       "<Figure size 432x288 with 1 Axes>"
      ]
     },
     "metadata": {
      "needs_background": "light",
      "tags": []
     },
     "output_type": "display_data"
    }
   ],
   "source": [
    "bins = round(1 + np.log2(len(trn_df)))\n",
    "trn_df['bins'] = pd.cut(trn_df.target, bins, labels=False)\n",
    "\n",
    "sns.countplot(trn_df['bins'], color='C0')\n",
    "\n",
    "\n",
    "skf = KFold(5, shuffle=True, random_state=cfg.seed)\n",
    "for fold, (trn_idx, val_idx) in enumerate(skf.split(trn_df, y=trn_df.bins), 1):\n",
    "    trn_df.loc[val_idx, 'fold'] = fold\n",
    "trn_df.loc[trn_df.target == 0, 'fold'] = -1"
   ]
  },
  {
   "cell_type": "markdown",
   "metadata": {
    "id": "ADkiI_dEv-io"
   },
   "source": [
    "# dataset"
   ]
  },
  {
   "cell_type": "code",
   "execution_count": 10,
   "metadata": {
    "ExecuteTime": {
     "end_time": "2021-07-20T16:38:44.848269Z",
     "start_time": "2021-07-20T16:38:44.840828Z"
    },
    "code_folding": [
     0
    ],
    "id": "vMKq-qGrv-ip"
   },
   "outputs": [],
   "source": [
    "class BERTDataSet(Dataset):\n",
    "    def __init__(self, df, tokenizer):\n",
    "        self.encodeds = tokenizer.batch_encode_plus(\n",
    "            df.excerpt.tolist(),\n",
    "            add_special_tokens=True,  # <s> and </s>\n",
    "            max_length=cfg.max_len,          # default 512 for bert\n",
    "            padding='max_length',    # padding  <pad>\n",
    "            truncation=True,         # cut if length > max length\n",
    "           \n",
    "        )\n",
    "        self.targets = df.target.values[:, None]\n",
    "\n",
    "    def __len__(self):\n",
    "        return len(self.targets)\n",
    "\n",
    "    def __getitem__(self, idx):\n",
    "\n",
    "        ids = torch.tensor(self.encodeds['input_ids'][idx], dtype=torch.long)\n",
    "        mask = torch.tensor(self.encodeds['attention_mask'][idx], dtype=torch.long)\n",
    "\n",
    "        target = torch.tensor(self.targets[idx], dtype=torch.float)\n",
    "\n",
    "        return [ids, mask], target\n",
    "    \n",
    "    \n",
    "if cfg.debug:\n",
    "    tokenizer = AutoTokenizer.from_pretrained(cfg.model_name)\n",
    "    trn_ds = BERTDataSet(trn_df, tokenizer)\n",
    "    trn_dl = DataLoader(trn_ds,\n",
    "                        batch_size=cfg.bs,\n",
    "                        shuffle=True,\n",
    "                        num_workers=cfg.num_workers,\n",
    "                        pin_memory=True)\n",
    "    print(len(trn_ds))\n",
    "    for x in trn_dl:\n",
    "        print(x)\n",
    "        break"
   ]
  },
  {
   "cell_type": "markdown",
   "metadata": {
    "id": "i1TCWLnev-iq"
   },
   "source": [
    "# model"
   ]
  },
  {
   "cell_type": "code",
   "execution_count": 11,
   "metadata": {
    "ExecuteTime": {
     "end_time": "2021-07-20T16:38:44.859676Z",
     "start_time": "2021-07-20T16:38:44.849755Z"
    },
    "code_folding": [
     0,
     19
    ],
    "id": "FrhoCHTnv-iq",
    "scrolled": false
   },
   "outputs": [],
   "source": [
    "class AttentionHead(nn.Module):\n",
    "    def __init__(self, in_size=768, h_size=512, o_size=1):\n",
    "        super().__init__()\n",
    "        self.attention = nn.Sequential(\n",
    "            nn.Linear(in_size, h_size), \n",
    "            nn.Tanh(),  \n",
    "            nn.Linear(h_size, o_size), \n",
    "            nn.Softmax(dim=1)\n",
    "        )\n",
    "        #self.linear = nn.Linear(in_size, o_size)\n",
    "        \n",
    "    def forward(self, features):\n",
    "        out = self.attention(features) * features\n",
    "        # (bs, lens, 768) to (bs, 768)\n",
    "        out = torch.sum(out, dim=1)\n",
    "        #out = self.linear(out)\n",
    "        return out\n",
    "    \n",
    "    \n",
    "class CLPRModel(nn.Module):\n",
    "    def __init__(self, model_name):\n",
    "        super(CLPRModel, self).__init__()\n",
    "        self.config = AutoConfig.from_pretrained(model_name)\n",
    "        self.config.layer_norm_eps = 1e-7\n",
    "        self.config.hidden_dropout_prob = 0.5\n",
    "        self.transformer = AutoModel.from_pretrained(model_name, self.config)\n",
    "        \n",
    "        self.hidden_size = self.config.hidden_size\n",
    "        self.attention = AttentionHead(in_size=self.hidden_size)\n",
    "        self.head = nn.Linear(self.hidden_size, 1)\n",
    "        \n",
    "    #def forward(self, input_id, attention_mask):\n",
    "    def forward(self, x):\n",
    "        #out = self.transformer(input_id, attention_mask)['last_hidden_state']\n",
    "        out = self.transformer(*x)['last_hidden_state']\n",
    "        out = self.attention(out)\n",
    "        out = self.head(out)\n",
    "        return out\n",
    " \n",
    "    \n",
    "if cfg.debug:\n",
    "    model = CLPRModel(cfg.model_name)\n",
    "    preds = model(x[0])\n",
    "    print(preds.shape)"
   ]
  },
  {
   "cell_type": "markdown",
   "metadata": {
    "id": "Z_qg1yuov-ir"
   },
   "source": [
    "# optimizer"
   ]
  },
  {
   "cell_type": "code",
   "execution_count": 12,
   "metadata": {
    "ExecuteTime": {
     "end_time": "2021-07-20T16:38:58.236612Z",
     "start_time": "2021-07-20T16:38:44.861165Z"
    },
    "code_folding": [
     0,
     31,
     42
    ],
    "id": "5LSEHxGCv-ir"
   },
   "outputs": [],
   "source": [
    "def create_optimizer(model, cfg):\n",
    "    named_parameters = list(model.named_parameters())\n",
    "\n",
    "    backbone_parameters = named_parameters[:199]\n",
    "    head_parameters = named_parameters[199:]\n",
    "\n",
    "    head_group = [params for (name, params) in head_parameters]\n",
    "\n",
    "    parameters = []\n",
    "    parameters.append({\"params\": head_group,\n",
    "                       \"weight_decay\": 0.,\n",
    "                       \"lr\": cfg.lrs[3]})\n",
    "\n",
    "    for layer_num, (name, params) in enumerate(backbone_parameters):\n",
    "        weight_decay = 0.0 if 'LayerNorm' in name or 'bias' in name else cfg.wd\n",
    "\n",
    "        lr = cfg.lrs[0]\n",
    "\n",
    "        if layer_num >= 69:\n",
    "            lr = cfg.lrs[1]\n",
    "\n",
    "        if layer_num >= 133:\n",
    "            lr = cfg.lrs[2]\n",
    "\n",
    "        parameters.append({\"params\": params,\n",
    "                           \"weight_decay\": weight_decay,\n",
    "                           \"lr\": lr})\n",
    "\n",
    "    return AdamW(parameters)\n",
    "\n",
    "\n",
    "def get_scheduler(optimizer, cfg):\n",
    "    num_training_steps = len(trn_dl) * cfg.epochs\n",
    "    num_warmup_steps = int(len(trn_dl) * 0.1)\n",
    "    return transformers.get_cosine_schedule_with_warmup(\n",
    "        optimizer,\n",
    "        num_warmup_steps,\n",
    "        num_training_steps\n",
    "    )\n",
    "\n",
    "cfg.create_optimizer = create_optimizer\n",
    "\n",
    "if 0:\n",
    "    # create dataloader\n",
    "    tokenizer = AutoTokenizer.from_pretrained(cfg.model_name)\n",
    "    trn_ds = BERTDataSet(trn_df, tokenizer)\n",
    "    trn_dl = DataLoader(trn_ds,\n",
    "                        batch_size=cfg.bs,\n",
    "                        shuffle=True,\n",
    "                        num_workers=cfg.num_workers,\n",
    "                        pin_memory=True)\n",
    "    # create model\n",
    "    model = CLPRModel('roberta-base')\n",
    "    \n",
    "    # create scheduler\n",
    "    optimizer = create_optimizer(model, cfg)\n",
    "    scheduler = get_scheduler(optimizer, cfg)\n",
    "    \n",
    "    # get lr\n",
    "    lrs = []\n",
    "    for epoch in range(cfg.epochs):\n",
    "        for _ in trn_dl:\n",
    "            lrs.append(scheduler.get_last_lr())\n",
    "            optimizer.step()\n",
    "            scheduler.step()\n",
    "    lrs = sorted(set([*zip(*lrs)]))\n",
    "    \n",
    "    # plot\n",
    "    plt.figure(figsize=(12, 3))\n",
    "    for i, lr in enumerate(lrs, 1):\n",
    "        plt.subplot(1, 4, i)\n",
    "        plt.title(f'group{i}')\n",
    "        plt.plot(lr)\n",
    "        plt.ticklabel_format(axis='y', style='sci', scilimits=(0,0))\n",
    "    plt.tight_layout()\n",
    "    plt.show()"
   ]
  },
  {
   "cell_type": "markdown",
   "metadata": {
    "id": "mM1J7F5Ov-is"
   },
   "source": [
    "# Learner"
   ]
  },
  {
   "cell_type": "code",
   "execution_count": 13,
   "metadata": {
    "id": "qseKPsc6wAIz"
   },
   "outputs": [],
   "source": [
    "class Learner4(Learner):\n",
    "    def __init__(self, cfg, model, dls, cbs=[]):\n",
    "        super().__init__(cfg, model, dls, cbs)\n",
    "\n",
    "    def one_batch(self):\n",
    "        self('before_batch')\n",
    "        xb, self.yb = to_device(self.batch, self.device)\n",
    "        self.batch_size = len(xb)\n",
    "\n",
    "        # forward\n",
    "        with torch.set_grad_enabled(self.train):\n",
    "            self.preds = self.model(xb)\n",
    "            self.loss = self.loss_func(self.preds, self.yb)\n",
    "            self.loss_item = self.loss.item()\n",
    "\n",
    "        # backward\n",
    "        if self.train:\n",
    "            self.glob_iters += 1\n",
    "            self.loss.backward()\n",
    "            xm.optimizer_step(self.optimizer, barrier=True)\n",
    "            #self.optimizer.step()\n",
    "            self.optimizer.zero_grad()\n",
    "        self('after_batch')"
   ]
  },
  {
   "cell_type": "code",
   "execution_count": 14,
   "metadata": {
    "ExecuteTime": {
     "end_time": "2021-07-20T16:39:07.780845Z",
     "start_time": "2021-07-20T16:38:58.282741Z"
    },
    "code_folding": [
     3,
     10
    ],
    "colab": {
     "base_uri": "https://localhost:8080/",
     "height": 1000
    },
    "id": "5YWWdPsYv-iu",
    "outputId": "527bff19-4ac6-454e-ec6e-612f9d269132"
   },
   "outputs": [
    {
     "name": "stderr",
     "output_type": "stream",
     "text": [
      "INFO:learner.callbacks:\n",
      "\n",
      "INFO:learner.callbacks:** Setup **\n",
      "\n",
      "INFO:learner.callbacks:Time: 2021-07-23 15:26:46.896992\n",
      "\n",
      "INFO:learner.callbacks:Parameters:\n",
      "INFO:learner.callbacks:\tbackbone_config:RobertaConfig {\n",
      "  \"_name_or_path\": \"roberta-base\",\n",
      "  \"architectures\": [\n",
      "    \"RobertaModel\"\n",
      "  ],\n",
      "  \"attention_probs_dropout_prob\": 0.1,\n",
      "  \"bos_token_id\": 0,\n",
      "  \"eos_token_id\": 2,\n",
      "  \"gradient_checkpointing\": false,\n",
      "  \"hidden_act\": \"gelu\",\n",
      "  \"hidden_dropout_prob\": 0.5,\n",
      "  \"hidden_size\": 768,\n",
      "  \"initializer_range\": 0.02,\n",
      "  \"intermediate_size\": 3072,\n",
      "  \"layer_norm_eps\": 1e-07,\n",
      "  \"max_position_embeddings\": 514,\n",
      "  \"model_type\": \"roberta\",\n",
      "  \"num_attention_heads\": 12,\n",
      "  \"num_hidden_layers\": 12,\n",
      "  \"pad_token_id\": 1,\n",
      "  \"position_embedding_type\": \"absolute\",\n",
      "  \"transformers_version\": \"4.9.0\",\n",
      "  \"type_vocab_size\": 1,\n",
      "  \"use_cache\": true,\n",
      "  \"vocab_size\": 50265\n",
      "}\n",
      "\n",
      "INFO:learner.callbacks:\tbs:8\n",
      "INFO:learner.callbacks:\tcreate_optimizer:<function create_optimizer at 0x7f04f3230050>\n",
      "INFO:learner.callbacks:\tdebug:False\n",
      "INFO:learner.callbacks:\tdevice:xla:1\n",
      "INFO:learner.callbacks:\tepochs:5\n",
      "INFO:learner.callbacks:\titers_to_accumulate:4\n",
      "INFO:learner.callbacks:\tloss_func:MSELoss()\n",
      "INFO:learner.callbacks:\tlr:2e-05\n",
      "INFO:learner.callbacks:\tlrs:[2e-05, 4e-05, 0.0001, 0.0002]\n",
      "INFO:learner.callbacks:\tmax_grad_norm:1.0\n",
      "INFO:learner.callbacks:\tmax_len:256\n",
      "INFO:learner.callbacks:\tmetric_funcs:[<function rmse at 0x7f04f31b5e60>, <function mae at 0x7f04f31b5b00>]\n",
      "INFO:learner.callbacks:\tmodel_name:roberta-base\n",
      "INFO:learner.callbacks:\tnum_workers:0\n",
      "INFO:learner.callbacks:\tseed:777\n",
      "INFO:learner.callbacks:\tstore_name:roberta-base\n",
      "INFO:learner.callbacks:\twd:0.01\n",
      "INFO:learner.callbacks:\n",
      "\n",
      "INFO:learner.callbacks:|    time|          lr|    epoch| iteration|      loss|  val loss|  train_rmse|    val_rmse|   train_mae|     val_mae|\n"
     ]
    },
    {
     "data": {
      "text/html": [
       "<table border=\"1\" class=\"dataframe\">\n",
       "  <thead>\n",
       "    <tr style=\"text-align: left;\">\n",
       "      <th>epoch</th>\n",
       "      <th>train loss</th>\n",
       "      <th>val loss</th>\n",
       "      <th>train rmse</th>\n",
       "      <th>val rmse</th>\n",
       "      <th>train mae</th>\n",
       "      <th>val mae</th>\n",
       "      <th>time</th>\n",
       "    </tr>\n",
       "  </thead>\n",
       "  <tbody>\n",
       "    <tr>\n",
       "      <td>1</td>\n",
       "      <td>0.472355</td>\n",
       "      <td>0.297610</td>\n",
       "      <td>0.649273</td>\n",
       "      <td>0.529148</td>\n",
       "      <td>0.532836</td>\n",
       "      <td>0.438215</td>\n",
       "      <td>1:25</td>\n",
       "    </tr>\n",
       "    <tr>\n",
       "      <td>2</td>\n",
       "      <td>0.237658</td>\n",
       "      <td>0.537758</td>\n",
       "      <td>0.471245</td>\n",
       "      <td>0.711867</td>\n",
       "      <td>0.392642</td>\n",
       "      <td>0.606959</td>\n",
       "      <td>1:24</td>\n",
       "    </tr>\n",
       "    <tr>\n",
       "      <td>3</td>\n",
       "      <td>0.127332</td>\n",
       "      <td>0.375913</td>\n",
       "      <td>0.343385</td>\n",
       "      <td>0.595098</td>\n",
       "      <td>0.281186</td>\n",
       "      <td>0.496083</td>\n",
       "      <td>1:23</td>\n",
       "    </tr>\n",
       "    <tr>\n",
       "      <td>4</td>\n",
       "      <td>0.069564</td>\n",
       "      <td>0.363743</td>\n",
       "      <td>0.254301</td>\n",
       "      <td>0.584223</td>\n",
       "      <td>0.208985</td>\n",
       "      <td>0.484846</td>\n",
       "      <td>1:23</td>\n",
       "    </tr>\n",
       "    <tr>\n",
       "      <td>5</td>\n",
       "      <td>0.045168</td>\n",
       "      <td>0.404021</td>\n",
       "      <td>0.204381</td>\n",
       "      <td>0.615409</td>\n",
       "      <td>0.166989</td>\n",
       "      <td>0.513396</td>\n",
       "      <td>1:23</td>\n",
       "    </tr>\n",
       "  </tbody>\n",
       "</table>"
      ],
      "text/plain": [
       "<IPython.core.display.HTML object>"
      ]
     },
     "metadata": {
      "tags": []
     },
     "output_type": "display_data"
    },
    {
     "name": "stderr",
     "output_type": "stream",
     "text": [
      "INFO:learner.callbacks:|    1:25|  1.8389e-04|        1|       284|  0.472355|  0.297610|    0.649273|    0.529148|    0.532836|    0.438215|\n",
      "INFO:learner.callbacks:|    1:24|  1.3470e-04|        2|       568|  0.237658|  0.537758|    0.471245|    0.711867|    0.392642|    0.606959|\n",
      "INFO:learner.callbacks:|    1:23|  7.1728e-05|        3|       852|  0.127332|  0.375913|    0.343385|    0.595098|    0.281186|    0.496083|\n",
      "INFO:learner.callbacks:|    1:23|  1.9983e-05|        4|      1136|  0.069564|  0.363743|    0.254301|    0.584223|    0.208985|    0.484846|\n",
      "INFO:learner.callbacks:|    1:23|  2.5468e-10|        5|      1420|  0.045168|  0.404021|    0.204381|    0.615409|    0.166989|    0.513396|\n",
      "INFO:learner.callbacks:** Finish **\n",
      "\n"
     ]
    }
   ],
   "source": [
    "tokenizer = AutoTokenizer.from_pretrained(cfg.model_name)\n",
    "logger_name = datetime.today().strftime(\"%Y-%m-%d_%H_%M_%S\")\n",
    "logger_name = 'log/' + logger_name\n",
    "logger = get_logger(logger_name, verbose=False)\n",
    "\n",
    "\n",
    "trn_ds = BERTDataSet(trn_df.iloc[trn_idx].reset_index(), tokenizer)\n",
    "trn_dl = DataLoader(trn_ds,\n",
    "                    batch_size=cfg.bs,\n",
    "                    shuffle=True,\n",
    "                    num_workers=cfg.num_workers,\n",
    "                    pin_memory=True)\n",
    "\n",
    "val_ds = BERTDataSet(trn_df.iloc[val_idx].reset_index(), tokenizer)\n",
    "val_dl = DataLoader(val_ds,\n",
    "                    batch_size=cfg.bs,\n",
    "                    shuffle=False,\n",
    "                    num_workers=cfg.num_workers,\n",
    "                    pin_memory=True)\n",
    "\n",
    "\n",
    "dls = DataLoaders(trn_dl, val_dl)\n",
    "\n",
    "\n",
    "model = CLPRModel(cfg.model_name)\n",
    "\n",
    "cfg.backbone_config = model.config\n",
    "\n",
    "\n",
    "cbs = [\n",
    "    ProgressBar(),\n",
    "    Scheduler(get_scheduler), \n",
    "    Logger(logger)\n",
    "]\n",
    "learner = Learner4(cfg, model, dls, cbs)\n",
    "\n",
    "learner.fit_single()"
   ]
  },
  {
   "cell_type": "code",
   "execution_count": 16,
   "metadata": {
    "ExecuteTime": {
     "end_time": "2021-07-20T16:47:37.641966Z",
     "start_time": "2021-07-20T16:47:36.550769Z"
    },
    "colab": {
     "base_uri": "https://localhost:8080/",
     "height": 641
    },
    "id": "sVJQSEIWv-iv",
    "outputId": "e2670f92-f50f-480e-951b-751c09f87324"
   },
   "outputs": [
    {
     "data": {
      "image/png": "[encoded data removed]",
      "text/plain": [
       "<Figure size 720x216 with 3 Axes>"
      ]
     },
     "metadata": {
      "needs_background": "light",
      "tags": []
     },
     "output_type": "display_data"
    },
    {
     "data": {
      "image/png": "[encoded data removed]",
      "text/plain": [
       "<Figure size 720x216 with 3 Axes>"
      ]
     },
     "metadata": {
      "needs_background": "light",
      "tags": []
     },
     "output_type": "display_data"
    },
    {
     "data": {
      "image/png": "[encoded data removed]",
      "text/plain": [
       "<Figure size 720x216 with 3 Axes>"
      ]
     },
     "metadata": {
      "needs_background": "light",
      "tags": []
     },
     "output_type": "display_data"
    }
   ],
   "source": [
    "plot_history(learner, 0)\n",
    "plot_history(learner, 1)\n",
    "plot_history(learner, 2)"
   ]
  },
  {
   "cell_type": "code",
   "execution_count": 18,
   "metadata": {
    "ExecuteTime": {
     "end_time": "2021-07-20T16:48:48.576273Z",
     "start_time": "2021-07-20T16:48:48.141249Z"
    },
    "colab": {
     "base_uri": "https://localhost:8080/",
     "height": 225
    },
    "id": "jSq3KFznv-iy",
    "outputId": "e949d921-6292-49a5-b07b-de47c629e81b"
   },
   "outputs": [
    {
     "data": {
      "image/png": "[encoded data removed]",
      "text/plain": [
       "<Figure size 1008x216 with 4 Axes>"
      ]
     },
     "metadata": {
      "needs_background": "light",
      "tags": []
     },
     "output_type": "display_data"
    }
   ],
   "source": [
    "plot_lr(learner)"
   ]
  },
  {
   "cell_type": "code",
   "execution_count": null,
   "metadata": {
    "id": "RK9PhrxkAPeU"
   },
   "outputs": [],
   "source": []
  }
 ],
 "metadata": {
  "accelerator": "TPU",
  "colab": {
   "collapsed_sections": [],
   "name": "single_tpu.ipynb",
   "provenance": []
  },
  "kernelspec": {
   "display_name": "Python 3",
   "language": "python",
   "name": "python3"
  },
  "language_info": {
   "codemirror_mode": {
    "name": "ipython",
    "version": 3
   },
   "file_extension": ".py",
   "mimetype": "text/x-python",
   "name": "python",
   "nbconvert_exporter": "python",
   "pygments_lexer": "ipython3",
   "version": "3.7.6"
  },
  "toc": {
   "base_numbering": 1,
   "nav_menu": {},
   "number_sections": true,
   "sideBar": true,
   "skip_h1_title": false,
   "title_cell": "Table of Contents",
   "title_sidebar": "Contents",
   "toc_cell": false,
   "toc_position": {},
   "toc_section_display": true,
   "toc_window_display": false
  },
  "varInspector": {
   "cols": {
    "lenName": 16,
    "lenType": 16,
    "lenVar": 40
   },
   "kernels_config": {
    "python": {
     "delete_cmd_postfix": "",
     "delete_cmd_prefix": "del ",
     "library": "var_list.py",
     "varRefreshCmd": "print(var_dic_list())"
    },
    "r": {
     "delete_cmd_postfix": ") ",
     "delete_cmd_prefix": "rm(",
     "library": "var_list.r",
     "varRefreshCmd": "cat(var_dic_list()) "
    }
   },
   "types_to_exclude": [
    "module",
    "function",
    "builtin_function_or_method",
    "instance",
    "_Feature"
   ],
   "window_display": false
  }
 },
 "nbformat": 4,
 "nbformat_minor": 1
}
