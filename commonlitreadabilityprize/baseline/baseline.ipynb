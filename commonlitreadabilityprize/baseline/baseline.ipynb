{
 "cells": [
  {
   "cell_type": "code",
   "execution_count": 1,
   "metadata": {
    "ExecuteTime": {
     "end_time": "2021-07-21T15:30:59.672933Z",
     "start_time": "2021-07-21T15:30:58.793517Z"
    }
   },
   "outputs": [],
   "source": [
    "import sys\n",
    "sys.path.append('../input/callbacks')\n",
    "\n",
    "from callbacks import *"
   ]
  },
  {
   "cell_type": "code",
   "execution_count": 2,
   "metadata": {
    "ExecuteTime": {
     "end_time": "2021-07-21T15:31:03.961870Z",
     "start_time": "2021-07-21T15:30:59.674401Z"
    },
    "code_folding": [
     0,
     32
    ]
   },
   "outputs": [
    {
     "data": {
      "text/plain": [
       "'1.9.0+cu102'"
      ]
     },
     "execution_count": 2,
     "metadata": {},
     "output_type": "execute_result"
    }
   ],
   "source": [
    "# lib\n",
    "import os\n",
    "import gc\n",
    "import random\n",
    "import math\n",
    "import time\n",
    "import matplotlib.pyplot as plt\n",
    "import numpy as np\n",
    "import pandas as pd\n",
    "import seaborn as sns\n",
    "\n",
    "from typing import Callable, List, Union\n",
    "\n",
    "from fastprogress import master_bar, progress_bar\n",
    "from sklearn.metrics import confusion_matrix, roc_auc_score\n",
    "from sklearn.model_selection import StratifiedKFold, GroupKFold, KFold\n",
    "from torch.utils.data import DataLoader, Dataset\n",
    "from transformers import AutoTokenizer, AutoModel, AutoConfig, AdamW\n",
    "\n",
    "import torch\n",
    "import torch.nn as nn\n",
    "import torch.nn.functional as F\n",
    "import transformers\n",
    "\n",
    "\n",
    "import warnings\n",
    "warnings.filterwarnings(\"ignore\")\n",
    "\n",
    "if not os.path.exists('models'):\n",
    "    os.mkdir('models')\n",
    "\n",
    "\n",
    "def seed_everything(seed=777):\n",
    "    random.seed(seed)\n",
    "    os.environ['PYTHONHASHSEED'] = str(seed)\n",
    "    np.random.seed(seed)\n",
    "\n",
    "    torch.manual_seed(seed)\n",
    "    if torch.cuda.is_available():\n",
    "        torch.cuda.manual_seed(seed)\n",
    "        torch.cuda.manual_seed_all(seed)\n",
    "    torch.backends.cudnn.deterministic = True\n",
    "\n",
    "\n",
    "SEED = 777\n",
    "seed_everything(SEED)\n",
    "\n",
    "torch.__version__"
   ]
  },
  {
   "cell_type": "code",
   "execution_count": 3,
   "metadata": {
    "ExecuteTime": {
     "end_time": "2021-07-21T15:31:04.000559Z",
     "start_time": "2021-07-21T15:31:03.962862Z"
    }
   },
   "outputs": [],
   "source": [
    "data_path = '../input/commonlitreadabilityprize/'\n",
    "model_path = '../input/'\n",
    "\n",
    "trn_df = pd.read_csv(data_path + 'train.csv')\n",
    "#trn_df.drop(trn_df.query('target == 0').index, inplace=True)\n",
    "#trn_df.reset_index(inplace=True)\n",
    "test_df = pd.read_csv(data_path + 'test.csv')\n",
    "sub_df = pd.read_csv(data_path + 'sample_submission.csv')"
   ]
  },
  {
   "cell_type": "code",
   "execution_count": 4,
   "metadata": {
    "ExecuteTime": {
     "end_time": "2021-07-21T15:31:04.005551Z",
     "start_time": "2021-07-21T15:31:04.002045Z"
    }
   },
   "outputs": [],
   "source": [
    "def rmse(preds, ys): return ((preds - ys) ** 2).mean() ** 0.5\n",
    "def mse(preds, ys): return ((preds - ys) ** 2).mean()\n",
    "def mae(preds, ys): return abs(preds - ys).mean() "
   ]
  },
  {
   "cell_type": "markdown",
   "metadata": {},
   "source": [
    "# config"
   ]
  },
  {
   "cell_type": "code",
   "execution_count": 5,
   "metadata": {
    "ExecuteTime": {
     "end_time": "2021-07-21T15:31:04.016429Z",
     "start_time": "2021-07-21T15:31:04.007006Z"
    },
    "code_folding": [
     0
    ]
   },
   "outputs": [],
   "source": [
    "class CFG:\n",
    "    debug: bool = False\n",
    "        \n",
    "    seed = SEED\n",
    "\n",
    "    # device\n",
    "    #device:torch.device = torch.device('cpu')\n",
    "    device: torch.device = torch.device('cuda:0')\n",
    "    #device = torch.device('cuda' if torch.cuda.is_available() else 'cpu')\n",
    "\n",
    "    # data set\n",
    "    bs: int = 4\n",
    "    num_workers: int = 0\n",
    "\n",
    "    # model\n",
    "    model_name = 'roberta-base'\n",
    "    store_name = 'roberta-base'\n",
    "    epochs: int = 10 \n",
    "\n",
    "    # gradient\n",
    "    iters_to_accumulate: int = 1\n",
    "    max_grad_norm: float = 1.\n",
    "    loss_func = None\n",
    "    metric_funcs: List[Union[Callable, None]] = []\n",
    "\n",
    "    # optimizer\n",
    "    lr: int = 2e-5\n",
    "    lrs: float = [lr, lr*2, lr*5, lr*10]  # 4 groups\n",
    "    wd: float = 1e-2\n",
    "    step_size = 4\n",
    "        \n",
    "        \n",
    "    # tokenizer\n",
    "    max_len = 200\n",
    "\n",
    "\n",
    "cfg = CFG()\n",
    "cfg.metric_funcs += [rmse, mae]\n",
    "cfg.loss_func = nn.MSELoss()"
   ]
  },
  {
   "cell_type": "code",
   "execution_count": 6,
   "metadata": {
    "ExecuteTime": {
     "end_time": "2021-07-21T15:31:04.023907Z",
     "start_time": "2021-07-21T15:31:04.018414Z"
    }
   },
   "outputs": [],
   "source": [
    "if cfg.debug:\n",
    "    trn_df = trn_df.sample(frac=0.30).reset_index()\n",
    "    warnings.filterwarnings('always')\n",
    "    pass"
   ]
  },
  {
   "cell_type": "code",
   "execution_count": 7,
   "metadata": {
    "ExecuteTime": {
     "end_time": "2021-07-21T15:31:04.169717Z",
     "start_time": "2021-07-21T15:31:04.026349Z"
    }
   },
   "outputs": [
    {
     "data": {
      "text/plain": [
       "<matplotlib.axes._subplots.AxesSubplot at 0x23b1f132148>"
      ]
     },
     "execution_count": 7,
     "metadata": {},
     "output_type": "execute_result"
    },
    {
     "data": {
      "image/png": "[encoded data removed]",
      "text/plain": [
       "<Figure size 432x288 with 1 Axes>"
      ]
     },
     "metadata": {
      "needs_background": "light"
     },
     "output_type": "display_data"
    }
   ],
   "source": [
    "bins = round(1 + np.log2(len(trn_df)))\n",
    "trn_df['bins'] = pd.cut(trn_df.target, bins, labels=False)\n",
    "\n",
    "sns.countplot(trn_df['bins'], color='C0')"
   ]
  },
  {
   "cell_type": "code",
   "execution_count": 8,
   "metadata": {
    "ExecuteTime": {
     "end_time": "2021-07-21T15:31:04.189035Z",
     "start_time": "2021-07-21T15:31:04.171204Z"
    }
   },
   "outputs": [],
   "source": [
    "trn_df['fold'] = -1\n",
    "#skf = StratifiedKFold(5, shuffle=True, random_state=cfg.seed)\n",
    "\n",
    "skf = StratifiedKFold(5, shuffle=True, random_state=cfg.seed)\n",
    "for fold, (trn_idx, val_idx) in enumerate(skf.split(trn_df, y=trn_df.bins), 1):\n",
    "    trn_df.loc[val_idx, 'fold'] = fold\n",
    "trn_df.loc[trn_df.target == 0, 'fold'] = -1"
   ]
  },
  {
   "cell_type": "markdown",
   "metadata": {},
   "source": [
    "# dataset"
   ]
  },
  {
   "cell_type": "code",
   "execution_count": 9,
   "metadata": {
    "ExecuteTime": {
     "end_time": "2021-07-21T15:31:04.194491Z",
     "start_time": "2021-07-21T15:31:04.190523Z"
    }
   },
   "outputs": [],
   "source": [
    "class DataLoaders:\n",
    "    def __init__(self, *dls): self.train, self.valid = dls"
   ]
  },
  {
   "cell_type": "code",
   "execution_count": 10,
   "metadata": {
    "ExecuteTime": {
     "end_time": "2021-07-21T15:31:04.205403Z",
     "start_time": "2021-07-21T15:31:04.195979Z"
    },
    "code_folding": [
     25
    ]
   },
   "outputs": [],
   "source": [
    "class BERTDataSet(Dataset):\n",
    "    def __init__(self, df, tokenizer):\n",
    "        self.encodeds = tokenizer.batch_encode_plus(\n",
    "            df.excerpt.tolist(),\n",
    "            add_special_tokens=True,  # <s> and </s>\n",
    "            max_length=cfg.max_len,          # default 512 for bert\n",
    "            padding='max_length',    # padding  <pad>\n",
    "            truncation=True,         # cut if length > max length\n",
    "           \n",
    "        )\n",
    "        self.targets = df.target.values[:, None]\n",
    "\n",
    "    def __len__(self):\n",
    "        return len(self.targets)\n",
    "\n",
    "    def __getitem__(self, idx):\n",
    "\n",
    "        ids = torch.tensor(self.encodeds['input_ids'][idx], dtype=torch.long)\n",
    "        mask = torch.tensor(self.encodeds['attention_mask'][idx], dtype=torch.long)\n",
    "\n",
    "        target = torch.tensor(self.targets[idx], dtype=torch.float)\n",
    "\n",
    "        return [ids, mask], target\n",
    "    \n",
    "    \n",
    "if cfg.debug:\n",
    "    tokenizer = AutoTokenizer.from_pretrained(cfg.model_name)\n",
    "    trn_ds = BERTDataSet(trn_df, tokenizer)\n",
    "    trn_dl = DataLoader(trn_ds,\n",
    "                        batch_size=cfg.bs,\n",
    "                        shuffle=True,\n",
    "                        num_workers=cfg.num_workers,\n",
    "                        pin_memory=True)\n",
    "    print(len(trn_ds))\n",
    "    for x in trn_dl:\n",
    "        print(x)\n",
    "        break"
   ]
  },
  {
   "cell_type": "markdown",
   "metadata": {},
   "source": [
    "# model"
   ]
  },
  {
   "cell_type": "code",
   "execution_count": 11,
   "metadata": {
    "ExecuteTime": {
     "end_time": "2021-07-21T15:31:04.218320Z",
     "start_time": "2021-07-21T15:31:04.206892Z"
    },
    "code_folding": [
     0,
     19,
     39
    ],
    "scrolled": false
   },
   "outputs": [],
   "source": [
    "class AttentionHead(nn.Module):\n",
    "    def __init__(self, in_size=768, h_size=512, o_size=1):\n",
    "        super().__init__()\n",
    "        self.attention = nn.Sequential(\n",
    "            nn.Linear(in_size, h_size), \n",
    "            nn.Tanh(),  \n",
    "            nn.Linear(h_size, o_size), \n",
    "            nn.Softmax(dim=1)\n",
    "        )\n",
    "        #self.linear = nn.Linear(in_size, o_size)\n",
    "        \n",
    "    def forward(self, features):\n",
    "        out = self.attention(features) * features\n",
    "        # (bs, lens, 768) to (bs, 768)\n",
    "        out = torch.sum(out, dim=1)\n",
    "        #out = self.linear(out)\n",
    "        return out\n",
    "    \n",
    "    \n",
    "class CLPRModel(nn.Module):\n",
    "    def __init__(self, model_name):\n",
    "        super(CLPRModel, self).__init__()\n",
    "        self.config = AutoConfig.from_pretrained(model_name)\n",
    "        self.config.layer_norm_eps = 1e-7\n",
    "        self.config.hidden_dropout_prob = 5.0\n",
    "        self.transformer = AutoModel.from_pretrained(model_name, self.config)\n",
    "        \n",
    "        self.hidden_size = self.config.hidden_size\n",
    "        self.attention = AttentionHead(in_size=self.hidden_size)\n",
    "        self.head = nn.Linear(self.hidden_size, 1)\n",
    "        \n",
    "    #def forward(self, input_id, attention_mask):\n",
    "    def forward(self, x):\n",
    "        #out = self.transformer(input_id, attention_mask)['last_hidden_state']\n",
    "        out = self.transformer(*x)['last_hidden_state']\n",
    "        out = self.attention(out)\n",
    "        out = self.head(out)\n",
    "        return out\n",
    "    \n",
    "if cfg.debug:\n",
    "    model = CLPRModel(cfg.model_name)\n",
    "    preds = model(x[0])\n",
    "    print(preds.shape)"
   ]
  },
  {
   "cell_type": "markdown",
   "metadata": {},
   "source": [
    "# optimizer"
   ]
  },
  {
   "cell_type": "code",
   "execution_count": 12,
   "metadata": {
    "ExecuteTime": {
     "end_time": "2021-07-21T15:31:12.392282Z",
     "start_time": "2021-07-21T15:31:04.220282Z"
    },
    "code_folding": [
     0,
     13,
     33,
     49
    ]
   },
   "outputs": [
    {
     "data": {
      "image/png": "[encoded data removed]",
      "text/plain": [
       "<Figure size 864x216 with 4 Axes>"
      ]
     },
     "metadata": {
      "needs_background": "light"
     },
     "output_type": "display_data"
    }
   ],
   "source": [
    "def create_optimizer(model, cfg):\n",
    "    named_parameters = list(model.named_parameters())\n",
    "\n",
    "    backbone_parameters = named_parameters[:199]\n",
    "    head_parameters = named_parameters[199:]\n",
    "\n",
    "    head_group = [params for (name, params) in head_parameters]\n",
    "\n",
    "    parameters = []\n",
    "    parameters.append({\"params\": head_group,\n",
    "                       \"weight_decay\": 0.,\n",
    "                       \"lr\": cfg.lrs[3]})\n",
    "\n",
    "    for layer_num, (name, params) in enumerate(backbone_parameters):\n",
    "        weight_decay = 0.0 if 'LayerNorm' in name or 'bias' in name else cfg.wd\n",
    "\n",
    "        lr = cfg.lrs[0]\n",
    "\n",
    "        if layer_num >= 69:\n",
    "            lr = cfg.lrs[1]\n",
    "\n",
    "        if layer_num >= 133:\n",
    "            lr = cfg.lrs[2]\n",
    "\n",
    "        parameters.append({\"params\": params,\n",
    "                           \"weight_decay\": weight_decay,\n",
    "                           \"lr\": lr})\n",
    "    optimizer = AdamW(parameters)\n",
    "    cfg.optimizer_name = AdamW.__name__\n",
    "\n",
    "    return AdamW(parameters)\n",
    "\n",
    "\n",
    "def get_scheduler(optimizer, cfg):\n",
    "    schedular_params = dict(\n",
    "        num_training_steps = len(trn_dl) * cfg.epochs,\n",
    "        num_warmup_steps = int(len(trn_dl) * 0.1)\n",
    "    )\n",
    "    \n",
    "    scheduler = transformers.get_linear_schedule_with_warmup(\n",
    "        optimizer,\n",
    "        schedular_params['num_warmup_steps'],\n",
    "        schedular_params['num_training_steps'],\n",
    "    )\n",
    "    schedular_params['schdular_name'] = transformers.get_linear_schedule_with_warmup.__name__\n",
    "    cfg.schedular_params = schedular_params\n",
    "    return scheduler\n",
    "\n",
    "\n",
    "if 1:\n",
    "    # create dataloader\n",
    "    tokenizer = AutoTokenizer.from_pretrained(model_path+cfg.model_name)\n",
    "    trn_ds = BERTDataSet(trn_df, tokenizer)\n",
    "    trn_dl = DataLoader(trn_ds,\n",
    "                        batch_size=cfg.bs,\n",
    "                        shuffle=True,\n",
    "                        num_workers=cfg.num_workers,\n",
    "                        pin_memory=True)\n",
    "    # create model\n",
    "    model = CLPRModel(model_path+'roberta-base')\n",
    "    \n",
    "    # create scheduler\n",
    "    optimizer = create_optimizer(model, cfg)\n",
    "    scheduler = get_scheduler(optimizer, cfg)\n",
    "    \n",
    "    # get lr\n",
    "    lrs = []\n",
    "    for epoch in range(cfg.epochs):\n",
    "        for _ in trn_dl:\n",
    "            lrs.append(scheduler.get_last_lr())\n",
    "            optimizer.step()\n",
    "            scheduler.step()\n",
    "    lrs = sorted(set([*zip(*lrs)]))\n",
    "    \n",
    "    # plot\n",
    "    plt.figure(figsize=(12, 3))\n",
    "    for i, lr in enumerate(lrs, 1):\n",
    "        plt.subplot(1, 4, i)\n",
    "        plt.title(f'group{i}')\n",
    "        plt.plot(lr)\n",
    "        plt.ticklabel_format(axis='y', style='sci', scilimits=(0,0))\n",
    "    plt.tight_layout()\n",
    "    plt.show()"
   ]
  },
  {
   "cell_type": "markdown",
   "metadata": {},
   "source": [
    "# Learner"
   ]
  },
  {
   "cell_type": "code",
   "execution_count": 13,
   "metadata": {
    "ExecuteTime": {
     "end_time": "2021-07-21T15:31:12.409642Z",
     "start_time": "2021-07-21T15:31:12.393274Z"
    },
    "code_folding": [
     0,
     1,
     20,
     26,
     55,
     66,
     73,
     87,
     98
    ]
   },
   "outputs": [],
   "source": [
    "class Learner:\n",
    "    def __init__(self, cfg, model, dls, cbs=[]):\n",
    "        self.cfg = cfg\n",
    "        set_cfg_attr(self, cfg)\n",
    "\n",
    "        # model\n",
    "        self.model = model.to(self.device)\n",
    "        self.dls = dls\n",
    "        self.optimizer = create_optimizer(self.model, self.cfg)\n",
    "        self.scaler = torch.cuda.amp.GradScaler()\n",
    "\n",
    "        # callbacks\n",
    "        self.cbs = cbs\n",
    "        for cb in self.cbs: cb.learner = self\n",
    "        \n",
    "        # init \n",
    "        self.glob_iters = 0\n",
    "        self.nums_of_backward = 0 # trick for gradient accumulate\n",
    "        self.mb = range(1, self.epochs + 1)\n",
    "        \n",
    "    def one_batch(self):\n",
    "        self('before_batch')\n",
    "        xb, self.yb = to_device(self.batch, self.device)\n",
    "        self.batch_size = len(xb)\n",
    "\n",
    "        # forward\n",
    "        with torch.set_grad_enabled(self.train):\n",
    "            with torch.cuda.amp.autocast():\n",
    "                self.preds = self.model(xb)\n",
    "                self.loss = self.loss_func(self.preds, self.yb)\n",
    "                self.loss_item = self.loss.item()\n",
    "\n",
    "        # backward\n",
    "        if self.train:\n",
    "            self.loss = self.loss / self.iters_to_accumulate\n",
    "            #self.loss.backward()\n",
    "            self.scaler.scale(self.loss).backward()\n",
    "            self.nums_of_backward += 1\n",
    "            \n",
    "            if self.nums_of_backward % self.iters_to_accumulate == 0:\n",
    "                self.glob_iters += 1\n",
    "                \n",
    "                # clip grads\n",
    "                self.scaler.unscale_(self.optimizer)\n",
    "                torch.nn.utils.clip_grad_norm_(self.model.parameters(),\n",
    "                        self.cfg.max_grad_norm)\n",
    "                \n",
    "                # step\n",
    "                #self.optimizer.step()\n",
    "                self.scaler.step(self.optimizer)\n",
    "                self.scaler.update()\n",
    "                self.optimizer.zero_grad()\n",
    "                \n",
    "        self('after_batch')\n",
    "\n",
    "    def one_epoch(self, train: bool):\n",
    "        self.train = train\n",
    "        self.model.train(train)\n",
    "        self.dl = self.dls.train if train else self.dls.valid\n",
    "        \n",
    "        self.pb = self.dl\n",
    "        self('before_epoch')\n",
    "        for self.num, self.batch in enumerate(self.pb):\n",
    "            self.one_batch()\n",
    "        self('after_epoch')\n",
    "\n",
    "    def fit_single(self):\n",
    "        self('before_fit')\n",
    "        for self.epoch in self.mb:\n",
    "            self.one_epoch(True)\n",
    "            self.one_epoch(False)\n",
    "        self('after_fit')\n",
    "\n",
    "    def save(self, path):\n",
    "        path += '.pth'\n",
    "        self.model.eval()\n",
    "        torch.save(\n",
    "            {\n",
    "                'model_state_dict': self.model.state_dict(),\n",
    "                'optimizer_state_dict': self.optimizer.state_dict(),\n",
    "                'scheduler_state_dict': self.scheduler.state_dict(),\n",
    "                'scaler': self.scaler.state_dict(),\n",
    "                'epoch': self.epoch,\n",
    "                'history': self.history,\n",
    "            },\n",
    "            path)\n",
    "\n",
    "    def load(self, path, model_only=False):\n",
    "        path += '.pth'\n",
    "        checkpoint = torch.load(path)\n",
    "        self.model.load_state_dict(checkpoint['model_state_dict'])\n",
    "        if not model_only:\n",
    "            self.optimizer.load_state_dict(checkpoint['optimizer_state_dict'])\n",
    "            self.scheduler.load_state_dict(checkpoint['scheduler_state_dict'])\n",
    "            self.scaler.load_state_dict(checkpoint['scaler'])\n",
    "            self.epoch = checkpoint['epoch']\n",
    "            self.history = checkpoint['history']\n",
    "\n",
    "    def __call__(self, name):\n",
    "        for cb in self.cbs:\n",
    "            getattr(cb, name, noop)()"
   ]
  },
  {
   "cell_type": "code",
   "execution_count": 14,
   "metadata": {
    "ExecuteTime": {
     "end_time": "2021-07-21T15:31:12.420058Z",
     "start_time": "2021-07-21T15:31:12.411626Z"
    },
    "code_folding": [
     0
    ]
   },
   "outputs": [],
   "source": [
    "class GetOOF(Callback):\n",
    "    def before_fit(self):\n",
    "        self.learner.oof = dict(preds=[], ys=[])\n",
    "    \n",
    "    def after_batch(self):\n",
    "        if not self.train:\n",
    "            self.oof['preds'].append(to_numpy(self.preds))\n",
    "            self.oof['ys'].append(to_numpy(self.yb))\n",
    "\n",
    "    def after_fit(self):\n",
    "        self.learner.oof['preds'] = np.concatenate(self.oof['preds'])\n",
    "        self.learner.oof['ys'] = np.concatenate(self.oof['ys'])"
   ]
  },
  {
   "cell_type": "code",
   "execution_count": 15,
   "metadata": {
    "ExecuteTime": {
     "end_time": "2021-07-21T15:31:14.287971Z",
     "start_time": "2021-07-21T15:31:12.421546Z"
    },
    "code_folding": [
     0,
     7,
     14
    ]
   },
   "outputs": [],
   "source": [
    "# setup\n",
    "tokenizer = AutoTokenizer.from_pretrained(model_path+cfg.model_name)\n",
    "logger_name = datetime.today().strftime(\"%Y-%m-%d_%H_%M_%S\")\n",
    "logger = get_logger(logger_name, verbose=False)\n",
    "\n",
    "\n",
    "trn_ds = BERTDataSet(trn_df.iloc[trn_idx].reset_index(), tokenizer)\n",
    "trn_dl = DataLoader(trn_ds,\n",
    "                    batch_size=cfg.bs,\n",
    "                    shuffle=True,\n",
    "                    num_workers=cfg.num_workers,\n",
    "                    pin_memory=True)\n",
    "\n",
    "val_ds = BERTDataSet(trn_df.iloc[val_idx].reset_index(), tokenizer)\n",
    "val_dl = DataLoader(val_ds,\n",
    "                    batch_size=cfg.bs,\n",
    "                    shuffle=False,\n",
    "                    num_workers=cfg.num_workers,\n",
    "                    pin_memory=True)\n",
    "\n",
    "\n",
    "dls = DataLoaders(trn_dl, val_dl)\n",
    "\n",
    "\n",
    "model = CLPRModel(model_path+cfg.model_name)\n",
    "\n",
    "cfg.backbone_config = model.config"
   ]
  },
  {
   "cell_type": "code",
   "execution_count": 16,
   "metadata": {
    "ExecuteTime": {
     "end_time": "2021-07-21T15:31:14.546880Z",
     "start_time": "2021-07-21T15:31:14.289955Z"
    }
   },
   "outputs": [],
   "source": [
    "cbs = [\n",
    "    Timer(), \n",
    "    Recorder(), \n",
    "    ProgressBar(),\n",
    "    Scheduler(get_scheduler), \n",
    "    ModelCheckPoint(store_name=cfg.store_name, skip_start=3),\n",
    "    GetOOF(),\n",
    "    GetLogger(logger),\n",
    "]\n",
    "learner = Learner(cfg, model, dls, cbs)"
   ]
  },
  {
   "cell_type": "code",
   "execution_count": 17,
   "metadata": {
    "ExecuteTime": {
     "end_time": "2021-07-21T15:50:44.182229Z",
     "start_time": "2021-07-21T15:31:14.548368Z"
    }
   },
   "outputs": [
    {
     "data": {
      "text/html": [
       "<table border=\"1\" class=\"dataframe\">\n",
       "  <thead>\n",
       "    <tr style=\"text-align: left;\">\n",
       "      <th>epoch</th>\n",
       "      <th>train loss</th>\n",
       "      <th>val loss</th>\n",
       "      <th>train rmse</th>\n",
       "      <th>val rmse</th>\n",
       "      <th>train mae</th>\n",
       "      <th>val mae</th>\n",
       "      <th>time</th>\n",
       "    </tr>\n",
       "  </thead>\n",
       "  <tbody>\n",
       "    <tr>\n",
       "      <td>1</td>\n",
       "      <td>0.538098</td>\n",
       "      <td>0.856139</td>\n",
       "      <td>0.670632</td>\n",
       "      <td>0.879373</td>\n",
       "      <td>0.563635</td>\n",
       "      <td>0.778749</td>\n",
       "      <td>1:49</td>\n",
       "    </tr>\n",
       "    <tr>\n",
       "      <td>2</td>\n",
       "      <td>0.292963</td>\n",
       "      <td>0.368570</td>\n",
       "      <td>0.505500</td>\n",
       "      <td>0.569600</td>\n",
       "      <td>0.429973</td>\n",
       "      <td>0.482805</td>\n",
       "      <td>1:55</td>\n",
       "    </tr>\n",
       "    <tr>\n",
       "      <td>3</td>\n",
       "      <td>0.175889</td>\n",
       "      <td>0.642640</td>\n",
       "      <td>0.390405</td>\n",
       "      <td>0.758944</td>\n",
       "      <td>0.328710</td>\n",
       "      <td>0.666787</td>\n",
       "      <td>1:56</td>\n",
       "    </tr>\n",
       "    <tr>\n",
       "      <td>4</td>\n",
       "      <td>0.103046</td>\n",
       "      <td>0.298286</td>\n",
       "      <td>0.299210</td>\n",
       "      <td>0.513103</td>\n",
       "      <td>0.253263</td>\n",
       "      <td>0.439733</td>\n",
       "      <td>1:56</td>\n",
       "    </tr>\n",
       "    <tr>\n",
       "      <td>5</td>\n",
       "      <td>0.066563</td>\n",
       "      <td>0.438254</td>\n",
       "      <td>0.239345</td>\n",
       "      <td>0.623931</td>\n",
       "      <td>0.203364</td>\n",
       "      <td>0.539660</td>\n",
       "      <td>1:56</td>\n",
       "    </tr>\n",
       "    <tr>\n",
       "      <td>6</td>\n",
       "      <td>0.042514</td>\n",
       "      <td>0.414537</td>\n",
       "      <td>0.191619</td>\n",
       "      <td>0.603235</td>\n",
       "      <td>0.163970</td>\n",
       "      <td>0.522925</td>\n",
       "      <td>1:58</td>\n",
       "    </tr>\n",
       "    <tr>\n",
       "      <td>7</td>\n",
       "      <td>0.029568</td>\n",
       "      <td>0.351643</td>\n",
       "      <td>0.159752</td>\n",
       "      <td>0.554230</td>\n",
       "      <td>0.135127</td>\n",
       "      <td>0.475095</td>\n",
       "      <td>1:59</td>\n",
       "    </tr>\n",
       "    <tr>\n",
       "      <td>8</td>\n",
       "      <td>0.019292</td>\n",
       "      <td>0.339470</td>\n",
       "      <td>0.129132</td>\n",
       "      <td>0.543177</td>\n",
       "      <td>0.109825</td>\n",
       "      <td>0.465185</td>\n",
       "      <td>1:58</td>\n",
       "    </tr>\n",
       "    <tr>\n",
       "      <td>9</td>\n",
       "      <td>0.012587</td>\n",
       "      <td>0.374489</td>\n",
       "      <td>0.104646</td>\n",
       "      <td>0.571574</td>\n",
       "      <td>0.088202</td>\n",
       "      <td>0.491995</td>\n",
       "      <td>2:00</td>\n",
       "    </tr>\n",
       "    <tr>\n",
       "      <td>10</td>\n",
       "      <td>0.008483</td>\n",
       "      <td>0.338689</td>\n",
       "      <td>0.085593</td>\n",
       "      <td>0.544068</td>\n",
       "      <td>0.072336</td>\n",
       "      <td>0.467950</td>\n",
       "      <td>1:59</td>\n",
       "    </tr>\n",
       "  </tbody>\n",
       "</table>"
      ],
      "text/plain": [
       "<IPython.core.display.HTML object>"
      ]
     },
     "metadata": {},
     "output_type": "display_data"
    },
    {
     "name": "stdout",
     "output_type": "stream",
     "text": [
      "Autoload the best model\n"
     ]
    }
   ],
   "source": [
    "learner.fit_single()"
   ]
  },
  {
   "cell_type": "code",
   "execution_count": 18,
   "metadata": {
    "ExecuteTime": {
     "end_time": "2021-07-21T15:50:44.191656Z",
     "start_time": "2021-07-21T15:50:44.184215Z"
    }
   },
   "outputs": [
    {
     "name": "stdout",
     "output_type": "stream",
     "text": [
      "CV: \n",
      "\trmse: 0.6654198854360998\n",
      "\tmae: 0.533285915851593\n"
     ]
    }
   ],
   "source": [
    "preds, ys = learner.oof.values()\n",
    "metrics = {m.__name__:m(preds, ys) for m in cfg.metric_funcs}\n",
    "print(f'CV: ')\n",
    "logger.info(f'\\nCV: ')\n",
    "for func_name in metrics:\n",
    "    print(f'\\t{func_name}: {metrics[func_name]}')\n",
    "    logger.info(f'\\t{func_name}: {metrics[func_name]}')"
   ]
  },
  {
   "cell_type": "code",
   "execution_count": 19,
   "metadata": {
    "ExecuteTime": {
     "end_time": "2021-07-21T15:50:45.447563Z",
     "start_time": "2021-07-21T15:50:44.194631Z"
    }
   },
   "outputs": [
    {
     "data": {
      "image/png": "[encoded data removed]",
      "text/plain": [
       "<Figure size 1008x288 with 3 Axes>"
      ]
     },
     "metadata": {
      "needs_background": "light"
     },
     "output_type": "display_data"
    },
    {
     "data": {
      "image/png": "[encoded data removed]",
      "text/plain": [
       "<Figure size 1008x288 with 3 Axes>"
      ]
     },
     "metadata": {
      "needs_background": "light"
     },
     "output_type": "display_data"
    },
    {
     "data": {
      "image/png": "[encoded data removed]",
      "text/plain": [
       "<Figure size 1008x288 with 3 Axes>"
      ]
     },
     "metadata": {
      "needs_background": "light"
     },
     "output_type": "display_data"
    }
   ],
   "source": [
    "plot_history(learner, 0)\n",
    "plot_history(learner, 1)\n",
    "plot_history(learner, 2)"
   ]
  },
  {
   "cell_type": "code",
   "execution_count": 20,
   "metadata": {
    "ExecuteTime": {
     "end_time": "2021-07-21T15:50:45.459453Z",
     "start_time": "2021-07-21T15:50:45.448508Z"
    },
    "scrolled": true
   },
   "outputs": [
    {
     "name": "stdout",
     "output_type": "stream",
     "text": [
      "\n",
      "\n",
      "** Setup **\n",
      "\n",
      "Time: 2021-07-21 23:31:14.550851\n",
      "\n",
      "device: GeForce GTX 1080\n",
      "\n",
      "Parameters:\n",
      "\tbackbone_config:RobertaConfig {\n",
      "  \"_name_or_path\": \"roberta-base\",\n",
      "  \"architectures\": [\n",
      "    \"RobertaModel\"\n",
      "  ],\n",
      "  \"attention_probs_dropout_prob\": 0.1,\n",
      "  \"bos_token_id\": 0,\n",
      "  \"eos_token_id\": 2,\n",
      "  \"gradient_checkpointing\": false,\n",
      "  \"hidden_act\": \"gelu\",\n",
      "  \"hidden_dropout_prob\": 5.0,\n",
      "  \"hidden_size\": 768,\n",
      "  \"initializer_range\": 0.02,\n",
      "  \"intermediate_size\": 3072,\n",
      "  \"layer_norm_eps\": 1e-07,\n",
      "  \"max_position_embeddings\": 514,\n",
      "  \"model_type\": \"roberta\",\n",
      "  \"num_attention_heads\": 12,\n",
      "  \"num_hidden_layers\": 12,\n",
      "  \"pad_token_id\": 1,\n",
      "  \"position_embedding_type\": \"absolute\",\n",
      "  \"transformers_version\": \"4.8.2\",\n",
      "  \"type_vocab_size\": 1,\n",
      "  \"use_cache\": true,\n",
      "  \"vocab_size\": 50265\n",
      "}\n",
      "\n",
      "\tbs:4\n",
      "\tdebug:False\n",
      "\tdevice:cuda:0\n",
      "\tepochs:10\n",
      "\titers_to_accumulate:1\n",
      "\tloss_func:MSELoss()\n",
      "\tlr:2e-05\n",
      "\tlrs:[2e-05, 4e-05, 0.0001, 0.0002]\n",
      "\tmax_grad_norm:1.0\n",
      "\tmax_len:200\n",
      "\tmetric_funcs:[<function rmse at 0x0000023B1F107A68>, <function mae at 0x0000023B1F107D38>]\n",
      "\tmodel_name:roberta-base\n",
      "\tnum_workers:0\n",
      "\toptimizer_name:AdamW\n",
      "\tschedular_params:{'num_training_steps': 5670, 'num_warmup_steps': 56, 'schdular_name': 'get_linear_schedule_with_warmup'}\n",
      "\tseed:777\n",
      "\tstep_size:4\n",
      "\tstore_name:roberta-base\n",
      "\twd:0.01\n",
      "\n",
      "\n",
      "|    time|          lr|    epoch| iteration|      loss|  val loss|  train_rmse|    val_rmse|   train_mae|     val_mae|\n",
      "|    1:49|  1.8183e-04|        1|       567|  0.538098|  0.856139|    0.670632|    0.879373|    0.563635|    0.778749|\n",
      "|    1:55|  1.6163e-04|        2|      1134|  0.292963|  0.368570|    0.505500|    0.569600|    0.429973|    0.482805|\n",
      "|    1:56|  1.4143e-04|        3|      1701|  0.175889|  0.642640|    0.390405|    0.758944|    0.328710|    0.666787|\n",
      "|    1:56|  1.2123e-04|        4|      2268|  0.103046|  0.298286|    0.299210|    0.513103|    0.253263|    0.439733|\n",
      "|    1:56|  1.0103e-04|        5|      2835|  0.066563|  0.438254|    0.239345|    0.623931|    0.203364|    0.539660|\n",
      "|    1:58|  8.0834e-05|        6|      3402|  0.042514|  0.414537|    0.191619|    0.603235|    0.163970|    0.522925|\n",
      "|    1:59|  6.0634e-05|        7|      3969|  0.029568|  0.351643|    0.159752|    0.554230|    0.135127|    0.475095|\n",
      "|    1:58|  4.0435e-05|        8|      4536|  0.019292|  0.339470|    0.129132|    0.543177|    0.109825|    0.465185|\n",
      "|    2:00|  2.0235e-05|        9|      5103|  0.012587|  0.374489|    0.104646|    0.571574|    0.088202|    0.491995|\n",
      "|    1:59|  3.5625e-08|       10|      5670|  0.008483|  0.338689|    0.085593|    0.544068|    0.072336|    0.467950|\n",
      "** Finish **\n",
      "\n",
      "\n",
      "CV: \n",
      "\trmse: 0.6654198854360998\n",
      "\tmae: 0.533285915851593\n",
      "\n"
     ]
    }
   ],
   "source": [
    "with open(f'{logger_name}.log') as f:\n",
    "    file = f.read()\n",
    "print(file)"
   ]
  },
  {
   "cell_type": "code",
   "execution_count": 21,
   "metadata": {
    "ExecuteTime": {
     "end_time": "2021-07-21T15:50:46.048663Z",
     "start_time": "2021-07-21T15:50:45.460909Z"
    },
    "code_folding": [
     0
    ]
   },
   "outputs": [
    {
     "data": {
      "image/png": "[encoded data removed]",
      "text/plain": [
       "<Figure size 1008x216 with 4 Axes>"
      ]
     },
     "metadata": {
      "needs_background": "light"
     },
     "output_type": "display_data"
    }
   ],
   "source": [
    "plot_lr(learner)"
   ]
  },
  {
   "cell_type": "code",
   "execution_count": null,
   "metadata": {},
   "outputs": [],
   "source": []
  },
  {
   "cell_type": "code",
   "execution_count": 30,
   "metadata": {
    "ExecuteTime": {
     "end_time": "2021-07-21T16:12:37.972747Z",
     "start_time": "2021-07-21T16:12:37.966269Z"
    }
   },
   "outputs": [],
   "source": [
    "encodeds = tokenizer.batch_encode_plus(\n",
    "            test_df.excerpt.tolist(),\n",
    "            add_special_tokens=True,  # <s> and </s>\n",
    "            max_length=cfg.max_len,          # default 512 for bert\n",
    "            padding='max_length',    # padding  <pad>\n",
    "            truncation=True,         # cut if length > max length\n",
    "        )\n",
    "\n",
    "ids = torch.tensor(encodeds['input_ids'], dtype=torch.long)\n",
    "mask = torch.tensor(encodeds['attention_mask'], dtype=torch.long)\n",
    "\n",
    "xs = [ids, mask]\n",
    "xs = to_device(xs, cfg.device)\n",
    "model.eval()\n",
    "with torch.no_grad():\n",
    "    preds = model(xs)\n",
    "preds"
   ]
  },
  {
   "cell_type": "code",
   "execution_count": null,
   "metadata": {},
   "outputs": [],
   "source": []
  },
  {
   "cell_type": "markdown",
   "metadata": {
    "heading_collapsed": true
   },
   "source": [
    "## "
   ]
  },
  {
   "cell_type": "code",
   "execution_count": 22,
   "metadata": {
    "ExecuteTime": {
     "end_time": "2021-07-21T15:50:46.331877Z",
     "start_time": "2021-07-21T15:50:46.050153Z"
    },
    "hidden": true
   },
   "outputs": [
    {
     "ename": "AssertionError",
     "evalue": "",
     "output_type": "error",
     "traceback": [
      "\u001b[1;31m---------------------------------------------------------------------------\u001b[0m",
      "\u001b[1;31mAssertionError\u001b[0m                            Traceback (most recent call last)",
      "\u001b[1;32m<ipython-input-22-29403cf677e6>\u001b[0m in \u001b[0;36m<module>\u001b[1;34m\u001b[0m\n\u001b[1;32m----> 1\u001b[1;33m \u001b[1;32massert\u001b[0m \u001b[1;36m0\u001b[0m\u001b[1;33m\u001b[0m\u001b[1;33m\u001b[0m\u001b[0m\n\u001b[0m",
      "\u001b[1;31mAssertionError\u001b[0m: "
     ]
    }
   ],
   "source": [
    "assert 0"
   ]
  },
  {
   "cell_type": "markdown",
   "metadata": {},
   "source": [
    "##"
   ]
  },
  {
   "cell_type": "code",
   "execution_count": null,
   "metadata": {
    "ExecuteTime": {
     "end_time": "2021-07-21T15:50:46.340309Z",
     "start_time": "2021-07-21T15:30:58.891Z"
    }
   },
   "outputs": [],
   "source": [
    "learner.load('roberta-base')"
   ]
  },
  {
   "cell_type": "code",
   "execution_count": null,
   "metadata": {
    "ExecuteTime": {
     "end_time": "2021-07-21T15:50:46.341798Z",
     "start_time": "2021-07-21T15:30:58.894Z"
    },
    "code_folding": []
   },
   "outputs": [],
   "source": [
    "def evaluate(self, dl):\n",
    "    model.eval()\n",
    "    \n",
    "    running_loss = AverageMeter()\n",
    "    running_metrics = [AverageMeter() for _ in range(len(self.metric_funcs))]\n",
    "    \n",
    "    for batch in dl:\n",
    "        xb, yb = to_device(batch, self.device)\n",
    "        batch_size = len(xb)\n",
    "        \n",
    "\n",
    "        with torch.no_grad():\n",
    "            preds = self.model(xb)\n",
    "            loss = self.loss_func(preds, yb)\n",
    "            loss = loss.item()\n",
    "            running_loss.update(loss, batch_size)\n",
    "            \n",
    "            for running_metric, metric_func in zip(running_metrics, self.metric_funcs):\n",
    "                metric = metric_func(preds, yb)\n",
    "                metric = to_numpy(metric)\n",
    "                running_metric.update(metric, batch_size)\n",
    "            \n",
    "    print(running_loss.avg(), [m.avg() for m in running_metrics])"
   ]
  },
  {
   "cell_type": "code",
   "execution_count": null,
   "metadata": {
    "ExecuteTime": {
     "end_time": "2021-07-21T15:50:46.343782Z",
     "start_time": "2021-07-21T15:30:58.897Z"
    }
   },
   "outputs": [],
   "source": [
    "evaluate(learner, dls.valid)"
   ]
  },
  {
   "cell_type": "code",
   "execution_count": null,
   "metadata": {
    "ExecuteTime": {
     "end_time": "2021-07-21T15:50:46.345271Z",
     "start_time": "2021-07-21T15:30:58.900Z"
    },
    "code_folding": [
     0
    ]
   },
   "outputs": [],
   "source": [
    "def get_predict(mode='train'):\n",
    "    dl = dls.train if mode == 'train' else dls.valid\n",
    "    \n",
    "    feats, ys = [], []\n",
    "    for batch in dl:\n",
    "        xb, yb = to_device(batch, cfg.device)\n",
    "        with torch.no_grad():\n",
    "            out = model.transformer(*xb)['last_hidden_state']\n",
    "            out = model.attention(out)\n",
    "            #out = model(xb)\n",
    "            out = to_numpy(out)\n",
    "            feats.append(out)\n",
    "            ys.append(to_numpy(yb))\n",
    "    feats = np.concatenate(feats) \n",
    "    ys = np.concatenate(ys) \n",
    "    return feats, ys"
   ]
  },
  {
   "cell_type": "code",
   "execution_count": null,
   "metadata": {
    "ExecuteTime": {
     "end_time": "2021-07-21T15:50:46.346260Z",
     "start_time": "2021-07-21T15:30:58.903Z"
    }
   },
   "outputs": [],
   "source": [
    "model.eval()\n",
    "\n",
    "\n",
    "trn_feats, trn_ys = get_predict(mode='train')\n",
    "val_feats, val_ys = get_predict(mode='valid')\n",
    "trn_feats.shape"
   ]
  },
  {
   "cell_type": "code",
   "execution_count": null,
   "metadata": {
    "ExecuteTime": {
     "end_time": "2021-07-21T15:50:46.347255Z",
     "start_time": "2021-07-21T15:30:58.906Z"
    }
   },
   "outputs": [],
   "source": [
    "from sklearn.linear_model import Ridge, Lasso\n",
    "from sklearn.svm import SVR\n",
    "from lightgbm import LGBMReg ressor\n",
    "from catboost import CatBoostRegressor"
   ]
  },
  {
   "cell_type": "code",
   "execution_count": null,
   "metadata": {
    "ExecuteTime": {
     "end_time": "2021-07-21T15:50:46.348246Z",
     "start_time": "2021-07-21T15:30:58.911Z"
    }
   },
   "outputs": [],
   "source": [
    "r = Ridge().fit(trn_feats, trn_ys)"
   ]
  },
  {
   "cell_type": "code",
   "execution_count": null,
   "metadata": {
    "ExecuteTime": {
     "end_time": "2021-07-21T15:50:46.349238Z",
     "start_time": "2021-07-21T15:30:58.915Z"
    }
   },
   "outputs": [],
   "source": [
    "rmse(r.predict(trn_feats), trn_ys), rmse(r.predict(val_feats), val_ys)"
   ]
  },
  {
   "cell_type": "code",
   "execution_count": null,
   "metadata": {},
   "outputs": [],
   "source": []
  }
 ],
 "metadata": {
  "kernelspec": {
   "display_name": "Python 3",
   "language": "python",
   "name": "python3"
  },
  "language_info": {
   "codemirror_mode": {
    "name": "ipython",
    "version": 3
   },
   "file_extension": ".py",
   "mimetype": "text/x-python",
   "name": "python",
   "nbconvert_exporter": "python",
   "pygments_lexer": "ipython3",
   "version": "3.7.6"
  },
  "toc": {
   "base_numbering": 1,
   "nav_menu": {},
   "number_sections": true,
   "sideBar": true,
   "skip_h1_title": false,
   "title_cell": "Table of Contents",
   "title_sidebar": "Contents",
   "toc_cell": false,
   "toc_position": {},
   "toc_section_display": true,
   "toc_window_display": false
  },
  "varInspector": {
   "cols": {
    "lenName": 16,
    "lenType": 16,
    "lenVar": 40
   },
   "kernels_config": {
    "python": {
     "delete_cmd_postfix": "",
     "delete_cmd_prefix": "del ",
     "library": "var_list.py",
     "varRefreshCmd": "print(var_dic_list())"
    },
    "r": {
     "delete_cmd_postfix": ") ",
     "delete_cmd_prefix": "rm(",
     "library": "var_list.r",
     "varRefreshCmd": "cat(var_dic_list()) "
    }
   },
   "types_to_exclude": [
    "module",
    "function",
    "builtin_function_or_method",
    "instance",
    "_Feature"
   ],
   "window_display": false
  }
 },
 "nbformat": 4,
 "nbformat_minor": 4
}
