{
  "nbformat": 4,
  "nbformat_minor": 0,
  "metadata": {
    "kernelspec": {
      "display_name": "Python 3",
      "language": "python",
      "name": "python3"
    },
    "language_info": {
      "codemirror_mode": {
        "name": "ipython",
        "version": 3
      },
      "file_extension": ".py",
      "mimetype": "text/x-python",
      "name": "python",
      "nbconvert_exporter": "python",
      "pygments_lexer": "ipython3",
      "version": "3.7.6"
    },
    "toc": {
      "base_numbering": 1,
      "nav_menu": {},
      "number_sections": true,
      "sideBar": true,
      "skip_h1_title": false,
      "title_cell": "Table of Contents",
      "title_sidebar": "Contents",
      "toc_cell": false,
      "toc_position": {},
      "toc_section_display": true,
      "toc_window_display": false
    },
    "varInspector": {
      "cols": {
        "lenName": 16,
        "lenType": 16,
        "lenVar": 40
      },
      "kernels_config": {
        "python": {
          "delete_cmd_postfix": "",
          "delete_cmd_prefix": "del ",
          "library": "var_list.py",
          "varRefreshCmd": "print(var_dic_list())"
        },
        "r": {
          "delete_cmd_postfix": ") ",
          "delete_cmd_prefix": "rm(",
          "library": "var_list.r",
          "varRefreshCmd": "cat(var_dic_list()) "
        }
      },
      "types_to_exclude": [
        "module",
        "function",
        "builtin_function_or_method",
        "instance",
        "_Feature"
      ],
      "window_display": false
    },
    "colab": {
      "name": "multi_tpu.ipynb",
      "provenance": [],
      "collapsed_sections": []
    },
    "accelerator": "TPU"
  },
  "cells": [
    {
      "cell_type": "code",
      "metadata": {
        "id": "GLmf_2JIwHB1",
        "cellView": "form"
      },
      "source": [
        "#@title setup colab env\n",
        "from IPython.display import clear_output\n",
        "from google.colab import drive\n",
        "\n",
        "drive.mount('/content/drive')\n",
        "%cd drive/MyDrive/commonlitreadabilityprize/baseline/\n",
        "\n",
        "!pip install transformers\n",
        "clear_output()"
      ],
      "execution_count": 1,
      "outputs": []
    },
    {
      "cell_type": "code",
      "metadata": {
        "id": "_Bzl2nqXujBQ",
        "cellView": "form"
      },
      "source": [
        "#@title setup XLA\n",
        "!pip install cloud-tpu-client==0.10 https://storage.googleapis.com/tpu-pytorch/wheels/torch_xla-1.9-cp37-cp37m-linux_x86_64.whl\n",
        "clear_output()"
      ],
      "execution_count": 2,
      "outputs": []
    },
    {
      "cell_type": "code",
      "metadata": {
        "ExecuteTime": {
          "end_time": "2021-07-20T16:38:40.606278Z",
          "start_time": "2021-07-20T16:38:39.679256Z"
        },
        "id": "SMI9jswRv-ih"
      },
      "source": [
        "import sys\n",
        "sys.path.append('../input/learner')\n",
        "\n",
        "from learner.all import *"
      ],
      "execution_count": 3,
      "outputs": []
    },
    {
      "cell_type": "code",
      "metadata": {
        "id": "LquPNZwHt8Yz",
        "colab": {
          "base_uri": "https://localhost:8080/"
        },
        "outputId": "52964163-5e8a-4b20-f966-f26e6f300713"
      },
      "source": [
        "import os\n",
        "assert os.environ['COLAB_TPU_ADDR']\n",
        " \n",
        "import torch_xla.core.xla_model as xm\n",
        "import torch_xla.distributed.parallel_loader as pl\n",
        "import torch_xla.distributed.xla_multiprocessing as xmp\n",
        "\n",
        "# For mixed precision training in TPUs\n",
        "os.environ[\"XLA_USE_BF16\"] = '1'\n",
        "os.environ[\"XLA_TENSOR_ALLOCATOR_MAXSIZE\"] = '10000000'"
      ],
      "execution_count": 4,
      "outputs": [
        {
          "output_type": "stream",
          "text": [
            "WARNING:root:TPU has started up successfully with version pytorch-1.9\n"
          ],
          "name": "stderr"
        }
      ]
    },
    {
      "cell_type": "code",
      "metadata": {
        "ExecuteTime": {
          "end_time": "2021-07-20T16:38:44.622091Z",
          "start_time": "2021-07-20T16:38:40.607768Z"
        },
        "code_folding": [
          0,
          32
        ],
        "colab": {
          "base_uri": "https://localhost:8080/",
          "height": 35
        },
        "id": "brQBjiTcv-ik",
        "cellView": "form",
        "outputId": "d249548c-6efa-41ae-c410-2a9d3151c24c"
      },
      "source": [
        "#@title lib { vertical-output: true }\n",
        "# lib\n",
        "import copy\n",
        "import os\n",
        "import gc\n",
        "import random\n",
        "import math\n",
        "import time\n",
        "import matplotlib.pyplot as plt\n",
        "import numpy as np\n",
        "import pandas as pd\n",
        "import seaborn as sns\n",
        "\n",
        "from datetime import datetime\n",
        "from typing import Callable, List, Union\n",
        "\n",
        "from fastprogress import master_bar, progress_bar\n",
        "from sklearn.metrics import confusion_matrix, roc_auc_score\n",
        "from sklearn.model_selection import StratifiedKFold, GroupKFold, KFold\n",
        "from torch.utils.data import DataLoader, Dataset\n",
        "from transformers import AutoTokenizer, AutoModel, AutoConfig, AdamW\n",
        "\n",
        "import torch\n",
        "import torch.nn as nn\n",
        "import torch.nn.functional as F\n",
        "import transformers\n",
        "\n",
        "\n",
        "import warnings\n",
        "warnings.filterwarnings(\"ignore\")\n",
        "\n",
        "if not os.path.exists('models'):\n",
        "    os.mkdir('models')\n",
        "\n",
        "\n",
        "def seed_everything(seed=777):\n",
        "    random.seed(seed)\n",
        "    os.environ['PYTHONHASHSEED'] = str(seed)\n",
        "    np.random.seed(seed)\n",
        "\n",
        "    torch.manual_seed(seed)\n",
        "    if torch.cuda.is_available():\n",
        "        torch.cuda.manual_seed(seed)\n",
        "        torch.cuda.manual_seed_all(seed)\n",
        "    torch.backends.cudnn.deterministic = True\n",
        "\n",
        "\n",
        "SEED = 777\n",
        "seed_everything(SEED)\n",
        "\n",
        "torch.__version__"
      ],
      "execution_count": 5,
      "outputs": [
        {
          "output_type": "execute_result",
          "data": {
            "application/vnd.google.colaboratory.intrinsic+json": {
              "type": "string"
            },
            "text/plain": [
              "'1.9.0+cu102'"
            ]
          },
          "metadata": {
            "tags": []
          },
          "execution_count": 5
        }
      ]
    },
    {
      "cell_type": "code",
      "metadata": {
        "ExecuteTime": {
          "end_time": "2021-07-20T16:38:44.658797Z",
          "start_time": "2021-07-20T16:38:44.623581Z"
        },
        "id": "rr1y3KvLv-il"
      },
      "source": [
        "data_path = '../input/commonlitreadabilityprize/'\n",
        "\n",
        "trn_df = pd.read_csv(data_path + 'train.csv')\n",
        "#trn_df.drop(trn_df.query('target == 0').index, inplace=True)\n",
        "#trn_df.reset_index(inplace=True)\n",
        "test_df = pd.read_csv(data_path + 'test.csv')\n",
        "sub_df = pd.read_csv(data_path + 'sample_submission.csv')"
      ],
      "execution_count": 6,
      "outputs": []
    },
    {
      "cell_type": "markdown",
      "metadata": {
        "id": "WN8DrESXv-im"
      },
      "source": [
        "# config"
      ]
    },
    {
      "cell_type": "code",
      "metadata": {
        "ExecuteTime": {
          "end_time": "2021-07-20T16:38:44.672724Z",
          "start_time": "2021-07-20T16:38:44.666236Z"
        },
        "code_folding": [],
        "id": "2lTYhrrLv-im"
      },
      "source": [
        "class CFG:\n",
        "    debug: bool = False\n",
        "        \n",
        "    seed = SEED\n",
        "\n",
        "    # device\n",
        "    #device = xm.xla_device()\n",
        "    #device:torch.device = torch.device('cpu')\n",
        "    #device: torch.device = torch.device('cuda:0')\n",
        "    #device = torch.device('cuda' if torch.cuda.is_available() else 'cpu')\n",
        "\n",
        "    # data set\n",
        "    bs: int = 128\n",
        "    num_workers: int = 0\n",
        "\n",
        "    # model\n",
        "    model_name = 'roberta-base'\n",
        "    store_name = 'roberta-base'\n",
        "    epochs: int = 10\n",
        "\n",
        "    # gradient\n",
        "    iters_to_accumulate: int = 1\n",
        "    max_grad_norm: float = 1.\n",
        "    loss_func = None\n",
        "    metric_funcs: List[Union[Callable, None]] = [rmse, mae]\n",
        "\n",
        "    # optimizer\n",
        "    lr: int = 2e-5\n",
        "    lrs: float = [lr, lr*2, lr*5, lr*10]  # 4 groups\n",
        "    wd: float = 1e-2\n",
        "        \n",
        "    # tokenizer\n",
        "    max_len = 256\n",
        "\n",
        "    # distributional trainin\n",
        "    nprocs = 8\n",
        "\n",
        "\n",
        "cfg = CFG()\n",
        "cfg.loss_func = nn.MSELoss()\n",
        "seed_everything(cfg.seed)\n",
        "\n",
        "\n",
        "if cfg.debug:\n",
        "    trn_df = trn_df.sample(frac=0.30).reset_index()\n",
        "    warnings.filterwarnings('always')\n",
        "    pass"
      ],
      "execution_count": 7,
      "outputs": []
    },
    {
      "cell_type": "code",
      "metadata": {
        "ExecuteTime": {
          "end_time": "2021-07-20T16:38:44.833387Z",
          "start_time": "2021-07-20T16:38:44.680126Z"
        },
        "colab": {
          "base_uri": "https://localhost:8080/",
          "height": 281
        },
        "id": "VqJT7ikuv-in",
        "outputId": "608715a0-27fc-421b-fb87-b7a9dcc53f36"
      },
      "source": [
        "bins = round(1 + np.log2(len(trn_df)))\n",
        "trn_df['bins'] = pd.cut(trn_df.target, bins, labels=False)\n",
        "\n",
        "sns.countplot(trn_df['bins'], color='C0')\n",
        "\n",
        "\n",
        "skf = KFold(5, shuffle=True, random_state=cfg.seed)\n",
        "for fold, (trn_idx, val_idx) in enumerate(skf.split(trn_df, y=trn_df.bins), 1):\n",
        "    trn_df.loc[val_idx, 'fold'] = fold\n",
        "trn_df.loc[trn_df.target == 0, 'fold'] = -1"
      ],
      "execution_count": 8,
      "outputs": [
        {
          "output_type": "display_data",
          "data": {
            "image/png": "[encoded data removed]",
            "text/plain": [
              "<Figure size 432x288 with 1 Axes>"
            ]
          },
          "metadata": {
            "tags": [],
            "needs_background": "light"
          }
        }
      ]
    },
    {
      "cell_type": "markdown",
      "metadata": {
        "id": "ADkiI_dEv-io"
      },
      "source": [
        "# dataset"
      ]
    },
    {
      "cell_type": "code",
      "metadata": {
        "ExecuteTime": {
          "end_time": "2021-07-20T16:38:44.848269Z",
          "start_time": "2021-07-20T16:38:44.840828Z"
        },
        "code_folding": [
          0
        ],
        "id": "vMKq-qGrv-ip"
      },
      "source": [
        "class BERTDataSet(Dataset):\n",
        "    def __init__(self, df, tokenizer):\n",
        "        df = df.reset_index()\n",
        "        self.encodeds = tokenizer.batch_encode_plus(\n",
        "            df.excerpt.tolist(),\n",
        "            add_special_tokens=True,  # <s> and </s>\n",
        "            max_length=cfg.max_len,          # default 512 for bert\n",
        "            padding='max_length',    # padding  <pad>\n",
        "            truncation=True,         # cut if length > max length\n",
        "           \n",
        "        )\n",
        "        self.targets = df.target.values[:, None]\n",
        "\n",
        "    def __len__(self):\n",
        "        return len(self.targets)\n",
        "\n",
        "    def __getitem__(self, idx):\n",
        "\n",
        "        ids = torch.tensor(self.encodeds['input_ids'][idx], dtype=torch.long)\n",
        "        mask = torch.tensor(self.encodeds['attention_mask'][idx], dtype=torch.long)\n",
        "\n",
        "        target = torch.tensor(self.targets[idx], dtype=torch.float)\n",
        "\n",
        "        return [ids, mask], target\n",
        "    \n",
        "    \n",
        "if cfg.debug:\n",
        "    tokenizer = AutoTokenizer.from_pretrained(cfg.model_name)\n",
        "    trn_ds = BERTDataSet(trn_df, tokenizer)\n",
        "    trn_dl = DataLoader(trn_ds,\n",
        "                        batch_size=cfg.bs,\n",
        "                        shuffle=True,\n",
        "                        num_workers=cfg.num_workers,\n",
        "                        pin_memory=True)\n",
        "    print(len(trn_ds))\n",
        "    for x in trn_dl:\n",
        "        print(x)\n",
        "        break"
      ],
      "execution_count": 9,
      "outputs": []
    },
    {
      "cell_type": "markdown",
      "metadata": {
        "id": "i1TCWLnev-iq"
      },
      "source": [
        "# model"
      ]
    },
    {
      "cell_type": "code",
      "metadata": {
        "ExecuteTime": {
          "end_time": "2021-07-20T16:38:44.859676Z",
          "start_time": "2021-07-20T16:38:44.849755Z"
        },
        "code_folding": [
          0,
          19,
          39
        ],
        "scrolled": false,
        "id": "FrhoCHTnv-iq"
      },
      "source": [
        "class AttentionHead(nn.Module):\n",
        "    def __init__(self, in_size=768, h_size=512, o_size=1):\n",
        "        super().__init__()\n",
        "        self.attention = nn.Sequential(\n",
        "            nn.Linear(in_size, h_size), \n",
        "            nn.Tanh(),  \n",
        "            nn.Linear(h_size, o_size), \n",
        "            nn.Softmax(dim=1)\n",
        "        )\n",
        "        #self.linear = nn.Linear(in_size, o_size)\n",
        "        \n",
        "    def forward(self, features):\n",
        "        out = self.attention(features) * features\n",
        "        # (bs, lens, 768) to (bs, 768)\n",
        "        out = torch.sum(out, dim=1)\n",
        "        #out = self.linear(out)\n",
        "        return out\n",
        "    \n",
        "    \n",
        "class CLPRModel(nn.Module):\n",
        "    def __init__(self, model_name):\n",
        "        super(CLPRModel, self).__init__()\n",
        "        self.config = AutoConfig.from_pretrained(model_name)\n",
        "        self.config.layer_norm_eps = 1e-7\n",
        "        self.config.hidden_dropout_prob = 0.5\n",
        "        self.transformer = AutoModel.from_pretrained(model_name, self.config)\n",
        "        \n",
        "        self.hidden_size = self.config.hidden_size\n",
        "        self.attention = AttentionHead(in_size=self.hidden_size)\n",
        "        self.head = nn.Linear(self.hidden_size, 1)\n",
        "        \n",
        "    #def forward(self, input_id, attention_mask):\n",
        "    def forward(self, x):\n",
        "        #out = self.transformer(input_id, attention_mask)['last_hidden_state']\n",
        "        out = self.transformer(*x)['last_hidden_state']\n",
        "        out = self.attention(out)\n",
        "        out = self.head(out)\n",
        "        return out\n",
        " \n",
        "    \n",
        "if cfg.debug:\n",
        "    model = CLPRModel(cfg.model_name)\n",
        "    preds = model(x[0])\n",
        "    print(preds.shape)"
      ],
      "execution_count": 10,
      "outputs": []
    },
    {
      "cell_type": "markdown",
      "metadata": {
        "id": "Z_qg1yuov-ir"
      },
      "source": [
        "# optimizer"
      ]
    },
    {
      "cell_type": "code",
      "metadata": {
        "ExecuteTime": {
          "end_time": "2021-07-20T16:38:58.236612Z",
          "start_time": "2021-07-20T16:38:44.861165Z"
        },
        "code_folding": [
          0,
          31,
          44
        ],
        "id": "5LSEHxGCv-ir"
      },
      "source": [
        "def create_optimizer(model, cfg):\n",
        "    named_parameters = list(model.named_parameters())\n",
        "\n",
        "    backbone_parameters = named_parameters[:199]\n",
        "    head_parameters = named_parameters[199:]\n",
        "\n",
        "    head_group = [params for (name, params) in head_parameters]\n",
        "\n",
        "    parameters = []\n",
        "    parameters.append({\"params\": head_group,\n",
        "                       \"weight_decay\": 0.,\n",
        "                       \"lr\": cfg.lrs[3]})\n",
        "\n",
        "    for layer_num, (name, params) in enumerate(backbone_parameters):\n",
        "        weight_decay = 0.0 if 'LayerNorm' in name or 'bias' in name else cfg.wd\n",
        "\n",
        "        lr = cfg.lrs[0]\n",
        "\n",
        "        if layer_num >= 69:\n",
        "            lr = cfg.lrs[1]\n",
        "\n",
        "        if layer_num >= 133:\n",
        "            lr = cfg.lrs[2]\n",
        "\n",
        "        parameters.append({\"params\": params,\n",
        "                           \"weight_decay\": weight_decay,\n",
        "                           \"lr\": lr})\n",
        "\n",
        "    return AdamW(parameters)\n",
        "\n",
        "\n",
        "def get_scheduler(optimizer, cfg):\n",
        "    num_training_steps = cfg.trn_dl_lens * cfg.epochs\n",
        "    num_warmup_steps = int(cfg.trn_dl_lens * 0.1)\n",
        "    return transformers.get_cosine_schedule_with_warmup(\n",
        "        optimizer,\n",
        "        num_warmup_steps,\n",
        "        num_training_steps\n",
        "    )\n",
        "\n",
        "cfg.create_optimizer = create_optimizer\n",
        "\n",
        "if 0:\n",
        "    # create dataloader\n",
        "    tokenizer = AutoTokenizer.from_pretrained(cfg.model_name)\n",
        "    trn_ds = BERTDataSet(trn_df, tokenizer)\n",
        "    trn_dl = DataLoader(trn_ds,\n",
        "                        batch_size=cfg.bs,\n",
        "                        shuffle=True,\n",
        "                        num_workers=cfg.num_workers,\n",
        "                        pin_memory=True)\n",
        "    # create model\n",
        "    model = CLPRModel('roberta-base')\n",
        "    \n",
        "    # create scheduler\n",
        "    optimizer = create_optimizer(model, cfg)\n",
        "    scheduler = get_scheduler(optimizer, cfg)\n",
        "    \n",
        "    # get lr\n",
        "    lrs = []\n",
        "    for epoch in range(cfg.epochs):\n",
        "        for _ in trn_dl:\n",
        "            lrs.append(scheduler.get_last_lr())\n",
        "            optimizer.step()\n",
        "            scheduler.step()\n",
        "    lrs = sorted(set([*zip(*lrs)]))\n",
        "    \n",
        "    # plot\n",
        "    plt.figure(figsize=(12, 3))\n",
        "    for i, lr in enumerate(lrs, 1):\n",
        "        plt.subplot(1, 4, i)\n",
        "        plt.title(f'group{i}')\n",
        "        plt.plot(lr)\n",
        "        plt.ticklabel_format(axis='y', style='sci', scilimits=(0,0))\n",
        "    plt.tight_layout()\n",
        "    plt.show()"
      ],
      "execution_count": 11,
      "outputs": []
    },
    {
      "cell_type": "markdown",
      "metadata": {
        "id": "mM1J7F5Ov-is"
      },
      "source": [
        "# Learner"
      ]
    },
    {
      "cell_type": "code",
      "metadata": {
        "id": "qseKPsc6wAIz"
      },
      "source": [
        "class Learner5(Learner):\n",
        "    def __init__(self, cfg, model, dls, cbs=[]):\n",
        "        super().__init__(cfg, model, dls, cbs)\n",
        "\n",
        "    def one_batch(self):\n",
        "        self('before_batch')\n",
        "        xb, self.yb = to_device(self.batch, self.device)\n",
        "        self.batch_size = len(xb)\n",
        "\n",
        "        # forward\n",
        "        with torch.set_grad_enabled(self.train):\n",
        "            self.preds = self.model(xb)\n",
        "            self.loss = self.loss_func(self.preds, self.yb)\n",
        "            self.loss_item = self.loss.item()\n",
        "\n",
        "        # backward\n",
        "        if self.train:\n",
        "            self.glob_iters += 1\n",
        "            self.loss.backward()\n",
        "            # don't need barrier=True in distributional training\n",
        "            xm.optimizer_step(self.optimizer)   #######TPU######\n",
        "            #self.optimizer.step()        #######TPU######\n",
        "            self.optimizer.zero_grad()\n",
        "        self('after_batch')\n",
        "\n",
        "    def one_epoch(self, train: bool):\n",
        "        self.train = train\n",
        "        self.model.train(train)\n",
        "        self.dl = self.dls.train if train else self.dls.valid\n",
        "        self.dl = pl.ParallelLoader(self.dl, [self.device])\n",
        "        self.dl = self.dl.per_device_loader(self.device)  #######TPU######\n",
        "\n",
        "        self.pb = self.dl\n",
        "        self('before_epoch')\n",
        "        for self.num, self.batch in enumerate(self.pb):\n",
        "            self.one_batch()\n",
        "        self('after_epoch')"
      ],
      "execution_count": 12,
      "outputs": []
    },
    {
      "cell_type": "code",
      "metadata": {
        "id": "f9u3jtoNGBOw"
      },
      "source": [
        "def create_dl(ds, cfg, mode='train'):  #######TPU######\n",
        "    shuffle = True if mode == 'train' else False\n",
        "    drop_last = shuffle      \n",
        "\n",
        "    sampler = torch.utils.data.distributed.DistributedSampler(\n",
        "            ds,\n",
        "            num_replicas=xm.xrt_world_size(),\n",
        "            rank=xm.get_ordinal(),\n",
        "            shuffle=shuffle\n",
        "            )\n",
        "    loader = torch.utils.data.DataLoader(\n",
        "      ds,\n",
        "      batch_size=cfg.bs,\n",
        "      sampler=sampler,\n",
        "      num_workers=cfg.num_workers,\n",
        "      drop_last=drop_last)\n",
        "    \n",
        "    return loader"
      ],
      "execution_count": 13,
      "outputs": []
    },
    {
      "cell_type": "code",
      "metadata": {
        "id": "alk-YTaZRBm6"
      },
      "source": [
        "tokenizer = AutoTokenizer.from_pretrained(cfg.model_name)\n",
        "trn_ds = BERTDataSet(trn_df.query(f'fold != {fold}'), tokenizer)\n",
        "val_ds = BERTDataSet(trn_df.query(f'fold == {fold}'), tokenizer)"
      ],
      "execution_count": 14,
      "outputs": []
    },
    {
      "cell_type": "code",
      "metadata": {
        "ExecuteTime": {
          "end_time": "2021-07-20T16:39:07.780845Z",
          "start_time": "2021-07-20T16:38:58.282741Z"
        },
        "code_folding": [
          3,
          10
        ],
        "id": "5YWWdPsYv-iu"
      },
      "source": [
        "def train_func(rank):\n",
        "    fold = 0\n",
        "    global cfg\n",
        "    global tokenizer\n",
        "    global trn_ds, val_ds\n",
        "    _cfg = copy.deepcopy(cfg)\n",
        "    _cfg.bs = _cfg.bs // xm.xrt_world_size()\n",
        "    #_cfg.lr = _cfg.lr * xm.xrt_world_size()\n",
        "    #_cfg.lrs = [lr * xm.xrt_world_size() for lr in _cfg.lrs]\n",
        "    \n",
        "    if rank == 0:\n",
        "        logger_name = datetime.today().strftime(\"%Y-%m-%d_%H_%M_%S\")\n",
        "        logger_name = 'log/' + logger_name\n",
        "        logger = get_logger(logger_name, verbose=False)\n",
        "\n",
        "\n",
        "    device = xm.xla_device()\n",
        "    _cfg.device = device\n",
        "    #trn_ds = BERTDataSet(trn_df.query(f'fold != {fold}'), tokenizer)\n",
        "    trn_dl = create_dl(trn_ds, _cfg, 'train')\n",
        "\n",
        "    #val_ds = BERTDataSet(trn_df.query(f'fold == {fold}'), tokenizer)\n",
        "    val_dl = create_dl(val_ds, _cfg, 'valid')\n",
        "    _cfg.trn_dl_lens = len(trn_dl)\n",
        "\n",
        "    dls = DataLoaders(trn_dl, val_dl)\n",
        "\n",
        "    model = CLPRModel(_cfg.model_name)\n",
        "\n",
        "    _cfg.backbone_config = model.config\n",
        "\n",
        "    if rank == 0:  #######TPU######\n",
        "        cbs = [\n",
        "            ProgressBar(),\n",
        "            Scheduler(get_scheduler), \n",
        "            Logger(logger)\n",
        "        ]\n",
        "    else:\n",
        "        cbs = [Scheduler(get_scheduler)]\n",
        "    learner = Learner5(_cfg, model, dls, cbs)\n",
        "\n",
        "    # training\n",
        "    learner.fit_single()\n",
        "\n",
        "    if rank == 0: #######TPU######\n",
        "        plot_history(learner)\n",
        "        plot_lr(learner)\n",
        "\n",
        "\n",
        "def _mp_fn(rank):\n",
        "    train_func(rank)"
      ],
      "execution_count": 17,
      "outputs": []
    },
    {
      "cell_type": "code",
      "metadata": {
        "colab": {
          "base_uri": "https://localhost:8080/",
          "height": 1000
        },
        "id": "IFTbsWo3IlQV",
        "outputId": "fca81541-b06a-44f4-a4de-d38619405de4"
      },
      "source": [
        "xmp.spawn(_mp_fn, args=(), nprocs=cfg.nprocs, start_method='fork')"
      ],
      "execution_count": 18,
      "outputs": [
        {
          "output_type": "stream",
          "text": [
            "INFO:learner.callbacks:\n",
            "\n",
            "INFO:learner.callbacks:** Setup **\n",
            "\n",
            "INFO:learner.callbacks:Time: 2021-07-23 18:17:31.571884\n",
            "\n",
            "INFO:learner.callbacks:Parameters:\n",
            "INFO:learner.callbacks:\tbackbone_config:RobertaConfig {\n",
            "  \"_name_or_path\": \"roberta-base\",\n",
            "  \"architectures\": [\n",
            "    \"RobertaModel\"\n",
            "  ],\n",
            "  \"attention_probs_dropout_prob\": 0.1,\n",
            "  \"bos_token_id\": 0,\n",
            "  \"eos_token_id\": 2,\n",
            "  \"gradient_checkpointing\": false,\n",
            "  \"hidden_act\": \"gelu\",\n",
            "  \"hidden_dropout_prob\": 0.5,\n",
            "  \"hidden_size\": 768,\n",
            "  \"initializer_range\": 0.02,\n",
            "  \"intermediate_size\": 3072,\n",
            "  \"layer_norm_eps\": 1e-07,\n",
            "  \"max_position_embeddings\": 514,\n",
            "  \"model_type\": \"roberta\",\n",
            "  \"num_attention_heads\": 12,\n",
            "  \"num_hidden_layers\": 12,\n",
            "  \"pad_token_id\": 1,\n",
            "  \"position_embedding_type\": \"absolute\",\n",
            "  \"transformers_version\": \"4.9.0\",\n",
            "  \"type_vocab_size\": 1,\n",
            "  \"use_cache\": true,\n",
            "  \"vocab_size\": 50265\n",
            "}\n",
            "\n",
            "INFO:learner.callbacks:\tbs:16\n",
            "INFO:learner.callbacks:\tcreate_optimizer:<function create_optimizer at 0x7fa1f6ca48c0>\n",
            "INFO:learner.callbacks:\tdebug:False\n",
            "INFO:learner.callbacks:\tdevice:xla:1\n",
            "INFO:learner.callbacks:\tepochs:10\n",
            "INFO:learner.callbacks:\titers_to_accumulate:1\n",
            "INFO:learner.callbacks:\tloss_func:MSELoss()\n",
            "INFO:learner.callbacks:\tlr:2e-05\n",
            "INFO:learner.callbacks:\tlrs:[2e-05, 4e-05, 0.0001, 0.0002]\n",
            "INFO:learner.callbacks:\tmax_grad_norm:1.0\n",
            "INFO:learner.callbacks:\tmax_len:256\n",
            "INFO:learner.callbacks:\tmetric_funcs:[<function rmse at 0x7fa2b4e5bcb0>, <function mae at 0x7fa25988e5f0>]\n",
            "INFO:learner.callbacks:\tmodel_name:roberta-base\n",
            "INFO:learner.callbacks:\tnprocs:8\n",
            "INFO:learner.callbacks:\tnum_workers:0\n",
            "INFO:learner.callbacks:\tseed:777\n",
            "INFO:learner.callbacks:\tstore_name:roberta-base\n",
            "INFO:learner.callbacks:\ttrn_dl_lens:17\n",
            "INFO:learner.callbacks:\twd:0.01\n",
            "INFO:learner.callbacks:\n",
            "\n",
            "INFO:learner.callbacks:|    time|          lr|    epoch| iteration|      loss|  val loss|  train_rmse|    val_rmse|   train_mae|     val_mae|\n"
          ],
          "name": "stderr"
        },
        {
          "output_type": "display_data",
          "data": {
            "text/html": [
              "<table border=\"1\" class=\"dataframe\">\n",
              "  <thead>\n",
              "    <tr style=\"text-align: left;\">\n",
              "      <th>epoch</th>\n",
              "      <th>train loss</th>\n",
              "      <th>val loss</th>\n",
              "      <th>train rmse</th>\n",
              "      <th>val rmse</th>\n",
              "      <th>train mae</th>\n",
              "      <th>val mae</th>\n",
              "      <th>time</th>\n",
              "    </tr>\n",
              "  </thead>\n",
              "  <tbody>\n",
              "    <tr>\n",
              "      <td>1</td>\n",
              "      <td>0.983915</td>\n",
              "      <td>0.532422</td>\n",
              "      <td>0.968290</td>\n",
              "      <td>0.717187</td>\n",
              "      <td>0.817096</td>\n",
              "      <td>0.604688</td>\n",
              "      <td>2:50</td>\n",
              "    </tr>\n",
              "    <tr>\n",
              "      <td>2</td>\n",
              "      <td>0.427045</td>\n",
              "      <td>0.325586</td>\n",
              "      <td>0.646484</td>\n",
              "      <td>0.566016</td>\n",
              "      <td>0.510915</td>\n",
              "      <td>0.439844</td>\n",
              "      <td>0:14</td>\n",
              "    </tr>\n",
              "    <tr>\n",
              "      <td>3</td>\n",
              "      <td>0.323127</td>\n",
              "      <td>0.352344</td>\n",
              "      <td>0.560087</td>\n",
              "      <td>0.591406</td>\n",
              "      <td>0.437385</td>\n",
              "      <td>0.464453</td>\n",
              "      <td>0:14</td>\n",
              "    </tr>\n",
              "    <tr>\n",
              "      <td>4</td>\n",
              "      <td>0.252528</td>\n",
              "      <td>0.272852</td>\n",
              "      <td>0.496209</td>\n",
              "      <td>0.516406</td>\n",
              "      <td>0.399242</td>\n",
              "      <td>0.404297</td>\n",
              "      <td>0:14</td>\n",
              "    </tr>\n",
              "    <tr>\n",
              "      <td>5</td>\n",
              "      <td>0.214901</td>\n",
              "      <td>0.295898</td>\n",
              "      <td>0.459329</td>\n",
              "      <td>0.538672</td>\n",
              "      <td>0.370749</td>\n",
              "      <td>0.419531</td>\n",
              "      <td>0:14</td>\n",
              "    </tr>\n",
              "    <tr>\n",
              "      <td>6</td>\n",
              "      <td>0.208324</td>\n",
              "      <td>0.301367</td>\n",
              "      <td>0.450253</td>\n",
              "      <td>0.542969</td>\n",
              "      <td>0.367762</td>\n",
              "      <td>0.425391</td>\n",
              "      <td>0:14</td>\n",
              "    </tr>\n",
              "    <tr>\n",
              "      <td>7</td>\n",
              "      <td>0.205365</td>\n",
              "      <td>0.338281</td>\n",
              "      <td>0.447381</td>\n",
              "      <td>0.576562</td>\n",
              "      <td>0.362017</td>\n",
              "      <td>0.451953</td>\n",
              "      <td>0:14</td>\n",
              "    </tr>\n",
              "    <tr>\n",
              "      <td>8</td>\n",
              "      <td>0.198099</td>\n",
              "      <td>0.329688</td>\n",
              "      <td>0.439913</td>\n",
              "      <td>0.568750</td>\n",
              "      <td>0.359720</td>\n",
              "      <td>0.446094</td>\n",
              "      <td>0:14</td>\n",
              "    </tr>\n",
              "    <tr>\n",
              "      <td>9</td>\n",
              "      <td>0.198616</td>\n",
              "      <td>0.329688</td>\n",
              "      <td>0.439568</td>\n",
              "      <td>0.568750</td>\n",
              "      <td>0.352367</td>\n",
              "      <td>0.446875</td>\n",
              "      <td>0:15</td>\n",
              "    </tr>\n",
              "    <tr>\n",
              "      <td>10</td>\n",
              "      <td>0.203585</td>\n",
              "      <td>0.332031</td>\n",
              "      <td>0.445542</td>\n",
              "      <td>0.570312</td>\n",
              "      <td>0.365694</td>\n",
              "      <td>0.449219</td>\n",
              "      <td>0:14</td>\n",
              "    </tr>\n",
              "  </tbody>\n",
              "</table>"
            ],
            "text/plain": [
              "<IPython.core.display.HTML object>"
            ]
          },
          "metadata": {
            "tags": []
          }
        },
        {
          "output_type": "stream",
          "text": [
            "INFO:learner.callbacks:|    2:50|  1.9614e-04|        1|        17|  0.983915|  0.532422|    0.968290|    0.717187|    0.817096|    0.604688|\n",
            "INFO:learner.callbacks:|    0:14|  1.8282e-04|        2|        34|  0.427045|  0.325586|    0.646484|    0.566016|    0.510915|    0.439844|\n",
            "INFO:learner.callbacks:|    0:14|  1.6131e-04|        3|        51|  0.323127|  0.352344|    0.560087|    0.591406|    0.437385|    0.464453|\n",
            "INFO:learner.callbacks:|    0:14|  1.3372e-04|        4|        68|  0.252528|  0.272852|    0.496209|    0.516406|    0.399242|    0.404297|\n",
            "INFO:learner.callbacks:|    0:14|  1.0279e-04|        5|        85|  0.214901|  0.295898|    0.459329|    0.538672|    0.370749|    0.419531|\n",
            "INFO:learner.callbacks:|    0:14|  7.1584e-05|        6|       102|  0.208324|  0.301367|    0.450253|    0.542969|    0.367762|    0.425391|\n",
            "INFO:learner.callbacks:|    0:14|  4.3194e-05|        7|       119|  0.205365|  0.338281|    0.447381|    0.576562|    0.362017|    0.451953|\n",
            "INFO:learner.callbacks:|    0:14|  2.0430e-05|        8|       136|  0.198099|  0.329688|    0.439913|    0.568750|    0.359720|    0.446094|\n",
            "INFO:learner.callbacks:|    0:15|  5.5461e-06|        9|       153|  0.198616|  0.329688|    0.439568|    0.568750|    0.352367|    0.446875|\n",
            "INFO:learner.callbacks:|    0:14|  1.7278e-08|       10|       170|  0.203585|  0.332031|    0.445542|    0.570312|    0.365694|    0.449219|\n",
            "INFO:learner.callbacks:** Finish **\n",
            "\n"
          ],
          "name": "stderr"
        },
        {
          "output_type": "display_data",
          "data": {
            "image/png": "[encoded data removed]",
            "text/plain": [
              "<Figure size 720x216 with 3 Axes>"
            ]
          },
          "metadata": {
            "tags": [],
            "needs_background": "light"
          }
        },
        {
          "output_type": "display_data",
          "data": {
            "image/png": "[encoded data removed]",
            "text/plain": [
              "<Figure size 1008x216 with 4 Axes>"
            ]
          },
          "metadata": {
            "tags": [],
            "needs_background": "light"
          }
        }
      ]
    },
    {
      "cell_type": "code",
      "metadata": {
        "id": "P_5pDnU-mumP"
      },
      "source": [
        ""
      ],
      "execution_count": null,
      "outputs": []
    }
  ]
}