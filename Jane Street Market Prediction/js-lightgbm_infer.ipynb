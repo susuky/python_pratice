{
 "cells": [
  {
   "cell_type": "code",
   "execution_count": 1,
   "metadata": {
    "_cell_guid": "b1076dfc-b9ad-4769-8c92-a6c4dae69d19",
    "_uuid": "8f2839f25d086af736a60e9eeb907d3b93b6e0e5",
    "execution": {
     "iopub.execute_input": "2021-02-22T15:11:45.576438Z",
     "iopub.status.busy": "2021-02-22T15:11:45.575735Z",
     "iopub.status.idle": "2021-02-22T15:11:46.755927Z",
     "shell.execute_reply": "2021-02-22T15:11:46.755118Z"
    },
    "papermill": {
     "duration": 1.193564,
     "end_time": "2021-02-22T15:11:46.756126",
     "exception": false,
     "start_time": "2021-02-22T15:11:45.562562",
     "status": "completed"
    },
    "tags": []
   },
   "outputs": [
    {
     "data": {
      "text/html": [
       "<style type='text/css'>\n",
       ".datatable table.frame { margin-bottom: 0; }\n",
       ".datatable table.frame thead { border-bottom: none; }\n",
       ".datatable table.frame tr.coltypes td {  color: #FFFFFF;  line-height: 6px;  padding: 0 0.5em;}\n",
       ".datatable .bool    { background: #DDDD99; }\n",
       ".datatable .object  { background: #565656; }\n",
       ".datatable .int     { background: #5D9E5D; }\n",
       ".datatable .float   { background: #4040CC; }\n",
       ".datatable .str     { background: #CC4040; }\n",
       ".datatable .row_index {  background: var(--jp-border-color3);  border-right: 1px solid var(--jp-border-color0);  color: var(--jp-ui-font-color3);  font-size: 9px;}\n",
       ".datatable .frame tr.coltypes .row_index {  background: var(--jp-border-color0);}\n",
       ".datatable th:nth-child(2) { padding-left: 12px; }\n",
       ".datatable .hellipsis {  color: var(--jp-cell-editor-border-color);}\n",
       ".datatable .vellipsis {  background: var(--jp-layout-color0);  color: var(--jp-cell-editor-border-color);}\n",
       ".datatable .na {  color: var(--jp-cell-editor-border-color);  font-size: 80%;}\n",
       ".datatable .footer { font-size: 9px; }\n",
       ".datatable .frame_dimensions {  background: var(--jp-border-color3);  border-top: 1px solid var(--jp-border-color0);  color: var(--jp-ui-font-color3);  display: inline-block;  opacity: 0.6;  padding: 1px 10px 1px 5px;}\n",
       "</style>\n"
      ],
      "text/plain": [
       "<IPython.core.display.HTML object>"
      ]
     },
     "metadata": {},
     "output_type": "display_data"
    }
   ],
   "source": [
    "# lib\n",
    "import datatable as dt\n",
    "import matplotlib.pyplot as plt\n",
    "import numpy as np\n",
    "import os\n",
    "import pandas as pd\n",
    "import pickle\n",
    "import random\n",
    "import seaborn as sns\n",
    "import time\n",
    "\n",
    "import lightgbm as lgbm\n",
    "\n",
    "def seed_everything(seed=7777):\n",
    "    random.seed(seed)\n",
    "    os.environ['PYTHONHASHSEED'] = str(seed)  \n",
    "    #torch.manual_seed(seed)\n",
    "    #torch.cuda.manual_seed(seed)\n",
    "    #torch.backends.cudnn.deterministic = True\n",
    "    #tf.random.set_seed(seed)\n",
    "    np.random.seed(seed)\n",
    "\n",
    "\n",
    "SEED = 7777\n",
    "seed_everything(SEED)\n",
    "pd.set_option('display.max_columns', 200)"
   ]
  },
  {
   "cell_type": "code",
   "execution_count": 2,
   "metadata": {
    "execution": {
     "iopub.execute_input": "2021-02-22T15:11:46.772058Z",
     "iopub.status.busy": "2021-02-22T15:11:46.771415Z",
     "iopub.status.idle": "2021-02-22T15:11:46.776558Z",
     "shell.execute_reply": "2021-02-22T15:11:46.777170Z"
    },
    "papermill": {
     "duration": 0.01451,
     "end_time": "2021-02-22T15:11:46.777372",
     "exception": false,
     "start_time": "2021-02-22T15:11:46.762862",
     "status": "completed"
    },
    "tags": []
   },
   "outputs": [],
   "source": [
    "data_path = '../input/jane-street-market-prediction/'\n",
    "\n",
    "\n",
    "def save_pickle(dic, save_path):\n",
    "    with open(save_path, 'wb') as f:\n",
    "    # with gzip.open(save_path, 'wb') as f:\n",
    "        pickle.dump(dic, f)\n",
    "\n",
    "def load_pickle(load_path):\n",
    "    with open(load_path, 'rb') as f:\n",
    "    # with gzip.open(load_path, 'rb') as f:\n",
    "        dic = pickle.load(f)\n",
    "    return dic"
   ]
  },
  {
   "cell_type": "code",
   "execution_count": 3,
   "metadata": {
    "execution": {
     "iopub.execute_input": "2021-02-22T15:11:46.792735Z",
     "iopub.status.busy": "2021-02-22T15:11:46.792086Z",
     "iopub.status.idle": "2021-02-22T15:11:46.832490Z",
     "shell.execute_reply": "2021-02-22T15:11:46.831897Z"
    },
    "papermill": {
     "duration": 0.049405,
     "end_time": "2021-02-22T15:11:46.832637",
     "exception": false,
     "start_time": "2021-02-22T15:11:46.783232",
     "status": "completed"
    },
    "tags": []
   },
   "outputs": [],
   "source": [
    "features = [f'feature_{i}' for i in range(130)]\n",
    "train_df_median = pd.read_csv('../input/js-lgbm-cls/train_df_median.csv')\n",
    "train_df_median = train_df_median[features].values"
   ]
  },
  {
   "cell_type": "code",
   "execution_count": 4,
   "metadata": {
    "execution": {
     "iopub.execute_input": "2021-02-22T15:11:46.849843Z",
     "iopub.status.busy": "2021-02-22T15:11:46.849034Z",
     "iopub.status.idle": "2021-02-22T15:11:49.123699Z",
     "shell.execute_reply": "2021-02-22T15:11:49.124225Z"
    },
    "papermill": {
     "duration": 2.285853,
     "end_time": "2021-02-22T15:11:49.124468",
     "exception": false,
     "start_time": "2021-02-22T15:11:46.838615",
     "status": "completed"
    },
    "tags": []
   },
   "outputs": [],
   "source": [
    "models = load_pickle('../input/js-lgbm-cls/lgb_model_cls.bin')\n",
    "models = [model[4] for fold, model in models.items()]"
   ]
  },
  {
   "cell_type": "code",
   "execution_count": 5,
   "metadata": {
    "execution": {
     "iopub.execute_input": "2021-02-22T15:11:49.149203Z",
     "iopub.status.busy": "2021-02-22T15:11:49.146691Z",
     "iopub.status.idle": "2021-02-22T15:15:25.548451Z",
     "shell.execute_reply": "2021-02-22T15:15:25.547698Z"
    },
    "papermill": {
     "duration": 216.416907,
     "end_time": "2021-02-22T15:15:25.548620",
     "exception": false,
     "start_time": "2021-02-22T15:11:49.131713",
     "status": "completed"
    },
    "tags": []
   },
   "outputs": [],
   "source": [
    "th = 0.500\n",
    "esp = 1e-8\n",
    "\n",
    "import janestreet\n",
    "env = janestreet.make_env()\n",
    "\n",
    "for (test_df, pred_df) in env.iter_test():\n",
    "    if test_df['weight'].item() > 0:\n",
    "        x_test = test_df.loc[:, features].values\n",
    "        \n",
    "        # fill na\n",
    "        if np.isnan(x_test[:, 1:].sum()):\n",
    "            x_test = np.nan_to_num(x_test) + np.isnan(x_test) * train_df_median\n",
    "            \n",
    "        feature_41_42_43 = x_test[:, 41] + x_test[:, 42] + x_test[:, 43]\n",
    "        feature_1_2 = (x_test[:, 1] + esp) / (x_test[:, 2] + esp)\n",
    "        \n",
    "        x_test = np.concatenate((\n",
    "            x_test[:, 1:],\n",
    "            np.array(feature_41_42_43).reshape(x_test.shape[0], 1),\n",
    "            np.array(feature_1_2).reshape(x_test.shape[0], 1),\n",
    "        ), axis=1)\n",
    "        \n",
    "        pred = np.median(np.stack([model.predict(x_test) for model in models]), axis=0)\n",
    "        pred_df.action = np.where(pred >= th, 1, 0).astype(int)\n",
    "    else:\n",
    "        pred_df.action = 0\n",
    "    env.predict(pred_df)"
   ]
  },
  {
   "cell_type": "code",
   "execution_count": null,
   "metadata": {
    "papermill": {
     "duration": 0.005811,
     "end_time": "2021-02-22T15:15:25.560984",
     "exception": false,
     "start_time": "2021-02-22T15:15:25.555173",
     "status": "completed"
    },
    "tags": []
   },
   "outputs": [],
   "source": []
  }
 ],
 "metadata": {
  "kernelspec": {
   "display_name": "Python 3",
   "language": "python",
   "name": "python3"
  },
  "language_info": {
   "codemirror_mode": {
    "name": "ipython",
    "version": 3
   },
   "file_extension": ".py",
   "mimetype": "text/x-python",
   "name": "python",
   "nbconvert_exporter": "python",
   "pygments_lexer": "ipython3",
   "version": "3.7.9"
  },
  "papermill": {
   "default_parameters": {},
   "duration": 226.946763,
   "end_time": "2021-02-22T15:15:26.376513",
   "environment_variables": {},
   "exception": null,
   "input_path": "__notebook__.ipynb",
   "output_path": "__notebook__.ipynb",
   "parameters": {},
   "start_time": "2021-02-22T15:11:39.429750",
   "version": "2.2.2"
  }
 },
 "nbformat": 4,
 "nbformat_minor": 4
}
