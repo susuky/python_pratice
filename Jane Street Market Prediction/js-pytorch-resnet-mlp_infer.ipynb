{
 "cells": [
  {
   "cell_type": "code",
   "execution_count": 1,
   "metadata": {
    "_cell_guid": "b1076dfc-b9ad-4769-8c92-a6c4dae69d19",
    "_uuid": "8f2839f25d086af736a60e9eeb907d3b93b6e0e5",
    "execution": {
     "iopub.execute_input": "2021-02-22T19:42:37.842509Z",
     "iopub.status.busy": "2021-02-22T19:42:37.841641Z",
     "iopub.status.idle": "2021-02-22T19:42:41.595304Z",
     "shell.execute_reply": "2021-02-22T19:42:41.593989Z"
    },
    "papermill": {
     "duration": 3.77091,
     "end_time": "2021-02-22T19:42:41.595543",
     "exception": false,
     "start_time": "2021-02-22T19:42:37.824633",
     "status": "completed"
    },
    "tags": []
   },
   "outputs": [
    {
     "data": {
      "text/html": [
       "<style type='text/css'>\n",
       ".datatable table.frame { margin-bottom: 0; }\n",
       ".datatable table.frame thead { border-bottom: none; }\n",
       ".datatable table.frame tr.coltypes td {  color: #FFFFFF;  line-height: 6px;  padding: 0 0.5em;}\n",
       ".datatable .bool    { background: #DDDD99; }\n",
       ".datatable .object  { background: #565656; }\n",
       ".datatable .int     { background: #5D9E5D; }\n",
       ".datatable .float   { background: #4040CC; }\n",
       ".datatable .str     { background: #CC4040; }\n",
       ".datatable .row_index {  background: var(--jp-border-color3);  border-right: 1px solid var(--jp-border-color0);  color: var(--jp-ui-font-color3);  font-size: 9px;}\n",
       ".datatable .frame tr.coltypes .row_index {  background: var(--jp-border-color0);}\n",
       ".datatable th:nth-child(2) { padding-left: 12px; }\n",
       ".datatable .hellipsis {  color: var(--jp-cell-editor-border-color);}\n",
       ".datatable .vellipsis {  background: var(--jp-layout-color0);  color: var(--jp-cell-editor-border-color);}\n",
       ".datatable .na {  color: var(--jp-cell-editor-border-color);  font-size: 80%;}\n",
       ".datatable .footer { font-size: 9px; }\n",
       ".datatable .frame_dimensions {  background: var(--jp-border-color3);  border-top: 1px solid var(--jp-border-color0);  color: var(--jp-ui-font-color3);  display: inline-block;  opacity: 0.6;  padding: 1px 10px 1px 5px;}\n",
       "</style>\n"
      ],
      "text/plain": [
       "<IPython.core.display.HTML object>"
      ]
     },
     "metadata": {},
     "output_type": "display_data"
    }
   ],
   "source": [
    "# lib\n",
    "import copy\n",
    "import datatable as dt\n",
    "import matplotlib.pyplot as plt\n",
    "import numpy as np\n",
    "import os\n",
    "import pandas as pd\n",
    "import pickle\n",
    "import random\n",
    "import seaborn as sns\n",
    "import time\n",
    "\n",
    "import torch\n",
    "import torch.nn as nn\n",
    "from glob import glob\n",
    "\n",
    "def seed_everything(seed=7777):\n",
    "    random.seed(seed)\n",
    "    os.environ['PYTHONHASHSEED'] = str(seed)  \n",
    "    torch.manual_seed(seed)\n",
    "    torch.cuda.manual_seed(seed)\n",
    "    torch.backends.cudnn.deterministic = True\n",
    "    #tf.random.set_seed(seed)\n",
    "    np.random.seed(seed)\n",
    "\n",
    "\n",
    "SEED = 7777\n",
    "seed_everything(SEED)\n",
    "pd.set_option('display.max_columns', 200)\n",
    "device = torch.device('cuda' if torch.cuda.is_available() else 'cpu')"
   ]
  },
  {
   "cell_type": "code",
   "execution_count": 2,
   "metadata": {
    "execution": {
     "iopub.execute_input": "2021-02-22T19:42:41.617779Z",
     "iopub.status.busy": "2021-02-22T19:42:41.615645Z",
     "iopub.status.idle": "2021-02-22T19:42:41.618522Z",
     "shell.execute_reply": "2021-02-22T19:42:41.619040Z"
    },
    "papermill": {
     "duration": 0.016021,
     "end_time": "2021-02-22T19:42:41.619298",
     "exception": false,
     "start_time": "2021-02-22T19:42:41.603277",
     "status": "completed"
    },
    "tags": []
   },
   "outputs": [],
   "source": [
    "data_path = '../input/jane-street-market-prediction/'\n",
    "\n",
    "\n",
    "def save_pickle(dic, save_path):\n",
    "    with open(save_path, 'wb') as f:\n",
    "    # with gzip.open(save_path, 'wb') as f:\n",
    "        pickle.dump(dic, f)\n",
    "\n",
    "def load_pickle(load_path):\n",
    "    with open(load_path, 'rb') as f:\n",
    "    # with gzip.open(load_path, 'rb') as f:\n",
    "        dic = pickle.load(f)\n",
    "    return dic"
   ]
  },
  {
   "cell_type": "code",
   "execution_count": 3,
   "metadata": {
    "_kg_hide-input": true,
    "execution": {
     "iopub.execute_input": "2021-02-22T19:42:41.642668Z",
     "iopub.status.busy": "2021-02-22T19:42:41.641969Z",
     "iopub.status.idle": "2021-02-22T19:42:41.673529Z",
     "shell.execute_reply": "2021-02-22T19:42:41.672851Z"
    },
    "papermill": {
     "duration": 0.047685,
     "end_time": "2021-02-22T19:42:41.673688",
     "exception": false,
     "start_time": "2021-02-22T19:42:41.626003",
     "status": "completed"
    },
    "tags": []
   },
   "outputs": [],
   "source": [
    "features = [f'feature_{i}' for i in range(130)]\n",
    "train_df_median = pd.read_csv('../input/js-lgbm-cls/train_df_median.csv')\n",
    "train_df_median = train_df_median[features].values"
   ]
  },
  {
   "cell_type": "code",
   "execution_count": 4,
   "metadata": {
    "_kg_hide-input": false,
    "execution": {
     "iopub.execute_input": "2021-02-22T19:42:41.708636Z",
     "iopub.status.busy": "2021-02-22T19:42:41.705552Z",
     "iopub.status.idle": "2021-02-22T19:42:41.711517Z",
     "shell.execute_reply": "2021-02-22T19:42:41.710991Z"
    },
    "papermill": {
     "duration": 0.031223,
     "end_time": "2021-02-22T19:42:41.711644",
     "exception": false,
     "start_time": "2021-02-22T19:42:41.680421",
     "status": "completed"
    },
    "tags": []
   },
   "outputs": [],
   "source": [
    "class Mish(nn.Module):\n",
    "    class MishAutoFn(torch.autograd.Function):\n",
    "        \"\"\"Mish: A Self Regularized Non-Monotonic Neural Activation Function - https://arxiv.org/abs/1908.08681\n",
    "        Experimental memory-efficient variant\n",
    "        \"\"\"\n",
    "        @staticmethod\n",
    "        def forward(ctx, x):\n",
    "            ctx.save_for_backward(x)\n",
    "            y = x.mul(torch.tanh(F.softplus(x)))  # x * tanh(ln(1 + exp(x)))\n",
    "            return y\n",
    "\n",
    "        @staticmethod\n",
    "        def backward(ctx, grad_output):\n",
    "            x = ctx.saved_tensors[0]\n",
    "            x_sigmoid = torch.sigmoid(x)\n",
    "            x_tanh_sp = F.softplus(x).tanh()\n",
    "            return grad_output.mul(x_tanh_sp + x * x_sigmoid *\n",
    "                                   (1 - x_tanh_sp * x_tanh_sp))\n",
    "\n",
    "    def __init__(self, inplace: bool = False):\n",
    "        super(Mish, self).__init__()\n",
    "        self.inplace = inplace\n",
    "\n",
    "    def forward(self, x):\n",
    "        return self.MishAutoFn.apply(x)\n",
    "\n",
    "\n",
    "class Block(nn.Module):\n",
    "    def __init__(self, in_dim, out_dim, dropout_rate=0.2):\n",
    "        super(Block, self).__init__()\n",
    "        self.dense = nn.Linear(in_dim, out_dim)\n",
    "        self.batch_norm = nn.BatchNorm1d(out_dim)\n",
    "        self.dropout = nn.Dropout(dropout_rate)\n",
    "        self.mish = nn.LeakyReLU(negative_slope=0.01, inplace=True)#Mish()\n",
    "\n",
    "    def forward(self, x):\n",
    "        x1 = self.dense(x)\n",
    "        x1 = self.mish(x1)\n",
    "        x1 = self.batch_norm(x1)\n",
    "        x1 = self.dropout(x1)\n",
    "        return x, x1\n",
    "\n",
    "\n",
    "class Model(nn.Module):\n",
    "    def __init__(self, in_dim, out_dim, hidden_size=256, dropout_rate=0.2):\n",
    "        super(Model, self).__init__()\n",
    "        self.batch_norm0 = nn.BatchNorm1d(in_dim)\n",
    "        self.dropout0 = nn.Dropout(dropout_rate)\n",
    "\n",
    "        self.block1 = Block(in_dim, hidden_size)\n",
    "\n",
    "        self.block2 = Block(hidden_size + in_dim, hidden_size)\n",
    "\n",
    "        self.block3 = Block(hidden_size + hidden_size, hidden_size)\n",
    "\n",
    "        self.block4 = Block(hidden_size + hidden_size, hidden_size)\n",
    "\n",
    "        self.dense5 = nn.Linear(hidden_size + hidden_size, out_dim)\n",
    "        \n",
    "\n",
    "    def forward(self, x):\n",
    "        x = self.batch_norm0(x)\n",
    "        x = self.dropout0(x)\n",
    "\n",
    "        x, x1 = self.block1(x)\n",
    "        x = torch.cat([x, x1], 1)\n",
    "\n",
    "        x, x2 = self.block2(x)\n",
    "        x = torch.cat([x1, x2], 1)\n",
    "        \n",
    "        x, x3 = self.block3(x)\n",
    "        x = torch.cat([x2, x3], 1)\n",
    "        \n",
    "        x, x4 = self.block4(x)\n",
    "        x = torch.cat([x3, x4], 1)\n",
    "\n",
    "        x = self.dense5(x)\n",
    "\n",
    "        return x"
   ]
  },
  {
   "cell_type": "code",
   "execution_count": 5,
   "metadata": {
    "execution": {
     "iopub.execute_input": "2021-02-22T19:42:41.730518Z",
     "iopub.status.busy": "2021-02-22T19:42:41.729787Z",
     "iopub.status.idle": "2021-02-22T19:42:47.969620Z",
     "shell.execute_reply": "2021-02-22T19:42:47.968944Z"
    },
    "papermill": {
     "duration": 6.251657,
     "end_time": "2021-02-22T19:42:47.969781",
     "exception": false,
     "start_time": "2021-02-22T19:42:41.718124",
     "status": "completed"
    },
    "tags": []
   },
   "outputs": [],
   "source": [
    "checkpoints = [torch.load(path, map_location=torch.device('cpu'))\n",
    "                       for path in glob( '../input/js-pytorch/fold*.pth')]\n",
    "\n",
    "\n",
    "model = Model(132, 5)\n",
    "model.eval()\n",
    "model.to(device)\n",
    "\n",
    "\n",
    "models = [copy.deepcopy(model) for i in range(5)]\n",
    "for idx, checkpoint in enumerate(checkpoints):\n",
    "    models[idx].load_state_dict(checkpoint['model_state_dict'])"
   ]
  },
  {
   "cell_type": "code",
   "execution_count": 6,
   "metadata": {
    "execution": {
     "iopub.execute_input": "2021-02-22T19:42:47.996331Z",
     "iopub.status.busy": "2021-02-22T19:42:47.995644Z",
     "iopub.status.idle": "2021-02-22T19:46:49.073440Z",
     "shell.execute_reply": "2021-02-22T19:46:49.071640Z"
    },
    "papermill": {
     "duration": 241.096141,
     "end_time": "2021-02-22T19:46:49.073646",
     "exception": false,
     "start_time": "2021-02-22T19:42:47.977505",
     "status": "completed"
    },
    "tags": []
   },
   "outputs": [],
   "source": [
    "th = 0.500\n",
    "esp = 1e-8\n",
    "\n",
    "import janestreet\n",
    "env = janestreet.make_env()\n",
    "\n",
    "for (test_df, pred_df) in env.iter_test():\n",
    "    if test_df['weight'].item() > 0:\n",
    "        x_test = test_df.loc[:, features].values\n",
    "        \n",
    "        # fill na\n",
    "        if np.isnan(x_test[:, 1:].sum()):\n",
    "            x_test = np.nan_to_num(x_test) + np.isnan(x_test) * train_df_median\n",
    "            \n",
    "        feature_41_42_43 = x_test[:, 41] + x_test[:, 42] + x_test[:, 43]\n",
    "        feature_1_2 = (x_test[:, 1] + esp) / (x_test[:, 2] + esp)\n",
    "        \n",
    "        x_test = np.concatenate((\n",
    "            x_test,\n",
    "            np.array(feature_41_42_43).reshape(x_test.shape[0], 1),\n",
    "            np.array(feature_1_2).reshape(x_test.shape[0], 1),\n",
    "        ), axis=1)\n",
    "        \n",
    "        x_test = torch.tensor(x_test, device=device, dtype=torch.float)\n",
    "        with torch.no_grad():\n",
    "            pred = np.median(np.stack([model(x_test)[:, 4].sigmoid().cpu().numpy() for model in models]), axis=0)\n",
    "        pred_df.action = np.where(pred >= th, 1, 0).astype(int)\n",
    "    else:\n",
    "        pred_df.action = 0\n",
    "    \n",
    "    env.predict(pred_df)"
   ]
  }
 ],
 "metadata": {
  "kernelspec": {
   "display_name": "Python 3",
   "language": "python",
   "name": "python3"
  },
  "language_info": {
   "codemirror_mode": {
    "name": "ipython",
    "version": 3
   },
   "file_extension": ".py",
   "mimetype": "text/x-python",
   "name": "python",
   "nbconvert_exporter": "python",
   "pygments_lexer": "ipython3",
   "version": "3.7.9"
  },
  "papermill": {
   "default_parameters": {},
   "duration": 259.941884,
   "end_time": "2021-02-22T19:46:51.307094",
   "environment_variables": {},
   "exception": null,
   "input_path": "__notebook__.ipynb",
   "output_path": "__notebook__.ipynb",
   "parameters": {},
   "start_time": "2021-02-22T19:42:31.365210",
   "version": "2.2.2"
  }
 },
 "nbformat": 4,
 "nbformat_minor": 4
}
