{
 "cells": [
  {
   "cell_type": "code",
   "execution_count": 1,
   "metadata": {
    "ExecuteTime": {
     "end_time": "2020-06-19T09:19:29.610183Z",
     "start_time": "2020-06-19T09:19:29.356108Z"
    }
   },
   "outputs": [],
   "source": [
    "import torch\n",
    "import torch.nn as nn\n",
    "import torch.nn.functional as F\n",
    "import torch.optim as optim"
   ]
  },
  {
   "cell_type": "markdown",
   "metadata": {},
   "source": [
    "if bach_first:\n",
    "        \n",
    "        - input shape: (bs, len(sq), input_size)\n",
    "        - hidden shape: (layers * num(directions), bs, hidden_size)\n",
    "        - output shape: (bs, len(sq), hidden_size * num(directions))\n",
    " \n",
    " if not bach_first:\n",
    " \n",
    "        - input shape: (len(sq), bs, input_size)\n",
    "        - hidden shape: (layers * num(directions), bs, hidden_size)\n",
    "        - output shape: (len(sq), bs, hidden_size * num(directions))"
   ]
  },
  {
   "cell_type": "code",
   "execution_count": 2,
   "metadata": {
    "ExecuteTime": {
     "end_time": "2020-06-19T09:19:30.911303Z",
     "start_time": "2020-06-19T09:19:30.902800Z"
    }
   },
   "outputs": [
    {
     "data": {
      "text/plain": [
       "(torch.Size([1, 3]), torch.Size([1, 3]), torch.Size([1, 3]))"
      ]
     },
     "execution_count": 2,
     "metadata": {},
     "output_type": "execute_result"
    }
   ],
   "source": [
    "# Three ways to get newaxis\n",
    "(torch.zeros(3).unsqueeze(0).shape, \n",
    " torch.zeros(3)[None].shape, \n",
    " torch.zeros(3)[np.newaxis, :].shape)"
   ]
  },
  {
   "cell_type": "code",
   "execution_count": 3,
   "metadata": {
    "ExecuteTime": {
     "end_time": "2020-06-19T09:19:32.045329Z",
     "start_time": "2020-06-19T09:19:32.042304Z"
    }
   },
   "outputs": [],
   "source": [
    "bs = 6"
   ]
  },
  {
   "cell_type": "code",
   "execution_count": 4,
   "metadata": {
    "ExecuteTime": {
     "end_time": "2020-06-19T09:19:38.222184Z",
     "start_time": "2020-06-19T09:19:38.218184Z"
    }
   },
   "outputs": [],
   "source": [
    "lstm = nn.LSTM(input_size=5,\n",
    "               hidden_size=4,\n",
    "               batch_first=False,  # !!!!!!!!!\n",
    "               num_layers=2,\n",
    "               bidirectional=False)"
   ]
  },
  {
   "cell_type": "code",
   "execution_count": 5,
   "metadata": {
    "ExecuteTime": {
     "end_time": "2020-06-19T09:19:40.145933Z",
     "start_time": "2020-06-19T09:19:40.140964Z"
    },
    "code_folding": [
     0
    ]
   },
   "outputs": [
    {
     "name": "stdout",
     "output_type": "stream",
     "text": [
      "Number of parameters: 336\n"
     ]
    }
   ],
   "source": [
    "def cal_params(model):\n",
    "    params = list(model.parameters())\n",
    "    params_num = sum(param.numel() for param in params if param.requires_grad)\n",
    "    print(f'Number of parameters: {params_num}')\n",
    "    \n",
    "cal_params(lstm)"
   ]
  },
  {
   "cell_type": "code",
   "execution_count": 6,
   "metadata": {
    "ExecuteTime": {
     "end_time": "2020-06-19T09:20:04.970242Z",
     "start_time": "2020-06-19T09:20:04.963274Z"
    }
   },
   "outputs": [
    {
     "data": {
      "text/plain": [
       "(tensor([[[-3.5029e-01,  3.4677e-01,  4.2808e-01, -1.6336e-01, -3.3994e-01],\n",
       "          [-6.0789e-01, -1.3171e+00, -1.6369e+00, -1.6093e+00,  5.8418e-01],\n",
       "          [-1.3770e+00, -1.3619e+00,  4.3316e-01,  6.5612e-01, -8.2146e-01],\n",
       "          [-3.8925e-01, -1.3494e+00,  5.6402e-01,  1.3024e+00, -7.5726e-01],\n",
       "          [ 4.9817e-01,  1.2953e-01,  1.4554e+00, -2.0722e-04, -7.0656e-02],\n",
       "          [ 3.7583e-01,  5.4918e-01,  3.0456e-01,  1.9616e-01,  7.8082e-01]],\n",
       " \n",
       "         [[-9.1959e-01,  4.6030e-01,  9.9762e-02, -1.0667e-01,  1.3150e-01],\n",
       "          [ 6.9468e-01, -4.9068e-01, -1.2252e+00, -1.1959e+00,  6.0341e-01],\n",
       "          [-7.4977e-01, -1.2533e+00,  4.4687e-01, -2.2652e+00, -4.7808e-01],\n",
       "          [-1.5928e-01, -1.8498e-01,  8.8044e-02, -3.7477e-01, -1.6687e+00],\n",
       "          [-9.3021e-01,  5.1032e-01,  1.1667e-01, -1.3975e+00,  3.0567e-01],\n",
       "          [ 9.4562e-01,  9.2504e-02,  1.0332e+00,  1.2200e+00,  2.0081e+00]],\n",
       " \n",
       "         [[ 4.7394e-02,  1.6006e+00, -4.8156e-02, -5.9495e-01, -1.1905e+00],\n",
       "          [-9.8738e-01, -8.5302e-01,  2.9370e-01,  1.5279e+00,  1.1726e-01],\n",
       "          [-2.5438e-01,  8.0290e-01, -2.0452e+00, -3.4080e-01, -2.8701e-01],\n",
       "          [-1.1318e+00,  1.5393e+00,  3.3885e-01,  5.4537e-01, -1.7333e-01],\n",
       "          [-7.1354e-02,  9.4411e-01,  2.0903e-01,  4.7227e-01, -7.4769e-02],\n",
       "          [-4.5687e-01,  9.3714e-01,  1.8541e-01,  5.6338e-01,  1.6437e+00]]]),\n",
       " torch.Size([3, 6, 5]))"
      ]
     },
     "execution_count": 6,
     "metadata": {},
     "output_type": "execute_result"
    }
   ],
   "source": [
    "# create input\n",
    "inputs = torch.randn(3, bs, 5)  # (len(sq), bs, input_size)\n",
    "inputs, inputs.shape"
   ]
  },
  {
   "cell_type": "markdown",
   "metadata": {},
   "source": [
    "# batch_size = 1"
   ]
  },
  {
   "cell_type": "code",
   "execution_count": 12,
   "metadata": {
    "ExecuteTime": {
     "end_time": "2020-06-19T09:23:25.096626Z",
     "start_time": "2020-06-19T09:23:25.081601Z"
    },
    "scrolled": true
   },
   "outputs": [
    {
     "name": "stdout",
     "output_type": "stream",
     "text": [
      "tensor([[[-0.0722,  0.1287, -0.0122,  0.0700]],\n",
      "\n",
      "        [[-0.0844,  0.1695, -0.0039,  0.0979]],\n",
      "\n",
      "        [[-0.1049,  0.1927, -0.0052,  0.0907]]], grad_fn=<StackBackward>)\n",
      "(tensor([[[ 0.0459, -0.0498,  0.1962,  0.3713]],\n",
      "\n",
      "        [[-0.1049,  0.1927, -0.0052,  0.0907]]], grad_fn=<StackBackward>), tensor([[[ 0.0938, -0.1206,  0.3773,  0.6324]],\n",
      "\n",
      "        [[-0.1858,  0.7578, -0.0105,  0.1905]]], grad_fn=<StackBackward>))\n",
      "\n",
      "\n",
      "tensor([[[-0.0666,  0.2245,  0.0061,  0.0661]],\n",
      "\n",
      "        [[-0.0433,  0.2259,  0.0164,  0.0773]],\n",
      "\n",
      "        [[-0.0400,  0.2295,  0.0196,  0.1294]]], grad_fn=<StackBackward>)\n",
      "(tensor([[[ 0.2314,  0.1953,  0.0044,  0.1901]],\n",
      "\n",
      "        [[-0.0400,  0.2295,  0.0196,  0.1294]]], grad_fn=<StackBackward>), tensor([[[ 0.3296,  0.6045,  0.0077,  0.4178]],\n",
      "\n",
      "        [[-0.0719,  0.9089,  0.0452,  0.2703]]], grad_fn=<StackBackward>))\n",
      "\n",
      "\n",
      "tensor([[[-0.0280,  0.2257,  0.0303,  0.1666]],\n",
      "\n",
      "        [[-0.0055,  0.2109,  0.0617,  0.1478]],\n",
      "\n",
      "        [[-0.0112,  0.2447,  0.0476,  0.0967]]], grad_fn=<StackBackward>)\n",
      "(tensor([[[-0.1231, -0.0163, -0.0316,  0.2661]],\n",
      "\n",
      "        [[-0.0112,  0.2447,  0.0476,  0.0967]]], grad_fn=<StackBackward>), tensor([[[-0.3847, -0.0354, -0.1153,  0.7115]],\n",
      "\n",
      "        [[-0.0184,  0.9144,  0.1001,  0.1866]]], grad_fn=<StackBackward>))\n",
      "\n",
      "\n",
      "tensor([[[ 0.0017,  0.2455,  0.0429,  0.1418]],\n",
      "\n",
      "        [[ 0.0095,  0.2398,  0.0497,  0.1615]],\n",
      "\n",
      "        [[-0.0283,  0.2314,  0.0419,  0.1555]]], grad_fn=<StackBackward>)\n",
      "(tensor([[[ 0.1529,  0.0920,  0.0992,  0.2438]],\n",
      "\n",
      "        [[-0.0283,  0.2314,  0.0419,  0.1555]]], grad_fn=<StackBackward>), tensor([[[ 0.2591,  0.3178,  0.2122,  0.5451]],\n",
      "\n",
      "        [[-0.0491,  0.9419,  0.0903,  0.3226]]], grad_fn=<StackBackward>))\n",
      "\n",
      "\n",
      "tensor([[[-0.0720,  0.2009,  0.0384,  0.1887]],\n",
      "\n",
      "        [[-0.0793,  0.2174,  0.0391,  0.1537]],\n",
      "\n",
      "        [[-0.0913,  0.2103,  0.0332,  0.1550]]], grad_fn=<StackBackward>)\n",
      "(tensor([[[ 0.2356,  0.1126,  0.2635,  0.3198]],\n",
      "\n",
      "        [[-0.0913,  0.2103,  0.0332,  0.1550]]], grad_fn=<StackBackward>), tensor([[[ 0.4238,  0.2996,  0.5182,  0.6452]],\n",
      "\n",
      "        [[-0.1669,  0.9413,  0.0694,  0.3408]]], grad_fn=<StackBackward>))\n",
      "\n",
      "\n",
      "tensor([[[-0.1013,  0.2108,  0.0275,  0.1649]],\n",
      "\n",
      "        [[-0.1097,  0.2085,  0.0210,  0.1815]],\n",
      "\n",
      "        [[-0.1103,  0.2164,  0.0162,  0.1679]]], grad_fn=<StackBackward>)\n",
      "(tensor([[[ 0.3034,  0.1219,  0.2633,  0.1916]],\n",
      "\n",
      "        [[-0.1103,  0.2164,  0.0162,  0.1679]]], grad_fn=<StackBackward>), tensor([[[ 0.6016,  0.4079,  0.6641,  0.5894]],\n",
      "\n",
      "        [[-0.2075,  0.9484,  0.0353,  0.3713]]], grad_fn=<StackBackward>))\n",
      "\n",
      "\n"
     ]
    },
    {
     "data": {
      "text/plain": [
       "torch.Size([3, 1, 4])"
      ]
     },
     "execution_count": 12,
     "metadata": {},
     "output_type": "execute_result"
    }
   ],
   "source": [
    "# init hidden\n",
    "init = torch.zeros(1)[None][None].repeat(2, 1, 4)  \n",
    "hidden = (init, init)  # (h, c)\n",
    "init.shape  # (layers * num(directions), bs, hidden_size)\n",
    "\n",
    "for i in inputs.permute(1 ,0, 2):\n",
    "    i = i.view(3, 1, 5)  # (len(seq), bs, input_size)\n",
    "    out, hidden = lstm(i, hidden)\n",
    "    print(out)\n",
    "    print(hidden)\n",
    "    print('\\n')\n",
    "out.shape  # (len(seq), bs, hidden_size * num(directions))"
   ]
  },
  {
   "cell_type": "markdown",
   "metadata": {},
   "source": [
    "# batch_size = bs"
   ]
  },
  {
   "cell_type": "code",
   "execution_count": 13,
   "metadata": {
    "ExecuteTime": {
     "end_time": "2020-06-19T09:23:40.305364Z",
     "start_time": "2020-06-19T09:23:40.296367Z"
    }
   },
   "outputs": [
    {
     "name": "stdout",
     "output_type": "stream",
     "text": [
      "tensor([[[-0.0722,  0.1287, -0.0122,  0.0700],\n",
      "         [-0.0434,  0.1270, -0.0036,  0.0267],\n",
      "         [-0.0447,  0.1411, -0.0070,  0.0805],\n",
      "         [-0.0458,  0.1532, -0.0146,  0.0865],\n",
      "         [-0.0895,  0.1304, -0.0216,  0.0997],\n",
      "         [-0.0794,  0.1309, -0.0177,  0.0720]],\n",
      "\n",
      "        [[-0.0844,  0.1695, -0.0039,  0.0979],\n",
      "         [-0.0442,  0.1765,  0.0053,  0.0571],\n",
      "         [-0.0272,  0.1636,  0.0202,  0.0867],\n",
      "         [-0.0429,  0.2044, -0.0155,  0.1137],\n",
      "         [-0.0968,  0.1669, -0.0089,  0.0920],\n",
      "         [-0.1055,  0.1694, -0.0185,  0.1261]],\n",
      "\n",
      "        [[-0.1049,  0.1927, -0.0052,  0.0907],\n",
      "         [-0.0466,  0.2032,  0.0097,  0.1153],\n",
      "         [-0.0327,  0.2140,  0.0135,  0.0563],\n",
      "         [-0.0647,  0.2082, -0.0173,  0.1170],\n",
      "         [-0.1050,  0.1864, -0.0037,  0.1184],\n",
      "         [-0.1118,  0.1919, -0.0138,  0.1352]]], grad_fn=<StackBackward>)\n",
      "(tensor([[[ 0.0459, -0.0498,  0.1962,  0.3713],\n",
      "         [ 0.2132,  0.2006,  0.0029,  0.1575],\n",
      "         [-0.1442, -0.0342, -0.0442,  0.2295],\n",
      "         [ 0.1302,  0.0793,  0.1168,  0.1292],\n",
      "         [ 0.1892,  0.1138,  0.2329,  0.2723],\n",
      "         [ 0.2556,  0.1226,  0.2293,  0.1814]],\n",
      "\n",
      "        [[-0.1049,  0.1927, -0.0052,  0.0907],\n",
      "         [-0.0466,  0.2032,  0.0097,  0.1153],\n",
      "         [-0.0327,  0.2140,  0.0135,  0.0563],\n",
      "         [-0.0647,  0.2082, -0.0173,  0.1170],\n",
      "         [-0.1050,  0.1864, -0.0037,  0.1184],\n",
      "         [-0.1118,  0.1919, -0.0138,  0.1352]]], grad_fn=<StackBackward>), tensor([[[ 0.0938, -0.1206,  0.3773,  0.6324],\n",
      "         [ 0.3031,  0.6309,  0.0051,  0.3340],\n",
      "         [-0.4640, -0.0762, -0.1628,  0.5733],\n",
      "         [ 0.2147,  0.3100,  0.2489,  0.2491],\n",
      "         [ 0.3378,  0.3071,  0.4517,  0.5221],\n",
      "         [ 0.4999,  0.4201,  0.5680,  0.5306]],\n",
      "\n",
      "        [[-0.1858,  0.7578, -0.0105,  0.1905],\n",
      "         [-0.0836,  0.7289,  0.0221,  0.2372],\n",
      "         [-0.0542,  0.7212,  0.0286,  0.1076],\n",
      "         [-0.1164,  0.7682, -0.0382,  0.2373],\n",
      "         [-0.1942,  0.7403, -0.0078,  0.2537],\n",
      "         [-0.2103,  0.7540, -0.0301,  0.2916]]], grad_fn=<StackBackward>))\n",
      "\n",
      "\n"
     ]
    },
    {
     "data": {
      "text/plain": [
       "(torch.Size([3, 6, 4]), torch.Size([2, 6, 4]))"
      ]
     },
     "execution_count": 13,
     "metadata": {},
     "output_type": "execute_result"
    }
   ],
   "source": [
    "init = torch.zeros(1)[None][None].repeat(2, bs, 4)\n",
    "hidden = (init, init)\n",
    "h, c = hidden\n",
    "init.shape\n",
    "\n",
    "out, hidden = lstm(inputs, hidden)\n",
    "print(out)\n",
    "print(hidden)\n",
    "print('\\n')\n",
    "out.shape, hidden[0].shape"
   ]
  },
  {
   "cell_type": "code",
   "execution_count": null,
   "metadata": {},
   "outputs": [],
   "source": []
  }
 ],
 "metadata": {
  "kernelspec": {
   "display_name": "Python 3",
   "language": "python",
   "name": "python3"
  },
  "language_info": {
   "codemirror_mode": {
    "name": "ipython",
    "version": 3
   },
   "file_extension": ".py",
   "mimetype": "text/x-python",
   "name": "python",
   "nbconvert_exporter": "python",
   "pygments_lexer": "ipython3",
   "version": "3.7.4"
  },
  "toc": {
   "base_numbering": 1,
   "nav_menu": {},
   "number_sections": true,
   "sideBar": true,
   "skip_h1_title": false,
   "title_cell": "Table of Contents",
   "title_sidebar": "Contents",
   "toc_cell": false,
   "toc_position": {},
   "toc_section_display": true,
   "toc_window_display": false
  },
  "varInspector": {
   "cols": {
    "lenName": 16,
    "lenType": 16,
    "lenVar": 40
   },
   "kernels_config": {
    "python": {
     "delete_cmd_postfix": "",
     "delete_cmd_prefix": "del ",
     "library": "var_list.py",
     "varRefreshCmd": "print(var_dic_list())"
    },
    "r": {
     "delete_cmd_postfix": ") ",
     "delete_cmd_prefix": "rm(",
     "library": "var_list.r",
     "varRefreshCmd": "cat(var_dic_list()) "
    }
   },
   "types_to_exclude": [
    "module",
    "function",
    "builtin_function_or_method",
    "instance",
    "_Feature"
   ],
   "window_display": false
  }
 },
 "nbformat": 4,
 "nbformat_minor": 4
}
