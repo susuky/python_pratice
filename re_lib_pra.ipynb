{
 "cells": [
  {
   "cell_type": "code",
   "execution_count": 1,
   "metadata": {
    "ExecuteTime": {
     "end_time": "2019-04-07T04:48:50.566235Z",
     "start_time": "2019-04-07T04:48:50.562212Z"
    }
   },
   "outputs": [],
   "source": [
    "import re"
   ]
  },
  {
   "cell_type": "code",
   "execution_count": 4,
   "metadata": {
    "ExecuteTime": {
     "end_time": "2019-04-07T04:49:31.290548Z",
     "start_time": "2019-04-07T04:49:31.287556Z"
    }
   },
   "outputs": [],
   "source": [
    "str1 = 'data/oxford-iiit-pet/images/american_bulldog_146.jpg'\n",
    "str2 = '/kaggle/input/images/images/basset_hound_188.jpg'\n",
    "str3 = '/images/Siamese_183.jpg'"
   ]
  },
  {
   "cell_type": "code",
   "execution_count": 42,
   "metadata": {
    "ExecuteTime": {
     "end_time": "2019-04-07T04:57:36.049950Z",
     "start_time": "2019-04-07T04:57:36.045991Z"
    }
   },
   "outputs": [
    {
     "name": "stdout",
     "output_type": "stream",
     "text": [
      "american_bulldog_146.jpg\n",
      "basset_hound_188.jpg\n",
      "Siamese_183.jpg\n"
     ]
    }
   ],
   "source": [
    "pat = r'([^/]+)_\\d+.jpg$'\n",
    "pat = re.compile(pat)\n",
    "print(pat.search(str1).group(0))\n",
    "print(pat.search(str2).group(0))\n",
    "print(pat.search(str3).group(0))"
   ]
  },
  {
   "cell_type": "code",
   "execution_count": 26,
   "metadata": {
    "ExecuteTime": {
     "end_time": "2019-04-07T04:54:18.861197Z",
     "start_time": "2019-04-07T04:54:18.858205Z"
    }
   },
   "outputs": [
    {
     "data": {
      "text/plain": [
       "'american_bulldog_146.jpg'"
      ]
     },
     "execution_count": 26,
     "metadata": {},
     "output_type": "execute_result"
    }
   ],
   "source": [
    "pat.search(str1).group()"
   ]
  },
  {
   "cell_type": "code",
   "execution_count": 27,
   "metadata": {
    "ExecuteTime": {
     "end_time": "2019-04-07T04:54:19.179735Z",
     "start_time": "2019-04-07T04:54:19.174746Z"
    }
   },
   "outputs": [
    {
     "data": {
      "text/plain": [
       "'american_bulldog'"
      ]
     },
     "execution_count": 27,
     "metadata": {},
     "output_type": "execute_result"
    }
   ],
   "source": [
    "pat.search(str1).group(1)"
   ]
  },
  {
   "cell_type": "code",
   "execution_count": 57,
   "metadata": {
    "ExecuteTime": {
     "end_time": "2019-04-07T04:59:08.006899Z",
     "start_time": "2019-04-07T04:59:08.001913Z"
    }
   },
   "outputs": [
    {
     "name": "stdout",
     "output_type": "stream",
     "text": [
      "american_bulldog_146.jpg\n",
      "basset_hound_188.jpg\n",
      "Siamese_183.jpg\n"
     ]
    }
   ],
   "source": [
    "pat2 = r'([^/])+(_\\d+.jpg)$'\n",
    "pat2 = re.compile(pat2)\n",
    "print(pat2.search(str1).group(0))\n",
    "print(pat2.search(str2).group(0))\n",
    "print(pat2.search(str3).group(0))"
   ]
  }
 ],
 "metadata": {
  "kernelspec": {
   "display_name": "Python 3",
   "language": "python",
   "name": "python3"
  },
  "language_info": {
   "codemirror_mode": {
    "name": "ipython",
    "version": 3
   },
   "file_extension": ".py",
   "mimetype": "text/x-python",
   "name": "python",
   "nbconvert_exporter": "python",
   "pygments_lexer": "ipython3",
   "version": "3.6.8"
  },
  "toc": {
   "base_numbering": 1,
   "nav_menu": {},
   "number_sections": true,
   "sideBar": true,
   "skip_h1_title": false,
   "title_cell": "Table of Contents",
   "title_sidebar": "Contents",
   "toc_cell": false,
   "toc_position": {},
   "toc_section_display": true,
   "toc_window_display": false
  },
  "varInspector": {
   "cols": {
    "lenName": 16,
    "lenType": 16,
    "lenVar": 40
   },
   "kernels_config": {
    "python": {
     "delete_cmd_postfix": "",
     "delete_cmd_prefix": "del ",
     "library": "var_list.py",
     "varRefreshCmd": "print(var_dic_list())"
    },
    "r": {
     "delete_cmd_postfix": ") ",
     "delete_cmd_prefix": "rm(",
     "library": "var_list.r",
     "varRefreshCmd": "cat(var_dic_list()) "
    }
   },
   "types_to_exclude": [
    "module",
    "function",
    "builtin_function_or_method",
    "instance",
    "_Feature"
   ],
   "window_display": false
  }
 },
 "nbformat": 4,
 "nbformat_minor": 2
}
