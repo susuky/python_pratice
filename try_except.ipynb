{
 "cells": [
  {
   "cell_type": "code",
   "execution_count": 1,
   "metadata": {
    "ExecuteTime": {
     "end_time": "2020-06-01T08:48:07.964048Z",
     "start_time": "2020-06-01T08:48:07.961024Z"
    }
   },
   "outputs": [],
   "source": [
    "def test(func):\n",
    "    try:\n",
    "        func()\n",
    "    except AssertionError:\n",
    "        print('AssertionError')\n",
    "    except ZeroDivisionError:\n",
    "        print('ZeroDivisionError')\n",
    "    except:\n",
    "        print('unknower error')\n",
    "    else:\n",
    "        # if don't catch error, it will be executed.\n",
    "        print('do not have a error')\n",
    "    finally:\n",
    "        # would always be executed. ususally usd to close something\n",
    "        # like plt.close(), file.close(), pipeline.close()\n",
    "        print('close')"
   ]
  },
  {
   "cell_type": "code",
   "execution_count": 2,
   "metadata": {
    "ExecuteTime": {
     "end_time": "2020-06-01T08:48:07.968024Z",
     "start_time": "2020-06-01T08:48:07.965023Z"
    }
   },
   "outputs": [],
   "source": [
    "def func1(): assert 1 != 1\n",
    "def func2(): 1 / 0\n",
    "def func3(): pass"
   ]
  },
  {
   "cell_type": "code",
   "execution_count": 3,
   "metadata": {
    "ExecuteTime": {
     "end_time": "2020-06-01T08:48:07.975023Z",
     "start_time": "2020-06-01T08:48:07.969024Z"
    }
   },
   "outputs": [
    {
     "name": "stdout",
     "output_type": "stream",
     "text": [
      "AssertionError\n",
      "close\n"
     ]
    }
   ],
   "source": [
    "test(func1)"
   ]
  },
  {
   "cell_type": "code",
   "execution_count": 4,
   "metadata": {
    "ExecuteTime": {
     "end_time": "2020-06-01T08:48:07.978027Z",
     "start_time": "2020-06-01T08:48:07.976023Z"
    }
   },
   "outputs": [
    {
     "name": "stdout",
     "output_type": "stream",
     "text": [
      "ZeroDivisionError\n",
      "close\n"
     ]
    }
   ],
   "source": [
    "test(func2)"
   ]
  },
  {
   "cell_type": "code",
   "execution_count": 5,
   "metadata": {
    "ExecuteTime": {
     "end_time": "2020-06-01T08:48:07.983023Z",
     "start_time": "2020-06-01T08:48:07.979024Z"
    }
   },
   "outputs": [
    {
     "name": "stdout",
     "output_type": "stream",
     "text": [
      "do not have a error\n",
      "close\n"
     ]
    }
   ],
   "source": [
    "test(func3)"
   ]
  },
  {
   "cell_type": "code",
   "execution_count": null,
   "metadata": {},
   "outputs": [],
   "source": []
  }
 ],
 "metadata": {
  "kernelspec": {
   "display_name": "Python 3",
   "language": "python",
   "name": "python3"
  },
  "language_info": {
   "codemirror_mode": {
    "name": "ipython",
    "version": 3
   },
   "file_extension": ".py",
   "mimetype": "text/x-python",
   "name": "python",
   "nbconvert_exporter": "python",
   "pygments_lexer": "ipython3",
   "version": "3.7.6"
  },
  "toc": {
   "base_numbering": 1,
   "nav_menu": {},
   "number_sections": true,
   "sideBar": true,
   "skip_h1_title": false,
   "title_cell": "Table of Contents",
   "title_sidebar": "Contents",
   "toc_cell": false,
   "toc_position": {},
   "toc_section_display": true,
   "toc_window_display": false
  },
  "varInspector": {
   "cols": {
    "lenName": 16,
    "lenType": 16,
    "lenVar": 40
   },
   "kernels_config": {
    "python": {
     "delete_cmd_postfix": "",
     "delete_cmd_prefix": "del ",
     "library": "var_list.py",
     "varRefreshCmd": "print(var_dic_list())"
    },
    "r": {
     "delete_cmd_postfix": ") ",
     "delete_cmd_prefix": "rm(",
     "library": "var_list.r",
     "varRefreshCmd": "cat(var_dic_list()) "
    }
   },
   "types_to_exclude": [
    "module",
    "function",
    "builtin_function_or_method",
    "instance",
    "_Feature"
   ],
   "window_display": false
  }
 },
 "nbformat": 4,
 "nbformat_minor": 4
}
