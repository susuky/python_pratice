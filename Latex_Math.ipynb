{
 "cells": [
  {
   "cell_type": "markdown",
   "metadata": {},
   "source": [
    "# 數學模式概說\n",
    "- 行內公式\n",
    "$a+b=b+a$\n",
    "- 行間公式\n",
    "$$a+b=b+a$$"
   ]
  },
  {
   "cell_type": "markdown",
   "metadata": {},
   "source": [
    "# 數學結構\n",
    "## 上標與下標\n",
    "- 上下標: $ A_{i,j} = 2^{i+j}$\n",
    "- 嵌套標: $ A_i^k= B_k^i$ $K_{n_i} = K_{2i} = 2^{n_i} = 2^{2^{i}} = 3^{3^{3^{...}}}$ \n",
    "- 撇號: $a=a'=a^T; b'_0 = b_0'$\n",
    "- 角度: $A=90^\\circ$\n",
    "- 連加上下標:  # 需要行內公式表示$$\\max_n f(n)=\\sum_{i=0}^nA_i$$ \n",
    "- 連加上下標:  $\\max_n f(n)=\\sum_{i=0}^nA_i$\n",
    "\n",
    "- 積分上下標: $\\int_0^1f(t)dt=\\iint_D g(x, y)dxdy$\n",
    "- 積分上下標: $$\\int_0^1f(t)dt=\\iint_D g(x, y)dxdy$$"
   ]
  },
  {
   "cell_type": "markdown",
   "metadata": {},
   "source": [
    "## 上下畫線與花括號\n",
    "- $\\overline{a+b} = \\overline{a} + \\overline{b} +\\bar c$\n",
    "- $\\underline{a} = (a_0, a_1, a_2, \\dots)$\n",
    "- $\\vec x = \\overrightarrow{AB} = \\hat x$\n",
    "- $\\overbrace{a+\\dots+b}=\\underbrace{1+2+3}$\n",
    "- $$(\\overbrace{a_0, a_1, \\dots ,a_n}^{\\text{共$n+1$項}})=(\\underbrace{0, 0, \\dots, 0}, 1_n)$$"
   ]
  },
  {
   "cell_type": "markdown",
   "metadata": {},
   "source": [
    "## 分式\n",
    "- $\\frac {23}{45}$\n",
    "- $\\frac 12 + \\frac1a = \\frac{2+a}{2a}$\n",
    "- $\\frac 12 f(x) = \\frac{\\frac 12}{\\frac 12 + \\frac 34 +3}$\n",
    "- 二項式系數: 小\\tbinom, 大\\dbinom:     $$(a+b)^2=\\binom 20 a^2 +\\tbinom 21 ab + \\dbinom 22 b^2$$"
   ]
  },
  {
   "cell_type": "markdown",
   "metadata": {},
   "source": [
    "## 根式\n",
    "- $\\sqrt 4 = \\sqrt[3]{8}=2$\n",
    "- $\\sqrt[n]{\\frac {x^2+\\sqrt 2}{x+y}}$\n",
    "- $$(x^p+y^q)^{\\frac 1{\\frac 1p + \\frac 1q}}$$"
   ]
  },
  {
   "cell_type": "markdown",
   "metadata": {},
   "source": [
    "$$\\mathbf{\\hat R_{i,j}}=\\frac{\\sum ^N_{s=1}(x^{(s)}_i-\\hat \\mu _{x_i})(x^{(s)}_j-\\hat \\mu _{x_j})}{\\sqrt {\\sum ^N_{s=1}(x^{(s)}_i-\\hat \\mu _{x_i})^2}\\sqrt {\\sum ^N_{s=1}(x^{(s)}_j-\\hat \\mu _{x_j})^2}}=\\frac{\\hat \\sigma_{x_i,x_j}}{\\hat \\sigma _{x_i}\\hat \\sigma _{x_j} }$$"
   ]
  },
  {
   "cell_type": "markdown",
   "metadata": {},
   "source": [
    "$\\mathbb {SR}$"
   ]
  },
  {
   "cell_type": "markdown",
   "metadata": {},
   "source": [
    "## 矩陣\n",
    "\\begin{matrix} 0&-12\\\\21&0 \\end{matrix}\n",
    "\\begin{pmatrix} 0&-12\\\\21&0 \\end{pmatrix}\n",
    "\\begin{bmatrix} 0&-12\\\\21&0 \\end{bmatrix}\n",
    "\\begin{vmatrix} 0&-12\\\\21&0 \\end{vmatrix}\n",
    "\n",
    "\\begin{equation} %開始數學環境\n",
    "\\left[\n",
    "\\begin{array}{}  \n",
    "    a11 & a12 & a13\\\\  %第一行元素\n",
    "    a21 & a22 & a23\\\\  %第二行元素\n",
    "\\end{array}\n",
    "\\right]              %右括號\n",
    "\\end{equation}"
   ]
  },
  {
   "cell_type": "markdown",
   "metadata": {},
   "source": [
    "$CE = -log(Y_{pred})$,  if  $Y_{true}=1$"
   ]
  },
  {
   "cell_type": "markdown",
   "metadata": {},
   "source": [
    "Weighted $CE = -\\alpha log(Y_{pred})$,  if  $Y_{true}=1$, $\\alpha \\in [0,1]$"
   ]
  },
  {
   "cell_type": "markdown",
   "metadata": {},
   "source": [
    "$FL = -(1 - Y_{pred})^{\\gamma}log(Y_{pred})$,  if  $Y_{true}=1$, $\\gamma \\in [0,5]$"
   ]
  },
  {
   "cell_type": "markdown",
   "metadata": {},
   "source": [
    "$FL = -\\alpha(1 - Y_{pred})^{\\gamma}log(Y_{pred})$,  if  $Y_{true}=1$"
   ]
  }
 ],
 "metadata": {
  "kernelspec": {
   "display_name": "Python 3",
   "language": "python",
   "name": "python3"
  },
  "language_info": {
   "codemirror_mode": {
    "name": "ipython",
    "version": 3
   },
   "file_extension": ".py",
   "mimetype": "text/x-python",
   "name": "python",
   "nbconvert_exporter": "python",
   "pygments_lexer": "ipython3",
   "version": "3.7.4"
  },
  "toc": {
   "base_numbering": 1,
   "nav_menu": {},
   "number_sections": true,
   "sideBar": true,
   "skip_h1_title": false,
   "title_cell": "Table of Contents",
   "title_sidebar": "Contents",
   "toc_cell": false,
   "toc_position": {},
   "toc_section_display": true,
   "toc_window_display": false
  },
  "varInspector": {
   "cols": {
    "lenName": 16,
    "lenType": 16,
    "lenVar": 40
   },
   "kernels_config": {
    "python": {
     "delete_cmd_postfix": "",
     "delete_cmd_prefix": "del ",
     "library": "var_list.py",
     "varRefreshCmd": "print(var_dic_list())"
    },
    "r": {
     "delete_cmd_postfix": ") ",
     "delete_cmd_prefix": "rm(",
     "library": "var_list.r",
     "varRefreshCmd": "cat(var_dic_list()) "
    }
   },
   "types_to_exclude": [
    "module",
    "function",
    "builtin_function_or_method",
    "instance",
    "_Feature"
   ],
   "window_display": false
  }
 },
 "nbformat": 4,
 "nbformat_minor": 2
}
