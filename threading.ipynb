{
 "cells": [
  {
   "cell_type": "markdown",
   "metadata": {},
   "source": [
    "# threading"
   ]
  },
  {
   "cell_type": "code",
   "execution_count": 1,
   "metadata": {
    "ExecuteTime": {
     "end_time": "2020-04-14T13:26:52.889244Z",
     "start_time": "2020-04-14T13:26:52.886252Z"
    }
   },
   "outputs": [],
   "source": [
    "import threading"
   ]
  },
  {
   "cell_type": "code",
   "execution_count": 2,
   "metadata": {
    "ExecuteTime": {
     "end_time": "2020-04-14T13:26:52.897223Z",
     "start_time": "2020-04-14T13:26:52.890242Z"
    }
   },
   "outputs": [
    {
     "data": {
      "text/plain": [
       "(5,\n",
       " [<_MainThread(MainThread, started 68744)>,\n",
       "  <Thread(Thread-4, started daemon 1984)>,\n",
       "  <Heartbeat(Thread-5, started daemon 80572)>,\n",
       "  <HistorySavingThread(IPythonHistorySavingThread, started 80856)>,\n",
       "  <ParentPollerWindows(Thread-3, started daemon 81684)>],\n",
       " <_MainThread(MainThread, started 68744)>)"
      ]
     },
     "execution_count": 2,
     "metadata": {},
     "output_type": "execute_result"
    }
   ],
   "source": [
    "threading.active_count(), threading.enumerate(), threading.current_thread()"
   ]
  },
  {
   "cell_type": "markdown",
   "metadata": {
    "heading_collapsed": true
   },
   "source": [
    "## join 等待"
   ]
  },
  {
   "cell_type": "code",
   "execution_count": 3,
   "metadata": {
    "ExecuteTime": {
     "end_time": "2020-04-14T13:26:52.901213Z",
     "start_time": "2020-04-14T13:26:52.898220Z"
    },
    "hidden": true
   },
   "outputs": [],
   "source": [
    "import time\n",
    "import threading"
   ]
  },
  {
   "cell_type": "code",
   "execution_count": 4,
   "metadata": {
    "ExecuteTime": {
     "end_time": "2020-04-14T13:26:52.911721Z",
     "start_time": "2020-04-14T13:26:52.902240Z"
    },
    "hidden": true
   },
   "outputs": [
    {
     "name": "stdout",
     "output_type": "stream",
     "text": [
      "T1 start\n",
      "\n",
      "T2 start\n",
      "\n",
      "T2 finish\n",
      "\n",
      "all done\n",
      "\n"
     ]
    }
   ],
   "source": [
    "# main 執行完，T1還在執行，在jupyter 就被咖掉了\n",
    "def T1_job():\n",
    "    print(\"T1 start\\n\")\n",
    "    for i in range(10):\n",
    "        time.sleep(0.1)  # T1會執行比較久\n",
    "    print(\"T1 finish\\n\")\n",
    "\n",
    "def T2_job():\n",
    "    print(\"T2 start\\n\")\n",
    "    print(\"T2 finish\\n\")\n",
    "\n",
    "thread_1 = threading.Thread(target=T1_job, name='T1')\n",
    "thread_2 = threading.Thread(target=T2_job, name='T2')\n",
    "\n",
    "thread_1.start() \n",
    "thread_2.start() \n",
    "\n",
    "print(\"all done\\n\")  "
   ]
  },
  {
   "cell_type": "code",
   "execution_count": 5,
   "metadata": {
    "ExecuteTime": {
     "end_time": "2020-04-14T13:26:53.928418Z",
     "start_time": "2020-04-14T13:26:52.912234Z"
    },
    "hidden": true
   },
   "outputs": [
    {
     "name": "stdout",
     "output_type": "stream",
     "text": [
      "T1 start\n",
      "\n",
      "T2 start\n",
      "\n",
      "T2 finish\n",
      "\n",
      "T1 finish\n",
      "\n",
      "T1 finish\n",
      "\n",
      "all done\n",
      "\n"
     ]
    }
   ],
   "source": [
    "# 加上join 等待\n",
    "def T1_job():\n",
    "    print(\"T1 start\\n\")\n",
    "    for i in range(10):\n",
    "        time.sleep(0.1)  # T1會執行比較久\n",
    "    print(\"T1 finish\\n\")\n",
    "\n",
    "def T2_job():\n",
    "    print(\"T2 start\\n\")\n",
    "    print(\"T2 finish\\n\")\n",
    "\n",
    "thread_1 = threading.Thread(target=T1_job, name='T1')\n",
    "thread_2 = threading.Thread(target=T2_job, name='T2')\n",
    "\n",
    "thread_1.start() \n",
    "thread_2.start() \n",
    "\n",
    "thread_1.join() # 等T1執行完才繼續下面的程式\n",
    "print(\"all done\\n\")"
   ]
  },
  {
   "cell_type": "markdown",
   "metadata": {
    "heading_collapsed": true
   },
   "source": [
    "## Queue 可以有return"
   ]
  },
  {
   "cell_type": "code",
   "execution_count": 6,
   "metadata": {
    "ExecuteTime": {
     "end_time": "2020-04-14T13:26:54.004475Z",
     "start_time": "2020-04-14T13:26:53.929415Z"
    },
    "hidden": true
   },
   "outputs": [],
   "source": [
    "import queue\n",
    "import threading\n",
    "import numpy as np"
   ]
  },
  {
   "cell_type": "code",
   "execution_count": 7,
   "metadata": {
    "ExecuteTime": {
     "end_time": "2020-04-14T13:26:54.009462Z",
     "start_time": "2020-04-14T13:26:54.005472Z"
    },
    "hidden": true
   },
   "outputs": [],
   "source": [
    "def job(l, q):\n",
    "    for i in range(len(l)):\n",
    "        l[i] = l[i]**2\n",
    "    q.put(l)  # return 存進這"
   ]
  },
  {
   "cell_type": "code",
   "execution_count": 8,
   "metadata": {
    "ExecuteTime": {
     "end_time": "2020-04-14T13:26:54.017444Z",
     "start_time": "2020-04-14T13:26:54.010460Z"
    },
    "hidden": true
   },
   "outputs": [
    {
     "name": "stdout",
     "output_type": "stream",
     "text": [
      "[[ 1  4  9]\n",
      " [ 9 16 25]\n",
      " [16 16 16]\n",
      " [25 25 25]]\n"
     ]
    }
   ],
   "source": [
    "# multithreading\n",
    "num_threads = 4\n",
    "\n",
    "q = queue.Queue()\n",
    "threads = []\n",
    "result = []\n",
    "data = np.array([[1, 2, 3], \n",
    "                 [3, 4, 5], \n",
    "                 [4, 4, 4], \n",
    "                 [5, 5, 5]])\n",
    "\n",
    "\n",
    "for i in range(num_threads):   \n",
    "    t = threading.Thread(target=job,args=(data[i], q))\n",
    "    t.start()  # 開始\n",
    "    threads.append(t)\n",
    "    \n",
    "# 等待全部線程執行完    \n",
    "for i in range(num_threads):    \n",
    "    t.join()  \n",
    "    \n",
    "# 取出result\n",
    "for i in range(num_threads):\n",
    "    result.append(q.get())\n",
    "\n",
    "result = np.array(result)\n",
    "print(result)"
   ]
  },
  {
   "cell_type": "markdown",
   "metadata": {
    "ExecuteTime": {
     "end_time": "2020-04-14T12:59:16.505977Z",
     "start_time": "2020-04-14T12:59:16.503953Z"
    },
    "heading_collapsed": true
   },
   "source": [
    "## GIL (Global Interpreter Lock)"
   ]
  },
  {
   "cell_type": "markdown",
   "metadata": {
    "hidden": true
   },
   "source": [
    "拜它所賜，在python開多線程不一定會比較快(可能還比較慢)，在I/O比較多的case，才會比較快"
   ]
  },
  {
   "cell_type": "code",
   "execution_count": 9,
   "metadata": {
    "ExecuteTime": {
     "end_time": "2020-04-14T13:26:54.020437Z",
     "start_time": "2020-04-14T13:26:54.017444Z"
    },
    "hidden": true
   },
   "outputs": [],
   "source": [
    "import copy\n",
    "import time\n",
    "import threading\n",
    "\n",
    "from queue import Queue"
   ]
  },
  {
   "cell_type": "code",
   "execution_count": 10,
   "metadata": {
    "ExecuteTime": {
     "end_time": "2020-04-14T13:26:54.024431Z",
     "start_time": "2020-04-14T13:26:54.021445Z"
    },
    "hidden": true
   },
   "outputs": [],
   "source": [
    "def job(l, q):\n",
    "    res = sum(l)\n",
    "    q.put(res)"
   ]
  },
  {
   "cell_type": "code",
   "execution_count": 11,
   "metadata": {
    "ExecuteTime": {
     "end_time": "2020-04-14T13:26:54.029417Z",
     "start_time": "2020-04-14T13:26:54.025428Z"
    },
    "code_folding": [],
    "hidden": true
   },
   "outputs": [],
   "source": [
    "def multithreading(l, num_threads=10):\n",
    "    q = Queue()\n",
    "    threads = []\n",
    "    for i in range(num_threads):\n",
    "        t = threading.Thread(target=job, args=(copy.copy(l), q), name='T%i' % i)     \n",
    "        t.start()\n",
    "        threads.append(t)\n",
    "\n",
    "    [t.join() for t in threads]\n",
    "    \n",
    "    total = 0\n",
    "    for _ in range(num_threads):\n",
    "        total += q.get()\n",
    "\n",
    "\n",
    "def normal(l):\n",
    "    total = sum(l)"
   ]
  },
  {
   "cell_type": "code",
   "execution_count": 12,
   "metadata": {
    "ExecuteTime": {
     "end_time": "2020-04-14T13:26:54.437333Z",
     "start_time": "2020-04-14T13:26:54.030414Z"
    },
    "code_folding": [],
    "hidden": true
   },
   "outputs": [
    {
     "name": "stdout",
     "output_type": "stream",
     "text": [
      "normal:  0.10\n",
      "10 threading: 0.24\n",
      "2 threading: 0.05\n"
     ]
    }
   ],
   "source": [
    "l = list(range(1000000))\n",
    "\n",
    "s_t = time.time()\n",
    "normal(l*4)\n",
    "print(f'normal: {time.time()-s_t: .2f}')\n",
    "\n",
    "s_t = time.time()\n",
    "multithreading(l, num_threads=10)\n",
    "print(f'10 threading: {time.time()-s_t:.2f}')\n",
    "\n",
    "s_t = time.time()\n",
    "multithreading(l, num_threads=2)\n",
    "print(f'2 threading: {time.time()-s_t:.2f}')"
   ]
  },
  {
   "cell_type": "markdown",
   "metadata": {},
   "source": [
    "## lock"
   ]
  },
  {
   "cell_type": "code",
   "execution_count": null,
   "metadata": {},
   "outputs": [],
   "source": []
  },
  {
   "cell_type": "code",
   "execution_count": null,
   "metadata": {},
   "outputs": [],
   "source": []
  },
  {
   "cell_type": "code",
   "execution_count": null,
   "metadata": {},
   "outputs": [],
   "source": []
  },
  {
   "cell_type": "code",
   "execution_count": null,
   "metadata": {},
   "outputs": [],
   "source": []
  }
 ],
 "metadata": {
  "kernelspec": {
   "display_name": "Python 3",
   "language": "python",
   "name": "python3"
  },
  "language_info": {
   "codemirror_mode": {
    "name": "ipython",
    "version": 3
   },
   "file_extension": ".py",
   "mimetype": "text/x-python",
   "name": "python",
   "nbconvert_exporter": "python",
   "pygments_lexer": "ipython3",
   "version": "3.7.6"
  },
  "toc": {
   "base_numbering": 1,
   "nav_menu": {},
   "number_sections": true,
   "sideBar": true,
   "skip_h1_title": false,
   "title_cell": "Table of Contents",
   "title_sidebar": "Contents",
   "toc_cell": false,
   "toc_position": {},
   "toc_section_display": true,
   "toc_window_display": false
  },
  "varInspector": {
   "cols": {
    "lenName": 16,
    "lenType": 16,
    "lenVar": 40
   },
   "kernels_config": {
    "python": {
     "delete_cmd_postfix": "",
     "delete_cmd_prefix": "del ",
     "library": "var_list.py",
     "varRefreshCmd": "print(var_dic_list())"
    },
    "r": {
     "delete_cmd_postfix": ") ",
     "delete_cmd_prefix": "rm(",
     "library": "var_list.r",
     "varRefreshCmd": "cat(var_dic_list()) "
    }
   },
   "types_to_exclude": [
    "module",
    "function",
    "builtin_function_or_method",
    "instance",
    "_Feature"
   ],
   "window_display": false
  }
 },
 "nbformat": 4,
 "nbformat_minor": 4
}
