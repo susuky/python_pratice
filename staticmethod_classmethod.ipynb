{
 "cells": [
  {
   "cell_type": "code",
   "execution_count": 1,
   "metadata": {
    "ExecuteTime": {
     "end_time": "2020-06-03T08:13:45.347636Z",
     "start_time": "2020-06-03T08:13:45.341636Z"
    }
   },
   "outputs": [],
   "source": [
    "class Some1:\n",
    "    def __init__(self, x=10):\n",
    "        self.x = x\n",
    "        self.y = -5\n",
    "    \n",
    "    # instance method\n",
    "    def service(self, y):\n",
    "        return ('do service...' + str(y))\n",
    "\n",
    "\n",
    "class Some2:\n",
    "    def __init__(self, x=10):\n",
    "        self.x = x\n",
    "        self.y = -5\n",
    "\n",
    "    def service(y):  # without self\n",
    "        return ('do service...' + str(y))\n",
    "    \n",
    "\n",
    "class Some3:\n",
    "    '''\n",
    "    A static method can be called either \n",
    "    on the class (such as C.f()) or \n",
    "    on an instance (such as C().f()).\n",
    "    '''\n",
    "\n",
    "    def __init__(self, x=10):\n",
    "        self.x = x\n",
    "        self.y = -5\n",
    "    \n",
    "    # just like creating a local function, serving for this class\n",
    "    @staticmethod  \n",
    "    def service(y):\n",
    "        return ('do service...' + str(y))\n",
    "    \n",
    "class Some4:\n",
    "    '''\n",
    "    A class method can be called either \n",
    "    on the class (such as C.f()) or \n",
    "    on an instance (such as C().f()).\n",
    "    '''\n",
    "    w = 20\n",
    "    def __init__(self, x=10):\n",
    "        self.x = x\n",
    "        self.y = -5\n",
    "    \n",
    "    @staticmethod\n",
    "    def do_nothing():\n",
    "        return 'nothing'\n",
    "    \n",
    "    # would pass this class' parameter to cls\n",
    "    @classmethod\n",
    "    def service(cls, y):\n",
    "        print(cls.do_nothing())\n",
    "        print(Some4.do_nothing())\n",
    "        return ('do service...' + str(cls.w) + str(10))"
   ]
  },
  {
   "cell_type": "code",
   "execution_count": 2,
   "metadata": {
    "ExecuteTime": {
     "end_time": "2020-06-03T08:13:45.358659Z",
     "start_time": "2020-06-03T08:13:45.348635Z"
    },
    "hide_input": false
   },
   "outputs": [
    {
     "name": "stdout",
     "output_type": "stream",
     "text": [
      "<bound method Some1.service of <__main__.Some1 object at 0x0000021599503E08>>\n",
      "<function Some1.service at 0x00000215994F9DC8>\n",
      "<bound method Some1.service of <__main__.Some1 object at 0x00000215995039C8>>\n",
      "\n",
      "<bound method Some2.service of <__main__.Some2 object at 0x00000215995039C8>>\n",
      "<function Some2.service at 0x00000215994F9AF8>\n",
      "<bound method Some2.service of <__main__.Some2 object at 0x0000021599503908>>\n",
      "\n",
      "<function Some3.service at 0x00000215994F9EE8>\n",
      "<function Some3.service at 0x00000215994F9EE8>\n",
      "<function Some3.service at 0x00000215994F9EE8>\n",
      "\n",
      "<bound method Some4.service of <class '__main__.Some4'>>\n",
      "<bound method Some4.service of <class '__main__.Some4'>>\n",
      "<bound method Some4.service of <class '__main__.Some4'>>\n"
     ]
    }
   ],
   "source": [
    "s1 = Some1(10)\n",
    "print(s1.service)        # bound method\n",
    "print(Some1.service)     # function, would probably raise error\n",
    "print(Some1().service)   # bound method\n",
    "print()\n",
    "\n",
    "s2 = Some2(10)\n",
    "print(s2.service)        # bound method, would raise error\n",
    "print(Some2.service)     # function\n",
    "print(Some2().service)   # bound method, would raise error\n",
    "print()\n",
    "\n",
    "s3 = Some3(10)\n",
    "print(s3.service)        # function \n",
    "print(Some3.service)     # function \n",
    "print(Some3().service)   # function\n",
    "print()\n",
    "\n",
    "s4 = Some4(10)\n",
    "print(s4.service)        # bound method\n",
    "print(Some4.service)     # bound method\n",
    "print(Some4().service)   # bound method"
   ]
  },
  {
   "cell_type": "markdown",
   "metadata": {},
   "source": [
    "- if it is function, you have to pass all of the parameters"
   ]
  },
  {
   "cell_type": "markdown",
   "metadata": {},
   "source": [
    "# some example"
   ]
  },
  {
   "cell_type": "markdown",
   "metadata": {},
   "source": [
    "## standard"
   ]
  },
  {
   "cell_type": "code",
   "execution_count": 3,
   "metadata": {
    "ExecuteTime": {
     "end_time": "2020-06-03T08:13:45.366663Z",
     "start_time": "2020-06-03T08:13:45.359636Z"
    }
   },
   "outputs": [
    {
     "name": "stdout",
     "output_type": "stream",
     "text": [
      "TypeError: service() missing 1 required positional argument: 'y'\n"
     ]
    },
    {
     "data": {
      "text/plain": [
       "'do service...10'"
      ]
     },
     "execution_count": 3,
     "metadata": {},
     "output_type": "execute_result"
    }
   ],
   "source": [
    "# 1-1\n",
    "s1 = Some1()\n",
    "s1.service(10)     \n",
    "# 1-2\n",
    "try:\n",
    "    Some1.service(10)     # would raise error\n",
    "except:\n",
    "    print('TypeError: service() missing 1 required positional argument: \\'y\\'')\n",
    "Some1.service('aaa', 10)   # 'aaa'  do nothing\n",
    "Some1.service(s1, 10)\n",
    "# 1-3\n",
    "Some1().service(10)   "
   ]
  },
  {
   "cell_type": "markdown",
   "metadata": {},
   "source": [
    "## without self and staticmethod"
   ]
  },
  {
   "cell_type": "code",
   "execution_count": 4,
   "metadata": {
    "ExecuteTime": {
     "end_time": "2020-06-03T08:13:45.371638Z",
     "start_time": "2020-06-03T08:13:45.367637Z"
    }
   },
   "outputs": [
    {
     "name": "stdout",
     "output_type": "stream",
     "text": [
      "TypeError: service() takes 1 positional argument but 2 were given\n",
      "TypeError: service() takes 1 positional argument but 2 were given\n"
     ]
    }
   ],
   "source": [
    "# 2-1\n",
    "try: \n",
    "    s2 = Some2()\n",
    "    s2.service(10)  # would raise error\n",
    "except:\n",
    "    print('TypeError: service() takes 1 positional argument but 2 were given')\n",
    "# 2-2\n",
    "Some2.service(10)\n",
    "# 2-3\n",
    "try:\n",
    "    Some2().service(10)  # would raise error\n",
    "except:\n",
    "    print('TypeError: service() takes 1 positional argument but 2 were given')"
   ]
  },
  {
   "cell_type": "markdown",
   "metadata": {},
   "source": [
    "## staticmethod"
   ]
  },
  {
   "cell_type": "code",
   "execution_count": 5,
   "metadata": {
    "ExecuteTime": {
     "end_time": "2020-06-03T08:13:45.375639Z",
     "start_time": "2020-06-03T08:13:45.372633Z"
    }
   },
   "outputs": [
    {
     "data": {
      "text/plain": [
       "'do service...10'"
      ]
     },
     "execution_count": 5,
     "metadata": {},
     "output_type": "execute_result"
    }
   ],
   "source": [
    "s3 = Some3()\n",
    "s3.service(10)\n",
    "Some3.service(10)\n",
    "Some3().service(10)"
   ]
  },
  {
   "cell_type": "markdown",
   "metadata": {},
   "source": [
    "## classmethod"
   ]
  },
  {
   "cell_type": "code",
   "execution_count": 6,
   "metadata": {
    "ExecuteTime": {
     "end_time": "2020-06-03T08:13:45.381638Z",
     "start_time": "2020-06-03T08:13:45.376637Z"
    }
   },
   "outputs": [
    {
     "name": "stdout",
     "output_type": "stream",
     "text": [
      "nothing\n",
      "nothing\n",
      "nothing\n",
      "nothing\n",
      "nothing\n",
      "nothing\n",
      "nothing\n",
      "nothing\n"
     ]
    },
    {
     "data": {
      "text/plain": [
       "'do service...2010'"
      ]
     },
     "execution_count": 6,
     "metadata": {},
     "output_type": "execute_result"
    }
   ],
   "source": [
    "s4 = Some4()\n",
    "s4.service(10)\n",
    "Some4.service(10)\n",
    "Some4().service(10)\n",
    "Some4.service(10)"
   ]
  }
 ],
 "metadata": {
  "kernelspec": {
   "display_name": "Python 3",
   "language": "python",
   "name": "python3"
  },
  "language_info": {
   "codemirror_mode": {
    "name": "ipython",
    "version": 3
   },
   "file_extension": ".py",
   "mimetype": "text/x-python",
   "name": "python",
   "nbconvert_exporter": "python",
   "pygments_lexer": "ipython3",
   "version": "3.7.6"
  },
  "toc": {
   "base_numbering": 1,
   "nav_menu": {},
   "number_sections": true,
   "sideBar": true,
   "skip_h1_title": false,
   "title_cell": "Table of Contents",
   "title_sidebar": "Contents",
   "toc_cell": false,
   "toc_position": {},
   "toc_section_display": true,
   "toc_window_display": false
  },
  "varInspector": {
   "cols": {
    "lenName": 16,
    "lenType": 16,
    "lenVar": 40
   },
   "kernels_config": {
    "python": {
     "delete_cmd_postfix": "",
     "delete_cmd_prefix": "del ",
     "library": "var_list.py",
     "varRefreshCmd": "print(var_dic_list())"
    },
    "r": {
     "delete_cmd_postfix": ") ",
     "delete_cmd_prefix": "rm(",
     "library": "var_list.r",
     "varRefreshCmd": "cat(var_dic_list()) "
    }
   },
   "types_to_exclude": [
    "module",
    "function",
    "builtin_function_or_method",
    "instance",
    "_Feature"
   ],
   "window_display": false
  }
 },
 "nbformat": 4,
 "nbformat_minor": 4
}
