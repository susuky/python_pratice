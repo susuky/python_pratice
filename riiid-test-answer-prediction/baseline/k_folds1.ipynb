{
 "cells": [
  {
   "cell_type": "code",
   "execution_count": 1,
   "metadata": {
    "ExecuteTime": {
     "end_time": "2021-01-07T07:13:08.264104Z",
     "start_time": "2021-01-07T07:13:07.397570Z"
    }
   },
   "outputs": [
    {
     "data": {
      "text/html": [
       "<style type='text/css'>\n",
       ".datatable table.frame { margin-bottom: 0; }\n",
       ".datatable table.frame thead { border-bottom: none; }\n",
       ".datatable table.frame tr.coltypes td {  color: #FFFFFF;  line-height: 6px;  padding: 0 0.5em;}\n",
       ".datatable .bool    { background: #DDDD99; }\n",
       ".datatable .object  { background: #565656; }\n",
       ".datatable .int     { background: #5D9E5D; }\n",
       ".datatable .float   { background: #4040CC; }\n",
       ".datatable .str     { background: #CC4040; }\n",
       ".datatable .row_index {  background: var(--jp-border-color3);  border-right: 1px solid var(--jp-border-color0);  color: var(--jp-ui-font-color3);  font-size: 9px;}\n",
       ".datatable .frame tr.coltypes .row_index {  background: var(--jp-border-color0);}\n",
       ".datatable th:nth-child(2) { padding-left: 12px; }\n",
       ".datatable .hellipsis {  color: var(--jp-cell-editor-border-color);}\n",
       ".datatable .vellipsis {  background: var(--jp-layout-color0);  color: var(--jp-cell-editor-border-color);}\n",
       ".datatable .na {  color: var(--jp-cell-editor-border-color);  font-size: 80%;}\n",
       ".datatable .footer { font-size: 9px; }\n",
       ".datatable .frame_dimensions {  background: var(--jp-border-color3);  border-top: 1px solid var(--jp-border-color0);  color: var(--jp-ui-font-color3);  display: inline-block;  opacity: 0.6;  padding: 1px 10px 1px 5px;}\n",
       "</style>\n"
      ],
      "text/plain": [
       "<IPython.core.display.HTML object>"
      ]
     },
     "metadata": {},
     "output_type": "display_data"
    }
   ],
   "source": [
    "import datatable as dt\n",
    "import gc\n",
    "import numpy as np\n",
    "import pandas as pd\n",
    "import matplotlib.pyplot as plt\n",
    "import pickle\n",
    "import seaborn as sns\n",
    "\n",
    "import lightgbm as lgb\n",
    "from fastprogress import progress_bar\n",
    "from collections import defaultdict\n",
    "from sklearn.model_selection import GroupKFold\n",
    "\n",
    "#import riiideducation"
   ]
  },
  {
   "cell_type": "code",
   "execution_count": 2,
   "metadata": {
    "ExecuteTime": {
     "end_time": "2021-01-07T07:13:08.268074Z",
     "start_time": "2021-01-07T07:13:08.265083Z"
    }
   },
   "outputs": [],
   "source": [
    "data_path = '../input/riiid-test-answer-prediction/train.csv'\n",
    "questions_path = '../input/riiid-test-answer-prediction/questions.csv'\n",
    "data_types_dict = {\n",
    "    'user_id': 'int32',\n",
    "    'content_id': 'int16',\n",
    "    'answered_correctly': 'int8',\n",
    "    'prior_question_elapsed_time': 'float32',\n",
    "    'prior_question_had_explanation': 'bool'\n",
    "}\n",
    "target = 'answered_correctly'"
   ]
  },
  {
   "cell_type": "code",
   "execution_count": 3,
   "metadata": {
    "ExecuteTime": {
     "end_time": "2021-01-07T07:13:15.276518Z",
     "start_time": "2021-01-07T07:13:08.269040Z"
    }
   },
   "outputs": [],
   "source": [
    "train_df = dt.fread(data_path, columns=set(data_types_dict.keys())).to_pandas()\n",
    "questions_df = pd.read_csv(\n",
    "    questions_path,\n",
    "    usecols=[0, 3],\n",
    "    dtype={'question_id': 'int16', 'part': 'int8'}\n",
    ")"
   ]
  },
  {
   "cell_type": "code",
   "execution_count": 4,
   "metadata": {
    "ExecuteTime": {
     "end_time": "2021-01-07T07:14:02.510586Z",
     "start_time": "2021-01-07T07:13:15.277014Z"
    }
   },
   "outputs": [
    {
     "data": {
      "text/html": [
       "<div>\n",
       "<style scoped>\n",
       "    .dataframe tbody tr th:only-of-type {\n",
       "        vertical-align: middle;\n",
       "    }\n",
       "\n",
       "    .dataframe tbody tr th {\n",
       "        vertical-align: top;\n",
       "    }\n",
       "\n",
       "    .dataframe thead th {\n",
       "        text-align: right;\n",
       "    }\n",
       "</style>\n",
       "<table border=\"1\" class=\"dataframe\">\n",
       "  <thead>\n",
       "    <tr style=\"text-align: right;\">\n",
       "      <th></th>\n",
       "      <th>user_id</th>\n",
       "      <th>content_id</th>\n",
       "      <th>answered_correctly</th>\n",
       "      <th>prior_question_elapsed_time</th>\n",
       "      <th>prior_question_had_explanation</th>\n",
       "      <th>user_correctness</th>\n",
       "      <th>part</th>\n",
       "      <th>content_count</th>\n",
       "    </tr>\n",
       "  </thead>\n",
       "  <tbody>\n",
       "    <tr>\n",
       "      <th>0</th>\n",
       "      <td>115</td>\n",
       "      <td>0.784906</td>\n",
       "      <td>1</td>\n",
       "      <td>21000.0</td>\n",
       "      <td>False</td>\n",
       "      <td>0.812500</td>\n",
       "      <td>1</td>\n",
       "      <td>21307</td>\n",
       "    </tr>\n",
       "    <tr>\n",
       "      <th>1</th>\n",
       "      <td>115</td>\n",
       "      <td>0.730689</td>\n",
       "      <td>0</td>\n",
       "      <td>20000.0</td>\n",
       "      <td>False</td>\n",
       "      <td>0.823529</td>\n",
       "      <td>1</td>\n",
       "      <td>31057</td>\n",
       "    </tr>\n",
       "    <tr>\n",
       "      <th>2</th>\n",
       "      <td>115</td>\n",
       "      <td>0.766426</td>\n",
       "      <td>1</td>\n",
       "      <td>18000.0</td>\n",
       "      <td>False</td>\n",
       "      <td>0.777778</td>\n",
       "      <td>1</td>\n",
       "      <td>22708</td>\n",
       "    </tr>\n",
       "    <tr>\n",
       "      <th>3</th>\n",
       "      <td>115</td>\n",
       "      <td>0.727708</td>\n",
       "      <td>1</td>\n",
       "      <td>17000.0</td>\n",
       "      <td>False</td>\n",
       "      <td>0.789474</td>\n",
       "      <td>1</td>\n",
       "      <td>36314</td>\n",
       "    </tr>\n",
       "    <tr>\n",
       "      <th>4</th>\n",
       "      <td>115</td>\n",
       "      <td>0.613215</td>\n",
       "      <td>0</td>\n",
       "      <td>29000.0</td>\n",
       "      <td>False</td>\n",
       "      <td>0.800000</td>\n",
       "      <td>1</td>\n",
       "      <td>31736</td>\n",
       "    </tr>\n",
       "    <tr>\n",
       "      <th>...</th>\n",
       "      <td>...</td>\n",
       "      <td>...</td>\n",
       "      <td>...</td>\n",
       "      <td>...</td>\n",
       "      <td>...</td>\n",
       "      <td>...</td>\n",
       "      <td>...</td>\n",
       "      <td>...</td>\n",
       "    </tr>\n",
       "    <tr>\n",
       "      <th>10746450</th>\n",
       "      <td>2147482888</td>\n",
       "      <td>0.741063</td>\n",
       "      <td>1</td>\n",
       "      <td>18000.0</td>\n",
       "      <td>True</td>\n",
       "      <td>0.500000</td>\n",
       "      <td>5</td>\n",
       "      <td>4364</td>\n",
       "    </tr>\n",
       "    <tr>\n",
       "      <th>10746451</th>\n",
       "      <td>2147482888</td>\n",
       "      <td>0.527789</td>\n",
       "      <td>1</td>\n",
       "      <td>14000.0</td>\n",
       "      <td>True</td>\n",
       "      <td>0.521739</td>\n",
       "      <td>5</td>\n",
       "      <td>10220</td>\n",
       "    </tr>\n",
       "    <tr>\n",
       "      <th>10746452</th>\n",
       "      <td>2147482888</td>\n",
       "      <td>0.616202</td>\n",
       "      <td>1</td>\n",
       "      <td>14000.0</td>\n",
       "      <td>True</td>\n",
       "      <td>0.541667</td>\n",
       "      <td>5</td>\n",
       "      <td>31415</td>\n",
       "    </tr>\n",
       "    <tr>\n",
       "      <th>10746453</th>\n",
       "      <td>2147482888</td>\n",
       "      <td>0.661683</td>\n",
       "      <td>0</td>\n",
       "      <td>22000.0</td>\n",
       "      <td>True</td>\n",
       "      <td>0.560000</td>\n",
       "      <td>5</td>\n",
       "      <td>5752</td>\n",
       "    </tr>\n",
       "    <tr>\n",
       "      <th>10746454</th>\n",
       "      <td>2147482888</td>\n",
       "      <td>0.657453</td>\n",
       "      <td>1</td>\n",
       "      <td>29000.0</td>\n",
       "      <td>True</td>\n",
       "      <td>0.538462</td>\n",
       "      <td>5</td>\n",
       "      <td>6259</td>\n",
       "    </tr>\n",
       "  </tbody>\n",
       "</table>\n",
       "<p>10746455 rows × 8 columns</p>\n",
       "</div>"
      ],
      "text/plain": [
       "             user_id  content_id  answered_correctly  \\\n",
       "0                115    0.784906                   1   \n",
       "1                115    0.730689                   0   \n",
       "2                115    0.766426                   1   \n",
       "3                115    0.727708                   1   \n",
       "4                115    0.613215                   0   \n",
       "...              ...         ...                 ...   \n",
       "10746450  2147482888    0.741063                   1   \n",
       "10746451  2147482888    0.527789                   1   \n",
       "10746452  2147482888    0.616202                   1   \n",
       "10746453  2147482888    0.661683                   0   \n",
       "10746454  2147482888    0.657453                   1   \n",
       "\n",
       "          prior_question_elapsed_time  prior_question_had_explanation  \\\n",
       "0                             21000.0                           False   \n",
       "1                             20000.0                           False   \n",
       "2                             18000.0                           False   \n",
       "3                             17000.0                           False   \n",
       "4                             29000.0                           False   \n",
       "...                               ...                             ...   \n",
       "10746450                      18000.0                            True   \n",
       "10746451                      14000.0                            True   \n",
       "10746452                      14000.0                            True   \n",
       "10746453                      22000.0                            True   \n",
       "10746454                      29000.0                            True   \n",
       "\n",
       "          user_correctness  part  content_count  \n",
       "0                 0.812500     1          21307  \n",
       "1                 0.823529     1          31057  \n",
       "2                 0.777778     1          22708  \n",
       "3                 0.789474     1          36314  \n",
       "4                 0.800000     1          31736  \n",
       "...                    ...   ...            ...  \n",
       "10746450          0.500000     5           4364  \n",
       "10746451          0.521739     5          10220  \n",
       "10746452          0.541667     5          31415  \n",
       "10746453          0.560000     5           5752  \n",
       "10746454          0.538462     5           6259  \n",
       "\n",
       "[10746455 rows x 8 columns]"
      ]
     },
     "execution_count": 4,
     "metadata": {},
     "output_type": "execute_result"
    }
   ],
   "source": [
    "# preprocess\n",
    "train_df = train_df[train_df[target] != -1].reset_index(drop=True)\n",
    "train_df['prior_question_had_explanation'].fillna(False, inplace=True)\n",
    "train_df = train_df.astype(data_types_dict)\n",
    "\n",
    "train_df['lag'] = train_df.groupby('user_id')[target].shift()\n",
    "cum = train_df.groupby('user_id')['lag'].agg(['cumsum', 'cumcount'])\n",
    "train_df['user_correctness'] = cum['cumsum'] / cum['cumcount']\n",
    "train_df.drop(columns=['lag'], inplace=True)\n",
    "\n",
    "user_agg = train_df.groupby('user_id')[target].agg(['sum', 'count'])\n",
    "content_agg = train_df.groupby('content_id')[target].agg(['sum', 'count'])\n",
    "\n",
    "train_df = train_df.groupby('user_id').tail(30).reset_index(drop=True)\n",
    "\n",
    "train_df = pd.merge(train_df, \n",
    "                    questions_df,\n",
    "                    left_on='content_id', \n",
    "                    right_on='question_id', \n",
    "                    how='left')\n",
    "train_df.drop(columns=['question_id'], inplace=True)\n",
    "\n",
    "train_df['content_count'] = train_df['content_id'].map(content_agg['count']).astype('int32')\n",
    "train_df['content_id'] = train_df['content_id'].map(content_agg['sum'] / content_agg['count'])\n",
    "\n",
    "train_df"
   ]
  },
  {
   "cell_type": "code",
   "execution_count": 5,
   "metadata": {
    "ExecuteTime": {
     "end_time": "2021-01-07T07:14:03.818037Z",
     "start_time": "2021-01-07T07:14:02.511576Z"
    }
   },
   "outputs": [
    {
     "name": "stdout",
     "output_type": "stream",
     "text": [
      "0 (array([       0,        1,        2, ..., 10746452, 10746453, 10746454]), array([     109,      110,      111, ..., 10746335, 10746336, 10746337]))\n",
      "1 (array([       0,        1,        2, ..., 10746452, 10746453, 10746454]), array([     156,      157,      158, ..., 10746305, 10746306, 10746307]))\n",
      "2 (array([       0,        1,        2, ..., 10746452, 10746453, 10746454]), array([     139,      140,      141, ..., 10746365, 10746366, 10746367]))\n",
      "3 (array([       0,        1,        2, ..., 10746452, 10746453, 10746454]), array([      30,       31,       32, ..., 10746041, 10746042, 10746043]))\n",
      "4 (array([      30,       31,       32, ..., 10746365, 10746366, 10746367]), array([       0,        1,        2, ..., 10746452, 10746453, 10746454]))\n"
     ]
    }
   ],
   "source": [
    "gkf = GroupKFold(5)\n",
    "for n, fold_idx in enumerate(gkf.split(train_df, groups=train_df.user_id)):\n",
    "    print(n, fold_idx)"
   ]
  },
  {
   "cell_type": "code",
   "execution_count": 6,
   "metadata": {
    "ExecuteTime": {
     "end_time": "2021-01-07T07:14:05.870978Z",
     "start_time": "2021-01-07T07:14:03.819030Z"
    }
   },
   "outputs": [],
   "source": [
    "features = [\n",
    "    'content_id', \n",
    "    'prior_question_elapsed_time',\n",
    "    'prior_question_had_explanation', \n",
    "    'user_correctness', \n",
    "    'part',\n",
    "    'content_count'\n",
    "]\n",
    "\n",
    "trn_idx, val_idx = fold_idx\n",
    "\n",
    "trn_data = (train_df.loc[trn_idx][features], train_df.loc[trn_idx][target])\n",
    "val_data = (train_df.loc[val_idx][features], train_df.loc[val_idx][target])"
   ]
  },
  {
   "cell_type": "markdown",
   "metadata": {},
   "source": [
    "# 1."
   ]
  },
  {
   "cell_type": "code",
   "execution_count": null,
   "metadata": {
    "ExecuteTime": {
     "end_time": "2021-01-07T08:30:56.270314Z",
     "start_time": "2021-01-07T08:26:18.920868Z"
    },
    "code_folding": [
     0
    ]
   },
   "outputs": [],
   "source": [
    "# 1.\n",
    "params = {\n",
    "    'objective': 'binary',\n",
    "    'num_rounds': 1000,\n",
    "    'seed': 42,\n",
    "    'metric': 'auc',\n",
    "    'learning_rate': 0.1,\n",
    "    'force_row_wise': True,\n",
    "    \n",
    "    'max_depth': 15,\n",
    "    'num_leaves': 800,\n",
    "}\n",
    "\n",
    "search_cv = []\n",
    "search_param = {\n",
    "    'max_depth': [-1],\n",
    "    'num_leaves': [5, 100, 200, 400, 1000],\n",
    "}\n",
    "best = 0.\n",
    "\n",
    "p0, p1 = search_param.items()\n",
    "\n",
    "for i in progress_bar(p0[1]):\n",
    "    for j in progress_bar(p1[1]):\n",
    "        params[p0[0]] = i\n",
    "        params[p1[0]] = j\n",
    "        \n",
    "        model = lgb.LGBMClassifier(**params)\n",
    "        model.fit(\n",
    "            *trn_data,\n",
    "            eval_set=[trn_data, val_data], \n",
    "            verbose=50,\n",
    "            early_stopping_rounds=50,\n",
    "        )\n",
    "        score = model.evals_result_['valid_1']['auc'][0]\n",
    "        search_cv.append([{p0[0]: i}, {p1[0]: j}, score])\n",
    "        if score > best:\n",
    "            best = score\n",
    "            best_param = [{p0[0]: i}, {p1[0]: j}, score]"
   ]
  },
  {
   "cell_type": "markdown",
   "metadata": {
    "heading_collapsed": true
   },
   "source": [
    "# 2."
   ]
  },
  {
   "cell_type": "code",
   "execution_count": 14,
   "metadata": {
    "ExecuteTime": {
     "end_time": "2021-01-07T09:01:20.065901Z",
     "start_time": "2021-01-07T08:39:39.121287Z"
    },
    "hidden": true,
    "scrolled": true
   },
   "outputs": [
    {
     "data": {
      "text/html": [
       "\n",
       "    <div>\n",
       "        <style>\n",
       "            /* Turns off some styling */\n",
       "            progress {\n",
       "                /* gets rid of default border in Firefox and Opera. */\n",
       "                border: none;\n",
       "                /* Needs to be in here for Safari polyfill so background images work as expected. */\n",
       "                background-size: auto;\n",
       "            }\n",
       "            .progress-bar-interrupted, .progress-bar-interrupted::-webkit-progress-bar {\n",
       "                background: #F44336;\n",
       "            }\n",
       "        </style>\n",
       "      <progress value='5' class='' max='5' style='width:300px; height:20px; vertical-align: middle;'></progress>\n",
       "      100.00% [5/5 21:40<00:00]\n",
       "    </div>\n",
       "    "
      ],
      "text/plain": [
       "<IPython.core.display.HTML object>"
      ]
     },
     "metadata": {},
     "output_type": "display_data"
    },
    {
     "data": {
      "text/html": [
       "\n",
       "    <div>\n",
       "        <style>\n",
       "            /* Turns off some styling */\n",
       "            progress {\n",
       "                /* gets rid of default border in Firefox and Opera. */\n",
       "                border: none;\n",
       "                /* Needs to be in here for Safari polyfill so background images work as expected. */\n",
       "                background-size: auto;\n",
       "            }\n",
       "            .progress-bar-interrupted, .progress-bar-interrupted::-webkit-progress-bar {\n",
       "                background: #F44336;\n",
       "            }\n",
       "        </style>\n",
       "      <progress value='2' class='' max='2' style='width:300px; height:20px; vertical-align: middle;'></progress>\n",
       "      100.00% [2/2 03:39<00:00]\n",
       "    </div>\n",
       "    "
      ],
      "text/plain": [
       "<IPython.core.display.HTML object>"
      ]
     },
     "metadata": {},
     "output_type": "display_data"
    },
    {
     "name": "stdout",
     "output_type": "stream",
     "text": [
      "Training until validation scores don't improve for 50 rounds\n",
      "[50]\ttraining's auc: 0.753014\tvalid_1's auc: 0.749961\n",
      "[100]\ttraining's auc: 0.755935\tvalid_1's auc: 0.750062\n",
      "Early stopping, best iteration is:\n",
      "[69]\ttraining's auc: 0.754361\tvalid_1's auc: 0.750092\n",
      "Training until validation scores don't improve for 50 rounds\n",
      "[50]\ttraining's auc: 0.753014\tvalid_1's auc: 0.749961\n",
      "[100]\ttraining's auc: 0.755935\tvalid_1's auc: 0.750062\n",
      "Early stopping, best iteration is:\n",
      "[69]\ttraining's auc: 0.754361\tvalid_1's auc: 0.750092\n"
     ]
    },
    {
     "data": {
      "text/html": [
       "\n",
       "    <div>\n",
       "        <style>\n",
       "            /* Turns off some styling */\n",
       "            progress {\n",
       "                /* gets rid of default border in Firefox and Opera. */\n",
       "                border: none;\n",
       "                /* Needs to be in here for Safari polyfill so background images work as expected. */\n",
       "                background-size: auto;\n",
       "            }\n",
       "            .progress-bar-interrupted, .progress-bar-interrupted::-webkit-progress-bar {\n",
       "                background: #F44336;\n",
       "            }\n",
       "        </style>\n",
       "      <progress value='2' class='' max='2' style='width:300px; height:20px; vertical-align: middle;'></progress>\n",
       "      100.00% [2/2 04:10<00:00]\n",
       "    </div>\n",
       "    "
      ],
      "text/plain": [
       "<IPython.core.display.HTML object>"
      ]
     },
     "metadata": {},
     "output_type": "display_data"
    },
    {
     "name": "stdout",
     "output_type": "stream",
     "text": [
      "Training until validation scores don't improve for 50 rounds\n",
      "[50]\ttraining's auc: 0.753014\tvalid_1's auc: 0.750085\n",
      "[100]\ttraining's auc: 0.755769\tvalid_1's auc: 0.750246\n",
      "Early stopping, best iteration is:\n",
      "[92]\ttraining's auc: 0.755472\tvalid_1's auc: 0.750258\n",
      "Training until validation scores don't improve for 50 rounds\n",
      "[50]\ttraining's auc: 0.753014\tvalid_1's auc: 0.750085\n",
      "[100]\ttraining's auc: 0.755769\tvalid_1's auc: 0.750246\n",
      "Early stopping, best iteration is:\n",
      "[92]\ttraining's auc: 0.755472\tvalid_1's auc: 0.750258\n"
     ]
    },
    {
     "data": {
      "text/html": [
       "\n",
       "    <div>\n",
       "        <style>\n",
       "            /* Turns off some styling */\n",
       "            progress {\n",
       "                /* gets rid of default border in Firefox and Opera. */\n",
       "                border: none;\n",
       "                /* Needs to be in here for Safari polyfill so background images work as expected. */\n",
       "                background-size: auto;\n",
       "            }\n",
       "            .progress-bar-interrupted, .progress-bar-interrupted::-webkit-progress-bar {\n",
       "                background: #F44336;\n",
       "            }\n",
       "        </style>\n",
       "      <progress value='2' class='' max='2' style='width:300px; height:20px; vertical-align: middle;'></progress>\n",
       "      100.00% [2/2 04:19<00:00]\n",
       "    </div>\n",
       "    "
      ],
      "text/plain": [
       "<IPython.core.display.HTML object>"
      ]
     },
     "metadata": {},
     "output_type": "display_data"
    },
    {
     "name": "stdout",
     "output_type": "stream",
     "text": [
      "Training until validation scores don't improve for 50 rounds\n",
      "[50]\ttraining's auc: 0.752884\tvalid_1's auc: 0.750062\n",
      "[100]\ttraining's auc: 0.755495\tvalid_1's auc: 0.75028\n",
      "Early stopping, best iteration is:\n",
      "[95]\ttraining's auc: 0.755374\tvalid_1's auc: 0.75029\n",
      "Training until validation scores don't improve for 50 rounds\n",
      "[50]\ttraining's auc: 0.752884\tvalid_1's auc: 0.750062\n",
      "[100]\ttraining's auc: 0.755495\tvalid_1's auc: 0.75028\n",
      "Early stopping, best iteration is:\n",
      "[95]\ttraining's auc: 0.755374\tvalid_1's auc: 0.75029\n"
     ]
    },
    {
     "data": {
      "text/html": [
       "\n",
       "    <div>\n",
       "        <style>\n",
       "            /* Turns off some styling */\n",
       "            progress {\n",
       "                /* gets rid of default border in Firefox and Opera. */\n",
       "                border: none;\n",
       "                /* Needs to be in here for Safari polyfill so background images work as expected. */\n",
       "                background-size: auto;\n",
       "            }\n",
       "            .progress-bar-interrupted, .progress-bar-interrupted::-webkit-progress-bar {\n",
       "                background: #F44336;\n",
       "            }\n",
       "        </style>\n",
       "      <progress value='2' class='' max='2' style='width:300px; height:20px; vertical-align: middle;'></progress>\n",
       "      100.00% [2/2 04:30<00:00]\n",
       "    </div>\n",
       "    "
      ],
      "text/plain": [
       "<IPython.core.display.HTML object>"
      ]
     },
     "metadata": {},
     "output_type": "display_data"
    },
    {
     "name": "stdout",
     "output_type": "stream",
     "text": [
      "Training until validation scores don't improve for 50 rounds\n",
      "[50]\ttraining's auc: 0.752792\tvalid_1's auc: 0.75006\n",
      "[100]\ttraining's auc: 0.75536\tvalid_1's auc: 0.750222\n",
      "Early stopping, best iteration is:\n",
      "[92]\ttraining's auc: 0.755024\tvalid_1's auc: 0.750236\n",
      "Training until validation scores don't improve for 50 rounds\n",
      "[50]\ttraining's auc: 0.752792\tvalid_1's auc: 0.75006\n",
      "[100]\ttraining's auc: 0.75536\tvalid_1's auc: 0.750222\n",
      "Early stopping, best iteration is:\n",
      "[92]\ttraining's auc: 0.755024\tvalid_1's auc: 0.750236\n"
     ]
    },
    {
     "data": {
      "text/html": [
       "\n",
       "    <div>\n",
       "        <style>\n",
       "            /* Turns off some styling */\n",
       "            progress {\n",
       "                /* gets rid of default border in Firefox and Opera. */\n",
       "                border: none;\n",
       "                /* Needs to be in here for Safari polyfill so background images work as expected. */\n",
       "                background-size: auto;\n",
       "            }\n",
       "            .progress-bar-interrupted, .progress-bar-interrupted::-webkit-progress-bar {\n",
       "                background: #F44336;\n",
       "            }\n",
       "        </style>\n",
       "      <progress value='2' class='' max='2' style='width:300px; height:20px; vertical-align: middle;'></progress>\n",
       "      100.00% [2/2 05:00<00:00]\n",
       "    </div>\n",
       "    "
      ],
      "text/plain": [
       "<IPython.core.display.HTML object>"
      ]
     },
     "metadata": {},
     "output_type": "display_data"
    },
    {
     "name": "stdout",
     "output_type": "stream",
     "text": [
      "Training until validation scores don't improve for 50 rounds\n",
      "[50]\ttraining's auc: 0.752328\tvalid_1's auc: 0.749993\n",
      "[100]\ttraining's auc: 0.754625\tvalid_1's auc: 0.75032\n",
      "[150]\ttraining's auc: 0.756373\tvalid_1's auc: 0.750297\n",
      "Early stopping, best iteration is:\n",
      "[106]\ttraining's auc: 0.754863\tvalid_1's auc: 0.750336\n",
      "Training until validation scores don't improve for 50 rounds\n",
      "[50]\ttraining's auc: 0.752328\tvalid_1's auc: 0.749993\n",
      "[100]\ttraining's auc: 0.754625\tvalid_1's auc: 0.75032\n",
      "[150]\ttraining's auc: 0.756373\tvalid_1's auc: 0.750297\n",
      "Early stopping, best iteration is:\n",
      "[106]\ttraining's auc: 0.754863\tvalid_1's auc: 0.750336\n"
     ]
    }
   ],
   "source": [
    "# 2.\n",
    "params = {\n",
    "    'objective': 'binary',\n",
    "    'num_rounds': 1000,\n",
    "    'seed': 42,\n",
    "    'metric': 'auc',\n",
    "    'learning_rate': 0.1,\n",
    "    'force_row_wise': True,\n",
    "    \n",
    "    'max_depth': -1,\n",
    "    'num_leaves': 1000,\n",
    "\n",
    "}\n",
    "\n",
    "search_cv = []\n",
    "search_param = {\n",
    "    'min_child_samples': [10, 50, 100, 150, 800],\n",
    "    'min_child_weight': [0.001, 0.005],\n",
    "}\n",
    "best = 0.\n",
    "\n",
    "p0, p1 = search_param.items()\n",
    "\n",
    "for i in progress_bar(p0[1]):\n",
    "    for j in progress_bar(p1[1]):\n",
    "        params[p0[0]] = i\n",
    "        params[p1[0]] = j\n",
    "        \n",
    "        model = lgb.LGBMClassifier(**params)\n",
    "        model.fit(\n",
    "            *trn_data,\n",
    "            eval_set=[trn_data, val_data], \n",
    "            verbose=50,\n",
    "            early_stopping_rounds=50,\n",
    "        )\n",
    "        score = model.evals_result_['valid_1']['auc'][0]\n",
    "        search_cv.append([{p0[0]: i}, {p1[0]: j}, score])\n",
    "        if score > best:\n",
    "            best = score\n",
    "            best_param = [{p0[0]: i}, {p1[0]: j}, score]\n",
    "search_cv"
   ]
  },
  {
   "cell_type": "markdown",
   "metadata": {
    "heading_collapsed": true
   },
   "source": [
    "# 3."
   ]
  },
  {
   "cell_type": "code",
   "execution_count": 19,
   "metadata": {
    "ExecuteTime": {
     "end_time": "2021-01-07T09:46:23.434661Z",
     "start_time": "2021-01-07T09:10:20.611339Z"
    },
    "hidden": true
   },
   "outputs": [
    {
     "data": {
      "text/html": [
       "\n",
       "    <div>\n",
       "        <style>\n",
       "            /* Turns off some styling */\n",
       "            progress {\n",
       "                /* gets rid of default border in Firefox and Opera. */\n",
       "                border: none;\n",
       "                /* Needs to be in here for Safari polyfill so background images work as expected. */\n",
       "                background-size: auto;\n",
       "            }\n",
       "            .progress-bar-interrupted, .progress-bar-interrupted::-webkit-progress-bar {\n",
       "                background: #F44336;\n",
       "            }\n",
       "        </style>\n",
       "      <progress value='4' class='' max='4' style='width:300px; height:20px; vertical-align: middle;'></progress>\n",
       "      100.00% [4/4 36:02<00:00]\n",
       "    </div>\n",
       "    "
      ],
      "text/plain": [
       "<IPython.core.display.HTML object>"
      ]
     },
     "metadata": {},
     "output_type": "display_data"
    },
    {
     "data": {
      "text/html": [
       "\n",
       "    <div>\n",
       "        <style>\n",
       "            /* Turns off some styling */\n",
       "            progress {\n",
       "                /* gets rid of default border in Firefox and Opera. */\n",
       "                border: none;\n",
       "                /* Needs to be in here for Safari polyfill so background images work as expected. */\n",
       "                background-size: auto;\n",
       "            }\n",
       "            .progress-bar-interrupted, .progress-bar-interrupted::-webkit-progress-bar {\n",
       "                background: #F44336;\n",
       "            }\n",
       "        </style>\n",
       "      <progress value='4' class='' max='4' style='width:300px; height:20px; vertical-align: middle;'></progress>\n",
       "      100.00% [4/4 08:34<00:00]\n",
       "    </div>\n",
       "    "
      ],
      "text/plain": [
       "<IPython.core.display.HTML object>"
      ]
     },
     "metadata": {},
     "output_type": "display_data"
    },
    {
     "name": "stdout",
     "output_type": "stream",
     "text": [
      "Training until validation scores don't improve for 50 rounds\n",
      "[50]\ttraining's auc: 0.752884\tvalid_1's auc: 0.750062\n",
      "[100]\ttraining's auc: 0.755495\tvalid_1's auc: 0.75028\n",
      "Early stopping, best iteration is:\n",
      "[95]\ttraining's auc: 0.755374\tvalid_1's auc: 0.75029\n",
      "Training until validation scores don't improve for 50 rounds\n",
      "[50]\ttraining's auc: 0.752751\tvalid_1's auc: 0.749854\n",
      "[100]\ttraining's auc: 0.755544\tvalid_1's auc: 0.749927\n",
      "Early stopping, best iteration is:\n",
      "[69]\ttraining's auc: 0.753935\tvalid_1's auc: 0.74997\n",
      "Training until validation scores don't improve for 50 rounds\n",
      "[50]\ttraining's auc: 0.752668\tvalid_1's auc: 0.749747\n",
      "[100]\ttraining's auc: 0.755413\tvalid_1's auc: 0.749822\n",
      "Early stopping, best iteration is:\n",
      "[76]\ttraining's auc: 0.754278\tvalid_1's auc: 0.749867\n",
      "Training until validation scores don't improve for 50 rounds\n",
      "[50]\ttraining's auc: 0.752641\tvalid_1's auc: 0.749774\n",
      "[100]\ttraining's auc: 0.75526\tvalid_1's auc: 0.749824\n",
      "Early stopping, best iteration is:\n",
      "[75]\ttraining's auc: 0.754046\tvalid_1's auc: 0.749862\n"
     ]
    },
    {
     "data": {
      "text/html": [
       "\n",
       "    <div>\n",
       "        <style>\n",
       "            /* Turns off some styling */\n",
       "            progress {\n",
       "                /* gets rid of default border in Firefox and Opera. */\n",
       "                border: none;\n",
       "                /* Needs to be in here for Safari polyfill so background images work as expected. */\n",
       "                background-size: auto;\n",
       "            }\n",
       "            .progress-bar-interrupted, .progress-bar-interrupted::-webkit-progress-bar {\n",
       "                background: #F44336;\n",
       "            }\n",
       "        </style>\n",
       "      <progress value='4' class='' max='4' style='width:300px; height:20px; vertical-align: middle;'></progress>\n",
       "      100.00% [4/4 09:30<00:00]\n",
       "    </div>\n",
       "    "
      ],
      "text/plain": [
       "<IPython.core.display.HTML object>"
      ]
     },
     "metadata": {},
     "output_type": "display_data"
    },
    {
     "name": "stdout",
     "output_type": "stream",
     "text": [
      "Training until validation scores don't improve for 50 rounds\n",
      "[50]\ttraining's auc: 0.752884\tvalid_1's auc: 0.750062\n",
      "[100]\ttraining's auc: 0.755495\tvalid_1's auc: 0.75028\n",
      "Early stopping, best iteration is:\n",
      "[95]\ttraining's auc: 0.755374\tvalid_1's auc: 0.75029\n",
      "Training until validation scores don't improve for 50 rounds\n",
      "[50]\ttraining's auc: 0.752818\tvalid_1's auc: 0.750001\n",
      "[100]\ttraining's auc: 0.755791\tvalid_1's auc: 0.750229\n",
      "[150]\ttraining's auc: 0.758133\tvalid_1's auc: 0.750082\n",
      "Early stopping, best iteration is:\n",
      "[100]\ttraining's auc: 0.755791\tvalid_1's auc: 0.750229\n",
      "Training until validation scores don't improve for 50 rounds\n",
      "[50]\ttraining's auc: 0.752768\tvalid_1's auc: 0.749957\n",
      "[100]\ttraining's auc: 0.755438\tvalid_1's auc: 0.750081\n",
      "Early stopping, best iteration is:\n",
      "[91]\ttraining's auc: 0.755068\tvalid_1's auc: 0.750108\n",
      "Training until validation scores don't improve for 50 rounds\n",
      "[50]\ttraining's auc: 0.752786\tvalid_1's auc: 0.749946\n",
      "[100]\ttraining's auc: 0.755575\tvalid_1's auc: 0.750101\n",
      "[150]\ttraining's auc: 0.757679\tvalid_1's auc: 0.749994\n",
      "Early stopping, best iteration is:\n",
      "[105]\ttraining's auc: 0.755803\tvalid_1's auc: 0.750114\n"
     ]
    },
    {
     "data": {
      "text/html": [
       "\n",
       "    <div>\n",
       "        <style>\n",
       "            /* Turns off some styling */\n",
       "            progress {\n",
       "                /* gets rid of default border in Firefox and Opera. */\n",
       "                border: none;\n",
       "                /* Needs to be in here for Safari polyfill so background images work as expected. */\n",
       "                background-size: auto;\n",
       "            }\n",
       "            .progress-bar-interrupted, .progress-bar-interrupted::-webkit-progress-bar {\n",
       "                background: #F44336;\n",
       "            }\n",
       "        </style>\n",
       "      <progress value='4' class='' max='4' style='width:300px; height:20px; vertical-align: middle;'></progress>\n",
       "      100.00% [4/4 09:14<00:00]\n",
       "    </div>\n",
       "    "
      ],
      "text/plain": [
       "<IPython.core.display.HTML object>"
      ]
     },
     "metadata": {},
     "output_type": "display_data"
    },
    {
     "name": "stdout",
     "output_type": "stream",
     "text": [
      "Training until validation scores don't improve for 50 rounds\n",
      "[50]\ttraining's auc: 0.752884\tvalid_1's auc: 0.750062\n",
      "[100]\ttraining's auc: 0.755495\tvalid_1's auc: 0.75028\n",
      "Early stopping, best iteration is:\n",
      "[95]\ttraining's auc: 0.755374\tvalid_1's auc: 0.75029\n",
      "Training until validation scores don't improve for 50 rounds\n",
      "[50]\ttraining's auc: 0.752855\tvalid_1's auc: 0.750009\n",
      "[100]\ttraining's auc: 0.755528\tvalid_1's auc: 0.750174\n",
      "Early stopping, best iteration is:\n",
      "[95]\ttraining's auc: 0.755289\tvalid_1's auc: 0.750188\n",
      "Training until validation scores don't improve for 50 rounds\n",
      "[50]\ttraining's auc: 0.75287\tvalid_1's auc: 0.750034\n",
      "[100]\ttraining's auc: 0.755487\tvalid_1's auc: 0.750198\n",
      "[150]\ttraining's auc: 0.757748\tvalid_1's auc: 0.750162\n",
      "Early stopping, best iteration is:\n",
      "[123]\ttraining's auc: 0.756542\tvalid_1's auc: 0.750215\n",
      "Training until validation scores don't improve for 50 rounds\n",
      "[50]\ttraining's auc: 0.752861\tvalid_1's auc: 0.750027\n",
      "[100]\ttraining's auc: 0.755573\tvalid_1's auc: 0.750203\n",
      "Early stopping, best iteration is:\n",
      "[89]\ttraining's auc: 0.755085\tvalid_1's auc: 0.750206\n"
     ]
    },
    {
     "data": {
      "text/html": [
       "\n",
       "    <div>\n",
       "        <style>\n",
       "            /* Turns off some styling */\n",
       "            progress {\n",
       "                /* gets rid of default border in Firefox and Opera. */\n",
       "                border: none;\n",
       "                /* Needs to be in here for Safari polyfill so background images work as expected. */\n",
       "                background-size: auto;\n",
       "            }\n",
       "            .progress-bar-interrupted, .progress-bar-interrupted::-webkit-progress-bar {\n",
       "                background: #F44336;\n",
       "            }\n",
       "        </style>\n",
       "      <progress value='4' class='' max='4' style='width:300px; height:20px; vertical-align: middle;'></progress>\n",
       "      100.00% [4/4 08:43<00:00]\n",
       "    </div>\n",
       "    "
      ],
      "text/plain": [
       "<IPython.core.display.HTML object>"
      ]
     },
     "metadata": {},
     "output_type": "display_data"
    },
    {
     "name": "stdout",
     "output_type": "stream",
     "text": [
      "Training until validation scores don't improve for 50 rounds\n",
      "[50]\ttraining's auc: 0.752884\tvalid_1's auc: 0.750062\n",
      "[100]\ttraining's auc: 0.755495\tvalid_1's auc: 0.75028\n",
      "Early stopping, best iteration is:\n",
      "[95]\ttraining's auc: 0.755374\tvalid_1's auc: 0.75029\n",
      "Training until validation scores don't improve for 50 rounds\n",
      "[50]\ttraining's auc: 0.752884\tvalid_1's auc: 0.750062\n",
      "[100]\ttraining's auc: 0.755495\tvalid_1's auc: 0.75028\n",
      "Early stopping, best iteration is:\n",
      "[95]\ttraining's auc: 0.755374\tvalid_1's auc: 0.75029\n",
      "Training until validation scores don't improve for 50 rounds\n",
      "[50]\ttraining's auc: 0.752884\tvalid_1's auc: 0.750062\n",
      "[100]\ttraining's auc: 0.755495\tvalid_1's auc: 0.75028\n",
      "Early stopping, best iteration is:\n",
      "[95]\ttraining's auc: 0.755374\tvalid_1's auc: 0.75029\n",
      "Training until validation scores don't improve for 50 rounds\n",
      "[50]\ttraining's auc: 0.752884\tvalid_1's auc: 0.750062\n",
      "[100]\ttraining's auc: 0.755495\tvalid_1's auc: 0.75028\n",
      "Early stopping, best iteration is:\n",
      "[95]\ttraining's auc: 0.755374\tvalid_1's auc: 0.75029\n"
     ]
    },
    {
     "data": {
      "text/plain": [
       "[[{'bagging_fraction': 0.5}, {'bagging_freq': 0}, 0.74703312099168],\n",
       " [{'bagging_fraction': 0.5}, {'bagging_freq': 2}, 0.7466035384108708],\n",
       " [{'bagging_fraction': 0.5}, {'bagging_freq': 4}, 0.7466035384108708],\n",
       " [{'bagging_fraction': 0.5}, {'bagging_freq': 6}, 0.7466035384108708],\n",
       " [{'bagging_fraction': 0.7}, {'bagging_freq': 0}, 0.74703312099168],\n",
       " [{'bagging_fraction': 0.7}, {'bagging_freq': 2}, 0.7468983637933233],\n",
       " [{'bagging_fraction': 0.7}, {'bagging_freq': 4}, 0.7468983637933233],\n",
       " [{'bagging_fraction': 0.7}, {'bagging_freq': 6}, 0.7468983637933233],\n",
       " [{'bagging_fraction': 0.9}, {'bagging_freq': 0}, 0.74703312099168],\n",
       " [{'bagging_fraction': 0.9}, {'bagging_freq': 2}, 0.7470224813893984],\n",
       " [{'bagging_fraction': 0.9}, {'bagging_freq': 4}, 0.7470224813893984],\n",
       " [{'bagging_fraction': 0.9}, {'bagging_freq': 6}, 0.7470224813893984],\n",
       " [{'bagging_fraction': 1}, {'bagging_freq': 0}, 0.74703312099168],\n",
       " [{'bagging_fraction': 1}, {'bagging_freq': 2}, 0.74703312099168],\n",
       " [{'bagging_fraction': 1}, {'bagging_freq': 4}, 0.74703312099168],\n",
       " [{'bagging_fraction': 1}, {'bagging_freq': 6}, 0.74703312099168]]"
      ]
     },
     "execution_count": 19,
     "metadata": {},
     "output_type": "execute_result"
    }
   ],
   "source": [
    "# 2.\n",
    "params = {\n",
    "    'objective': 'binary',\n",
    "    'num_rounds': 1000,\n",
    "    'seed': 42,\n",
    "    'metric': 'auc',\n",
    "    'learning_rate': 0.1,\n",
    "    'force_row_wise': True,\n",
    "    \n",
    "    'max_depth': -1,\n",
    "    'num_leaves': 1000,\n",
    "    \n",
    "    'min_child_samples': 100,\n",
    "    \n",
    "    \n",
    "}\n",
    "\n",
    "search_cv = []\n",
    "search_param = {\n",
    "    'bagging_fraction': [0.5, 0.7, 0.9, 1],\n",
    "    'bagging_freq': [0, 2, 4, 6],\n",
    "}\n",
    "best = 0.\n",
    "\n",
    "p0, p1 = search_param.items()\n",
    "\n",
    "for i in progress_bar(p0[1]):\n",
    "    for j in progress_bar(p1[1]):\n",
    "        params[p0[0]] = i\n",
    "        params[p1[0]] = j\n",
    "        \n",
    "        model = lgb.LGBMClassifier(**params)\n",
    "        model.fit(\n",
    "            *trn_data,\n",
    "            eval_set=[trn_data, val_data], \n",
    "            verbose=50,\n",
    "            early_stopping_rounds=50,\n",
    "        )\n",
    "        score = model.evals_result_['valid_1']['auc'][0]\n",
    "        search_cv.append([{p0[0]: i}, {p1[0]: j}, score])\n",
    "        if score > best:\n",
    "            best = score\n",
    "            best_param = [{p0[0]: i}, {p1[0]: j}, score]\n",
    "search_cv"
   ]
  },
  {
   "cell_type": "markdown",
   "metadata": {},
   "source": [
    "# 4."
   ]
  },
  {
   "cell_type": "code",
   "execution_count": 20,
   "metadata": {
    "ExecuteTime": {
     "end_time": "2021-01-07T10:58:08.062366Z",
     "start_time": "2021-01-07T09:59:57.079589Z"
    },
    "code_folding": [
     0
    ]
   },
   "outputs": [
    {
     "data": {
      "text/html": [
       "\n",
       "    <div>\n",
       "        <style>\n",
       "            /* Turns off some styling */\n",
       "            progress {\n",
       "                /* gets rid of default border in Firefox and Opera. */\n",
       "                border: none;\n",
       "                /* Needs to be in here for Safari polyfill so background images work as expected. */\n",
       "                background-size: auto;\n",
       "            }\n",
       "            .progress-bar-interrupted, .progress-bar-interrupted::-webkit-progress-bar {\n",
       "                background: #F44336;\n",
       "            }\n",
       "        </style>\n",
       "      <progress value='5' class='' max='5' style='width:300px; height:20px; vertical-align: middle;'></progress>\n",
       "      100.00% [5/5 58:10<00:00]\n",
       "    </div>\n",
       "    "
      ],
      "text/plain": [
       "<IPython.core.display.HTML object>"
      ]
     },
     "metadata": {},
     "output_type": "display_data"
    },
    {
     "data": {
      "text/html": [
       "\n",
       "    <div>\n",
       "        <style>\n",
       "            /* Turns off some styling */\n",
       "            progress {\n",
       "                /* gets rid of default border in Firefox and Opera. */\n",
       "                border: none;\n",
       "                /* Needs to be in here for Safari polyfill so background images work as expected. */\n",
       "                background-size: auto;\n",
       "            }\n",
       "            .progress-bar-interrupted, .progress-bar-interrupted::-webkit-progress-bar {\n",
       "                background: #F44336;\n",
       "            }\n",
       "        </style>\n",
       "      <progress value='5' class='' max='5' style='width:300px; height:20px; vertical-align: middle;'></progress>\n",
       "      100.00% [5/5 11:04<00:00]\n",
       "    </div>\n",
       "    "
      ],
      "text/plain": [
       "<IPython.core.display.HTML object>"
      ]
     },
     "metadata": {},
     "output_type": "display_data"
    },
    {
     "name": "stderr",
     "output_type": "stream",
     "text": [
      "C:\\Users\\utl\\anaconda3\\lib\\site-packages\\lightgbm\\engine.py:151: UserWarning: Found `num_rounds` in params. Will use it instead of argument\n",
      "  warnings.warn(\"Found `{}` in params. Will use it instead of argument\".format(alias))\n"
     ]
    },
    {
     "name": "stdout",
     "output_type": "stream",
     "text": [
      "Training until validation scores don't improve for 50 rounds\n",
      "[50]\ttraining's auc: 0.752884\tvalid_1's auc: 0.750062\n",
      "[100]\ttraining's auc: 0.755495\tvalid_1's auc: 0.75028\n",
      "Early stopping, best iteration is:\n",
      "[95]\ttraining's auc: 0.755374\tvalid_1's auc: 0.75029\n",
      "Training until validation scores don't improve for 50 rounds\n",
      "[50]\ttraining's auc: 0.752892\tvalid_1's auc: 0.750056\n",
      "[100]\ttraining's auc: 0.755547\tvalid_1's auc: 0.750209\n",
      "Early stopping, best iteration is:\n",
      "[87]\ttraining's auc: 0.754984\tvalid_1's auc: 0.750232\n",
      "Training until validation scores don't improve for 50 rounds\n",
      "[50]\ttraining's auc: 0.752863\tvalid_1's auc: 0.750087\n",
      "[100]\ttraining's auc: 0.755392\tvalid_1's auc: 0.750261\n",
      "Early stopping, best iteration is:\n",
      "[83]\ttraining's auc: 0.754664\tvalid_1's auc: 0.750271\n",
      "Training until validation scores don't improve for 50 rounds\n",
      "[50]\ttraining's auc: 0.752858\tvalid_1's auc: 0.750075\n",
      "[100]\ttraining's auc: 0.75546\tvalid_1's auc: 0.750259\n",
      "[150]\ttraining's auc: 0.757481\tvalid_1's auc: 0.750219\n",
      "Early stopping, best iteration is:\n",
      "[103]\ttraining's auc: 0.755604\tvalid_1's auc: 0.750272\n",
      "Training until validation scores don't improve for 50 rounds\n",
      "[50]\ttraining's auc: 0.752879\tvalid_1's auc: 0.750073\n",
      "[100]\ttraining's auc: 0.755474\tvalid_1's auc: 0.750275\n",
      "[150]\ttraining's auc: 0.757495\tvalid_1's auc: 0.750233\n",
      "Early stopping, best iteration is:\n",
      "[103]\ttraining's auc: 0.75561\tvalid_1's auc: 0.750285\n"
     ]
    },
    {
     "data": {
      "text/html": [
       "\n",
       "    <div>\n",
       "        <style>\n",
       "            /* Turns off some styling */\n",
       "            progress {\n",
       "                /* gets rid of default border in Firefox and Opera. */\n",
       "                border: none;\n",
       "                /* Needs to be in here for Safari polyfill so background images work as expected. */\n",
       "                background-size: auto;\n",
       "            }\n",
       "            .progress-bar-interrupted, .progress-bar-interrupted::-webkit-progress-bar {\n",
       "                background: #F44336;\n",
       "            }\n",
       "        </style>\n",
       "      <progress value='5' class='' max='5' style='width:300px; height:20px; vertical-align: middle;'></progress>\n",
       "      100.00% [5/5 11:42<00:00]\n",
       "    </div>\n",
       "    "
      ],
      "text/plain": [
       "<IPython.core.display.HTML object>"
      ]
     },
     "metadata": {},
     "output_type": "display_data"
    },
    {
     "name": "stdout",
     "output_type": "stream",
     "text": [
      "Training until validation scores don't improve for 50 rounds\n",
      "[50]\ttraining's auc: 0.752904\tvalid_1's auc: 0.750087\n",
      "[100]\ttraining's auc: 0.755484\tvalid_1's auc: 0.750279\n",
      "Early stopping, best iteration is:\n",
      "[99]\ttraining's auc: 0.755438\tvalid_1's auc: 0.750283\n",
      "Training until validation scores don't improve for 50 rounds\n",
      "[50]\ttraining's auc: 0.752904\tvalid_1's auc: 0.750119\n",
      "[100]\ttraining's auc: 0.755393\tvalid_1's auc: 0.750245\n",
      "Early stopping, best iteration is:\n",
      "[79]\ttraining's auc: 0.754577\tvalid_1's auc: 0.75027\n",
      "Training until validation scores don't improve for 50 rounds\n",
      "[50]\ttraining's auc: 0.752832\tvalid_1's auc: 0.75008\n",
      "[100]\ttraining's auc: 0.7554\tvalid_1's auc: 0.750245\n",
      "[150]\ttraining's auc: 0.75731\tvalid_1's auc: 0.750219\n",
      "Early stopping, best iteration is:\n",
      "[109]\ttraining's auc: 0.755767\tvalid_1's auc: 0.750262\n",
      "Training until validation scores don't improve for 50 rounds\n",
      "[50]\ttraining's auc: 0.752858\tvalid_1's auc: 0.750096\n",
      "[100]\ttraining's auc: 0.755519\tvalid_1's auc: 0.750263\n",
      "[150]\ttraining's auc: 0.757442\tvalid_1's auc: 0.750238\n",
      "Early stopping, best iteration is:\n",
      "[126]\ttraining's auc: 0.756573\tvalid_1's auc: 0.750266\n",
      "Training until validation scores don't improve for 50 rounds\n",
      "[50]\ttraining's auc: 0.752839\tvalid_1's auc: 0.750076\n",
      "[100]\ttraining's auc: 0.755481\tvalid_1's auc: 0.75025\n",
      "Early stopping, best iteration is:\n",
      "[93]\ttraining's auc: 0.755188\tvalid_1's auc: 0.750265\n"
     ]
    },
    {
     "data": {
      "text/html": [
       "\n",
       "    <div>\n",
       "        <style>\n",
       "            /* Turns off some styling */\n",
       "            progress {\n",
       "                /* gets rid of default border in Firefox and Opera. */\n",
       "                border: none;\n",
       "                /* Needs to be in here for Safari polyfill so background images work as expected. */\n",
       "                background-size: auto;\n",
       "            }\n",
       "            .progress-bar-interrupted, .progress-bar-interrupted::-webkit-progress-bar {\n",
       "                background: #F44336;\n",
       "            }\n",
       "        </style>\n",
       "      <progress value='5' class='' max='5' style='width:300px; height:20px; vertical-align: middle;'></progress>\n",
       "      100.00% [5/5 11:56<00:00]\n",
       "    </div>\n",
       "    "
      ],
      "text/plain": [
       "<IPython.core.display.HTML object>"
      ]
     },
     "metadata": {},
     "output_type": "display_data"
    },
    {
     "name": "stdout",
     "output_type": "stream",
     "text": [
      "Training until validation scores don't improve for 50 rounds\n",
      "[50]\ttraining's auc: 0.752805\tvalid_1's auc: 0.750053\n",
      "[100]\ttraining's auc: 0.755464\tvalid_1's auc: 0.750241\n",
      "[150]\ttraining's auc: 0.757405\tvalid_1's auc: 0.750227\n",
      "Early stopping, best iteration is:\n",
      "[128]\ttraining's auc: 0.756576\tvalid_1's auc: 0.750268\n",
      "Training until validation scores don't improve for 50 rounds\n",
      "[50]\ttraining's auc: 0.752811\tvalid_1's auc: 0.750072\n",
      "[100]\ttraining's auc: 0.75549\tvalid_1's auc: 0.750289\n",
      "Early stopping, best iteration is:\n",
      "[91]\ttraining's auc: 0.755076\tvalid_1's auc: 0.7503\n",
      "Training until validation scores don't improve for 50 rounds\n",
      "[50]\ttraining's auc: 0.752795\tvalid_1's auc: 0.750084\n",
      "[100]\ttraining's auc: 0.755389\tvalid_1's auc: 0.75028\n",
      "[150]\ttraining's auc: 0.757543\tvalid_1's auc: 0.750252\n",
      "Early stopping, best iteration is:\n",
      "[106]\ttraining's auc: 0.755692\tvalid_1's auc: 0.750281\n",
      "Training until validation scores don't improve for 50 rounds\n",
      "[50]\ttraining's auc: 0.752785\tvalid_1's auc: 0.750049\n",
      "[100]\ttraining's auc: 0.755486\tvalid_1's auc: 0.750255\n",
      "[150]\ttraining's auc: 0.757507\tvalid_1's auc: 0.750216\n",
      "Early stopping, best iteration is:\n",
      "[116]\ttraining's auc: 0.756183\tvalid_1's auc: 0.750269\n",
      "Training until validation scores don't improve for 50 rounds\n",
      "[50]\ttraining's auc: 0.752807\tvalid_1's auc: 0.7501\n",
      "[100]\ttraining's auc: 0.755381\tvalid_1's auc: 0.750309\n",
      "Early stopping, best iteration is:\n",
      "[93]\ttraining's auc: 0.755087\tvalid_1's auc: 0.750316\n"
     ]
    },
    {
     "data": {
      "text/html": [
       "\n",
       "    <div>\n",
       "        <style>\n",
       "            /* Turns off some styling */\n",
       "            progress {\n",
       "                /* gets rid of default border in Firefox and Opera. */\n",
       "                border: none;\n",
       "                /* Needs to be in here for Safari polyfill so background images work as expected. */\n",
       "                background-size: auto;\n",
       "            }\n",
       "            .progress-bar-interrupted, .progress-bar-interrupted::-webkit-progress-bar {\n",
       "                background: #F44336;\n",
       "            }\n",
       "        </style>\n",
       "      <progress value='5' class='' max='5' style='width:300px; height:20px; vertical-align: middle;'></progress>\n",
       "      100.00% [5/5 12:05<00:00]\n",
       "    </div>\n",
       "    "
      ],
      "text/plain": [
       "<IPython.core.display.HTML object>"
      ]
     },
     "metadata": {},
     "output_type": "display_data"
    },
    {
     "name": "stdout",
     "output_type": "stream",
     "text": [
      "Training until validation scores don't improve for 50 rounds\n",
      "[50]\ttraining's auc: 0.752881\tvalid_1's auc: 0.750121\n",
      "[100]\ttraining's auc: 0.755506\tvalid_1's auc: 0.750268\n",
      "Early stopping, best iteration is:\n",
      "[81]\ttraining's auc: 0.754672\tvalid_1's auc: 0.750279\n",
      "Training until validation scores don't improve for 50 rounds\n",
      "[50]\ttraining's auc: 0.752765\tvalid_1's auc: 0.750066\n",
      "[100]\ttraining's auc: 0.755506\tvalid_1's auc: 0.750286\n",
      "[150]\ttraining's auc: 0.757625\tvalid_1's auc: 0.750252\n",
      "Early stopping, best iteration is:\n",
      "[133]\ttraining's auc: 0.756934\tvalid_1's auc: 0.750296\n",
      "Training until validation scores don't improve for 50 rounds\n",
      "[50]\ttraining's auc: 0.75281\tvalid_1's auc: 0.750104\n",
      "[100]\ttraining's auc: 0.755485\tvalid_1's auc: 0.75029\n",
      "[150]\ttraining's auc: 0.757502\tvalid_1's auc: 0.750245\n",
      "Early stopping, best iteration is:\n",
      "[118]\ttraining's auc: 0.756213\tvalid_1's auc: 0.750301\n",
      "Training until validation scores don't improve for 50 rounds\n",
      "[50]\ttraining's auc: 0.752834\tvalid_1's auc: 0.7501\n",
      "[100]\ttraining's auc: 0.755419\tvalid_1's auc: 0.7503\n",
      "Early stopping, best iteration is:\n",
      "[97]\ttraining's auc: 0.755289\tvalid_1's auc: 0.750307\n",
      "Training until validation scores don't improve for 50 rounds\n",
      "[50]\ttraining's auc: 0.752796\tvalid_1's auc: 0.750104\n",
      "[100]\ttraining's auc: 0.755452\tvalid_1's auc: 0.750312\n",
      "[150]\ttraining's auc: 0.757436\tvalid_1's auc: 0.750252\n",
      "Early stopping, best iteration is:\n",
      "[106]\ttraining's auc: 0.755736\tvalid_1's auc: 0.750321\n"
     ]
    },
    {
     "data": {
      "text/html": [
       "\n",
       "    <div>\n",
       "        <style>\n",
       "            /* Turns off some styling */\n",
       "            progress {\n",
       "                /* gets rid of default border in Firefox and Opera. */\n",
       "                border: none;\n",
       "                /* Needs to be in here for Safari polyfill so background images work as expected. */\n",
       "                background-size: auto;\n",
       "            }\n",
       "            .progress-bar-interrupted, .progress-bar-interrupted::-webkit-progress-bar {\n",
       "                background: #F44336;\n",
       "            }\n",
       "        </style>\n",
       "      <progress value='5' class='' max='5' style='width:300px; height:20px; vertical-align: middle;'></progress>\n",
       "      100.00% [5/5 11:22<00:00]\n",
       "    </div>\n",
       "    "
      ],
      "text/plain": [
       "<IPython.core.display.HTML object>"
      ]
     },
     "metadata": {},
     "output_type": "display_data"
    },
    {
     "name": "stdout",
     "output_type": "stream",
     "text": [
      "Training until validation scores don't improve for 50 rounds\n",
      "[50]\ttraining's auc: 0.752823\tvalid_1's auc: 0.750062\n",
      "[100]\ttraining's auc: 0.75547\tvalid_1's auc: 0.750292\n",
      "[150]\ttraining's auc: 0.757369\tvalid_1's auc: 0.750228\n",
      "Early stopping, best iteration is:\n",
      "[111]\ttraining's auc: 0.755934\tvalid_1's auc: 0.7503\n",
      "Training until validation scores don't improve for 50 rounds\n",
      "[50]\ttraining's auc: 0.752788\tvalid_1's auc: 0.750118\n",
      "[100]\ttraining's auc: 0.755377\tvalid_1's auc: 0.750344\n",
      "[150]\ttraining's auc: 0.7574\tvalid_1's auc: 0.750317\n",
      "Early stopping, best iteration is:\n",
      "[116]\ttraining's auc: 0.756049\tvalid_1's auc: 0.750358\n",
      "Training until validation scores don't improve for 50 rounds\n",
      "[50]\ttraining's auc: 0.752809\tvalid_1's auc: 0.750099\n",
      "[100]\ttraining's auc: 0.755403\tvalid_1's auc: 0.750319\n",
      "Early stopping, best iteration is:\n",
      "[89]\ttraining's auc: 0.754967\tvalid_1's auc: 0.750324\n",
      "Training until validation scores don't improve for 50 rounds\n",
      "[50]\ttraining's auc: 0.752764\tvalid_1's auc: 0.750096\n",
      "[100]\ttraining's auc: 0.755397\tvalid_1's auc: 0.750317\n",
      "[150]\ttraining's auc: 0.757294\tvalid_1's auc: 0.750299\n",
      "Early stopping, best iteration is:\n",
      "[114]\ttraining's auc: 0.755917\tvalid_1's auc: 0.750332\n",
      "Training until validation scores don't improve for 50 rounds\n",
      "[50]\ttraining's auc: 0.752773\tvalid_1's auc: 0.750092\n",
      "[100]\ttraining's auc: 0.755354\tvalid_1's auc: 0.750295\n",
      "Early stopping, best iteration is:\n",
      "[85]\ttraining's auc: 0.754723\tvalid_1's auc: 0.75032\n"
     ]
    },
    {
     "data": {
      "text/plain": [
       "[[{'reg_alpha': 0.0}, {'reg_lambda': 0.0}, 0.74703312099168],\n",
       " [{'reg_alpha': 0.0}, {'reg_lambda': 0.5}, 0.7469860602844426],\n",
       " [{'reg_alpha': 0.0}, {'reg_lambda': 1.0}, 0.746979167775397],\n",
       " [{'reg_alpha': 0.0}, {'reg_lambda': 1.5}, 0.7469837756478445],\n",
       " [{'reg_alpha': 0.0}, {'reg_lambda': 2.0}, 0.7469737702967091],\n",
       " [{'reg_alpha': 0.5}, {'reg_lambda': 0.0}, 0.7469767678271023],\n",
       " [{'reg_alpha': 0.5}, {'reg_lambda': 0.5}, 0.7469853239187755],\n",
       " [{'reg_alpha': 0.5}, {'reg_lambda': 1.0}, 0.7469673977084317],\n",
       " [{'reg_alpha': 0.5}, {'reg_lambda': 1.5}, 0.7469509249063483],\n",
       " [{'reg_alpha': 0.5}, {'reg_lambda': 2.0}, 0.7469520598380246],\n",
       " [{'reg_alpha': 1.0}, {'reg_lambda': 0.0}, 0.7469706571018007],\n",
       " [{'reg_alpha': 1.0}, {'reg_lambda': 0.5}, 0.7469567301536987],\n",
       " [{'reg_alpha': 1.0}, {'reg_lambda': 1.0}, 0.7469557305856592],\n",
       " [{'reg_alpha': 1.0}, {'reg_lambda': 1.5}, 0.7469561324107497],\n",
       " [{'reg_alpha': 1.0}, {'reg_lambda': 2.0}, 0.746957356607769],\n",
       " [{'reg_alpha': 1.5}, {'reg_lambda': 0.0}, 0.7469565487772334],\n",
       " [{'reg_alpha': 1.5}, {'reg_lambda': 0.5}, 0.7469563797095415],\n",
       " [{'reg_alpha': 1.5}, {'reg_lambda': 1.0}, 0.7469588452422455],\n",
       " [{'reg_alpha': 1.5}, {'reg_lambda': 1.5}, 0.7469579750600847],\n",
       " [{'reg_alpha': 1.5}, {'reg_lambda': 2.0}, 0.7469493102301017],\n",
       " [{'reg_alpha': 2.0}, {'reg_lambda': 0.0}, 0.7469604903213906],\n",
       " [{'reg_alpha': 2.0}, {'reg_lambda': 0.5}, 0.7469588514211761],\n",
       " [{'reg_alpha': 2.0}, {'reg_lambda': 1.0}, 0.7469565409135382],\n",
       " [{'reg_alpha': 2.0}, {'reg_lambda': 1.5}, 0.7469480635929313],\n",
       " [{'reg_alpha': 2.0}, {'reg_lambda': 2.0}, 0.7469400908768129]]"
      ]
     },
     "execution_count": 20,
     "metadata": {},
     "output_type": "execute_result"
    }
   ],
   "source": [
    "# 2.\n",
    "params = {\n",
    "    'objective': 'binary',\n",
    "    'num_rounds': 1000,\n",
    "    'seed': 42,\n",
    "    'metric': 'auc',\n",
    "    'learning_rate': 0.1,\n",
    "    'force_row_wise': True,\n",
    "    \n",
    "    'max_depth': -1,\n",
    "    'num_leaves': 1000,\n",
    "    \n",
    "    'min_child_samples': 100,\n",
    "    \n",
    "    \n",
    "}\n",
    "\n",
    "search_cv = []\n",
    "search_param = {\n",
    "    'reg_alpha': np.arange(0, 2.1, 0.5),\n",
    "    'reg_lambda': np.arange(0, 2.1, 0.5),\n",
    "}\n",
    "best = 0.\n",
    "\n",
    "p0, p1 = search_param.items()\n",
    "\n",
    "for i in progress_bar(p0[1]):\n",
    "    for j in progress_bar(p1[1]):\n",
    "        params[p0[0]] = i\n",
    "        params[p1[0]] = j\n",
    "        \n",
    "        model = lgb.LGBMClassifier(**params)\n",
    "        model.fit(\n",
    "            *trn_data,\n",
    "            eval_set=[trn_data, val_data], \n",
    "            verbose=50,\n",
    "            early_stopping_rounds=50,\n",
    "        )\n",
    "        score = model.evals_result_['valid_1']['auc'][0]\n",
    "        search_cv.append([{p0[0]: i}, {p1[0]: j}, score])\n",
    "        if score > best:\n",
    "            best = score\n",
    "            best_param = [{p0[0]: i}, {p1[0]: j}, score]\n",
    "search_cv"
   ]
  },
  {
   "cell_type": "markdown",
   "metadata": {},
   "source": [
    "# 5."
   ]
  },
  {
   "cell_type": "code",
   "execution_count": 23,
   "metadata": {
    "ExecuteTime": {
     "end_time": "2021-01-07T11:49:28.618393Z",
     "start_time": "2021-01-07T11:04:07.424701Z"
    }
   },
   "outputs": [
    {
     "data": {
      "text/html": [
       "\n",
       "    <div>\n",
       "        <style>\n",
       "            /* Turns off some styling */\n",
       "            progress {\n",
       "                /* gets rid of default border in Firefox and Opera. */\n",
       "                border: none;\n",
       "                /* Needs to be in here for Safari polyfill so background images work as expected. */\n",
       "                background-size: auto;\n",
       "            }\n",
       "            .progress-bar-interrupted, .progress-bar-interrupted::-webkit-progress-bar {\n",
       "                background: #F44336;\n",
       "            }\n",
       "        </style>\n",
       "      <progress value='6' class='' max='6' style='width:300px; height:20px; vertical-align: middle;'></progress>\n",
       "      100.00% [6/6 45:21<00:00]\n",
       "    </div>\n",
       "    "
      ],
      "text/plain": [
       "<IPython.core.display.HTML object>"
      ]
     },
     "metadata": {},
     "output_type": "display_data"
    },
    {
     "data": {
      "text/html": [
       "\n",
       "    <div>\n",
       "        <style>\n",
       "            /* Turns off some styling */\n",
       "            progress {\n",
       "                /* gets rid of default border in Firefox and Opera. */\n",
       "                border: none;\n",
       "                /* Needs to be in here for Safari polyfill so background images work as expected. */\n",
       "                background-size: auto;\n",
       "            }\n",
       "            .progress-bar-interrupted, .progress-bar-interrupted::-webkit-progress-bar {\n",
       "                background: #F44336;\n",
       "            }\n",
       "        </style>\n",
       "      <progress value='1' class='' max='1' style='width:300px; height:20px; vertical-align: middle;'></progress>\n",
       "      100.00% [1/1 00:47<00:00]\n",
       "    </div>\n",
       "    "
      ],
      "text/plain": [
       "<IPython.core.display.HTML object>"
      ]
     },
     "metadata": {},
     "output_type": "display_data"
    },
    {
     "name": "stderr",
     "output_type": "stream",
     "text": [
      "C:\\Users\\utl\\anaconda3\\lib\\site-packages\\lightgbm\\engine.py:151: UserWarning: Found `num_rounds` in params. Will use it instead of argument\n",
      "  warnings.warn(\"Found `{}` in params. Will use it instead of argument\".format(alias))\n"
     ]
    },
    {
     "name": "stdout",
     "output_type": "stream",
     "text": [
      "Training until validation scores don't improve for 50 rounds\n",
      "[50]\ttraining's auc: 0.75706\tvalid_1's auc: 0.735243\n",
      "Early stopping, best iteration is:\n",
      "[1]\ttraining's auc: 0.747795\tvalid_1's auc: 0.747033\n"
     ]
    },
    {
     "data": {
      "text/html": [
       "\n",
       "    <div>\n",
       "        <style>\n",
       "            /* Turns off some styling */\n",
       "            progress {\n",
       "                /* gets rid of default border in Firefox and Opera. */\n",
       "                border: none;\n",
       "                /* Needs to be in here for Safari polyfill so background images work as expected. */\n",
       "                background-size: auto;\n",
       "            }\n",
       "            .progress-bar-interrupted, .progress-bar-interrupted::-webkit-progress-bar {\n",
       "                background: #F44336;\n",
       "            }\n",
       "        </style>\n",
       "      <progress value='1' class='' max='1' style='width:300px; height:20px; vertical-align: middle;'></progress>\n",
       "      100.00% [1/1 00:58<00:00]\n",
       "    </div>\n",
       "    "
      ],
      "text/plain": [
       "<IPython.core.display.HTML object>"
      ]
     },
     "metadata": {},
     "output_type": "display_data"
    },
    {
     "name": "stdout",
     "output_type": "stream",
     "text": [
      "Training until validation scores don't improve for 50 rounds\n",
      "[50]\ttraining's auc: 0.758993\tvalid_1's auc: 0.748098\n",
      "Early stopping, best iteration is:\n",
      "[10]\ttraining's auc: 0.752384\tvalid_1's auc: 0.749445\n"
     ]
    },
    {
     "data": {
      "text/html": [
       "\n",
       "    <div>\n",
       "        <style>\n",
       "            /* Turns off some styling */\n",
       "            progress {\n",
       "                /* gets rid of default border in Firefox and Opera. */\n",
       "                border: none;\n",
       "                /* Needs to be in here for Safari polyfill so background images work as expected. */\n",
       "                background-size: auto;\n",
       "            }\n",
       "            .progress-bar-interrupted, .progress-bar-interrupted::-webkit-progress-bar {\n",
       "                background: #F44336;\n",
       "            }\n",
       "        </style>\n",
       "      <progress value='1' class='' max='1' style='width:300px; height:20px; vertical-align: middle;'></progress>\n",
       "      100.00% [1/1 02:27<00:00]\n",
       "    </div>\n",
       "    "
      ],
      "text/plain": [
       "<IPython.core.display.HTML object>"
      ]
     },
     "metadata": {},
     "output_type": "display_data"
    },
    {
     "name": "stdout",
     "output_type": "stream",
     "text": [
      "Training until validation scores don't improve for 50 rounds\n",
      "[50]\ttraining's auc: 0.752884\tvalid_1's auc: 0.750062\n",
      "[100]\ttraining's auc: 0.755495\tvalid_1's auc: 0.75028\n",
      "Early stopping, best iteration is:\n",
      "[95]\ttraining's auc: 0.755374\tvalid_1's auc: 0.75029\n"
     ]
    },
    {
     "data": {
      "text/html": [
       "\n",
       "    <div>\n",
       "        <style>\n",
       "            /* Turns off some styling */\n",
       "            progress {\n",
       "                /* gets rid of default border in Firefox and Opera. */\n",
       "                border: none;\n",
       "                /* Needs to be in here for Safari polyfill so background images work as expected. */\n",
       "                background-size: auto;\n",
       "            }\n",
       "            .progress-bar-interrupted, .progress-bar-interrupted::-webkit-progress-bar {\n",
       "                background: #F44336;\n",
       "            }\n",
       "        </style>\n",
       "      <progress value='1' class='' max='1' style='width:300px; height:20px; vertical-align: middle;'></progress>\n",
       "      100.00% [1/1 04:29<00:00]\n",
       "    </div>\n",
       "    "
      ],
      "text/plain": [
       "<IPython.core.display.HTML object>"
      ]
     },
     "metadata": {},
     "output_type": "display_data"
    },
    {
     "name": "stdout",
     "output_type": "stream",
     "text": [
      "Training until validation scores don't improve for 50 rounds\n",
      "[50]\ttraining's auc: 0.750837\tvalid_1's auc: 0.749346\n",
      "[100]\ttraining's auc: 0.75292\tvalid_1's auc: 0.750134\n",
      "[150]\ttraining's auc: 0.75443\tvalid_1's auc: 0.750303\n",
      "[200]\ttraining's auc: 0.755632\tvalid_1's auc: 0.75035\n",
      "[250]\ttraining's auc: 0.756651\tvalid_1's auc: 0.750328\n",
      "Early stopping, best iteration is:\n",
      "[206]\ttraining's auc: 0.755756\tvalid_1's auc: 0.750352\n"
     ]
    },
    {
     "data": {
      "text/html": [
       "\n",
       "    <div>\n",
       "        <style>\n",
       "            /* Turns off some styling */\n",
       "            progress {\n",
       "                /* gets rid of default border in Firefox and Opera. */\n",
       "                border: none;\n",
       "                /* Needs to be in here for Safari polyfill so background images work as expected. */\n",
       "                background-size: auto;\n",
       "            }\n",
       "            .progress-bar-interrupted, .progress-bar-interrupted::-webkit-progress-bar {\n",
       "                background: #F44336;\n",
       "            }\n",
       "        </style>\n",
       "      <progress value='1' class='' max='1' style='width:300px; height:20px; vertical-align: middle;'></progress>\n",
       "      100.00% [1/1 17:33<00:00]\n",
       "    </div>\n",
       "    "
      ],
      "text/plain": [
       "<IPython.core.display.HTML object>"
      ]
     },
     "metadata": {},
     "output_type": "display_data"
    },
    {
     "name": "stdout",
     "output_type": "stream",
     "text": [
      "Training until validation scores don't improve for 50 rounds\n",
      "[50]\ttraining's auc: 0.749033\tvalid_1's auc: 0.748184\n",
      "[100]\ttraining's auc: 0.749528\tvalid_1's auc: 0.748554\n",
      "[150]\ttraining's auc: 0.749974\tvalid_1's auc: 0.74885\n",
      "[200]\ttraining's auc: 0.750401\tvalid_1's auc: 0.749104\n",
      "[250]\ttraining's auc: 0.750846\tvalid_1's auc: 0.749355\n",
      "[300]\ttraining's auc: 0.751284\tvalid_1's auc: 0.749566\n",
      "[350]\ttraining's auc: 0.751711\tvalid_1's auc: 0.749752\n",
      "[400]\ttraining's auc: 0.752131\tvalid_1's auc: 0.749916\n",
      "[450]\ttraining's auc: 0.752524\tvalid_1's auc: 0.750044\n",
      "[500]\ttraining's auc: 0.75292\tvalid_1's auc: 0.750152\n",
      "[550]\ttraining's auc: 0.753264\tvalid_1's auc: 0.75022\n",
      "[600]\ttraining's auc: 0.753603\tvalid_1's auc: 0.750275\n",
      "[650]\ttraining's auc: 0.753921\tvalid_1's auc: 0.750314\n",
      "[700]\ttraining's auc: 0.75419\tvalid_1's auc: 0.750334\n",
      "[750]\ttraining's auc: 0.754454\tvalid_1's auc: 0.750349\n",
      "[800]\ttraining's auc: 0.754704\tvalid_1's auc: 0.75036\n",
      "[850]\ttraining's auc: 0.75496\tvalid_1's auc: 0.750368\n",
      "[900]\ttraining's auc: 0.755199\tvalid_1's auc: 0.750374\n",
      "[950]\ttraining's auc: 0.755417\tvalid_1's auc: 0.750374\n",
      "Early stopping, best iteration is:\n",
      "[929]\ttraining's auc: 0.75533\tvalid_1's auc: 0.750376\n"
     ]
    },
    {
     "data": {
      "text/html": [
       "\n",
       "    <div>\n",
       "        <style>\n",
       "            /* Turns off some styling */\n",
       "            progress {\n",
       "                /* gets rid of default border in Firefox and Opera. */\n",
       "                border: none;\n",
       "                /* Needs to be in here for Safari polyfill so background images work as expected. */\n",
       "                background-size: auto;\n",
       "            }\n",
       "            .progress-bar-interrupted, .progress-bar-interrupted::-webkit-progress-bar {\n",
       "                background: #F44336;\n",
       "            }\n",
       "        </style>\n",
       "      <progress value='1' class='' max='1' style='width:300px; height:20px; vertical-align: middle;'></progress>\n",
       "      100.00% [1/1 19:04<00:00]\n",
       "    </div>\n",
       "    "
      ],
      "text/plain": [
       "<IPython.core.display.HTML object>"
      ]
     },
     "metadata": {},
     "output_type": "display_data"
    },
    {
     "name": "stdout",
     "output_type": "stream",
     "text": [
      "Training until validation scores don't improve for 50 rounds\n",
      "[50]\ttraining's auc: 0.748653\tvalid_1's auc: 0.747865\n",
      "[100]\ttraining's auc: 0.749032\tvalid_1's auc: 0.748184\n",
      "[150]\ttraining's auc: 0.749295\tvalid_1's auc: 0.74839\n",
      "[200]\ttraining's auc: 0.749529\tvalid_1's auc: 0.748552\n",
      "[250]\ttraining's auc: 0.749752\tvalid_1's auc: 0.748705\n",
      "[300]\ttraining's auc: 0.749973\tvalid_1's auc: 0.748853\n",
      "[350]\ttraining's auc: 0.750186\tvalid_1's auc: 0.748982\n",
      "[400]\ttraining's auc: 0.750398\tvalid_1's auc: 0.749101\n",
      "[450]\ttraining's auc: 0.750623\tvalid_1's auc: 0.74923\n",
      "[500]\ttraining's auc: 0.750844\tvalid_1's auc: 0.74935\n",
      "[550]\ttraining's auc: 0.751057\tvalid_1's auc: 0.749458\n",
      "[600]\ttraining's auc: 0.751284\tvalid_1's auc: 0.749566\n",
      "[650]\ttraining's auc: 0.751506\tvalid_1's auc: 0.74967\n",
      "[700]\ttraining's auc: 0.751719\tvalid_1's auc: 0.749758\n",
      "[750]\ttraining's auc: 0.751913\tvalid_1's auc: 0.749826\n",
      "[800]\ttraining's auc: 0.752116\tvalid_1's auc: 0.749897\n",
      "[850]\ttraining's auc: 0.752319\tvalid_1's auc: 0.74997\n",
      "[900]\ttraining's auc: 0.752512\tvalid_1's auc: 0.750026\n",
      "[950]\ttraining's auc: 0.75271\tvalid_1's auc: 0.750079\n",
      "[1000]\ttraining's auc: 0.752905\tvalid_1's auc: 0.750128\n",
      "Did not meet early stopping. Best iteration is:\n",
      "[1000]\ttraining's auc: 0.752905\tvalid_1's auc: 0.750128\n"
     ]
    },
    {
     "data": {
      "text/plain": [
       "[[{'learning_rate': 1.5}, {'max_depth': -1}, 0.74703312099168],\n",
       " [{'learning_rate': 0.5}, {'max_depth': -1}, 0.74703312099168],\n",
       " [{'learning_rate': 0.1}, {'max_depth': -1}, 0.74703312099168],\n",
       " [{'learning_rate': 0.05}, {'max_depth': -1}, 0.74703312099168],\n",
       " [{'learning_rate': 0.01}, {'max_depth': -1}, 0.74703312099168],\n",
       " [{'learning_rate': 0.005}, {'max_depth': -1}, 0.74703312099168]]"
      ]
     },
     "execution_count": 23,
     "metadata": {},
     "output_type": "execute_result"
    }
   ],
   "source": [
    "# 2.\n",
    "params = {\n",
    "    'objective': 'binary',\n",
    "    'num_rounds': 1000,\n",
    "    'seed': 42,\n",
    "    'metric': 'auc',\n",
    "    'learning_rate': 0.1,\n",
    "    'force_row_wise': True,\n",
    "    \n",
    "    'max_depth': -1,\n",
    "    'num_leaves': 1000,\n",
    "    \n",
    "    'min_child_samples': 100,\n",
    "      \n",
    "}\n",
    "\n",
    "search_cv = []\n",
    "search_param = {\n",
    "    'learning_rate': [1.5, 0.5, 0.1, 0.05, 0.01, 0.005],\n",
    "    'max_depth':[-1],\n",
    "}\n",
    "best = 0.\n",
    "\n",
    "p0, p1 = search_param.items()\n",
    "\n",
    "for i in progress_bar(p0[1]):\n",
    "    for j in progress_bar(p1[1]):\n",
    "        params[p0[0]] = i\n",
    "        params[p1[0]] = j\n",
    "        \n",
    "        model = lgb.LGBMClassifier(**params)\n",
    "        model.fit(\n",
    "            *trn_data,\n",
    "            eval_set=[trn_data, val_data], \n",
    "            verbose=50,\n",
    "            early_stopping_rounds=50,\n",
    "        )\n",
    "        score = model.evals_result_['valid_1']['auc'][0]\n",
    "        search_cv.append([{p0[0]: i}, {p1[0]: j}, score])\n",
    "        if score > best:\n",
    "            best = score\n",
    "            best_param = [{p0[0]: i}, {p1[0]: j}, score]\n",
    "search_cv"
   ]
  },
  {
   "cell_type": "code",
   "execution_count": null,
   "metadata": {
    "ExecuteTime": {
     "end_time": "2021-01-07T07:32:45.989842Z",
     "start_time": "2021-01-07T07:13:07.387Z"
    }
   },
   "outputs": [],
   "source": [
    "#lgb.plot_importance(model, importance_type='gain')"
   ]
  },
  {
   "cell_type": "code",
   "execution_count": 64,
   "metadata": {
    "ExecuteTime": {
     "end_time": "2021-01-07T07:10:01.146339Z",
     "start_time": "2021-01-07T07:10:01.142866Z"
    }
   },
   "outputs": [
    {
     "data": {
      "text/plain": [
       "0.7467622224838212"
      ]
     },
     "execution_count": 64,
     "metadata": {},
     "output_type": "execute_result"
    }
   ],
   "source": [
    "score = model.evals_result_['valid_1']['auc'][0]\n",
    "search_cv.append([{p0[0]: i}, {p1[0]: j}, score])\n",
    "if score > best:\n",
    "    best = score\n",
    "    best_param = [{p0[0]: i}, {p1[0]: j}, score]"
   ]
  },
  {
   "cell_type": "code",
   "execution_count": null,
   "metadata": {
    "ExecuteTime": {
     "end_time": "2021-01-07T07:32:45.990338Z",
     "start_time": "2021-01-07T07:13:07.389Z"
    }
   },
   "outputs": [],
   "source": [
    "#save_path = f'lgb_fold{n}.txt'\n",
    "#model.save_model(save_path)"
   ]
  },
  {
   "cell_type": "code",
   "execution_count": null,
   "metadata": {
    "ExecuteTime": {
     "end_time": "2021-01-07T07:32:45.990834Z",
     "start_time": "2021-01-07T07:13:07.389Z"
    }
   },
   "outputs": [],
   "source": [
    "#a = lgb.Booster(model_file=save_path)"
   ]
  },
  {
   "cell_type": "code",
   "execution_count": null,
   "metadata": {
    "ExecuteTime": {
     "end_time": "2021-01-07T07:32:45.991827Z",
     "start_time": "2021-01-07T07:13:07.390Z"
    }
   },
   "outputs": [],
   "source": [
    "#a.predict(train_df.loc[val_idx][features])"
   ]
  },
  {
   "cell_type": "code",
   "execution_count": null,
   "metadata": {
    "ExecuteTime": {
     "end_time": "2021-01-07T07:32:45.992322Z",
     "start_time": "2021-01-07T07:13:07.391Z"
    }
   },
   "outputs": [],
   "source": [
    "#model.predict(train_df.loc[val_idx][features])"
   ]
  },
  {
   "cell_type": "markdown",
   "metadata": {},
   "source": [
    "# inference"
   ]
  },
  {
   "cell_type": "code",
   "execution_count": null,
   "metadata": {},
   "outputs": [],
   "source": []
  }
 ],
 "metadata": {
  "kernelspec": {
   "display_name": "Python 3",
   "language": "python",
   "name": "python3"
  },
  "language_info": {
   "codemirror_mode": {
    "name": "ipython",
    "version": 3
   },
   "file_extension": ".py",
   "mimetype": "text/x-python",
   "name": "python",
   "nbconvert_exporter": "python",
   "pygments_lexer": "ipython3",
   "version": "3.7.6"
  },
  "toc": {
   "base_numbering": 1,
   "nav_menu": {},
   "number_sections": true,
   "sideBar": true,
   "skip_h1_title": false,
   "title_cell": "Table of Contents",
   "title_sidebar": "Contents",
   "toc_cell": false,
   "toc_position": {},
   "toc_section_display": true,
   "toc_window_display": false
  },
  "varInspector": {
   "cols": {
    "lenName": 16,
    "lenType": 16,
    "lenVar": 40
   },
   "kernels_config": {
    "python": {
     "delete_cmd_postfix": "",
     "delete_cmd_prefix": "del ",
     "library": "var_list.py",
     "varRefreshCmd": "print(var_dic_list())"
    },
    "r": {
     "delete_cmd_postfix": ") ",
     "delete_cmd_prefix": "rm(",
     "library": "var_list.r",
     "varRefreshCmd": "cat(var_dic_list()) "
    }
   },
   "types_to_exclude": [
    "module",
    "function",
    "builtin_function_or_method",
    "instance",
    "_Feature"
   ],
   "window_display": false
  }
 },
 "nbformat": 4,
 "nbformat_minor": 4
}
