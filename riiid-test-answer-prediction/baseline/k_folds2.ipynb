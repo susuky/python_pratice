{
 "cells": [
  {
   "cell_type": "code",
   "execution_count": 1,
   "metadata": {
    "ExecuteTime": {
     "end_time": "2021-01-07T11:53:24.378926Z",
     "start_time": "2021-01-07T11:53:23.396326Z"
    }
   },
   "outputs": [
    {
     "data": {
      "text/html": [
       "<style type='text/css'>\n",
       ".datatable table.frame { margin-bottom: 0; }\n",
       ".datatable table.frame thead { border-bottom: none; }\n",
       ".datatable table.frame tr.coltypes td {  color: #FFFFFF;  line-height: 6px;  padding: 0 0.5em;}\n",
       ".datatable .bool    { background: #DDDD99; }\n",
       ".datatable .object  { background: #565656; }\n",
       ".datatable .int     { background: #5D9E5D; }\n",
       ".datatable .float   { background: #4040CC; }\n",
       ".datatable .str     { background: #CC4040; }\n",
       ".datatable .row_index {  background: var(--jp-border-color3);  border-right: 1px solid var(--jp-border-color0);  color: var(--jp-ui-font-color3);  font-size: 9px;}\n",
       ".datatable .frame tr.coltypes .row_index {  background: var(--jp-border-color0);}\n",
       ".datatable th:nth-child(2) { padding-left: 12px; }\n",
       ".datatable .hellipsis {  color: var(--jp-cell-editor-border-color);}\n",
       ".datatable .vellipsis {  background: var(--jp-layout-color0);  color: var(--jp-cell-editor-border-color);}\n",
       ".datatable .na {  color: var(--jp-cell-editor-border-color);  font-size: 80%;}\n",
       ".datatable .footer { font-size: 9px; }\n",
       ".datatable .frame_dimensions {  background: var(--jp-border-color3);  border-top: 1px solid var(--jp-border-color0);  color: var(--jp-ui-font-color3);  display: inline-block;  opacity: 0.6;  padding: 1px 10px 1px 5px;}\n",
       "</style>\n"
      ],
      "text/plain": [
       "<IPython.core.display.HTML object>"
      ]
     },
     "metadata": {},
     "output_type": "display_data"
    }
   ],
   "source": [
    "import datatable as dt\n",
    "import gc\n",
    "import numpy as np\n",
    "import pandas as pd\n",
    "import matplotlib.pyplot as plt\n",
    "import pickle\n",
    "import seaborn as sns\n",
    "\n",
    "import lightgbm as lgb\n",
    "from fastprogress import progress_bar\n",
    "from collections import defaultdict\n",
    "from sklearn.model_selection import GroupKFold\n",
    "\n",
    "#import riiideducation"
   ]
  },
  {
   "cell_type": "code",
   "execution_count": 2,
   "metadata": {
    "ExecuteTime": {
     "end_time": "2021-01-07T07:13:08.268074Z",
     "start_time": "2021-01-07T07:13:08.265083Z"
    }
   },
   "outputs": [],
   "source": [
    "data_path = '../input/riiid-test-answer-prediction/train.csv'\n",
    "questions_path = '../input/riiid-test-answer-prediction/questions.csv'\n",
    "data_types_dict = {\n",
    "    'user_id': 'int32',\n",
    "    'content_id': 'int16',\n",
    "    'answered_correctly': 'int8',\n",
    "    'prior_question_elapsed_time': 'float32',\n",
    "    'prior_question_had_explanation': 'bool'\n",
    "}\n",
    "target = 'answered_correctly'"
   ]
  },
  {
   "cell_type": "code",
   "execution_count": 3,
   "metadata": {
    "ExecuteTime": {
     "end_time": "2021-01-07T07:13:15.276518Z",
     "start_time": "2021-01-07T07:13:08.269040Z"
    }
   },
   "outputs": [],
   "source": [
    "train_df = dt.fread(data_path, columns=set(data_types_dict.keys())).to_pandas()\n",
    "questions_df = pd.read_csv(\n",
    "    questions_path,\n",
    "    usecols=[0, 3],\n",
    "    dtype={'question_id': 'int16', 'part': 'int8'}\n",
    ")"
   ]
  },
  {
   "cell_type": "code",
   "execution_count": null,
   "metadata": {
    "code_folding": [
     0,
     126
    ]
   },
   "outputs": [],
   "source": [
    "def add_features(df, \n",
    "                 answered_correctly_u_count, \n",
    "                 answered_correctly_u_sum, \n",
    "                 elapsed_time_u_sum, \n",
    "                 explanation_u_sum, \n",
    "                 timestamp_u, \n",
    "                 timestamp_u_incorrect, \n",
    "                 answered_correctly_q_count, \n",
    "                 answered_correctly_q_sum, \n",
    "                 elapsed_time_q_sum, \n",
    "                 explanation_q_sum, \n",
    "                 answered_correctly_uq, \n",
    "                 update=True):\n",
    "    # -----------------------------------------------------------------------\n",
    "    # Client features\n",
    "    answered_correctly_u_avg = np.zeros(len(df), dtype = np.float32)\n",
    "    elapsed_time_u_avg = np.zeros(len(df), dtype = np.float32)\n",
    "    explanation_u_avg = np.zeros(len(df), dtype = np.float32)\n",
    "    timestamp_u_recency_1 = np.zeros(len(df), dtype = np.float32)\n",
    "    timestamp_u_recency_2 = np.zeros(len(df), dtype = np.float32)\n",
    "    timestamp_u_recency_3 = np.zeros(len(df), dtype = np.float32)\n",
    "    timestamp_u_incorrect_recency = np.zeros(len(df), dtype = np.float32)\n",
    "    # -----------------------------------------------------------------------\n",
    "    # Question features\n",
    "    answered_correctly_q_avg = np.zeros(len(df), dtype = np.float32)\n",
    "    elapsed_time_q_avg = np.zeros(len(df), dtype = np.float32)\n",
    "    explanation_q_avg = np.zeros(len(df), dtype = np.float32)\n",
    "    # -----------------------------------------------------------------------\n",
    "    # User Question\n",
    "    answered_correctly_uq_count = np.zeros(len(df), dtype = np.int32)\n",
    "    # -----------------------------------------------------------------------\n",
    "    \n",
    "    for num, row in enumerate(df[['user_id', 'answered_correctly', 'content_id', 'prior_question_elapsed_time', 'prior_question_had_explanation', 'timestamp']].values):\n",
    "        \n",
    "        # Client features assignation\n",
    "        # ------------------------------------------------------------------\n",
    "        if answered_correctly_u_count[row[0]] != 0:\n",
    "            answered_correctly_u_avg[num] = answered_correctly_u_sum[row[0]] / answered_correctly_u_count[row[0]]\n",
    "            elapsed_time_u_avg[num] = elapsed_time_u_sum[row[0]] / answered_correctly_u_count[row[0]]\n",
    "            explanation_u_avg[num] = explanation_u_sum[row[0]] / answered_correctly_u_count[row[0]]\n",
    "        else:\n",
    "            answered_correctly_u_avg[num] = np.nan\n",
    "            elapsed_time_u_avg[num] = np.nan\n",
    "            explanation_u_avg[num] = np.nan\n",
    "            \n",
    "        if len(timestamp_u[row[0]]) == 0:\n",
    "            timestamp_u_recency_1[num] = np.nan\n",
    "            timestamp_u_recency_2[num] = np.nan\n",
    "            timestamp_u_recency_3[num] = np.nan\n",
    "        elif len(timestamp_u[row[0]]) == 1:\n",
    "            timestamp_u_recency_1[num] = row[5] - timestamp_u[row[0]][0]\n",
    "            timestamp_u_recency_2[num] = np.nan\n",
    "            timestamp_u_recency_3[num] = np.nan\n",
    "        elif len(timestamp_u[row[0]]) == 2:\n",
    "            timestamp_u_recency_1[num] = row[5] - timestamp_u[row[0]][1]\n",
    "            timestamp_u_recency_2[num] = row[5] - timestamp_u[row[0]][0]\n",
    "            timestamp_u_recency_3[num] = np.nan\n",
    "        elif len(timestamp_u[row[0]]) == 3:\n",
    "            timestamp_u_recency_1[num] = row[5] - timestamp_u[row[0]][2]\n",
    "            timestamp_u_recency_2[num] = row[5] - timestamp_u[row[0]][1]\n",
    "            timestamp_u_recency_3[num] = row[5] - timestamp_u[row[0]][0]\n",
    "        \n",
    "        if len(timestamp_u_incorrect[row[0]]) == 0:\n",
    "            timestamp_u_incorrect_recency[num] = np.nan\n",
    "        else:\n",
    "            timestamp_u_incorrect_recency[num] = row[5] - timestamp_u_incorrect[row[0]][0]\n",
    "            \n",
    "        # ------------------------------------------------------------------\n",
    "        # Question features assignation\n",
    "        if answered_correctly_q_count[row[2]] != 0:\n",
    "            answered_correctly_q_avg[num] = answered_correctly_q_sum[row[2]] / answered_correctly_q_count[row[2]]\n",
    "            elapsed_time_q_avg[num] = elapsed_time_q_sum[row[2]] / answered_correctly_q_count[row[2]]\n",
    "            explanation_q_avg[num] = explanation_q_sum[row[2]] / answered_correctly_q_count[row[2]]\n",
    "        else:\n",
    "            answered_correctly_q_avg[num] = np.nan\n",
    "            elapsed_time_q_avg[num] = np.nan\n",
    "            explanation_q_avg[num] = np.nan\n",
    "        # ------------------------------------------------------------------\n",
    "        # Client Question assignation\n",
    "        answered_correctly_uq_count[num] = answered_correctly_uq[row[0]][row[2]]\n",
    "        # ------------------------------------------------------------------\n",
    "        # ------------------------------------------------------------------\n",
    "        # Client features updates\n",
    "        answered_correctly_u_count[row[0]] += 1\n",
    "        elapsed_time_u_sum[row[0]] += row[3]\n",
    "        explanation_u_sum[row[0]] += int(row[4])\n",
    "        if len(timestamp_u[row[0]]) == 3:\n",
    "            timestamp_u[row[0]].pop(0)\n",
    "            timestamp_u[row[0]].append(row[5])\n",
    "        else:\n",
    "            timestamp_u[row[0]].append(row[5])\n",
    "        # ------------------------------------------------------------------\n",
    "        # Question features updates\n",
    "        answered_correctly_q_count[row[2]] += 1\n",
    "        elapsed_time_q_sum[row[2]] += row[3]\n",
    "        explanation_q_sum[row[2]] += int(row[4])\n",
    "        # ------------------------------------------------------------------\n",
    "        # Client Question updates\n",
    "        answered_correctly_uq[row[0]][row[2]] += 1\n",
    "        # ------------------------------------------------------------------\n",
    "        # Flag for training and inference\n",
    "        if update:\n",
    "            # ------------------------------------------------------------------\n",
    "            # Client features updates\n",
    "            answered_correctly_u_sum[row[0]] += row[1]\n",
    "            if row[1] == 0:\n",
    "                if len(timestamp_u_incorrect[row[0]]) == 1:\n",
    "                    timestamp_u_incorrect[row[0]].pop(0)\n",
    "                    timestamp_u_incorrect[row[0]].append(row[5])\n",
    "                else:\n",
    "                    timestamp_u_incorrect[row[0]].append(row[5])\n",
    "            \n",
    "            # ------------------------------------------------------------------\n",
    "            # Question features updates\n",
    "            answered_correctly_q_sum[row[2]] += row[1]\n",
    "            # ------------------------------------------------------------------\n",
    "             \n",
    "            \n",
    "    user_df = pd.DataFrame({'answered_correctly_u_avg': answered_correctly_u_avg, 'elapsed_time_u_avg': elapsed_time_u_avg, 'explanation_u_avg': explanation_u_avg, \n",
    "                            'answered_correctly_q_avg': answered_correctly_q_avg, 'elapsed_time_q_avg': elapsed_time_q_avg, 'explanation_q_avg': explanation_q_avg, \n",
    "                            'answered_correctly_uq_count': answered_correctly_uq_count, 'timestamp_u_recency_1': timestamp_u_recency_1, 'timestamp_u_recency_2': timestamp_u_recency_2,\n",
    "                            'timestamp_u_recency_3': timestamp_u_recency_3, 'timestamp_u_incorrect_recency': timestamp_u_incorrect_recency})\n",
    "    \n",
    "    df = pd.concat([df, user_df], axis = 1)\n",
    "    return df\n",
    "        \n",
    "def update_features(df, \n",
    "                    answered_correctly_u_sum, \n",
    "                    answered_correctly_q_sum, \n",
    "                    timestamp_u_incorrect):\n",
    "    for row in df[['user_id', 'answered_correctly', 'content_id', 'content_type_id', 'timestamp']].values:\n",
    "        if row[3] == 0:\n",
    "            # ------------------------------------------------------------------\n",
    "            # Client features updates\n",
    "            answered_correctly_u_sum[row[0]] += row[1]\n",
    "            if row[1] == 0:\n",
    "                if len(timestamp_u_incorrect[row[0]]) == 1:\n",
    "                    timestamp_u_incorrect[row[0]].pop(0)\n",
    "                    timestamp_u_incorrect[row[0]].append(row[4])\n",
    "                else:\n",
    "                    timestamp_u_incorrect[row[0]].append(row[4])\n",
    "            # ------------------------------------------------------------------\n",
    "            # Question features updates\n",
    "            answered_correctly_q_sum[row[2]] += row[1]\n",
    "            # ------------------------------------------------------------------\n",
    "            \n",
    "    return\n",
    "\n",
    "def read_and_preprocess(feature_engineering=False):\n",
    "    \n",
    "    train_pickle = '../input/riiid-cross-validation-files/cv1_train.pickle'\n",
    "    valid_pickle = '../input/riiid-cross-validation-files/cv1_valid.pickle'\n",
    "    question_file = '../input/riiid-test-answer-prediction/questions.csv'\n",
    "    \n",
    "    # Read data\n",
    "    feld_needed = ['timestamp', \n",
    "                   'user_id', \n",
    "                   'answered_correctly', \n",
    "                   'content_id', \n",
    "                   'content_type_id', \n",
    "                   'prior_question_elapsed_time', \n",
    "                   'prior_question_had_explanation']\n",
    "    train = pd.read_pickle(train_pickle)[feld_needed]\n",
    "    valid = pd.read_pickle(valid_pickle)[feld_needed]\n",
    "    # Delete some trianing data to don't have ram problems\n",
    "    if feature_engineering:\n",
    "        train = train.iloc[-40000000:]\n",
    "    \n",
    "    # Filter by content_type_id to discard lectures\n",
    "    train = train.loc[train.content_type_id == False].reset_index(drop = True)\n",
    "    valid = valid.loc[valid.content_type_id == False].reset_index(drop = True)\n",
    "    \n",
    "    # Changing dtype to avoid lightgbm error\n",
    "    train['prior_question_had_explanation'] = train.prior_question_had_explanation.fillna(False).astype('int8')\n",
    "    valid['prior_question_had_explanation'] = valid.prior_question_had_explanation.fillna(False).astype('int8')\n",
    "    \n",
    "    # Fill prior question elapsed time with the mean\n",
    "    prior_question_elapsed_time_mean = train['prior_question_elapsed_time'].dropna().mean()\n",
    "    train['prior_question_elapsed_time'].fillna(prior_question_elapsed_time_mean, inplace=True)\n",
    "    valid['prior_question_elapsed_time'].fillna(prior_question_elapsed_time_mean, inplace=True)\n",
    "    \n",
    "    # Merge with question dataframe\n",
    "    questions_df = pd.read_csv(question_file)\n",
    "    questions_df['part'] = questions_df['part'].astype(np.int32)\n",
    "    questions_df['bundle_id'] = questions_df['bundle_id'].astype(np.int32)\n",
    "    \n",
    "    train = pd.merge(train, \n",
    "                     questions_df[['question_id', 'part']], \n",
    "                     left_on='content_id', \n",
    "                     right_on='question_id', \n",
    "                     how='left')\n",
    "    valid = pd.merge(valid, \n",
    "                     questions_df[['question_id', 'part']], \n",
    "                     left_on='content_id', \n",
    "                     right_on='question_id', \n",
    "                     how='left')\n",
    "    \n",
    "    # Client dictionaries\n",
    "    answered_correctly_u_count = defaultdict(int)\n",
    "    answered_correctly_u_sum = defaultdict(int)\n",
    "    elapsed_time_u_sum = defaultdict(int)\n",
    "    explanation_u_sum = defaultdict(int)\n",
    "    timestamp_u = defaultdict(list)\n",
    "    timestamp_u_incorrect = defaultdict(list)\n",
    "    \n",
    "    # Question dictionaries\n",
    "    answered_correctly_q_count = defaultdict(int)\n",
    "    answered_correctly_q_sum = defaultdict(int)\n",
    "    elapsed_time_q_sum = defaultdict(int)\n",
    "    explanation_q_sum = defaultdict(int)\n",
    "    \n",
    "    # Client Question dictionary\n",
    "    answered_correctly_uq = defaultdict(lambda: defaultdict(int))\n",
    "    \n",
    "    print('User feature calculation started...')\n",
    "    print('\\n')\n",
    "    train = add_features(train, \n",
    "                         answered_correctly_u_count, \n",
    "                         answered_correctly_u_sum, \n",
    "                         elapsed_time_u_sum, \n",
    "                         explanation_u_sum, \n",
    "                         timestamp_u, \n",
    "                         timestamp_u_incorrect, \n",
    "                         answered_correctly_q_count, \n",
    "                         answered_correctly_q_sum, \n",
    "                         elapsed_time_q_sum, \n",
    "                         explanation_q_sum, \n",
    "                         answered_correctly_uq)\n",
    "    valid = add_features(valid, \n",
    "                         answered_correctly_u_count, \n",
    "                         answered_correctly_u_sum, \n",
    "                         elapsed_time_u_sum, \n",
    "                         explanation_u_sum, \n",
    "                         timestamp_u, \n",
    "                         timestamp_u_incorrect, \n",
    "                         answered_correctly_q_count, \n",
    "                         answered_correctly_q_sum, \n",
    "                         elapsed_time_q_sum, \n",
    "                         explanation_q_sum, \n",
    "                         answered_correctly_uq)\n",
    "    gc.collect()\n",
    "    print('User feature calculation completed...')\n",
    "    print('\\n')\n",
    "    \n",
    "    features_dicts = {\n",
    "        'answered_correctly_u_count': answered_correctly_u_count,\n",
    "        'answered_correctly_u_sum': answered_correctly_u_sum,\n",
    "        'elapsed_time_u_sum': elapsed_time_u_sum,\n",
    "        'explanation_u_sum': explanation_u_sum,\n",
    "        'answered_correctly_q_count': answered_correctly_q_count,\n",
    "        'answered_correctly_q_sum': answered_correctly_q_sum,\n",
    "        'elapsed_time_q_sum': elapsed_time_q_sum,\n",
    "        'explanation_q_sum': explanation_q_sum,\n",
    "        'answered_correctly_uq': answered_correctly_uq,\n",
    "        'timestamp_u': timestamp_u,\n",
    "        'timestamp_u_incorrect': timestamp_u_incorrect\n",
    "    }\n",
    "    \n",
    "    return train, valid, questions_df, prior_question_elapsed_time_mean, features_dicts"
   ]
  },
  {
   "cell_type": "code",
   "execution_count": 4,
   "metadata": {
    "ExecuteTime": {
     "end_time": "2021-01-07T07:14:02.510586Z",
     "start_time": "2021-01-07T07:13:15.277014Z"
    }
   },
   "outputs": [
    {
     "data": {
      "text/html": [
       "<div>\n",
       "<style scoped>\n",
       "    .dataframe tbody tr th:only-of-type {\n",
       "        vertical-align: middle;\n",
       "    }\n",
       "\n",
       "    .dataframe tbody tr th {\n",
       "        vertical-align: top;\n",
       "    }\n",
       "\n",
       "    .dataframe thead th {\n",
       "        text-align: right;\n",
       "    }\n",
       "</style>\n",
       "<table border=\"1\" class=\"dataframe\">\n",
       "  <thead>\n",
       "    <tr style=\"text-align: right;\">\n",
       "      <th></th>\n",
       "      <th>user_id</th>\n",
       "      <th>content_id</th>\n",
       "      <th>answered_correctly</th>\n",
       "      <th>prior_question_elapsed_time</th>\n",
       "      <th>prior_question_had_explanation</th>\n",
       "      <th>user_correctness</th>\n",
       "      <th>part</th>\n",
       "      <th>content_count</th>\n",
       "    </tr>\n",
       "  </thead>\n",
       "  <tbody>\n",
       "    <tr>\n",
       "      <th>0</th>\n",
       "      <td>115</td>\n",
       "      <td>0.784906</td>\n",
       "      <td>1</td>\n",
       "      <td>21000.0</td>\n",
       "      <td>False</td>\n",
       "      <td>0.812500</td>\n",
       "      <td>1</td>\n",
       "      <td>21307</td>\n",
       "    </tr>\n",
       "    <tr>\n",
       "      <th>1</th>\n",
       "      <td>115</td>\n",
       "      <td>0.730689</td>\n",
       "      <td>0</td>\n",
       "      <td>20000.0</td>\n",
       "      <td>False</td>\n",
       "      <td>0.823529</td>\n",
       "      <td>1</td>\n",
       "      <td>31057</td>\n",
       "    </tr>\n",
       "    <tr>\n",
       "      <th>2</th>\n",
       "      <td>115</td>\n",
       "      <td>0.766426</td>\n",
       "      <td>1</td>\n",
       "      <td>18000.0</td>\n",
       "      <td>False</td>\n",
       "      <td>0.777778</td>\n",
       "      <td>1</td>\n",
       "      <td>22708</td>\n",
       "    </tr>\n",
       "    <tr>\n",
       "      <th>3</th>\n",
       "      <td>115</td>\n",
       "      <td>0.727708</td>\n",
       "      <td>1</td>\n",
       "      <td>17000.0</td>\n",
       "      <td>False</td>\n",
       "      <td>0.789474</td>\n",
       "      <td>1</td>\n",
       "      <td>36314</td>\n",
       "    </tr>\n",
       "    <tr>\n",
       "      <th>4</th>\n",
       "      <td>115</td>\n",
       "      <td>0.613215</td>\n",
       "      <td>0</td>\n",
       "      <td>29000.0</td>\n",
       "      <td>False</td>\n",
       "      <td>0.800000</td>\n",
       "      <td>1</td>\n",
       "      <td>31736</td>\n",
       "    </tr>\n",
       "    <tr>\n",
       "      <th>...</th>\n",
       "      <td>...</td>\n",
       "      <td>...</td>\n",
       "      <td>...</td>\n",
       "      <td>...</td>\n",
       "      <td>...</td>\n",
       "      <td>...</td>\n",
       "      <td>...</td>\n",
       "      <td>...</td>\n",
       "    </tr>\n",
       "    <tr>\n",
       "      <th>10746450</th>\n",
       "      <td>2147482888</td>\n",
       "      <td>0.741063</td>\n",
       "      <td>1</td>\n",
       "      <td>18000.0</td>\n",
       "      <td>True</td>\n",
       "      <td>0.500000</td>\n",
       "      <td>5</td>\n",
       "      <td>4364</td>\n",
       "    </tr>\n",
       "    <tr>\n",
       "      <th>10746451</th>\n",
       "      <td>2147482888</td>\n",
       "      <td>0.527789</td>\n",
       "      <td>1</td>\n",
       "      <td>14000.0</td>\n",
       "      <td>True</td>\n",
       "      <td>0.521739</td>\n",
       "      <td>5</td>\n",
       "      <td>10220</td>\n",
       "    </tr>\n",
       "    <tr>\n",
       "      <th>10746452</th>\n",
       "      <td>2147482888</td>\n",
       "      <td>0.616202</td>\n",
       "      <td>1</td>\n",
       "      <td>14000.0</td>\n",
       "      <td>True</td>\n",
       "      <td>0.541667</td>\n",
       "      <td>5</td>\n",
       "      <td>31415</td>\n",
       "    </tr>\n",
       "    <tr>\n",
       "      <th>10746453</th>\n",
       "      <td>2147482888</td>\n",
       "      <td>0.661683</td>\n",
       "      <td>0</td>\n",
       "      <td>22000.0</td>\n",
       "      <td>True</td>\n",
       "      <td>0.560000</td>\n",
       "      <td>5</td>\n",
       "      <td>5752</td>\n",
       "    </tr>\n",
       "    <tr>\n",
       "      <th>10746454</th>\n",
       "      <td>2147482888</td>\n",
       "      <td>0.657453</td>\n",
       "      <td>1</td>\n",
       "      <td>29000.0</td>\n",
       "      <td>True</td>\n",
       "      <td>0.538462</td>\n",
       "      <td>5</td>\n",
       "      <td>6259</td>\n",
       "    </tr>\n",
       "  </tbody>\n",
       "</table>\n",
       "<p>10746455 rows × 8 columns</p>\n",
       "</div>"
      ],
      "text/plain": [
       "             user_id  content_id  answered_correctly  \\\n",
       "0                115    0.784906                   1   \n",
       "1                115    0.730689                   0   \n",
       "2                115    0.766426                   1   \n",
       "3                115    0.727708                   1   \n",
       "4                115    0.613215                   0   \n",
       "...              ...         ...                 ...   \n",
       "10746450  2147482888    0.741063                   1   \n",
       "10746451  2147482888    0.527789                   1   \n",
       "10746452  2147482888    0.616202                   1   \n",
       "10746453  2147482888    0.661683                   0   \n",
       "10746454  2147482888    0.657453                   1   \n",
       "\n",
       "          prior_question_elapsed_time  prior_question_had_explanation  \\\n",
       "0                             21000.0                           False   \n",
       "1                             20000.0                           False   \n",
       "2                             18000.0                           False   \n",
       "3                             17000.0                           False   \n",
       "4                             29000.0                           False   \n",
       "...                               ...                             ...   \n",
       "10746450                      18000.0                            True   \n",
       "10746451                      14000.0                            True   \n",
       "10746452                      14000.0                            True   \n",
       "10746453                      22000.0                            True   \n",
       "10746454                      29000.0                            True   \n",
       "\n",
       "          user_correctness  part  content_count  \n",
       "0                 0.812500     1          21307  \n",
       "1                 0.823529     1          31057  \n",
       "2                 0.777778     1          22708  \n",
       "3                 0.789474     1          36314  \n",
       "4                 0.800000     1          31736  \n",
       "...                    ...   ...            ...  \n",
       "10746450          0.500000     5           4364  \n",
       "10746451          0.521739     5          10220  \n",
       "10746452          0.541667     5          31415  \n",
       "10746453          0.560000     5           5752  \n",
       "10746454          0.538462     5           6259  \n",
       "\n",
       "[10746455 rows x 8 columns]"
      ]
     },
     "execution_count": 4,
     "metadata": {},
     "output_type": "execute_result"
    }
   ],
   "source": [
    "# preprocess\n",
    "train_df = train_df[train_df[target] != -1].reset_index(drop=True)\n",
    "train_df['prior_question_had_explanation'].fillna(False, inplace=True)\n",
    "train_df = train_df.astype(data_types_dict)\n",
    "\n",
    "train_df['lag'] = train_df.groupby('user_id')[target].shift()\n",
    "cum = train_df.groupby('user_id')['lag'].agg(['cumsum', 'cumcount'])\n",
    "train_df['user_correctness'] = cum['cumsum'] / cum['cumcount']\n",
    "train_df.drop(columns=['lag'], inplace=True)\n",
    "\n",
    "user_agg = train_df.groupby('user_id')[target].agg(['sum', 'count'])\n",
    "content_agg = train_df.groupby('content_id')[target].agg(['sum', 'count'])\n",
    "\n",
    "train_df = train_df.groupby('user_id').tail(30).reset_index(drop=True)\n",
    "\n",
    "train_df = pd.merge(train_df, \n",
    "                    questions_df,\n",
    "                    left_on='content_id', \n",
    "                    right_on='question_id', \n",
    "                    how='left')\n",
    "train_df.drop(columns=['question_id'], inplace=True)\n",
    "\n",
    "train_df['content_count'] = train_df['content_id'].map(content_agg['count']).astype('int32')\n",
    "train_df['content_id'] = train_df['content_id'].map(content_agg['sum'] / content_agg['count'])\n",
    "\n",
    "train_df"
   ]
  },
  {
   "cell_type": "code",
   "execution_count": 5,
   "metadata": {
    "ExecuteTime": {
     "end_time": "2021-01-07T07:14:03.818037Z",
     "start_time": "2021-01-07T07:14:02.511576Z"
    }
   },
   "outputs": [
    {
     "name": "stdout",
     "output_type": "stream",
     "text": [
      "0 (array([       0,        1,        2, ..., 10746452, 10746453, 10746454]), array([     109,      110,      111, ..., 10746335, 10746336, 10746337]))\n",
      "1 (array([       0,        1,        2, ..., 10746452, 10746453, 10746454]), array([     156,      157,      158, ..., 10746305, 10746306, 10746307]))\n",
      "2 (array([       0,        1,        2, ..., 10746452, 10746453, 10746454]), array([     139,      140,      141, ..., 10746365, 10746366, 10746367]))\n",
      "3 (array([       0,        1,        2, ..., 10746452, 10746453, 10746454]), array([      30,       31,       32, ..., 10746041, 10746042, 10746043]))\n",
      "4 (array([      30,       31,       32, ..., 10746365, 10746366, 10746367]), array([       0,        1,        2, ..., 10746452, 10746453, 10746454]))\n"
     ]
    }
   ],
   "source": [
    "gkf = GroupKFold(5)\n",
    "for n, fold_idx in enumerate(gkf.split(train_df, groups=train_df.user_id)):\n",
    "    print(n, fold_idx)"
   ]
  },
  {
   "cell_type": "code",
   "execution_count": 6,
   "metadata": {
    "ExecuteTime": {
     "end_time": "2021-01-07T07:14:05.870978Z",
     "start_time": "2021-01-07T07:14:03.819030Z"
    }
   },
   "outputs": [],
   "source": [
    "features = [\n",
    "    'content_id', \n",
    "    'prior_question_elapsed_time',\n",
    "    'prior_question_had_explanation', \n",
    "    'user_correctness', \n",
    "    'part',\n",
    "    'content_count'\n",
    "]\n",
    "\n",
    "trn_idx, val_idx = fold_idx\n",
    "\n",
    "trn_data = (train_df.loc[trn_idx][features], train_df.loc[trn_idx][target])\n",
    "val_data = (train_df.loc[val_idx][features], train_df.loc[val_idx][target])"
   ]
  },
  {
   "cell_type": "markdown",
   "metadata": {},
   "source": [
    "# 1."
   ]
  },
  {
   "cell_type": "code",
   "execution_count": 23,
   "metadata": {
    "ExecuteTime": {
     "end_time": "2021-01-07T11:49:28.618393Z",
     "start_time": "2021-01-07T11:04:07.424701Z"
    }
   },
   "outputs": [
    {
     "data": {
      "text/html": [
       "\n",
       "    <div>\n",
       "        <style>\n",
       "            /* Turns off some styling */\n",
       "            progress {\n",
       "                /* gets rid of default border in Firefox and Opera. */\n",
       "                border: none;\n",
       "                /* Needs to be in here for Safari polyfill so background images work as expected. */\n",
       "                background-size: auto;\n",
       "            }\n",
       "            .progress-bar-interrupted, .progress-bar-interrupted::-webkit-progress-bar {\n",
       "                background: #F44336;\n",
       "            }\n",
       "        </style>\n",
       "      <progress value='6' class='' max='6' style='width:300px; height:20px; vertical-align: middle;'></progress>\n",
       "      100.00% [6/6 45:21<00:00]\n",
       "    </div>\n",
       "    "
      ],
      "text/plain": [
       "<IPython.core.display.HTML object>"
      ]
     },
     "metadata": {},
     "output_type": "display_data"
    },
    {
     "data": {
      "text/html": [
       "\n",
       "    <div>\n",
       "        <style>\n",
       "            /* Turns off some styling */\n",
       "            progress {\n",
       "                /* gets rid of default border in Firefox and Opera. */\n",
       "                border: none;\n",
       "                /* Needs to be in here for Safari polyfill so background images work as expected. */\n",
       "                background-size: auto;\n",
       "            }\n",
       "            .progress-bar-interrupted, .progress-bar-interrupted::-webkit-progress-bar {\n",
       "                background: #F44336;\n",
       "            }\n",
       "        </style>\n",
       "      <progress value='1' class='' max='1' style='width:300px; height:20px; vertical-align: middle;'></progress>\n",
       "      100.00% [1/1 00:47<00:00]\n",
       "    </div>\n",
       "    "
      ],
      "text/plain": [
       "<IPython.core.display.HTML object>"
      ]
     },
     "metadata": {},
     "output_type": "display_data"
    },
    {
     "name": "stderr",
     "output_type": "stream",
     "text": [
      "C:\\Users\\utl\\anaconda3\\lib\\site-packages\\lightgbm\\engine.py:151: UserWarning: Found `num_rounds` in params. Will use it instead of argument\n",
      "  warnings.warn(\"Found `{}` in params. Will use it instead of argument\".format(alias))\n"
     ]
    },
    {
     "name": "stdout",
     "output_type": "stream",
     "text": [
      "Training until validation scores don't improve for 50 rounds\n",
      "[50]\ttraining's auc: 0.75706\tvalid_1's auc: 0.735243\n",
      "Early stopping, best iteration is:\n",
      "[1]\ttraining's auc: 0.747795\tvalid_1's auc: 0.747033\n"
     ]
    },
    {
     "data": {
      "text/html": [
       "\n",
       "    <div>\n",
       "        <style>\n",
       "            /* Turns off some styling */\n",
       "            progress {\n",
       "                /* gets rid of default border in Firefox and Opera. */\n",
       "                border: none;\n",
       "                /* Needs to be in here for Safari polyfill so background images work as expected. */\n",
       "                background-size: auto;\n",
       "            }\n",
       "            .progress-bar-interrupted, .progress-bar-interrupted::-webkit-progress-bar {\n",
       "                background: #F44336;\n",
       "            }\n",
       "        </style>\n",
       "      <progress value='1' class='' max='1' style='width:300px; height:20px; vertical-align: middle;'></progress>\n",
       "      100.00% [1/1 00:58<00:00]\n",
       "    </div>\n",
       "    "
      ],
      "text/plain": [
       "<IPython.core.display.HTML object>"
      ]
     },
     "metadata": {},
     "output_type": "display_data"
    },
    {
     "name": "stdout",
     "output_type": "stream",
     "text": [
      "Training until validation scores don't improve for 50 rounds\n",
      "[50]\ttraining's auc: 0.758993\tvalid_1's auc: 0.748098\n",
      "Early stopping, best iteration is:\n",
      "[10]\ttraining's auc: 0.752384\tvalid_1's auc: 0.749445\n"
     ]
    },
    {
     "data": {
      "text/html": [
       "\n",
       "    <div>\n",
       "        <style>\n",
       "            /* Turns off some styling */\n",
       "            progress {\n",
       "                /* gets rid of default border in Firefox and Opera. */\n",
       "                border: none;\n",
       "                /* Needs to be in here for Safari polyfill so background images work as expected. */\n",
       "                background-size: auto;\n",
       "            }\n",
       "            .progress-bar-interrupted, .progress-bar-interrupted::-webkit-progress-bar {\n",
       "                background: #F44336;\n",
       "            }\n",
       "        </style>\n",
       "      <progress value='1' class='' max='1' style='width:300px; height:20px; vertical-align: middle;'></progress>\n",
       "      100.00% [1/1 02:27<00:00]\n",
       "    </div>\n",
       "    "
      ],
      "text/plain": [
       "<IPython.core.display.HTML object>"
      ]
     },
     "metadata": {},
     "output_type": "display_data"
    },
    {
     "name": "stdout",
     "output_type": "stream",
     "text": [
      "Training until validation scores don't improve for 50 rounds\n",
      "[50]\ttraining's auc: 0.752884\tvalid_1's auc: 0.750062\n",
      "[100]\ttraining's auc: 0.755495\tvalid_1's auc: 0.75028\n",
      "Early stopping, best iteration is:\n",
      "[95]\ttraining's auc: 0.755374\tvalid_1's auc: 0.75029\n"
     ]
    },
    {
     "data": {
      "text/html": [
       "\n",
       "    <div>\n",
       "        <style>\n",
       "            /* Turns off some styling */\n",
       "            progress {\n",
       "                /* gets rid of default border in Firefox and Opera. */\n",
       "                border: none;\n",
       "                /* Needs to be in here for Safari polyfill so background images work as expected. */\n",
       "                background-size: auto;\n",
       "            }\n",
       "            .progress-bar-interrupted, .progress-bar-interrupted::-webkit-progress-bar {\n",
       "                background: #F44336;\n",
       "            }\n",
       "        </style>\n",
       "      <progress value='1' class='' max='1' style='width:300px; height:20px; vertical-align: middle;'></progress>\n",
       "      100.00% [1/1 04:29<00:00]\n",
       "    </div>\n",
       "    "
      ],
      "text/plain": [
       "<IPython.core.display.HTML object>"
      ]
     },
     "metadata": {},
     "output_type": "display_data"
    },
    {
     "name": "stdout",
     "output_type": "stream",
     "text": [
      "Training until validation scores don't improve for 50 rounds\n",
      "[50]\ttraining's auc: 0.750837\tvalid_1's auc: 0.749346\n",
      "[100]\ttraining's auc: 0.75292\tvalid_1's auc: 0.750134\n",
      "[150]\ttraining's auc: 0.75443\tvalid_1's auc: 0.750303\n",
      "[200]\ttraining's auc: 0.755632\tvalid_1's auc: 0.75035\n",
      "[250]\ttraining's auc: 0.756651\tvalid_1's auc: 0.750328\n",
      "Early stopping, best iteration is:\n",
      "[206]\ttraining's auc: 0.755756\tvalid_1's auc: 0.750352\n"
     ]
    },
    {
     "data": {
      "text/html": [
       "\n",
       "    <div>\n",
       "        <style>\n",
       "            /* Turns off some styling */\n",
       "            progress {\n",
       "                /* gets rid of default border in Firefox and Opera. */\n",
       "                border: none;\n",
       "                /* Needs to be in here for Safari polyfill so background images work as expected. */\n",
       "                background-size: auto;\n",
       "            }\n",
       "            .progress-bar-interrupted, .progress-bar-interrupted::-webkit-progress-bar {\n",
       "                background: #F44336;\n",
       "            }\n",
       "        </style>\n",
       "      <progress value='1' class='' max='1' style='width:300px; height:20px; vertical-align: middle;'></progress>\n",
       "      100.00% [1/1 17:33<00:00]\n",
       "    </div>\n",
       "    "
      ],
      "text/plain": [
       "<IPython.core.display.HTML object>"
      ]
     },
     "metadata": {},
     "output_type": "display_data"
    },
    {
     "name": "stdout",
     "output_type": "stream",
     "text": [
      "Training until validation scores don't improve for 50 rounds\n",
      "[50]\ttraining's auc: 0.749033\tvalid_1's auc: 0.748184\n",
      "[100]\ttraining's auc: 0.749528\tvalid_1's auc: 0.748554\n",
      "[150]\ttraining's auc: 0.749974\tvalid_1's auc: 0.74885\n",
      "[200]\ttraining's auc: 0.750401\tvalid_1's auc: 0.749104\n",
      "[250]\ttraining's auc: 0.750846\tvalid_1's auc: 0.749355\n",
      "[300]\ttraining's auc: 0.751284\tvalid_1's auc: 0.749566\n",
      "[350]\ttraining's auc: 0.751711\tvalid_1's auc: 0.749752\n",
      "[400]\ttraining's auc: 0.752131\tvalid_1's auc: 0.749916\n",
      "[450]\ttraining's auc: 0.752524\tvalid_1's auc: 0.750044\n",
      "[500]\ttraining's auc: 0.75292\tvalid_1's auc: 0.750152\n",
      "[550]\ttraining's auc: 0.753264\tvalid_1's auc: 0.75022\n",
      "[600]\ttraining's auc: 0.753603\tvalid_1's auc: 0.750275\n",
      "[650]\ttraining's auc: 0.753921\tvalid_1's auc: 0.750314\n",
      "[700]\ttraining's auc: 0.75419\tvalid_1's auc: 0.750334\n",
      "[750]\ttraining's auc: 0.754454\tvalid_1's auc: 0.750349\n",
      "[800]\ttraining's auc: 0.754704\tvalid_1's auc: 0.75036\n",
      "[850]\ttraining's auc: 0.75496\tvalid_1's auc: 0.750368\n",
      "[900]\ttraining's auc: 0.755199\tvalid_1's auc: 0.750374\n",
      "[950]\ttraining's auc: 0.755417\tvalid_1's auc: 0.750374\n",
      "Early stopping, best iteration is:\n",
      "[929]\ttraining's auc: 0.75533\tvalid_1's auc: 0.750376\n"
     ]
    },
    {
     "data": {
      "text/html": [
       "\n",
       "    <div>\n",
       "        <style>\n",
       "            /* Turns off some styling */\n",
       "            progress {\n",
       "                /* gets rid of default border in Firefox and Opera. */\n",
       "                border: none;\n",
       "                /* Needs to be in here for Safari polyfill so background images work as expected. */\n",
       "                background-size: auto;\n",
       "            }\n",
       "            .progress-bar-interrupted, .progress-bar-interrupted::-webkit-progress-bar {\n",
       "                background: #F44336;\n",
       "            }\n",
       "        </style>\n",
       "      <progress value='1' class='' max='1' style='width:300px; height:20px; vertical-align: middle;'></progress>\n",
       "      100.00% [1/1 19:04<00:00]\n",
       "    </div>\n",
       "    "
      ],
      "text/plain": [
       "<IPython.core.display.HTML object>"
      ]
     },
     "metadata": {},
     "output_type": "display_data"
    },
    {
     "name": "stdout",
     "output_type": "stream",
     "text": [
      "Training until validation scores don't improve for 50 rounds\n",
      "[50]\ttraining's auc: 0.748653\tvalid_1's auc: 0.747865\n",
      "[100]\ttraining's auc: 0.749032\tvalid_1's auc: 0.748184\n",
      "[150]\ttraining's auc: 0.749295\tvalid_1's auc: 0.74839\n",
      "[200]\ttraining's auc: 0.749529\tvalid_1's auc: 0.748552\n",
      "[250]\ttraining's auc: 0.749752\tvalid_1's auc: 0.748705\n",
      "[300]\ttraining's auc: 0.749973\tvalid_1's auc: 0.748853\n",
      "[350]\ttraining's auc: 0.750186\tvalid_1's auc: 0.748982\n",
      "[400]\ttraining's auc: 0.750398\tvalid_1's auc: 0.749101\n",
      "[450]\ttraining's auc: 0.750623\tvalid_1's auc: 0.74923\n",
      "[500]\ttraining's auc: 0.750844\tvalid_1's auc: 0.74935\n",
      "[550]\ttraining's auc: 0.751057\tvalid_1's auc: 0.749458\n",
      "[600]\ttraining's auc: 0.751284\tvalid_1's auc: 0.749566\n",
      "[650]\ttraining's auc: 0.751506\tvalid_1's auc: 0.74967\n",
      "[700]\ttraining's auc: 0.751719\tvalid_1's auc: 0.749758\n",
      "[750]\ttraining's auc: 0.751913\tvalid_1's auc: 0.749826\n",
      "[800]\ttraining's auc: 0.752116\tvalid_1's auc: 0.749897\n",
      "[850]\ttraining's auc: 0.752319\tvalid_1's auc: 0.74997\n",
      "[900]\ttraining's auc: 0.752512\tvalid_1's auc: 0.750026\n",
      "[950]\ttraining's auc: 0.75271\tvalid_1's auc: 0.750079\n",
      "[1000]\ttraining's auc: 0.752905\tvalid_1's auc: 0.750128\n",
      "Did not meet early stopping. Best iteration is:\n",
      "[1000]\ttraining's auc: 0.752905\tvalid_1's auc: 0.750128\n"
     ]
    },
    {
     "data": {
      "text/plain": [
       "[[{'learning_rate': 1.5}, {'max_depth': -1}, 0.74703312099168],\n",
       " [{'learning_rate': 0.5}, {'max_depth': -1}, 0.74703312099168],\n",
       " [{'learning_rate': 0.1}, {'max_depth': -1}, 0.74703312099168],\n",
       " [{'learning_rate': 0.05}, {'max_depth': -1}, 0.74703312099168],\n",
       " [{'learning_rate': 0.01}, {'max_depth': -1}, 0.74703312099168],\n",
       " [{'learning_rate': 0.005}, {'max_depth': -1}, 0.74703312099168]]"
      ]
     },
     "execution_count": 23,
     "metadata": {},
     "output_type": "execute_result"
    }
   ],
   "source": [
    "# 2.\n",
    "params = {\n",
    "    'objective': 'binary',\n",
    "    'num_rounds': 1000,\n",
    "    'seed': 42,\n",
    "    'metric': 'auc',\n",
    "    'learning_rate': 0.1,\n",
    "    'force_row_wise': True,\n",
    "    \n",
    "    'max_depth': -1,\n",
    "    'num_leaves': 1000,\n",
    "    \n",
    "    'min_child_samples': 100,\n",
    "      \n",
    "}\n",
    "\n",
    "        \n",
    "model = lgb.LGBMClassifier(**params)\n",
    "model.fit(\n",
    "    *trn_data,\n",
    "    eval_set=[trn_data, val_data], \n",
    "    verbose=50,\n",
    "    early_stopping_rounds=50,\n",
    ")"
   ]
  },
  {
   "cell_type": "code",
   "execution_count": null,
   "metadata": {
    "ExecuteTime": {
     "end_time": "2021-01-07T07:32:45.989842Z",
     "start_time": "2021-01-07T07:13:07.387Z"
    }
   },
   "outputs": [],
   "source": [
    "#lgb.plot_importance(model, importance_type='gain')"
   ]
  },
  {
   "cell_type": "code",
   "execution_count": 64,
   "metadata": {
    "ExecuteTime": {
     "end_time": "2021-01-07T07:10:01.146339Z",
     "start_time": "2021-01-07T07:10:01.142866Z"
    }
   },
   "outputs": [
    {
     "data": {
      "text/plain": [
       "0.7467622224838212"
      ]
     },
     "execution_count": 64,
     "metadata": {},
     "output_type": "execute_result"
    }
   ],
   "source": [
    "score = model.evals_result_['valid_1']['auc'][0]\n",
    "search_cv.append([{p0[0]: i}, {p1[0]: j}, score])\n",
    "if score > best:\n",
    "    best = score\n",
    "    best_param = [{p0[0]: i}, {p1[0]: j}, score]"
   ]
  },
  {
   "cell_type": "code",
   "execution_count": null,
   "metadata": {
    "ExecuteTime": {
     "end_time": "2021-01-07T07:32:45.990338Z",
     "start_time": "2021-01-07T07:13:07.389Z"
    }
   },
   "outputs": [],
   "source": [
    "#save_path = f'lgb_fold{n}.txt'\n",
    "#model.save_model(save_path)"
   ]
  },
  {
   "cell_type": "code",
   "execution_count": null,
   "metadata": {
    "ExecuteTime": {
     "end_time": "2021-01-07T07:32:45.990834Z",
     "start_time": "2021-01-07T07:13:07.389Z"
    }
   },
   "outputs": [],
   "source": [
    "#a = lgb.Booster(model_file=save_path)"
   ]
  },
  {
   "cell_type": "code",
   "execution_count": null,
   "metadata": {
    "ExecuteTime": {
     "end_time": "2021-01-07T07:32:45.991827Z",
     "start_time": "2021-01-07T07:13:07.390Z"
    }
   },
   "outputs": [],
   "source": [
    "#a.predict(train_df.loc[val_idx][features])"
   ]
  },
  {
   "cell_type": "code",
   "execution_count": null,
   "metadata": {
    "ExecuteTime": {
     "end_time": "2021-01-07T07:32:45.992322Z",
     "start_time": "2021-01-07T07:13:07.391Z"
    }
   },
   "outputs": [],
   "source": [
    "#model.predict(train_df.loc[val_idx][features])"
   ]
  },
  {
   "cell_type": "markdown",
   "metadata": {},
   "source": [
    "# inference"
   ]
  },
  {
   "cell_type": "code",
   "execution_count": null,
   "metadata": {},
   "outputs": [],
   "source": []
  }
 ],
 "metadata": {
  "kernelspec": {
   "display_name": "Python 3",
   "language": "python",
   "name": "python3"
  },
  "language_info": {
   "codemirror_mode": {
    "name": "ipython",
    "version": 3
   },
   "file_extension": ".py",
   "mimetype": "text/x-python",
   "name": "python",
   "nbconvert_exporter": "python",
   "pygments_lexer": "ipython3",
   "version": "3.7.6"
  },
  "toc": {
   "base_numbering": 1,
   "nav_menu": {},
   "number_sections": true,
   "sideBar": true,
   "skip_h1_title": false,
   "title_cell": "Table of Contents",
   "title_sidebar": "Contents",
   "toc_cell": false,
   "toc_position": {},
   "toc_section_display": true,
   "toc_window_display": false
  },
  "varInspector": {
   "cols": {
    "lenName": 16,
    "lenType": 16,
    "lenVar": 40
   },
   "kernels_config": {
    "python": {
     "delete_cmd_postfix": "",
     "delete_cmd_prefix": "del ",
     "library": "var_list.py",
     "varRefreshCmd": "print(var_dic_list())"
    },
    "r": {
     "delete_cmd_postfix": ") ",
     "delete_cmd_prefix": "rm(",
     "library": "var_list.r",
     "varRefreshCmd": "cat(var_dic_list()) "
    }
   },
   "types_to_exclude": [
    "module",
    "function",
    "builtin_function_or_method",
    "instance",
    "_Feature"
   ],
   "window_display": false
  }
 },
 "nbformat": 4,
 "nbformat_minor": 4
}
