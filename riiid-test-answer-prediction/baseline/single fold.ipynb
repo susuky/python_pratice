{
 "cells": [
  {
   "cell_type": "code",
   "execution_count": 1,
   "metadata": {
    "ExecuteTime": {
     "end_time": "2021-01-07T03:14:46.674427Z",
     "start_time": "2021-01-07T03:14:45.865908Z"
    }
   },
   "outputs": [
    {
     "data": {
      "text/html": [
       "<style type='text/css'>\n",
       ".datatable table.frame { margin-bottom: 0; }\n",
       ".datatable table.frame thead { border-bottom: none; }\n",
       ".datatable table.frame tr.coltypes td {  color: #FFFFFF;  line-height: 6px;  padding: 0 0.5em;}\n",
       ".datatable .bool    { background: #DDDD99; }\n",
       ".datatable .object  { background: #565656; }\n",
       ".datatable .int     { background: #5D9E5D; }\n",
       ".datatable .float   { background: #4040CC; }\n",
       ".datatable .str     { background: #CC4040; }\n",
       ".datatable .row_index {  background: var(--jp-border-color3);  border-right: 1px solid var(--jp-border-color0);  color: var(--jp-ui-font-color3);  font-size: 9px;}\n",
       ".datatable .frame tr.coltypes .row_index {  background: var(--jp-border-color0);}\n",
       ".datatable th:nth-child(2) { padding-left: 12px; }\n",
       ".datatable .hellipsis {  color: var(--jp-cell-editor-border-color);}\n",
       ".datatable .vellipsis {  background: var(--jp-layout-color0);  color: var(--jp-cell-editor-border-color);}\n",
       ".datatable .na {  color: var(--jp-cell-editor-border-color);  font-size: 80%;}\n",
       ".datatable .footer { font-size: 9px; }\n",
       ".datatable .frame_dimensions {  background: var(--jp-border-color3);  border-top: 1px solid var(--jp-border-color0);  color: var(--jp-ui-font-color3);  display: inline-block;  opacity: 0.6;  padding: 1px 10px 1px 5px;}\n",
       "</style>\n"
      ],
      "text/plain": [
       "<IPython.core.display.HTML object>"
      ]
     },
     "metadata": {},
     "output_type": "display_data"
    }
   ],
   "source": [
    "import datatable as dt\n",
    "import gc\n",
    "import numpy as np\n",
    "import pandas as pd\n",
    "import matplotlib.pyplot as plt\n",
    "import pickle\n",
    "import seaborn as sns\n",
    "\n",
    "import lightgbm as lgb\n",
    "from collections import defaultdict\n",
    "from sklearn.model_selection import GroupKFold\n",
    "\n",
    "#import riiideducation"
   ]
  },
  {
   "cell_type": "code",
   "execution_count": 2,
   "metadata": {
    "ExecuteTime": {
     "end_time": "2021-01-07T03:14:46.688290Z",
     "start_time": "2021-01-07T03:14:46.685341Z"
    }
   },
   "outputs": [],
   "source": [
    "data_path = '../input/riiid-test-answer-prediction/train.csv'\n",
    "questions_path = '../input/riiid-test-answer-prediction/questions.csv'\n",
    "data_types_dict = {\n",
    "    'user_id': 'int32',\n",
    "    'content_id': 'int16',\n",
    "    'answered_correctly': 'int8',\n",
    "    'prior_question_elapsed_time': 'float32',\n",
    "    'prior_question_had_explanation': 'bool'\n",
    "}\n",
    "target = 'answered_correctly'"
   ]
  },
  {
   "cell_type": "code",
   "execution_count": 3,
   "metadata": {
    "ExecuteTime": {
     "end_time": "2021-01-07T03:14:53.558901Z",
     "start_time": "2021-01-07T03:14:46.700221Z"
    }
   },
   "outputs": [],
   "source": [
    "train_df = dt.fread(data_path, columns=set(data_types_dict.keys())).to_pandas()\n",
    "questions_df = pd.read_csv(\n",
    "    questions_path,\n",
    "    usecols=[0, 3],\n",
    "    dtype={'question_id': 'int16', 'part': 'int8'}\n",
    ")"
   ]
  },
  {
   "cell_type": "code",
   "execution_count": 5,
   "metadata": {
    "ExecuteTime": {
     "end_time": "2021-01-07T03:15:18.017696Z",
     "start_time": "2021-01-07T03:15:17.427924Z"
    }
   },
   "outputs": [
    {
     "data": {
      "text/plain": [
       "393656"
      ]
     },
     "execution_count": 5,
     "metadata": {},
     "output_type": "execute_result"
    }
   ],
   "source": [
    "train_df.user_id.nunique()"
   ]
  },
  {
   "cell_type": "code",
   "execution_count": 6,
   "metadata": {
    "ExecuteTime": {
     "end_time": "2021-01-07T03:16:24.532344Z",
     "start_time": "2021-01-07T03:15:26.454755Z"
    }
   },
   "outputs": [
    {
     "data": {
      "text/html": [
       "<div>\n",
       "<style scoped>\n",
       "    .dataframe tbody tr th:only-of-type {\n",
       "        vertical-align: middle;\n",
       "    }\n",
       "\n",
       "    .dataframe tbody tr th {\n",
       "        vertical-align: top;\n",
       "    }\n",
       "\n",
       "    .dataframe thead th {\n",
       "        text-align: right;\n",
       "    }\n",
       "</style>\n",
       "<table border=\"1\" class=\"dataframe\">\n",
       "  <thead>\n",
       "    <tr style=\"text-align: right;\">\n",
       "      <th></th>\n",
       "      <th>user_id</th>\n",
       "      <th>content_id</th>\n",
       "      <th>answered_correctly</th>\n",
       "      <th>prior_question_elapsed_time</th>\n",
       "      <th>prior_question_had_explanation</th>\n",
       "      <th>user_correctness</th>\n",
       "      <th>part</th>\n",
       "      <th>content_count</th>\n",
       "    </tr>\n",
       "  </thead>\n",
       "  <tbody>\n",
       "    <tr>\n",
       "      <th>0</th>\n",
       "      <td>115</td>\n",
       "      <td>0.745495</td>\n",
       "      <td>1</td>\n",
       "      <td>NaN</td>\n",
       "      <td>False</td>\n",
       "      <td>NaN</td>\n",
       "      <td>5</td>\n",
       "      <td>36514</td>\n",
       "    </tr>\n",
       "    <tr>\n",
       "      <th>1</th>\n",
       "      <td>115</td>\n",
       "      <td>0.734901</td>\n",
       "      <td>1</td>\n",
       "      <td>37000.0</td>\n",
       "      <td>False</td>\n",
       "      <td>1.000000</td>\n",
       "      <td>5</td>\n",
       "      <td>23991</td>\n",
       "    </tr>\n",
       "    <tr>\n",
       "      <th>2</th>\n",
       "      <td>115</td>\n",
       "      <td>0.966869</td>\n",
       "      <td>1</td>\n",
       "      <td>55000.0</td>\n",
       "      <td>False</td>\n",
       "      <td>1.000000</td>\n",
       "      <td>1</td>\n",
       "      <td>19619</td>\n",
       "    </tr>\n",
       "    <tr>\n",
       "      <th>3</th>\n",
       "      <td>115</td>\n",
       "      <td>0.954815</td>\n",
       "      <td>1</td>\n",
       "      <td>19000.0</td>\n",
       "      <td>False</td>\n",
       "      <td>1.000000</td>\n",
       "      <td>1</td>\n",
       "      <td>21733</td>\n",
       "    </tr>\n",
       "    <tr>\n",
       "      <th>4</th>\n",
       "      <td>115</td>\n",
       "      <td>0.953218</td>\n",
       "      <td>1</td>\n",
       "      <td>11000.0</td>\n",
       "      <td>False</td>\n",
       "      <td>1.000000</td>\n",
       "      <td>1</td>\n",
       "      <td>19409</td>\n",
       "    </tr>\n",
       "    <tr>\n",
       "      <th>...</th>\n",
       "      <td>...</td>\n",
       "      <td>...</td>\n",
       "      <td>...</td>\n",
       "      <td>...</td>\n",
       "      <td>...</td>\n",
       "      <td>...</td>\n",
       "      <td>...</td>\n",
       "      <td>...</td>\n",
       "    </tr>\n",
       "    <tr>\n",
       "      <th>99271295</th>\n",
       "      <td>2147482888</td>\n",
       "      <td>0.741063</td>\n",
       "      <td>1</td>\n",
       "      <td>18000.0</td>\n",
       "      <td>True</td>\n",
       "      <td>0.500000</td>\n",
       "      <td>5</td>\n",
       "      <td>4364</td>\n",
       "    </tr>\n",
       "    <tr>\n",
       "      <th>99271296</th>\n",
       "      <td>2147482888</td>\n",
       "      <td>0.527789</td>\n",
       "      <td>1</td>\n",
       "      <td>14000.0</td>\n",
       "      <td>True</td>\n",
       "      <td>0.521739</td>\n",
       "      <td>5</td>\n",
       "      <td>10220</td>\n",
       "    </tr>\n",
       "    <tr>\n",
       "      <th>99271297</th>\n",
       "      <td>2147482888</td>\n",
       "      <td>0.616202</td>\n",
       "      <td>1</td>\n",
       "      <td>14000.0</td>\n",
       "      <td>True</td>\n",
       "      <td>0.541667</td>\n",
       "      <td>5</td>\n",
       "      <td>31415</td>\n",
       "    </tr>\n",
       "    <tr>\n",
       "      <th>99271298</th>\n",
       "      <td>2147482888</td>\n",
       "      <td>0.661683</td>\n",
       "      <td>0</td>\n",
       "      <td>22000.0</td>\n",
       "      <td>True</td>\n",
       "      <td>0.560000</td>\n",
       "      <td>5</td>\n",
       "      <td>5752</td>\n",
       "    </tr>\n",
       "    <tr>\n",
       "      <th>99271299</th>\n",
       "      <td>2147482888</td>\n",
       "      <td>0.657453</td>\n",
       "      <td>1</td>\n",
       "      <td>29000.0</td>\n",
       "      <td>True</td>\n",
       "      <td>0.538462</td>\n",
       "      <td>5</td>\n",
       "      <td>6259</td>\n",
       "    </tr>\n",
       "  </tbody>\n",
       "</table>\n",
       "<p>99271300 rows × 8 columns</p>\n",
       "</div>"
      ],
      "text/plain": [
       "             user_id  content_id  answered_correctly  \\\n",
       "0                115    0.745495                   1   \n",
       "1                115    0.734901                   1   \n",
       "2                115    0.966869                   1   \n",
       "3                115    0.954815                   1   \n",
       "4                115    0.953218                   1   \n",
       "...              ...         ...                 ...   \n",
       "99271295  2147482888    0.741063                   1   \n",
       "99271296  2147482888    0.527789                   1   \n",
       "99271297  2147482888    0.616202                   1   \n",
       "99271298  2147482888    0.661683                   0   \n",
       "99271299  2147482888    0.657453                   1   \n",
       "\n",
       "          prior_question_elapsed_time  prior_question_had_explanation  \\\n",
       "0                                 NaN                           False   \n",
       "1                             37000.0                           False   \n",
       "2                             55000.0                           False   \n",
       "3                             19000.0                           False   \n",
       "4                             11000.0                           False   \n",
       "...                               ...                             ...   \n",
       "99271295                      18000.0                            True   \n",
       "99271296                      14000.0                            True   \n",
       "99271297                      14000.0                            True   \n",
       "99271298                      22000.0                            True   \n",
       "99271299                      29000.0                            True   \n",
       "\n",
       "          user_correctness  part  content_count  \n",
       "0                      NaN     5          36514  \n",
       "1                 1.000000     5          23991  \n",
       "2                 1.000000     1          19619  \n",
       "3                 1.000000     1          21733  \n",
       "4                 1.000000     1          19409  \n",
       "...                    ...   ...            ...  \n",
       "99271295          0.500000     5           4364  \n",
       "99271296          0.521739     5          10220  \n",
       "99271297          0.541667     5          31415  \n",
       "99271298          0.560000     5           5752  \n",
       "99271299          0.538462     5           6259  \n",
       "\n",
       "[99271300 rows x 8 columns]"
      ]
     },
     "execution_count": 6,
     "metadata": {},
     "output_type": "execute_result"
    }
   ],
   "source": [
    "# preprocess\n",
    "train_df = train_df[train_df[target] != -1].reset_index(drop=True)\n",
    "train_df['prior_question_had_explanation'].fillna(False, inplace=True)\n",
    "train_df = train_df.astype(data_types_dict)\n",
    "\n",
    "train_df['lag'] = train_df.groupby('user_id')[target].shift()\n",
    "cum = train_df.groupby('user_id')['lag'].agg(['cumsum', 'cumcount'])\n",
    "train_df['user_correctness'] = cum['cumsum'] / cum['cumcount']\n",
    "train_df.drop(columns=['lag'], inplace=True)\n",
    "\n",
    "user_agg = train_df.groupby('user_id')[target].agg(['sum', 'count'])\n",
    "content_agg = train_df.groupby('content_id')[target].agg(['sum', 'count'])\n",
    "\n",
    "train_df = train_df.groupby('user_id').tail(12).reset_index(drop=True)  \n",
    "\n",
    "train_df = pd.merge(train_df, \n",
    "                    questions_df,\n",
    "                    left_on='content_id', \n",
    "                    right_on='question_id', \n",
    "                    how='left')\n",
    "train_df.drop(columns=['question_id'], inplace=True)\n",
    "\n",
    "train_df['content_count'] = train_df['content_id'].map(content_agg['count']).astype('int32')\n",
    "train_df['content_id'] = train_df['content_id'].map(content_agg['sum'] / content_agg['count'])\n",
    "\n",
    "train_df"
   ]
  },
  {
   "cell_type": "code",
   "execution_count": 8,
   "metadata": {
    "ExecuteTime": {
     "end_time": "2021-01-07T03:16:58.020328Z",
     "start_time": "2021-01-07T03:16:52.236480Z"
    }
   },
   "outputs": [
    {
     "name": "stdout",
     "output_type": "stream",
     "text": [
      "0 (array([       0,        1,        2, ..., 99271297, 99271298, 99271299]), array([      46,       47,       48, ..., 99271270, 99271271, 99271272]))\n",
      "1 (array([       0,        1,        2, ..., 99271297, 99271298, 99271299]), array([     611,      612,      613, ..., 99269694, 99269695, 99269696]))\n",
      "2 (array([      46,       47,       48, ..., 99271297, 99271298, 99271299]), array([       0,        1,        2, ..., 99270945, 99270946, 99270947]))\n",
      "3 (array([       0,        1,        2, ..., 99271270, 99271271, 99271272]), array([      76,       77,       78, ..., 99271297, 99271298, 99271299]))\n",
      "4 (array([       0,        1,        2, ..., 99271297, 99271298, 99271299]), array([    8630,     8631,     8632, ..., 99270193, 99270194, 99270195]))\n"
     ]
    }
   ],
   "source": [
    "gkf = GroupKFold(5)\n",
    "for n, fold_idx in enumerate(gkf.split(train_df, groups=train_df.user_id)):\n",
    "    print(n, fold_idx)"
   ]
  },
  {
   "cell_type": "code",
   "execution_count": 9,
   "metadata": {
    "ExecuteTime": {
     "end_time": "2021-01-07T03:17:22.130355Z",
     "start_time": "2021-01-07T03:16:58.073898Z"
    }
   },
   "outputs": [],
   "source": [
    "features = [\n",
    "    'content_id', \n",
    "    'prior_question_elapsed_time',\n",
    "    'prior_question_had_explanation', \n",
    "    'user_correctness', \n",
    "    'part',\n",
    "    'content_count'\n",
    "]\n",
    "\n",
    "trn_idx, val_idx = fold_idx\n",
    "trn_data = lgb.Dataset(train_df.loc[trn_idx][features],\n",
    "                      label=train_df.loc[trn_idx][target])\n",
    "val_data = lgb.Dataset(train_df.loc[val_idx][features],\n",
    "                      label=train_df.loc[val_idx][target])"
   ]
  },
  {
   "cell_type": "code",
   "execution_count": 10,
   "metadata": {
    "ExecuteTime": {
     "end_time": "2021-01-07T03:19:08.758786Z",
     "start_time": "2021-01-07T03:17:22.181443Z"
    }
   },
   "outputs": [
    {
     "name": "stdout",
     "output_type": "stream",
     "text": [
      "[LightGBM] [Info] Number of positive: 52208037, number of negative: 27209003\n",
      "[LightGBM] [Warning] Auto-choosing row-wise multi-threading, the overhead of testing was 0.262438 seconds.\n",
      "You can set `force_row_wise=true` to remove the overhead.\n",
      "And if memory is not enough, you can set `force_col_wise=true`.\n",
      "[LightGBM] [Info] Total Bins 3143\n",
      "[LightGBM] [Info] Number of data points in the train set: 79417040, number of used features: 6\n",
      "[LightGBM] [Info] [binary:BoostFromScore]: pavg=0.657391 -> initscore=0.651689\n",
      "[LightGBM] [Info] Start training from score 0.651689\n",
      "Training until validation scores don't improve for 50 rounds\n",
      "Did not meet early stopping. Best iteration is:\n",
      "[10]\ttraining's auc: 0.747306\tvalid_1's auc: 0.747428\n"
     ]
    }
   ],
   "source": [
    "params = {\n",
    "    'objective': 'binary',\n",
    "    'seed': 42,\n",
    "    'metric': 'auc',\n",
    "    'learning_rate': 0.05,\n",
    "    'max_bin': 800,\n",
    "    'num_leaves': 80\n",
    "}\n",
    "\n",
    "model = lgb.train(params,\n",
    "                  trn_data,\n",
    "                  num_boost_round=10000,\n",
    "                  valid_sets=[trn_data, val_data],\n",
    "                  early_stopping_rounds=50,\n",
    "                  verbose_eval=50)"
   ]
  },
  {
   "cell_type": "code",
   "execution_count": 11,
   "metadata": {
    "ExecuteTime": {
     "end_time": "2021-01-07T03:23:09.437262Z",
     "start_time": "2021-01-07T03:23:09.332605Z"
    }
   },
   "outputs": [
    {
     "data": {
      "text/plain": [
       "<matplotlib.axes._subplots.AxesSubplot at 0x1d58ba2e308>"
      ]
     },
     "execution_count": 11,
     "metadata": {},
     "output_type": "execute_result"
    },
    {
     "data": {
      "image/png": "[encoded data removed]",
      "text/plain": [
       "<Figure size 432x288 with 1 Axes>"
      ]
     },
     "metadata": {
      "needs_background": "light"
     },
     "output_type": "display_data"
    }
   ],
   "source": [
    "lgb.plot_importance(model, importance_type='gain')"
   ]
  },
  {
   "cell_type": "code",
   "execution_count": 37,
   "metadata": {
    "ExecuteTime": {
     "end_time": "2021-01-07T02:16:52.584633Z",
     "start_time": "2021-01-07T02:16:52.493394Z"
    }
   },
   "outputs": [
    {
     "data": {
      "text/plain": [
       "<lightgbm.basic.Booster at 0x271dfbfbec8>"
      ]
     },
     "execution_count": 37,
     "metadata": {},
     "output_type": "execute_result"
    }
   ],
   "source": [
    "save_path = f'lgb_fold{n}.txt'\n",
    "model.save_model(save_path)"
   ]
  },
  {
   "cell_type": "code",
   "execution_count": 39,
   "metadata": {
    "ExecuteTime": {
     "end_time": "2021-01-07T02:23:39.028676Z",
     "start_time": "2021-01-07T02:23:38.956260Z"
    }
   },
   "outputs": [],
   "source": [
    "# model = lgb.Booster(model_file=save_path)\n",
    "# model.predict(train_df.loc[val_idx][features])"
   ]
  },
  {
   "cell_type": "code",
   "execution_count": 18,
   "metadata": {
    "ExecuteTime": {
     "end_time": "2021-01-07T10:41:53.083088Z",
     "start_time": "2021-01-07T10:41:53.080112Z"
    }
   },
   "outputs": [],
   "source": [
    "from sklearn.svm import SVC"
   ]
  },
  {
   "cell_type": "code",
   "execution_count": 23,
   "metadata": {
    "ExecuteTime": {
     "end_time": "2021-01-07T11:04:47.780192Z",
     "start_time": "2021-01-07T11:04:46.772818Z"
    }
   },
   "outputs": [],
   "source": [
    "train_df.fillna(0, inplace=True)"
   ]
  },
  {
   "cell_type": "code",
   "execution_count": 19,
   "metadata": {
    "ExecuteTime": {
     "end_time": "2021-01-07T10:42:20.326839Z",
     "start_time": "2021-01-07T10:42:20.323367Z"
    }
   },
   "outputs": [],
   "source": [
    "model2 = SVC(C=50)"
   ]
  },
  {
   "cell_type": "code",
   "execution_count": null,
   "metadata": {
    "ExecuteTime": {
     "start_time": "2021-01-07T11:04:49.219Z"
    }
   },
   "outputs": [],
   "source": [
    "model2.fit(train_df.loc[trn_idx][features], train_df.loc[trn_idx][target])"
   ]
  },
  {
   "cell_type": "code",
   "execution_count": null,
   "metadata": {},
   "outputs": [],
   "source": []
  },
  {
   "cell_type": "code",
   "execution_count": null,
   "metadata": {},
   "outputs": [],
   "source": [
    "model2.fit(train_df)"
   ]
  },
  {
   "cell_type": "code",
   "execution_count": null,
   "metadata": {},
   "outputs": [],
   "source": []
  },
  {
   "cell_type": "markdown",
   "metadata": {},
   "source": [
    "# inference"
   ]
  },
  {
   "cell_type": "code",
   "execution_count": 58,
   "metadata": {
    "ExecuteTime": {
     "end_time": "2021-01-07T02:44:49.749805Z",
     "start_time": "2021-01-07T02:44:49.555343Z"
    }
   },
   "outputs": [],
   "source": [
    "user_sum_dict = user_agg['sum'].astype('int16').to_dict(defaultdict(int))\n",
    "user_count_dict = user_agg['count'].astype('int16').to_dict(defaultdict(int))\n",
    "content_sum_dict = content_agg['sum'].astype('int32').to_dict(defaultdict(int))\n",
    "content_count_dict = content_agg['count'].astype('int32').to_dict(defaultdict(int))"
   ]
  },
  {
   "cell_type": "code",
   "execution_count": null,
   "metadata": {},
   "outputs": [],
   "source": [
    "env = riiideducation.make_env()\n",
    "iter_test = env.iter_test()\n",
    "prior_test_df = None"
   ]
  },
  {
   "cell_type": "code",
   "execution_count": null,
   "metadata": {},
   "outputs": [],
   "source": [
    "%%time\n",
    "\n",
    "for (test_df, sample_prediction_df) in iter_test:\n",
    "    if prior_test_df is not None:\n",
    "        prior_test_df[target] = eval(test_df['prior_group_answers_correct'].iloc[0])\n",
    "        prior_test_df = prior_test_df[prior_test_df[target] != -1].reset_index(drop=True)\n",
    "        \n",
    "        user_ids = prior_test_df['user_id'].values\n",
    "        content_ids = prior_test_df['content_id'].values\n",
    "        targets = prior_test_df[target].values\n",
    "        \n",
    "        for user_id, content_id, answered_correctly in zip(user_ids, content_ids, targets):\n",
    "            user_sum_dict[user_id] += answered_correctly\n",
    "            user_count_dict[user_id] += 1\n",
    "            content_sum_dict[content_id] += answered_correctly\n",
    "            content_count_dict[content_id] += 1\n",
    "\n",
    "    prior_test_df = test_df.copy()\n",
    "    \n",
    "    test_df = test_df[test_df['content_type_id'] == 0].reset_index(drop=True)\n",
    "    test_df = pd.merge(test_df, questions_df, left_on='content_id', right_on='question_id', how='left')\n",
    "    test_df['prior_question_had_explanation'] = test_df['prior_question_had_explanation'].fillna(False).astype('bool')    \n",
    "    \n",
    "    user_sum = np.zeros(len(test_df), dtype=np.int16)\n",
    "    user_count = np.zeros(len(test_df), dtype=np.int16)\n",
    "    content_sum = np.zeros(len(test_df), dtype=np.int32)\n",
    "    content_count = np.zeros(len(test_df), dtype=np.int32)\n",
    "    \n",
    "    for i, (user_id, content_id) in enumerate(zip(test_df['user_id'].values, test_df['content_id'].values)):\n",
    "        user_sum[i] = user_sum_dict[user_id]\n",
    "        user_count[i] = user_count_dict[user_id]\n",
    "        content_sum[i] = content_sum_dict[content_id]\n",
    "        content_count[i] = content_count_dict[content_id]\n",
    "\n",
    "    test_df['user_correctness'] = user_sum / user_count\n",
    "    test_df['content_count'] = content_count\n",
    "    test_df['content_id'] = content_sum / content_count\n",
    "       \n",
    "    test_df[target] = model.predict(test_df[features])\n",
    "    env.predict(test_df[['row_id', target]])"
   ]
  }
 ],
 "metadata": {
  "kernelspec": {
   "display_name": "Python 3",
   "language": "python",
   "name": "python3"
  },
  "language_info": {
   "codemirror_mode": {
    "name": "ipython",
    "version": 3
   },
   "file_extension": ".py",
   "mimetype": "text/x-python",
   "name": "python",
   "nbconvert_exporter": "python",
   "pygments_lexer": "ipython3",
   "version": "3.7.6"
  },
  "toc": {
   "base_numbering": 1,
   "nav_menu": {},
   "number_sections": true,
   "sideBar": true,
   "skip_h1_title": false,
   "title_cell": "Table of Contents",
   "title_sidebar": "Contents",
   "toc_cell": false,
   "toc_position": {},
   "toc_section_display": true,
   "toc_window_display": false
  },
  "varInspector": {
   "cols": {
    "lenName": 16,
    "lenType": 16,
    "lenVar": 40
   },
   "kernels_config": {
    "python": {
     "delete_cmd_postfix": "",
     "delete_cmd_prefix": "del ",
     "library": "var_list.py",
     "varRefreshCmd": "print(var_dic_list())"
    },
    "r": {
     "delete_cmd_postfix": ") ",
     "delete_cmd_prefix": "rm(",
     "library": "var_list.r",
     "varRefreshCmd": "cat(var_dic_list()) "
    }
   },
   "types_to_exclude": [
    "module",
    "function",
    "builtin_function_or_method",
    "instance",
    "_Feature"
   ],
   "window_display": false
  }
 },
 "nbformat": 4,
 "nbformat_minor": 4
}
