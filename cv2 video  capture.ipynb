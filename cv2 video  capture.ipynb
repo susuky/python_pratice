{
 "cells": [
  {
   "cell_type": "code",
   "execution_count": 1,
   "metadata": {
    "ExecuteTime": {
     "end_time": "2019-05-31T03:18:49.241989Z",
     "start_time": "2019-05-31T03:18:49.226949Z"
    }
   },
   "outputs": [],
   "source": [
    "import cv2\n",
    "import datetime"
   ]
  },
  {
   "cell_type": "code",
   "execution_count": 2,
   "metadata": {
    "ExecuteTime": {
     "end_time": "2019-05-31T03:18:50.888870Z",
     "start_time": "2019-05-31T03:18:50.461233Z"
    }
   },
   "outputs": [],
   "source": [
    "cap = cv2.VideoCapture(0)"
   ]
  },
  {
   "cell_type": "code",
   "execution_count": 3,
   "metadata": {
    "ExecuteTime": {
     "end_time": "2019-05-31T03:18:51.791785Z",
     "start_time": "2019-05-31T03:18:51.788777Z"
    }
   },
   "outputs": [],
   "source": [
    "if not cap.isOpened():\n",
    "    cap.open()"
   ]
  },
  {
   "cell_type": "code",
   "execution_count": 4,
   "metadata": {
    "ExecuteTime": {
     "end_time": "2019-05-31T03:18:53.071738Z",
     "start_time": "2019-05-31T03:18:53.063716Z"
    }
   },
   "outputs": [
    {
     "data": {
      "text/plain": [
       "True"
      ]
     },
     "execution_count": 4,
     "metadata": {},
     "output_type": "execute_result"
    }
   ],
   "source": [
    "cap.set(cv2.CAP_PROP_FRAME_WIDTH, 640)\n",
    "cap.set(cv2.CAP_PROP_FRAME_HEIGHT, 480)"
   ]
  },
  {
   "cell_type": "code",
   "execution_count": 5,
   "metadata": {
    "ExecuteTime": {
     "end_time": "2019-05-31T03:20:07.781469Z",
     "start_time": "2019-05-31T03:19:04.869679Z"
    }
   },
   "outputs": [
    {
     "name": "stdout",
     "output_type": "stream",
     "text": [
      "Current frame rate = 19.4025\n",
      "Current frame rate = 29.9062\n",
      "Current frame rate = 29.8879\n",
      "Current frame rate = 30.3136\n",
      "Current frame rate = 23.5499\n",
      "Current frame rate = 31.2745\n",
      "Current frame rate = 29.0617\n",
      "Current frame rate = 30.8745\n",
      "Current frame rate = 29.9036\n",
      "Current frame rate = 30.3745\n",
      "Current frame rate = 29.8908\n",
      "Current frame rate = 29.8599\n",
      "Current frame rate = 29.9047\n",
      "Current frame rate = 30.0627\n",
      "Current frame rate = 29.9649\n",
      "Current frame rate = 30.1537\n",
      "Current frame rate = 30.1607\n",
      "Current frame rate = 30.0998\n",
      "Current frame rate = 30.0522\n",
      "Current frame rate = 30.0130\n",
      "Current frame rate = 30.0411\n",
      "Current frame rate = 30.0123\n",
      "Current frame rate = 29.9890\n",
      "Current frame rate = 30.0510\n",
      "Current frame rate = 29.9899\n",
      "Current frame rate = 30.0429\n",
      "Current frame rate = 30.0242\n",
      "Current frame rate = 30.0355\n",
      "Current frame rate = 30.0225\n",
      "Current frame rate = 30.0076\n",
      "Current frame rate = 29.9942\n",
      "Current frame rate = 30.0055\n",
      "Current frame rate = 29.9949\n",
      "Current frame rate = 30.0283\n",
      "Current frame rate = 30.0156\n",
      "Current frame rate = 30.0247\n",
      "Current frame rate = 30.0139\n",
      "Current frame rate = 30.0033\n",
      "Current frame rate = 30.0135\n",
      "Current frame rate = 29.8908\n",
      "Current frame rate = 29.8764\n",
      "Current frame rate = 30.8606\n",
      "Current frame rate = 29.4183\n",
      "Current frame rate = 30.8722\n",
      "Current frame rate = 29.8456\n",
      "Current frame rate = 29.8746\n",
      "Current frame rate = 30.3596\n",
      "Current frame rate = 29.9030\n",
      "Current frame rate = 29.8501\n",
      "Current frame rate = 30.3745\n",
      "Current frame rate = 29.9202\n",
      "Current frame rate = 30.8453\n",
      "Current frame rate = 29.9176\n",
      "Current frame rate = 30.3131\n",
      "Current frame rate = 29.8601\n",
      "Current frame rate = 29.9182\n",
      "Current frame rate = 29.8457\n",
      "Current frame rate = 30.4227\n",
      "Current frame rate = 29.9069\n",
      "Current frame rate = 30.8456\n",
      "Current frame rate = 29.4485\n",
      "Averate frame rate = 29.4736\n"
     ]
    }
   ],
   "source": [
    "i = 0\n",
    "j = 0\n",
    "starttime = datetime.datetime.now()\n",
    "while(True):\n",
    "    if j == 0:  # To show current frame rate\n",
    "        tic = datetime.datetime.now()\n",
    "\n",
    "    i += 1\n",
    "    j += 1\n",
    "\n",
    "    _, image = cap.read()  # 讀圖\n",
    "    cv2.imshow('test', image)\n",
    "\n",
    "    if j % 30 == 0:  # show current frame rate\n",
    "        print('Current frame rate = %.4f' %\n",
    "              (j / (datetime.datetime.now() - tic).total_seconds()))\n",
    "        j = 0\n",
    "\n",
    "    if cv2.waitKey(1) & 0xff == ord('w'):  # 二值化影像\n",
    "        while(True):\n",
    "            i += 1\n",
    "            j += 1\n",
    "            _, image = cap.read()\n",
    "            _, image = cv2.threshold(  # 順便灰階然後二值化\n",
    "                image[:, :qqqqqqqqq, 0], 127, 255, cv2.THRESH_BINARY)  \n",
    "            cv2.imshow('test', image)\n",
    "\n",
    "            if j % 30 == 0:  # show current frame rate\n",
    "                print('Current frame rate = %.4f' %\n",
    "                      (j / (datetime.datetime.now() - tic).total_seconds()))\n",
    "            if cv2.waitKey(1) & 0xff == ord('e'):   # 按'e'回去\n",
    "                break\n",
    "\n",
    "    if cv2.waitKey(1) & 0xff == ord('q'):   # 按'q'停止\n",
    "        cap.release()\n",
    "        cv2.destroyAllWindows()\n",
    "        break\n",
    "\n",
    "\n",
    "endtime = datetime.datetime.now()\n",
    "print('Averate frame rate = %.4f' %\n",
    "      (i / (endtime - starttime).total_seconds()))"
   ]
  },
  {
   "cell_type": "code",
   "execution_count": null,
   "metadata": {},
   "outputs": [],
   "source": [
    "cap.release()\n",
    "cv2.destroyAllWindows()"
   ]
  },
  {
   "cell_type": "markdown",
   "metadata": {},
   "source": [
    "- 灰階  二值化  低通  找contours->中心  質心(中心)  \n",
    "- 邊緣跟中心或area找面積\n"
   ]
  }
 ],
 "metadata": {
  "kernelspec": {
   "display_name": "Python 3",
   "language": "python",
   "name": "python3"
  },
  "language_info": {
   "codemirror_mode": {
    "name": "ipython",
    "version": 3
   },
   "file_extension": ".py",
   "mimetype": "text/x-python",
   "name": "python",
   "nbconvert_exporter": "python",
   "pygments_lexer": "ipython3",
   "version": "3.6.8"
  },
  "toc": {
   "base_numbering": 1,
   "nav_menu": {},
   "number_sections": true,
   "sideBar": true,
   "skip_h1_title": false,
   "title_cell": "Table of Contents",
   "title_sidebar": "Contents",
   "toc_cell": false,
   "toc_position": {},
   "toc_section_display": true,
   "toc_window_display": false
  },
  "varInspector": {
   "cols": {
    "lenName": 16,
    "lenType": 16,
    "lenVar": 40
   },
   "kernels_config": {
    "python": {
     "delete_cmd_postfix": "",
     "delete_cmd_prefix": "del ",
     "library": "var_list.py",
     "varRefreshCmd": "print(var_dic_list())"
    },
    "r": {
     "delete_cmd_postfix": ") ",
     "delete_cmd_prefix": "rm(",
     "library": "var_list.r",
     "varRefreshCmd": "cat(var_dic_list()) "
    }
   },
   "types_to_exclude": [
    "module",
    "function",
    "builtin_function_or_method",
    "instance",
    "_Feature"
   ],
   "window_display": false
  }
 },
 "nbformat": 4,
 "nbformat_minor": 2
}
