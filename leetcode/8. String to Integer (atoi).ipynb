{
 "cells": [
  {
   "cell_type": "code",
   "execution_count": 1,
   "metadata": {
    "ExecuteTime": {
     "end_time": "2020-09-14T10:51:25.071868Z",
     "start_time": "2020-09-14T10:51:25.057868Z"
    }
   },
   "outputs": [
    {
     "data": {
      "text/plain": [
       "(42, -42, 4193, 0, -2147483648, 3, -12)"
      ]
     },
     "execution_count": 1,
     "metadata": {},
     "output_type": "execute_result"
    }
   ],
   "source": [
    "class Solution:\n",
    "    def myAtoi(self, str: str) -> int: \n",
    "\n",
    "        str = str.lstrip()\n",
    "        if str == '': return 0\n",
    "        if str[0] == '-': \n",
    "            sign = -1\n",
    "            start = 1\n",
    "            end = 1\n",
    "        elif str[0] == '+':\n",
    "            sign = 1\n",
    "            start = 1\n",
    "            end = 1                \n",
    "        else:\n",
    "            sign = 1\n",
    "            start = 0\n",
    "            end = 0\n",
    "\n",
    "        for i in str[start:]:\n",
    "            if i.isdigit():\n",
    "                end += 1\n",
    "            else:\n",
    "                break\n",
    "        try:\n",
    "            v = sign * int(str[start:end])\n",
    "            if v < -2147483648: return -2147483648\n",
    "            elif v > 2147483647: return 2147483647\n",
    "            else: return v\n",
    "        except ValueError:\n",
    "            return 0\n",
    "                 \n",
    "        \n",
    "        \n",
    "(Solution.myAtoi(None, \"42\"), \n",
    " Solution.myAtoi(None, \"   -42\"),\n",
    " Solution.myAtoi(None, \"4193 with words\"),\n",
    " Solution.myAtoi(None, \"words and 987\"),\n",
    " Solution.myAtoi(None, \"-91283472332\"),\n",
    " Solution.myAtoi(None, \"3.14\"),\n",
    " Solution.myAtoi(None, \"  -0012a42\"),\n",
    " )"
   ]
  }
 ],
 "metadata": {
  "kernelspec": {
   "display_name": "Python 3",
   "language": "python",
   "name": "python3"
  },
  "language_info": {
   "codemirror_mode": {
    "name": "ipython",
    "version": 3
   },
   "file_extension": ".py",
   "mimetype": "text/x-python",
   "name": "python",
   "nbconvert_exporter": "python",
   "pygments_lexer": "ipython3",
   "version": "3.7.6"
  },
  "toc": {
   "base_numbering": 1,
   "nav_menu": {},
   "number_sections": true,
   "sideBar": true,
   "skip_h1_title": false,
   "title_cell": "Table of Contents",
   "title_sidebar": "Contents",
   "toc_cell": false,
   "toc_position": {},
   "toc_section_display": true,
   "toc_window_display": false
  },
  "varInspector": {
   "cols": {
    "lenName": 16,
    "lenType": 16,
    "lenVar": 40
   },
   "kernels_config": {
    "python": {
     "delete_cmd_postfix": "",
     "delete_cmd_prefix": "del ",
     "library": "var_list.py",
     "varRefreshCmd": "print(var_dic_list())"
    },
    "r": {
     "delete_cmd_postfix": ") ",
     "delete_cmd_prefix": "rm(",
     "library": "var_list.r",
     "varRefreshCmd": "cat(var_dic_list()) "
    }
   },
   "types_to_exclude": [
    "module",
    "function",
    "builtin_function_or_method",
    "instance",
    "_Feature"
   ],
   "window_display": false
  }
 },
 "nbformat": 4,
 "nbformat_minor": 4
}
