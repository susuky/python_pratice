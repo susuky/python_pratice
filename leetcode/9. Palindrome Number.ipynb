{
 "cells": [
  {
   "cell_type": "markdown",
   "metadata": {},
   "source": [
    "Determine whether an integer is a palindrome. An integer is a palindrome when it reads the same backward as forward."
   ]
  },
  {
   "cell_type": "code",
   "execution_count": 1,
   "metadata": {
    "ExecuteTime": {
     "end_time": "2020-09-11T07:00:22.357377Z",
     "start_time": "2020-09-11T07:00:22.343369Z"
    }
   },
   "outputs": [
    {
     "data": {
      "text/plain": [
       "(False, True)"
      ]
     },
     "execution_count": 1,
     "metadata": {},
     "output_type": "execute_result"
    }
   ],
   "source": [
    "class Solution:\n",
    "    def isPalindrome(self, x: int) -> bool:\n",
    "        if x < 0: return False\n",
    "        \n",
    "        tmp = [int(i) for i in str(x)]\n",
    "        tmp_r = [int(i) for i in reversed(str(x))]\n",
    "        \n",
    "        return tmp==tmp_r\n",
    "    \n",
    "Solution.isPalindrome(None, -121), Solution.isPalindrome(None, 121)"
   ]
  },
  {
   "cell_type": "code",
   "execution_count": 2,
   "metadata": {
    "ExecuteTime": {
     "end_time": "2020-09-11T07:00:22.373371Z",
     "start_time": "2020-09-11T07:00:22.361378Z"
    }
   },
   "outputs": [
    {
     "data": {
      "text/plain": [
       "(False, True)"
      ]
     },
     "execution_count": 2,
     "metadata": {},
     "output_type": "execute_result"
    }
   ],
   "source": [
    "class Solution:\n",
    "    def isPalindrome(self, x: int) -> bool:\n",
    "        return str(x) == str(x)[::-1]\n",
    "    \n",
    "Solution.isPalindrome(None, -121), Solution.isPalindrome(None, 121)"
   ]
  },
  {
   "cell_type": "code",
   "execution_count": 3,
   "metadata": {
    "ExecuteTime": {
     "end_time": "2020-09-11T07:00:22.389369Z",
     "start_time": "2020-09-11T07:00:22.374373Z"
    }
   },
   "outputs": [
    {
     "data": {
      "text/plain": [
       "(False, True)"
      ]
     },
     "execution_count": 3,
     "metadata": {},
     "output_type": "execute_result"
    }
   ],
   "source": [
    "class Solution:\n",
    "    def isPalindrome(self, x: int) -> bool:\n",
    "        if x < 0: return False\n",
    "\n",
    "        tmp = []\n",
    "        while x != 0:\n",
    "            x, y = divmod(x, 10)\n",
    "            tmp.append(y)\n",
    "            \n",
    "        tmp_ = tmp.copy()\n",
    "        tmp.reverse()\n",
    "        return tmp == tmp_\n",
    "\n",
    "\n",
    "Solution.isPalindrome(None, -121), Solution.isPalindrome(None, 121)"
   ]
  },
  {
   "cell_type": "code",
   "execution_count": 4,
   "metadata": {
    "ExecuteTime": {
     "end_time": "2020-09-11T07:00:22.405470Z",
     "start_time": "2020-09-11T07:00:22.390370Z"
    }
   },
   "outputs": [
    {
     "data": {
      "text/plain": [
       "(False, True)"
      ]
     },
     "execution_count": 4,
     "metadata": {},
     "output_type": "execute_result"
    }
   ],
   "source": [
    "class Solution:\n",
    "    def isPalindrome(self, x: int) -> bool:\n",
    "        if x < 0: return False\n",
    "\n",
    "        tmp = []\n",
    "        while x != 0:\n",
    "            x, y = divmod(x, 10)\n",
    "            tmp.append(y)\n",
    "            \n",
    "        return tmp == list(reversed(tmp))\n",
    "\n",
    "\n",
    "Solution.isPalindrome(None, -121), Solution.isPalindrome(None, 121)"
   ]
  },
  {
   "cell_type": "code",
   "execution_count": 5,
   "metadata": {
    "ExecuteTime": {
     "end_time": "2020-09-11T07:00:22.421370Z",
     "start_time": "2020-09-11T07:00:22.406395Z"
    }
   },
   "outputs": [
    {
     "data": {
      "text/plain": [
       "(False, True)"
      ]
     },
     "execution_count": 5,
     "metadata": {},
     "output_type": "execute_result"
    }
   ],
   "source": [
    "class Solution:\n",
    "    def isPalindrome(self, x: int) -> bool:\n",
    "        if x < 0: return False\n",
    "\n",
    "        tmp = []\n",
    "        while x != 0:\n",
    "            x, y = divmod(x, 10)\n",
    "            tmp.append(y)\n",
    "            \n",
    "        return tmp == tmp[::-1]\n",
    "\n",
    "\n",
    "Solution.isPalindrome(None, -121), Solution.isPalindrome(None, 121)"
   ]
  }
 ],
 "metadata": {
  "kernelspec": {
   "display_name": "Python 3",
   "language": "python",
   "name": "python3"
  },
  "language_info": {
   "codemirror_mode": {
    "name": "ipython",
    "version": 3
   },
   "file_extension": ".py",
   "mimetype": "text/x-python",
   "name": "python",
   "nbconvert_exporter": "python",
   "pygments_lexer": "ipython3",
   "version": "3.7.6"
  },
  "toc": {
   "base_numbering": 1,
   "nav_menu": {},
   "number_sections": true,
   "sideBar": true,
   "skip_h1_title": false,
   "title_cell": "Table of Contents",
   "title_sidebar": "Contents",
   "toc_cell": false,
   "toc_position": {},
   "toc_section_display": true,
   "toc_window_display": false
  },
  "varInspector": {
   "cols": {
    "lenName": 16,
    "lenType": 16,
    "lenVar": 40
   },
   "kernels_config": {
    "python": {
     "delete_cmd_postfix": "",
     "delete_cmd_prefix": "del ",
     "library": "var_list.py",
     "varRefreshCmd": "print(var_dic_list())"
    },
    "r": {
     "delete_cmd_postfix": ") ",
     "delete_cmd_prefix": "rm(",
     "library": "var_list.r",
     "varRefreshCmd": "cat(var_dic_list()) "
    }
   },
   "types_to_exclude": [
    "module",
    "function",
    "builtin_function_or_method",
    "instance",
    "_Feature"
   ],
   "window_display": false
  }
 },
 "nbformat": 4,
 "nbformat_minor": 4
}
