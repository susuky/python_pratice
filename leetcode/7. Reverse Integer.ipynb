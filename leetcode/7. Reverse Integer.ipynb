{
 "cells": [
  {
   "cell_type": "markdown",
   "metadata": {},
   "source": [
    "Given a 32-bit signed integer, reverse digits of an integer."
   ]
  },
  {
   "cell_type": "code",
   "execution_count": 1,
   "metadata": {
    "ExecuteTime": {
     "end_time": "2020-09-11T05:20:22.342067Z",
     "start_time": "2020-09-11T05:20:22.327040Z"
    }
   },
   "outputs": [
    {
     "data": {
      "text/plain": [
       "(-321, 21)"
      ]
     },
     "execution_count": 1,
     "metadata": {},
     "output_type": "execute_result"
    }
   ],
   "source": [
    "class Solution(object):\n",
    "    def reverse(self, x):\n",
    "        \"\"\"\n",
    "        :type x: int\n",
    "        :rtype: int\n",
    "        \"\"\"\n",
    "        if x == 0: return 0\n",
    "        if x < 0:\n",
    "            x *= -1\n",
    "            sign = -1\n",
    "        else:\n",
    "            sign = 1\n",
    "\n",
    "        tmp = []\n",
    "        while x / 10 != 0:\n",
    "            tmp.append(x % 10)\n",
    "            x = x // 10\n",
    "\n",
    "        a = 0\n",
    "        for i, j in zip(range(len(tmp), 0, -1), range(len(tmp))):\n",
    "            a += 10**(i - 1) * tmp[j]\n",
    "        if a > 2 **31 -1:\n",
    "            return 0\n",
    "        else:\n",
    "            return a * sign\n",
    "\n",
    "\n",
    "Solution.reverse(None, -123), Solution.reverse(None, 120)"
   ]
  },
  {
   "cell_type": "code",
   "execution_count": 2,
   "metadata": {
    "ExecuteTime": {
     "end_time": "2020-09-11T05:20:22.358064Z",
     "start_time": "2020-09-11T05:20:22.343041Z"
    }
   },
   "outputs": [
    {
     "data": {
      "text/plain": [
       "(-321, 21)"
      ]
     },
     "execution_count": 2,
     "metadata": {},
     "output_type": "execute_result"
    }
   ],
   "source": [
    "class Solution(object):\n",
    "    def reverse(self, x):\n",
    "        \"\"\"\n",
    "        :type x: int\n",
    "        :rtype: int\n",
    "        \"\"\"\n",
    "        if x == 0: return 0\n",
    "        if x < 0:\n",
    "            x *= -1\n",
    "            sign = -1\n",
    "        else:\n",
    "            sign = 1\n",
    "\n",
    "        tmp = [int(i) for i in reversed(str(x))]\n",
    "\n",
    "        a = 0\n",
    "        for i, j in zip(range(len(tmp), 0, -1), range(len(tmp))):\n",
    "            a += 10**(i - 1) * tmp[j]\n",
    "        if a > 2 **31 -1:\n",
    "            return 0\n",
    "        else:\n",
    "            return a * sign\n",
    "\n",
    "Solution.reverse(None, -123), Solution.reverse(None, 120)"
   ]
  },
  {
   "cell_type": "code",
   "execution_count": 3,
   "metadata": {
    "ExecuteTime": {
     "end_time": "2020-09-11T05:20:22.374067Z",
     "start_time": "2020-09-11T05:20:22.359038Z"
    }
   },
   "outputs": [
    {
     "data": {
      "text/plain": [
       "(-321, 21)"
      ]
     },
     "execution_count": 3,
     "metadata": {},
     "output_type": "execute_result"
    }
   ],
   "source": [
    "class Solution(object):\n",
    "    def reverse(self, x):\n",
    "        \"\"\"\n",
    "        :type x: int\n",
    "        :rtype: int\n",
    "        \"\"\"\n",
    "        if x > 0:\n",
    "            a = int(str(x)[::-1])\n",
    "        else:\n",
    "            a = -int(str(-x)[::-1])\n",
    "\n",
    "            \n",
    "        if a > 2**31 - 1 or a < -2**31:\n",
    "            return 0\n",
    "        else:\n",
    "            return a\n",
    "\n",
    "\n",
    "Solution.reverse(None, -123), Solution.reverse(None, 120)"
   ]
  },
  {
   "cell_type": "code",
   "execution_count": null,
   "metadata": {},
   "outputs": [],
   "source": []
  }
 ],
 "metadata": {
  "kernelspec": {
   "display_name": "Python 3",
   "language": "python",
   "name": "python3"
  },
  "language_info": {
   "codemirror_mode": {
    "name": "ipython",
    "version": 3
   },
   "file_extension": ".py",
   "mimetype": "text/x-python",
   "name": "python",
   "nbconvert_exporter": "python",
   "pygments_lexer": "ipython3",
   "version": "3.7.6"
  },
  "toc": {
   "base_numbering": 1,
   "nav_menu": {},
   "number_sections": true,
   "sideBar": true,
   "skip_h1_title": false,
   "title_cell": "Table of Contents",
   "title_sidebar": "Contents",
   "toc_cell": false,
   "toc_position": {},
   "toc_section_display": true,
   "toc_window_display": false
  },
  "varInspector": {
   "cols": {
    "lenName": 16,
    "lenType": 16,
    "lenVar": 40
   },
   "kernels_config": {
    "python": {
     "delete_cmd_postfix": "",
     "delete_cmd_prefix": "del ",
     "library": "var_list.py",
     "varRefreshCmd": "print(var_dic_list())"
    },
    "r": {
     "delete_cmd_postfix": ") ",
     "delete_cmd_prefix": "rm(",
     "library": "var_list.r",
     "varRefreshCmd": "cat(var_dic_list()) "
    }
   },
   "types_to_exclude": [
    "module",
    "function",
    "builtin_function_or_method",
    "instance",
    "_Feature"
   ],
   "window_display": false
  }
 },
 "nbformat": 4,
 "nbformat_minor": 4
}
