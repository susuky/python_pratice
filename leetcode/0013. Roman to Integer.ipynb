{
 "cells": [
  {
   "cell_type": "markdown",
   "metadata": {},
   "source": [
    "Given a roman numeral, convert it to an integer. Input is guaranteed to be within the range from 1 to 3999."
   ]
  },
  {
   "cell_type": "code",
   "execution_count": 6,
   "metadata": {
    "ExecuteTime": {
     "end_time": "2020-09-11T08:19:47.347113Z",
     "start_time": "2020-09-11T08:19:47.338114Z"
    }
   },
   "outputs": [
    {
     "data": {
      "text/plain": [
       "(4, 1994)"
      ]
     },
     "execution_count": 6,
     "metadata": {},
     "output_type": "execute_result"
    }
   ],
   "source": [
    "class Solution:\n",
    "    def romanToInt(self, s: str) -> int:\n",
    "        symbol = ['I', 'V', 'X', 'L', 'C', 'D', 'M']\n",
    "        value = [1, 5, 10, 50, 100, 500, 1000]\n",
    "        index = [symbol.index(i) for i in s]\n",
    "\n",
    "        x = 0\n",
    "        lens = len(index)\n",
    "        i = 0\n",
    "        while i + 1 <= lens:\n",
    "            if i + 1 < lens:\n",
    "                if index[i] < index[i + 1]:\n",
    "                    x += value[index[i + 1]] - value[index[i]]\n",
    "                    i += 2\n",
    "                else:\n",
    "                    x += value[index[i]]\n",
    "                    i += 1\n",
    "            else:\n",
    "                x += value[index[i]]\n",
    "                i += 1\n",
    "\n",
    "        return x\n",
    "\n",
    "\n",
    "Solution.romanToInt(None, 'IV'), Solution.romanToInt(None, 'MCMXCIV')"
   ]
  },
  {
   "cell_type": "code",
   "execution_count": null,
   "metadata": {},
   "outputs": [],
   "source": []
  }
 ],
 "metadata": {
  "kernelspec": {
   "display_name": "Python 3",
   "language": "python",
   "name": "python3"
  },
  "language_info": {
   "codemirror_mode": {
    "name": "ipython",
    "version": 3
   },
   "file_extension": ".py",
   "mimetype": "text/x-python",
   "name": "python",
   "nbconvert_exporter": "python",
   "pygments_lexer": "ipython3",
   "version": "3.7.6"
  },
  "toc": {
   "base_numbering": 1,
   "nav_menu": {},
   "number_sections": true,
   "sideBar": true,
   "skip_h1_title": false,
   "title_cell": "Table of Contents",
   "title_sidebar": "Contents",
   "toc_cell": false,
   "toc_position": {},
   "toc_section_display": true,
   "toc_window_display": false
  },
  "varInspector": {
   "cols": {
    "lenName": 16,
    "lenType": 16,
    "lenVar": 40
   },
   "kernels_config": {
    "python": {
     "delete_cmd_postfix": "",
     "delete_cmd_prefix": "del ",
     "library": "var_list.py",
     "varRefreshCmd": "print(var_dic_list())"
    },
    "r": {
     "delete_cmd_postfix": ") ",
     "delete_cmd_prefix": "rm(",
     "library": "var_list.r",
     "varRefreshCmd": "cat(var_dic_list()) "
    }
   },
   "types_to_exclude": [
    "module",
    "function",
    "builtin_function_or_method",
    "instance",
    "_Feature"
   ],
   "window_display": false
  }
 },
 "nbformat": 4,
 "nbformat_minor": 4
}
