{
 "cells": [
  {
   "cell_type": "code",
   "execution_count": 1,
   "metadata": {
    "ExecuteTime": {
     "end_time": "2020-11-11T09:05:29.893169Z",
     "start_time": "2020-11-11T09:05:29.879139Z"
    }
   },
   "outputs": [
    {
     "data": {
      "text/plain": [
       "'bbAa'"
      ]
     },
     "execution_count": 1,
     "metadata": {},
     "output_type": "execute_result"
    }
   ],
   "source": [
    "class Solution:\n",
    "    def frequencySort(self, s: str) -> str:\n",
    "        import numpy as np\n",
    "        dicts = {}\n",
    "        for i in s:\n",
    "            if i not in dicts:\n",
    "                lens = len(s)\n",
    "                s = s.replace(i, '')\n",
    "                dicts[i] = lens - len(s)     \n",
    "                \n",
    "        index = np.argsort([-i for i in dicts.values()])\n",
    "        retn = ''\n",
    "        for i in index:\n",
    "            key = list(dicts)[i]\n",
    "            retn += key*dicts[key]\n",
    "        return retn\n",
    "    \n",
    "Solution.frequencySort(None, \"Aabb\")"
   ]
  },
  {
   "cell_type": "code",
   "execution_count": 2,
   "metadata": {
    "ExecuteTime": {
     "end_time": "2020-11-11T09:06:43.301519Z",
     "start_time": "2020-11-11T09:06:43.283519Z"
    }
   },
   "outputs": [
    {
     "data": {
      "text/plain": [
       "'bbAa'"
      ]
     },
     "execution_count": 2,
     "metadata": {},
     "output_type": "execute_result"
    }
   ],
   "source": [
    "from collections import Counter\n",
    "\n",
    "class Solution:\n",
    "    def frequencySort(self, s: str) -> str:\n",
    "        import numpy as np\n",
    "        dicts = dict(Counter(s))\n",
    "            \n",
    "        index = np.argsort([-i for i in dicts.values()])\n",
    "        retn = ''\n",
    "        for i in index:\n",
    "            key = list(dicts)[i]\n",
    "            retn += key*dicts[key]\n",
    "        return retn\n",
    "    \n",
    "Solution.frequencySort(None, \"Aabb\")"
   ]
  },
  {
   "cell_type": "markdown",
   "metadata": {},
   "source": [
    "import numpy takes a lot of time and memory"
   ]
  },
  {
   "cell_type": "code",
   "execution_count": 4,
   "metadata": {
    "ExecuteTime": {
     "end_time": "2020-11-11T10:36:15.251526Z",
     "start_time": "2020-11-11T10:36:15.237525Z"
    }
   },
   "outputs": [
    {
     "data": {
      "text/plain": [
       "'bbaA'"
      ]
     },
     "execution_count": 4,
     "metadata": {},
     "output_type": "execute_result"
    }
   ],
   "source": [
    "from collections import Counter\n",
    "\n",
    "class Solution:\n",
    "    def frequencySort(self, s: str) -> str:\n",
    "        a = [(j, i) for i, j in Counter(s).items()]\n",
    "        a.sort(reverse=True)\n",
    "            \n",
    "        retn = ''\n",
    "        for j, i in a:\n",
    "            retn += i * j\n",
    "        return retn\n",
    "    \n",
    "Solution.frequencySort(None, \"Aabb\")"
   ]
  },
  {
   "cell_type": "code",
   "execution_count": 5,
   "metadata": {
    "ExecuteTime": {
     "end_time": "2020-11-11T10:39:48.835941Z",
     "start_time": "2020-11-11T10:39:48.825911Z"
    }
   },
   "outputs": [
    {
     "data": {
      "text/plain": [
       "'bbaA'"
      ]
     },
     "execution_count": 5,
     "metadata": {},
     "output_type": "execute_result"
    }
   ],
   "source": [
    "from collections import Counter\n",
    "\n",
    "class Solution:\n",
    "    def frequencySort(self, s: str) -> str:\n",
    "        a = [(j, i) for i, j in Counter(s).items()]\n",
    "        a.sort(reverse=True)\n",
    "        return ''.join(j * i for i, j in a)\n",
    "    \n",
    "Solution.frequencySort(None, \"Aabb\")"
   ]
  },
  {
   "cell_type": "code",
   "execution_count": null,
   "metadata": {},
   "outputs": [],
   "source": []
  }
 ],
 "metadata": {
  "kernelspec": {
   "display_name": "Python 3",
   "language": "python",
   "name": "python3"
  },
  "language_info": {
   "codemirror_mode": {
    "name": "ipython",
    "version": 3
   },
   "file_extension": ".py",
   "mimetype": "text/x-python",
   "name": "python",
   "nbconvert_exporter": "python",
   "pygments_lexer": "ipython3",
   "version": "3.7.6"
  },
  "toc": {
   "base_numbering": 1,
   "nav_menu": {},
   "number_sections": true,
   "sideBar": true,
   "skip_h1_title": false,
   "title_cell": "Table of Contents",
   "title_sidebar": "Contents",
   "toc_cell": false,
   "toc_position": {},
   "toc_section_display": true,
   "toc_window_display": false
  },
  "varInspector": {
   "cols": {
    "lenName": 16,
    "lenType": 16,
    "lenVar": 40
   },
   "kernels_config": {
    "python": {
     "delete_cmd_postfix": "",
     "delete_cmd_prefix": "del ",
     "library": "var_list.py",
     "varRefreshCmd": "print(var_dic_list())"
    },
    "r": {
     "delete_cmd_postfix": ") ",
     "delete_cmd_prefix": "rm(",
     "library": "var_list.r",
     "varRefreshCmd": "cat(var_dic_list()) "
    }
   },
   "types_to_exclude": [
    "module",
    "function",
    "builtin_function_or_method",
    "instance",
    "_Feature"
   ],
   "window_display": false
  }
 },
 "nbformat": 4,
 "nbformat_minor": 4
}
