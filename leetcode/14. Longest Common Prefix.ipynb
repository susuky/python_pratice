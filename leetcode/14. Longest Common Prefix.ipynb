{
 "cells": [
  {
   "cell_type": "markdown",
   "metadata": {},
   "source": [
    "Write a function to find the longest common prefix string amongst an array of strings.\n",
    "\n",
    "If there is no common prefix, return an empty string \"\"."
   ]
  },
  {
   "cell_type": "code",
   "execution_count": 1,
   "metadata": {
    "ExecuteTime": {
     "end_time": "2020-09-11T10:09:08.493268Z",
     "start_time": "2020-09-11T10:09:08.478269Z"
    }
   },
   "outputs": [
    {
     "data": {
      "text/plain": [
       "('fl', '', 'c', '')"
      ]
     },
     "execution_count": 1,
     "metadata": {},
     "output_type": "execute_result"
    }
   ],
   "source": [
    "from typing import List\n",
    "\n",
    "\n",
    "class Solution:\n",
    "    def longestCommonPrefix(self, strs: List[str]) -> str:\n",
    "        if \"\" in strs: return ''\n",
    "        if strs == []: return ''\n",
    "        if len(strs) == 1: return strs[0]\n",
    "\n",
    "        prefix = 1\n",
    "        while 1:\n",
    "\n",
    "            tmp = [s[:prefix] for s in strs]\n",
    "\n",
    "            if len(set(tmp)) == 1:\n",
    "                if prefix == len(strs[0]): return strs[0][:prefix]\n",
    "                prefix += 1\n",
    "            else:\n",
    "                return strs[0][:prefix - 1]\n",
    "\n",
    "\n",
    "(Solution.longestCommonPrefix(None, [\"flower\", \"flow\", \"flight\"]),\n",
    "Solution.longestCommonPrefix(None, [\"dog\", \"racecar\", \"car\"]), \n",
    "Solution.longestCommonPrefix(None, [\"c\", \"c\"]), \n",
    "Solution.longestCommonPrefix(None, [\"aba\", \"cba\"]), \n",
    ")"
   ]
  },
  {
   "cell_type": "code",
   "execution_count": 2,
   "metadata": {
    "ExecuteTime": {
     "end_time": "2020-09-11T10:09:08.509111Z",
     "start_time": "2020-09-11T10:09:08.494270Z"
    }
   },
   "outputs": [
    {
     "data": {
      "text/plain": [
       "('fl', '', 'c', '', '')"
      ]
     },
     "execution_count": 2,
     "metadata": {},
     "output_type": "execute_result"
    }
   ],
   "source": [
    "from typing import List\n",
    "\n",
    "\n",
    "class Solution:\n",
    "    def longestCommonPrefix(self, strs: List[str]) -> str:\n",
    "        if \"\" in strs: return ''\n",
    "        if strs == []: return ''\n",
    "        if len(strs) == 1: return strs[0]\n",
    "\n",
    "        sample = min(strs, key=len)\n",
    "        strs.remove(sample)        \n",
    "        \n",
    "        prefix = 0\n",
    "        count = 0\n",
    "        lens = len(strs)\n",
    "        break_flag = False\n",
    "        \n",
    "        for i in range(len(sample)):\n",
    "            for s in strs:\n",
    "                if sample[i] == s[i]:\n",
    "                    count += 1\n",
    "                    if count == lens:\n",
    "                        prefix += 1\n",
    "                        count = 0\n",
    "                else:\n",
    "                    break_flag = True\n",
    "                    break\n",
    "            if break_flag: break\n",
    "        return sample[:prefix]\n",
    "\n",
    "\n",
    "(Solution.longestCommonPrefix(None, [\"flower\", \"flow\", \"flight\"]),\n",
    "Solution.longestCommonPrefix(None, [\"dog\", \"racecar\", \"car\"]), \n",
    "Solution.longestCommonPrefix(None, [\"c\", \"c\"]), \n",
    "Solution.longestCommonPrefix(None, [\"aba\", \"cba\"]),\n",
    "Solution.longestCommonPrefix(None, ['']), \n",
    ")"
   ]
  },
  {
   "cell_type": "code",
   "execution_count": null,
   "metadata": {},
   "outputs": [],
   "source": []
  }
 ],
 "metadata": {
  "kernelspec": {
   "display_name": "Python 3",
   "language": "python",
   "name": "python3"
  },
  "language_info": {
   "codemirror_mode": {
    "name": "ipython",
    "version": 3
   },
   "file_extension": ".py",
   "mimetype": "text/x-python",
   "name": "python",
   "nbconvert_exporter": "python",
   "pygments_lexer": "ipython3",
   "version": "3.7.6"
  },
  "toc": {
   "base_numbering": 1,
   "nav_menu": {},
   "number_sections": true,
   "sideBar": true,
   "skip_h1_title": false,
   "title_cell": "Table of Contents",
   "title_sidebar": "Contents",
   "toc_cell": false,
   "toc_position": {},
   "toc_section_display": true,
   "toc_window_display": false
  },
  "varInspector": {
   "cols": {
    "lenName": 16,
    "lenType": 16,
    "lenVar": 40
   },
   "kernels_config": {
    "python": {
     "delete_cmd_postfix": "",
     "delete_cmd_prefix": "del ",
     "library": "var_list.py",
     "varRefreshCmd": "print(var_dic_list())"
    },
    "r": {
     "delete_cmd_postfix": ") ",
     "delete_cmd_prefix": "rm(",
     "library": "var_list.r",
     "varRefreshCmd": "cat(var_dic_list()) "
    }
   },
   "types_to_exclude": [
    "module",
    "function",
    "builtin_function_or_method",
    "instance",
    "_Feature"
   ],
   "window_display": false
  }
 },
 "nbformat": 4,
 "nbformat_minor": 4
}
