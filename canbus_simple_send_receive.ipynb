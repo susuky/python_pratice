{
 "cells": [
  {
   "cell_type": "code",
   "execution_count": null,
   "metadata": {
    "ExecuteTime": {
     "end_time": "2020-05-07T12:54:54.590880Z",
     "start_time": "2020-05-07T12:54:54.580401Z"
    }
   },
   "outputs": [],
   "source": [
    "# bus = can.interface.Bus(bustype='ixxat', channel=0, bitrate=250000)"
   ]
  },
  {
   "cell_type": "code",
   "execution_count": 1,
   "metadata": {
    "ExecuteTime": {
     "end_time": "2020-05-07T14:23:45.544668Z",
     "start_time": "2020-05-07T14:23:45.315578Z"
    }
   },
   "outputs": [],
   "source": [
    "import can\n",
    "import numpy as np\n",
    "import time"
   ]
  },
  {
   "cell_type": "code",
   "execution_count": 2,
   "metadata": {
    "ExecuteTime": {
     "end_time": "2020-05-07T14:23:45.612948Z",
     "start_time": "2020-05-07T14:23:45.606964Z"
    },
    "code_folding": []
   },
   "outputs": [
    {
     "name": "stdout",
     "output_type": "stream",
     "text": [
      "[0, 2, 5, 255, 100, 7, 8, 9, 10, 11] bytearray(b'\\x00\\x02\\x05\\xffd\\x07\\x08\\t\\n\\x0b') 10\n"
     ]
    }
   ],
   "source": [
    "# create 2 virtual bus\n",
    "bus1 = can.interface.Bus('test', bustype='virtual')\n",
    "bus2 = can.interface.Bus('test', bustype='virtual')\n",
    "\n",
    "# create message\n",
    "data = [0, 2, 5, 255, 100, 7, 8, 9, 10, 11]  # can only in range(0, 256)\n",
    "msg1 = can.Message(data=data)\n",
    "# bus1 send, bus2 receive\n",
    "bus1.send(msg1)\n",
    "msg2 = bus2.recv()\n",
    "assert msg1.data == msg2.data\n",
    "print(list(msg2.data), msg2.data, msg2.dlc)\n",
    "\n",
    "\n",
    "\n",
    "bus1.send(msg1)\n",
    "\n",
    "# keep listen\n",
    "for msg in bus2:\n",
    "    pass\n",
    "\n",
    "    break  # if don't have this line, for loop would not break"
   ]
  },
  {
   "cell_type": "code",
   "execution_count": null,
   "metadata": {},
   "outputs": [],
   "source": []
  }
 ],
 "metadata": {
  "kernelspec": {
   "display_name": "Python 3",
   "language": "python",
   "name": "python3"
  },
  "language_info": {
   "codemirror_mode": {
    "name": "ipython",
    "version": 3
   },
   "file_extension": ".py",
   "mimetype": "text/x-python",
   "name": "python",
   "nbconvert_exporter": "python",
   "pygments_lexer": "ipython3",
   "version": "3.7.6"
  },
  "toc": {
   "base_numbering": 1,
   "nav_menu": {},
   "number_sections": true,
   "sideBar": true,
   "skip_h1_title": false,
   "title_cell": "Table of Contents",
   "title_sidebar": "Contents",
   "toc_cell": false,
   "toc_position": {},
   "toc_section_display": true,
   "toc_window_display": false
  },
  "varInspector": {
   "cols": {
    "lenName": 16,
    "lenType": 16,
    "lenVar": 40
   },
   "kernels_config": {
    "python": {
     "delete_cmd_postfix": "",
     "delete_cmd_prefix": "del ",
     "library": "var_list.py",
     "varRefreshCmd": "print(var_dic_list())"
    },
    "r": {
     "delete_cmd_postfix": ") ",
     "delete_cmd_prefix": "rm(",
     "library": "var_list.r",
     "varRefreshCmd": "cat(var_dic_list()) "
    }
   },
   "types_to_exclude": [
    "module",
    "function",
    "builtin_function_or_method",
    "instance",
    "_Feature"
   ],
   "window_display": false
  }
 },
 "nbformat": 4,
 "nbformat_minor": 4
}
