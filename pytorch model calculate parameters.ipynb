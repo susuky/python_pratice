{
 "cells": [
  {
   "cell_type": "code",
   "execution_count": 1,
   "metadata": {
    "ExecuteTime": {
     "end_time": "2020-06-19T06:52:34.751292Z",
     "start_time": "2020-06-19T06:52:34.464637Z"
    }
   },
   "outputs": [],
   "source": [
    "import torch.nn as nn"
   ]
  },
  {
   "cell_type": "code",
   "execution_count": 2,
   "metadata": {
    "ExecuteTime": {
     "end_time": "2020-06-19T06:52:34.754303Z",
     "start_time": "2020-06-19T06:52:34.752272Z"
    }
   },
   "outputs": [],
   "source": [
    "def cal_params(model):\n",
    "    params = list(model.parameters())\n",
    "    params_num = sum(param.numel() for param in params if param.requires_grad)\n",
    "    print(f'Number of parameters: {params_num}')"
   ]
  },
  {
   "cell_type": "code",
   "execution_count": 3,
   "metadata": {
    "ExecuteTime": {
     "end_time": "2020-06-19T06:52:34.763300Z",
     "start_time": "2020-06-19T06:52:34.755273Z"
    },
    "code_folding": [
     0,
     11,
     21
    ]
   },
   "outputs": [],
   "source": [
    "class Conv_Block(nn.Module):\n",
    "    def __init__(self, in_dim, out_dim):\n",
    "        super(Conv_Block, self).__init__()\n",
    "        self.conv_block = nn.Sequential(nn.Conv2d(in_dim, out_dim, 3),\n",
    "                                        nn.ReLU(), nn.BatchNorm2d(out_dim),\n",
    "                                        nn.MaxPool2d(2, 2))\n",
    "\n",
    "    def forward(self, x):\n",
    "        return self.conv_block(x)\n",
    "\n",
    "\n",
    "class Linear_Block(nn.Module):\n",
    "    def __init__(self, in_dim, out_dim):\n",
    "        super(Linear_Block, self).__init__()\n",
    "        self.linear_block = nn.Sequential(nn.Linear(in_dim, out_dim),\n",
    "                                          nn.ReLU(), nn.BatchNorm1d(out_dim))\n",
    "\n",
    "    def forward(self, x):\n",
    "        return self.linear_block(x)\n",
    "\n",
    "\n",
    "class Net(nn.Module):\n",
    "    def __init__(self):\n",
    "        super(Net, self).__init__()\n",
    "        self.conv_net = nn.Sequential(Conv_Block(3, 8), \n",
    "                                      Conv_Block(8, 16),\n",
    "                                      Conv_Block(16, 32))\n",
    "\n",
    "        self.mlp = nn.Sequential(Linear_Block(32 * 2 * 2, 128),\n",
    "                                 Linear_Block(128, 128), \n",
    "                                 nn.Linear(128, 10))\n",
    "\n",
    "    def forward(self, x):\n",
    "        x = self.conv_net(x)\n",
    "        x = nn.AdaptiveAvgPool2d(2)(x)\n",
    "        x = x.view(-1, 32 * 2 * 2)\n",
    "        x = self.mlp(x)\n",
    "        return x"
   ]
  },
  {
   "cell_type": "code",
   "execution_count": 4,
   "metadata": {
    "ExecuteTime": {
     "end_time": "2020-06-19T06:52:34.770306Z",
     "start_time": "2020-06-19T06:52:34.764271Z"
    }
   },
   "outputs": [],
   "source": [
    "model = Net()"
   ]
  },
  {
   "cell_type": "code",
   "execution_count": 5,
   "metadata": {
    "ExecuteTime": {
     "end_time": "2020-06-19T06:52:34.774359Z",
     "start_time": "2020-06-19T06:52:34.771358Z"
    }
   },
   "outputs": [
    {
     "name": "stdout",
     "output_type": "stream",
     "text": [
      "Number of parameters: 40970\n"
     ]
    }
   ],
   "source": [
    "cal_params(model)"
   ]
  },
  {
   "cell_type": "code",
   "execution_count": null,
   "metadata": {},
   "outputs": [],
   "source": []
  }
 ],
 "metadata": {
  "kernelspec": {
   "display_name": "Python 3",
   "language": "python",
   "name": "python3"
  },
  "language_info": {
   "codemirror_mode": {
    "name": "ipython",
    "version": 3
   },
   "file_extension": ".py",
   "mimetype": "text/x-python",
   "name": "python",
   "nbconvert_exporter": "python",
   "pygments_lexer": "ipython3",
   "version": "3.7.6"
  },
  "toc": {
   "base_numbering": 1,
   "nav_menu": {},
   "number_sections": true,
   "sideBar": true,
   "skip_h1_title": false,
   "title_cell": "Table of Contents",
   "title_sidebar": "Contents",
   "toc_cell": false,
   "toc_position": {},
   "toc_section_display": true,
   "toc_window_display": false
  },
  "varInspector": {
   "cols": {
    "lenName": 16,
    "lenType": 16,
    "lenVar": 40
   },
   "kernels_config": {
    "python": {
     "delete_cmd_postfix": "",
     "delete_cmd_prefix": "del ",
     "library": "var_list.py",
     "varRefreshCmd": "print(var_dic_list())"
    },
    "r": {
     "delete_cmd_postfix": ") ",
     "delete_cmd_prefix": "rm(",
     "library": "var_list.r",
     "varRefreshCmd": "cat(var_dic_list()) "
    }
   },
   "types_to_exclude": [
    "module",
    "function",
    "builtin_function_or_method",
    "instance",
    "_Feature"
   ],
   "window_display": false
  }
 },
 "nbformat": 4,
 "nbformat_minor": 4
}
